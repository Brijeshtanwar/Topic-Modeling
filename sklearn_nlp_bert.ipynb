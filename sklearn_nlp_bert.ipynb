{
  "cells": [
    {
      "cell_type": "markdown",
      "metadata": {
        "id": "view-in-github",
        "colab_type": "text"
      },
      "source": [
        "<a href=\"https://colab.research.google.com/github/Brijeshtanwar/Topic-Modeling/blob/main/sklearn_nlp_bert.ipynb\" target=\"_parent\"><img src=\"https://colab.research.google.com/assets/colab-badge.svg\" alt=\"Open In Colab\"/></a>"
      ]
    },
    {
      "cell_type": "code",
      "source": [
        "!pip install transformers"
      ],
      "metadata": {
        "colab": {
          "base_uri": "https://localhost:8080/"
        },
        "id": "tBqaKS7wSVrI",
        "outputId": "40e72700-44e5-4cd2-bee3-3773d9209a25"
      },
      "execution_count": 2,
      "outputs": [
        {
          "output_type": "stream",
          "name": "stdout",
          "text": [
            "Looking in indexes: https://pypi.org/simple, https://us-python.pkg.dev/colab-wheels/public/simple/\n",
            "Collecting transformers\n",
            "  Downloading transformers-4.29.1-py3-none-any.whl (7.1 MB)\n",
            "\u001b[2K     \u001b[90m━━━━━━━━━━━━━━━━━━━━━━━━━━━━━━━━━━━━━━━━\u001b[0m \u001b[32m7.1/7.1 MB\u001b[0m \u001b[31m46.7 MB/s\u001b[0m eta \u001b[36m0:00:00\u001b[0m\n",
            "\u001b[?25hRequirement already satisfied: filelock in /usr/local/lib/python3.10/dist-packages (from transformers) (3.12.0)\n",
            "Collecting huggingface-hub<1.0,>=0.14.1 (from transformers)\n",
            "  Downloading huggingface_hub-0.14.1-py3-none-any.whl (224 kB)\n",
            "\u001b[2K     \u001b[90m━━━━━━━━━━━━━━━━━━━━━━━━━━━━━━━━━━━━━━\u001b[0m \u001b[32m224.5/224.5 kB\u001b[0m \u001b[31m24.4 MB/s\u001b[0m eta \u001b[36m0:00:00\u001b[0m\n",
            "\u001b[?25hRequirement already satisfied: numpy>=1.17 in /usr/local/lib/python3.10/dist-packages (from transformers) (1.22.4)\n",
            "Requirement already satisfied: packaging>=20.0 in /usr/local/lib/python3.10/dist-packages (from transformers) (23.1)\n",
            "Requirement already satisfied: pyyaml>=5.1 in /usr/local/lib/python3.10/dist-packages (from transformers) (6.0)\n",
            "Requirement already satisfied: regex!=2019.12.17 in /usr/local/lib/python3.10/dist-packages (from transformers) (2022.10.31)\n",
            "Requirement already satisfied: requests in /usr/local/lib/python3.10/dist-packages (from transformers) (2.27.1)\n",
            "Collecting tokenizers!=0.11.3,<0.14,>=0.11.1 (from transformers)\n",
            "  Downloading tokenizers-0.13.3-cp310-cp310-manylinux_2_17_x86_64.manylinux2014_x86_64.whl (7.8 MB)\n",
            "\u001b[2K     \u001b[90m━━━━━━━━━━━━━━━━━━━━━━━━━━━━━━━━━━━━━━━━\u001b[0m \u001b[32m7.8/7.8 MB\u001b[0m \u001b[31m96.6 MB/s\u001b[0m eta \u001b[36m0:00:00\u001b[0m\n",
            "\u001b[?25hRequirement already satisfied: tqdm>=4.27 in /usr/local/lib/python3.10/dist-packages (from transformers) (4.65.0)\n",
            "Requirement already satisfied: fsspec in /usr/local/lib/python3.10/dist-packages (from huggingface-hub<1.0,>=0.14.1->transformers) (2023.4.0)\n",
            "Requirement already satisfied: typing-extensions>=3.7.4.3 in /usr/local/lib/python3.10/dist-packages (from huggingface-hub<1.0,>=0.14.1->transformers) (4.5.0)\n",
            "Requirement already satisfied: urllib3<1.27,>=1.21.1 in /usr/local/lib/python3.10/dist-packages (from requests->transformers) (1.26.15)\n",
            "Requirement already satisfied: certifi>=2017.4.17 in /usr/local/lib/python3.10/dist-packages (from requests->transformers) (2022.12.7)\n",
            "Requirement already satisfied: charset-normalizer~=2.0.0 in /usr/local/lib/python3.10/dist-packages (from requests->transformers) (2.0.12)\n",
            "Requirement already satisfied: idna<4,>=2.5 in /usr/local/lib/python3.10/dist-packages (from requests->transformers) (3.4)\n",
            "Installing collected packages: tokenizers, huggingface-hub, transformers\n",
            "Successfully installed huggingface-hub-0.14.1 tokenizers-0.13.3 transformers-4.29.1\n"
          ]
        }
      ]
    },
    {
      "cell_type": "code",
      "source": [
        "import torch\n",
        "from tqdm.notebook import tqdm\n",
        "\n",
        "from transformers import BertTokenizer\n",
        "from torch.utils.data import TensorDataset\n",
        "\n",
        "from transformers import BertForSequenceClassification"
      ],
      "metadata": {
        "id": "vKOJyL1uSJll"
      },
      "execution_count": 3,
      "outputs": []
    },
    {
      "cell_type": "code",
      "source": [
        "import pandas as pd\n",
        "import numpy as np\n",
        "from matplotlib import pyplot as plt\n",
        "import seaborn as sns"
      ],
      "metadata": {
        "id": "NllHrfV1SwVB"
      },
      "execution_count": 21,
      "outputs": []
    },
    {
      "cell_type": "code",
      "source": [
        "url = \"\"\"https://raw.githubusercontent.com/Brijeshtanwar/Topic-Modeling/main/voc_data.csv\"\"\"\n",
        "df = pd.read_csv(url,  encoding = 'unicode_escape')"
      ],
      "metadata": {
        "id": "y0eKOcmADPRR"
      },
      "execution_count": 7,
      "outputs": []
    },
    {
      "cell_type": "code",
      "source": [
        "df = df[['CUSTOMER COMMENT', 'Reason']]\n",
        "df.columns = ['comment', 'topic']"
      ],
      "metadata": {
        "id": "CfnLvrmwDTYs"
      },
      "execution_count": 8,
      "outputs": []
    },
    {
      "cell_type": "code",
      "source": [
        "df.isnull().sum()"
      ],
      "metadata": {
        "colab": {
          "base_uri": "https://localhost:8080/"
        },
        "id": "TAVmaIbaGJ7Q",
        "outputId": "cf161156-24af-4311-8eb6-03ecbaf6cfeb"
      },
      "execution_count": 9,
      "outputs": [
        {
          "output_type": "execute_result",
          "data": {
            "text/plain": [
              "comment    0\n",
              "topic      0\n",
              "dtype: int64"
            ]
          },
          "metadata": {},
          "execution_count": 9
        }
      ]
    },
    {
      "cell_type": "code",
      "source": [
        "# Drop na \n",
        "df.dropna(axis=0, inplace=True)"
      ],
      "metadata": {
        "id": "mE7XJr2XGNut"
      },
      "execution_count": 10,
      "outputs": []
    },
    {
      "cell_type": "code",
      "execution_count": 11,
      "metadata": {
        "colab": {
          "base_uri": "https://localhost:8080/"
        },
        "id": "Y5REI-pmCpf4",
        "outputId": "6f82bb1b-13f7-42a1-d7d1-0e95b4c84c36"
      },
      "outputs": [
        {
          "output_type": "execute_result",
          "data": {
            "text/plain": [
              "Service                      1570\n",
              "APPLICATION (WEB/APP)        1074\n",
              "SERVICE                       335\n",
              "CHARGES(BRO./DP/LPC ETC.)     332\n",
              "Others                        321\n",
              "NOT SPECIFIED                 254\n",
              "Not Specified                 216\n",
              "People                        113\n",
              "Process                        69\n",
              "PEOPLE                         32\n",
              "Product                        13\n",
              "PROCESS                         6\n",
              "Name: topic, dtype: int64"
            ]
          },
          "metadata": {},
          "execution_count": 11
        }
      ],
      "source": [
        "df.topic.value_counts()"
      ]
    },
    {
      "cell_type": "code",
      "source": [
        "#lower case\n",
        "df['topic'] = df['topic'].str.lower()\n",
        "df['topic'] = df['topic'].str.strip()\n",
        "df.loc[df.topic=='not specified', 'topic'] = 'others'"
      ],
      "metadata": {
        "id": "-7oI5-ss3f94"
      },
      "execution_count": 12,
      "outputs": []
    },
    {
      "cell_type": "code",
      "source": [
        "df.topic.unique()"
      ],
      "metadata": {
        "colab": {
          "base_uri": "https://localhost:8080/"
        },
        "id": "W_rDJJa_0RyS",
        "outputId": "48c6b700-5737-4d2d-9dbc-7879ff3c0b93"
      },
      "execution_count": 13,
      "outputs": [
        {
          "output_type": "execute_result",
          "data": {
            "text/plain": [
              "array(['service', 'application (web/app)', 'others',\n",
              "       'charges(bro./dp/lpc etc.)', 'process', 'people', 'product'],\n",
              "      dtype=object)"
            ]
          },
          "metadata": {},
          "execution_count": 13
        }
      ]
    },
    {
      "cell_type": "code",
      "source": [
        "topic_dic = {'application (web/app)': 'application',  'charges(bro./dp/lpc etc.)': 'charges', 'service':'service'\n",
        ", 'others':'others', 'process':'process', 'people':'people', 'product':'product'}"
      ],
      "metadata": {
        "id": "hsvhUkey0EN3"
      },
      "execution_count": 14,
      "outputs": []
    },
    {
      "cell_type": "code",
      "source": [
        "df['topic'] = df['topic'].map(topic_dic)"
      ],
      "metadata": {
        "id": "aIG2L6LM0hS9"
      },
      "execution_count": 15,
      "outputs": []
    },
    {
      "cell_type": "code",
      "source": [
        "plt.figure(figsize=[8,4])\n",
        "sns.countplot(y=df['topic'])"
      ],
      "metadata": {
        "colab": {
          "base_uri": "https://localhost:8080/",
          "height": 405
        },
        "id": "MubvvVlLGUwu",
        "outputId": "83b78f06-5b8e-46da-89c2-d466f9d38f5a"
      },
      "execution_count": 22,
      "outputs": [
        {
          "output_type": "execute_result",
          "data": {
            "text/plain": [
              "<Axes: xlabel='count', ylabel='topic'>"
            ]
          },
          "metadata": {},
          "execution_count": 22
        },
        {
          "output_type": "display_data",
          "data": {
            "text/plain": [
              "<Figure size 800x400 with 1 Axes>"
            ],
            "image/png": "[encoded data removed]"
          },
          "metadata": {}
        }
      ]
    },
    {
      "cell_type": "code",
      "source": [
        "# Preprocessing"
      ],
      "metadata": {
        "id": "s9NvV_7aGc7j"
      },
      "execution_count": 23,
      "outputs": []
    },
    {
      "cell_type": "code",
      "execution_count": 24,
      "metadata": {
        "id": "MhJ1E9y2Cpf5"
      },
      "outputs": [],
      "source": [
        "# Remove integer comments\n",
        "df = df[df['comment'].apply(lambda x: not isinstance(x, int))]\n",
        "df.reset_index(drop=True, inplace=True)\n",
        "\n",
        "#lower case\n",
        "df['comment'] = df['comment'].str.lower()"
      ]
    },
    {
      "cell_type": "code",
      "source": [
        "import re"
      ],
      "metadata": {
        "id": "GrHW0ZLXTm1a"
      },
      "execution_count": 32,
      "outputs": []
    },
    {
      "cell_type": "code",
      "source": [
        "def preprocess_text(text):\n",
        "    ## clean (convert to lowercase and remove punctuations and  characters and then strip)\n",
        "    text = re.sub(r\"[^A-Za-z]+\", ' ' , str(text).lower().strip())\n",
        "    return text"
      ],
      "metadata": {
        "id": "uWknRVTUhGzl"
      },
      "execution_count": 33,
      "outputs": []
    },
    {
      "cell_type": "code",
      "source": [
        "df[\"x\"] = df[\"comment\"].apply(lambda x: preprocess_text(x))\n",
        "# df['x'] = df['comment']\n",
        "df['y'] = df['topic']\n",
        "df.head(10)"
      ],
      "metadata": {
        "id": "iUEFP_HchGwG",
        "outputId": "08f87fae-915b-4880-a567-850ecfb20dad",
        "colab": {
          "base_uri": "https://localhost:8080/",
          "height": 363
        }
      },
      "execution_count": 34,
      "outputs": [
        {
          "output_type": "execute_result",
          "data": {
            "text/plain": [
              "                                             comment        topic  \\\n",
              "0  querries where kotak is at disadvantageous pos...      service   \n",
              "1  1) same-day money deduction even if we have ma...  application   \n",
              "2                                         ndejjejdjx       others   \n",
              "3                              worst website trading  application   \n",
              "4  no technical support at real time, application...      service   \n",
              "5               need knowledge and experience person      service   \n",
              "6  please revisit my brokerage and deemat charges...      charges   \n",
              "7  iâm waiting for resolution or a meeting with...      service   \n",
              "8  i dint interacted so my rating may be a bias b...      service   \n",
              "9                              no issues with the rm      service   \n",
              "\n",
              "                                                   x            y  \n",
              "0  querries where kotak is at disadvantageous pos...      service  \n",
              "1  same day money deduction even if we have margi...  application  \n",
              "2                                         ndejjejdjx       others  \n",
              "3                              worst website trading  application  \n",
              "4  no technical support at real time application ...      service  \n",
              "5               need knowledge and experience person      service  \n",
              "6  please revisit my brokerage and deemat charges...      charges  \n",
              "7  i m waiting for resolution or a meeting with m...      service  \n",
              "8  i dint interacted so my rating may be a bias b...      service  \n",
              "9                              no issues with the rm      service  "
            ],
            "text/html": [
              "\n",
              "  <div id=\"df-b7f5d4cd-f6a9-4f9c-9bfc-6e37ccbf9958\">\n",
              "    <div class=\"colab-df-container\">\n",
              "      <div>\n",
              "<style scoped>\n",
              "    .dataframe tbody tr th:only-of-type {\n",
              "        vertical-align: middle;\n",
              "    }\n",
              "\n",
              "    .dataframe tbody tr th {\n",
              "        vertical-align: top;\n",
              "    }\n",
              "\n",
              "    .dataframe thead th {\n",
              "        text-align: right;\n",
              "    }\n",
              "</style>\n",
              "<table border=\"1\" class=\"dataframe\">\n",
              "  <thead>\n",
              "    <tr style=\"text-align: right;\">\n",
              "      <th></th>\n",
              "      <th>comment</th>\n",
              "      <th>topic</th>\n",
              "      <th>x</th>\n",
              "      <th>y</th>\n",
              "    </tr>\n",
              "  </thead>\n",
              "  <tbody>\n",
              "    <tr>\n",
              "      <th>0</th>\n",
              "      <td>querries where kotak is at disadvantageous pos...</td>\n",
              "      <td>service</td>\n",
              "      <td>querries where kotak is at disadvantageous pos...</td>\n",
              "      <td>service</td>\n",
              "    </tr>\n",
              "    <tr>\n",
              "      <th>1</th>\n",
              "      <td>1) same-day money deduction even if we have ma...</td>\n",
              "      <td>application</td>\n",
              "      <td>same day money deduction even if we have margi...</td>\n",
              "      <td>application</td>\n",
              "    </tr>\n",
              "    <tr>\n",
              "      <th>2</th>\n",
              "      <td>ndejjejdjx</td>\n",
              "      <td>others</td>\n",
              "      <td>ndejjejdjx</td>\n",
              "      <td>others</td>\n",
              "    </tr>\n",
              "    <tr>\n",
              "      <th>3</th>\n",
              "      <td>worst website trading</td>\n",
              "      <td>application</td>\n",
              "      <td>worst website trading</td>\n",
              "      <td>application</td>\n",
              "    </tr>\n",
              "    <tr>\n",
              "      <th>4</th>\n",
              "      <td>no technical support at real time, application...</td>\n",
              "      <td>service</td>\n",
              "      <td>no technical support at real time application ...</td>\n",
              "      <td>service</td>\n",
              "    </tr>\n",
              "    <tr>\n",
              "      <th>5</th>\n",
              "      <td>need knowledge and experience person</td>\n",
              "      <td>service</td>\n",
              "      <td>need knowledge and experience person</td>\n",
              "      <td>service</td>\n",
              "    </tr>\n",
              "    <tr>\n",
              "      <th>6</th>\n",
              "      <td>please revisit my brokerage and deemat charges...</td>\n",
              "      <td>charges</td>\n",
              "      <td>please revisit my brokerage and deemat charges...</td>\n",
              "      <td>charges</td>\n",
              "    </tr>\n",
              "    <tr>\n",
              "      <th>7</th>\n",
              "      <td>iâm waiting for resolution or a meeting with...</td>\n",
              "      <td>service</td>\n",
              "      <td>i m waiting for resolution or a meeting with m...</td>\n",
              "      <td>service</td>\n",
              "    </tr>\n",
              "    <tr>\n",
              "      <th>8</th>\n",
              "      <td>i dint interacted so my rating may be a bias b...</td>\n",
              "      <td>service</td>\n",
              "      <td>i dint interacted so my rating may be a bias b...</td>\n",
              "      <td>service</td>\n",
              "    </tr>\n",
              "    <tr>\n",
              "      <th>9</th>\n",
              "      <td>no issues with the rm</td>\n",
              "      <td>service</td>\n",
              "      <td>no issues with the rm</td>\n",
              "      <td>service</td>\n",
              "    </tr>\n",
              "  </tbody>\n",
              "</table>\n",
              "</div>\n",
              "      <button class=\"colab-df-convert\" onclick=\"convertToInteractive('df-b7f5d4cd-f6a9-4f9c-9bfc-6e37ccbf9958')\"\n",
              "              title=\"Convert this dataframe to an interactive table.\"\n",
              "              style=\"display:none;\">\n",
              "        \n",
              "  <svg xmlns=\"http://www.w3.org/2000/svg\" height=\"24px\"viewBox=\"0 0 24 24\"\n",
              "       width=\"24px\">\n",
              "    <path d=\"M0 0h24v24H0V0z\" fill=\"none\"/>\n",
              "    <path d=\"M18.56 5.44l.94 2.06.94-2.06 2.06-.94-2.06-.94-.94-2.06-.94 2.06-2.06.94zm-11 1L8.5 8.5l.94-2.06 2.06-.94-2.06-.94L8.5 2.5l-.94 2.06-2.06.94zm10 10l.94 2.06.94-2.06 2.06-.94-2.06-.94-.94-2.06-.94 2.06-2.06.94z\"/><path d=\"M17.41 7.96l-1.37-1.37c-.4-.4-.92-.59-1.43-.59-.52 0-1.04.2-1.43.59L10.3 9.45l-7.72 7.72c-.78.78-.78 2.05 0 2.83L4 21.41c.39.39.9.59 1.41.59.51 0 1.02-.2 1.41-.59l7.78-7.78 2.81-2.81c.8-.78.8-2.07 0-2.86zM5.41 20L4 18.59l7.72-7.72 1.47 1.35L5.41 20z\"/>\n",
              "  </svg>\n",
              "      </button>\n",
              "      \n",
              "  <style>\n",
              "    .colab-df-container {\n",
              "      display:flex;\n",
              "      flex-wrap:wrap;\n",
              "      gap: 12px;\n",
              "    }\n",
              "\n",
              "    .colab-df-convert {\n",
              "      background-color: #E8F0FE;\n",
              "      border: none;\n",
              "      border-radius: 50%;\n",
              "      cursor: pointer;\n",
              "      display: none;\n",
              "      fill: #1967D2;\n",
              "      height: 32px;\n",
              "      padding: 0 0 0 0;\n",
              "      width: 32px;\n",
              "    }\n",
              "\n",
              "    .colab-df-convert:hover {\n",
              "      background-color: #E2EBFA;\n",
              "      box-shadow: 0px 1px 2px rgba(60, 64, 67, 0.3), 0px 1px 3px 1px rgba(60, 64, 67, 0.15);\n",
              "      fill: #174EA6;\n",
              "    }\n",
              "\n",
              "    [theme=dark] .colab-df-convert {\n",
              "      background-color: #3B4455;\n",
              "      fill: #D2E3FC;\n",
              "    }\n",
              "\n",
              "    [theme=dark] .colab-df-convert:hover {\n",
              "      background-color: #434B5C;\n",
              "      box-shadow: 0px 1px 3px 1px rgba(0, 0, 0, 0.15);\n",
              "      filter: drop-shadow(0px 1px 2px rgba(0, 0, 0, 0.3));\n",
              "      fill: #FFFFFF;\n",
              "    }\n",
              "  </style>\n",
              "\n",
              "      <script>\n",
              "        const buttonEl =\n",
              "          document.querySelector('#df-b7f5d4cd-f6a9-4f9c-9bfc-6e37ccbf9958 button.colab-df-convert');\n",
              "        buttonEl.style.display =\n",
              "          google.colab.kernel.accessAllowed ? 'block' : 'none';\n",
              "\n",
              "        async function convertToInteractive(key) {\n",
              "          const element = document.querySelector('#df-b7f5d4cd-f6a9-4f9c-9bfc-6e37ccbf9958');\n",
              "          const dataTable =\n",
              "            await google.colab.kernel.invokeFunction('convertToInteractive',\n",
              "                                                     [key], {});\n",
              "          if (!dataTable) return;\n",
              "\n",
              "          const docLinkHtml = 'Like what you see? Visit the ' +\n",
              "            '<a target=\"_blank\" href=https://colab.research.google.com/notebooks/data_table.ipynb>data table notebook</a>'\n",
              "            + ' to learn more about interactive tables.';\n",
              "          element.innerHTML = '';\n",
              "          dataTable['output_type'] = 'display_data';\n",
              "          await google.colab.output.renderOutput(dataTable, element);\n",
              "          const docLink = document.createElement('div');\n",
              "          docLink.innerHTML = docLinkHtml;\n",
              "          element.appendChild(docLink);\n",
              "        }\n",
              "      </script>\n",
              "    </div>\n",
              "  </div>\n",
              "  "
            ]
          },
          "metadata": {},
          "execution_count": 34
        }
      ]
    },
    {
      "cell_type": "code",
      "source": [
        "df = df[['x', 'y']]"
      ],
      "metadata": {
        "id": "wpOehiWSN5eu"
      },
      "execution_count": 35,
      "outputs": []
    },
    {
      "cell_type": "code",
      "source": [
        "# Dict for classes\n",
        "df['category_id'] = df['y'].factorize()[0]\n",
        "category_id_df = df[['y', 'category_id']].drop_duplicates().sort_values('category_id')\n",
        "category_to_id = dict(category_id_df.values)\n",
        "id_to_category = dict(category_id_df[['category_id', 'y']].values)"
      ],
      "metadata": {
        "id": "79OdM9QeYF5l"
      },
      "execution_count": 37,
      "outputs": []
    },
    {
      "cell_type": "code",
      "source": [
        "from sklearn.model_selection import train_test_split\n",
        "X_train, X_val, y_train, y_val = train_test_split(df.index.values, \n",
        "                                                  df.category_id.values, \n",
        "                                                  test_size=0.20, \n",
        "                                                  random_state=42, \n",
        "                                                  stratify=df.category_id.values)"
      ],
      "metadata": {
        "id": "bRSSmo4DVDsk"
      },
      "execution_count": 41,
      "outputs": []
    },
    {
      "cell_type": "code",
      "source": [
        "df['data_type'] = ['not_set']*df.shape[0]\n",
        "\n",
        "df.loc[X_train, 'data_type'] = 'train'\n",
        "df.loc[X_val, 'data_type'] = 'val'"
      ],
      "metadata": {
        "id": "NT2vH_gUVDRq"
      },
      "execution_count": 42,
      "outputs": []
    },
    {
      "cell_type": "code",
      "source": [
        "df.columns = ['Title', 'Conference', 'label', 'data_type']"
      ],
      "metadata": {
        "id": "GO39cZvnV24k"
      },
      "execution_count": 48,
      "outputs": []
    },
    {
      "cell_type": "code",
      "source": [
        "tokenizer = BertTokenizer.from_pretrained('bert-base-uncased', do_lower_case=True)"
      ],
      "metadata": {
        "colab": {
          "base_uri": "https://localhost:8080/",
          "height": 113,
          "referenced_widgets": [
            "dece318a4e6f42cd96b2a76fbb6ea37e",
            "ef86dd6f04b0432e9873d494e27497eb",
            "6386921a53544fa59f7e7e9f1e107dbe",
            "4412beb9d1074d7ebf978ab59d862aa1",
            "b8a1616f6afe4749a1e44e548028d62d",
            "71656cdf82b44bc7a3960cebc81dda14",
            "bd6173951b1f44fc8b848e8c586eb20a",
            "6751ab67cf524b4f9eb01be6c58d38a3",
            "11ea318dfc96453d8f0215c17c2d5310",
            "578647479f3a4493b2ed6f7fc2547671",
            "422cbe2f54a04eb79064defa13662874",
            "325e32a67613429399717da50af5f702",
            "018110ed1040451180a406b1df5bbc30",
            "dd3b2f8e009c49a9a073178e76864f44",
            "7dc469cfda244e0e9060040efe4b1910",
            "d5457998fe744c029e72fa0551733e4e",
            "642603e9da0043af9e821469326ce634",
            "0e44574664fe41519143c0d85ebf3962",
            "da8fa33c1a1b40a6bc7b7e1c5764a9c7",
            "9963770ba76f41d0a62b6ec23269a84e",
            "519833f1e4a844c0a6144130fcc77a83",
            "ce4559d33b4048e3a767ec770517de3a",
            "199e0dcfc2464b649a9f4147050cbc36",
            "c42314883306409ab1f7cf82fc8ca5b5",
            "c4d204f5321849cbac9374b79d78d254",
            "ddbe34203496414291bc19c5fdd63a72",
            "f24b8384fe69400288e5cccfca52a574",
            "9c3a89e5029c4a6f99bbd4d8521b0e1f",
            "e1093fd1d0e94605893748e5414a4a78",
            "d398f5f20a574d978f781c2d2cc966a1",
            "c62551d30f8a49c9a29c54fae29c52b5",
            "64d0899f108943098856bcaebb773d33",
            "1a859ab57fe749f48aa4189d620e3a73"
          ]
        },
        "id": "7_HJSy47VTHh",
        "outputId": "4199830c-ae60-41f1-bbc1-db5042092bd5"
      },
      "execution_count": 46,
      "outputs": [
        {
          "output_type": "display_data",
          "data": {
            "text/plain": [
              "Downloading (…)solve/main/vocab.txt:   0%|          | 0.00/232k [00:00<?, ?B/s]"
            ],
            "application/vnd.jupyter.widget-view+json": {
              "version_major": 2,
              "version_minor": 0,
              "model_id": "dece318a4e6f42cd96b2a76fbb6ea37e"
            }
          },
          "metadata": {}
        },
        {
          "output_type": "display_data",
          "data": {
            "text/plain": [
              "Downloading (…)okenizer_config.json:   0%|          | 0.00/28.0 [00:00<?, ?B/s]"
            ],
            "application/vnd.jupyter.widget-view+json": {
              "version_major": 2,
              "version_minor": 0,
              "model_id": "325e32a67613429399717da50af5f702"
            }
          },
          "metadata": {}
        },
        {
          "output_type": "display_data",
          "data": {
            "text/plain": [
              "Downloading (…)lve/main/config.json:   0%|          | 0.00/570 [00:00<?, ?B/s]"
            ],
            "application/vnd.jupyter.widget-view+json": {
              "version_major": 2,
              "version_minor": 0,
              "model_id": "199e0dcfc2464b649a9f4147050cbc36"
            }
          },
          "metadata": {}
        }
      ]
    },
    {
      "cell_type": "code",
      "source": [
        "encoded_data_train = tokenizer.batch_encode_plus(\n",
        "    df[df.data_type=='train'].Title.values, \n",
        "    add_special_tokens=True, \n",
        "    return_attention_mask=True, \n",
        "    pad_to_max_length=True, \n",
        "    max_length=256, \n",
        "    return_tensors='pt'\n",
        ")\n",
        "\n",
        "encoded_data_val = tokenizer.batch_encode_plus(\n",
        "    df[df.data_type=='val'].Title.values, \n",
        "    add_special_tokens=True, \n",
        "    return_attention_mask=True, \n",
        "    pad_to_max_length=True, \n",
        "    max_length=256, \n",
        "    return_tensors='pt'\n",
        ")\n",
        "\n",
        "\n",
        "input_ids_train = encoded_data_train['input_ids']\n",
        "attention_masks_train = encoded_data_train['attention_mask']\n",
        "labels_train = torch.tensor(df[df.data_type=='train'].label.values)\n",
        "\n",
        "input_ids_val = encoded_data_val['input_ids']\n",
        "attention_masks_val = encoded_data_val['attention_mask']\n",
        "labels_val = torch.tensor(df[df.data_type=='val'].label.values)"
      ],
      "metadata": {
        "colab": {
          "base_uri": "https://localhost:8080/"
        },
        "id": "fBfHDcOYVwi2",
        "outputId": "3b97fe32-73aa-4187-fb0c-1bbb9d285768"
      },
      "execution_count": 49,
      "outputs": [
        {
          "output_type": "stream",
          "name": "stderr",
          "text": [
            "Truncation was not explicitly activated but `max_length` is provided a specific value, please use `truncation=True` to explicitly truncate examples to max length. Defaulting to 'longest_first' truncation strategy. If you encode pairs of sequences (GLUE-style) with the tokenizer you can select this strategy more precisely by providing a specific strategy to `truncation`.\n",
            "/usr/local/lib/python3.10/dist-packages/transformers/tokenization_utils_base.py:2364: FutureWarning: The `pad_to_max_length` argument is deprecated and will be removed in a future version, use `padding=True` or `padding='longest'` to pad to the longest sequence in the batch, or use `padding='max_length'` to pad to a max length. In this case, you can give a specific length with `max_length` (e.g. `max_length=45`) or leave max_length to None to pad to the maximal input size of the model (e.g. 512 for Bert).\n",
            "  warnings.warn(\n"
          ]
        }
      ]
    },
    {
      "cell_type": "code",
      "source": [
        "dataset_train = TensorDataset(input_ids_train, attention_masks_train, labels_train)\n",
        "dataset_val = TensorDataset(input_ids_val, attention_masks_val, labels_val)"
      ],
      "metadata": {
        "id": "9yfq9_MzVxlv"
      },
      "execution_count": 53,
      "outputs": []
    },
    {
      "cell_type": "code",
      "source": [
        "len(dataset_train), len(dataset_val)"
      ],
      "metadata": {
        "colab": {
          "base_uri": "https://localhost:8080/"
        },
        "id": "loqPAx4LY1TH",
        "outputId": "bdf3ab2d-2659-4312-ce8a-2925afb51861"
      },
      "execution_count": 54,
      "outputs": [
        {
          "output_type": "execute_result",
          "data": {
            "text/plain": [
              "(3468, 867)"
            ]
          },
          "metadata": {},
          "execution_count": 54
        }
      ]
    },
    {
      "cell_type": "code",
      "source": [
        "model = BertForSequenceClassification.from_pretrained(\"bert-base-uncased\",\n",
        "                                                      num_labels=df.label.nunique(),\n",
        "                                                      output_attentions=False,\n",
        "                                                      output_hidden_states=False)"
      ],
      "metadata": {
        "colab": {
          "base_uri": "https://localhost:8080/",
          "height": 156,
          "referenced_widgets": [
            "cf7722b06e7f4ae9bab86ace2caba28e",
            "2554287602f6403c985122a60e3ae4b9",
            "8d10ead03aae4c0bb77fb3ee8453e05b",
            "117228f404314a948f934bbffe5c4098",
            "7b1a017ef31d47f284be185b725e5e59",
            "e3d6323994eb4b12a7d91cbc95128edc",
            "96b9f0e479c4449a924471988f51c123",
            "50af7e5ecd8b4c43b494d9e3e8789a8b",
            "196a7ec1f9a74624a7e1395c48ff8cd1",
            "e856fee805e542b09b3ff9906f5c4119",
            "f9be97e5b4d3478aa4f90b13eb069cf0"
          ]
        },
        "id": "6yukb4kTY1Ow",
        "outputId": "423f199b-486a-4cc2-a2a3-677650bfa80c"
      },
      "execution_count": 59,
      "outputs": [
        {
          "output_type": "display_data",
          "data": {
            "text/plain": [
              "Downloading pytorch_model.bin:   0%|          | 0.00/440M [00:00<?, ?B/s]"
            ],
            "application/vnd.jupyter.widget-view+json": {
              "version_major": 2,
              "version_minor": 0,
              "model_id": "cf7722b06e7f4ae9bab86ace2caba28e"
            }
          },
          "metadata": {}
        },
        {
          "output_type": "stream",
          "name": "stderr",
          "text": [
            "Some weights of the model checkpoint at bert-base-uncased were not used when initializing BertForSequenceClassification: ['cls.predictions.transform.LayerNorm.bias', 'cls.predictions.transform.dense.weight', 'cls.seq_relationship.bias', 'cls.predictions.decoder.weight', 'cls.predictions.bias', 'cls.seq_relationship.weight', 'cls.predictions.transform.LayerNorm.weight', 'cls.predictions.transform.dense.bias']\n",
            "- This IS expected if you are initializing BertForSequenceClassification from the checkpoint of a model trained on another task or with another architecture (e.g. initializing a BertForSequenceClassification model from a BertForPreTraining model).\n",
            "- This IS NOT expected if you are initializing BertForSequenceClassification from the checkpoint of a model that you expect to be exactly identical (initializing a BertForSequenceClassification model from a BertForSequenceClassification model).\n",
            "Some weights of BertForSequenceClassification were not initialized from the model checkpoint at bert-base-uncased and are newly initialized: ['classifier.bias', 'classifier.weight']\n",
            "You should probably TRAIN this model on a down-stream task to be able to use it for predictions and inference.\n"
          ]
        }
      ]
    },
    {
      "cell_type": "code",
      "source": [
        "from torch.utils.data import DataLoader, RandomSampler, SequentialSampler\n",
        "\n",
        "batch_size = 3\n",
        "\n",
        "dataloader_train = DataLoader(dataset_train, \n",
        "                              sampler=RandomSampler(dataset_train), \n",
        "                              batch_size=batch_size)\n",
        "\n",
        "dataloader_validation = DataLoader(dataset_val, \n",
        "                                   sampler=SequentialSampler(dataset_val), \n",
        "                                   batch_size=batch_size)"
      ],
      "metadata": {
        "id": "xVxIOzC_Y1KZ"
      },
      "execution_count": 60,
      "outputs": []
    },
    {
      "cell_type": "code",
      "source": [
        "from transformers import AdamW, get_linear_schedule_with_warmup\n",
        "\n",
        "optimizer = AdamW(model.parameters(),\n",
        "                  lr=1e-5, \n",
        "                  eps=1e-8)"
      ],
      "metadata": {
        "colab": {
          "base_uri": "https://localhost:8080/"
        },
        "id": "l13sQg_rY1Dh",
        "outputId": "71ef1d89-2597-4b6d-e4fb-f9ae4ebff225"
      },
      "execution_count": 61,
      "outputs": [
        {
          "output_type": "stream",
          "name": "stderr",
          "text": [
            "/usr/local/lib/python3.10/dist-packages/transformers/optimization.py:407: FutureWarning: This implementation of AdamW is deprecated and will be removed in a future version. Use the PyTorch implementation torch.optim.AdamW instead, or set `no_deprecation_warning=True` to disable this warning\n",
            "  warnings.warn(\n"
          ]
        }
      ]
    },
    {
      "cell_type": "code",
      "source": [
        "epochs = 5\n",
        "\n",
        "scheduler = get_linear_schedule_with_warmup(optimizer, \n",
        "                                            num_warmup_steps=0,\n",
        "                                            num_training_steps=len(dataloader_train)*epochs)"
      ],
      "metadata": {
        "id": "Kj5hXqyrZVgq"
      },
      "execution_count": 62,
      "outputs": []
    },
    {
      "cell_type": "code",
      "source": [
        "from sklearn.metrics import f1_score\n",
        "\n",
        "def f1_score_func(preds, labels):\n",
        "    preds_flat = np.argmax(preds, axis=1).flatten()\n",
        "    labels_flat = labels.flatten()\n",
        "    return f1_score(labels_flat, preds_flat, average='weighted')\n",
        "\n",
        "def accuracy_per_class(preds, labels):\n",
        "    label_dict_inverse = {v: k for k, v in label_dict.items()}\n",
        "    \n",
        "    preds_flat = np.argmax(preds, axis=1).flatten()\n",
        "    labels_flat = labels.flatten()\n",
        "\n",
        "    for label in np.unique(labels_flat):\n",
        "        y_preds = preds_flat[labels_flat==label]\n",
        "        y_true = labels_flat[labels_flat==label]\n",
        "        print(f'Class: {label_dict_inverse[label]}')\n",
        "        print(f'Accuracy: {len(y_preds[y_preds==label])}/{len(y_true)}\\n')"
      ],
      "metadata": {
        "id": "DWW395KCZVbd"
      },
      "execution_count": 63,
      "outputs": []
    },
    {
      "cell_type": "code",
      "source": [
        "import random\n",
        "\n",
        "seed_val = 17\n",
        "random.seed(seed_val)\n",
        "np.random.seed(seed_val)\n",
        "torch.manual_seed(seed_val)\n",
        "torch.cuda.manual_seed_all(seed_val)"
      ],
      "metadata": {
        "id": "AvuaoNR_ZVWQ"
      },
      "execution_count": 64,
      "outputs": []
    },
    {
      "cell_type": "code",
      "source": [
        "device = torch.device('cuda' if torch.cuda.is_available() else 'cpu')\n",
        "model.to(device)\n",
        "\n",
        "print(device)"
      ],
      "metadata": {
        "colab": {
          "base_uri": "https://localhost:8080/"
        },
        "id": "0uMRE32_ZVRH",
        "outputId": "f4bbf863-d137-4484-ecc7-2e9b4abdfa19"
      },
      "execution_count": 65,
      "outputs": [
        {
          "output_type": "stream",
          "name": "stdout",
          "text": [
            "cpu\n"
          ]
        }
      ]
    },
    {
      "cell_type": "code",
      "source": [
        "def evaluate(dataloader_val):\n",
        "\n",
        "    model.eval()\n",
        "    \n",
        "    loss_val_total = 0\n",
        "    predictions, true_vals = [], []\n",
        "    \n",
        "    for batch in dataloader_val:\n",
        "        \n",
        "        batch = tuple(b.to(device) for b in batch)\n",
        "        \n",
        "        inputs = {'input_ids':      batch[0],\n",
        "                  'attention_mask': batch[1],\n",
        "                  'labels':         batch[2],\n",
        "                 }\n",
        "\n",
        "        with torch.no_grad():        \n",
        "            outputs = model(**inputs)\n",
        "            \n",
        "        loss = outputs[0]\n",
        "        logits = outputs[1]\n",
        "        loss_val_total += loss.item()\n",
        "\n",
        "        logits = logits.detach().cpu().numpy()\n",
        "        label_ids = inputs['labels'].cpu().numpy()\n",
        "        predictions.append(logits)\n",
        "        true_vals.append(label_ids)\n",
        "    \n",
        "    loss_val_avg = loss_val_total/len(dataloader_val) \n",
        "    \n",
        "    predictions = np.concatenate(predictions, axis=0)\n",
        "    true_vals = np.concatenate(true_vals, axis=0)\n",
        "            \n",
        "    return loss_val_avg, predictions, true_vals"
      ],
      "metadata": {
        "id": "8WszBvAhZVMB"
      },
      "execution_count": 66,
      "outputs": []
    },
    {
      "cell_type": "code",
      "source": [
        "for epoch in tqdm(range(1, epochs+1)):\n",
        "    \n",
        "    model.train()\n",
        "    \n",
        "    loss_train_total = 0\n",
        "\n",
        "    progress_bar = tqdm(dataloader_train, desc='Epoch {:1d}'.format(epoch), leave=False, disable=False)\n",
        "    for batch in progress_bar:\n",
        "\n",
        "        model.zero_grad()\n",
        "        \n",
        "        batch = tuple(b.to(device) for b in batch)\n",
        "        \n",
        "        inputs = {'input_ids':      batch[0],\n",
        "                  'attention_mask': batch[1],\n",
        "                  'labels':         batch[2],\n",
        "                 }       \n",
        "\n",
        "        outputs = model(**inputs)\n",
        "        \n",
        "        loss = outputs[0]\n",
        "        loss_train_total += loss.item()\n",
        "        loss.backward()\n",
        "\n",
        "        torch.nn.utils.clip_grad_norm_(model.parameters(), 1.0)\n",
        "\n",
        "        optimizer.step()\n",
        "        scheduler.step()\n",
        "        \n",
        "        progress_bar.set_postfix({'training_loss': '{:.3f}'.format(loss.item()/len(batch))})\n",
        "         \n",
        "        \n",
        "    torch.save(model.state_dict(), f'data_volume/finetuned_BERT_epoch_{epoch}.model')\n",
        "        \n",
        "    tqdm.write(f'\\nEpoch {epoch}')\n",
        "    \n",
        "    loss_train_avg = loss_train_total/len(dataloader_train)            \n",
        "    tqdm.write(f'Training loss: {loss_train_avg}')\n",
        "    \n",
        "    val_loss, predictions, true_vals = evaluate(dataloader_validation)\n",
        "    val_f1 = f1_score_func(predictions, true_vals)\n",
        "    tqdm.write(f'Validation loss: {val_loss}')\n",
        "    tqdm.write(f'F1 Score (Weighted): {val_f1}')"
      ],
      "metadata": {
        "colab": {
          "base_uri": "https://localhost:8080/",
          "height": 81,
          "referenced_widgets": [
            "9b0829f89fde40079903e1a397189143",
            "3fc92a86dd5f446e813e25823ab49884",
            "f6f69cd2e14047ca93cddbf025ed831c",
            "4e27885e0dff46a0913d58da0849aaa8",
            "abfbc7976834482f9a75e0b3ed16c0d0",
            "b0218ec5d3834c6fb6a9f9571fd9f4b9",
            "43d852c72727476baaee30054582ab6a",
            "e654ba0743484815b378480ff303fcac",
            "7afcd85a933041629a5cddf86b30dcb4",
            "8f87d84de9f04ffeb6f9bb73ee566032",
            "0023d33a00ce46f2a8ed16b047671ac6",
            "bd5d6a9d6e1c495e888d4f2866fcc288",
            "74b309aa46b94d94af0c7784d07678b9",
            "90145d66ff8d425bbc4039c856a35ba9",
            "011af971cd304bd1a07bd742521c1a4f",
            "f50dc12bad454588896616c665ffad48",
            "354001c82c9548d68ee06e9e839591ff",
            "8ab887a6b42344e484f999d4724771b0",
            "ce7117180c4448959c88ea9265199246",
            "a930dde699074fa6a7d1ed98281e2ebc",
            "66a6593bd6ad48d3bd269c0fe129f8ad",
            "68239010841a4e41a08b74b91d06b509"
          ]
        },
        "id": "A5oOh6-IZVHB",
        "outputId": "63df4bde-4bed-4914-9402-f8fee0d6ecf9"
      },
      "execution_count": null,
      "outputs": [
        {
          "output_type": "display_data",
          "data": {
            "text/plain": [
              "  0%|          | 0/5 [00:00<?, ?it/s]"
            ],
            "application/vnd.jupyter.widget-view+json": {
              "version_major": 2,
              "version_minor": 0,
              "model_id": "9b0829f89fde40079903e1a397189143"
            }
          },
          "metadata": {}
        },
        {
          "output_type": "display_data",
          "data": {
            "text/plain": [
              "Epoch 1:   0%|          | 0/1156 [00:00<?, ?it/s]"
            ],
            "application/vnd.jupyter.widget-view+json": {
              "version_major": 2,
              "version_minor": 0,
              "model_id": "bd5d6a9d6e1c495e888d4f2866fcc288"
            }
          },
          "metadata": {}
        }
      ]
    },
    {
      "cell_type": "code",
      "source": [
        "model = BertForSequenceClassification.from_pretrained(\"bert-base-uncased\",\n",
        "                                                      num_labels=len(label_dict),\n",
        "                                                      output_attentions=False,\n",
        "                                                      output_hidden_states=False)\n",
        "\n",
        "model.to(device)\n"
      ],
      "metadata": {
        "id": "lSnNFd1pZVB0"
      },
      "execution_count": null,
      "outputs": []
    },
    {
      "cell_type": "code",
      "source": [
        "model.load_state_dict(torch.load('data_volume/finetuned_BERT_epoch_1.model', map_location=torch.device('cpu')))"
      ],
      "metadata": {
        "id": "xHvLDT0HZU80"
      },
      "execution_count": null,
      "outputs": []
    },
    {
      "cell_type": "code",
      "source": [
        "_, predictions, true_vals = evaluate(dataloader_validation)"
      ],
      "metadata": {
        "id": "p65VyBcPZU3f"
      },
      "execution_count": null,
      "outputs": []
    },
    {
      "cell_type": "code",
      "source": [
        "accuracy_per_class(predictions, true_vals)"
      ],
      "metadata": {
        "id": "wbjdaWQyZUyC"
      },
      "execution_count": null,
      "outputs": []
    },
    {
      "cell_type": "code",
      "source": [],
      "metadata": {
        "id": "d_Sbw5UhY04K"
      },
      "execution_count": null,
      "outputs": []
    },
    {
      "cell_type": "code",
      "source": [],
      "metadata": {
        "id": "raFXpPCCY0sK"
      },
      "execution_count": null,
      "outputs": []
    },
    {
      "cell_type": "code",
      "source": [
        "\n",
        "df_train, df_test = train_test_split(df, test_size=0.30, stratify=df['y'], random_state=324)"
      ],
      "metadata": {
        "id": "fd3ctMgVOfwq"
      },
      "execution_count": null,
      "outputs": []
    },
    {
      "cell_type": "code",
      "source": [
        "df_test_pred['category_id'] = df_test_pred['y'].map(category_to_id) \n",
        "df_test_pred['category_id_pred'] = df_test_pred['y_pred'].map(category_to_id) \n",
        "df_pred['category_id_pred'] = df_pred['y_pred'].map(category_to_id) "
      ],
      "metadata": {
        "id": "Hmwr3ApAYVKr"
      },
      "execution_count": null,
      "outputs": []
    },
    {
      "cell_type": "code",
      "source": [
        "df_test_pred[df_test_pred['category_id_pred'].isnull()]"
      ],
      "metadata": {
        "colab": {
          "base_uri": "https://localhost:8080/",
          "height": 49
        },
        "id": "DpvOzh01Z5Js",
        "outputId": "de926ec3-58c3-4d61-f2e8-12b7ba967093"
      },
      "execution_count": null,
      "outputs": [
        {
          "output_type": "execute_result",
          "data": {
            "text/plain": [
              "Empty DataFrame\n",
              "Columns: [x, y, y_pred, category_id, category_id_pred]\n",
              "Index: []"
            ],
            "text/html": [
              "\n",
              "  <div id=\"df-6dc1c386-5ec1-48d3-800e-7c76a9a1c583\">\n",
              "    <div class=\"colab-df-container\">\n",
              "      <div>\n",
              "<style scoped>\n",
              "    .dataframe tbody tr th:only-of-type {\n",
              "        vertical-align: middle;\n",
              "    }\n",
              "\n",
              "    .dataframe tbody tr th {\n",
              "        vertical-align: top;\n",
              "    }\n",
              "\n",
              "    .dataframe thead th {\n",
              "        text-align: right;\n",
              "    }\n",
              "</style>\n",
              "<table border=\"1\" class=\"dataframe\">\n",
              "  <thead>\n",
              "    <tr style=\"text-align: right;\">\n",
              "      <th></th>\n",
              "      <th>x</th>\n",
              "      <th>y</th>\n",
              "      <th>y_pred</th>\n",
              "      <th>category_id</th>\n",
              "      <th>category_id_pred</th>\n",
              "    </tr>\n",
              "  </thead>\n",
              "  <tbody>\n",
              "  </tbody>\n",
              "</table>\n",
              "</div>\n",
              "      <button class=\"colab-df-convert\" onclick=\"convertToInteractive('df-6dc1c386-5ec1-48d3-800e-7c76a9a1c583')\"\n",
              "              title=\"Convert this dataframe to an interactive table.\"\n",
              "              style=\"display:none;\">\n",
              "        \n",
              "  <svg xmlns=\"http://www.w3.org/2000/svg\" height=\"24px\"viewBox=\"0 0 24 24\"\n",
              "       width=\"24px\">\n",
              "    <path d=\"M0 0h24v24H0V0z\" fill=\"none\"/>\n",
              "    <path d=\"M18.56 5.44l.94 2.06.94-2.06 2.06-.94-2.06-.94-.94-2.06-.94 2.06-2.06.94zm-11 1L8.5 8.5l.94-2.06 2.06-.94-2.06-.94L8.5 2.5l-.94 2.06-2.06.94zm10 10l.94 2.06.94-2.06 2.06-.94-2.06-.94-.94-2.06-.94 2.06-2.06.94z\"/><path d=\"M17.41 7.96l-1.37-1.37c-.4-.4-.92-.59-1.43-.59-.52 0-1.04.2-1.43.59L10.3 9.45l-7.72 7.72c-.78.78-.78 2.05 0 2.83L4 21.41c.39.39.9.59 1.41.59.51 0 1.02-.2 1.41-.59l7.78-7.78 2.81-2.81c.8-.78.8-2.07 0-2.86zM5.41 20L4 18.59l7.72-7.72 1.47 1.35L5.41 20z\"/>\n",
              "  </svg>\n",
              "      </button>\n",
              "      \n",
              "  <style>\n",
              "    .colab-df-container {\n",
              "      display:flex;\n",
              "      flex-wrap:wrap;\n",
              "      gap: 12px;\n",
              "    }\n",
              "\n",
              "    .colab-df-convert {\n",
              "      background-color: #E8F0FE;\n",
              "      border: none;\n",
              "      border-radius: 50%;\n",
              "      cursor: pointer;\n",
              "      display: none;\n",
              "      fill: #1967D2;\n",
              "      height: 32px;\n",
              "      padding: 0 0 0 0;\n",
              "      width: 32px;\n",
              "    }\n",
              "\n",
              "    .colab-df-convert:hover {\n",
              "      background-color: #E2EBFA;\n",
              "      box-shadow: 0px 1px 2px rgba(60, 64, 67, 0.3), 0px 1px 3px 1px rgba(60, 64, 67, 0.15);\n",
              "      fill: #174EA6;\n",
              "    }\n",
              "\n",
              "    [theme=dark] .colab-df-convert {\n",
              "      background-color: #3B4455;\n",
              "      fill: #D2E3FC;\n",
              "    }\n",
              "\n",
              "    [theme=dark] .colab-df-convert:hover {\n",
              "      background-color: #434B5C;\n",
              "      box-shadow: 0px 1px 3px 1px rgba(0, 0, 0, 0.15);\n",
              "      filter: drop-shadow(0px 1px 2px rgba(0, 0, 0, 0.3));\n",
              "      fill: #FFFFFF;\n",
              "    }\n",
              "  </style>\n",
              "\n",
              "      <script>\n",
              "        const buttonEl =\n",
              "          document.querySelector('#df-6dc1c386-5ec1-48d3-800e-7c76a9a1c583 button.colab-df-convert');\n",
              "        buttonEl.style.display =\n",
              "          google.colab.kernel.accessAllowed ? 'block' : 'none';\n",
              "\n",
              "        async function convertToInteractive(key) {\n",
              "          const element = document.querySelector('#df-6dc1c386-5ec1-48d3-800e-7c76a9a1c583');\n",
              "          const dataTable =\n",
              "            await google.colab.kernel.invokeFunction('convertToInteractive',\n",
              "                                                     [key], {});\n",
              "          if (!dataTable) return;\n",
              "\n",
              "          const docLinkHtml = 'Like what you see? Visit the ' +\n",
              "            '<a target=\"_blank\" href=https://colab.research.google.com/notebooks/data_table.ipynb>data table notebook</a>'\n",
              "            + ' to learn more about interactive tables.';\n",
              "          element.innerHTML = '';\n",
              "          dataTable['output_type'] = 'display_data';\n",
              "          await google.colab.output.renderOutput(dataTable, element);\n",
              "          const docLink = document.createElement('div');\n",
              "          docLink.innerHTML = docLinkHtml;\n",
              "          element.appendChild(docLink);\n",
              "        }\n",
              "      </script>\n",
              "    </div>\n",
              "  </div>\n",
              "  "
            ]
          },
          "metadata": {},
          "execution_count": 30
        }
      ]
    },
    {
      "cell_type": "code",
      "source": [
        "df_test_pred.y_pred.unique()"
      ],
      "metadata": {
        "colab": {
          "base_uri": "https://localhost:8080/"
        },
        "id": "wluGZRiXzR0n",
        "outputId": "73b1da27-555a-4fc3-b1ae-7a03512b0423"
      },
      "execution_count": null,
      "outputs": [
        {
          "output_type": "execute_result",
          "data": {
            "text/plain": [
              "array(['service', 'application', 'charges', 'others', 'people', 'process'],\n",
              "      dtype=object)"
            ]
          },
          "metadata": {},
          "execution_count": 31
        }
      ]
    },
    {
      "cell_type": "code",
      "execution_count": null,
      "metadata": {
        "colab": {
          "base_uri": "https://localhost:8080/",
          "height": 550
        },
        "id": "voEGDHPkCpf7",
        "outputId": "ed95167d-eb4e-485c-b416-8900b4de80ef"
      },
      "outputs": [
        {
          "output_type": "execute_result",
          "data": {
            "text/plain": [
              "<Axes: >"
            ]
          },
          "metadata": {},
          "execution_count": 32
        },
        {
          "output_type": "execute_result",
          "data": {
            "text/plain": [
              "Text(33.222222222222214, 0.5, 'Actual')"
            ]
          },
          "metadata": {},
          "execution_count": 32
        },
        {
          "output_type": "execute_result",
          "data": {
            "text/plain": [
              "Text(0.5, 25.722222222222214, 'Predicted')"
            ]
          },
          "metadata": {},
          "execution_count": 32
        },
        {
          "output_type": "display_data",
          "data": {
            "text/plain": [
              "<Figure size 500x500 with 2 Axes>"
            ],
            "image/png": "[encoded data removed]"
          },
          "metadata": {}
        }
      ],
      "source": [
        "from sklearn.metrics import confusion_matrix\n",
        "conf_mat = confusion_matrix(df_test_pred['category_id'], df_test_pred['category_id_pred'])\n",
        "fig, ax = plt.subplots(figsize=(5,5))\n",
        "sns.heatmap(conf_mat, annot=True, fmt='d',\n",
        "            xticklabels=category_id_df.y.values, yticklabels=category_id_df.y.values)\n",
        "plt.ylabel('Actual')\n",
        "plt.xlabel('Predicted')\n",
        "plt.show()"
      ]
    },
    {
      "cell_type": "code",
      "source": [
        "# Classification report\n",
        "from sklearn import metrics\n",
        "print(metrics.classification_report(df_test_pred['category_id'], df_test_pred['category_id_pred'], target_names=df['y'].unique()))"
      ],
      "metadata": {
        "id": "v9lF3u0R4l1p",
        "outputId": "c7af5443-4ea2-4edc-a384-07cfa863ed72",
        "colab": {
          "base_uri": "https://localhost:8080/"
        }
      },
      "execution_count": null,
      "outputs": [
        {
          "output_type": "stream",
          "name": "stdout",
          "text": [
            "              precision    recall  f1-score   support\n",
            "\n",
            "     service       0.83      0.88      0.85       572\n",
            " application       0.83      0.84      0.84       322\n",
            "      others       0.83      0.85      0.84       237\n",
            "     charges       0.92      0.78      0.84       100\n",
            "     process       0.31      0.18      0.23        22\n",
            "      people       0.77      0.45      0.57        44\n",
            "     product       0.00      0.00      0.00         4\n",
            "\n",
            "    accuracy                           0.83      1301\n",
            "   macro avg       0.64      0.57      0.60      1301\n",
            "weighted avg       0.82      0.83      0.82      1301\n",
            "\n"
          ]
        },
        {
          "output_type": "stream",
          "name": "stderr",
          "text": [
            "/usr/local/lib/python3.10/dist-packages/sklearn/metrics/_classification.py:1344: UndefinedMetricWarning: Precision and F-score are ill-defined and being set to 0.0 in labels with no predicted samples. Use `zero_division` parameter to control this behavior.\n",
            "  _warn_prf(average, modifier, msg_start, len(result))\n",
            "/usr/local/lib/python3.10/dist-packages/sklearn/metrics/_classification.py:1344: UndefinedMetricWarning: Precision and F-score are ill-defined and being set to 0.0 in labels with no predicted samples. Use `zero_division` parameter to control this behavior.\n",
            "  _warn_prf(average, modifier, msg_start, len(result))\n",
            "/usr/local/lib/python3.10/dist-packages/sklearn/metrics/_classification.py:1344: UndefinedMetricWarning: Precision and F-score are ill-defined and being set to 0.0 in labels with no predicted samples. Use `zero_division` parameter to control this behavior.\n",
            "  _warn_prf(average, modifier, msg_start, len(result))\n"
          ]
        }
      ]
    },
    {
      "cell_type": "code",
      "execution_count": null,
      "metadata": {
        "id": "9Cu4UifQCpf7",
        "colab": {
          "base_uri": "https://localhost:8080/",
          "height": 545
        },
        "outputId": "733001e3-08ce-4208-d710-c5a099c67dd2"
      },
      "outputs": [
        {
          "output_type": "execute_result",
          "data": {
            "text/plain": [
              "<Axes: >"
            ]
          },
          "metadata": {},
          "execution_count": 34
        },
        {
          "output_type": "execute_result",
          "data": {
            "text/plain": [
              "Text(33.222222222222214, 0.5, 'Actual')"
            ]
          },
          "metadata": {},
          "execution_count": 34
        },
        {
          "output_type": "execute_result",
          "data": {
            "text/plain": [
              "Text(0.5, 25.722222222222214, 'Predicted')"
            ]
          },
          "metadata": {},
          "execution_count": 34
        },
        {
          "output_type": "display_data",
          "data": {
            "text/plain": [
              "<Figure size 500x500 with 2 Axes>"
            ],
            "image/png": "[encoded data removed]"
          },
          "metadata": {}
        }
      ],
      "source": [
        "from sklearn.metrics import confusion_matrix\n",
        "conf_mat = confusion_matrix(df_pred['category_id'], df_pred['category_id_pred'])\n",
        "fig, ax = plt.subplots(figsize=(5,5))\n",
        "sns.heatmap(conf_mat, annot=True, fmt='d',\n",
        "            xticklabels=category_id_df.y.values, yticklabels=category_id_df.y.values)\n",
        "plt.ylabel('Actual')\n",
        "plt.xlabel('Predicted')\n",
        "plt.show()"
      ]
    },
    {
      "cell_type": "code",
      "execution_count": null,
      "metadata": {
        "colab": {
          "base_uri": "https://localhost:8080/"
        },
        "id": "NS-7FGhLCpf7",
        "outputId": "cdd57c14-c60f-433c-ad86-aea86e051507"
      },
      "outputs": [
        {
          "output_type": "stream",
          "name": "stdout",
          "text": [
            "              precision    recall  f1-score   support\n",
            "\n",
            "     service       0.95      0.96      0.95      1905\n",
            " application       0.95      0.95      0.95      1074\n",
            "      others       0.95      0.95      0.95       791\n",
            "     charges       0.98      0.93      0.96       332\n",
            "     process       0.85      0.76      0.80        75\n",
            "      people       0.95      0.83      0.89       145\n",
            "     product       1.00      0.62      0.76        13\n",
            "\n",
            "    accuracy                           0.95      4335\n",
            "   macro avg       0.95      0.86      0.90      4335\n",
            "weighted avg       0.95      0.95      0.95      4335\n",
            "\n"
          ]
        }
      ],
      "source": [
        "# Classification report overall\n",
        "from sklearn import metrics\n",
        "print(metrics.classification_report(df_pred['category_id'], df_pred['category_id_pred'], target_names=df['y'].unique()))"
      ]
    },
    {
      "cell_type": "code",
      "execution_count": null,
      "metadata": {
        "id": "E2r7i5zgCpf7"
      },
      "outputs": [],
      "source": [
        "res = pd.DataFrame()\n",
        "# To manually verify why some failed\n",
        "from IPython.display import display\n",
        "\n",
        "for predicted in category_id_df.category_id:\n",
        "    for actual in category_id_df.category_id:\n",
        "        if predicted != actual and conf_mat[actual, predicted] >= 10:\n",
        "            # print(\"'{}' predicted as '{}' : {} examples.\".format(id_to_category[actual], id_to_category[predicted], conf_mat[actual, predicted]))\n",
        "            temp = df_pred.query(f' (category_id == {actual}) & (category_id_pred == {predicted})')[['x']]\n",
        "            temp['y'] = id_to_category[actual]\n",
        "            temp['y_pred'] = id_to_category[predicted]\n",
        "            # print('')\n",
        "            res = pd.concat([res,temp])"
      ]
    },
    {
      "cell_type": "code",
      "source": [
        "from google.colab import data_table\n",
        "data_table.DataTable(res, include_index=False, num_rows_per_page=10)"
      ],
      "metadata": {
        "colab": {
          "base_uri": "https://localhost:8080/",
          "height": 359
        },
        "id": "YZFaySnw8Ner",
        "outputId": "60424400-3a1f-4319-fa94-e81ef9e1c244"
      },
      "execution_count": null,
      "outputs": [
        {
          "output_type": "execute_result",
          "data": {
            "text/html": [
              "<div>\n",
              "<style scoped>\n",
              "    .dataframe tbody tr th:only-of-type {\n",
              "        vertical-align: middle;\n",
              "    }\n",
              "\n",
              "    .dataframe tbody tr th {\n",
              "        vertical-align: top;\n",
              "    }\n",
              "\n",
              "    .dataframe thead th {\n",
              "        text-align: right;\n",
              "    }\n",
              "</style>\n",
              "<table border=\"1\" class=\"dataframe\">\n",
              "  <thead>\n",
              "    <tr style=\"text-align: right;\">\n",
              "      <th></th>\n",
              "      <th>x</th>\n",
              "      <th>y</th>\n",
              "      <th>y_pred</th>\n",
              "    </tr>\n",
              "  </thead>\n",
              "  <tbody>\n",
              "    <tr>\n",
              "      <th>205</th>\n",
              "      <td>i like to start my trading so please request y...</td>\n",
              "      <td>application</td>\n",
              "      <td>service</td>\n",
              "    </tr>\n",
              "    <tr>\n",
              "      <th>207</th>\n",
              "      <td>no position reflects on screen near about mini...</td>\n",
              "      <td>application</td>\n",
              "      <td>service</td>\n",
              "    </tr>\n",
              "    <tr>\n",
              "      <th>213</th>\n",
              "      <td>i am getting very bad experience with your tra...</td>\n",
              "      <td>application</td>\n",
              "      <td>service</td>\n",
              "    </tr>\n",
              "    <tr>\n",
              "      <th>765</th>\n",
              "      <td>you guys have looted my money because of your ...</td>\n",
              "      <td>application</td>\n",
              "      <td>service</td>\n",
              "    </tr>\n",
              "    <tr>\n",
              "      <th>832</th>\n",
              "      <td>please improve traffic related issue there is ...</td>\n",
              "      <td>application</td>\n",
              "      <td>service</td>\n",
              "    </tr>\n",
              "    <tr>\n",
              "      <th>...</th>\n",
              "      <td>...</td>\n",
              "      <td>...</td>\n",
              "      <td>...</td>\n",
              "    </tr>\n",
              "    <tr>\n",
              "      <th>3075</th>\n",
              "      <td>portfolio issue stocktrident shares transactions</td>\n",
              "      <td>application</td>\n",
              "      <td>others</td>\n",
              "    </tr>\n",
              "    <tr>\n",
              "      <th>3465</th>\n",
              "      <td>graph not updating</td>\n",
              "      <td>application</td>\n",
              "      <td>others</td>\n",
              "    </tr>\n",
              "    <tr>\n",
              "      <th>3650</th>\n",
              "      <td>improvement in portal</td>\n",
              "      <td>application</td>\n",
              "      <td>others</td>\n",
              "    </tr>\n",
              "    <tr>\n",
              "      <th>3705</th>\n",
              "      <td>mene apne bank se kotak security me transfar d...</td>\n",
              "      <td>application</td>\n",
              "      <td>others</td>\n",
              "    </tr>\n",
              "    <tr>\n",
              "      <th>4163</th>\n",
              "      <td>please make it fast and simple ui</td>\n",
              "      <td>application</td>\n",
              "      <td>others</td>\n",
              "    </tr>\n",
              "  </tbody>\n",
              "</table>\n",
              "<p>164 rows × 3 columns</p>\n",
              "</div>"
            ],
            "application/vnd.google.colaboratory.module+javascript": "\n      import \"https://ssl.gstatic.com/colaboratory/data_table/99dac6621f6ae8c4/data_table.js\";\n\n      window.createDataTable({\n        data: [[\"i like to start my trading so please request yourself to discard my wife s revathapar account soon\",\n\"application\",\n\"service\"],\n [\"no position reflects on screen near about minite so i am not squre my position and l am going in losses\",\n\"application\",\n\"service\"],\n [\"i am getting very bad experience with your tradeing platform\",\n\"application\",\n\"service\"],\n [\"you guys have looted my money because of your systems fault i lost my money and when i have raised complain from past month you havent been able to resolve it such a pathetic broker you are\",\n\"application\",\n\"service\"],\n [\"please improve traffic related issue there is lots of things doesnt running well please all is well\",\n\"application\",\n\"service\"],\n [\"try to solve technical issue within hours or before market close so that client manage their position according mkt condition\",\n\"application\",\n\"service\"],\n [\"technical issue very important problem and call centre not good response\",\n\"application\",\n\"service\"],\n [\"neo platform is pathetic and manager has no clue how to resolve it who is responsible for the loss i incurred relationship manager never pickup the phone and have no empathy to client issue\",\n\"application\",\n\"service\"],\n [\"take responsibility of your system failure due to worst system traders faces losses also mental harassment by kotak security you only send apologize email regarding this close my account as soon as possible\",\n\"application\",\n\"service\"],\n [\"few days back the orders were stuck due to technical glitch so its need improvement and during that time no one gave any information regarding that\",\n\"application\",\n\"service\"],\n [\"your call trade department behave rudely\",\n\"application\",\n\"service\"],\n [\"trading platform hanging up and getting slower during market hours\",\n\"application\",\n\"service\"],\n [\"i like to start my trading so please request yourself to discard my wife s revathapar account soon\",\n\"application\",\n\"service\"],\n [\"no position reflects on screen near about minite so i am not squre my position and l am going in losses\",\n\"application\",\n\"service\"],\n [\"i am getting very bad experience with your tradeing platform\",\n\"application\",\n\"service\"],\n [\"you guys have looted my money because of your systems fault i lost my money and when i have raised complain from past month you havent been able to resolve it such a pathetic broker you are\",\n\"application\",\n\"service\"],\n [\"technical problems are happening to times every month moreover solving those problems are taking to days i e response is very unsatisfactory please work in this area to solve the problem as soon as possible to make our journey smoother so that i can say others to join our kotak securities proudly thanks yours sincerely ajay mukherjee\",\n\"application\",\n\"service\"],\n [\"you have to see the account holders who all are having loss for the year and oppoint and manger to guide them just to recover the loss at least thereby you can maintain you customer base whenever you feel a stock is crashing u can guide to exit at right time\",\n\"application\",\n\"service\"],\n [\"call me to understand problem and compensate the loss due to technical glitches\",\n\"application\",\n\"service\"],\n [\"dont call me again ur app so useless\",\n\"application\",\n\"service\"],\n [\"whatsapp chat entirely useless call should be arranged to understand and solve clients query secondly margin amount shows up against fund is misguiding and someone will notify it to sebi as its not clients own fund thus impacts investment decisions investment decisions cant be taken on margin amount\",\n\"application\",\n\"service\"],\n [\"your app sucks and you are experimenting with it by making clients suffer by not logging the complaints or providing a seamless redressal on email purposely everything is kept on phone calls so as to shadow the issues of your own pathetic learning curve\",\n\"application\",\n\"service\"],\n [\"i interacted on whatsapp two times two issues my matter was not resolved one relation officer reqd for redresal of issues\",\n\"application\",\n\"service\"],\n [\"the message received for buying or selling an equity should come timely and not when it has reached near the target\",\n\"application\",\n\"service\"],\n [\"need to improve the systems to work\",\n\"application\",\n\"service\"],\n [\"in indial days representative use to call me about queries but in non one was there to help us when inwas in need even several requests made on whatsapp number of kotak securities but queries r dealts per their convenience and not as customer need\",\n\"application\",\n\"service\"],\n [\"i have pay approx rupees of brockreg because of higher brockreg rates this is drak side of kotak securities\",\n\"application\",\n\"service\"],\n [\"better improve your customer services cell to resolve issues raised by the customers also the website has numerous glitches which is very irritating dont know how kotak securities is working with such defective website and such poor customer service looking out for an alternative to shift account from kotak as it was a mistake to open the account here unfortunately no one cares to listen to the customer and if an issue is unresolved cannot even send a representative to understand the issue face to face very incompetent\",\n\"application\",\n\"service\"],\n [\"not happy with response as solution not provided\",\n\"application\",\n\"service\"],\n [\"user guide to navigate and fully utilize all features of the tool is required your person is not fully aware of the all features of the tool\",\n\"application\",\n\"service\"],\n [\"iam a new investor i navee sign up for margin pladge even though i paid for margin pladge every day i received sms for my account shows negative values even i visited the namakkal branch the kodak staf did not help me to solve this problem iam totally disappointed with kodak i wadt breakup all transactions from kodak\",\n\"application\",\n\"service\"],\n [\"applied lic ipo did not get and money not refunded yet complained every one yet not solved\",\n\"application\",\n\"service\"],\n [\"your call is on neo is late due to which any body cannot catch the trend\",\n\"application\",\n\"service\"],\n [\"provide your suggestion in the website dont disturb your customers had asked report to fill itr till now didnt receive it\",\n\"application\",\n\"service\"],\n [\"i am trying to solve a small issue of converting my neo account to kst from last months several times i have been talk to customer care but still not my issue is not solved frustrating experience with kotak securities\",\n\"application\",\n\"service\"],\n [\"very heavy and unreasonable penalty applied on me for short trades and nobody resolved my grievance\",\n\"application\",\n\"service\"],\n [\"last few days i am facing problems\",\n\"others\",\n\"service\"],\n [\"after initial exp i asked to close the ac they have yet not closed the ac\",\n\"others\",\n\"service\"],\n [\"lot more is expected of them\",\n\"others\",\n\"service\"],\n [\"not even contacted\",\n\"others\",\n\"service\"],\n [\"bad experience for a years old customer\",\n\"others\",\n\"service\"],\n [\"long long long waiting not at all satisfied\",\n\"others\",\n\"service\"],\n [\"please solve my issue frustrated customer\",\n\"others\",\n\"service\"],\n [\"i have sent mail\",\n\"others\",\n\"service\"],\n [\"toll free no is not working always try to improve\",\n\"others\",\n\"service\"],\n [\"last few days i am facing problems\",\n\"others\",\n\"service\"],\n [\"after initial exp i asked to close the ac they have yet not closed the ac\",\n\"others\",\n\"service\"],\n [\"what action has been taken from last feedback\",\n\"others\",\n\"service\"],\n [\"first time since year\",\n\"others\",\n\"service\"],\n [\"first feedback would be to work on previous feedback s and not not only keep asking about the feedback\",\n\"others\",\n\"service\"],\n [\"they are fine\",\n\"others\",\n\"service\"],\n [\"good interaction without solution\",\n\"others\",\n\"service\"],\n [\"v poor experience with kotak\",\n\"others\",\n\"service\"],\n [\"deeds are not upto the words\",\n\"others\",\n\"service\"],\n [\"call waiting\",\n\"others\",\n\"service\"],\n [\"they only look risk based on kotaks exposure and not from investment view\",\n\"others\",\n\"service\"],\n [\"none at the moment\",\n\"others\",\n\"service\"],\n [\"i not interested on kotak securities\",\n\"others\",\n\"service\"],\n [\"what is the resolution am making losses for the profit making strategies because the average price is changing on daily basis without making any change in the holding positions\",\n\"others\",\n\"service\"],\n [\"close all your businesses buy a godrej lock\",\n\"others\",\n\"service\"],\n [\"close your operations buy a godrej lock\",\n\"others\",\n\"service\"],\n [\"i was requesting for last few months to close my trading account and to freeze dp account executives were giving lame excuses etc\",\n\"others\",\n\"service\"],\n [\"not happy\",\n\"others\",\n\"service\"],\n [\"worst experience\",\n\"others\",\n\"service\"],\n [\"margin giving and selling immediately is not correct\",\n\"charges\",\n\"service\"],\n [\"no provision to know the details of brokerage paid no report available in thr report no provision to know the details of the interest debited abnormal delay in showing the amount of the shares pledged under margin trading eben after hours nobody will pick the call on calling even a dedicated line no resolution even for a critical issue through online trading app will not work even for more than two hours inspite of it no prior intimation to the customers very very poor knowledge of the app on the subject among the persons dealing with customers\",\n\"charges\",\n\"service\"],\n [\"no provision to know the details of brokerage paid no report available in the report no provision to know the details of the interest debited or even no communication abnormal delay in showing the amount of the shares pledged under margin trading even after hours nobody will pick the call on calling even a dedicated line no resolution even for a critical issue through online trading app will not work even for more than two hours inspite of it no prior intimation to the customers very very poor knowledge of the app on the subject among the persons dealing with customers pledged shares worth lakhs for which system shown margin after haircut was lakh but only amount to the extent of lakh was shown informed this to the dealer and also sent the nsdl sms confirmation of the shares pledged no reply from anybody for the repeated mails reminder mails though the issues are very critical worst customer service\",\n\"charges\",\n\"service\"],\n [\"a long pending issue regarding levying of demat charges by kotak mahindra bank they say that this issue may be referred to kotak securities and kotak securities say that this issue may be resolved by the kotak mahindra bank i remained between the two without resolution and for a very long period say about years i visited the local office of kotak securities ltd and met mr abhishek atleast times with no result and this is highly regrettable for such an organisation i understand kotak bank and kotak securities are the sister concerns but there is no coordination and each one is passing the buck kindly improve your complaint redressal system\",\n\"charges\",\n\"service\"],\n [\"kotak bank use my kotak security account and tread to my account but they now charge frome me\",\n\"charges\",\n\"service\"],\n [\"query raised on differential brokarage charges to differet people having equal investment but nit responded appropriately\",\n\"charges\",\n\"service\"],\n [\"third class companyi lost my k to k reason being they have not know what is actually charge done in a share\",\n\"charges\",\n\"service\"],\n [\"please correct the brockerage issue raised by me\",\n\"charges\",\n\"service\"],\n [\"i asked to call me by my relationship manager and decrease the brokerage promised me to arrange a call but it never happened even after multiple attempts you can call me at as i am staying in singapore now thank you\",\n\"charges\",\n\"service\"],\n [\"customer service is pathetic brokerage structure is absolutely uncompetitive\",\n\"charges\",\n\"service\"],\n [\"transperency in account not there kotak charge anything with no explanation\",\n\"charges\",\n\"service\"],\n [\"we should be provided with advice on shares that are getting delisted already delisted and how to deal with them when i asked the person he blankly replied he does not know then what is the point in having this conversation if proper guidance is not provided\",\n\"people\",\n\"service\"],\n [\"high level of confusion while squatting off position no clarity as to what is the final net positions to be square off before the close of market very poor support\",\n\"people\",\n\"service\"],\n [\"no communication from your end reg customer support\",\n\"people\",\n\"service\"],\n [\"selection of the people should be more prudent\",\n\"people\",\n\"service\"],\n [\"you dont pick up the call increase the staff and atleast attend the call when people are in problems else what is the use of customer executive that was really pathetic experience big business has lost a lot atleast you pick up the call or stop the server and reject the order from that certain time so we dont face losses and we feel lost as you dont pick up call centre increase support staff attend calls and c that server doesnt give problems\",\n\"people\",\n\"service\"],\n [\"all you people are smart enough to deal with your side what the client is facing on daily basis yours employee have not proper knowledge and updation that must if any and they all have show in routine work taking it not problem solving it s culture that is also reflection of upper management what all are doing actually management wants or take like a routine\",\n\"people\",\n\"service\"],\n [\"the staff were not knowledgeable nor was there any intention to sort out the query but to pass the buck the position remains the same\",\n\"people\",\n\"service\"],\n [\"we should be provided with advice on shares that are getting delisted already delisted and how to deal with them when i asked the person he blankly replied he does not know then what is the point in having this conversation if proper guidance is not provided\",\n\"people\",\n\"service\"],\n [\"high level of confusion while squatting off position no clarity as to what is the final net positions to be square off before the close of market very poor support\",\n\"people\",\n\"service\"],\n [\"no communication from your end reg customer support\",\n\"people\",\n\"service\"],\n [\"one most inefficient customer care system the so called representatives seems to be picked up from the street and put on job without providing any trainingthey lack knowledge and don t have solution for any issuethey call back after many dayssystem does not work in the morning and many times during the day\",\n\"people\",\n\"service\"],\n [\"talk to us in odia languages as i am in the state of odisha\",\n\"people\",\n\"service\"],\n [\"they didnot knowledge anything about tradind and market trends what customers asks and how to help him\",\n\"people\",\n\"service\"],\n [\"the appointment of rm should not be for the sake of appointment i have pointed out earlier also that the rm is rarely of any use to the investor and mostly it is very difficult to contact him her it is also seen that at times they are not very knowledgeable and not able to solve the problems\",\n\"people\",\n\"service\"],\n [\"first of all client will call any time during officer hours in that time also they are unable spare the time difficult for them to solve clients query secondly they are not knowledge of the kotak trading platform then how solve customer regardsramesh\",\n\"people\",\n\"service\"],\n [\"please provide in tamil language\",\n\"people\",\n\"service\"],\n [\"whenever i call kotak security first level f cs agent dont kw english they cant understand customer query and keep on asking same questions and they dont pass call or escalate the call to a senior level or knowledge person pathetic cs wasting my money n time due to this i stoped transaction with this dp shifted to upstoxs\",\n\"people\",\n\"service\"],\n [\"have talked to people in a day and had different redressal ideas what a joke\",\n\"people\",\n\"service\"],\n [\"toll free numbers are not answering many time or person attending is not having desired knowledge to solve the issue redirecting to other platforms for solutions whereas they are called only after getting disappointing from other platforms like whatsapp and email in the era of fast delivery i am running pillar to post to get the issue settled from without any fault of mine and unable to trade till date\",\n\"people\",\n\"service\"],\n [\"kotak securities people does not take initiative to resolve the issue\",\n\"people\",\n\"service\"],\n [\"your app is not trustworthy customer care number is not responding worst platform\",\n\"service\",\n\"application\"],\n [\"kotak neo app is pathetic it has stopped working it freeze in market out with no response from service become totally dummy such a useless app you guys have developed learn from zerodha iifl paisa apps\",\n\"service\",\n\"application\"],\n [\"helping the client in case of short margin due to market fall and informing the client over the phone before selling risky stocks\",\n\"service\",\n\"application\"],\n [\"raising it since many months but still not heard back\",\n\"service\",\n\"application\"],\n [\"i appreciate your services staff behavior alertness punctuality and your generosity everything is very very good except your app hang some time especially when the market is on peak this is long pending issue please look into the matter it is serious issue and i made loss also instead of book profit\",\n\"service\",\n\"application\"],\n [\"should improve app rm should be provided to each mamber\",\n\"service\",\n\"application\"],\n [\"how many times you ask for feedback just try and work on those can that dealer solve my issue your app just does not work for at least a day who is responsible for that\",\n\"service\",\n\"application\"],\n [\"charges are very high compared to other dealers it is clearly visible in the statement i have been receiving so many times i have requested to reduce the charged on the shares i am holding in my dmat account but dealer is not bothered seriously thinking of transferring my account to zerodha\",\n\"service\",\n\"application\"],\n [\"your app is not trustworthy customer care number is not responding worst platform\",\n\"service\",\n\"application\"],\n [\"kotak neo app is pathetic it has stopped working it freeze in market out with no response from service become totally dummy such a useless app you guys have developed learn from zerodha iifl paisa apps\",\n\"service\",\n\"application\"],\n [\"helping the client in case of short margin due to market fall and informing the client over the phone before selling risky stocks\",\n\"service\",\n\"application\"],\n [\"your transaction email attachment doesnt open in gamil as it says that this email attachment could be harmful so kindly improve your email security standard so i can download the transaction attachments\",\n\"service\",\n\"application\"],\n [\"when we go for buy sell mode in keat pro it should so show day high low range like that in shcil trading platform\",\n\"service\",\n\"application\"],\n [\"rates not updated perfectly leger statement is worse to understand anda also contact note not matched with letter nsee orders in f o units and in currency lots but u provides both r in lots first u observe other platform also i u r back in d world\",\n\"service\",\n\"application\"],\n [\"if debit shortfall amount time is over but still should give one week more time to return the amount before recovery request huge loose hota hai\",\n\"service\",\n\"application\"],\n [\"client should should not be held responsible or penalised for a system technical error regarding margin secondly no trade should be squarred off without taking approval of the buyer further a buyer should be called telephonically to submit the shortfall money before liquidation\",\n\"service\",\n\"application\"],\n [\"give contact number instead of this app too bad experience\",\n\"service\",\n\"application\"],\n [\"client interest be on priority\",\n\"service\",\n\"application\"],\n [\"dealer should have thorough knowledge of the app update if system has some issues and portfolio is not updated then dealer should reply appropriately humbly mentioning timetag by which corrected portfolio will be displayed information about dividend or issuance of bonus shares should be informed by email or app should have provision of displaying bonus or dividend\",\n\"service\",\n\"application\"],\n [\"position open position average price information is incorrect\",\n\"service\",\n\"application\"],\n [\"i need some data everyday in my phone that is how much i will receive or how much i have to pay that data i need\",\n\"service\",\n\"application\"],\n [\"terminal should be perfect i lost money as i was running my software on your api bridge and it started showing error and i lost thousands in just minutes and it happened on friday who will take this responsibility of loss\",\n\"service\",\n\"application\"],\n [\"please activate connection to dealer directly instead of ivr automated system we are loosing the trade opportunity due to disconnect slb trade should available at kst\",\n\"service\",\n\"application\"],\n [\"in trading app compare to margin requirement if sufficient margin is available then why all gtc orders are not converted into regular orders dealers are unaware whether app is properly working or not during my call conversation they told app has some problem whereas else where it was functioning normally try to solve matter so we can place our orders properly\",\n\"service\",\n\"application\"],\n [\"long term capital gains statement is not perfect n clear not matched with accounting\",\n\"service\",\n\"application\"],\n [\"close kotak security if you cant solve your clients problem there are many platform which are solving problems easily\",\n\"service\",\n\"application\"],\n [\"at some specific points human involvement should not be there in different categories of trading plans\",\n\"service\",\n\"application\"],\n [\"neo customer services are not upto mark considerable improvement is required to resolve system problems faced by neo customers\",\n\"service\",\n\"application\"],\n [\"my interaction with employees is goodmy main problem is when my stop loss is hited my trade should have to immediately square off but it takes to to square off my trade\",\n\"service\",\n\"application\"],\n [\"the person interacting should also know clients portal as well i should be able to see all my information on the website although i see there are so many menus on the website but difficult to find useful information\",\n\"service\",\n\"application\"],\n [\"flat form keatpro is not good for trading\",\n\"service\",\n\"application\"],\n [\"the divis lab shares which were not ordered by us have been purchased without any bid by us clear position need to be informed with evidence\",\n\"service\",\n\"application\"],\n [\"you have to build your system so that if anyone has to generate report it will be easy in terms of turnover stt total buy and sell figures in quarter basis and not easy to get and even ccr customer care representatives are not skilled so that they can help us well\",\n\"service\",\n\"application\"],\n [\"keatspro plat form has several deficiency when we open report order it does not show script name no filtering of orders no pop up message once order is executed cancelled\",\n\"service\",\n\"application\"],\n [\"there is agreement between big players it is manipulated fraud market not natural market\",\n\"service\",\n\"application\"],\n [\"use email and sms for any notification\",\n\"service\",\n\"others\"],\n [\"shift the demat accounts of kotak bank to kotak securities\",\n\"service\",\n\"others\"],\n [\"be there when needed thanks\",\n\"service\",\n\"others\"],\n [\"pls pravide quality cc\",\n\"service\",\n\"others\"],\n [\"use email and sms for any notification\",\n\"service\",\n\"others\"],\n [\"shift the demat accounts of kotak bank to kotak securities\",\n\"service\",\n\"others\"],\n [\"be there when needed thanks\",\n\"service\",\n\"others\"],\n [\"cheap serivce\",\n\"service\",\n\"others\"],\n [\"you dont listen it is a waste of time advising you\",\n\"service\",\n\"others\"],\n [\"problem pending since last months\",\n\"service\",\n\"others\"],\n [\"no comments\",\n\"service\",\n\"others\"],\n [\"recommend good and quality productskindly give short term product\",\n\"service\",\n\"others\"],\n [\"no accountability no ownership\",\n\"service\",\n\"others\"],\n [\"worst advisors i have ever come across\",\n\"service\",\n\"others\"],\n [\"no feedbk\",\n\"service\",\n\"others\"],\n [\"properly call me\",\n\"service\",\n\"others\"],\n [\"segeral times suggested from last years but no use\",\n\"service\",\n\"others\"],\n [\"no use of having this kind of services\",\n\"service\",\n\"others\"],\n [\"too many areas which need improvement would appreciate if senior executive can call me\",\n\"service\",\n\"others\"],\n [\"some stock not performed\",\n\"service\",\n\"others\"],\n [\"be polite\",\n\"service\",\n\"others\"],\n [\"get ur act right before you turn irrelevant\",\n\"service\",\n\"others\"],\n [\"option training program needed\",\n\"application\",\n\"others\"],\n [\"delay in info update\",\n\"application\",\n\"others\"],\n [\"improve portfolio window\",\n\"application\",\n\"others\"],\n [\"always facing issues after some daysand always facing running issue for appvery bed experience from kotak security no issue\",\n\"application\",\n\"others\"],\n [\"my inquiry not sloved\",\n\"application\",\n\"others\"],\n [\"i m not all happy\",\n\"application\",\n\"others\"],\n [\"please improve all system\",\n\"application\",\n\"others\"],\n [\"portfolio issue stocktrident shares transactions\",\n\"application\",\n\"others\"],\n [\"graph not updating\",\n\"application\",\n\"others\"],\n [\"improvement in portal\",\n\"application\",\n\"others\"],\n [\"mene apne bank se kotak security me transfar diya tha uska problam solve ho gaya aabhaar\",\n\"application\",\n\"others\"],\n [\"please make it fast and simple ui\",\n\"application\",\n\"others\"]],\n        columns: [[\"string\", \"x\"], [\"string\", \"y\"], [\"string\", \"y_pred\"]],\n        columnOptions: [],\n        rowsPerPage: 10,\n        helpUrl: \"https://colab.research.google.com/notebooks/data_table.ipynb\",\n        suppressOutputScrolling: true,\n        minimumWidth: undefined,\n      });\n    ",
            "text/plain": [
              "<google.colab.data_table.DataTable object>"
            ]
          },
          "metadata": {},
          "execution_count": 37
        }
      ]
    },
    {
      "cell_type": "code",
      "source": [
        "from google.colab import data_table\n",
        "data_table.DataTable(df_pred.query(' y != y_pred')[['x','y', 'y_pred']], include_index=False, num_rows_per_page=10)"
      ],
      "metadata": {
        "colab": {
          "base_uri": "https://localhost:8080/",
          "height": 359
        },
        "id": "D7mx5dZE8FUM",
        "outputId": "6cb8b864-fbfe-4ec4-8afb-cbbcb190d67f"
      },
      "execution_count": null,
      "outputs": [
        {
          "output_type": "execute_result",
          "data": {
            "text/html": [
              "<div>\n",
              "<style scoped>\n",
              "    .dataframe tbody tr th:only-of-type {\n",
              "        vertical-align: middle;\n",
              "    }\n",
              "\n",
              "    .dataframe tbody tr th {\n",
              "        vertical-align: top;\n",
              "    }\n",
              "\n",
              "    .dataframe thead th {\n",
              "        text-align: right;\n",
              "    }\n",
              "</style>\n",
              "<table border=\"1\" class=\"dataframe\">\n",
              "  <thead>\n",
              "    <tr style=\"text-align: right;\">\n",
              "      <th></th>\n",
              "      <th>x</th>\n",
              "      <th>y</th>\n",
              "      <th>y_pred</th>\n",
              "    </tr>\n",
              "  </thead>\n",
              "  <tbody>\n",
              "    <tr>\n",
              "      <th>205</th>\n",
              "      <td>i like to start my trading so please request y...</td>\n",
              "      <td>application</td>\n",
              "      <td>service</td>\n",
              "    </tr>\n",
              "    <tr>\n",
              "      <th>207</th>\n",
              "      <td>no position reflects on screen near about mini...</td>\n",
              "      <td>application</td>\n",
              "      <td>service</td>\n",
              "    </tr>\n",
              "    <tr>\n",
              "      <th>213</th>\n",
              "      <td>i am getting very bad experience with your tra...</td>\n",
              "      <td>application</td>\n",
              "      <td>service</td>\n",
              "    </tr>\n",
              "    <tr>\n",
              "      <th>228</th>\n",
              "      <td>your app is not trustworthy customer care numb...</td>\n",
              "      <td>service</td>\n",
              "      <td>application</td>\n",
              "    </tr>\n",
              "    <tr>\n",
              "      <th>254</th>\n",
              "      <td>kotak neo app is pathetic it has stopped worki...</td>\n",
              "      <td>service</td>\n",
              "      <td>application</td>\n",
              "    </tr>\n",
              "    <tr>\n",
              "      <th>...</th>\n",
              "      <td>...</td>\n",
              "      <td>...</td>\n",
              "      <td>...</td>\n",
              "    </tr>\n",
              "    <tr>\n",
              "      <th>4286</th>\n",
              "      <td>very heavy and unreasonable penalty applied on...</td>\n",
              "      <td>application</td>\n",
              "      <td>service</td>\n",
              "    </tr>\n",
              "    <tr>\n",
              "      <th>4289</th>\n",
              "      <td>charges are high app is not slick</td>\n",
              "      <td>charges</td>\n",
              "      <td>application</td>\n",
              "    </tr>\n",
              "    <tr>\n",
              "      <th>4307</th>\n",
              "      <td>hidden chargesxare exorbitantcharges</td>\n",
              "      <td>charges</td>\n",
              "      <td>others</td>\n",
              "    </tr>\n",
              "    <tr>\n",
              "      <th>4316</th>\n",
              "      <td>get ur act right before you turn irrelevant</td>\n",
              "      <td>service</td>\n",
              "      <td>others</td>\n",
              "    </tr>\n",
              "    <tr>\n",
              "      <th>4328</th>\n",
              "      <td>pls pls try to give more recomendations in f o...</td>\n",
              "      <td>product</td>\n",
              "      <td>process</td>\n",
              "    </tr>\n",
              "  </tbody>\n",
              "</table>\n",
              "<p>226 rows × 3 columns</p>\n",
              "</div>"
            ],
            "application/vnd.google.colaboratory.module+javascript": "\n      import \"https://ssl.gstatic.com/colaboratory/data_table/99dac6621f6ae8c4/data_table.js\";\n\n      window.createDataTable({\n        data: [[\"i like to start my trading so please request yourself to discard my wife s revathapar account soon\",\n\"application\",\n\"service\"],\n [\"no position reflects on screen near about minite so i am not squre my position and l am going in losses\",\n\"application\",\n\"service\"],\n [\"i am getting very bad experience with your tradeing platform\",\n\"application\",\n\"service\"],\n [\"your app is not trustworthy customer care number is not responding worst platform\",\n\"service\",\n\"application\"],\n [\"kotak neo app is pathetic it has stopped working it freeze in market out with no response from service become totally dummy such a useless app you guys have developed learn from zerodha iifl paisa apps\",\n\"service\",\n\"application\"],\n [\"last few days i am facing problems\",\n\"others\",\n\"service\"],\n [\"we should be provided with advice on shares that are getting delisted already delisted and how to deal with them when i asked the person he blankly replied he does not know then what is the point in having this conversation if proper guidance is not provided\",\n\"people\",\n\"service\"],\n [\"use email and sms for any notification\",\n\"service\",\n\"others\"],\n [\"after initial exp i asked to close the ac they have yet not closed the ac\",\n\"others\",\n\"service\"],\n [\"as discussed with your mr vaid who called failed to understand why should we be harrassed to repledge the shares bought while already pledged good amount of shares with sufficeiently covering ks amunt after necessary hair cut the nsci site is not responsive many times so unnecessary wastage of time energy should be saved\",\n\"process\",\n\"service\"],\n [\"no one take resposence for terder give me helpful suggetion i no mtf x margin trading noting dad expireance for me ex mornig i sell bank of boroda than he come back but i cannot buy i buy only share what is this you tell x margin i cash and share adani share adani trans\",\n\"service\",\n\"charges\"],\n [\"my friend like to open with kotak securities but not allowed to open asked bank account with kotak mahendira i would be like to open my family members demat and trading account with kotak securities so any bank account accept and open the demat and trade account\",\n\"service\",\n\"process\"],\n [\"helping the client in case of short margin due to market fall and informing the client over the phone before selling risky stocks\",\n\"service\",\n\"application\"],\n [\"shift the demat accounts of kotak bank to kotak securities\",\n\"service\",\n\"others\"],\n [\"be there when needed thanks\",\n\"service\",\n\"others\"],\n [\"i am kotak privileged customer but unable to link account with kotak security with bank account\",\n\"service\",\n\"people\"],\n [\"high level of confusion while squatting off position no clarity as to what is the final net positions to be square off before the close of market very poor support\",\n\"people\",\n\"service\"],\n [\"no communication from your end reg customer support\",\n\"people\",\n\"service\"],\n [\"you guys have looted my money because of your systems fault i lost my money and when i have raised complain from past month you havent been able to resolve it such a pathetic broker you are\",\n\"application\",\n\"service\"],\n [\"registered one person for family members security id to handle easy by both side\",\n\"process\",\n\"service\"],\n [\"please improve traffic related issue there is lots of things doesnt running well please all is well\",\n\"application\",\n\"service\"],\n [\"pro not sound knowledge\",\n\"application\",\n\"people\"],\n [\"option training program needed\",\n\"application\",\n\"others\"],\n [\"selection of the people should be more prudent\",\n\"people\",\n\"service\"],\n [\"lot more is expected of them\",\n\"others\",\n\"service\"],\n [\"your research is eating money of your membersfor example recently given ghcl at rs now and other same for all\",\n\"others\",\n\"charges\"],\n [\"raising it since many months but still not heard back\",\n\"service\",\n\"application\"],\n [\"charges are high for service offered\",\n\"service\",\n\"charges\"],\n [\"i appreciate your services staff behavior alertness punctuality and your generosity everything is very very good except your app hang some time especially when the market is on peak this is long pending issue please look into the matter it is serious issue and i made loss also instead of book profit\",\n\"service\",\n\"application\"],\n [\"try to solve technical issue within hours or before market close so that client manage their position according mkt condition\",\n\"application\",\n\"service\"],\n [\"delay in info update\",\n\"application\",\n\"others\"],\n [\"yeah provide all the plans and charges atleast once in month\",\n\"charges\",\n\"application\"],\n [\"technical issue very important problem and call centre not good response\",\n\"application\",\n\"service\"],\n [\"you dont pick up the call increase the staff and atleast attend the call when people are in problems else what is the use of customer executive that was really pathetic experience big business has lost a lot atleast you pick up the call or stop the server and reject the order from that certain time so we dont face losses and we feel lost as you dont pick up call centre increase support staff attend calls and c that server doesnt give problems\",\n\"people\",\n\"service\"],\n [\"your people not reacting properly when asking for help every time requesting for converting the margine fund but they are not roperly responding not converting money to margine fund for write trading in write time as others why we will ask them to increase my margine it should automatically showen for trading\",\n\"people\",\n\"process\"],\n [\"not even contacted\",\n\"others\",\n\"service\"],\n [\"neo platform is pathetic and manager has no clue how to resolve it who is responsible for the loss i incurred relationship manager never pickup the phone and have no empathy to client issue\",\n\"application\",\n\"service\"],\n [\"pls pravide quality cc\",\n\"service\",\n\"others\"],\n [\"language problem in solving kindly help us in local language in odia for me\",\n\"people\",\n\"application\"],\n [\"improve portfolio window\",\n\"application\",\n\"others\"],\n [\"need more recommendations and details about investments opportunities\",\n\"product\",\n\"service\"],\n [\"all you people are smart enough to deal with your side what the client is facing on daily basis yours employee have not proper knowledge and updation that must if any and they all have show in routine work taking it not problem solving it s culture that is also reflection of upper management what all are doing actually management wants or take like a routine\",\n\"people\",\n\"service\"],\n [\"bad experience for a years old customer\",\n\"others\",\n\"service\"],\n [\"always facing issues after some daysand always facing running issue for appvery bed experience from kotak security no issue\",\n\"application\",\n\"others\"],\n [\"should improve app rm should be provided to each mamber\",\n\"service\",\n\"application\"],\n [\"har mahine rupees kyo kat raha h jabki annual charge katna chahiye paytm money bhi me chalata hu usme annual charge rupees kat ta he\",\n\"charges\",\n\"application\"],\n [\"yeah provide all the plans and charges atleast once in month\",\n\"charges\",\n\"application\"],\n [\"take responsibility of your system failure due to worst system traders faces losses also mental harassment by kotak security you only send apologize email regarding this close my account as soon as possible\",\n\"application\",\n\"service\"],\n [\"few days back the orders were stuck due to technical glitch so its need improvement and during that time no one gave any information regarding that\",\n\"application\",\n\"service\"],\n [\"your call trade department behave rudely\",\n\"application\",\n\"service\"],\n [\"i made profit in intraday trading but you disappeared my profit worst brokerage even i had bought free trade youth plan\",\n\"application\",\n\"charges\"],\n [\"long long long waiting not at all satisfied\",\n\"others\",\n\"service\"],\n [\"trading platform hanging up and getting slower during market hours\",\n\"application\",\n\"service\"],\n [\"please solve my issue frustrated customer\",\n\"others\",\n\"service\"],\n [\"the staff were not knowledgeable nor was there any intention to sort out the query but to pass the buck the position remains the same\",\n\"people\",\n\"service\"],\n [\"how many times you ask for feedback just try and work on those can that dealer solve my issue your app just does not work for at least a day who is responsible for that\",\n\"service\",\n\"application\"],\n [\"charges are very high compared to other dealers it is clearly visible in the statement i have been receiving so many times i have requested to reduce the charged on the shares i am holding in my dmat account but dealer is not bothered seriously thinking of transferring my account to zerodha\",\n\"service\",\n\"application\"],\n [\"i have sent mail\",\n\"others\",\n\"service\"],\n [\"toll free no is not working always try to improve\",\n\"others\",\n\"service\"],\n [\"i like to start my trading so please request yourself to discard my wife s revathapar account soon\",\n\"application\",\n\"service\"],\n [\"no position reflects on screen near about minite so i am not squre my position and l am going in losses\",\n\"application\",\n\"service\"],\n [\"i am getting very bad experience with your tradeing platform\",\n\"application\",\n\"service\"],\n [\"your app is not trustworthy customer care number is not responding worst platform\",\n\"service\",\n\"application\"],\n [\"kotak neo app is pathetic it has stopped working it freeze in market out with no response from service become totally dummy such a useless app you guys have developed learn from zerodha iifl paisa apps\",\n\"service\",\n\"application\"],\n [\"last few days i am facing problems\",\n\"others\",\n\"service\"],\n [\"we should be provided with advice on shares that are getting delisted already delisted and how to deal with them when i asked the person he blankly replied he does not know then what is the point in having this conversation if proper guidance is not provided\",\n\"people\",\n\"service\"],\n [\"use email and sms for any notification\",\n\"service\",\n\"others\"],\n [\"after initial exp i asked to close the ac they have yet not closed the ac\",\n\"others\",\n\"service\"],\n [\"as discussed with your mr vaid who called failed to understand why should we be harrassed to repledge the shares bought while already pledged good amount of shares with sufficeiently covering ks amunt after necessary hair cut the nsci site is not responsive many times so unnecessary wastage of time energy should be saved\",\n\"process\",\n\"service\"],\n [\"no one take resposence for terder give me helpful suggetion i no mtf x margin trading noting dad expireance for me ex mornig i sell bank of boroda than he come back but i cannot buy i buy only share what is this you tell x margin i cash and share adani share adani trans\",\n\"service\",\n\"charges\"],\n [\"my friend like to open with kotak securities but not allowed to open asked bank account with kotak mahendira i would be like to open my family members demat and trading account with kotak securities so any bank account accept and open the demat and trade account\",\n\"service\",\n\"process\"],\n [\"helping the client in case of short margin due to market fall and informing the client over the phone before selling risky stocks\",\n\"service\",\n\"application\"],\n [\"shift the demat accounts of kotak bank to kotak securities\",\n\"service\",\n\"others\"],\n [\"be there when needed thanks\",\n\"service\",\n\"others\"],\n [\"i am kotak privileged customer but unable to link account with kotak security with bank account\",\n\"service\",\n\"people\"],\n [\"high level of confusion while squatting off position no clarity as to what is the final net positions to be square off before the close of market very poor support\",\n\"people\",\n\"service\"],\n [\"no communication from your end reg customer support\",\n\"people\",\n\"service\"],\n [\"you guys have looted my money because of your systems fault i lost my money and when i have raised complain from past month you havent been able to resolve it such a pathetic broker you are\",\n\"application\",\n\"service\"],\n [\"technical problems are happening to times every month moreover solving those problems are taking to days i e response is very unsatisfactory please work in this area to solve the problem as soon as possible to make our journey smoother so that i can say others to join our kotak securities proudly thanks yours sincerely ajay mukherjee\",\n\"application\",\n\"service\"],\n [\"cash projections should be reflected funds withdrawn from trading account should be immediately credited to bank account at least in the case of linked kotak bank account\",\n\"others\",\n\"application\"],\n [\"you are not paying me refer and earn commission anil kumar jain xrg since january for refree code zxexz shail jain\",\n\"process\",\n\"application\"],\n [\"margin giving and selling immediately is not correct\",\n\"charges\",\n\"service\"],\n [\"contacted kotak bank for cc cr but not considered same was done by icici bank\",\n\"service\",\n\"process\"],\n [\"you have to see the account holders who all are having loss for the year and oppoint and manger to guide them just to recover the loss at least thereby you can maintain you customer base whenever you feel a stock is crashing u can guide to exit at right time\",\n\"application\",\n\"service\"],\n [\"your transaction email attachment doesnt open in gamil as it says that this email attachment could be harmful so kindly improve your email security standard so i can download the transaction attachments\",\n\"service\",\n\"application\"],\n [\"its a not so good experience compared to angel broking in terms of advise stock specific suggestions guidence\",\n\"product\",\n\"service\"],\n [\"what action has been taken from last feedback\",\n\"others\",\n\"service\"],\n [\"first time since year\",\n\"others\",\n\"service\"],\n [\"i think kotak is too big for smaller clients icici is much better\",\n\"others\",\n\"process\"],\n [\"you should do what you say you will do if you say you will close the account you should close the account and do not keep it alive to get the monthly maintenance charges\",\n\"charges\",\n\"others\"],\n [\"first feedback would be to work on previous feedback s and not not only keep asking about the feedback\",\n\"others\",\n\"service\"],\n [\"my inquiry not sloved\",\n\"application\",\n\"others\"],\n [\"call me to understand problem and compensate the loss due to technical glitches\",\n\"application\",\n\"service\"],\n [\"one most inefficient customer care system the so called representatives seems to be picked up from the street and put on job without providing any trainingthey lack knowledge and don t have solution for any issuethey call back after many dayssystem does not work in the morning and many times during the day\",\n\"people\",\n\"service\"],\n [\"i m not all happy\",\n\"application\",\n\"others\"],\n [\"get your process and app optimised first\",\n\"process\",\n\"application\"],\n [\"no provision to know the details of brokerage paid no report available in thr report no provision to know the details of the interest debited abnormal delay in showing the amount of the shares pledged under margin trading eben after hours nobody will pick the call on calling even a dedicated line no resolution even for a critical issue through online trading app will not work even for more than two hours inspite of it no prior intimation to the customers very very poor knowledge of the app on the subject among the persons dealing with customers\",\n\"charges\",\n\"service\"],\n [\"no provision to know the details of brokerage paid no report available in the report no provision to know the details of the interest debited or even no communication abnormal delay in showing the amount of the shares pledged under margin trading even after hours nobody will pick the call on calling even a dedicated line no resolution even for a critical issue through online trading app will not work even for more than two hours inspite of it no prior intimation to the customers very very poor knowledge of the app on the subject among the persons dealing with customers pledged shares worth lakhs for which system shown margin after haircut was lakh but only amount to the extent of lakh was shown informed this to the dealer and also sent the nsdl sms confirmation of the shares pledged no reply from anybody for the repeated mails reminder mails though the issues are very critical worst customer service\",\n\"charges\",\n\"service\"],\n [\"must be easy to work\",\n\"others\",\n\"application\"],\n [\"cheap serivce\",\n\"service\",\n\"others\"],\n [\"they make my too much loss with worst recommendations in nifty option\",\n\"others\",\n\"people\"],\n [\"they are fine\",\n\"others\",\n\"service\"],\n [\"good interaction without solution\",\n\"others\",\n\"service\"],\n [\"v poor experience with kotak\",\n\"others\",\n\"service\"],\n [\"stop deducting unnecessary as i was having balance and it became and i didnt done a single transactionand when transfer the got deducted from itwhen customer didnt done any transaction how come i lost my cash balance and it when to\",\n\"process\",\n\"service\"],\n [\"dont call me again ur app so useless\",\n\"application\",\n\"service\"],\n [\"i transferred rs k on may online but fund transfer not updated so unable to transact my bank account debuted and i i have also forwarded bank account statement showing transaction as well as sms received from sbi to confirm transaction\",\n\"service\",\n\"process\"],\n [\"a long pending issue regarding levying of demat charges by kotak mahindra bank they say that this issue may be referred to kotak securities and kotak securities say that this issue may be resolved by the kotak mahindra bank i remained between the two without resolution and for a very long period say about years i visited the local office of kotak securities ltd and met mr abhishek atleast times with no result and this is highly regrettable for such an organisation i understand kotak bank and kotak securities are the sister concerns but there is no coordination and each one is passing the buck kindly improve your complaint redressal system\",\n\"charges\",\n\"service\"],\n [\"deeds are not upto the words\",\n\"others\",\n\"service\"],\n [\"call waiting\",\n\"others\",\n\"service\"],\n [\"when we go for buy sell mode in keat pro it should so show day high low range like that in shcil trading platform\",\n\"service\",\n\"application\"],\n [\"without my concern why slbm contract is foreclosed and rs is debited to my trading account why\",\n\"service\",\n\"process\"],\n [\"please improve all system\",\n\"application\",\n\"others\"],\n [\"rates not updated perfectly leger statement is worse to understand anda also contact note not matched with letter nsee orders in f o units and in currency lots but u provides both r in lots first u observe other platform also i u r back in d world\",\n\"service\",\n\"application\"],\n [\"talk to us in odia languages as i am in the state of odisha\",\n\"people\",\n\"service\"],\n [\"i havent done foreclosure of slbm even though my trading account is debited with rs on the supervisor of the unit at ahmedabad trying to convince me that this is done by the company they are misguiding the clients\",\n\"process\",\n\"people\"],\n [\"no option available in the app to generate reports like holding under normal trade holding under margin trading holding as on a particular date balances as on a particular date details of the brokerage paid as on a particular date etc\",\n\"charges\",\n\"application\"],\n [\"you dont listen it is a waste of time advising you\",\n\"service\",\n\"others\"],\n [\"problem pending since last months\",\n\"service\",\n\"others\"],\n [\"you are requested to text message dailytrading positions and ledger balances as before that will ease the follow up and smooth trading\",\n\"process\",\n\"application\"],\n [\"need to improve the customer complaint redressal process\",\n\"process\",\n\"others\"],\n [\"my trading account is debited by rs with remark foreclosure of slbm of indiamart without my concern after my request rs is refunded instead of rs please refund my rs\",\n\"service\",\n\"process\"],\n [\"whatsapp chat entirely useless call should be arranged to understand and solve clients query secondly margin amount shows up against fund is misguiding and someone will notify it to sebi as its not clients own fund thus impacts investment decisions investment decisions cant be taken on margin amount\",\n\"application\",\n\"service\"],\n [\"the securities are auctioned without any intimation to investors\",\n\"process\",\n\"service\"],\n [\"if the persons do not know how to solve the problem please do not keep the account in inactive due to in activation of the trading account i lost almost k during these days i couldnt able to sell the stock through online i uploaded salary slop through app on th july and also sent months account statement to the mail as per process but till now it is not solved\",\n\"process\",\n\"application\"],\n [\"your app sucks and you are experimenting with it by making clients suffer by not logging the complaints or providing a seamless redressal on email purposely everything is kept on phone calls so as to shadow the issues of your own pathetic learning curve\",\n\"application\",\n\"service\"],\n [\"i interacted on whatsapp two times two issues my matter was not resolved one relation officer reqd for redresal of issues\",\n\"application\",\n\"service\"],\n [\"portfolio issue stocktrident shares transactions\",\n\"application\",\n\"others\"],\n [\"hidden charges others charges laga raha f o ka liya active kar na diya days ho gaya very poor service\",\n\"service\",\n\"charges\"],\n [\"the message received for buying or selling an equity should come timely and not when it has reached near the target\",\n\"application\",\n\"service\"],\n [\"if debit shortfall amount time is over but still should give one week more time to return the amount before recovery request huge loose hota hai\",\n\"service\",\n\"application\"],\n [\"kotak bank use my kotak security account and tread to my account but they now charge frome me\",\n\"charges\",\n\"service\"],\n [\"query raised on differential brokarage charges to differet people having equal investment but nit responded appropriately\",\n\"charges\",\n\"service\"],\n [\"client should should not be held responsible or penalised for a system technical error regarding margin secondly no trade should be squarred off without taking approval of the buyer further a buyer should be called telephonically to submit the shortfall money before liquidation\",\n\"service\",\n\"application\"],\n [\"they only look risk based on kotaks exposure and not from investment view\",\n\"others\",\n\"service\"],\n [\"none at the moment\",\n\"others\",\n\"service\"],\n [\"hang problem\",\n\"others\",\n\"application\"],\n [\"give contact number instead of this app too bad experience\",\n\"service\",\n\"application\"],\n [\"they didnot knowledge anything about tradind and market trends what customers asks and how to help him\",\n\"people\",\n\"service\"],\n [\"no comments\",\n\"service\",\n\"others\"],\n [\"the employees interact nicely but what is the use of that if they are unable to solve the problem it seems either they lack experience or there is no accountability actually on th aug i wanted to redeem mfs hdfc kotak sbi from my portfolio but could not do so as online authentication by bse could not be done as i was not getting required otp i approached bse but asked to contact kotak securities without any result so far i wrote to service securities providing screen shots on aug the help desk has become totally silent on the issue of course today a phone call came informing that she could process my redemption request but she has shown her inability to solve the problem as explained above\",\n\"process\",\n\"service\"],\n [\"recommend good and quality productskindly give short term product\",\n\"service\",\n\"others\"],\n [\"client interest be on priority\",\n\"service\",\n\"application\"],\n [\"dealer should have thorough knowledge of the app update if system has some issues and portfolio is not updated then dealer should reply appropriately humbly mentioning timetag by which corrected portfolio will be displayed information about dividend or issuance of bonus shares should be informed by email or app should have provision of displaying bonus or dividend\",\n\"service\",\n\"application\"],\n [\"need to improve the systems to work\",\n\"application\",\n\"service\"],\n [\"position open position average price information is incorrect\",\n\"service\",\n\"application\"],\n [\"no accountability no ownership\",\n\"service\",\n\"others\"],\n [\"i need some data everyday in my phone that is how much i will receive or how much i have to pay that data i need\",\n\"service\",\n\"application\"],\n [\"graph not updating\",\n\"application\",\n\"others\"],\n [\"third class companyi lost my k to k reason being they have not know what is actually charge done in a share\",\n\"charges\",\n\"service\"],\n [\"in indial days representative use to call me about queries but in non one was there to help us when inwas in need even several requests made on whatsapp number of kotak securities but queries r dealts per their convenience and not as customer need\",\n\"application\",\n\"service\"],\n [\"worst advisors i have ever come across\",\n\"service\",\n\"others\"],\n [\"kindly look into your mf investment platform it needs overhauling thanks\",\n\"product\",\n\"application\"],\n [\"terminal should be perfect i lost money as i was running my software on your api bridge and it started showing error and i lost thousands in just minutes and it happened on friday who will take this responsibility of loss\",\n\"service\",\n\"application\"],\n [\"i have pay approx rupees of brockreg because of higher brockreg rates this is drak side of kotak securities\",\n\"application\",\n\"service\"],\n [\"i not interested on kotak securities\",\n\"others\",\n\"service\"],\n [\"please activate connection to dealer directly instead of ivr automated system we are loosing the trade opportunity due to disconnect slb trade should available at kst\",\n\"service\",\n\"application\"],\n [\"in trading app compare to margin requirement if sufficient margin is available then why all gtc orders are not converted into regular orders dealers are unaware whether app is properly working or not during my call conversation they told app has some problem whereas else where it was functioning normally try to solve matter so we can place our orders properly\",\n\"service\",\n\"application\"],\n [\"fund balance show huge in negativeokno customer support\",\n\"service\",\n\"people\"],\n [\"better improve your customer services cell to resolve issues raised by the customers also the website has numerous glitches which is very irritating dont know how kotak securities is working with such defective website and such poor customer service looking out for an alternative to shift account from kotak as it was a mistake to open the account here unfortunately no one cares to listen to the customer and if an issue is unresolved cannot even send a representative to understand the issue face to face very incompetent\",\n\"application\",\n\"service\"],\n [\"the appointment of rm should not be for the sake of appointment i have pointed out earlier also that the rm is rarely of any use to the investor and mostly it is very difficult to contact him her it is also seen that at times they are not very knowledgeable and not able to solve the problems\",\n\"people\",\n\"service\"],\n [\"no feedbk\",\n\"service\",\n\"others\"],\n [\"long term capital gains statement is not perfect n clear not matched with accounting\",\n\"service\",\n\"application\"],\n [\"customer needs to be aware of actual internal process and if something is going to take time be truthful about it even for loyal customers who been with you for so many years quick response should be provided than treating like new customer kotak team needs to respond over email also which i dont see much kotak whatsapp is the worst it neither give correct info and guides in wrong direction it should be clear in the response and if not point to the next level team for response\",\n\"process\",\n\"application\"],\n [\"please correct the brockerage issue raised by me\",\n\"charges\",\n\"service\"],\n [\"first of all client will call any time during officer hours in that time also they are unable spare the time difficult for them to solve clients query secondly they are not knowledge of the kotak trading platform then how solve customer regardsramesh\",\n\"people\",\n\"service\"],\n [\"please provide in tamil language\",\n\"people\",\n\"service\"],\n [\"fuddu app fuddu customer care asked about brokerage they told me interest rate facing issue in checking funds available in account from last days nobody is here to help me really fed up from kotak securities such a fuddu platform to do trade\",\n\"charges\",\n\"application\"],\n [\"improvement in portal\",\n\"application\",\n\"others\"],\n [\"their i was failed to relogin because of forgetting the password what i do to relogin the account\",\n\"process\",\n\"service\"],\n [\"for negative balance rate of interest to be reduced\",\n\"charges\",\n\"others\"],\n [\"whenever i call kotak security first level f cs agent dont kw english they cant understand customer query and keep on asking same questions and they dont pass call or escalate the call to a senior level or knowledge person pathetic cs wasting my money n time due to this i stoped transaction with this dp shifted to upstoxs\",\n\"people\",\n\"service\"],\n [\"what is the resolution am making losses for the profit making strategies because the average price is changing on daily basis without making any change in the holding positions\",\n\"others\",\n\"service\"],\n [\"mene apne bank se kotak security me transfar diya tha uska problam solve ho gaya aabhaar\",\n\"application\",\n\"others\"],\n [\"improve or miss out the opportunity\",\n\"others\",\n\"application\"],\n [\"properly call me\",\n\"service\",\n\"others\"],\n [\"not happy with response as solution not provided\",\n\"application\",\n\"service\"],\n [\"close all your businesses buy a godrej lock\",\n\"others\",\n\"service\"],\n [\"segeral times suggested from last years but no use\",\n\"service\",\n\"others\"],\n [\"close your operations buy a godrej lock\",\n\"others\",\n\"service\"],\n [\"no use of having this kind of services\",\n\"service\",\n\"others\"],\n [\"i asked to call me by my relationship manager and decrease the brokerage promised me to arrange a call but it never happened even after multiple attempts you can call me at as i am staying in singapore now thank you\",\n\"charges\",\n\"service\"],\n [\"close kotak security if you cant solve your clients problem there are many platform which are solving problems easily\",\n\"service\",\n\"application\"],\n [\"i need atleast or recommendations daily but not getting from long time please provide more recommendations\",\n\"product\",\n\"service\"],\n [\"dp charges seem to be collected indiscriminately please check the correctness once before deduction\",\n\"charges\",\n\"application\"],\n [\"user guide to navigate and fully utilize all features of the tool is required your person is not fully aware of the all features of the tool\",\n\"application\",\n\"service\"],\n [\"too many areas which need improvement would appreciate if senior executive can call me\",\n\"service\",\n\"others\"],\n [\"your previous app is good and recent app is is not good and handy your advisor have nothing knowledge when i call for something they says sir confirm karta hu\",\n\"people\",\n\"application\"],\n [\"at some specific points human involvement should not be there in different categories of trading plans\",\n\"service\",\n\"application\"],\n [\"some stock not performed\",\n\"service\",\n\"others\"],\n [\"please make log in more simple on the web\",\n\"process\",\n\"others\"],\n [\"i was requesting for last few months to close my trading account and to freeze dp account executives were giving lame excuses etc\",\n\"others\",\n\"service\"],\n [\"not happy\",\n\"others\",\n\"service\"],\n [\"i have referred persons but got benefit of only i have been complaining since months but problem not solved most irritating thing is that same details from fress asked each time and different reasons was given for it\",\n\"process\",\n\"application\"],\n [\"fund transfer issu\",\n\"process\",\n\"others\"],\n [\"neo customer services are not upto mark considerable improvement is required to resolve system problems faced by neo customers\",\n\"service\",\n\"application\"],\n [\"iam a new investor i navee sign up for margin pladge even though i paid for margin pladge every day i received sms for my account shows negative values even i visited the namakkal branch the kodak staf did not help me to solve this problem iam totally disappointed with kodak i wadt breakup all transactions from kodak\",\n\"application\",\n\"service\"],\n [\"applied lic ipo did not get and money not refunded yet complained every one yet not solved\",\n\"application\",\n\"service\"],\n [\"my interaction with employees is goodmy main problem is when my stop loss is hited my trade should have to immediately square off but it takes to to square off my trade\",\n\"service\",\n\"application\"],\n [\"the person interacting should also know clients portal as well i should be able to see all my information on the website although i see there are so many menus on the website but difficult to find useful information\",\n\"service\",\n\"application\"],\n [\"flat form keatpro is not good for trading\",\n\"service\",\n\"application\"],\n [\"the divis lab shares which were not ordered by us have been purchased without any bid by us clear position need to be informed with evidence\",\n\"service\",\n\"application\"],\n [\"customer service is pathetic brokerage structure is absolutely uncompetitive\",\n\"charges\",\n\"service\"],\n [\"as kotak charges for charges amc of demat then why does deduct charges after selling stock no service provider deducts like this it seems a costly affair to this platform\",\n\"service\",\n\"charges\"],\n [\"people not understand issue\",\n\"people\",\n\"process\"],\n [\"your call is on neo is late due to which any body cannot catch the trend\",\n\"application\",\n\"service\"],\n [\"worst experience\",\n\"others\",\n\"service\"],\n [\"you have to build your system so that if anyone has to generate report it will be easy in terms of turnover stt total buy and sell figures in quarter basis and not easy to get and even ccr customer care representatives are not skilled so that they can help us well\",\n\"service\",\n\"application\"],\n [\"provide your suggestion in the website dont disturb your customers had asked report to fill itr till now didnt receive it\",\n\"application\",\n\"service\"],\n [\"transperency in account not there kotak charge anything with no explanation\",\n\"charges\",\n\"service\"],\n [\"please make it fast and simple ui\",\n\"application\",\n\"others\"],\n [\"i am trying to solve a small issue of converting my neo account to kst from last months several times i have been talk to customer care but still not my issue is not solved frustrating experience with kotak securities\",\n\"application\",\n\"service\"],\n [\"it shows wrong ltp in options\",\n\"others\",\n\"application\"],\n [\"my relationship manager was not at all customer centric process to update the address details are also not clear and it doesn t work when offline kyc file is uploaded always throws the error invalid file\",\n\"process\",\n\"service\"],\n [\"keatspro plat form has several deficiency when we open report order it does not show script name no filtering of orders no pop up message once order is executed cancelled\",\n\"service\",\n\"application\"],\n [\"have talked to people in a day and had different redressal ideas what a joke\",\n\"people\",\n\"service\"],\n [\"when placing multiple option orders it is not showing how much margin is required\",\n\"charges\",\n\"application\"],\n [\"there is agreement between big players it is manipulated fraud market not natural market\",\n\"service\",\n\"application\"],\n [\"toll free numbers are not answering many time or person attending is not having desired knowledge to solve the issue redirecting to other platforms for solutions whereas they are called only after getting disappointing from other platforms like whatsapp and email in the era of fast delivery i am running pillar to post to get the issue settled from without any fault of mine and unable to trade till date\",\n\"people\",\n\"service\"],\n [\"be polite\",\n\"service\",\n\"others\"],\n [\"kotak securities people does not take initiative to resolve the issue\",\n\"people\",\n\"service\"],\n [\"very heavy and unreasonable penalty applied on me for short trades and nobody resolved my grievance\",\n\"application\",\n\"service\"],\n [\"charges are high app is not slick\",\n\"charges\",\n\"application\"],\n [\"hidden chargesxare exorbitantcharges\",\n\"charges\",\n\"others\"],\n [\"get ur act right before you turn irrelevant\",\n\"service\",\n\"others\"],\n [\"pls pls try to give more recomendations in f o segment specially for nifty and nifty bank one of my friend is having account with angel one and last month he earned cool lakhs on investment of rs lakhs it must be known to you that in last few months angel one has grown mainly because of f o business and you are lacking you have such a good team hats off to mr sahaj aggarwal and mr shrikant chauhan but on ground recos are missing please look in to it and i am confident people will flock ks\",\n\"product\",\n\"process\"]],\n        columns: [[\"string\", \"x\"], [\"string\", \"y\"], [\"string\", \"y_pred\"]],\n        columnOptions: [],\n        rowsPerPage: 10,\n        helpUrl: \"https://colab.research.google.com/notebooks/data_table.ipynb\",\n        suppressOutputScrolling: true,\n        minimumWidth: undefined,\n      });\n    ",
            "text/plain": [
              "<google.colab.data_table.DataTable object>"
            ]
          },
          "metadata": {},
          "execution_count": 38
        }
      ]
    },
    {
      "cell_type": "code",
      "source": [],
      "metadata": {
        "id": "AuQ7dHts_d6m"
      },
      "execution_count": null,
      "outputs": []
    }
  ],
  "metadata": {
    "kernelspec": {
      "display_name": "Python 3",
      "language": "python",
      "name": "python3"
    },
    "language_info": {
      "codemirror_mode": {
        "name": "ipython",
        "version": 3
      },
      "file_extension": ".py",
      "mimetype": "text/x-python",
      "name": "python",
      "nbconvert_exporter": "python",
      "pygments_lexer": "ipython3",
      "version": "3.9.11"
    },
    "orig_nbformat": 4,
    "colab": {
      "provenance": [],
      "gpuType": "T4",
      "include_colab_link": true
    },
    "gpuClass": "standard",
    "accelerator": "GPU",
    "widgets": {
      "application/vnd.jupyter.widget-state+json": {
        "dece318a4e6f42cd96b2a76fbb6ea37e": {
          "model_module": "@jupyter-widgets/controls",
          "model_name": "HBoxModel",
          "model_module_version": "1.5.0",
          "state": {
            "_dom_classes": [],
            "_model_module": "@jupyter-widgets/controls",
            "_model_module_version": "1.5.0",
            "_model_name": "HBoxModel",
            "_view_count": null,
            "_view_module": "@jupyter-widgets/controls",
            "_view_module_version": "1.5.0",
            "_view_name": "HBoxView",
            "box_style": "",
            "children": [
              "IPY_MODEL_ef86dd6f04b0432e9873d494e27497eb",
              "IPY_MODEL_6386921a53544fa59f7e7e9f1e107dbe",
              "IPY_MODEL_4412beb9d1074d7ebf978ab59d862aa1"
            ],
            "layout": "IPY_MODEL_b8a1616f6afe4749a1e44e548028d62d"
          }
        },
        "ef86dd6f04b0432e9873d494e27497eb": {
          "model_module": "@jupyter-widgets/controls",
          "model_name": "HTMLModel",
          "model_module_version": "1.5.0",
          "state": {
            "_dom_classes": [],
            "_model_module": "@jupyter-widgets/controls",
            "_model_module_version": "1.5.0",
            "_model_name": "HTMLModel",
            "_view_count": null,
            "_view_module": "@jupyter-widgets/controls",
            "_view_module_version": "1.5.0",
            "_view_name": "HTMLView",
            "description": "",
            "description_tooltip": null,
            "layout": "IPY_MODEL_71656cdf82b44bc7a3960cebc81dda14",
            "placeholder": "​",
            "style": "IPY_MODEL_bd6173951b1f44fc8b848e8c586eb20a",
            "value": "Downloading (…)solve/main/vocab.txt: 100%"
          }
        },
        "6386921a53544fa59f7e7e9f1e107dbe": {
          "model_module": "@jupyter-widgets/controls",
          "model_name": "FloatProgressModel",
          "model_module_version": "1.5.0",
          "state": {
            "_dom_classes": [],
            "_model_module": "@jupyter-widgets/controls",
            "_model_module_version": "1.5.0",
            "_model_name": "FloatProgressModel",
            "_view_count": null,
            "_view_module": "@jupyter-widgets/controls",
            "_view_module_version": "1.5.0",
            "_view_name": "ProgressView",
            "bar_style": "success",
            "description": "",
            "description_tooltip": null,
            "layout": "IPY_MODEL_6751ab67cf524b4f9eb01be6c58d38a3",
            "max": 231508,
            "min": 0,
            "orientation": "horizontal",
            "style": "IPY_MODEL_11ea318dfc96453d8f0215c17c2d5310",
            "value": 231508
          }
        },
        "4412beb9d1074d7ebf978ab59d862aa1": {
          "model_module": "@jupyter-widgets/controls",
          "model_name": "HTMLModel",
          "model_module_version": "1.5.0",
          "state": {
            "_dom_classes": [],
            "_model_module": "@jupyter-widgets/controls",
            "_model_module_version": "1.5.0",
            "_model_name": "HTMLModel",
            "_view_count": null,
            "_view_module": "@jupyter-widgets/controls",
            "_view_module_version": "1.5.0",
            "_view_name": "HTMLView",
            "description": "",
            "description_tooltip": null,
            "layout": "IPY_MODEL_578647479f3a4493b2ed6f7fc2547671",
            "placeholder": "​",
            "style": "IPY_MODEL_422cbe2f54a04eb79064defa13662874",
            "value": " 232k/232k [00:00&lt;00:00, 1.90MB/s]"
          }
        },
        "b8a1616f6afe4749a1e44e548028d62d": {
          "model_module": "@jupyter-widgets/base",
          "model_name": "LayoutModel",
          "model_module_version": "1.2.0",
          "state": {
            "_model_module": "@jupyter-widgets/base",
            "_model_module_version": "1.2.0",
            "_model_name": "LayoutModel",
            "_view_count": null,
            "_view_module": "@jupyter-widgets/base",
            "_view_module_version": "1.2.0",
            "_view_name": "LayoutView",
            "align_content": null,
            "align_items": null,
            "align_self": null,
            "border": null,
            "bottom": null,
            "display": null,
            "flex": null,
            "flex_flow": null,
            "grid_area": null,
            "grid_auto_columns": null,
            "grid_auto_flow": null,
            "grid_auto_rows": null,
            "grid_column": null,
            "grid_gap": null,
            "grid_row": null,
            "grid_template_areas": null,
            "grid_template_columns": null,
            "grid_template_rows": null,
            "height": null,
            "justify_content": null,
            "justify_items": null,
            "left": null,
            "margin": null,
            "max_height": null,
            "max_width": null,
            "min_height": null,
            "min_width": null,
            "object_fit": null,
            "object_position": null,
            "order": null,
            "overflow": null,
            "overflow_x": null,
            "overflow_y": null,
            "padding": null,
            "right": null,
            "top": null,
            "visibility": null,
            "width": null
          }
        },
        "71656cdf82b44bc7a3960cebc81dda14": {
          "model_module": "@jupyter-widgets/base",
          "model_name": "LayoutModel",
          "model_module_version": "1.2.0",
          "state": {
            "_model_module": "@jupyter-widgets/base",
            "_model_module_version": "1.2.0",
            "_model_name": "LayoutModel",
            "_view_count": null,
            "_view_module": "@jupyter-widgets/base",
            "_view_module_version": "1.2.0",
            "_view_name": "LayoutView",
            "align_content": null,
            "align_items": null,
            "align_self": null,
            "border": null,
            "bottom": null,
            "display": null,
            "flex": null,
            "flex_flow": null,
            "grid_area": null,
            "grid_auto_columns": null,
            "grid_auto_flow": null,
            "grid_auto_rows": null,
            "grid_column": null,
            "grid_gap": null,
            "grid_row": null,
            "grid_template_areas": null,
            "grid_template_columns": null,
            "grid_template_rows": null,
            "height": null,
            "justify_content": null,
            "justify_items": null,
            "left": null,
            "margin": null,
            "max_height": null,
            "max_width": null,
            "min_height": null,
            "min_width": null,
            "object_fit": null,
            "object_position": null,
            "order": null,
            "overflow": null,
            "overflow_x": null,
            "overflow_y": null,
            "padding": null,
            "right": null,
            "top": null,
            "visibility": null,
            "width": null
          }
        },
        "bd6173951b1f44fc8b848e8c586eb20a": {
          "model_module": "@jupyter-widgets/controls",
          "model_name": "DescriptionStyleModel",
          "model_module_version": "1.5.0",
          "state": {
            "_model_module": "@jupyter-widgets/controls",
            "_model_module_version": "1.5.0",
            "_model_name": "DescriptionStyleModel",
            "_view_count": null,
            "_view_module": "@jupyter-widgets/base",
            "_view_module_version": "1.2.0",
            "_view_name": "StyleView",
            "description_width": ""
          }
        },
        "6751ab67cf524b4f9eb01be6c58d38a3": {
          "model_module": "@jupyter-widgets/base",
          "model_name": "LayoutModel",
          "model_module_version": "1.2.0",
          "state": {
            "_model_module": "@jupyter-widgets/base",
            "_model_module_version": "1.2.0",
            "_model_name": "LayoutModel",
            "_view_count": null,
            "_view_module": "@jupyter-widgets/base",
            "_view_module_version": "1.2.0",
            "_view_name": "LayoutView",
            "align_content": null,
            "align_items": null,
            "align_self": null,
            "border": null,
            "bottom": null,
            "display": null,
            "flex": null,
            "flex_flow": null,
            "grid_area": null,
            "grid_auto_columns": null,
            "grid_auto_flow": null,
            "grid_auto_rows": null,
            "grid_column": null,
            "grid_gap": null,
            "grid_row": null,
            "grid_template_areas": null,
            "grid_template_columns": null,
            "grid_template_rows": null,
            "height": null,
            "justify_content": null,
            "justify_items": null,
            "left": null,
            "margin": null,
            "max_height": null,
            "max_width": null,
            "min_height": null,
            "min_width": null,
            "object_fit": null,
            "object_position": null,
            "order": null,
            "overflow": null,
            "overflow_x": null,
            "overflow_y": null,
            "padding": null,
            "right": null,
            "top": null,
            "visibility": null,
            "width": null
          }
        },
        "11ea318dfc96453d8f0215c17c2d5310": {
          "model_module": "@jupyter-widgets/controls",
          "model_name": "ProgressStyleModel",
          "model_module_version": "1.5.0",
          "state": {
            "_model_module": "@jupyter-widgets/controls",
            "_model_module_version": "1.5.0",
            "_model_name": "ProgressStyleModel",
            "_view_count": null,
            "_view_module": "@jupyter-widgets/base",
            "_view_module_version": "1.2.0",
            "_view_name": "StyleView",
            "bar_color": null,
            "description_width": ""
          }
        },
        "578647479f3a4493b2ed6f7fc2547671": {
          "model_module": "@jupyter-widgets/base",
          "model_name": "LayoutModel",
          "model_module_version": "1.2.0",
          "state": {
            "_model_module": "@jupyter-widgets/base",
            "_model_module_version": "1.2.0",
            "_model_name": "LayoutModel",
            "_view_count": null,
            "_view_module": "@jupyter-widgets/base",
            "_view_module_version": "1.2.0",
            "_view_name": "LayoutView",
            "align_content": null,
            "align_items": null,
            "align_self": null,
            "border": null,
            "bottom": null,
            "display": null,
            "flex": null,
            "flex_flow": null,
            "grid_area": null,
            "grid_auto_columns": null,
            "grid_auto_flow": null,
            "grid_auto_rows": null,
            "grid_column": null,
            "grid_gap": null,
            "grid_row": null,
            "grid_template_areas": null,
            "grid_template_columns": null,
            "grid_template_rows": null,
            "height": null,
            "justify_content": null,
            "justify_items": null,
            "left": null,
            "margin": null,
            "max_height": null,
            "max_width": null,
            "min_height": null,
            "min_width": null,
            "object_fit": null,
            "object_position": null,
            "order": null,
            "overflow": null,
            "overflow_x": null,
            "overflow_y": null,
            "padding": null,
            "right": null,
            "top": null,
            "visibility": null,
            "width": null
          }
        },
        "422cbe2f54a04eb79064defa13662874": {
          "model_module": "@jupyter-widgets/controls",
          "model_name": "DescriptionStyleModel",
          "model_module_version": "1.5.0",
          "state": {
            "_model_module": "@jupyter-widgets/controls",
            "_model_module_version": "1.5.0",
            "_model_name": "DescriptionStyleModel",
            "_view_count": null,
            "_view_module": "@jupyter-widgets/base",
            "_view_module_version": "1.2.0",
            "_view_name": "StyleView",
            "description_width": ""
          }
        },
        "325e32a67613429399717da50af5f702": {
          "model_module": "@jupyter-widgets/controls",
          "model_name": "HBoxModel",
          "model_module_version": "1.5.0",
          "state": {
            "_dom_classes": [],
            "_model_module": "@jupyter-widgets/controls",
            "_model_module_version": "1.5.0",
            "_model_name": "HBoxModel",
            "_view_count": null,
            "_view_module": "@jupyter-widgets/controls",
            "_view_module_version": "1.5.0",
            "_view_name": "HBoxView",
            "box_style": "",
            "children": [
              "IPY_MODEL_018110ed1040451180a406b1df5bbc30",
              "IPY_MODEL_dd3b2f8e009c49a9a073178e76864f44",
              "IPY_MODEL_7dc469cfda244e0e9060040efe4b1910"
            ],
            "layout": "IPY_MODEL_d5457998fe744c029e72fa0551733e4e"
          }
        },
        "018110ed1040451180a406b1df5bbc30": {
          "model_module": "@jupyter-widgets/controls",
          "model_name": "HTMLModel",
          "model_module_version": "1.5.0",
          "state": {
            "_dom_classes": [],
            "_model_module": "@jupyter-widgets/controls",
            "_model_module_version": "1.5.0",
            "_model_name": "HTMLModel",
            "_view_count": null,
            "_view_module": "@jupyter-widgets/controls",
            "_view_module_version": "1.5.0",
            "_view_name": "HTMLView",
            "description": "",
            "description_tooltip": null,
            "layout": "IPY_MODEL_642603e9da0043af9e821469326ce634",
            "placeholder": "​",
            "style": "IPY_MODEL_0e44574664fe41519143c0d85ebf3962",
            "value": "Downloading (…)okenizer_config.json: 100%"
          }
        },
        "dd3b2f8e009c49a9a073178e76864f44": {
          "model_module": "@jupyter-widgets/controls",
          "model_name": "FloatProgressModel",
          "model_module_version": "1.5.0",
          "state": {
            "_dom_classes": [],
            "_model_module": "@jupyter-widgets/controls",
            "_model_module_version": "1.5.0",
            "_model_name": "FloatProgressModel",
            "_view_count": null,
            "_view_module": "@jupyter-widgets/controls",
            "_view_module_version": "1.5.0",
            "_view_name": "ProgressView",
            "bar_style": "success",
            "description": "",
            "description_tooltip": null,
            "layout": "IPY_MODEL_da8fa33c1a1b40a6bc7b7e1c5764a9c7",
            "max": 28,
            "min": 0,
            "orientation": "horizontal",
            "style": "IPY_MODEL_9963770ba76f41d0a62b6ec23269a84e",
            "value": 28
          }
        },
        "7dc469cfda244e0e9060040efe4b1910": {
          "model_module": "@jupyter-widgets/controls",
          "model_name": "HTMLModel",
          "model_module_version": "1.5.0",
          "state": {
            "_dom_classes": [],
            "_model_module": "@jupyter-widgets/controls",
            "_model_module_version": "1.5.0",
            "_model_name": "HTMLModel",
            "_view_count": null,
            "_view_module": "@jupyter-widgets/controls",
            "_view_module_version": "1.5.0",
            "_view_name": "HTMLView",
            "description": "",
            "description_tooltip": null,
            "layout": "IPY_MODEL_519833f1e4a844c0a6144130fcc77a83",
            "placeholder": "​",
            "style": "IPY_MODEL_ce4559d33b4048e3a767ec770517de3a",
            "value": " 28.0/28.0 [00:00&lt;00:00, 640B/s]"
          }
        },
        "d5457998fe744c029e72fa0551733e4e": {
          "model_module": "@jupyter-widgets/base",
          "model_name": "LayoutModel",
          "model_module_version": "1.2.0",
          "state": {
            "_model_module": "@jupyter-widgets/base",
            "_model_module_version": "1.2.0",
            "_model_name": "LayoutModel",
            "_view_count": null,
            "_view_module": "@jupyter-widgets/base",
            "_view_module_version": "1.2.0",
            "_view_name": "LayoutView",
            "align_content": null,
            "align_items": null,
            "align_self": null,
            "border": null,
            "bottom": null,
            "display": null,
            "flex": null,
            "flex_flow": null,
            "grid_area": null,
            "grid_auto_columns": null,
            "grid_auto_flow": null,
            "grid_auto_rows": null,
            "grid_column": null,
            "grid_gap": null,
            "grid_row": null,
            "grid_template_areas": null,
            "grid_template_columns": null,
            "grid_template_rows": null,
            "height": null,
            "justify_content": null,
            "justify_items": null,
            "left": null,
            "margin": null,
            "max_height": null,
            "max_width": null,
            "min_height": null,
            "min_width": null,
            "object_fit": null,
            "object_position": null,
            "order": null,
            "overflow": null,
            "overflow_x": null,
            "overflow_y": null,
            "padding": null,
            "right": null,
            "top": null,
            "visibility": null,
            "width": null
          }
        },
        "642603e9da0043af9e821469326ce634": {
          "model_module": "@jupyter-widgets/base",
          "model_name": "LayoutModel",
          "model_module_version": "1.2.0",
          "state": {
            "_model_module": "@jupyter-widgets/base",
            "_model_module_version": "1.2.0",
            "_model_name": "LayoutModel",
            "_view_count": null,
            "_view_module": "@jupyter-widgets/base",
            "_view_module_version": "1.2.0",
            "_view_name": "LayoutView",
            "align_content": null,
            "align_items": null,
            "align_self": null,
            "border": null,
            "bottom": null,
            "display": null,
            "flex": null,
            "flex_flow": null,
            "grid_area": null,
            "grid_auto_columns": null,
            "grid_auto_flow": null,
            "grid_auto_rows": null,
            "grid_column": null,
            "grid_gap": null,
            "grid_row": null,
            "grid_template_areas": null,
            "grid_template_columns": null,
            "grid_template_rows": null,
            "height": null,
            "justify_content": null,
            "justify_items": null,
            "left": null,
            "margin": null,
            "max_height": null,
            "max_width": null,
            "min_height": null,
            "min_width": null,
            "object_fit": null,
            "object_position": null,
            "order": null,
            "overflow": null,
            "overflow_x": null,
            "overflow_y": null,
            "padding": null,
            "right": null,
            "top": null,
            "visibility": null,
            "width": null
          }
        },
        "0e44574664fe41519143c0d85ebf3962": {
          "model_module": "@jupyter-widgets/controls",
          "model_name": "DescriptionStyleModel",
          "model_module_version": "1.5.0",
          "state": {
            "_model_module": "@jupyter-widgets/controls",
            "_model_module_version": "1.5.0",
            "_model_name": "DescriptionStyleModel",
            "_view_count": null,
            "_view_module": "@jupyter-widgets/base",
            "_view_module_version": "1.2.0",
            "_view_name": "StyleView",
            "description_width": ""
          }
        },
        "da8fa33c1a1b40a6bc7b7e1c5764a9c7": {
          "model_module": "@jupyter-widgets/base",
          "model_name": "LayoutModel",
          "model_module_version": "1.2.0",
          "state": {
            "_model_module": "@jupyter-widgets/base",
            "_model_module_version": "1.2.0",
            "_model_name": "LayoutModel",
            "_view_count": null,
            "_view_module": "@jupyter-widgets/base",
            "_view_module_version": "1.2.0",
            "_view_name": "LayoutView",
            "align_content": null,
            "align_items": null,
            "align_self": null,
            "border": null,
            "bottom": null,
            "display": null,
            "flex": null,
            "flex_flow": null,
            "grid_area": null,
            "grid_auto_columns": null,
            "grid_auto_flow": null,
            "grid_auto_rows": null,
            "grid_column": null,
            "grid_gap": null,
            "grid_row": null,
            "grid_template_areas": null,
            "grid_template_columns": null,
            "grid_template_rows": null,
            "height": null,
            "justify_content": null,
            "justify_items": null,
            "left": null,
            "margin": null,
            "max_height": null,
            "max_width": null,
            "min_height": null,
            "min_width": null,
            "object_fit": null,
            "object_position": null,
            "order": null,
            "overflow": null,
            "overflow_x": null,
            "overflow_y": null,
            "padding": null,
            "right": null,
            "top": null,
            "visibility": null,
            "width": null
          }
        },
        "9963770ba76f41d0a62b6ec23269a84e": {
          "model_module": "@jupyter-widgets/controls",
          "model_name": "ProgressStyleModel",
          "model_module_version": "1.5.0",
          "state": {
            "_model_module": "@jupyter-widgets/controls",
            "_model_module_version": "1.5.0",
            "_model_name": "ProgressStyleModel",
            "_view_count": null,
            "_view_module": "@jupyter-widgets/base",
            "_view_module_version": "1.2.0",
            "_view_name": "StyleView",
            "bar_color": null,
            "description_width": ""
          }
        },
        "519833f1e4a844c0a6144130fcc77a83": {
          "model_module": "@jupyter-widgets/base",
          "model_name": "LayoutModel",
          "model_module_version": "1.2.0",
          "state": {
            "_model_module": "@jupyter-widgets/base",
            "_model_module_version": "1.2.0",
            "_model_name": "LayoutModel",
            "_view_count": null,
            "_view_module": "@jupyter-widgets/base",
            "_view_module_version": "1.2.0",
            "_view_name": "LayoutView",
            "align_content": null,
            "align_items": null,
            "align_self": null,
            "border": null,
            "bottom": null,
            "display": null,
            "flex": null,
            "flex_flow": null,
            "grid_area": null,
            "grid_auto_columns": null,
            "grid_auto_flow": null,
            "grid_auto_rows": null,
            "grid_column": null,
            "grid_gap": null,
            "grid_row": null,
            "grid_template_areas": null,
            "grid_template_columns": null,
            "grid_template_rows": null,
            "height": null,
            "justify_content": null,
            "justify_items": null,
            "left": null,
            "margin": null,
            "max_height": null,
            "max_width": null,
            "min_height": null,
            "min_width": null,
            "object_fit": null,
            "object_position": null,
            "order": null,
            "overflow": null,
            "overflow_x": null,
            "overflow_y": null,
            "padding": null,
            "right": null,
            "top": null,
            "visibility": null,
            "width": null
          }
        },
        "ce4559d33b4048e3a767ec770517de3a": {
          "model_module": "@jupyter-widgets/controls",
          "model_name": "DescriptionStyleModel",
          "model_module_version": "1.5.0",
          "state": {
            "_model_module": "@jupyter-widgets/controls",
            "_model_module_version": "1.5.0",
            "_model_name": "DescriptionStyleModel",
            "_view_count": null,
            "_view_module": "@jupyter-widgets/base",
            "_view_module_version": "1.2.0",
            "_view_name": "StyleView",
            "description_width": ""
          }
        },
        "199e0dcfc2464b649a9f4147050cbc36": {
          "model_module": "@jupyter-widgets/controls",
          "model_name": "HBoxModel",
          "model_module_version": "1.5.0",
          "state": {
            "_dom_classes": [],
            "_model_module": "@jupyter-widgets/controls",
            "_model_module_version": "1.5.0",
            "_model_name": "HBoxModel",
            "_view_count": null,
            "_view_module": "@jupyter-widgets/controls",
            "_view_module_version": "1.5.0",
            "_view_name": "HBoxView",
            "box_style": "",
            "children": [
              "IPY_MODEL_c42314883306409ab1f7cf82fc8ca5b5",
              "IPY_MODEL_c4d204f5321849cbac9374b79d78d254",
              "IPY_MODEL_ddbe34203496414291bc19c5fdd63a72"
            ],
            "layout": "IPY_MODEL_f24b8384fe69400288e5cccfca52a574"
          }
        },
        "c42314883306409ab1f7cf82fc8ca5b5": {
          "model_module": "@jupyter-widgets/controls",
          "model_name": "HTMLModel",
          "model_module_version": "1.5.0",
          "state": {
            "_dom_classes": [],
            "_model_module": "@jupyter-widgets/controls",
            "_model_module_version": "1.5.0",
            "_model_name": "HTMLModel",
            "_view_count": null,
            "_view_module": "@jupyter-widgets/controls",
            "_view_module_version": "1.5.0",
            "_view_name": "HTMLView",
            "description": "",
            "description_tooltip": null,
            "layout": "IPY_MODEL_9c3a89e5029c4a6f99bbd4d8521b0e1f",
            "placeholder": "​",
            "style": "IPY_MODEL_e1093fd1d0e94605893748e5414a4a78",
            "value": "Downloading (…)lve/main/config.json: 100%"
          }
        },
        "c4d204f5321849cbac9374b79d78d254": {
          "model_module": "@jupyter-widgets/controls",
          "model_name": "FloatProgressModel",
          "model_module_version": "1.5.0",
          "state": {
            "_dom_classes": [],
            "_model_module": "@jupyter-widgets/controls",
            "_model_module_version": "1.5.0",
            "_model_name": "FloatProgressModel",
            "_view_count": null,
            "_view_module": "@jupyter-widgets/controls",
            "_view_module_version": "1.5.0",
            "_view_name": "ProgressView",
            "bar_style": "success",
            "description": "",
            "description_tooltip": null,
            "layout": "IPY_MODEL_d398f5f20a574d978f781c2d2cc966a1",
            "max": 570,
            "min": 0,
            "orientation": "horizontal",
            "style": "IPY_MODEL_c62551d30f8a49c9a29c54fae29c52b5",
            "value": 570
          }
        },
        "ddbe34203496414291bc19c5fdd63a72": {
          "model_module": "@jupyter-widgets/controls",
          "model_name": "HTMLModel",
          "model_module_version": "1.5.0",
          "state": {
            "_dom_classes": [],
            "_model_module": "@jupyter-widgets/controls",
            "_model_module_version": "1.5.0",
            "_model_name": "HTMLModel",
            "_view_count": null,
            "_view_module": "@jupyter-widgets/controls",
            "_view_module_version": "1.5.0",
            "_view_name": "HTMLView",
            "description": "",
            "description_tooltip": null,
            "layout": "IPY_MODEL_64d0899f108943098856bcaebb773d33",
            "placeholder": "​",
            "style": "IPY_MODEL_1a859ab57fe749f48aa4189d620e3a73",
            "value": " 570/570 [00:00&lt;00:00, 12.7kB/s]"
          }
        },
        "f24b8384fe69400288e5cccfca52a574": {
          "model_module": "@jupyter-widgets/base",
          "model_name": "LayoutModel",
          "model_module_version": "1.2.0",
          "state": {
            "_model_module": "@jupyter-widgets/base",
            "_model_module_version": "1.2.0",
            "_model_name": "LayoutModel",
            "_view_count": null,
            "_view_module": "@jupyter-widgets/base",
            "_view_module_version": "1.2.0",
            "_view_name": "LayoutView",
            "align_content": null,
            "align_items": null,
            "align_self": null,
            "border": null,
            "bottom": null,
            "display": null,
            "flex": null,
            "flex_flow": null,
            "grid_area": null,
            "grid_auto_columns": null,
            "grid_auto_flow": null,
            "grid_auto_rows": null,
            "grid_column": null,
            "grid_gap": null,
            "grid_row": null,
            "grid_template_areas": null,
            "grid_template_columns": null,
            "grid_template_rows": null,
            "height": null,
            "justify_content": null,
            "justify_items": null,
            "left": null,
            "margin": null,
            "max_height": null,
            "max_width": null,
            "min_height": null,
            "min_width": null,
            "object_fit": null,
            "object_position": null,
            "order": null,
            "overflow": null,
            "overflow_x": null,
            "overflow_y": null,
            "padding": null,
            "right": null,
            "top": null,
            "visibility": null,
            "width": null
          }
        },
        "9c3a89e5029c4a6f99bbd4d8521b0e1f": {
          "model_module": "@jupyter-widgets/base",
          "model_name": "LayoutModel",
          "model_module_version": "1.2.0",
          "state": {
            "_model_module": "@jupyter-widgets/base",
            "_model_module_version": "1.2.0",
            "_model_name": "LayoutModel",
            "_view_count": null,
            "_view_module": "@jupyter-widgets/base",
            "_view_module_version": "1.2.0",
            "_view_name": "LayoutView",
            "align_content": null,
            "align_items": null,
            "align_self": null,
            "border": null,
            "bottom": null,
            "display": null,
            "flex": null,
            "flex_flow": null,
            "grid_area": null,
            "grid_auto_columns": null,
            "grid_auto_flow": null,
            "grid_auto_rows": null,
            "grid_column": null,
            "grid_gap": null,
            "grid_row": null,
            "grid_template_areas": null,
            "grid_template_columns": null,
            "grid_template_rows": null,
            "height": null,
            "justify_content": null,
            "justify_items": null,
            "left": null,
            "margin": null,
            "max_height": null,
            "max_width": null,
            "min_height": null,
            "min_width": null,
            "object_fit": null,
            "object_position": null,
            "order": null,
            "overflow": null,
            "overflow_x": null,
            "overflow_y": null,
            "padding": null,
            "right": null,
            "top": null,
            "visibility": null,
            "width": null
          }
        },
        "e1093fd1d0e94605893748e5414a4a78": {
          "model_module": "@jupyter-widgets/controls",
          "model_name": "DescriptionStyleModel",
          "model_module_version": "1.5.0",
          "state": {
            "_model_module": "@jupyter-widgets/controls",
            "_model_module_version": "1.5.0",
            "_model_name": "DescriptionStyleModel",
            "_view_count": null,
            "_view_module": "@jupyter-widgets/base",
            "_view_module_version": "1.2.0",
            "_view_name": "StyleView",
            "description_width": ""
          }
        },
        "d398f5f20a574d978f781c2d2cc966a1": {
          "model_module": "@jupyter-widgets/base",
          "model_name": "LayoutModel",
          "model_module_version": "1.2.0",
          "state": {
            "_model_module": "@jupyter-widgets/base",
            "_model_module_version": "1.2.0",
            "_model_name": "LayoutModel",
            "_view_count": null,
            "_view_module": "@jupyter-widgets/base",
            "_view_module_version": "1.2.0",
            "_view_name": "LayoutView",
            "align_content": null,
            "align_items": null,
            "align_self": null,
            "border": null,
            "bottom": null,
            "display": null,
            "flex": null,
            "flex_flow": null,
            "grid_area": null,
            "grid_auto_columns": null,
            "grid_auto_flow": null,
            "grid_auto_rows": null,
            "grid_column": null,
            "grid_gap": null,
            "grid_row": null,
            "grid_template_areas": null,
            "grid_template_columns": null,
            "grid_template_rows": null,
            "height": null,
            "justify_content": null,
            "justify_items": null,
            "left": null,
            "margin": null,
            "max_height": null,
            "max_width": null,
            "min_height": null,
            "min_width": null,
            "object_fit": null,
            "object_position": null,
            "order": null,
            "overflow": null,
            "overflow_x": null,
            "overflow_y": null,
            "padding": null,
            "right": null,
            "top": null,
            "visibility": null,
            "width": null
          }
        },
        "c62551d30f8a49c9a29c54fae29c52b5": {
          "model_module": "@jupyter-widgets/controls",
          "model_name": "ProgressStyleModel",
          "model_module_version": "1.5.0",
          "state": {
            "_model_module": "@jupyter-widgets/controls",
            "_model_module_version": "1.5.0",
            "_model_name": "ProgressStyleModel",
            "_view_count": null,
            "_view_module": "@jupyter-widgets/base",
            "_view_module_version": "1.2.0",
            "_view_name": "StyleView",
            "bar_color": null,
            "description_width": ""
          }
        },
        "64d0899f108943098856bcaebb773d33": {
          "model_module": "@jupyter-widgets/base",
          "model_name": "LayoutModel",
          "model_module_version": "1.2.0",
          "state": {
            "_model_module": "@jupyter-widgets/base",
            "_model_module_version": "1.2.0",
            "_model_name": "LayoutModel",
            "_view_count": null,
            "_view_module": "@jupyter-widgets/base",
            "_view_module_version": "1.2.0",
            "_view_name": "LayoutView",
            "align_content": null,
            "align_items": null,
            "align_self": null,
            "border": null,
            "bottom": null,
            "display": null,
            "flex": null,
            "flex_flow": null,
            "grid_area": null,
            "grid_auto_columns": null,
            "grid_auto_flow": null,
            "grid_auto_rows": null,
            "grid_column": null,
            "grid_gap": null,
            "grid_row": null,
            "grid_template_areas": null,
            "grid_template_columns": null,
            "grid_template_rows": null,
            "height": null,
            "justify_content": null,
            "justify_items": null,
            "left": null,
            "margin": null,
            "max_height": null,
            "max_width": null,
            "min_height": null,
            "min_width": null,
            "object_fit": null,
            "object_position": null,
            "order": null,
            "overflow": null,
            "overflow_x": null,
            "overflow_y": null,
            "padding": null,
            "right": null,
            "top": null,
            "visibility": null,
            "width": null
          }
        },
        "1a859ab57fe749f48aa4189d620e3a73": {
          "model_module": "@jupyter-widgets/controls",
          "model_name": "DescriptionStyleModel",
          "model_module_version": "1.5.0",
          "state": {
            "_model_module": "@jupyter-widgets/controls",
            "_model_module_version": "1.5.0",
            "_model_name": "DescriptionStyleModel",
            "_view_count": null,
            "_view_module": "@jupyter-widgets/base",
            "_view_module_version": "1.2.0",
            "_view_name": "StyleView",
            "description_width": ""
          }
        },
        "cf7722b06e7f4ae9bab86ace2caba28e": {
          "model_module": "@jupyter-widgets/controls",
          "model_name": "HBoxModel",
          "model_module_version": "1.5.0",
          "state": {
            "_dom_classes": [],
            "_model_module": "@jupyter-widgets/controls",
            "_model_module_version": "1.5.0",
            "_model_name": "HBoxModel",
            "_view_count": null,
            "_view_module": "@jupyter-widgets/controls",
            "_view_module_version": "1.5.0",
            "_view_name": "HBoxView",
            "box_style": "",
            "children": [
              "IPY_MODEL_2554287602f6403c985122a60e3ae4b9",
              "IPY_MODEL_8d10ead03aae4c0bb77fb3ee8453e05b",
              "IPY_MODEL_117228f404314a948f934bbffe5c4098"
            ],
            "layout": "IPY_MODEL_7b1a017ef31d47f284be185b725e5e59"
          }
        },
        "2554287602f6403c985122a60e3ae4b9": {
          "model_module": "@jupyter-widgets/controls",
          "model_name": "HTMLModel",
          "model_module_version": "1.5.0",
          "state": {
            "_dom_classes": [],
            "_model_module": "@jupyter-widgets/controls",
            "_model_module_version": "1.5.0",
            "_model_name": "HTMLModel",
            "_view_count": null,
            "_view_module": "@jupyter-widgets/controls",
            "_view_module_version": "1.5.0",
            "_view_name": "HTMLView",
            "description": "",
            "description_tooltip": null,
            "layout": "IPY_MODEL_e3d6323994eb4b12a7d91cbc95128edc",
            "placeholder": "​",
            "style": "IPY_MODEL_96b9f0e479c4449a924471988f51c123",
            "value": "Downloading pytorch_model.bin: 100%"
          }
        },
        "8d10ead03aae4c0bb77fb3ee8453e05b": {
          "model_module": "@jupyter-widgets/controls",
          "model_name": "FloatProgressModel",
          "model_module_version": "1.5.0",
          "state": {
            "_dom_classes": [],
            "_model_module": "@jupyter-widgets/controls",
            "_model_module_version": "1.5.0",
            "_model_name": "FloatProgressModel",
            "_view_count": null,
            "_view_module": "@jupyter-widgets/controls",
            "_view_module_version": "1.5.0",
            "_view_name": "ProgressView",
            "bar_style": "success",
            "description": "",
            "description_tooltip": null,
            "layout": "IPY_MODEL_50af7e5ecd8b4c43b494d9e3e8789a8b",
            "max": 440473133,
            "min": 0,
            "orientation": "horizontal",
            "style": "IPY_MODEL_196a7ec1f9a74624a7e1395c48ff8cd1",
            "value": 440473133
          }
        },
        "117228f404314a948f934bbffe5c4098": {
          "model_module": "@jupyter-widgets/controls",
          "model_name": "HTMLModel",
          "model_module_version": "1.5.0",
          "state": {
            "_dom_classes": [],
            "_model_module": "@jupyter-widgets/controls",
            "_model_module_version": "1.5.0",
            "_model_name": "HTMLModel",
            "_view_count": null,
            "_view_module": "@jupyter-widgets/controls",
            "_view_module_version": "1.5.0",
            "_view_name": "HTMLView",
            "description": "",
            "description_tooltip": null,
            "layout": "IPY_MODEL_e856fee805e542b09b3ff9906f5c4119",
            "placeholder": "​",
            "style": "IPY_MODEL_f9be97e5b4d3478aa4f90b13eb069cf0",
            "value": " 440M/440M [00:07&lt;00:00, 65.5MB/s]"
          }
        },
        "7b1a017ef31d47f284be185b725e5e59": {
          "model_module": "@jupyter-widgets/base",
          "model_name": "LayoutModel",
          "model_module_version": "1.2.0",
          "state": {
            "_model_module": "@jupyter-widgets/base",
            "_model_module_version": "1.2.0",
            "_model_name": "LayoutModel",
            "_view_count": null,
            "_view_module": "@jupyter-widgets/base",
            "_view_module_version": "1.2.0",
            "_view_name": "LayoutView",
            "align_content": null,
            "align_items": null,
            "align_self": null,
            "border": null,
            "bottom": null,
            "display": null,
            "flex": null,
            "flex_flow": null,
            "grid_area": null,
            "grid_auto_columns": null,
            "grid_auto_flow": null,
            "grid_auto_rows": null,
            "grid_column": null,
            "grid_gap": null,
            "grid_row": null,
            "grid_template_areas": null,
            "grid_template_columns": null,
            "grid_template_rows": null,
            "height": null,
            "justify_content": null,
            "justify_items": null,
            "left": null,
            "margin": null,
            "max_height": null,
            "max_width": null,
            "min_height": null,
            "min_width": null,
            "object_fit": null,
            "object_position": null,
            "order": null,
            "overflow": null,
            "overflow_x": null,
            "overflow_y": null,
            "padding": null,
            "right": null,
            "top": null,
            "visibility": null,
            "width": null
          }
        },
        "e3d6323994eb4b12a7d91cbc95128edc": {
          "model_module": "@jupyter-widgets/base",
          "model_name": "LayoutModel",
          "model_module_version": "1.2.0",
          "state": {
            "_model_module": "@jupyter-widgets/base",
            "_model_module_version": "1.2.0",
            "_model_name": "LayoutModel",
            "_view_count": null,
            "_view_module": "@jupyter-widgets/base",
            "_view_module_version": "1.2.0",
            "_view_name": "LayoutView",
            "align_content": null,
            "align_items": null,
            "align_self": null,
            "border": null,
            "bottom": null,
            "display": null,
            "flex": null,
            "flex_flow": null,
            "grid_area": null,
            "grid_auto_columns": null,
            "grid_auto_flow": null,
            "grid_auto_rows": null,
            "grid_column": null,
            "grid_gap": null,
            "grid_row": null,
            "grid_template_areas": null,
            "grid_template_columns": null,
            "grid_template_rows": null,
            "height": null,
            "justify_content": null,
            "justify_items": null,
            "left": null,
            "margin": null,
            "max_height": null,
            "max_width": null,
            "min_height": null,
            "min_width": null,
            "object_fit": null,
            "object_position": null,
            "order": null,
            "overflow": null,
            "overflow_x": null,
            "overflow_y": null,
            "padding": null,
            "right": null,
            "top": null,
            "visibility": null,
            "width": null
          }
        },
        "96b9f0e479c4449a924471988f51c123": {
          "model_module": "@jupyter-widgets/controls",
          "model_name": "DescriptionStyleModel",
          "model_module_version": "1.5.0",
          "state": {
            "_model_module": "@jupyter-widgets/controls",
            "_model_module_version": "1.5.0",
            "_model_name": "DescriptionStyleModel",
            "_view_count": null,
            "_view_module": "@jupyter-widgets/base",
            "_view_module_version": "1.2.0",
            "_view_name": "StyleView",
            "description_width": ""
          }
        },
        "50af7e5ecd8b4c43b494d9e3e8789a8b": {
          "model_module": "@jupyter-widgets/base",
          "model_name": "LayoutModel",
          "model_module_version": "1.2.0",
          "state": {
            "_model_module": "@jupyter-widgets/base",
            "_model_module_version": "1.2.0",
            "_model_name": "LayoutModel",
            "_view_count": null,
            "_view_module": "@jupyter-widgets/base",
            "_view_module_version": "1.2.0",
            "_view_name": "LayoutView",
            "align_content": null,
            "align_items": null,
            "align_self": null,
            "border": null,
            "bottom": null,
            "display": null,
            "flex": null,
            "flex_flow": null,
            "grid_area": null,
            "grid_auto_columns": null,
            "grid_auto_flow": null,
            "grid_auto_rows": null,
            "grid_column": null,
            "grid_gap": null,
            "grid_row": null,
            "grid_template_areas": null,
            "grid_template_columns": null,
            "grid_template_rows": null,
            "height": null,
            "justify_content": null,
            "justify_items": null,
            "left": null,
            "margin": null,
            "max_height": null,
            "max_width": null,
            "min_height": null,
            "min_width": null,
            "object_fit": null,
            "object_position": null,
            "order": null,
            "overflow": null,
            "overflow_x": null,
            "overflow_y": null,
            "padding": null,
            "right": null,
            "top": null,
            "visibility": null,
            "width": null
          }
        },
        "196a7ec1f9a74624a7e1395c48ff8cd1": {
          "model_module": "@jupyter-widgets/controls",
          "model_name": "ProgressStyleModel",
          "model_module_version": "1.5.0",
          "state": {
            "_model_module": "@jupyter-widgets/controls",
            "_model_module_version": "1.5.0",
            "_model_name": "ProgressStyleModel",
            "_view_count": null,
            "_view_module": "@jupyter-widgets/base",
            "_view_module_version": "1.2.0",
            "_view_name": "StyleView",
            "bar_color": null,
            "description_width": ""
          }
        },
        "e856fee805e542b09b3ff9906f5c4119": {
          "model_module": "@jupyter-widgets/base",
          "model_name": "LayoutModel",
          "model_module_version": "1.2.0",
          "state": {
            "_model_module": "@jupyter-widgets/base",
            "_model_module_version": "1.2.0",
            "_model_name": "LayoutModel",
            "_view_count": null,
            "_view_module": "@jupyter-widgets/base",
            "_view_module_version": "1.2.0",
            "_view_name": "LayoutView",
            "align_content": null,
            "align_items": null,
            "align_self": null,
            "border": null,
            "bottom": null,
            "display": null,
            "flex": null,
            "flex_flow": null,
            "grid_area": null,
            "grid_auto_columns": null,
            "grid_auto_flow": null,
            "grid_auto_rows": null,
            "grid_column": null,
            "grid_gap": null,
            "grid_row": null,
            "grid_template_areas": null,
            "grid_template_columns": null,
            "grid_template_rows": null,
            "height": null,
            "justify_content": null,
            "justify_items": null,
            "left": null,
            "margin": null,
            "max_height": null,
            "max_width": null,
            "min_height": null,
            "min_width": null,
            "object_fit": null,
            "object_position": null,
            "order": null,
            "overflow": null,
            "overflow_x": null,
            "overflow_y": null,
            "padding": null,
            "right": null,
            "top": null,
            "visibility": null,
            "width": null
          }
        },
        "f9be97e5b4d3478aa4f90b13eb069cf0": {
          "model_module": "@jupyter-widgets/controls",
          "model_name": "DescriptionStyleModel",
          "model_module_version": "1.5.0",
          "state": {
            "_model_module": "@jupyter-widgets/controls",
            "_model_module_version": "1.5.0",
            "_model_name": "DescriptionStyleModel",
            "_view_count": null,
            "_view_module": "@jupyter-widgets/base",
            "_view_module_version": "1.2.0",
            "_view_name": "StyleView",
            "description_width": ""
          }
        },
        "9b0829f89fde40079903e1a397189143": {
          "model_module": "@jupyter-widgets/controls",
          "model_name": "HBoxModel",
          "model_module_version": "1.5.0",
          "state": {
            "_dom_classes": [],
            "_model_module": "@jupyter-widgets/controls",
            "_model_module_version": "1.5.0",
            "_model_name": "HBoxModel",
            "_view_count": null,
            "_view_module": "@jupyter-widgets/controls",
            "_view_module_version": "1.5.0",
            "_view_name": "HBoxView",
            "box_style": "",
            "children": [
              "IPY_MODEL_3fc92a86dd5f446e813e25823ab49884",
              "IPY_MODEL_f6f69cd2e14047ca93cddbf025ed831c",
              "IPY_MODEL_4e27885e0dff46a0913d58da0849aaa8"
            ],
            "layout": "IPY_MODEL_abfbc7976834482f9a75e0b3ed16c0d0"
          }
        },
        "3fc92a86dd5f446e813e25823ab49884": {
          "model_module": "@jupyter-widgets/controls",
          "model_name": "HTMLModel",
          "model_module_version": "1.5.0",
          "state": {
            "_dom_classes": [],
            "_model_module": "@jupyter-widgets/controls",
            "_model_module_version": "1.5.0",
            "_model_name": "HTMLModel",
            "_view_count": null,
            "_view_module": "@jupyter-widgets/controls",
            "_view_module_version": "1.5.0",
            "_view_name": "HTMLView",
            "description": "",
            "description_tooltip": null,
            "layout": "IPY_MODEL_b0218ec5d3834c6fb6a9f9571fd9f4b9",
            "placeholder": "​",
            "style": "IPY_MODEL_43d852c72727476baaee30054582ab6a",
            "value": "  0%"
          }
        },
        "f6f69cd2e14047ca93cddbf025ed831c": {
          "model_module": "@jupyter-widgets/controls",
          "model_name": "FloatProgressModel",
          "model_module_version": "1.5.0",
          "state": {
            "_dom_classes": [],
            "_model_module": "@jupyter-widgets/controls",
            "_model_module_version": "1.5.0",
            "_model_name": "FloatProgressModel",
            "_view_count": null,
            "_view_module": "@jupyter-widgets/controls",
            "_view_module_version": "1.5.0",
            "_view_name": "ProgressView",
            "bar_style": "",
            "description": "",
            "description_tooltip": null,
            "layout": "IPY_MODEL_e654ba0743484815b378480ff303fcac",
            "max": 5,
            "min": 0,
            "orientation": "horizontal",
            "style": "IPY_MODEL_7afcd85a933041629a5cddf86b30dcb4",
            "value": 0
          }
        },
        "4e27885e0dff46a0913d58da0849aaa8": {
          "model_module": "@jupyter-widgets/controls",
          "model_name": "HTMLModel",
          "model_module_version": "1.5.0",
          "state": {
            "_dom_classes": [],
            "_model_module": "@jupyter-widgets/controls",
            "_model_module_version": "1.5.0",
            "_model_name": "HTMLModel",
            "_view_count": null,
            "_view_module": "@jupyter-widgets/controls",
            "_view_module_version": "1.5.0",
            "_view_name": "HTMLView",
            "description": "",
            "description_tooltip": null,
            "layout": "IPY_MODEL_8f87d84de9f04ffeb6f9bb73ee566032",
            "placeholder": "​",
            "style": "IPY_MODEL_0023d33a00ce46f2a8ed16b047671ac6",
            "value": " 0/5 [00:00&lt;?, ?it/s]"
          }
        },
        "abfbc7976834482f9a75e0b3ed16c0d0": {
          "model_module": "@jupyter-widgets/base",
          "model_name": "LayoutModel",
          "model_module_version": "1.2.0",
          "state": {
            "_model_module": "@jupyter-widgets/base",
            "_model_module_version": "1.2.0",
            "_model_name": "LayoutModel",
            "_view_count": null,
            "_view_module": "@jupyter-widgets/base",
            "_view_module_version": "1.2.0",
            "_view_name": "LayoutView",
            "align_content": null,
            "align_items": null,
            "align_self": null,
            "border": null,
            "bottom": null,
            "display": null,
            "flex": null,
            "flex_flow": null,
            "grid_area": null,
            "grid_auto_columns": null,
            "grid_auto_flow": null,
            "grid_auto_rows": null,
            "grid_column": null,
            "grid_gap": null,
            "grid_row": null,
            "grid_template_areas": null,
            "grid_template_columns": null,
            "grid_template_rows": null,
            "height": null,
            "justify_content": null,
            "justify_items": null,
            "left": null,
            "margin": null,
            "max_height": null,
            "max_width": null,
            "min_height": null,
            "min_width": null,
            "object_fit": null,
            "object_position": null,
            "order": null,
            "overflow": null,
            "overflow_x": null,
            "overflow_y": null,
            "padding": null,
            "right": null,
            "top": null,
            "visibility": null,
            "width": null
          }
        },
        "b0218ec5d3834c6fb6a9f9571fd9f4b9": {
          "model_module": "@jupyter-widgets/base",
          "model_name": "LayoutModel",
          "model_module_version": "1.2.0",
          "state": {
            "_model_module": "@jupyter-widgets/base",
            "_model_module_version": "1.2.0",
            "_model_name": "LayoutModel",
            "_view_count": null,
            "_view_module": "@jupyter-widgets/base",
            "_view_module_version": "1.2.0",
            "_view_name": "LayoutView",
            "align_content": null,
            "align_items": null,
            "align_self": null,
            "border": null,
            "bottom": null,
            "display": null,
            "flex": null,
            "flex_flow": null,
            "grid_area": null,
            "grid_auto_columns": null,
            "grid_auto_flow": null,
            "grid_auto_rows": null,
            "grid_column": null,
            "grid_gap": null,
            "grid_row": null,
            "grid_template_areas": null,
            "grid_template_columns": null,
            "grid_template_rows": null,
            "height": null,
            "justify_content": null,
            "justify_items": null,
            "left": null,
            "margin": null,
            "max_height": null,
            "max_width": null,
            "min_height": null,
            "min_width": null,
            "object_fit": null,
            "object_position": null,
            "order": null,
            "overflow": null,
            "overflow_x": null,
            "overflow_y": null,
            "padding": null,
            "right": null,
            "top": null,
            "visibility": null,
            "width": null
          }
        },
        "43d852c72727476baaee30054582ab6a": {
          "model_module": "@jupyter-widgets/controls",
          "model_name": "DescriptionStyleModel",
          "model_module_version": "1.5.0",
          "state": {
            "_model_module": "@jupyter-widgets/controls",
            "_model_module_version": "1.5.0",
            "_model_name": "DescriptionStyleModel",
            "_view_count": null,
            "_view_module": "@jupyter-widgets/base",
            "_view_module_version": "1.2.0",
            "_view_name": "StyleView",
            "description_width": ""
          }
        },
        "e654ba0743484815b378480ff303fcac": {
          "model_module": "@jupyter-widgets/base",
          "model_name": "LayoutModel",
          "model_module_version": "1.2.0",
          "state": {
            "_model_module": "@jupyter-widgets/base",
            "_model_module_version": "1.2.0",
            "_model_name": "LayoutModel",
            "_view_count": null,
            "_view_module": "@jupyter-widgets/base",
            "_view_module_version": "1.2.0",
            "_view_name": "LayoutView",
            "align_content": null,
            "align_items": null,
            "align_self": null,
            "border": null,
            "bottom": null,
            "display": null,
            "flex": null,
            "flex_flow": null,
            "grid_area": null,
            "grid_auto_columns": null,
            "grid_auto_flow": null,
            "grid_auto_rows": null,
            "grid_column": null,
            "grid_gap": null,
            "grid_row": null,
            "grid_template_areas": null,
            "grid_template_columns": null,
            "grid_template_rows": null,
            "height": null,
            "justify_content": null,
            "justify_items": null,
            "left": null,
            "margin": null,
            "max_height": null,
            "max_width": null,
            "min_height": null,
            "min_width": null,
            "object_fit": null,
            "object_position": null,
            "order": null,
            "overflow": null,
            "overflow_x": null,
            "overflow_y": null,
            "padding": null,
            "right": null,
            "top": null,
            "visibility": null,
            "width": null
          }
        },
        "7afcd85a933041629a5cddf86b30dcb4": {
          "model_module": "@jupyter-widgets/controls",
          "model_name": "ProgressStyleModel",
          "model_module_version": "1.5.0",
          "state": {
            "_model_module": "@jupyter-widgets/controls",
            "_model_module_version": "1.5.0",
            "_model_name": "ProgressStyleModel",
            "_view_count": null,
            "_view_module": "@jupyter-widgets/base",
            "_view_module_version": "1.2.0",
            "_view_name": "StyleView",
            "bar_color": null,
            "description_width": ""
          }
        },
        "8f87d84de9f04ffeb6f9bb73ee566032": {
          "model_module": "@jupyter-widgets/base",
          "model_name": "LayoutModel",
          "model_module_version": "1.2.0",
          "state": {
            "_model_module": "@jupyter-widgets/base",
            "_model_module_version": "1.2.0",
            "_model_name": "LayoutModel",
            "_view_count": null,
            "_view_module": "@jupyter-widgets/base",
            "_view_module_version": "1.2.0",
            "_view_name": "LayoutView",
            "align_content": null,
            "align_items": null,
            "align_self": null,
            "border": null,
            "bottom": null,
            "display": null,
            "flex": null,
            "flex_flow": null,
            "grid_area": null,
            "grid_auto_columns": null,
            "grid_auto_flow": null,
            "grid_auto_rows": null,
            "grid_column": null,
            "grid_gap": null,
            "grid_row": null,
            "grid_template_areas": null,
            "grid_template_columns": null,
            "grid_template_rows": null,
            "height": null,
            "justify_content": null,
            "justify_items": null,
            "left": null,
            "margin": null,
            "max_height": null,
            "max_width": null,
            "min_height": null,
            "min_width": null,
            "object_fit": null,
            "object_position": null,
            "order": null,
            "overflow": null,
            "overflow_x": null,
            "overflow_y": null,
            "padding": null,
            "right": null,
            "top": null,
            "visibility": null,
            "width": null
          }
        },
        "0023d33a00ce46f2a8ed16b047671ac6": {
          "model_module": "@jupyter-widgets/controls",
          "model_name": "DescriptionStyleModel",
          "model_module_version": "1.5.0",
          "state": {
            "_model_module": "@jupyter-widgets/controls",
            "_model_module_version": "1.5.0",
            "_model_name": "DescriptionStyleModel",
            "_view_count": null,
            "_view_module": "@jupyter-widgets/base",
            "_view_module_version": "1.2.0",
            "_view_name": "StyleView",
            "description_width": ""
          }
        },
        "bd5d6a9d6e1c495e888d4f2866fcc288": {
          "model_module": "@jupyter-widgets/controls",
          "model_name": "HBoxModel",
          "model_module_version": "1.5.0",
          "state": {
            "_dom_classes": [],
            "_model_module": "@jupyter-widgets/controls",
            "_model_module_version": "1.5.0",
            "_model_name": "HBoxModel",
            "_view_count": null,
            "_view_module": "@jupyter-widgets/controls",
            "_view_module_version": "1.5.0",
            "_view_name": "HBoxView",
            "box_style": "",
            "children": [
              "IPY_MODEL_74b309aa46b94d94af0c7784d07678b9",
              "IPY_MODEL_90145d66ff8d425bbc4039c856a35ba9",
              "IPY_MODEL_011af971cd304bd1a07bd742521c1a4f"
            ],
            "layout": "IPY_MODEL_f50dc12bad454588896616c665ffad48"
          }
        },
        "74b309aa46b94d94af0c7784d07678b9": {
          "model_module": "@jupyter-widgets/controls",
          "model_name": "HTMLModel",
          "model_module_version": "1.5.0",
          "state": {
            "_dom_classes": [],
            "_model_module": "@jupyter-widgets/controls",
            "_model_module_version": "1.5.0",
            "_model_name": "HTMLModel",
            "_view_count": null,
            "_view_module": "@jupyter-widgets/controls",
            "_view_module_version": "1.5.0",
            "_view_name": "HTMLView",
            "description": "",
            "description_tooltip": null,
            "layout": "IPY_MODEL_354001c82c9548d68ee06e9e839591ff",
            "placeholder": "​",
            "style": "IPY_MODEL_8ab887a6b42344e484f999d4724771b0",
            "value": "Epoch 1:   1%"
          }
        },
        "90145d66ff8d425bbc4039c856a35ba9": {
          "model_module": "@jupyter-widgets/controls",
          "model_name": "FloatProgressModel",
          "model_module_version": "1.5.0",
          "state": {
            "_dom_classes": [],
            "_model_module": "@jupyter-widgets/controls",
            "_model_module_version": "1.5.0",
            "_model_name": "FloatProgressModel",
            "_view_count": null,
            "_view_module": "@jupyter-widgets/controls",
            "_view_module_version": "1.5.0",
            "_view_name": "ProgressView",
            "bar_style": "",
            "description": "",
            "description_tooltip": null,
            "layout": "IPY_MODEL_ce7117180c4448959c88ea9265199246",
            "max": 1156,
            "min": 0,
            "orientation": "horizontal",
            "style": "IPY_MODEL_a930dde699074fa6a7d1ed98281e2ebc",
            "value": 13
          }
        },
        "011af971cd304bd1a07bd742521c1a4f": {
          "model_module": "@jupyter-widgets/controls",
          "model_name": "HTMLModel",
          "model_module_version": "1.5.0",
          "state": {
            "_dom_classes": [],
            "_model_module": "@jupyter-widgets/controls",
            "_model_module_version": "1.5.0",
            "_model_name": "HTMLModel",
            "_view_count": null,
            "_view_module": "@jupyter-widgets/controls",
            "_view_module_version": "1.5.0",
            "_view_name": "HTMLView",
            "description": "",
            "description_tooltip": null,
            "layout": "IPY_MODEL_66a6593bd6ad48d3bd269c0fe129f8ad",
            "placeholder": "​",
            "style": "IPY_MODEL_68239010841a4e41a08b74b91d06b509",
            "value": " 13/1156 [02:44&lt;3:36:10, 11.35s/it, training_loss=0.557]"
          }
        },
        "f50dc12bad454588896616c665ffad48": {
          "model_module": "@jupyter-widgets/base",
          "model_name": "LayoutModel",
          "model_module_version": "1.2.0",
          "state": {
            "_model_module": "@jupyter-widgets/base",
            "_model_module_version": "1.2.0",
            "_model_name": "LayoutModel",
            "_view_count": null,
            "_view_module": "@jupyter-widgets/base",
            "_view_module_version": "1.2.0",
            "_view_name": "LayoutView",
            "align_content": null,
            "align_items": null,
            "align_self": null,
            "border": null,
            "bottom": null,
            "display": null,
            "flex": null,
            "flex_flow": null,
            "grid_area": null,
            "grid_auto_columns": null,
            "grid_auto_flow": null,
            "grid_auto_rows": null,
            "grid_column": null,
            "grid_gap": null,
            "grid_row": null,
            "grid_template_areas": null,
            "grid_template_columns": null,
            "grid_template_rows": null,
            "height": null,
            "justify_content": null,
            "justify_items": null,
            "left": null,
            "margin": null,
            "max_height": null,
            "max_width": null,
            "min_height": null,
            "min_width": null,
            "object_fit": null,
            "object_position": null,
            "order": null,
            "overflow": null,
            "overflow_x": null,
            "overflow_y": null,
            "padding": null,
            "right": null,
            "top": null,
            "visibility": null,
            "width": null
          }
        },
        "354001c82c9548d68ee06e9e839591ff": {
          "model_module": "@jupyter-widgets/base",
          "model_name": "LayoutModel",
          "model_module_version": "1.2.0",
          "state": {
            "_model_module": "@jupyter-widgets/base",
            "_model_module_version": "1.2.0",
            "_model_name": "LayoutModel",
            "_view_count": null,
            "_view_module": "@jupyter-widgets/base",
            "_view_module_version": "1.2.0",
            "_view_name": "LayoutView",
            "align_content": null,
            "align_items": null,
            "align_self": null,
            "border": null,
            "bottom": null,
            "display": null,
            "flex": null,
            "flex_flow": null,
            "grid_area": null,
            "grid_auto_columns": null,
            "grid_auto_flow": null,
            "grid_auto_rows": null,
            "grid_column": null,
            "grid_gap": null,
            "grid_row": null,
            "grid_template_areas": null,
            "grid_template_columns": null,
            "grid_template_rows": null,
            "height": null,
            "justify_content": null,
            "justify_items": null,
            "left": null,
            "margin": null,
            "max_height": null,
            "max_width": null,
            "min_height": null,
            "min_width": null,
            "object_fit": null,
            "object_position": null,
            "order": null,
            "overflow": null,
            "overflow_x": null,
            "overflow_y": null,
            "padding": null,
            "right": null,
            "top": null,
            "visibility": null,
            "width": null
          }
        },
        "8ab887a6b42344e484f999d4724771b0": {
          "model_module": "@jupyter-widgets/controls",
          "model_name": "DescriptionStyleModel",
          "model_module_version": "1.5.0",
          "state": {
            "_model_module": "@jupyter-widgets/controls",
            "_model_module_version": "1.5.0",
            "_model_name": "DescriptionStyleModel",
            "_view_count": null,
            "_view_module": "@jupyter-widgets/base",
            "_view_module_version": "1.2.0",
            "_view_name": "StyleView",
            "description_width": ""
          }
        },
        "ce7117180c4448959c88ea9265199246": {
          "model_module": "@jupyter-widgets/base",
          "model_name": "LayoutModel",
          "model_module_version": "1.2.0",
          "state": {
            "_model_module": "@jupyter-widgets/base",
            "_model_module_version": "1.2.0",
            "_model_name": "LayoutModel",
            "_view_count": null,
            "_view_module": "@jupyter-widgets/base",
            "_view_module_version": "1.2.0",
            "_view_name": "LayoutView",
            "align_content": null,
            "align_items": null,
            "align_self": null,
            "border": null,
            "bottom": null,
            "display": null,
            "flex": null,
            "flex_flow": null,
            "grid_area": null,
            "grid_auto_columns": null,
            "grid_auto_flow": null,
            "grid_auto_rows": null,
            "grid_column": null,
            "grid_gap": null,
            "grid_row": null,
            "grid_template_areas": null,
            "grid_template_columns": null,
            "grid_template_rows": null,
            "height": null,
            "justify_content": null,
            "justify_items": null,
            "left": null,
            "margin": null,
            "max_height": null,
            "max_width": null,
            "min_height": null,
            "min_width": null,
            "object_fit": null,
            "object_position": null,
            "order": null,
            "overflow": null,
            "overflow_x": null,
            "overflow_y": null,
            "padding": null,
            "right": null,
            "top": null,
            "visibility": null,
            "width": null
          }
        },
        "a930dde699074fa6a7d1ed98281e2ebc": {
          "model_module": "@jupyter-widgets/controls",
          "model_name": "ProgressStyleModel",
          "model_module_version": "1.5.0",
          "state": {
            "_model_module": "@jupyter-widgets/controls",
            "_model_module_version": "1.5.0",
            "_model_name": "ProgressStyleModel",
            "_view_count": null,
            "_view_module": "@jupyter-widgets/base",
            "_view_module_version": "1.2.0",
            "_view_name": "StyleView",
            "bar_color": null,
            "description_width": ""
          }
        },
        "66a6593bd6ad48d3bd269c0fe129f8ad": {
          "model_module": "@jupyter-widgets/base",
          "model_name": "LayoutModel",
          "model_module_version": "1.2.0",
          "state": {
            "_model_module": "@jupyter-widgets/base",
            "_model_module_version": "1.2.0",
            "_model_name": "LayoutModel",
            "_view_count": null,
            "_view_module": "@jupyter-widgets/base",
            "_view_module_version": "1.2.0",
            "_view_name": "LayoutView",
            "align_content": null,
            "align_items": null,
            "align_self": null,
            "border": null,
            "bottom": null,
            "display": null,
            "flex": null,
            "flex_flow": null,
            "grid_area": null,
            "grid_auto_columns": null,
            "grid_auto_flow": null,
            "grid_auto_rows": null,
            "grid_column": null,
            "grid_gap": null,
            "grid_row": null,
            "grid_template_areas": null,
            "grid_template_columns": null,
            "grid_template_rows": null,
            "height": null,
            "justify_content": null,
            "justify_items": null,
            "left": null,
            "margin": null,
            "max_height": null,
            "max_width": null,
            "min_height": null,
            "min_width": null,
            "object_fit": null,
            "object_position": null,
            "order": null,
            "overflow": null,
            "overflow_x": null,
            "overflow_y": null,
            "padding": null,
            "right": null,
            "top": null,
            "visibility": null,
            "width": null
          }
        },
        "68239010841a4e41a08b74b91d06b509": {
          "model_module": "@jupyter-widgets/controls",
          "model_name": "DescriptionStyleModel",
          "model_module_version": "1.5.0",
          "state": {
            "_model_module": "@jupyter-widgets/controls",
            "_model_module_version": "1.5.0",
            "_model_name": "DescriptionStyleModel",
            "_view_count": null,
            "_view_module": "@jupyter-widgets/base",
            "_view_module_version": "1.2.0",
            "_view_name": "StyleView",
            "description_width": ""
          }
        }
      }
    }
  },
  "nbformat": 4,
  "nbformat_minor": 0
}