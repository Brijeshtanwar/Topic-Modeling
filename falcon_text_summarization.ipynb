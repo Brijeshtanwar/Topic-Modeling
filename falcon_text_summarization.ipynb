{
  "cells": [
    {
      "cell_type": "markdown",
      "metadata": {
        "id": "view-in-github",
        "colab_type": "text"
      },
      "source": [
        "<a href=\"https://colab.research.google.com/github/Brijeshtanwar/Topic-Modeling/blob/main/falcon_text_summarization.ipynb\" target=\"_parent\"><img src=\"https://colab.research.google.com/assets/colab-badge.svg\" alt=\"Open In Colab\"/></a>"
      ]
    },
    {
      "cell_type": "code",
      "source": [
        "import pandas as pd\n",
        "import numpy as np\n",
        "from matplotlib import pyplot as plt\n",
        "import seaborn as sns"
      ],
      "metadata": {
        "id": "NllHrfV1SwVB"
      },
      "execution_count": null,
      "outputs": []
    },
    {
      "cell_type": "code",
      "source": [
        "url = \"\"\"https://raw.githubusercontent.com/Brijeshtanwar/Topic-Modeling/main/voc_data.csv\"\"\"\n",
        "df = pd.read_csv(url,  encoding = 'unicode_escape')"
      ],
      "metadata": {
        "id": "y0eKOcmADPRR"
      },
      "execution_count": null,
      "outputs": []
    },
    {
      "cell_type": "code",
      "source": [
        "df = df[['CUSTOMER COMMENT', 'Reason']]\n",
        "df.columns = ['comment', 'topic']"
      ],
      "metadata": {
        "id": "CfnLvrmwDTYs"
      },
      "execution_count": null,
      "outputs": []
    },
    {
      "cell_type": "code",
      "source": [
        "df.isnull().sum()"
      ],
      "metadata": {
        "colab": {
          "base_uri": "https://localhost:8080/"
        },
        "id": "TAVmaIbaGJ7Q",
        "outputId": "2832ab4e-ee47-4522-cd09-3ea7c60d59b0"
      },
      "execution_count": null,
      "outputs": [
        {
          "output_type": "execute_result",
          "data": {
            "text/plain": [
              "comment    0\n",
              "topic      0\n",
              "dtype: int64"
            ]
          },
          "metadata": {},
          "execution_count": 4
        }
      ]
    },
    {
      "cell_type": "code",
      "source": [
        "# Drop na\n",
        "df.dropna(axis=0, inplace=True)"
      ],
      "metadata": {
        "id": "mE7XJr2XGNut"
      },
      "execution_count": null,
      "outputs": []
    },
    {
      "cell_type": "code",
      "execution_count": null,
      "metadata": {
        "colab": {
          "base_uri": "https://localhost:8080/"
        },
        "id": "Y5REI-pmCpf4",
        "outputId": "39dd24ee-54be-438e-e34e-48a086b7f498"
      },
      "outputs": [
        {
          "output_type": "execute_result",
          "data": {
            "text/plain": [
              "Service                      1570\n",
              "APPLICATION (WEB/APP)        1074\n",
              "SERVICE                       335\n",
              "CHARGES(BRO./DP/LPC ETC.)     332\n",
              "Others                        321\n",
              "NOT SPECIFIED                 254\n",
              "Not Specified                 216\n",
              "People                        113\n",
              "Process                        69\n",
              "PEOPLE                         32\n",
              "Product                        13\n",
              "PROCESS                         6\n",
              "Name: topic, dtype: int64"
            ]
          },
          "metadata": {},
          "execution_count": 6
        }
      ],
      "source": [
        "df.topic.value_counts()"
      ]
    },
    {
      "cell_type": "code",
      "source": [
        "#lower case\n",
        "df['topic'] = df['topic'].str.lower()\n",
        "df['topic'] = df['topic'].str.strip()\n",
        "df.loc[df.topic=='not specified', 'topic'] = 'others'"
      ],
      "metadata": {
        "id": "-7oI5-ss3f94"
      },
      "execution_count": null,
      "outputs": []
    },
    {
      "cell_type": "code",
      "source": [
        "df.topic.unique()"
      ],
      "metadata": {
        "colab": {
          "base_uri": "https://localhost:8080/"
        },
        "id": "W_rDJJa_0RyS",
        "outputId": "ffc52fba-8417-47c4-af9e-6feadc6ca7b2"
      },
      "execution_count": null,
      "outputs": [
        {
          "output_type": "execute_result",
          "data": {
            "text/plain": [
              "array(['service', 'application (web/app)', 'others',\n",
              "       'charges(bro./dp/lpc etc.)', 'process', 'people', 'product'],\n",
              "      dtype=object)"
            ]
          },
          "metadata": {},
          "execution_count": 8
        }
      ]
    },
    {
      "cell_type": "code",
      "source": [
        "topic_dic = {'application (web/app)': 'application',  'charges(bro./dp/lpc etc.)': 'charges', 'service':'service'\n",
        ", 'others':'others', 'process':'process', 'people':'people', 'product':'product'}"
      ],
      "metadata": {
        "id": "hsvhUkey0EN3"
      },
      "execution_count": null,
      "outputs": []
    },
    {
      "cell_type": "code",
      "source": [
        "df['topic'] = df['topic'].map(topic_dic)"
      ],
      "metadata": {
        "id": "aIG2L6LM0hS9"
      },
      "execution_count": null,
      "outputs": []
    },
    {
      "cell_type": "code",
      "source": [
        "plt.figure(figsize=[8,4])\n",
        "sns.countplot(y=df['topic'])"
      ],
      "metadata": {
        "colab": {
          "base_uri": "https://localhost:8080/",
          "height": 406
        },
        "id": "MubvvVlLGUwu",
        "outputId": "762a852f-90d8-4f02-c234-7d274ce1b118"
      },
      "execution_count": null,
      "outputs": [
        {
          "output_type": "execute_result",
          "data": {
            "text/plain": [
              "<Axes: xlabel='count', ylabel='topic'>"
            ]
          },
          "metadata": {},
          "execution_count": 11
        },
        {
          "output_type": "display_data",
          "data": {
            "text/plain": [
              "<Figure size 800x400 with 1 Axes>"
            ],
            "image/png": "[encoded data removed]"
          },
          "metadata": {}
        }
      ]
    },
    {
      "cell_type": "code",
      "source": [
        "# Preprocessing"
      ],
      "metadata": {
        "id": "s9NvV_7aGc7j"
      },
      "execution_count": null,
      "outputs": []
    },
    {
      "cell_type": "code",
      "execution_count": null,
      "metadata": {
        "id": "MhJ1E9y2Cpf5"
      },
      "outputs": [],
      "source": [
        "# Remove integer comments\n",
        "df = df[df['comment'].apply(lambda x: not isinstance(x, int))]\n",
        "df.reset_index(drop=True, inplace=True)\n",
        "\n",
        "#lower case\n",
        "df['comment'] = df['comment'].str.lower()"
      ]
    },
    {
      "cell_type": "code",
      "source": [
        "import re"
      ],
      "metadata": {
        "id": "GrHW0ZLXTm1a"
      },
      "execution_count": null,
      "outputs": []
    },
    {
      "cell_type": "code",
      "source": [
        "def preprocess_text(text):\n",
        "    ## clean (convert to lowercase and remove punctuations and  characters and then strip)\n",
        "    text = re.sub(r\"[^A-Za-z]+\", ' ' , str(text).lower().strip())\n",
        "    return text"
      ],
      "metadata": {
        "id": "uWknRVTUhGzl"
      },
      "execution_count": null,
      "outputs": []
    },
    {
      "cell_type": "code",
      "source": [
        "df[\"x\"] = df[\"comment\"].apply(lambda x: preprocess_text(x))\n",
        "# df['x'] = df['comment']\n",
        "df['y'] = df['topic']\n",
        "df.head(10)"
      ],
      "metadata": {
        "id": "iUEFP_HchGwG",
        "outputId": "fcd14a95-8257-4789-cfd4-bfdfea087036",
        "colab": {
          "base_uri": "https://localhost:8080/",
          "height": 362
        }
      },
      "execution_count": null,
      "outputs": [
        {
          "output_type": "execute_result",
          "data": {
            "text/plain": [
              "                                             comment        topic  \\\n",
              "0  querries where kotak is at disadvantageous pos...      service   \n",
              "1  1) same-day money deduction even if we have ma...  application   \n",
              "2                                         ndejjejdjx       others   \n",
              "3                              worst website trading  application   \n",
              "4  no technical support at real time, application...      service   \n",
              "5               need knowledge and experience person      service   \n",
              "6  please revisit my brokerage and deemat charges...      charges   \n",
              "7  iâm waiting for resolution or a meeting with...      service   \n",
              "8  i dint interacted so my rating may be a bias b...      service   \n",
              "9                              no issues with the rm      service   \n",
              "\n",
              "                                                   x            y  \n",
              "0  querries where kotak is at disadvantageous pos...      service  \n",
              "1   same day money deduction even if we have marg...  application  \n",
              "2                                         ndejjejdjx       others  \n",
              "3                              worst website trading  application  \n",
              "4  no technical support at real time application ...      service  \n",
              "5               need knowledge and experience person      service  \n",
              "6  please revisit my brokerage and deemat charges...      charges  \n",
              "7  i m waiting for resolution or a meeting with m...      service  \n",
              "8  i dint interacted so my rating may be a bias b...      service  \n",
              "9                              no issues with the rm      service  "
            ],
            "text/html": [
              "\n",
              "  <div id=\"df-bf42c79f-6d14-4ebf-ac17-fbfdfa14e4e8\">\n",
              "    <div class=\"colab-df-container\">\n",
              "      <div>\n",
              "<style scoped>\n",
              "    .dataframe tbody tr th:only-of-type {\n",
              "        vertical-align: middle;\n",
              "    }\n",
              "\n",
              "    .dataframe tbody tr th {\n",
              "        vertical-align: top;\n",
              "    }\n",
              "\n",
              "    .dataframe thead th {\n",
              "        text-align: right;\n",
              "    }\n",
              "</style>\n",
              "<table border=\"1\" class=\"dataframe\">\n",
              "  <thead>\n",
              "    <tr style=\"text-align: right;\">\n",
              "      <th></th>\n",
              "      <th>comment</th>\n",
              "      <th>topic</th>\n",
              "      <th>x</th>\n",
              "      <th>y</th>\n",
              "    </tr>\n",
              "  </thead>\n",
              "  <tbody>\n",
              "    <tr>\n",
              "      <th>0</th>\n",
              "      <td>querries where kotak is at disadvantageous pos...</td>\n",
              "      <td>service</td>\n",
              "      <td>querries where kotak is at disadvantageous pos...</td>\n",
              "      <td>service</td>\n",
              "    </tr>\n",
              "    <tr>\n",
              "      <th>1</th>\n",
              "      <td>1) same-day money deduction even if we have ma...</td>\n",
              "      <td>application</td>\n",
              "      <td>same day money deduction even if we have marg...</td>\n",
              "      <td>application</td>\n",
              "    </tr>\n",
              "    <tr>\n",
              "      <th>2</th>\n",
              "      <td>ndejjejdjx</td>\n",
              "      <td>others</td>\n",
              "      <td>ndejjejdjx</td>\n",
              "      <td>others</td>\n",
              "    </tr>\n",
              "    <tr>\n",
              "      <th>3</th>\n",
              "      <td>worst website trading</td>\n",
              "      <td>application</td>\n",
              "      <td>worst website trading</td>\n",
              "      <td>application</td>\n",
              "    </tr>\n",
              "    <tr>\n",
              "      <th>4</th>\n",
              "      <td>no technical support at real time, application...</td>\n",
              "      <td>service</td>\n",
              "      <td>no technical support at real time application ...</td>\n",
              "      <td>service</td>\n",
              "    </tr>\n",
              "    <tr>\n",
              "      <th>5</th>\n",
              "      <td>need knowledge and experience person</td>\n",
              "      <td>service</td>\n",
              "      <td>need knowledge and experience person</td>\n",
              "      <td>service</td>\n",
              "    </tr>\n",
              "    <tr>\n",
              "      <th>6</th>\n",
              "      <td>please revisit my brokerage and deemat charges...</td>\n",
              "      <td>charges</td>\n",
              "      <td>please revisit my brokerage and deemat charges...</td>\n",
              "      <td>charges</td>\n",
              "    </tr>\n",
              "    <tr>\n",
              "      <th>7</th>\n",
              "      <td>iâm waiting for resolution or a meeting with...</td>\n",
              "      <td>service</td>\n",
              "      <td>i m waiting for resolution or a meeting with m...</td>\n",
              "      <td>service</td>\n",
              "    </tr>\n",
              "    <tr>\n",
              "      <th>8</th>\n",
              "      <td>i dint interacted so my rating may be a bias b...</td>\n",
              "      <td>service</td>\n",
              "      <td>i dint interacted so my rating may be a bias b...</td>\n",
              "      <td>service</td>\n",
              "    </tr>\n",
              "    <tr>\n",
              "      <th>9</th>\n",
              "      <td>no issues with the rm</td>\n",
              "      <td>service</td>\n",
              "      <td>no issues with the rm</td>\n",
              "      <td>service</td>\n",
              "    </tr>\n",
              "  </tbody>\n",
              "</table>\n",
              "</div>\n",
              "      <button class=\"colab-df-convert\" onclick=\"convertToInteractive('df-bf42c79f-6d14-4ebf-ac17-fbfdfa14e4e8')\"\n",
              "              title=\"Convert this dataframe to an interactive table.\"\n",
              "              style=\"display:none;\">\n",
              "        \n",
              "  <svg xmlns=\"http://www.w3.org/2000/svg\" height=\"24px\"viewBox=\"0 0 24 24\"\n",
              "       width=\"24px\">\n",
              "    <path d=\"M0 0h24v24H0V0z\" fill=\"none\"/>\n",
              "    <path d=\"M18.56 5.44l.94 2.06.94-2.06 2.06-.94-2.06-.94-.94-2.06-.94 2.06-2.06.94zm-11 1L8.5 8.5l.94-2.06 2.06-.94-2.06-.94L8.5 2.5l-.94 2.06-2.06.94zm10 10l.94 2.06.94-2.06 2.06-.94-2.06-.94-.94-2.06-.94 2.06-2.06.94z\"/><path d=\"M17.41 7.96l-1.37-1.37c-.4-.4-.92-.59-1.43-.59-.52 0-1.04.2-1.43.59L10.3 9.45l-7.72 7.72c-.78.78-.78 2.05 0 2.83L4 21.41c.39.39.9.59 1.41.59.51 0 1.02-.2 1.41-.59l7.78-7.78 2.81-2.81c.8-.78.8-2.07 0-2.86zM5.41 20L4 18.59l7.72-7.72 1.47 1.35L5.41 20z\"/>\n",
              "  </svg>\n",
              "      </button>\n",
              "      \n",
              "  <style>\n",
              "    .colab-df-container {\n",
              "      display:flex;\n",
              "      flex-wrap:wrap;\n",
              "      gap: 12px;\n",
              "    }\n",
              "\n",
              "    .colab-df-convert {\n",
              "      background-color: #E8F0FE;\n",
              "      border: none;\n",
              "      border-radius: 50%;\n",
              "      cursor: pointer;\n",
              "      display: none;\n",
              "      fill: #1967D2;\n",
              "      height: 32px;\n",
              "      padding: 0 0 0 0;\n",
              "      width: 32px;\n",
              "    }\n",
              "\n",
              "    .colab-df-convert:hover {\n",
              "      background-color: #E2EBFA;\n",
              "      box-shadow: 0px 1px 2px rgba(60, 64, 67, 0.3), 0px 1px 3px 1px rgba(60, 64, 67, 0.15);\n",
              "      fill: #174EA6;\n",
              "    }\n",
              "\n",
              "    [theme=dark] .colab-df-convert {\n",
              "      background-color: #3B4455;\n",
              "      fill: #D2E3FC;\n",
              "    }\n",
              "\n",
              "    [theme=dark] .colab-df-convert:hover {\n",
              "      background-color: #434B5C;\n",
              "      box-shadow: 0px 1px 3px 1px rgba(0, 0, 0, 0.15);\n",
              "      filter: drop-shadow(0px 1px 2px rgba(0, 0, 0, 0.3));\n",
              "      fill: #FFFFFF;\n",
              "    }\n",
              "  </style>\n",
              "\n",
              "      <script>\n",
              "        const buttonEl =\n",
              "          document.querySelector('#df-bf42c79f-6d14-4ebf-ac17-fbfdfa14e4e8 button.colab-df-convert');\n",
              "        buttonEl.style.display =\n",
              "          google.colab.kernel.accessAllowed ? 'block' : 'none';\n",
              "\n",
              "        async function convertToInteractive(key) {\n",
              "          const element = document.querySelector('#df-bf42c79f-6d14-4ebf-ac17-fbfdfa14e4e8');\n",
              "          const dataTable =\n",
              "            await google.colab.kernel.invokeFunction('convertToInteractive',\n",
              "                                                     [key], {});\n",
              "          if (!dataTable) return;\n",
              "\n",
              "          const docLinkHtml = 'Like what you see? Visit the ' +\n",
              "            '<a target=\"_blank\" href=https://colab.research.google.com/notebooks/data_table.ipynb>data table notebook</a>'\n",
              "            + ' to learn more about interactive tables.';\n",
              "          element.innerHTML = '';\n",
              "          dataTable['output_type'] = 'display_data';\n",
              "          await google.colab.output.renderOutput(dataTable, element);\n",
              "          const docLink = document.createElement('div');\n",
              "          docLink.innerHTML = docLinkHtml;\n",
              "          element.appendChild(docLink);\n",
              "        }\n",
              "      </script>\n",
              "    </div>\n",
              "  </div>\n",
              "  "
            ]
          },
          "metadata": {},
          "execution_count": 16
        }
      ]
    },
    {
      "cell_type": "code",
      "source": [
        "df = df[['x', 'y']]"
      ],
      "metadata": {
        "id": "wpOehiWSN5eu"
      },
      "execution_count": null,
      "outputs": []
    },
    {
      "cell_type": "code",
      "source": [
        "text = \". \".join(df[df['y']=='people']['x'])"
      ],
      "metadata": {
        "id": "XJ0qX8txtIlF"
      },
      "execution_count": null,
      "outputs": []
    },
    {
      "cell_type": "code",
      "source": [
        "# SpaCy for text summarization"
      ],
      "metadata": {
        "id": "Av0QIEgupztW"
      },
      "execution_count": null,
      "outputs": []
    },
    {
      "cell_type": "code",
      "source": [
        "import spacy\n",
        "\n",
        "# Load the small English model\n",
        "nlp = spacy.load(\"en_core_web_sm\")\n",
        "\n",
        "def summarize_text(input_text, num_sentences=3):\n",
        "    # Parse the input text with Spacy\n",
        "    doc = nlp(input_text)\n",
        "\n",
        "    # Extract the sentences as a list of strings\n",
        "    sentences = [sent.text.strip() for sent in doc.sents]\n",
        "\n",
        "    # Calculate the total number of sentences and the number to keep for the summary\n",
        "    num_total_sentences = len(sentences)\n",
        "    num_summary_sentences = min(num_sentences, num_total_sentences)\n",
        "\n",
        "    # Calculate the \"importance score\" for each sentence\n",
        "    scores = {}\n",
        "    for i, sent in enumerate(sentences):\n",
        "        # Split the sentence into individual words\n",
        "        words = sent.split()\n",
        "\n",
        "        # Calculate the average word vector for the sentence\n",
        "        word_vectors = [nlp(word).vector for word in words if nlp(word).has_vector]\n",
        "        if len(word_vectors) > 0:\n",
        "            sent_vector = sum(word_vectors) / len(word_vectors)\n",
        "        else:\n",
        "            sent_vector = nlp(\"\")[0].vector\n",
        "\n",
        "        # Calculate the cosine similarity between the sentence vector and the document vector\n",
        "        doc_vector = doc.vector\n",
        "        sim = sent_vector.dot(doc_vector) / (np.linalg.norm(sent_vector) * np.linalg.norm(doc_vector))\n",
        "        scores[i] = sim\n",
        "\n",
        "    # Sort the sentences by score and keep the top N\n",
        "    top_sentences = sorted(scores, key=scores.get, reverse=True)[:num_summary_sentences]\n",
        "\n",
        "    # Sort the top sentences back into their original order\n",
        "    summary = [sentences[i] for i in sorted(top_sentences)]\n",
        "\n",
        "    # Join the summary sentences into a single string\n",
        "    return \" \".join(summary)\n"
      ],
      "metadata": {
        "id": "8F2MyJsXtIfi"
      },
      "execution_count": null,
      "outputs": []
    },
    {
      "cell_type": "code",
      "source": [
        "input_text = text\n",
        "summary = summarize_text(input_text, num_sentences=5)\n",
        "print(summary)\n"
      ],
      "metadata": {
        "colab": {
          "base_uri": "https://localhost:8080/"
        },
        "id": "L9ZWyPectIV2",
        "outputId": "b92a23d8-77ed-4d12-a75f-793d468c5f25"
      },
      "execution_count": null,
      "outputs": [
        {
          "output_type": "stream",
          "name": "stdout",
          "text": [
            "its very unfair to point out only dealer problem kotak securities is very back dated not client friendly please try to value add in various aspect knowledge technical try to reduce brokerage burden dont change dealer frequently bcoz clint dealer relationship make more confidence must improve technology part of your platform technology glitches make us most irritation . its very unfair to point out only dealer problem kotak securities is very back dated not client friendly please try to value add in various aspect knowledge technical try to reduce brokerage burden dont change dealer frequently bcoz clint dealer relationship make more confidence must improve technology part of your platform technology glitches make us most irritation . there should be dedicated person at branch level to advise on the software plat form operation generalists person with no knowledge about the operation of trading platform software from customer s point of view is totally lacking. all kotak securities team is frod they dont have knowledge off there apps customer care also have not knowledge how to deal with customer i have call to customer care for my security kotak security complaint they dont have any resolution customer care or only want to escape from customer they dont have any knowledge and satisfactory answer. you are waistig our precious time the rep having subject knowledge should call and actually be concern for resolving not a call for sake of call without any subject knowledge\n"
          ]
        }
      ]
    }
  ],
  "metadata": {
    "kernelspec": {
      "display_name": "Python 3",
      "language": "python",
      "name": "python3"
    },
    "language_info": {
      "codemirror_mode": {
        "name": "ipython",
        "version": 3
      },
      "file_extension": ".py",
      "mimetype": "text/x-python",
      "name": "python",
      "nbconvert_exporter": "python",
      "pygments_lexer": "ipython3",
      "version": "3.9.11"
    },
    "orig_nbformat": 4,
    "colab": {
      "provenance": [],
      "gpuType": "T4",
      "include_colab_link": true
    },
    "gpuClass": "standard"
  },
  "nbformat": 4,
  "nbformat_minor": 0
}