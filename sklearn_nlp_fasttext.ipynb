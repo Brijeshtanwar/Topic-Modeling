{
  "cells": [
    {
      "cell_type": "markdown",
      "metadata": {
        "id": "view-in-github",
        "colab_type": "text"
      },
      "source": [
        "<a href=\"https://colab.research.google.com/github/Brijeshtanwar/Topic-Modeling/blob/main/sklearn_nlp_fasttext.ipynb\" target=\"_parent\"><img src=\"https://colab.research.google.com/assets/colab-badge.svg\" alt=\"Open In Colab\"/></a>"
      ]
    },
    {
      "cell_type": "code",
      "execution_count": 172,
      "metadata": {
        "id": "Kl5yT1diCpf3"
      },
      "outputs": [],
      "source": [
        "import numpy as np \n",
        "import pandas as pd \n",
        "import matplotlib.pyplot as plt\n",
        "import seaborn as sns\n",
        "pd.set_option('display.max_columns', None)\n",
        "from IPython.core.interactiveshell import InteractiveShell\n",
        "InteractiveShell.ast_node_interactivity = \"all\"\n",
        "\n",
        "# NLP libraries\n",
        "import nltk\n",
        "import re\n",
        "from nltk.stem import WordNetLemmatizer\n",
        "from nltk.corpus import stopwords"
      ]
    },
    {
      "cell_type": "code",
      "source": [
        "nltk.download(\"stopwords\")\n",
        "nltk.download('wordnet')"
      ],
      "metadata": {
        "id": "fb2rPz7BkDXw",
        "outputId": "f589c9bf-f8d8-413c-e016-c08c3c4ac923",
        "colab": {
          "base_uri": "https://localhost:8080/"
        }
      },
      "execution_count": 173,
      "outputs": [
        {
          "output_type": "stream",
          "name": "stderr",
          "text": [
            "[nltk_data] Downloading package stopwords to /root/nltk_data...\n",
            "[nltk_data]   Package stopwords is already up-to-date!\n"
          ]
        },
        {
          "output_type": "execute_result",
          "data": {
            "text/plain": [
              "True"
            ]
          },
          "metadata": {},
          "execution_count": 173
        },
        {
          "output_type": "stream",
          "name": "stderr",
          "text": [
            "[nltk_data] Downloading package wordnet to /root/nltk_data...\n",
            "[nltk_data]   Package wordnet is already up-to-date!\n"
          ]
        },
        {
          "output_type": "execute_result",
          "data": {
            "text/plain": [
              "True"
            ]
          },
          "metadata": {},
          "execution_count": 173
        }
      ]
    },
    {
      "cell_type": "code",
      "source": [
        "url = \"\"\"https://raw.githubusercontent.com/Brijeshtanwar/Topic-Modeling/main/voc_data.csv\"\"\"\n",
        "df = pd.read_csv(url,  encoding = 'unicode_escape')"
      ],
      "metadata": {
        "id": "y0eKOcmADPRR"
      },
      "execution_count": 174,
      "outputs": []
    },
    {
      "cell_type": "code",
      "source": [
        "df = df[['CUSTOMER COMMENT', 'Reason']]\n",
        "df.columns = ['comment', 'topic']"
      ],
      "metadata": {
        "id": "CfnLvrmwDTYs"
      },
      "execution_count": 175,
      "outputs": []
    },
    {
      "cell_type": "code",
      "source": [
        "df.isnull().sum()"
      ],
      "metadata": {
        "colab": {
          "base_uri": "https://localhost:8080/"
        },
        "id": "TAVmaIbaGJ7Q",
        "outputId": "a640868a-63e8-42c3-ff5c-6944ca5332eb"
      },
      "execution_count": 176,
      "outputs": [
        {
          "output_type": "execute_result",
          "data": {
            "text/plain": [
              "comment    0\n",
              "topic      0\n",
              "dtype: int64"
            ]
          },
          "metadata": {},
          "execution_count": 176
        }
      ]
    },
    {
      "cell_type": "code",
      "source": [
        "# Drop na \n",
        "df.dropna(axis=0, inplace=True)"
      ],
      "metadata": {
        "id": "mE7XJr2XGNut"
      },
      "execution_count": 177,
      "outputs": []
    },
    {
      "cell_type": "code",
      "execution_count": 178,
      "metadata": {
        "colab": {
          "base_uri": "https://localhost:8080/"
        },
        "id": "Y5REI-pmCpf4",
        "outputId": "fc677643-fa59-4f06-db20-2d8ac2934fbe"
      },
      "outputs": [
        {
          "output_type": "execute_result",
          "data": {
            "text/plain": [
              "Service                      1570\n",
              "APPLICATION (WEB/APP)        1074\n",
              "SERVICE                       335\n",
              "CHARGES(BRO./DP/LPC ETC.)     332\n",
              "Others                        321\n",
              "NOT SPECIFIED                 254\n",
              "Not Specified                 216\n",
              "People                        113\n",
              "Process                        69\n",
              "PEOPLE                         32\n",
              "Product                        13\n",
              "PROCESS                         6\n",
              "Name: topic, dtype: int64"
            ]
          },
          "metadata": {},
          "execution_count": 178
        }
      ],
      "source": [
        "df.topic.value_counts()"
      ]
    },
    {
      "cell_type": "code",
      "source": [
        "#lower case\n",
        "df['topic'] = df['topic'].str.lower()\n",
        "df['topic'] = df['topic'].str.strip()\n",
        "df.loc[df.topic=='not specified', 'topic'] = 'others'"
      ],
      "metadata": {
        "id": "-7oI5-ss3f94"
      },
      "execution_count": 179,
      "outputs": []
    },
    {
      "cell_type": "code",
      "source": [
        "df.topic.unique()"
      ],
      "metadata": {
        "colab": {
          "base_uri": "https://localhost:8080/"
        },
        "id": "W_rDJJa_0RyS",
        "outputId": "32d93a96-ecb5-4b63-dd19-09c84aa600f2"
      },
      "execution_count": 180,
      "outputs": [
        {
          "output_type": "execute_result",
          "data": {
            "text/plain": [
              "array(['service', 'application (web/app)', 'others',\n",
              "       'charges(bro./dp/lpc etc.)', 'process', 'people', 'product'],\n",
              "      dtype=object)"
            ]
          },
          "metadata": {},
          "execution_count": 180
        }
      ]
    },
    {
      "cell_type": "code",
      "source": [
        "topic_dic = {'application (web/app)': 'application',  'charges(bro./dp/lpc etc.)': 'charges', 'service':'service'\n",
        ", 'others':'others', 'process':'process', 'people':'people', 'product':'product'}"
      ],
      "metadata": {
        "id": "hsvhUkey0EN3"
      },
      "execution_count": 181,
      "outputs": []
    },
    {
      "cell_type": "code",
      "source": [
        "df['topic'] = df['topic'].map(topic_dic)"
      ],
      "metadata": {
        "id": "aIG2L6LM0hS9"
      },
      "execution_count": 182,
      "outputs": []
    },
    {
      "cell_type": "code",
      "source": [
        "plt.figure(figsize=[8,4])\n",
        "sns.countplot(y=df['topic'])"
      ],
      "metadata": {
        "colab": {
          "base_uri": "https://localhost:8080/",
          "height": 405
        },
        "id": "MubvvVlLGUwu",
        "outputId": "82b58859-ed62-4ad1-e220-b33a3ea0d28e"
      },
      "execution_count": 183,
      "outputs": [
        {
          "output_type": "execute_result",
          "data": {
            "text/plain": [
              "<Figure size 800x400 with 0 Axes>"
            ]
          },
          "metadata": {},
          "execution_count": 183
        },
        {
          "output_type": "execute_result",
          "data": {
            "text/plain": [
              "<Axes: xlabel='count', ylabel='topic'>"
            ]
          },
          "metadata": {},
          "execution_count": 183
        },
        {
          "output_type": "display_data",
          "data": {
            "text/plain": [
              "<Figure size 800x400 with 1 Axes>"
            ],
            "image/png": "[encoded data removed]"
          },
          "metadata": {}
        }
      ]
    },
    {
      "cell_type": "code",
      "source": [
        "# Preprocessing"
      ],
      "metadata": {
        "id": "s9NvV_7aGc7j"
      },
      "execution_count": 184,
      "outputs": []
    },
    {
      "cell_type": "code",
      "execution_count": 185,
      "metadata": {
        "id": "MhJ1E9y2Cpf5"
      },
      "outputs": [],
      "source": [
        "# Remove integer comments\n",
        "df = df[df['comment'].apply(lambda x: not isinstance(x, int))]\n",
        "df.reset_index(drop=True, inplace=True)\n",
        "\n",
        "#lower case\n",
        "df['comment'] = df['comment'].str.lower()"
      ]
    },
    {
      "cell_type": "code",
      "source": [
        "def preprocess_text(text, flg_stemm=False, flg_lemm=True, lst_stopwords=None):\n",
        "    ## clean (convert to lowercase and remove punctuations and  characters and then strip)\n",
        "    text = re.sub(r\"[^A-Za-z]+\", ' ' , str(text).lower().strip())\n",
        "            \n",
        "    ## Tokenize (convert from string to list)\n",
        "    lst_text = text.split()    ## remove Stopwords\n",
        "    # if lst_stopwords is not None:\n",
        "    #     lst_text = [word for word in lst_text if word not in lst_stopwords]\n",
        "                \n",
        "    ## Stemming (remove -ing, -ly, ...)\n",
        "    if flg_stemm == True:\n",
        "        ps = nltk.stem.porter.PorterStemmer()\n",
        "        lst_text = [ps.stem(word) for word in lst_text]\n",
        "                \n",
        "    ## Lemmatisation (convert the word into root word)\n",
        "    if flg_lemm == True:\n",
        "        lem = nltk.stem.wordnet.WordNetLemmatizer()\n",
        "        lst_text = [lem.lemmatize(word) for word in lst_text]\n",
        "            \n",
        "    ## back to string from list\n",
        "    text = \" \".join(lst_text)\n",
        "    return text"
      ],
      "metadata": {
        "id": "uWknRVTUhGzl"
      },
      "execution_count": 186,
      "outputs": []
    },
    {
      "cell_type": "code",
      "source": [
        "lst_stopwords = nltk.corpus.stopwords.words(\"english\")\n",
        "lst_stopwords.remove('no')\n",
        "lst_stopwords.remove('not')"
      ],
      "metadata": {
        "id": "uhqW6SUMiAxl"
      },
      "execution_count": 187,
      "outputs": []
    },
    {
      "cell_type": "code",
      "source": [
        "df[\"x\"] = df[\"comment\"].apply(lambda x: preprocess_text(x, flg_stemm=False, flg_lemm=True, lst_stopwords=lst_stopwords))\n",
        "# df['x'] = df['comment']\n",
        "df['y'] = df['topic']\n",
        "df.head(10)"
      ],
      "metadata": {
        "id": "iUEFP_HchGwG",
        "outputId": "75c23907-66cb-490f-c2e2-413807d82d6f",
        "colab": {
          "base_uri": "https://localhost:8080/",
          "height": 363
        }
      },
      "execution_count": 188,
      "outputs": [
        {
          "output_type": "execute_result",
          "data": {
            "text/plain": [
              "                                             comment        topic  \\\n",
              "0  querries where kotak is at disadvantageous pos...      service   \n",
              "1  1) same-day money deduction even if we have ma...  application   \n",
              "2                                         ndejjejdjx       others   \n",
              "3                              worst website trading  application   \n",
              "4  no technical support at real time, application...      service   \n",
              "5               need knowledge and experience person      service   \n",
              "6  please revisit my brokerage and deemat charges...      charges   \n",
              "7  iâm waiting for resolution or a meeting with...      service   \n",
              "8  i dint interacted so my rating may be a bias b...      service   \n",
              "9                              no issues with the rm      service   \n",
              "\n",
              "                                                   x            y  \n",
              "0  querries where kotak is at disadvantageous pos...      service  \n",
              "1  same day money deduction even if we have margi...  application  \n",
              "2                                         ndejjejdjx       others  \n",
              "3                              worst website trading  application  \n",
              "4  no technical support at real time application ...      service  \n",
              "5               need knowledge and experience person      service  \n",
              "6  please revisit my brokerage and deemat charge ...      charges  \n",
              "7  i m waiting for resolution or a meeting with m...      service  \n",
              "8  i dint interacted so my rating may be a bias b...      service  \n",
              "9                               no issue with the rm      service  "
            ],
            "text/html": [
              "\n",
              "  <div id=\"df-bc48feee-680c-47db-ad5f-8e9a4e3bd4a8\">\n",
              "    <div class=\"colab-df-container\">\n",
              "      <div>\n",
              "<style scoped>\n",
              "    .dataframe tbody tr th:only-of-type {\n",
              "        vertical-align: middle;\n",
              "    }\n",
              "\n",
              "    .dataframe tbody tr th {\n",
              "        vertical-align: top;\n",
              "    }\n",
              "\n",
              "    .dataframe thead th {\n",
              "        text-align: right;\n",
              "    }\n",
              "</style>\n",
              "<table border=\"1\" class=\"dataframe\">\n",
              "  <thead>\n",
              "    <tr style=\"text-align: right;\">\n",
              "      <th></th>\n",
              "      <th>comment</th>\n",
              "      <th>topic</th>\n",
              "      <th>x</th>\n",
              "      <th>y</th>\n",
              "    </tr>\n",
              "  </thead>\n",
              "  <tbody>\n",
              "    <tr>\n",
              "      <th>0</th>\n",
              "      <td>querries where kotak is at disadvantageous pos...</td>\n",
              "      <td>service</td>\n",
              "      <td>querries where kotak is at disadvantageous pos...</td>\n",
              "      <td>service</td>\n",
              "    </tr>\n",
              "    <tr>\n",
              "      <th>1</th>\n",
              "      <td>1) same-day money deduction even if we have ma...</td>\n",
              "      <td>application</td>\n",
              "      <td>same day money deduction even if we have margi...</td>\n",
              "      <td>application</td>\n",
              "    </tr>\n",
              "    <tr>\n",
              "      <th>2</th>\n",
              "      <td>ndejjejdjx</td>\n",
              "      <td>others</td>\n",
              "      <td>ndejjejdjx</td>\n",
              "      <td>others</td>\n",
              "    </tr>\n",
              "    <tr>\n",
              "      <th>3</th>\n",
              "      <td>worst website trading</td>\n",
              "      <td>application</td>\n",
              "      <td>worst website trading</td>\n",
              "      <td>application</td>\n",
              "    </tr>\n",
              "    <tr>\n",
              "      <th>4</th>\n",
              "      <td>no technical support at real time, application...</td>\n",
              "      <td>service</td>\n",
              "      <td>no technical support at real time application ...</td>\n",
              "      <td>service</td>\n",
              "    </tr>\n",
              "    <tr>\n",
              "      <th>5</th>\n",
              "      <td>need knowledge and experience person</td>\n",
              "      <td>service</td>\n",
              "      <td>need knowledge and experience person</td>\n",
              "      <td>service</td>\n",
              "    </tr>\n",
              "    <tr>\n",
              "      <th>6</th>\n",
              "      <td>please revisit my brokerage and deemat charges...</td>\n",
              "      <td>charges</td>\n",
              "      <td>please revisit my brokerage and deemat charge ...</td>\n",
              "      <td>charges</td>\n",
              "    </tr>\n",
              "    <tr>\n",
              "      <th>7</th>\n",
              "      <td>iâm waiting for resolution or a meeting with...</td>\n",
              "      <td>service</td>\n",
              "      <td>i m waiting for resolution or a meeting with m...</td>\n",
              "      <td>service</td>\n",
              "    </tr>\n",
              "    <tr>\n",
              "      <th>8</th>\n",
              "      <td>i dint interacted so my rating may be a bias b...</td>\n",
              "      <td>service</td>\n",
              "      <td>i dint interacted so my rating may be a bias b...</td>\n",
              "      <td>service</td>\n",
              "    </tr>\n",
              "    <tr>\n",
              "      <th>9</th>\n",
              "      <td>no issues with the rm</td>\n",
              "      <td>service</td>\n",
              "      <td>no issue with the rm</td>\n",
              "      <td>service</td>\n",
              "    </tr>\n",
              "  </tbody>\n",
              "</table>\n",
              "</div>\n",
              "      <button class=\"colab-df-convert\" onclick=\"convertToInteractive('df-bc48feee-680c-47db-ad5f-8e9a4e3bd4a8')\"\n",
              "              title=\"Convert this dataframe to an interactive table.\"\n",
              "              style=\"display:none;\">\n",
              "        \n",
              "  <svg xmlns=\"http://www.w3.org/2000/svg\" height=\"24px\"viewBox=\"0 0 24 24\"\n",
              "       width=\"24px\">\n",
              "    <path d=\"M0 0h24v24H0V0z\" fill=\"none\"/>\n",
              "    <path d=\"M18.56 5.44l.94 2.06.94-2.06 2.06-.94-2.06-.94-.94-2.06-.94 2.06-2.06.94zm-11 1L8.5 8.5l.94-2.06 2.06-.94-2.06-.94L8.5 2.5l-.94 2.06-2.06.94zm10 10l.94 2.06.94-2.06 2.06-.94-2.06-.94-.94-2.06-.94 2.06-2.06.94z\"/><path d=\"M17.41 7.96l-1.37-1.37c-.4-.4-.92-.59-1.43-.59-.52 0-1.04.2-1.43.59L10.3 9.45l-7.72 7.72c-.78.78-.78 2.05 0 2.83L4 21.41c.39.39.9.59 1.41.59.51 0 1.02-.2 1.41-.59l7.78-7.78 2.81-2.81c.8-.78.8-2.07 0-2.86zM5.41 20L4 18.59l7.72-7.72 1.47 1.35L5.41 20z\"/>\n",
              "  </svg>\n",
              "      </button>\n",
              "      \n",
              "  <style>\n",
              "    .colab-df-container {\n",
              "      display:flex;\n",
              "      flex-wrap:wrap;\n",
              "      gap: 12px;\n",
              "    }\n",
              "\n",
              "    .colab-df-convert {\n",
              "      background-color: #E8F0FE;\n",
              "      border: none;\n",
              "      border-radius: 50%;\n",
              "      cursor: pointer;\n",
              "      display: none;\n",
              "      fill: #1967D2;\n",
              "      height: 32px;\n",
              "      padding: 0 0 0 0;\n",
              "      width: 32px;\n",
              "    }\n",
              "\n",
              "    .colab-df-convert:hover {\n",
              "      background-color: #E2EBFA;\n",
              "      box-shadow: 0px 1px 2px rgba(60, 64, 67, 0.3), 0px 1px 3px 1px rgba(60, 64, 67, 0.15);\n",
              "      fill: #174EA6;\n",
              "    }\n",
              "\n",
              "    [theme=dark] .colab-df-convert {\n",
              "      background-color: #3B4455;\n",
              "      fill: #D2E3FC;\n",
              "    }\n",
              "\n",
              "    [theme=dark] .colab-df-convert:hover {\n",
              "      background-color: #434B5C;\n",
              "      box-shadow: 0px 1px 3px 1px rgba(0, 0, 0, 0.15);\n",
              "      filter: drop-shadow(0px 1px 2px rgba(0, 0, 0, 0.3));\n",
              "      fill: #FFFFFF;\n",
              "    }\n",
              "  </style>\n",
              "\n",
              "      <script>\n",
              "        const buttonEl =\n",
              "          document.querySelector('#df-bc48feee-680c-47db-ad5f-8e9a4e3bd4a8 button.colab-df-convert');\n",
              "        buttonEl.style.display =\n",
              "          google.colab.kernel.accessAllowed ? 'block' : 'none';\n",
              "\n",
              "        async function convertToInteractive(key) {\n",
              "          const element = document.querySelector('#df-bc48feee-680c-47db-ad5f-8e9a4e3bd4a8');\n",
              "          const dataTable =\n",
              "            await google.colab.kernel.invokeFunction('convertToInteractive',\n",
              "                                                     [key], {});\n",
              "          if (!dataTable) return;\n",
              "\n",
              "          const docLinkHtml = 'Like what you see? Visit the ' +\n",
              "            '<a target=\"_blank\" href=https://colab.research.google.com/notebooks/data_table.ipynb>data table notebook</a>'\n",
              "            + ' to learn more about interactive tables.';\n",
              "          element.innerHTML = '';\n",
              "          dataTable['output_type'] = 'display_data';\n",
              "          await google.colab.output.renderOutput(dataTable, element);\n",
              "          const docLink = document.createElement('div');\n",
              "          docLink.innerHTML = docLinkHtml;\n",
              "          element.appendChild(docLink);\n",
              "        }\n",
              "      </script>\n",
              "    </div>\n",
              "  </div>\n",
              "  "
            ]
          },
          "metadata": {},
          "execution_count": 188
        }
      ]
    },
    {
      "cell_type": "code",
      "source": [
        "df = df[['x', 'y']]"
      ],
      "metadata": {
        "id": "wpOehiWSN5eu"
      },
      "execution_count": 189,
      "outputs": []
    },
    {
      "cell_type": "code",
      "source": [
        "# Prefixing each row of the category column with '__label__'\n",
        "df.iloc[:, 1] = df.iloc[:, 1].apply(lambda x: '__label__' + x)"
      ],
      "metadata": {
        "colab": {
          "base_uri": "https://localhost:8080/"
        },
        "id": "4m4Ox5l4Mkd-",
        "outputId": "1179b2b9-4c2f-4d4e-862d-3cd06de21987"
      },
      "execution_count": 190,
      "outputs": [
        {
          "output_type": "stream",
          "name": "stderr",
          "text": [
            "<ipython-input-190-53fe272f9a81>:2: SettingWithCopyWarning: \n",
            "A value is trying to be set on a copy of a slice from a DataFrame.\n",
            "Try using .loc[row_indexer,col_indexer] = value instead\n",
            "\n",
            "See the caveats in the documentation: https://pandas.pydata.org/pandas-docs/stable/user_guide/indexing.html#returning-a-view-versus-a-copy\n",
            "  df.iloc[:, 1] = df.iloc[:, 1].apply(lambda x: '__label__' + x)\n"
          ]
        }
      ]
    },
    {
      "cell_type": "code",
      "source": [
        "from sklearn.model_selection import train_test_split\n",
        "df_train, df_test = train_test_split(df, test_size=0.40, stratify=df['y'], random_state=324)"
      ],
      "metadata": {
        "id": "fd3ctMgVOfwq"
      },
      "execution_count": 191,
      "outputs": []
    },
    {
      "cell_type": "code",
      "source": [
        "import csv"
      ],
      "metadata": {
        "id": "MakDt70ePEbK"
      },
      "execution_count": 192,
      "outputs": []
    },
    {
      "cell_type": "code",
      "source": [
        "pip install fasttext\n"
      ],
      "metadata": {
        "colab": {
          "base_uri": "https://localhost:8080/"
        },
        "id": "uly0-x28PLKF",
        "outputId": "8b22c665-4fd4-40d0-8b6c-bd2159337972"
      },
      "execution_count": 193,
      "outputs": [
        {
          "output_type": "stream",
          "name": "stdout",
          "text": [
            "Looking in indexes: https://pypi.org/simple, https://us-python.pkg.dev/colab-wheels/public/simple/\n",
            "Requirement already satisfied: fasttext in /usr/local/lib/python3.10/dist-packages (0.9.2)\n",
            "Requirement already satisfied: pybind11>=2.2 in /usr/local/lib/python3.10/dist-packages (from fasttext) (2.10.4)\n",
            "Requirement already satisfied: setuptools>=0.7.0 in /usr/local/lib/python3.10/dist-packages (from fasttext) (67.7.2)\n",
            "Requirement already satisfied: numpy in /usr/local/lib/python3.10/dist-packages (from fasttext) (1.22.4)\n"
          ]
        }
      ]
    },
    {
      "cell_type": "code",
      "source": [
        "import fasttext\n",
        "# Saving the CSV file as a text file to train/test the classifier\n",
        "df_train[['y', 'x']].to_csv('train.txt', \n",
        "                                          index = False, \n",
        "                                          sep = ' ',\n",
        "                                          header = None, \n",
        "                                          quoting = csv.QUOTE_NONE, \n",
        "                                          quotechar = \"\", \n",
        "                                          escapechar = \" \")\n",
        "\n",
        "df_test[['y', 'x']].to_csv('test.txt', \n",
        "                                     index = False, \n",
        "                                     sep = ' ',\n",
        "                                     header = None, \n",
        "                                     quoting = csv.QUOTE_NONE, \n",
        "                                     quotechar = \"\", \n",
        "                                     escapechar = \" \")\n",
        "\n",
        "\n",
        "# Training the fastText classifier\n",
        "model = fasttext.train_supervised('train.txt',lr=0.5, epoch=25, wordNgrams=2, bucket=200000, dim=50)\n",
        "\n",
        "# Evaluating performance on the entire test file\n",
        "model.test('test.txt')                      \n",
        "\n",
        "# Predicting on a single input\n",
        "# model.predict(ds.iloc[2, 0])\n",
        "\n",
        "# Save the trained model\n",
        "#model.save_model('model.bin')"
      ],
      "metadata": {
        "colab": {
          "base_uri": "https://localhost:8080/"
        },
        "id": "-GMxtG2FOSWM",
        "outputId": "8269bc8e-96ea-4601-fd81-09cee0ade315"
      },
      "execution_count": 194,
      "outputs": [
        {
          "output_type": "execute_result",
          "data": {
            "text/plain": [
              "(1734, 0.8264129181084199, 0.8264129181084199)"
            ]
          },
          "metadata": {},
          "execution_count": 194
        }
      ]
    },
    {
      "cell_type": "code",
      "source": [
        "model.test('train.txt')"
      ],
      "metadata": {
        "colab": {
          "base_uri": "https://localhost:8080/"
        },
        "id": "3PU_AwfW3YlK",
        "outputId": "5a9b5351-5bf5-4162-ae0a-d42109da57a1"
      },
      "execution_count": 195,
      "outputs": [
        {
          "output_type": "execute_result",
          "data": {
            "text/plain": [
              "(2601, 0.9996155324875048, 0.9996155324875048)"
            ]
          },
          "metadata": {},
          "execution_count": 195
        }
      ]
    },
    {
      "cell_type": "code",
      "source": [
        "df_test_pred = df_test\n",
        "df_test_pred['y_pred'] = df_test_pred['x'].apply(model.predict)\n",
        "df_test_pred['y_pred']=df_test_pred['y_pred'].str[0:1]\n",
        "df_test_pred['y_pred'] = df_test_pred['y_pred'].astype(str)\n",
        "df_test_pred['y_pred'] = df_test_pred['y_pred'].str[12:-5]\n",
        "df_test_pred['y'] = df_test_pred['y'].str[9:]"
      ],
      "metadata": {
        "id": "dB7S0FRaRACL"
      },
      "execution_count": 196,
      "outputs": []
    },
    {
      "cell_type": "code",
      "source": [
        "df_pred = df\n",
        "df_pred['y_pred'] = df_pred['x'].apply(model.predict)\n",
        "df_pred['y_pred'] = df_pred['y_pred'].str[0:1]\n",
        "df_pred['y_pred'] = df_pred['y_pred'].astype(str)\n",
        "df_pred['y_pred'] = df_pred['y_pred'].str[12:-5]\n",
        "df_pred['y'] = df_pred['y'].str[9:]"
      ],
      "metadata": {
        "id": "P_cSLCMvXgbM"
      },
      "execution_count": 197,
      "outputs": []
    },
    {
      "cell_type": "code",
      "source": [
        "df"
      ],
      "metadata": {
        "colab": {
          "base_uri": "https://localhost:8080/",
          "height": 423
        },
        "id": "9xlMVKm93exr",
        "outputId": "0cd16cc7-b957-4899-a545-e2265ecf9806"
      },
      "execution_count": 198,
      "outputs": [
        {
          "output_type": "execute_result",
          "data": {
            "text/plain": [
              "                                                      x            y  \\\n",
              "0     querries where kotak is at disadvantageous pos...      service   \n",
              "1     same day money deduction even if we have margi...  application   \n",
              "2                                            ndejjejdjx       others   \n",
              "3                                 worst website trading  application   \n",
              "4     no technical support at real time application ...      service   \n",
              "...                                                 ...          ...   \n",
              "4330  please reduce my brokerage in my equity accoun...      charges   \n",
              "4331      it waste to call with out resolving the issue      service   \n",
              "4332      use le service nnnnnnnnmf d d d d d d d d d d      service   \n",
              "4333                                              sunil       others   \n",
              "4334  tamil language will be useful to understand ea...      service   \n",
              "\n",
              "           y_pred  \n",
              "0         service  \n",
              "1     application  \n",
              "2          others  \n",
              "3     application  \n",
              "4         service  \n",
              "...           ...  \n",
              "4330      charges  \n",
              "4331      service  \n",
              "4332      service  \n",
              "4333       others  \n",
              "4334      service  \n",
              "\n",
              "[4335 rows x 3 columns]"
            ],
            "text/html": [
              "\n",
              "  <div id=\"df-89a94ae8-2729-491c-b5a9-175e0f4bc3cf\">\n",
              "    <div class=\"colab-df-container\">\n",
              "      <div>\n",
              "<style scoped>\n",
              "    .dataframe tbody tr th:only-of-type {\n",
              "        vertical-align: middle;\n",
              "    }\n",
              "\n",
              "    .dataframe tbody tr th {\n",
              "        vertical-align: top;\n",
              "    }\n",
              "\n",
              "    .dataframe thead th {\n",
              "        text-align: right;\n",
              "    }\n",
              "</style>\n",
              "<table border=\"1\" class=\"dataframe\">\n",
              "  <thead>\n",
              "    <tr style=\"text-align: right;\">\n",
              "      <th></th>\n",
              "      <th>x</th>\n",
              "      <th>y</th>\n",
              "      <th>y_pred</th>\n",
              "    </tr>\n",
              "  </thead>\n",
              "  <tbody>\n",
              "    <tr>\n",
              "      <th>0</th>\n",
              "      <td>querries where kotak is at disadvantageous pos...</td>\n",
              "      <td>service</td>\n",
              "      <td>service</td>\n",
              "    </tr>\n",
              "    <tr>\n",
              "      <th>1</th>\n",
              "      <td>same day money deduction even if we have margi...</td>\n",
              "      <td>application</td>\n",
              "      <td>application</td>\n",
              "    </tr>\n",
              "    <tr>\n",
              "      <th>2</th>\n",
              "      <td>ndejjejdjx</td>\n",
              "      <td>others</td>\n",
              "      <td>others</td>\n",
              "    </tr>\n",
              "    <tr>\n",
              "      <th>3</th>\n",
              "      <td>worst website trading</td>\n",
              "      <td>application</td>\n",
              "      <td>application</td>\n",
              "    </tr>\n",
              "    <tr>\n",
              "      <th>4</th>\n",
              "      <td>no technical support at real time application ...</td>\n",
              "      <td>service</td>\n",
              "      <td>service</td>\n",
              "    </tr>\n",
              "    <tr>\n",
              "      <th>...</th>\n",
              "      <td>...</td>\n",
              "      <td>...</td>\n",
              "      <td>...</td>\n",
              "    </tr>\n",
              "    <tr>\n",
              "      <th>4330</th>\n",
              "      <td>please reduce my brokerage in my equity accoun...</td>\n",
              "      <td>charges</td>\n",
              "      <td>charges</td>\n",
              "    </tr>\n",
              "    <tr>\n",
              "      <th>4331</th>\n",
              "      <td>it waste to call with out resolving the issue</td>\n",
              "      <td>service</td>\n",
              "      <td>service</td>\n",
              "    </tr>\n",
              "    <tr>\n",
              "      <th>4332</th>\n",
              "      <td>use le service nnnnnnnnmf d d d d d d d d d d</td>\n",
              "      <td>service</td>\n",
              "      <td>service</td>\n",
              "    </tr>\n",
              "    <tr>\n",
              "      <th>4333</th>\n",
              "      <td>sunil</td>\n",
              "      <td>others</td>\n",
              "      <td>others</td>\n",
              "    </tr>\n",
              "    <tr>\n",
              "      <th>4334</th>\n",
              "      <td>tamil language will be useful to understand ea...</td>\n",
              "      <td>service</td>\n",
              "      <td>service</td>\n",
              "    </tr>\n",
              "  </tbody>\n",
              "</table>\n",
              "<p>4335 rows × 3 columns</p>\n",
              "</div>\n",
              "      <button class=\"colab-df-convert\" onclick=\"convertToInteractive('df-89a94ae8-2729-491c-b5a9-175e0f4bc3cf')\"\n",
              "              title=\"Convert this dataframe to an interactive table.\"\n",
              "              style=\"display:none;\">\n",
              "        \n",
              "  <svg xmlns=\"http://www.w3.org/2000/svg\" height=\"24px\"viewBox=\"0 0 24 24\"\n",
              "       width=\"24px\">\n",
              "    <path d=\"M0 0h24v24H0V0z\" fill=\"none\"/>\n",
              "    <path d=\"M18.56 5.44l.94 2.06.94-2.06 2.06-.94-2.06-.94-.94-2.06-.94 2.06-2.06.94zm-11 1L8.5 8.5l.94-2.06 2.06-.94-2.06-.94L8.5 2.5l-.94 2.06-2.06.94zm10 10l.94 2.06.94-2.06 2.06-.94-2.06-.94-.94-2.06-.94 2.06-2.06.94z\"/><path d=\"M17.41 7.96l-1.37-1.37c-.4-.4-.92-.59-1.43-.59-.52 0-1.04.2-1.43.59L10.3 9.45l-7.72 7.72c-.78.78-.78 2.05 0 2.83L4 21.41c.39.39.9.59 1.41.59.51 0 1.02-.2 1.41-.59l7.78-7.78 2.81-2.81c.8-.78.8-2.07 0-2.86zM5.41 20L4 18.59l7.72-7.72 1.47 1.35L5.41 20z\"/>\n",
              "  </svg>\n",
              "      </button>\n",
              "      \n",
              "  <style>\n",
              "    .colab-df-container {\n",
              "      display:flex;\n",
              "      flex-wrap:wrap;\n",
              "      gap: 12px;\n",
              "    }\n",
              "\n",
              "    .colab-df-convert {\n",
              "      background-color: #E8F0FE;\n",
              "      border: none;\n",
              "      border-radius: 50%;\n",
              "      cursor: pointer;\n",
              "      display: none;\n",
              "      fill: #1967D2;\n",
              "      height: 32px;\n",
              "      padding: 0 0 0 0;\n",
              "      width: 32px;\n",
              "    }\n",
              "\n",
              "    .colab-df-convert:hover {\n",
              "      background-color: #E2EBFA;\n",
              "      box-shadow: 0px 1px 2px rgba(60, 64, 67, 0.3), 0px 1px 3px 1px rgba(60, 64, 67, 0.15);\n",
              "      fill: #174EA6;\n",
              "    }\n",
              "\n",
              "    [theme=dark] .colab-df-convert {\n",
              "      background-color: #3B4455;\n",
              "      fill: #D2E3FC;\n",
              "    }\n",
              "\n",
              "    [theme=dark] .colab-df-convert:hover {\n",
              "      background-color: #434B5C;\n",
              "      box-shadow: 0px 1px 3px 1px rgba(0, 0, 0, 0.15);\n",
              "      filter: drop-shadow(0px 1px 2px rgba(0, 0, 0, 0.3));\n",
              "      fill: #FFFFFF;\n",
              "    }\n",
              "  </style>\n",
              "\n",
              "      <script>\n",
              "        const buttonEl =\n",
              "          document.querySelector('#df-89a94ae8-2729-491c-b5a9-175e0f4bc3cf button.colab-df-convert');\n",
              "        buttonEl.style.display =\n",
              "          google.colab.kernel.accessAllowed ? 'block' : 'none';\n",
              "\n",
              "        async function convertToInteractive(key) {\n",
              "          const element = document.querySelector('#df-89a94ae8-2729-491c-b5a9-175e0f4bc3cf');\n",
              "          const dataTable =\n",
              "            await google.colab.kernel.invokeFunction('convertToInteractive',\n",
              "                                                     [key], {});\n",
              "          if (!dataTable) return;\n",
              "\n",
              "          const docLinkHtml = 'Like what you see? Visit the ' +\n",
              "            '<a target=\"_blank\" href=https://colab.research.google.com/notebooks/data_table.ipynb>data table notebook</a>'\n",
              "            + ' to learn more about interactive tables.';\n",
              "          element.innerHTML = '';\n",
              "          dataTable['output_type'] = 'display_data';\n",
              "          await google.colab.output.renderOutput(dataTable, element);\n",
              "          const docLink = document.createElement('div');\n",
              "          docLink.innerHTML = docLinkHtml;\n",
              "          element.appendChild(docLink);\n",
              "        }\n",
              "      </script>\n",
              "    </div>\n",
              "  </div>\n",
              "  "
            ]
          },
          "metadata": {},
          "execution_count": 198
        }
      ]
    },
    {
      "cell_type": "code",
      "source": [
        "# Dict for classes\n",
        "df_pred['category_id'] = df_pred['y'].factorize()[0]\n",
        "category_id_df = df_pred[['y', 'category_id']].drop_duplicates().sort_values('category_id')\n",
        "category_to_id = dict(category_id_df.values)\n",
        "id_to_category = dict(category_id_df[['category_id', 'y']].values)"
      ],
      "metadata": {
        "id": "79OdM9QeYF5l"
      },
      "execution_count": 199,
      "outputs": []
    },
    {
      "cell_type": "code",
      "source": [
        "df_test_pred['category_id'] = df_test_pred['y'].map(category_to_id) \n",
        "df_test_pred['category_id_pred'] = df_test_pred['y_pred'].map(category_to_id) \n",
        "df_pred['category_id_pred'] = df_pred['y_pred'].map(category_to_id) "
      ],
      "metadata": {
        "id": "Hmwr3ApAYVKr"
      },
      "execution_count": 200,
      "outputs": []
    },
    {
      "cell_type": "code",
      "source": [
        "df_test_pred[df_test_pred['category_id_pred'].isnull()]"
      ],
      "metadata": {
        "colab": {
          "base_uri": "https://localhost:8080/",
          "height": 49
        },
        "id": "DpvOzh01Z5Js",
        "outputId": "be02adf8-0b14-481f-b0bc-76a60896d6d4"
      },
      "execution_count": 201,
      "outputs": [
        {
          "output_type": "execute_result",
          "data": {
            "text/plain": [
              "Empty DataFrame\n",
              "Columns: [x, y, y_pred, category_id, category_id_pred]\n",
              "Index: []"
            ],
            "text/html": [
              "\n",
              "  <div id=\"df-e23a6945-46f2-472d-9098-6f7889f6be02\">\n",
              "    <div class=\"colab-df-container\">\n",
              "      <div>\n",
              "<style scoped>\n",
              "    .dataframe tbody tr th:only-of-type {\n",
              "        vertical-align: middle;\n",
              "    }\n",
              "\n",
              "    .dataframe tbody tr th {\n",
              "        vertical-align: top;\n",
              "    }\n",
              "\n",
              "    .dataframe thead th {\n",
              "        text-align: right;\n",
              "    }\n",
              "</style>\n",
              "<table border=\"1\" class=\"dataframe\">\n",
              "  <thead>\n",
              "    <tr style=\"text-align: right;\">\n",
              "      <th></th>\n",
              "      <th>x</th>\n",
              "      <th>y</th>\n",
              "      <th>y_pred</th>\n",
              "      <th>category_id</th>\n",
              "      <th>category_id_pred</th>\n",
              "    </tr>\n",
              "  </thead>\n",
              "  <tbody>\n",
              "  </tbody>\n",
              "</table>\n",
              "</div>\n",
              "      <button class=\"colab-df-convert\" onclick=\"convertToInteractive('df-e23a6945-46f2-472d-9098-6f7889f6be02')\"\n",
              "              title=\"Convert this dataframe to an interactive table.\"\n",
              "              style=\"display:none;\">\n",
              "        \n",
              "  <svg xmlns=\"http://www.w3.org/2000/svg\" height=\"24px\"viewBox=\"0 0 24 24\"\n",
              "       width=\"24px\">\n",
              "    <path d=\"M0 0h24v24H0V0z\" fill=\"none\"/>\n",
              "    <path d=\"M18.56 5.44l.94 2.06.94-2.06 2.06-.94-2.06-.94-.94-2.06-.94 2.06-2.06.94zm-11 1L8.5 8.5l.94-2.06 2.06-.94-2.06-.94L8.5 2.5l-.94 2.06-2.06.94zm10 10l.94 2.06.94-2.06 2.06-.94-2.06-.94-.94-2.06-.94 2.06-2.06.94z\"/><path d=\"M17.41 7.96l-1.37-1.37c-.4-.4-.92-.59-1.43-.59-.52 0-1.04.2-1.43.59L10.3 9.45l-7.72 7.72c-.78.78-.78 2.05 0 2.83L4 21.41c.39.39.9.59 1.41.59.51 0 1.02-.2 1.41-.59l7.78-7.78 2.81-2.81c.8-.78.8-2.07 0-2.86zM5.41 20L4 18.59l7.72-7.72 1.47 1.35L5.41 20z\"/>\n",
              "  </svg>\n",
              "      </button>\n",
              "      \n",
              "  <style>\n",
              "    .colab-df-container {\n",
              "      display:flex;\n",
              "      flex-wrap:wrap;\n",
              "      gap: 12px;\n",
              "    }\n",
              "\n",
              "    .colab-df-convert {\n",
              "      background-color: #E8F0FE;\n",
              "      border: none;\n",
              "      border-radius: 50%;\n",
              "      cursor: pointer;\n",
              "      display: none;\n",
              "      fill: #1967D2;\n",
              "      height: 32px;\n",
              "      padding: 0 0 0 0;\n",
              "      width: 32px;\n",
              "    }\n",
              "\n",
              "    .colab-df-convert:hover {\n",
              "      background-color: #E2EBFA;\n",
              "      box-shadow: 0px 1px 2px rgba(60, 64, 67, 0.3), 0px 1px 3px 1px rgba(60, 64, 67, 0.15);\n",
              "      fill: #174EA6;\n",
              "    }\n",
              "\n",
              "    [theme=dark] .colab-df-convert {\n",
              "      background-color: #3B4455;\n",
              "      fill: #D2E3FC;\n",
              "    }\n",
              "\n",
              "    [theme=dark] .colab-df-convert:hover {\n",
              "      background-color: #434B5C;\n",
              "      box-shadow: 0px 1px 3px 1px rgba(0, 0, 0, 0.15);\n",
              "      filter: drop-shadow(0px 1px 2px rgba(0, 0, 0, 0.3));\n",
              "      fill: #FFFFFF;\n",
              "    }\n",
              "  </style>\n",
              "\n",
              "      <script>\n",
              "        const buttonEl =\n",
              "          document.querySelector('#df-e23a6945-46f2-472d-9098-6f7889f6be02 button.colab-df-convert');\n",
              "        buttonEl.style.display =\n",
              "          google.colab.kernel.accessAllowed ? 'block' : 'none';\n",
              "\n",
              "        async function convertToInteractive(key) {\n",
              "          const element = document.querySelector('#df-e23a6945-46f2-472d-9098-6f7889f6be02');\n",
              "          const dataTable =\n",
              "            await google.colab.kernel.invokeFunction('convertToInteractive',\n",
              "                                                     [key], {});\n",
              "          if (!dataTable) return;\n",
              "\n",
              "          const docLinkHtml = 'Like what you see? Visit the ' +\n",
              "            '<a target=\"_blank\" href=https://colab.research.google.com/notebooks/data_table.ipynb>data table notebook</a>'\n",
              "            + ' to learn more about interactive tables.';\n",
              "          element.innerHTML = '';\n",
              "          dataTable['output_type'] = 'display_data';\n",
              "          await google.colab.output.renderOutput(dataTable, element);\n",
              "          const docLink = document.createElement('div');\n",
              "          docLink.innerHTML = docLinkHtml;\n",
              "          element.appendChild(docLink);\n",
              "        }\n",
              "      </script>\n",
              "    </div>\n",
              "  </div>\n",
              "  "
            ]
          },
          "metadata": {},
          "execution_count": 201
        }
      ]
    },
    {
      "cell_type": "code",
      "source": [
        "df_test_pred.y_pred.unique()"
      ],
      "metadata": {
        "colab": {
          "base_uri": "https://localhost:8080/"
        },
        "id": "wluGZRiXzR0n",
        "outputId": "2e2e8016-29ed-40c1-92d2-feef818901b1"
      },
      "execution_count": 202,
      "outputs": [
        {
          "output_type": "execute_result",
          "data": {
            "text/plain": [
              "array(['application', 'service', 'others', 'charges', 'people', 'process'],\n",
              "      dtype=object)"
            ]
          },
          "metadata": {},
          "execution_count": 202
        }
      ]
    },
    {
      "cell_type": "code",
      "execution_count": 203,
      "metadata": {
        "colab": {
          "base_uri": "https://localhost:8080/",
          "height": 545
        },
        "id": "voEGDHPkCpf7",
        "outputId": "0fd6a08a-8ecd-4579-b68a-12e8047b128d"
      },
      "outputs": [
        {
          "output_type": "execute_result",
          "data": {
            "text/plain": [
              "<Axes: >"
            ]
          },
          "metadata": {},
          "execution_count": 203
        },
        {
          "output_type": "execute_result",
          "data": {
            "text/plain": [
              "Text(33.222222222222214, 0.5, 'Actual')"
            ]
          },
          "metadata": {},
          "execution_count": 203
        },
        {
          "output_type": "execute_result",
          "data": {
            "text/plain": [
              "Text(0.5, 25.722222222222214, 'Predicted')"
            ]
          },
          "metadata": {},
          "execution_count": 203
        },
        {
          "output_type": "display_data",
          "data": {
            "text/plain": [
              "<Figure size 500x500 with 2 Axes>"
            ],
            "image/png": "[encoded data removed]"
          },
          "metadata": {}
        }
      ],
      "source": [
        "from sklearn.metrics import confusion_matrix\n",
        "conf_mat = confusion_matrix(df_test_pred['category_id'], df_test_pred['category_id_pred'])\n",
        "fig, ax = plt.subplots(figsize=(5,5))\n",
        "sns.heatmap(conf_mat, annot=True, fmt='d',\n",
        "            xticklabels=category_id_df.y.values, yticklabels=category_id_df.y.values)\n",
        "plt.ylabel('Actual')\n",
        "plt.xlabel('Predicted')\n",
        "plt.show()"
      ]
    },
    {
      "cell_type": "code",
      "source": [
        "# Classification report\n",
        "from sklearn import metrics\n",
        "print(metrics.classification_report(df_test_pred['category_id'], df_test_pred['category_id_pred'], target_names=df['y'].unique()))"
      ],
      "metadata": {
        "id": "v9lF3u0R4l1p",
        "outputId": "a246c546-bebe-463f-e466-96e1ffdd1f5f",
        "colab": {
          "base_uri": "https://localhost:8080/"
        }
      },
      "execution_count": 204,
      "outputs": [
        {
          "output_type": "stream",
          "name": "stdout",
          "text": [
            "              precision    recall  f1-score   support\n",
            "\n",
            "     service       0.83      0.88      0.85       762\n",
            " application       0.80      0.83      0.82       430\n",
            "      others       0.86      0.85      0.86       316\n",
            "     charges       0.91      0.79      0.84       133\n",
            "     process       0.42      0.27      0.33        30\n",
            "      people       0.72      0.36      0.48        58\n",
            "     product       0.00      0.00      0.00         5\n",
            "\n",
            "    accuracy                           0.83      1734\n",
            "   macro avg       0.65      0.57      0.60      1734\n",
            "weighted avg       0.82      0.83      0.82      1734\n",
            "\n"
          ]
        },
        {
          "output_type": "stream",
          "name": "stderr",
          "text": [
            "/usr/local/lib/python3.10/dist-packages/sklearn/metrics/_classification.py:1344: UndefinedMetricWarning: Precision and F-score are ill-defined and being set to 0.0 in labels with no predicted samples. Use `zero_division` parameter to control this behavior.\n",
            "  _warn_prf(average, modifier, msg_start, len(result))\n",
            "/usr/local/lib/python3.10/dist-packages/sklearn/metrics/_classification.py:1344: UndefinedMetricWarning: Precision and F-score are ill-defined and being set to 0.0 in labels with no predicted samples. Use `zero_division` parameter to control this behavior.\n",
            "  _warn_prf(average, modifier, msg_start, len(result))\n",
            "/usr/local/lib/python3.10/dist-packages/sklearn/metrics/_classification.py:1344: UndefinedMetricWarning: Precision and F-score are ill-defined and being set to 0.0 in labels with no predicted samples. Use `zero_division` parameter to control this behavior.\n",
            "  _warn_prf(average, modifier, msg_start, len(result))\n"
          ]
        }
      ]
    },
    {
      "cell_type": "code",
      "execution_count": 205,
      "metadata": {
        "id": "9Cu4UifQCpf7",
        "colab": {
          "base_uri": "https://localhost:8080/",
          "height": 545
        },
        "outputId": "732e9712-6e74-45e0-cd0a-ebd6c0a9ed1a"
      },
      "outputs": [
        {
          "output_type": "execute_result",
          "data": {
            "text/plain": [
              "<Axes: >"
            ]
          },
          "metadata": {},
          "execution_count": 205
        },
        {
          "output_type": "execute_result",
          "data": {
            "text/plain": [
              "Text(33.222222222222214, 0.5, 'Actual')"
            ]
          },
          "metadata": {},
          "execution_count": 205
        },
        {
          "output_type": "execute_result",
          "data": {
            "text/plain": [
              "Text(0.5, 25.722222222222214, 'Predicted')"
            ]
          },
          "metadata": {},
          "execution_count": 205
        },
        {
          "output_type": "display_data",
          "data": {
            "text/plain": [
              "<Figure size 500x500 with 2 Axes>"
            ],
            "image/png": "[encoded data removed]"
          },
          "metadata": {}
        }
      ],
      "source": [
        "from sklearn.metrics import confusion_matrix\n",
        "conf_mat = confusion_matrix(df_pred['category_id'], df_pred['category_id_pred'])\n",
        "fig, ax = plt.subplots(figsize=(5,5))\n",
        "sns.heatmap(conf_mat, annot=True, fmt='d',\n",
        "            xticklabels=category_id_df.y.values, yticklabels=category_id_df.y.values)\n",
        "plt.ylabel('Actual')\n",
        "plt.xlabel('Predicted')\n",
        "plt.show()"
      ]
    },
    {
      "cell_type": "code",
      "execution_count": 206,
      "metadata": {
        "colab": {
          "base_uri": "https://localhost:8080/"
        },
        "id": "NS-7FGhLCpf7",
        "outputId": "7157aaa9-37b0-4760-dc24-1b7bdd039da5"
      },
      "outputs": [
        {
          "output_type": "stream",
          "name": "stdout",
          "text": [
            "              precision    recall  f1-score   support\n",
            "\n",
            "     service       0.93      0.95      0.94      1905\n",
            " application       0.92      0.93      0.93      1074\n",
            "      others       0.94      0.94      0.94       791\n",
            "     charges       0.97      0.92      0.94       332\n",
            "     process       0.83      0.71      0.76        75\n",
            "      people       0.93      0.74      0.83       145\n",
            "     product       1.00      0.62      0.76        13\n",
            "\n",
            "    accuracy                           0.93      4335\n",
            "   macro avg       0.93      0.83      0.87      4335\n",
            "weighted avg       0.93      0.93      0.93      4335\n",
            "\n"
          ]
        }
      ],
      "source": [
        "# Classification report overall\n",
        "from sklearn import metrics\n",
        "print(metrics.classification_report(df_pred['category_id'], df_pred['category_id_pred'], target_names=df['y'].unique()))"
      ]
    },
    {
      "cell_type": "code",
      "execution_count": 208,
      "metadata": {
        "id": "E2r7i5zgCpf7"
      },
      "outputs": [],
      "source": [
        "res = pd.DataFrame()\n",
        "# To manually verify why some failed\n",
        "from IPython.display import display\n",
        "\n",
        "for predicted in category_id_df.category_id:\n",
        "    for actual in category_id_df.category_id:\n",
        "        if predicted != actual and conf_mat[actual, predicted] >= 10:\n",
        "            # print(\"'{}' predicted as '{}' : {} examples.\".format(id_to_category[actual], id_to_category[predicted], conf_mat[actual, predicted]))\n",
        "            temp = df_pred.query(f' (category_id == {actual}) & (category_id_pred == {predicted})')[['x']]\n",
        "            temp['y'] = id_to_category[actual]\n",
        "            temp['y_pred'] = id_to_category[predicted]\n",
        "            # print('')\n",
        "            res = pd.concat([res,temp])"
      ]
    },
    {
      "cell_type": "code",
      "source": [
        "from google.colab import data_table\n",
        "data_table.DataTable(res, include_index=False, num_rows_per_page=10)"
      ],
      "metadata": {
        "colab": {
          "base_uri": "https://localhost:8080/",
          "height": 343
        },
        "id": "YZFaySnw8Ner",
        "outputId": "1e3f6985-5d89-4e26-c9dc-e98d5b074f84"
      },
      "execution_count": 209,
      "outputs": [
        {
          "output_type": "execute_result",
          "data": {
            "text/html": [
              "<div>\n",
              "<style scoped>\n",
              "    .dataframe tbody tr th:only-of-type {\n",
              "        vertical-align: middle;\n",
              "    }\n",
              "\n",
              "    .dataframe tbody tr th {\n",
              "        vertical-align: top;\n",
              "    }\n",
              "\n",
              "    .dataframe thead th {\n",
              "        text-align: right;\n",
              "    }\n",
              "</style>\n",
              "<table border=\"1\" class=\"dataframe\">\n",
              "  <thead>\n",
              "    <tr style=\"text-align: right;\">\n",
              "      <th></th>\n",
              "      <th>x</th>\n",
              "      <th>y</th>\n",
              "      <th>y_pred</th>\n",
              "    </tr>\n",
              "  </thead>\n",
              "  <tbody>\n",
              "    <tr>\n",
              "      <th>100</th>\n",
              "      <td>my demat account relationship manager m abha d...</td>\n",
              "      <td>application</td>\n",
              "      <td>service</td>\n",
              "    </tr>\n",
              "    <tr>\n",
              "      <th>205</th>\n",
              "      <td>i like to start my trading so please request y...</td>\n",
              "      <td>application</td>\n",
              "      <td>service</td>\n",
              "    </tr>\n",
              "    <tr>\n",
              "      <th>207</th>\n",
              "      <td>no position reflects on screen near about mini...</td>\n",
              "      <td>application</td>\n",
              "      <td>service</td>\n",
              "    </tr>\n",
              "    <tr>\n",
              "      <th>213</th>\n",
              "      <td>i am getting very bad experience with your tra...</td>\n",
              "      <td>application</td>\n",
              "      <td>service</td>\n",
              "    </tr>\n",
              "    <tr>\n",
              "      <th>726</th>\n",
              "      <td>some time kotak security website run properly</td>\n",
              "      <td>application</td>\n",
              "      <td>service</td>\n",
              "    </tr>\n",
              "    <tr>\n",
              "      <th>...</th>\n",
              "      <td>...</td>\n",
              "      <td>...</td>\n",
              "      <td>...</td>\n",
              "    </tr>\n",
              "    <tr>\n",
              "      <th>3075</th>\n",
              "      <td>portfolio issue stocktrident share transaction</td>\n",
              "      <td>application</td>\n",
              "      <td>others</td>\n",
              "    </tr>\n",
              "    <tr>\n",
              "      <th>3465</th>\n",
              "      <td>graph not updating</td>\n",
              "      <td>application</td>\n",
              "      <td>others</td>\n",
              "    </tr>\n",
              "    <tr>\n",
              "      <th>3650</th>\n",
              "      <td>improvement in portal</td>\n",
              "      <td>application</td>\n",
              "      <td>others</td>\n",
              "    </tr>\n",
              "    <tr>\n",
              "      <th>3705</th>\n",
              "      <td>mene apne bank se kotak security me transfar d...</td>\n",
              "      <td>application</td>\n",
              "      <td>others</td>\n",
              "    </tr>\n",
              "    <tr>\n",
              "      <th>4163</th>\n",
              "      <td>please make it fast and simple ui</td>\n",
              "      <td>application</td>\n",
              "      <td>others</td>\n",
              "    </tr>\n",
              "  </tbody>\n",
              "</table>\n",
              "<p>258 rows × 3 columns</p>\n",
              "</div>"
            ],
            "application/vnd.google.colaboratory.module+javascript": "\n      import \"https://ssl.gstatic.com/colaboratory/data_table/99dac6621f6ae8c4/data_table.js\";\n\n      window.createDataTable({\n        data: [[\"my demat account relationship manager m abha didnt responding since jan start my issue is pending she is not replying on email also\",\n\"application\",\n\"service\"],\n [\"i like to start my trading so please request yourself to discard my wife s revathapar account soon\",\n\"application\",\n\"service\"],\n [\"no position reflects on screen near about minite so i am not squre my position and l am going in loss\",\n\"application\",\n\"service\"],\n [\"i am getting very bad experience with your tradeing platform\",\n\"application\",\n\"service\"],\n [\"some time kotak security website run properly\",\n\"application\",\n\"service\"],\n [\"you guy have looted my money because of your system fault i lost my money and when i have raised complain from past month you havent been able to resolve it such a pathetic broker you are\",\n\"application\",\n\"service\"],\n [\"only researched equity stock are correct in researching list of day if i request for any kotak security related inquiry it s unresolved till now for filling income tax\",\n\"application\",\n\"service\"],\n [\"it is suggested that team who file the reply doe not have application of mind they filed the reply in mail even after receiving mail required data not receuved very poor servive by kotak\",\n\"application\",\n\"service\"],\n [\"try to solve technical issue within hour or before market close so that client manage their position according mkt condition\",\n\"application\",\n\"service\"],\n [\"technical issue very important problem and call centre not good response\",\n\"application\",\n\"service\"],\n [\"no query have been addressed appropriately so far since i have opened account with kotak\",\n\"application\",\n\"service\"],\n [\"neo platform is pathetic and manager ha no clue how to resolve it who is responsible for the loss i incurred relationship manager never pickup the phone and have no empathy to client issue\",\n\"application\",\n\"service\"],\n [\"i understand that technical glitch may come once in a while but i last week it ha happened time and before that i had the experience but that time wa of few minute bht last week it wa of hour and moreover your customer care not responding you can tell they were busy on other call but in twitter none of the subscriber call ha been responded\",\n\"application\",\n\"service\"],\n [\"always facing issue after some daysand always facing running issue for appvery bed experience from kotak security no issue\",\n\"application\",\n\"service\"],\n [\"take responsibility of your system failure due to worst system trader face loss also mental harassment by kotak security you only send apologize email regarding this close my account a soon a possible\",\n\"application\",\n\"service\"],\n [\"few day back the order were stuck due to technical glitch so it need improvement and during that time no one gave any information regarding that\",\n\"application\",\n\"service\"],\n [\"your call trade department behave rudely\",\n\"application\",\n\"service\"],\n [\"very poor all service to trading platform bad kotak neo daily bug issue\",\n\"application\",\n\"service\"],\n [\"trading platform hanging up and getting slower during market hour\",\n\"application\",\n\"service\"],\n [\"app is not working properly released p l of mcx segment in application not showing the current year p l amount from last day rate hang most of the time a confirmed the same by kotak executive and dealer your executive name kamlesh most of the time he address me by my name ammit not us sir or mr maddan have not seen this in other company even i have a recording of that a well for sure will close my kotak security account by march\",\n\"application\",\n\"service\"],\n [\"my demat account relationship manager m abha didnt responding since jan start my issue is pending she is not replying on email also\",\n\"application\",\n\"service\"],\n [\"i like to start my trading so please request yourself to discard my wife s revathapar account soon\",\n\"application\",\n\"service\"],\n [\"no position reflects on screen near about minite so i am not squre my position and l am going in loss\",\n\"application\",\n\"service\"],\n [\"i am getting very bad experience with your tradeing platform\",\n\"application\",\n\"service\"],\n [\"some time kotak security website run properly\",\n\"application\",\n\"service\"],\n [\"you guy have looted my money because of your system fault i lost my money and when i have raised complain from past month you havent been able to resolve it such a pathetic broker you are\",\n\"application\",\n\"service\"],\n [\"technical problem are happening to time every month moreover solving those problem are taking to day i e response is very unsatisfactory please work in this area to solve the problem a soon a possible to make our journey smoother so that i can say others to join our kotak security proudly thanks yours sincerely ajay mukherjee\",\n\"application\",\n\"service\"],\n [\"you have to see the account holder who all are having loss for the year and oppoint and manger to guide them just to recover the loss at least thereby you can maintain you customer base whenever you feel a stock is crashing u can guide to exit at right time\",\n\"application\",\n\"service\"],\n [\"online and whatsapp is not good not replying from day\",\n\"application\",\n\"service\"],\n [\"whatsapp representative not able to right answer\",\n\"application\",\n\"service\"],\n [\"yes please take responsibility of such mishap and reimburse u\",\n\"application\",\n\"service\"],\n [\"you are providing whats app chat regarding query most of the time auto reply only coming chose number or but the person wont respond to answer lic ipo first day we cant able to apply in the afternoon i allied but no confirmation received why your person were not informed the actual position m\",\n\"application\",\n\"service\"],\n [\"call me to understand problem and compensate the loss due to technical glitch\",\n\"application\",\n\"service\"],\n [\"improve your mobile applicationcharts speed at crucial time become too slow being digital at crucial time line becomes bussy call back after hour is of no use in highly sensitive stock market hence worst\",\n\"application\",\n\"service\"],\n [\"referal bonus of acc opened each credit not given even after mailed to escation team n they admitted but more than month gone credit not given to u ut shake oyr confidence app becoming laggy dyring mkt opening frst hour rm keep changing v fast n do take initiative to solve querry\",\n\"application\",\n\"service\"],\n [\"please improve all system\",\n\"application\",\n\"service\"],\n [\"whatsapp chat entirely useless call should be arranged to understand and solve client query secondly margin amount show up against fund is misguiding and someone will notify it to sebi a it not client own fund thus impact investment decision investment decision cant be taken on margin amount\",\n\"application\",\n\"service\"],\n [\"your app suck and you are experimenting with it by making client suffer by not logging the complaint or providing a seamless redressal on email purposely everything is kept on phone call so a to shadow the issue of your own pathetic learning curve\",\n\"application\",\n\"service\"],\n [\"i interacted on whatsapp two time two issue my matter wa not resolved one relation officer reqd for redresal of issue\",\n\"application\",\n\"service\"],\n [\"the message received for buying or selling an equity should come timely and not when it ha reached near the target\",\n\"application\",\n\"service\"],\n [\"till today there is difference between my portfolio and sell from existing stock inspite of my reapeted request for the last seventeen day so please look into the matter thanks\",\n\"application\",\n\"service\"],\n [\"in indial day representative use to call me about query but in non one wa there to help u when inwas in need even several request made on whatsapp number of kotak security but query r dealts per their convenience and not a customer need\",\n\"application\",\n\"service\"],\n [\"i have pay approx rupee of brockreg because of higher brockreg rate this is drak side of kotak security\",\n\"application\",\n\"service\"],\n [\"better improve your customer service cell to resolve issue raised by the customer also the website ha numerous glitch which is very irritating dont know how kotak security is working with such defective website and such poor customer service looking out for an alternative to shift account from kotak a it wa a mistake to open the account here unfortunately no one care to listen to the customer and if an issue is unresolved cannot even send a representative to understand the issue face to face very incompetent\",\n\"application\",\n\"service\"],\n [\"api querries not resolved equity shorted auction querry is not solved huge loss lakh above rupee\",\n\"application\",\n\"service\"],\n [\"not happy with response a solution not provided\",\n\"application\",\n\"service\"],\n [\"it is rather disturbing to say the least that basic query take so much of time to resolve despite escalation and in writing no senior came on line to address it a pity please get your act together and make your system smooth and try and address query quickly\",\n\"application\",\n\"service\"],\n [\"user guide to navigate and fully utilize all feature of the tool is required your person is not fully aware of the all feature of the tool\",\n\"application\",\n\"service\"],\n [\"iam a new investor i navee sign up for margin pladge even though i paid for margin pladge every day i received sm for my account show negative value even i visited the namakkal branch the kodak staf did not help me to solve this problem iam totally disappointed with kodak i wadt breakup all transaction from kodak\",\n\"application\",\n\"service\"],\n [\"applied lic ipo did not get and money not refunded yet complained every one yet not solved\",\n\"application\",\n\"service\"],\n [\"i applied for deactivation of my account but your team did not do this\",\n\"application\",\n\"service\"],\n [\"improve on your system i recieve mail of debit balannce upon inquiring answer is sorry the system is not updated\",\n\"application\",\n\"service\"],\n [\"provide your suggestion in the website dont disturb your customer had asked report to fill itr till now didnt receive it\",\n\"application\",\n\"service\"],\n [\"i am trying to solve a small issue of converting my neo account to kst from last month several time i have been talk to customer care but still not my issue is not solved frustrating experience with kotak security\",\n\"application\",\n\"service\"],\n [\"very heavy and unreasonable penalty applied on me for short trade and nobody resolved my grievance\",\n\"application\",\n\"service\"],\n [\"after initial exp i asked to close the ac they have yet not closed the ac\",\n\"others\",\n\"service\"],\n [\"howmany time i need to explain my issue\",\n\"others\",\n\"service\"],\n [\"same a had been given in the last feedback suggestion\",\n\"others\",\n\"service\"],\n [\"lot more is expected of them\",\n\"others\",\n\"service\"],\n [\"not even contacted\",\n\"others\",\n\"service\"],\n [\"bad experience for a year old customer\",\n\"others\",\n\"service\"],\n [\"long long long waiting not at all satisfied\",\n\"others\",\n\"service\"],\n [\"please solve my issue frustrated customer\",\n\"others\",\n\"service\"],\n [\"if mistakenly we open our account with you online then we request you to shift our account to local area branch\",\n\"others\",\n\"service\"],\n [\"i have sent mail\",\n\"others\",\n\"service\"],\n [\"toll free no is not working always try to improve\",\n\"others\",\n\"service\"],\n [\"after initial exp i asked to close the ac they have yet not closed the ac\",\n\"others\",\n\"service\"],\n [\"howmany time i need to explain my issue\",\n\"others\",\n\"service\"],\n [\"what action ha been taken from last feedback\",\n\"others\",\n\"service\"],\n [\"first feedback would be to work on previous feedback s and not not only keep asking about the feedback\",\n\"others\",\n\"service\"],\n [\"good but not bed\",\n\"others\",\n\"service\"],\n [\"good interaction without solution\",\n\"others\",\n\"service\"],\n [\"v poor experience with kotak\",\n\"others\",\n\"service\"],\n [\"hopeless broker response not friendly to retailer at all\",\n\"others\",\n\"service\"],\n [\"deed are not upto the word\",\n\"others\",\n\"service\"],\n [\"call waiting\",\n\"others\",\n\"service\"],\n [\"they only look risk based on kotaks exposure and not from investment view\",\n\"others\",\n\"service\"],\n [\"make pdf for product with date of update at top nse digital is from i should not say all this\",\n\"others\",\n\"service\"],\n [\"i not interested on kotak security\",\n\"others\",\n\"service\"],\n [\"not so good\",\n\"others\",\n\"service\"],\n [\"first sort out this then ask\",\n\"others\",\n\"service\"],\n [\"what is the resolution am making loss for the profit making strategy because the average price is changing on daily basis without making any change in the holding position\",\n\"others\",\n\"service\"],\n [\"waiting for the reply to my feedback\",\n\"others\",\n\"service\"],\n [\"i wa requesting for last few month to close my trading account and to freeze dp account executive were giving lame excuse etc\",\n\"others\",\n\"service\"],\n [\"not happy\",\n\"others\",\n\"service\"],\n [\"i never spoke to anyone today or recently why did i receive this message\",\n\"others\",\n\"service\"],\n [\"worst experience\",\n\"others\",\n\"service\"],\n [\"very disappoint about charge no one help for same\",\n\"charges\",\n\"service\"],\n [\"very disappoint about charge no one help for same\",\n\"charges\",\n\"service\"],\n [\"margin giving and selling immediately is not correct\",\n\"charges\",\n\"service\"],\n [\"no provision to know the detail of brokerage paid no report available in thr report no provision to know the detail of the interest debited abnormal delay in showing the amount of the share pledged under margin trading eben after hour nobody will pick the call on calling even a dedicated line no resolution even for a critical issue through online trading app will not work even for more than two hour inspite of it no prior intimation to the customer very very poor knowledge of the app on the subject among the person dealing with customer\",\n\"charges\",\n\"service\"],\n [\"no provision to know the detail of brokerage paid no report available in the report no provision to know the detail of the interest debited or even no communication abnormal delay in showing the amount of the share pledged under margin trading even after hour nobody will pick the call on calling even a dedicated line no resolution even for a critical issue through online trading app will not work even for more than two hour inspite of it no prior intimation to the customer very very poor knowledge of the app on the subject among the person dealing with customer pledged share worth lakh for which system shown margin after haircut wa lakh but only amount to the extent of lakh wa shown informed this to the dealer and also sent the nsdl sm confirmation of the share pledged no reply from anybody for the repeated mail reminder mail though the issue are very critical worst customer service\",\n\"charges\",\n\"service\"],\n [\"a long pending issue regarding levying of demat charge by kotak mahindra bank they say that this issue may be referred to kotak security and kotak security say that this issue may be resolved by the kotak mahindra bank i remained between the two without resolution and for a very long period say about year i visited the local office of kotak security ltd and met mr abhishek atleast time with no result and this is highly regrettable for such an organisation i understand kotak bank and kotak security are the sister concern but there is no coordination and each one is passing the buck kindly improve your complaint redressal system\",\n\"charges\",\n\"service\"],\n [\"query raised on differential brokarage charge to differet people having equal investment but nit responded appropriately\",\n\"charges\",\n\"service\"],\n [\"please correct the brockerage issue raised by me\",\n\"charges\",\n\"service\"],\n [\"i asked to call me by my relationship manager and decrease the brokerage promised me to arrange a call but it never happened even after multiple attempt you can call me at a i am staying in singapore now thank you\",\n\"charges\",\n\"service\"],\n [\"customer service is pathetic brokerage structure is absolutely uncompetitive\",\n\"charges\",\n\"service\"],\n [\"dear team i have already sent mail to kotak security service before day still not respond on this mail and no single reply i want to know about my brokerage charge and contract note is not open in my android phone i hope you resolve my query asap thanks\",\n\"charges\",\n\"service\"],\n [\"a discussed with your mr vaid who called failed to understand why should we be harrassed to repledge the share bought while already pledged good amount of share with sufficeiently covering k amunt after necessary hair cut the nsci site is not responsive many time so unnecessary wastage of time energy should be saved\",\n\"process\",\n\"service\"],\n [\"registered one person for family member security id to handle easy by both side\",\n\"process\",\n\"service\"],\n [\"a discussed with your mr vaid who called failed to understand why should we be harrassed to repledge the share bought while already pledged good amount of share with sufficeiently covering k amunt after necessary hair cut the nsci site is not responsive many time so unnecessary wastage of time energy should be saved\",\n\"process\",\n\"service\"],\n [\"you are not paying me refer and earn commission anil kumar jain xrg since january for refree code zxexz shail jain\",\n\"process\",\n\"service\"],\n [\"stop deducting unnecessary a i wa having balance and it became and i didnt done a single transactionand when transfer the got deducted from itwhen customer didnt done any transaction how come i lost my cash balance and it when to\",\n\"process\",\n\"service\"],\n [\"not being able to activate my fno via kst for the last month very bad\",\n\"process\",\n\"service\"],\n [\"the security are auctioned without any intimation to investor\",\n\"process\",\n\"service\"],\n [\"the employee interact nicely but what is the use of that if they are unable to solve the problem it seems either they lack experience or there is no accountability actually on th aug i wanted to redeem mf hdfc kotak sbi from my portfolio but could not do so a online authentication by bse could not be done a i wa not getting required otp i approached bse but asked to contact kotak security without any result so far i wrote to service security providing screen shot on aug the help desk ha become totally silent on the issue of course today a phone call came informing that she could process my redemption request but she ha shown her inability to solve the problem a explained above\",\n\"process\",\n\"service\"],\n [\"their i wa failed to relogin because of forgetting the password what i do to relogin the account\",\n\"process\",\n\"service\"],\n [\"my relationship manager wa not at all customer centric process to update the address detail are also not clear and it doesn t work when offline kyc file is uploaded always throw the error invalid file\",\n\"process\",\n\"service\"],\n [\"yes better support for out of i fia client\",\n\"people\",\n\"service\"],\n [\"not expected this kind of call support and app from mahindra group\",\n\"people\",\n\"service\"],\n [\"we should be provided with advice on share that are getting delisted already delisted and how to deal with them when i asked the person he blankly replied he doe not know then what is the point in having this conversation if proper guidance is not provided\",\n\"people\",\n\"service\"],\n [\"high level of confusion while squatting off position no clarity a to what is the final net position to be square off before the close of market very poor support\",\n\"people\",\n\"service\"],\n [\"no communication from your end reg customer support\",\n\"people\",\n\"service\"],\n [\"selection of the people should be more prudent\",\n\"people\",\n\"service\"],\n [\"you dont pick up the call increase the staff and atleast attend the call when people are in problem else what is the use of customer executive that wa really pathetic experience big business ha lost a lot atleast you pick up the call or stop the server and reject the order from that certain time so we dont face loss and we feel lost a you dont pick up call centre increase support staff attend call and c that server doesnt give problem\",\n\"people\",\n\"service\"],\n [\"all you people are smart enough to deal with your side what the client is facing on daily basis yours employee have not proper knowledge and updation that must if any and they all have show in routine work taking it not problem solving it s culture that is also reflection of upper management what all are doing actually management want or take like a routine\",\n\"people\",\n\"service\"],\n [\"some junior employee with no knowledge and experience had called asking if my problem wa resolved she wa so scared in calling a if she wa being made a scape goat why doesnt my rm call himself and share his contact detail\",\n\"people\",\n\"service\"],\n [\"staff not having proper knowledge and misguided customer\",\n\"people\",\n\"service\"],\n [\"the staff were not knowledgeable nor wa there any intention to sort out the query but to pas the buck the position remains the same\",\n\"people\",\n\"service\"],\n [\"yes better support for out of i fia client\",\n\"people\",\n\"service\"],\n [\"not expected this kind of call support and app from mahindra group\",\n\"people\",\n\"service\"],\n [\"we should be provided with advice on share that are getting delisted already delisted and how to deal with them when i asked the person he blankly replied he doe not know then what is the point in having this conversation if proper guidance is not provided\",\n\"people\",\n\"service\"],\n [\"high level of confusion while squatting off position no clarity a to what is the final net position to be square off before the close of market very poor support\",\n\"people\",\n\"service\"],\n [\"no communication from your end reg customer support\",\n\"people\",\n\"service\"],\n [\"one most inefficient customer care system the so called representative seems to be picked up from the street and put on job without providing any trainingthey lack knowledge and don t have solution for any issuethey call back after many dayssystem doe not work in the morning and many time during the day\",\n\"people\",\n\"service\"],\n [\"talk to u in odia language a i am in the state of odisha\",\n\"people\",\n\"service\"],\n [\"people in level are not well knowledge d about the product or the new issue the customer face in addition to this they are providing the wrong information most of the time not at all satisfied with the level customer helpdesk\",\n\"people\",\n\"service\"],\n [\"my more than year of experience with kotak security is worst so i never suggest anyone to open account with kotak any kind of account i felt this is very easy to open an account with kotak but close or switch the same is not possible by kotak kotak staff are also not knowledgeable and experience kotak recruited none productive team without regard\",\n\"people\",\n\"service\"],\n [\"trained and knowledgeable personnel are required\",\n\"people\",\n\"service\"],\n [\"the appointment of rm should not be for the sake of appointment i have pointed out earlier also that the rm is rarely of any use to the investor and mostly it is very difficult to contact him her it is also seen that at time they are not very knowledgeable and not able to solve the problem\",\n\"people\",\n\"service\"],\n [\"first of all client will call any time during officer hour in that time also they are unable spare the time difficult for them to solve client query secondly they are not knowledge of the kotak trading platform then how solve customer regardsramesh\",\n\"people\",\n\"service\"],\n [\"whenever i call kotak security first level f c agent dont kw english they cant understand customer query and keep on asking same question and they dont pas call or escalate the call to a senior level or knowledge person pathetic c wasting my money n time due to this i stoped transaction with this dp shifted to upstoxs\",\n\"people\",\n\"service\"],\n [\"almost employee were good to resolve query only few employee hadnt complete knowledge about the issue they trying to resolve\",\n\"people\",\n\"service\"],\n [\"very rude staff no knowledge of subject having no solution only trying to forward the complaint or query staff picked the call after dialing many time after that hearing your query forward the call to his senior putting customer on hold surprisingly nobody respond even for hour worst service ever\",\n\"people\",\n\"service\"],\n [\"have talked to people in a day and had different redressal idea what a joke\",\n\"people\",\n\"service\"],\n [\"toll free number are not answering many time or person attending is not having desired knowledge to solve the issue redirecting to other platform for solution whereas they are called only after getting disappointing from other platform like whatsapp and email in the era of fast delivery i am running pillar to post to get the issue settled from without any fault of mine and unable to trade till date\",\n\"people\",\n\"service\"],\n [\"kotak security people doe not take initiative to resolve the issue\",\n\"people\",\n\"service\"],\n [\"your app is not trustworthy customer care number is not responding worst platform\",\n\"service\",\n\"application\"],\n [\"kotak neo app is pathetic it ha stopped working it freeze in market out with no response from service become totally dummy such a useless app you guy have developed learn from zerodha iifl paisa apps\",\n\"service\",\n\"application\"],\n [\"should have trading rm in nearest bank so they can help in teaching trading software us trading idea\",\n\"service\",\n\"application\"],\n [\"raising it since many month but still not heard back\",\n\"service\",\n\"application\"],\n [\"i appreciate your service staff behavior alertness punctuality and your generosity everything is very very good except your app hang some time especially when the market is on peak this is long pending issue please look into the matter it is serious issue and i made loss also instead of book profit\",\n\"service\",\n\"application\"],\n [\"should improve app rm should be provided to each mamber\",\n\"service\",\n\"application\"],\n [\"how many time you ask for feedback just try and work on those can that dealer solve my issue your app just doe not work for at least a day who is responsible for that\",\n\"service\",\n\"application\"],\n [\"have a suitable mechanism in which user can connect with dealer when required so that it cannot hamper user trading\",\n\"service\",\n\"application\"],\n [\"charge are very high compared to other dealer it is clearly visible in the statement i have been receiving so many time i have requested to reduce the charged on the share i am holding in my dmat account but dealer is not bothered seriously thinking of transferring my account to zerodha\",\n\"service\",\n\"application\"],\n [\"your app is not trustworthy customer care number is not responding worst platform\",\n\"service\",\n\"application\"],\n [\"kotak neo app is pathetic it ha stopped working it freeze in market out with no response from service become totally dummy such a useless app you guy have developed learn from zerodha iifl paisa apps\",\n\"service\",\n\"application\"],\n [\"should have trading rm in nearest bank so they can help in teaching trading software us trading idea\",\n\"service\",\n\"application\"],\n [\"your transaction email attachment doesnt open in gamil a it say that this email attachment could be harmful so kindly improve your email security standard so i can download the transaction attachment\",\n\"service\",\n\"application\"],\n [\"irregular response and not pay interest on client question and doubt\",\n\"service\",\n\"application\"],\n [\"when taking money calling me a much a my holding i will only withdraw it after that not trading with kotak\",\n\"service\",\n\"application\"],\n [\"when we go for buy sell mode in keat pro it should so show day high low range like that in shcil trading platform\",\n\"service\",\n\"application\"],\n [\"rate not updated perfectly leger statement is worse to understand anda also contact note not matched with letter nsee order in f o unit and in currency lot but u provides both r in lot first u observe other platform also i u r back in d world\",\n\"service\",\n\"application\"],\n [\"if debit shortfall amount time is over but still should give one week more time to return the amount before recovery request huge loose hota hai\",\n\"service\",\n\"application\"],\n [\"client should should not be held responsible or penalised for a system technical error regarding margin secondly no trade should be squarred off without taking approval of the buyer further a buyer should be called telephonically to submit the shortfall money before liquidation\",\n\"service\",\n\"application\"],\n [\"why delaying in rectifying the mistake happened in system and informed to your front line officer\",\n\"service\",\n\"application\"],\n [\"give contact number instead of this app too bad experience\",\n\"service\",\n\"application\"],\n [\"overall highly discouragingbengaluru vijayanagar concerned officer is uselesssuch people do harm and are thick skinnedi exit kotak\",\n\"service\",\n\"application\"],\n [\"kotak platform is not v helpful if i try to login after a long day at say am n work on my finance then i cant platform not available between am it seems\",\n\"service\",\n\"application\"],\n [\"information need about ipo sme and other product not provide guide to customer whether ipo sme give profit loss\",\n\"service\",\n\"application\"],\n [\"no new trading flatform work properly your old system work prooerly\",\n\"service\",\n\"application\"],\n [\"client interest be on priority\",\n\"service\",\n\"application\"],\n [\"position open position average price information is incorrect\",\n\"service\",\n\"application\"],\n [\"i need some data everyday in my phone that is how much i will receive or how much i have to pay that data i need\",\n\"service\",\n\"application\"],\n [\"terminal should be perfect i lost money a i wa running my software on your api bridge and it started showing error and i lost thousand in just minute and it happened on friday who will take this responsibility of loss\",\n\"service\",\n\"application\"],\n [\"please activate connection to dealer directly instead of ivr automated system we are loosing the trade opportunity due to disconnect slb trade should available at kst\",\n\"service\",\n\"application\"],\n [\"in trading app compare to margin requirement if sufficient margin is available then why all gtc order are not converted into regular order dealer are unaware whether app is properly working or not during my call conversation they told app ha some problem whereas else where it wa functioning normally try to solve matter so we can place our order properly\",\n\"service\",\n\"application\"],\n [\"long term capital gain statement is not perfect n clear not matched with accounting\",\n\"service\",\n\"application\"],\n [\"very poor service app doesnt work during the busy period\",\n\"service\",\n\"application\"],\n [\"close kotak security if you cant solve your client problem there are many platform which are solving problem easily\",\n\"service\",\n\"application\"],\n [\"at some specific point human involvement should not be there in different category of trading plan\",\n\"service\",\n\"application\"],\n [\"some stock not performed\",\n\"service\",\n\"application\"],\n [\"my interaction with employee is goodmy main problem is when my stop loss is hited my trade should have to immediately square off but it take to to square off my trade\",\n\"service\",\n\"application\"],\n [\"the person interacting should also know client portal a well i should be able to see all my information on the website although i see there are so many menu on the website but difficult to find useful information\",\n\"service\",\n\"application\"],\n [\"flat form keatpro is not good for trading\",\n\"service\",\n\"application\"],\n [\"keatspro plat form ha several deficiency when we open report order it doe not show script name no filtering of order no pop up message once order is executed cancelled\",\n\"service\",\n\"application\"],\n [\"there is agreement between big player it is manipulated fraud market not natural market\",\n\"service\",\n\"application\"],\n [\"account statement not properly working and did not clarify the transaction statement after complaint in your office timely\",\n\"service\",\n\"application\"],\n [\"expect someone from k to guide me on the usage of the trading platform and it feature\",\n\"service\",\n\"application\"],\n [\"useless it is\",\n\"others\",\n\"application\"],\n [\"last few day i am facing problem\",\n\"others\",\n\"application\"],\n [\"old is gold reliable brilliant\",\n\"others\",\n\"application\"],\n [\"i hope a day may b run smoothly\",\n\"others\",\n\"application\"],\n [\"useless it is\",\n\"others\",\n\"application\"],\n [\"last few day i am facing problem\",\n\"others\",\n\"application\"],\n [\"old is gold reliable brilliant\",\n\"others\",\n\"application\"],\n [\"i hope a day may b run smoothly\",\n\"others\",\n\"application\"],\n [\"cash projection should be reflected fund withdrawn from trading account should be immediately credited to bank account at least in the case of linked kotak bank account\",\n\"others\",\n\"application\"],\n [\"i think kotak is too big for smaller client icici is much better\",\n\"others\",\n\"application\"],\n [\"must be easy to work\",\n\"others\",\n\"application\"],\n [\"hang problem\",\n\"others\",\n\"application\"],\n [\"improve or miss out the opportunity\",\n\"others\",\n\"application\"],\n [\"it show wrong ltp in option\",\n\"others\",\n\"application\"],\n [\"no one interacted till now except brokrages interest no support in neo app brokarages charge too high too many bug repeat please sm for same order\",\n\"charges\",\n\"application\"],\n [\"yeah provide all the plan and charge atleast once in month\",\n\"charges\",\n\"application\"],\n [\"yeah provide all the plan and charge atleast once in month\",\n\"charges\",\n\"application\"],\n [\"no one interacted till now except brokrages interest no support in neo app brokarages charge too high too many bug repeat please sm for same order\",\n\"charges\",\n\"application\"],\n [\"you should do what you say you will do if you say you will close the account you should close the account and do not keep it alive to get the monthly maintenance charge\",\n\"charges\",\n\"application\"],\n [\"no option available in the app to generate report like holding under normal trade holding under margin trading holding a on a particular date balance a on a particular date detail of the brokerage paid a on a particular date etc\",\n\"charges\",\n\"application\"],\n [\"charge are not revised\",\n\"charges\",\n\"application\"],\n [\"please reduced the brokrage charge of lot purchase so i have not trading daily\",\n\"charges\",\n\"application\"],\n [\"high brokerage app\",\n\"charges\",\n\"application\"],\n [\"fuddu app fuddu customer care asked about brokerage they told me interest rate facing issue in checking fund available in account from last day nobody is here to help me really fed up from kotak security such a fuddu platform to do trade\",\n\"charges\",\n\"application\"],\n [\"dp charge seem to be collected indiscriminately please check the correctness once before deduction\",\n\"charges\",\n\"application\"],\n [\"transperency in account not there kotak charge anything with no explanation\",\n\"charges\",\n\"application\"],\n [\"when placing multiple option order it is not showing how much margin is required\",\n\"charges\",\n\"application\"],\n [\"charge are high app is not slick\",\n\"charges\",\n\"application\"],\n [\"for early resolution for swadein industry share buy quantity paisa but showing in portfolio pl rectify\",\n\"process\",\n\"application\"],\n [\"get your process and app optimised first\",\n\"process\",\n\"application\"],\n [\"no concrete update on the request nor any info when it would be resolved and the process to be followed\",\n\"process\",\n\"application\"],\n [\"you are requested to text message dailytrading position and ledger balance a before that will ease the follow up and smooth trading\",\n\"process\",\n\"application\"],\n [\"if the person do not know how to solve the problem please do not keep the account in inactive due to in activation of the trading account i lost almost k during these day i couldnt able to sell the stock through online i uploaded salary slop through app on th july and also sent month account statement to the mail a per process but till now it is not solved\",\n\"process\",\n\"application\"],\n [\"customer need to be aware of actual internal process and if something is going to take time be truthful about it even for loyal customer who been with you for so many year quick response should be provided than treating like new customer kotak team need to respond over email also which i dont see much kotak whatsapp is the worst it neither give correct info and guide in wrong direction it should be clear in the response and if not point to the next level team for response\",\n\"process\",\n\"application\"],\n [\"there is no proper problem solving process\",\n\"process\",\n\"application\"],\n [\"fund transfer problem and other problem are delay\",\n\"process\",\n\"application\"],\n [\"please make log in more simple on the web\",\n\"process\",\n\"application\"],\n [\"i have referred person but got benefit of only i have been complaining since month but problem not solved most irritating thing is that same detail from fress asked each time and different reason wa given for it\",\n\"process\",\n\"application\"],\n [\"faster resolution of question will be helpful\",\n\"service\",\n\"others\"],\n [\"they do not reply after hearing me\",\n\"service\",\n\"others\"],\n [\"shift the demat account of kotak bank to kotak security\",\n\"service\",\n\"others\"],\n [\"be there when needed thanks\",\n\"service\",\n\"others\"],\n [\"your are taking feedback a formality only\",\n\"service\",\n\"others\"],\n [\"pls pravide quality cc\",\n\"service\",\n\"others\"],\n [\"not supported for my account related enquiry bad hepl for me\",\n\"service\",\n\"others\"],\n [\"faster resolution of question will be helpful\",\n\"service\",\n\"others\"],\n [\"they do not reply after hearing me\",\n\"service\",\n\"others\"],\n [\"shift the demat account of kotak bank to kotak security\",\n\"service\",\n\"others\"],\n [\"be there when needed thanks\",\n\"service\",\n\"others\"],\n [\"my queary no resloved\",\n\"service\",\n\"others\"],\n [\"cheap serivce\",\n\"service\",\n\"others\"],\n [\"the present r m m rita is exceptionally good intelegent and supportive\",\n\"service\",\n\"others\"],\n [\"you dont listen it is a waste of time advising you\",\n\"service\",\n\"others\"],\n [\"no feedback\",\n\"service\",\n\"others\"],\n [\"no comment\",\n\"service\",\n\"others\"],\n [\"recommend good and quality productskindly give short term product\",\n\"service\",\n\"others\"],\n [\"no accountability no ownership\",\n\"service\",\n\"others\"],\n [\"worst advisor i have ever come across\",\n\"service\",\n\"others\"],\n [\"no feedbk\",\n\"service\",\n\"others\"],\n [\"nice response\",\n\"service\",\n\"others\"],\n [\"properly call me\",\n\"service\",\n\"others\"],\n [\"segeral time suggested from last year but no use\",\n\"service\",\n\"others\"],\n [\"too many area which need improvement would appreciate if senior executive can call me\",\n\"service\",\n\"others\"],\n [\"delar quary\",\n\"service\",\n\"others\"],\n [\"be more responsible a it your customer money\",\n\"service\",\n\"others\"],\n [\"be polite\",\n\"service\",\n\"others\"],\n [\"option training program needed\",\n\"application\",\n\"others\"],\n [\"delay in info update\",\n\"application\",\n\"others\"],\n [\"improve portfolio window\",\n\"application\",\n\"others\"],\n [\"my inquiry not sloved\",\n\"application\",\n\"others\"],\n [\"i m not all happy\",\n\"application\",\n\"others\"],\n [\"stop looting trader\",\n\"application\",\n\"others\"],\n [\"rectification of erroneous demat account no\",\n\"application\",\n\"others\"],\n [\"portfolio issue stocktrident share transaction\",\n\"application\",\n\"others\"],\n [\"graph not updating\",\n\"application\",\n\"others\"],\n [\"improvement in portal\",\n\"application\",\n\"others\"],\n [\"mene apne bank se kotak security me transfar diya tha uska problam solve ho gaya aabhaar\",\n\"application\",\n\"others\"],\n [\"please make it fast and simple ui\",\n\"application\",\n\"others\"]],\n        columns: [[\"string\", \"x\"], [\"string\", \"y\"], [\"string\", \"y_pred\"]],\n        columnOptions: [],\n        rowsPerPage: 10,\n        helpUrl: \"https://colab.research.google.com/notebooks/data_table.ipynb\",\n        suppressOutputScrolling: true,\n        minimumWidth: undefined,\n      });\n    ",
            "text/plain": [
              "<google.colab.data_table.DataTable object>"
            ]
          },
          "metadata": {},
          "execution_count": 209
        }
      ]
    },
    {
      "cell_type": "code",
      "source": [
        "from google.colab import data_table\n",
        "data_table.DataTable(df_pred.query(' y != y_pred')[['x','y', 'y_pred']], include_index=False, num_rows_per_page=10)"
      ],
      "metadata": {
        "colab": {
          "base_uri": "https://localhost:8080/",
          "height": 326
        },
        "id": "D7mx5dZE8FUM",
        "outputId": "4bf3f0c1-a68c-429d-bd6d-8fc0b19ce524"
      },
      "execution_count": 210,
      "outputs": [
        {
          "output_type": "execute_result",
          "data": {
            "text/html": [
              "<div>\n",
              "<style scoped>\n",
              "    .dataframe tbody tr th:only-of-type {\n",
              "        vertical-align: middle;\n",
              "    }\n",
              "\n",
              "    .dataframe tbody tr th {\n",
              "        vertical-align: top;\n",
              "    }\n",
              "\n",
              "    .dataframe thead th {\n",
              "        text-align: right;\n",
              "    }\n",
              "</style>\n",
              "<table border=\"1\" class=\"dataframe\">\n",
              "  <thead>\n",
              "    <tr style=\"text-align: right;\">\n",
              "      <th></th>\n",
              "      <th>x</th>\n",
              "      <th>y</th>\n",
              "      <th>y_pred</th>\n",
              "    </tr>\n",
              "  </thead>\n",
              "  <tbody>\n",
              "    <tr>\n",
              "      <th>15</th>\n",
              "      <td>very disappoint about charge no one help for same</td>\n",
              "      <td>charges</td>\n",
              "      <td>service</td>\n",
              "    </tr>\n",
              "    <tr>\n",
              "      <th>97</th>\n",
              "      <td>useless it is</td>\n",
              "      <td>others</td>\n",
              "      <td>application</td>\n",
              "    </tr>\n",
              "    <tr>\n",
              "      <th>100</th>\n",
              "      <td>my demat account relationship manager m abha d...</td>\n",
              "      <td>application</td>\n",
              "      <td>service</td>\n",
              "    </tr>\n",
              "    <tr>\n",
              "      <th>188</th>\n",
              "      <td>yes better support for out of i fia client</td>\n",
              "      <td>people</td>\n",
              "      <td>service</td>\n",
              "    </tr>\n",
              "    <tr>\n",
              "      <th>205</th>\n",
              "      <td>i like to start my trading so please request y...</td>\n",
              "      <td>application</td>\n",
              "      <td>service</td>\n",
              "    </tr>\n",
              "    <tr>\n",
              "      <th>...</th>\n",
              "      <td>...</td>\n",
              "      <td>...</td>\n",
              "      <td>...</td>\n",
              "    </tr>\n",
              "    <tr>\n",
              "      <th>4273</th>\n",
              "      <td>kotak security people doe not take initiative ...</td>\n",
              "      <td>people</td>\n",
              "      <td>service</td>\n",
              "    </tr>\n",
              "    <tr>\n",
              "      <th>4286</th>\n",
              "      <td>very heavy and unreasonable penalty applied on...</td>\n",
              "      <td>application</td>\n",
              "      <td>service</td>\n",
              "    </tr>\n",
              "    <tr>\n",
              "      <th>4289</th>\n",
              "      <td>charge are high app is not slick</td>\n",
              "      <td>charges</td>\n",
              "      <td>application</td>\n",
              "    </tr>\n",
              "    <tr>\n",
              "      <th>4307</th>\n",
              "      <td>hidden chargesxare exorbitantcharges</td>\n",
              "      <td>charges</td>\n",
              "      <td>others</td>\n",
              "    </tr>\n",
              "    <tr>\n",
              "      <th>4328</th>\n",
              "      <td>pls pls try to give more recomendations in f o...</td>\n",
              "      <td>product</td>\n",
              "      <td>service</td>\n",
              "    </tr>\n",
              "  </tbody>\n",
              "</table>\n",
              "<p>302 rows × 3 columns</p>\n",
              "</div>"
            ],
            "application/vnd.google.colaboratory.module+javascript": "\n      import \"https://ssl.gstatic.com/colaboratory/data_table/99dac6621f6ae8c4/data_table.js\";\n\n      window.createDataTable({\n        data: [[\"very disappoint about charge no one help for same\",\n\"charges\",\n\"service\"],\n [\"useless it is\",\n\"others\",\n\"application\"],\n [\"my demat account relationship manager m abha didnt responding since jan start my issue is pending she is not replying on email also\",\n\"application\",\n\"service\"],\n [\"yes better support for out of i fia client\",\n\"people\",\n\"service\"],\n [\"i like to start my trading so please request yourself to discard my wife s revathapar account soon\",\n\"application\",\n\"service\"],\n [\"no position reflects on screen near about minite so i am not squre my position and l am going in loss\",\n\"application\",\n\"service\"],\n [\"i am getting very bad experience with your tradeing platform\",\n\"application\",\n\"service\"],\n [\"your app is not trustworthy customer care number is not responding worst platform\",\n\"service\",\n\"application\"],\n [\"kotak neo app is pathetic it ha stopped working it freeze in market out with no response from service become totally dummy such a useless app you guy have developed learn from zerodha iifl paisa apps\",\n\"service\",\n\"application\"],\n [\"not expected this kind of call support and app from mahindra group\",\n\"people\",\n\"service\"],\n [\"last few day i am facing problem\",\n\"others\",\n\"application\"],\n [\"faster resolution of question will be helpful\",\n\"service\",\n\"others\"],\n [\"old is gold reliable brilliant\",\n\"others\",\n\"application\"],\n [\"we should be provided with advice on share that are getting delisted already delisted and how to deal with them when i asked the person he blankly replied he doe not know then what is the point in having this conversation if proper guidance is not provided\",\n\"people\",\n\"service\"],\n [\"after initial exp i asked to close the ac they have yet not closed the ac\",\n\"others\",\n\"service\"],\n [\"a discussed with your mr vaid who called failed to understand why should we be harrassed to repledge the share bought while already pledged good amount of share with sufficeiently covering k amunt after necessary hair cut the nsci site is not responsive many time so unnecessary wastage of time energy should be saved\",\n\"process\",\n\"service\"],\n [\"not have the knowledge on subject matter and not able to understand put on hold for hour\",\n\"service\",\n\"people\"],\n [\"no one interacted till now except brokrages interest no support in neo app brokarages charge too high too many bug repeat please sm for same order\",\n\"charges\",\n\"application\"],\n [\"howmany time i need to explain my issue\",\n\"others\",\n\"service\"],\n [\"no one take resposence for terder give me helpful suggetion i no mtf x margin trading noting dad expireance for me ex mornig i sell bank of boroda than he come back but i cannot buy i buy only share what is this you tell x margin i cash and share adani share adani trans\",\n\"service\",\n\"charges\"],\n [\"they do not reply after hearing me\",\n\"service\",\n\"others\"],\n [\"my friend like to open with kotak security but not allowed to open asked bank account with kotak mahendira i would be like to open my family member demat and trading account with kotak security so any bank account accept and open the demat and trade account\",\n\"service\",\n\"process\"],\n [\"i hope a day may b run smoothly\",\n\"others\",\n\"application\"],\n [\"shift the demat account of kotak bank to kotak security\",\n\"service\",\n\"others\"],\n [\"be there when needed thanks\",\n\"service\",\n\"others\"],\n [\"high level of confusion while squatting off position no clarity a to what is the final net position to be square off before the close of market very poor support\",\n\"people\",\n\"service\"],\n [\"some time kotak security website run properly\",\n\"application\",\n\"service\"],\n [\"no communication from your end reg customer support\",\n\"people\",\n\"service\"],\n [\"should have trading rm in nearest bank so they can help in teaching trading software us trading idea\",\n\"service\",\n\"application\"],\n [\"you guy have looted my money because of your system fault i lost my money and when i have raised complain from past month you havent been able to resolve it such a pathetic broker you are\",\n\"application\",\n\"service\"],\n [\"registered one person for family member security id to handle easy by both side\",\n\"process\",\n\"service\"],\n [\"only researched equity stock are correct in researching list of day if i request for any kotak security related inquiry it s unresolved till now for filling income tax\",\n\"application\",\n\"service\"],\n [\"ghatiya trading terminal designed by idiot approved by idiot in spite of my telling u again again there is no change in it that is also adamant response from kotak i dont recommend kotak to anybody i have my strategy listed on tradetron i myself may stop trading with u in future shift my all client to other broker not recommend kotak a the interface is not user friendly\",\n\"application\",\n\"charges\"],\n [\"your are taking feedback a formality only\",\n\"service\",\n\"others\"],\n [\"pro not sound knowledge\",\n\"application\",\n\"people\"],\n [\"it is suggested that team who file the reply doe not have application of mind they filed the reply in mail even after receiving mail required data not receuved very poor servive by kotak\",\n\"application\",\n\"service\"],\n [\"option training program needed\",\n\"application\",\n\"others\"],\n [\"same a had been given in the last feedback suggestion\",\n\"others\",\n\"service\"],\n [\"selection of the people should be more prudent\",\n\"people\",\n\"service\"],\n [\"bad behaviour low quality support compared to other no good time support\",\n\"service\",\n\"people\"],\n [\"lot more is expected of them\",\n\"others\",\n\"service\"],\n [\"your research is eating money of your membersfor example recently given ghcl at r now and other same for all\",\n\"others\",\n\"people\"],\n [\"raising it since many month but still not heard back\",\n\"service\",\n\"application\"],\n [\"reduce charge and improve customer support\",\n\"service\",\n\"charges\"],\n [\"i appreciate your service staff behavior alertness punctuality and your generosity everything is very very good except your app hang some time especially when the market is on peak this is long pending issue please look into the matter it is serious issue and i made loss also instead of book profit\",\n\"service\",\n\"application\"],\n [\"for early resolution for swadein industry share buy quantity paisa but showing in portfolio pl rectify\",\n\"process\",\n\"application\"],\n [\"try to solve technical issue within hour or before market close so that client manage their position according mkt condition\",\n\"application\",\n\"service\"],\n [\"delay in info update\",\n\"application\",\n\"others\"],\n [\"yeah provide all the plan and charge atleast once in month\",\n\"charges\",\n\"application\"],\n [\"technical issue very important problem and call centre not good response\",\n\"application\",\n\"service\"],\n [\"you dont pick up the call increase the staff and atleast attend the call when people are in problem else what is the use of customer executive that wa really pathetic experience big business ha lost a lot atleast you pick up the call or stop the server and reject the order from that certain time so we dont face loss and we feel lost a you dont pick up call centre increase support staff attend call and c that server doesnt give problem\",\n\"people\",\n\"service\"],\n [\"your people not reacting properly when asking for help every time requesting for converting the margine fund but they are not roperly responding not converting money to margine fund for write trading in write time a others why we will ask them to increase my margine it should automatically showen for trading\",\n\"people\",\n\"process\"],\n [\"not even contacted\",\n\"others\",\n\"service\"],\n [\"no query have been addressed appropriately so far since i have opened account with kotak\",\n\"application\",\n\"service\"],\n [\"neo platform is pathetic and manager ha no clue how to resolve it who is responsible for the loss i incurred relationship manager never pickup the phone and have no empathy to client issue\",\n\"application\",\n\"service\"],\n [\"pls pravide quality cc\",\n\"service\",\n\"others\"],\n [\"language problem in solving kindly help u in local language in odia for me\",\n\"people\",\n\"application\"],\n [\"improve portfolio window\",\n\"application\",\n\"others\"],\n [\"need more recommendation and detail about investment opportunity\",\n\"product\",\n\"service\"],\n [\"all you people are smart enough to deal with your side what the client is facing on daily basis yours employee have not proper knowledge and updation that must if any and they all have show in routine work taking it not problem solving it s culture that is also reflection of upper management what all are doing actually management want or take like a routine\",\n\"people\",\n\"service\"],\n [\"bad experience for a year old customer\",\n\"others\",\n\"service\"],\n [\"i understand that technical glitch may come once in a while but i last week it ha happened time and before that i had the experience but that time wa of few minute bht last week it wa of hour and moreover your customer care not responding you can tell they were busy on other call but in twitter none of the subscriber call ha been responded\",\n\"application\",\n\"service\"],\n [\"always facing issue after some daysand always facing running issue for appvery bed experience from kotak security no issue\",\n\"application\",\n\"service\"],\n [\"should improve app rm should be provided to each mamber\",\n\"service\",\n\"application\"],\n [\"yeah provide all the plan and charge atleast once in month\",\n\"charges\",\n\"application\"],\n [\"kotak neo is very stuck and hanging mobile and web my order for intraday wa unfortunately not exited but you have given delivery with r prr unit brokerage which ia unfair\",\n\"application\",\n\"charges\"],\n [\"take responsibility of your system failure due to worst system trader face loss also mental harassment by kotak security you only send apologize email regarding this close my account a soon a possible\",\n\"application\",\n\"service\"],\n [\"few day back the order were stuck due to technical glitch so it need improvement and during that time no one gave any information regarding that\",\n\"application\",\n\"service\"],\n [\"your call trade department behave rudely\",\n\"application\",\n\"service\"],\n [\"very poor all service to trading platform bad kotak neo daily bug issue\",\n\"application\",\n\"service\"],\n [\"i made profit in intraday trading but you disappeared my profit worst brokerage even i had bought free trade youth plan\",\n\"application\",\n\"charges\"],\n [\"long long long waiting not at all satisfied\",\n\"others\",\n\"service\"],\n [\"train people on technical solution\",\n\"people\",\n\"application\"],\n [\"trading platform hanging up and getting slower during market hour\",\n\"application\",\n\"service\"],\n [\"app is not working properly released p l of mcx segment in application not showing the current year p l amount from last day rate hang most of the time a confirmed the same by kotak executive and dealer your executive name kamlesh most of the time he address me by my name ammit not us sir or mr maddan have not seen this in other company even i have a recording of that a well for sure will close my kotak security account by march\",\n\"application\",\n\"service\"],\n [\"some junior employee with no knowledge and experience had called asking if my problem wa resolved she wa so scared in calling a if she wa being made a scape goat why doesnt my rm call himself and share his contact detail\",\n\"people\",\n\"service\"],\n [\"fund withdrawal issue\",\n\"process\",\n\"others\"],\n [\"please solve my issue frustrated customer\",\n\"others\",\n\"service\"],\n [\"not supported for my account related enquiry bad hepl for me\",\n\"service\",\n\"others\"],\n [\"staff not having proper knowledge and misguided customer\",\n\"people\",\n\"service\"],\n [\"the staff were not knowledgeable nor wa there any intention to sort out the query but to pas the buck the position remains the same\",\n\"people\",\n\"service\"],\n [\"how many time you ask for feedback just try and work on those can that dealer solve my issue your app just doe not work for at least a day who is responsible for that\",\n\"service\",\n\"application\"],\n [\"have a suitable mechanism in which user can connect with dealer when required so that it cannot hamper user trading\",\n\"service\",\n\"application\"],\n [\"charge are very high compared to other dealer it is clearly visible in the statement i have been receiving so many time i have requested to reduce the charged on the share i am holding in my dmat account but dealer is not bothered seriously thinking of transferring my account to zerodha\",\n\"service\",\n\"application\"],\n [\"not getting good support on trading account struggling hard\",\n\"service\",\n\"process\"],\n [\"if mistakenly we open our account with you online then we request you to shift our account to local area branch\",\n\"others\",\n\"service\"],\n [\"i have sent mail\",\n\"others\",\n\"service\"],\n [\"toll free no is not working always try to improve\",\n\"others\",\n\"service\"],\n [\"very disappoint about charge no one help for same\",\n\"charges\",\n\"service\"],\n [\"useless it is\",\n\"others\",\n\"application\"],\n [\"my demat account relationship manager m abha didnt responding since jan start my issue is pending she is not replying on email also\",\n\"application\",\n\"service\"],\n [\"yes better support for out of i fia client\",\n\"people\",\n\"service\"],\n [\"i like to start my trading so please request yourself to discard my wife s revathapar account soon\",\n\"application\",\n\"service\"],\n [\"no position reflects on screen near about minite so i am not squre my position and l am going in loss\",\n\"application\",\n\"service\"],\n [\"i am getting very bad experience with your tradeing platform\",\n\"application\",\n\"service\"],\n [\"your app is not trustworthy customer care number is not responding worst platform\",\n\"service\",\n\"application\"],\n [\"kotak neo app is pathetic it ha stopped working it freeze in market out with no response from service become totally dummy such a useless app you guy have developed learn from zerodha iifl paisa apps\",\n\"service\",\n\"application\"],\n [\"not expected this kind of call support and app from mahindra group\",\n\"people\",\n\"service\"],\n [\"last few day i am facing problem\",\n\"others\",\n\"application\"],\n [\"faster resolution of question will be helpful\",\n\"service\",\n\"others\"],\n [\"old is gold reliable brilliant\",\n\"others\",\n\"application\"],\n [\"we should be provided with advice on share that are getting delisted already delisted and how to deal with them when i asked the person he blankly replied he doe not know then what is the point in having this conversation if proper guidance is not provided\",\n\"people\",\n\"service\"],\n [\"after initial exp i asked to close the ac they have yet not closed the ac\",\n\"others\",\n\"service\"],\n [\"a discussed with your mr vaid who called failed to understand why should we be harrassed to repledge the share bought while already pledged good amount of share with sufficeiently covering k amunt after necessary hair cut the nsci site is not responsive many time so unnecessary wastage of time energy should be saved\",\n\"process\",\n\"service\"],\n [\"not have the knowledge on subject matter and not able to understand put on hold for hour\",\n\"service\",\n\"people\"],\n [\"no one interacted till now except brokrages interest no support in neo app brokarages charge too high too many bug repeat please sm for same order\",\n\"charges\",\n\"application\"],\n [\"howmany time i need to explain my issue\",\n\"others\",\n\"service\"],\n [\"no one take resposence for terder give me helpful suggetion i no mtf x margin trading noting dad expireance for me ex mornig i sell bank of boroda than he come back but i cannot buy i buy only share what is this you tell x margin i cash and share adani share adani trans\",\n\"service\",\n\"charges\"],\n [\"they do not reply after hearing me\",\n\"service\",\n\"others\"],\n [\"my friend like to open with kotak security but not allowed to open asked bank account with kotak mahendira i would be like to open my family member demat and trading account with kotak security so any bank account accept and open the demat and trade account\",\n\"service\",\n\"process\"],\n [\"i hope a day may b run smoothly\",\n\"others\",\n\"application\"],\n [\"shift the demat account of kotak bank to kotak security\",\n\"service\",\n\"others\"],\n [\"be there when needed thanks\",\n\"service\",\n\"others\"],\n [\"high level of confusion while squatting off position no clarity a to what is the final net position to be square off before the close of market very poor support\",\n\"people\",\n\"service\"],\n [\"some time kotak security website run properly\",\n\"application\",\n\"service\"],\n [\"no communication from your end reg customer support\",\n\"people\",\n\"service\"],\n [\"should have trading rm in nearest bank so they can help in teaching trading software us trading idea\",\n\"service\",\n\"application\"],\n [\"you guy have looted my money because of your system fault i lost my money and when i have raised complain from past month you havent been able to resolve it such a pathetic broker you are\",\n\"application\",\n\"service\"],\n [\"technical problem are happening to time every month moreover solving those problem are taking to day i e response is very unsatisfactory please work in this area to solve the problem a soon a possible to make our journey smoother so that i can say others to join our kotak security proudly thanks yours sincerely ajay mukherjee\",\n\"application\",\n\"service\"],\n [\"cash projection should be reflected fund withdrawn from trading account should be immediately credited to bank account at least in the case of linked kotak bank account\",\n\"others\",\n\"application\"],\n [\"you are not paying me refer and earn commission anil kumar jain xrg since january for refree code zxexz shail jain\",\n\"process\",\n\"service\"],\n [\"margin giving and selling immediately is not correct\",\n\"charges\",\n\"service\"],\n [\"contacted kotak bank for cc cr but not considered same wa done by icici bank\",\n\"service\",\n\"process\"],\n [\"you have to see the account holder who all are having loss for the year and oppoint and manger to guide them just to recover the loss at least thereby you can maintain you customer base whenever you feel a stock is crashing u can guide to exit at right time\",\n\"application\",\n\"service\"],\n [\"your transaction email attachment doesnt open in gamil a it say that this email attachment could be harmful so kindly improve your email security standard so i can download the transaction attachment\",\n\"service\",\n\"application\"],\n [\"it a not so good experience compared to angel broking in term of advise stock specific suggestion guidence\",\n\"product\",\n\"service\"],\n [\"what action ha been taken from last feedback\",\n\"others\",\n\"service\"],\n [\"i think kotak is too big for smaller client icici is much better\",\n\"others\",\n\"application\"],\n [\"you should do what you say you will do if you say you will close the account you should close the account and do not keep it alive to get the monthly maintenance charge\",\n\"charges\",\n\"application\"],\n [\"first feedback would be to work on previous feedback s and not not only keep asking about the feedback\",\n\"others\",\n\"service\"],\n [\"my inquiry not sloved\",\n\"application\",\n\"others\"],\n [\"online and whatsapp is not good not replying from day\",\n\"application\",\n\"service\"],\n [\"whatsapp representative not able to right answer\",\n\"application\",\n\"service\"],\n [\"irregular response and not pay interest on client question and doubt\",\n\"service\",\n\"application\"],\n [\"yes please take responsibility of such mishap and reimburse u\",\n\"application\",\n\"service\"],\n [\"you are providing whats app chat regarding query most of the time auto reply only coming chose number or but the person wont respond to answer lic ipo first day we cant able to apply in the afternoon i allied but no confirmation received why your person were not informed the actual position m\",\n\"application\",\n\"service\"],\n [\"my queary no resloved\",\n\"service\",\n\"others\"],\n [\"call me to understand problem and compensate the loss due to technical glitch\",\n\"application\",\n\"service\"],\n [\"one most inefficient customer care system the so called representative seems to be picked up from the street and put on job without providing any trainingthey lack knowledge and don t have solution for any issuethey call back after many dayssystem doe not work in the morning and many time during the day\",\n\"people\",\n\"service\"],\n [\"i m not all happy\",\n\"application\",\n\"others\"],\n [\"get your process and app optimised first\",\n\"process\",\n\"application\"],\n [\"my account debited r very much higher side were kpr mill buy back were only share buy backby the company out of share pls reverse the charge the same is inform to dealer but no reply\",\n\"service\",\n\"charges\"],\n [\"no provision to know the detail of brokerage paid no report available in thr report no provision to know the detail of the interest debited abnormal delay in showing the amount of the share pledged under margin trading eben after hour nobody will pick the call on calling even a dedicated line no resolution even for a critical issue through online trading app will not work even for more than two hour inspite of it no prior intimation to the customer very very poor knowledge of the app on the subject among the person dealing with customer\",\n\"charges\",\n\"service\"],\n [\"suggestion a make kotak equity delivery segment a competitive a zerodhab move dp participant to cdsl from nsdl a nsdl is costly c please display requirement of margin at the time of buy or sale of future sale of option d there should not be case where margin is seen in margin report but system is rejecting transaction saying duplicate entry not allowed e system should not go hang during trading hour\",\n\"application\",\n\"charges\"],\n [\"no provision to know the detail of brokerage paid no report available in the report no provision to know the detail of the interest debited or even no communication abnormal delay in showing the amount of the share pledged under margin trading even after hour nobody will pick the call on calling even a dedicated line no resolution even for a critical issue through online trading app will not work even for more than two hour inspite of it no prior intimation to the customer very very poor knowledge of the app on the subject among the person dealing with customer pledged share worth lakh for which system shown margin after haircut wa lakh but only amount to the extent of lakh wa shown informed this to the dealer and also sent the nsdl sm confirmation of the share pledged no reply from anybody for the repeated mail reminder mail though the issue are very critical worst customer service\",\n\"charges\",\n\"service\"],\n [\"must be easy to work\",\n\"others\",\n\"application\"],\n [\"improve your mobile applicationcharts speed at crucial time become too slow being digital at crucial time line becomes bussy call back after hour is of no use in highly sensitive stock market hence worst\",\n\"application\",\n\"service\"],\n [\"when taking money calling me a much a my holding i will only withdraw it after that not trading with kotak\",\n\"service\",\n\"application\"],\n [\"good but not bed\",\n\"others\",\n\"service\"],\n [\"appoint more knowledgeable people make your system fast rather than putting more and more option\",\n\"people\",\n\"application\"],\n [\"cheap serivce\",\n\"service\",\n\"others\"],\n [\"they make my too much loss with worst recommendation in nifty option\",\n\"others\",\n\"people\"],\n [\"good interaction without solution\",\n\"others\",\n\"service\"],\n [\"v poor experience with kotak\",\n\"others\",\n\"service\"],\n [\"stop deducting unnecessary a i wa having balance and it became and i didnt done a single transactionand when transfer the got deducted from itwhen customer didnt done any transaction how come i lost my cash balance and it when to\",\n\"process\",\n\"service\"],\n [\"hopeless broker response not friendly to retailer at all\",\n\"others\",\n\"service\"],\n [\"stop looting trader\",\n\"application\",\n\"others\"],\n [\"i transferred r k on may online but fund transfer not updated so unable to transact my bank account debuted and i i have also forwarded bank account statement showing transaction a well a sm received from sbi to confirm transaction\",\n\"service\",\n\"process\"],\n [\"referal bonus of acc opened each credit not given even after mailed to escation team n they admitted but more than month gone credit not given to u ut shake oyr confidence app becoming laggy dyring mkt opening frst hour rm keep changing v fast n do take initiative to solve querry\",\n\"application\",\n\"service\"],\n [\"no concrete update on the request nor any info when it would be resolved and the process to be followed\",\n\"process\",\n\"application\"],\n [\"a long pending issue regarding levying of demat charge by kotak mahindra bank they say that this issue may be referred to kotak security and kotak security say that this issue may be resolved by the kotak mahindra bank i remained between the two without resolution and for a very long period say about year i visited the local office of kotak security ltd and met mr abhishek atleast time with no result and this is highly regrettable for such an organisation i understand kotak bank and kotak security are the sister concern but there is no coordination and each one is passing the buck kindly improve your complaint redressal system\",\n\"charges\",\n\"service\"],\n [\"rectification of erroneous demat account no\",\n\"application\",\n\"others\"],\n [\"deed are not upto the word\",\n\"others\",\n\"service\"],\n [\"call waiting\",\n\"others\",\n\"service\"],\n [\"when we go for buy sell mode in keat pro it should so show day high low range like that in shcil trading platform\",\n\"service\",\n\"application\"],\n [\"without my concern why slbm contract is foreclosed and r is debited to my trading account why\",\n\"service\",\n\"process\"],\n [\"please improve all system\",\n\"application\",\n\"service\"],\n [\"rate not updated perfectly leger statement is worse to understand anda also contact note not matched with letter nsee order in f o unit and in currency lot but u provides both r in lot first u observe other platform also i u r back in d world\",\n\"service\",\n\"application\"],\n [\"talk to u in odia language a i am in the state of odisha\",\n\"people\",\n\"service\"],\n [\"no option available in the app to generate report like holding under normal trade holding under margin trading holding a on a particular date balance a on a particular date detail of the brokerage paid a on a particular date etc\",\n\"charges\",\n\"application\"],\n [\"the present r m m rita is exceptionally good intelegent and supportive\",\n\"service\",\n\"others\"],\n [\"you dont listen it is a waste of time advising you\",\n\"service\",\n\"others\"],\n [\"you are requested to text message dailytrading position and ledger balance a before that will ease the follow up and smooth trading\",\n\"process\",\n\"application\"],\n [\"my trading account is debited by r with remark foreclosure of slbm of indiamart without my concern after my request r is refunded instead of r please refund my r\",\n\"service\",\n\"process\"],\n [\"whatsapp chat entirely useless call should be arranged to understand and solve client query secondly margin amount show up against fund is misguiding and someone will notify it to sebi a it not client own fund thus impact investment decision investment decision cant be taken on margin amount\",\n\"application\",\n\"service\"],\n [\"not being able to activate my fno via kst for the last month very bad\",\n\"process\",\n\"service\"],\n [\"people in level are not well knowledge d about the product or the new issue the customer face in addition to this they are providing the wrong information most of the time not at all satisfied with the level customer helpdesk\",\n\"people\",\n\"service\"],\n [\"the security are auctioned without any intimation to investor\",\n\"process\",\n\"service\"],\n [\"if the person do not know how to solve the problem please do not keep the account in inactive due to in activation of the trading account i lost almost k during these day i couldnt able to sell the stock through online i uploaded salary slop through app on th july and also sent month account statement to the mail a per process but till now it is not solved\",\n\"process\",\n\"application\"],\n [\"no feedback\",\n\"service\",\n\"others\"],\n [\"your app suck and you are experimenting with it by making client suffer by not logging the complaint or providing a seamless redressal on email purposely everything is kept on phone call so a to shadow the issue of your own pathetic learning curve\",\n\"application\",\n\"service\"],\n [\"i interacted on whatsapp two time two issue my matter wa not resolved one relation officer reqd for redresal of issue\",\n\"application\",\n\"service\"],\n [\"portfolio issue stocktrident share transaction\",\n\"application\",\n\"others\"],\n [\"hidden charge others charge laga raha f o ka liya active kar na diya day ho gaya very poor service\",\n\"service\",\n\"charges\"],\n [\"the message received for buying or selling an equity should come timely and not when it ha reached near the target\",\n\"application\",\n\"service\"],\n [\"if debit shortfall amount time is over but still should give one week more time to return the amount before recovery request huge loose hota hai\",\n\"service\",\n\"application\"],\n [\"charge are not revised\",\n\"charges\",\n\"application\"],\n [\"kotak bank use my kotak security account and tread to my account but they now charge frome me\",\n\"charges\",\n\"process\"],\n [\"query raised on differential brokarage charge to differet people having equal investment but nit responded appropriately\",\n\"charges\",\n\"service\"],\n [\"client should should not be held responsible or penalised for a system technical error regarding margin secondly no trade should be squarred off without taking approval of the buyer further a buyer should be called telephonically to submit the shortfall money before liquidation\",\n\"service\",\n\"application\"],\n [\"they only look risk based on kotaks exposure and not from investment view\",\n\"others\",\n\"service\"],\n [\"why delaying in rectifying the mistake happened in system and informed to your front line officer\",\n\"service\",\n\"application\"],\n [\"till today there is difference between my portfolio and sell from existing stock inspite of my reapeted request for the last seventeen day so please look into the matter thanks\",\n\"application\",\n\"service\"],\n [\"please reduced the brokrage charge of lot purchase so i have not trading daily\",\n\"charges\",\n\"application\"],\n [\"hang problem\",\n\"others\",\n\"application\"],\n [\"give contact number instead of this app too bad experience\",\n\"service\",\n\"application\"],\n [\"my more than year of experience with kotak security is worst so i never suggest anyone to open account with kotak any kind of account i felt this is very easy to open an account with kotak but close or switch the same is not possible by kotak kotak staff are also not knowledgeable and experience kotak recruited none productive team without regard\",\n\"people\",\n\"service\"],\n [\"overall highly discouragingbengaluru vijayanagar concerned officer is uselesssuch people do harm and are thick skinnedi exit kotak\",\n\"service\",\n\"application\"],\n [\"no comment\",\n\"service\",\n\"others\"],\n [\"the employee interact nicely but what is the use of that if they are unable to solve the problem it seems either they lack experience or there is no accountability actually on th aug i wanted to redeem mf hdfc kotak sbi from my portfolio but could not do so a online authentication by bse could not be done a i wa not getting required otp i approached bse but asked to contact kotak security without any result so far i wrote to service security providing screen shot on aug the help desk ha become totally silent on the issue of course today a phone call came informing that she could process my redemption request but she ha shown her inability to solve the problem a explained above\",\n\"process\",\n\"service\"],\n [\"kotak platform is not v helpful if i try to login after a long day at say am n work on my finance then i cant platform not available between am it seems\",\n\"service\",\n\"application\"],\n [\"make pdf for product with date of update at top nse digital is from i should not say all this\",\n\"others\",\n\"service\"],\n [\"high brokerage app\",\n\"charges\",\n\"application\"],\n [\"information need about ipo sme and other product not provide guide to customer whether ipo sme give profit loss\",\n\"service\",\n\"application\"],\n [\"recommend good and quality productskindly give short term product\",\n\"service\",\n\"others\"],\n [\"no new trading flatform work properly your old system work prooerly\",\n\"service\",\n\"application\"],\n [\"client interest be on priority\",\n\"service\",\n\"application\"],\n [\"position open position average price information is incorrect\",\n\"service\",\n\"application\"],\n [\"no accountability no ownership\",\n\"service\",\n\"others\"],\n [\"i need some data everyday in my phone that is how much i will receive or how much i have to pay that data i need\",\n\"service\",\n\"application\"],\n [\"graph not updating\",\n\"application\",\n\"others\"],\n [\"in indial day representative use to call me about query but in non one wa there to help u when inwas in need even several request made on whatsapp number of kotak security but query r dealts per their convenience and not a customer need\",\n\"application\",\n\"service\"],\n [\"worst advisor i have ever come across\",\n\"service\",\n\"others\"],\n [\"kindly look into your mf investment platform it need overhauling thanks\",\n\"product\",\n\"application\"],\n [\"terminal should be perfect i lost money a i wa running my software on your api bridge and it started showing error and i lost thousand in just minute and it happened on friday who will take this responsibility of loss\",\n\"service\",\n\"application\"],\n [\"i have pay approx rupee of brockreg because of higher brockreg rate this is drak side of kotak security\",\n\"application\",\n\"service\"],\n [\"i not interested on kotak security\",\n\"others\",\n\"service\"],\n [\"please activate connection to dealer directly instead of ivr automated system we are loosing the trade opportunity due to disconnect slb trade should available at kst\",\n\"service\",\n\"application\"],\n [\"in trading app compare to margin requirement if sufficient margin is available then why all gtc order are not converted into regular order dealer are unaware whether app is properly working or not during my call conversation they told app ha some problem whereas else where it wa functioning normally try to solve matter so we can place our order properly\",\n\"service\",\n\"application\"],\n [\"fund balance show huge in negativeokno customer support\",\n\"service\",\n\"people\"],\n [\"better improve your customer service cell to resolve issue raised by the customer also the website ha numerous glitch which is very irritating dont know how kotak security is working with such defective website and such poor customer service looking out for an alternative to shift account from kotak a it wa a mistake to open the account here unfortunately no one care to listen to the customer and if an issue is unresolved cannot even send a representative to understand the issue face to face very incompetent\",\n\"application\",\n\"service\"],\n [\"trained and knowledgeable personnel are required\",\n\"people\",\n\"service\"],\n [\"the appointment of rm should not be for the sake of appointment i have pointed out earlier also that the rm is rarely of any use to the investor and mostly it is very difficult to contact him her it is also seen that at time they are not very knowledgeable and not able to solve the problem\",\n\"people\",\n\"service\"],\n [\"no feedbk\",\n\"service\",\n\"others\"],\n [\"long term capital gain statement is not perfect n clear not matched with accounting\",\n\"service\",\n\"application\"],\n [\"not so good\",\n\"others\",\n\"service\"],\n [\"customer need to be aware of actual internal process and if something is going to take time be truthful about it even for loyal customer who been with you for so many year quick response should be provided than treating like new customer kotak team need to respond over email also which i dont see much kotak whatsapp is the worst it neither give correct info and guide in wrong direction it should be clear in the response and if not point to the next level team for response\",\n\"process\",\n\"application\"],\n [\"nice response\",\n\"service\",\n\"others\"],\n [\"please correct the brockerage issue raised by me\",\n\"charges\",\n\"service\"],\n [\"first of all client will call any time during officer hour in that time also they are unable spare the time difficult for them to solve client query secondly they are not knowledge of the kotak trading platform then how solve customer regardsramesh\",\n\"people\",\n\"service\"],\n [\"there should be dedicated person at branch level to advise on the software plat form operation generalist person with no knowledge about the operation of trading platform software from customer s point of view is totally lacking\",\n\"people\",\n\"charges\"],\n [\"please provide in tamil language\",\n\"people\",\n\"application\"],\n [\"fuddu app fuddu customer care asked about brokerage they told me interest rate facing issue in checking fund available in account from last day nobody is here to help me really fed up from kotak security such a fuddu platform to do trade\",\n\"charges\",\n\"application\"],\n [\"api querries not resolved equity shorted auction querry is not solved huge loss lakh above rupee\",\n\"application\",\n\"service\"],\n [\"improvement in portal\",\n\"application\",\n\"others\"],\n [\"their i wa failed to relogin because of forgetting the password what i do to relogin the account\",\n\"process\",\n\"service\"],\n [\"for negative balance rate of interest to be reduced\",\n\"charges\",\n\"others\"],\n [\"there is no proper problem solving process\",\n\"process\",\n\"application\"],\n [\"first sort out this then ask\",\n\"others\",\n\"service\"],\n [\"whenever i call kotak security first level f c agent dont kw english they cant understand customer query and keep on asking same question and they dont pas call or escalate the call to a senior level or knowledge person pathetic c wasting my money n time due to this i stoped transaction with this dp shifted to upstoxs\",\n\"people\",\n\"service\"],\n [\"what is the resolution am making loss for the profit making strategy because the average price is changing on daily basis without making any change in the holding position\",\n\"others\",\n\"service\"],\n [\"mene apne bank se kotak security me transfar diya tha uska problam solve ho gaya aabhaar\",\n\"application\",\n\"others\"],\n [\"very poor service app doesnt work during the busy period\",\n\"service\",\n\"application\"],\n [\"improve or miss out the opportunity\",\n\"others\",\n\"application\"],\n [\"properly call me\",\n\"service\",\n\"others\"],\n [\"not happy with response a solution not provided\",\n\"application\",\n\"service\"],\n [\"it is rather disturbing to say the least that basic query take so much of time to resolve despite escalation and in writing no senior came on line to address it a pity please get your act together and make your system smooth and try and address query quickly\",\n\"application\",\n\"service\"],\n [\"segeral time suggested from last year but no use\",\n\"service\",\n\"others\"],\n [\"fund transfer problem and other problem are delay\",\n\"process\",\n\"application\"],\n [\"waiting for the reply to my feedback\",\n\"others\",\n\"service\"],\n [\"i asked to call me by my relationship manager and decrease the brokerage promised me to arrange a call but it never happened even after multiple attempt you can call me at a i am staying in singapore now thank you\",\n\"charges\",\n\"service\"],\n [\"close kotak security if you cant solve your client problem there are many platform which are solving problem easily\",\n\"service\",\n\"application\"],\n [\"i need atleast or recommendation daily but not getting from long time please provide more recommendation\",\n\"product\",\n\"service\"],\n [\"dp charge seem to be collected indiscriminately please check the correctness once before deduction\",\n\"charges\",\n\"application\"],\n [\"user guide to navigate and fully utilize all feature of the tool is required your person is not fully aware of the all feature of the tool\",\n\"application\",\n\"service\"],\n [\"too many area which need improvement would appreciate if senior executive can call me\",\n\"service\",\n\"others\"],\n [\"your previous app is good and recent app is is not good and handy your advisor have nothing knowledge when i call for something they say sir confirm karta hu\",\n\"people\",\n\"application\"],\n [\"at some specific point human involvement should not be there in different category of trading plan\",\n\"service\",\n\"application\"],\n [\"some stock not performed\",\n\"service\",\n\"application\"],\n [\"please make log in more simple on the web\",\n\"process\",\n\"application\"],\n [\"i wa requesting for last few month to close my trading account and to freeze dp account executive were giving lame excuse etc\",\n\"others\",\n\"service\"],\n [\"not happy\",\n\"others\",\n\"service\"],\n [\"i have referred person but got benefit of only i have been complaining since month but problem not solved most irritating thing is that same detail from fress asked each time and different reason wa given for it\",\n\"process\",\n\"application\"],\n [\"fund transfer issu\",\n\"process\",\n\"others\"],\n [\"i never spoke to anyone today or recently why did i receive this message\",\n\"others\",\n\"service\"],\n [\"almost employee were good to resolve query only few employee hadnt complete knowledge about the issue they trying to resolve\",\n\"people\",\n\"service\"],\n [\"iam a new investor i navee sign up for margin pladge even though i paid for margin pladge every day i received sm for my account show negative value even i visited the namakkal branch the kodak staf did not help me to solve this problem iam totally disappointed with kodak i wadt breakup all transaction from kodak\",\n\"application\",\n\"service\"],\n [\"applied lic ipo did not get and money not refunded yet complained every one yet not solved\",\n\"application\",\n\"service\"],\n [\"i applied for deactivation of my account but your team did not do this\",\n\"application\",\n\"service\"],\n [\"my interaction with employee is goodmy main problem is when my stop loss is hited my trade should have to immediately square off but it take to to square off my trade\",\n\"service\",\n\"application\"],\n [\"the person interacting should also know client portal a well i should be able to see all my information on the website although i see there are so many menu on the website but difficult to find useful information\",\n\"service\",\n\"application\"],\n [\"delar quary\",\n\"service\",\n\"others\"],\n [\"flat form keatpro is not good for trading\",\n\"service\",\n\"application\"],\n [\"be more responsible a it your customer money\",\n\"service\",\n\"others\"],\n [\"customer service is pathetic brokerage structure is absolutely uncompetitive\",\n\"charges\",\n\"service\"],\n [\"very rude staff no knowledge of subject having no solution only trying to forward the complaint or query staff picked the call after dialing many time after that hearing your query forward the call to his senior putting customer on hold surprisingly nobody respond even for hour worst service ever\",\n\"people\",\n\"service\"],\n [\"a kotak charge for charge amc of demat then why doe deduct charge after selling stock no service provider deducts like this it seems a costly affair to this platform\",\n\"service\",\n\"charges\"],\n [\"dear team i have already sent mail to kotak security service before day still not respond on this mail and no single reply i want to know about my brokerage charge and contract note is not open in my android phone i hope you resolve my query asap thanks\",\n\"charges\",\n\"service\"],\n [\"people not understand issue\",\n\"people\",\n\"process\"],\n [\"improve on your system i recieve mail of debit balannce upon inquiring answer is sorry the system is not updated\",\n\"application\",\n\"service\"],\n [\"worst experience\",\n\"others\",\n\"service\"],\n [\"provide your suggestion in the website dont disturb your customer had asked report to fill itr till now didnt receive it\",\n\"application\",\n\"service\"],\n [\"transperency in account not there kotak charge anything with no explanation\",\n\"charges\",\n\"application\"],\n [\"please make it fast and simple ui\",\n\"application\",\n\"others\"],\n [\"i am trying to solve a small issue of converting my neo account to kst from last month several time i have been talk to customer care but still not my issue is not solved frustrating experience with kotak security\",\n\"application\",\n\"service\"],\n [\"it show wrong ltp in option\",\n\"others\",\n\"application\"],\n [\"account inactive activation of f o rejected for incomplete document when i have clearly attached month bank statement\",\n\"service\",\n\"process\"],\n [\"my relationship manager wa not at all customer centric process to update the address detail are also not clear and it doesn t work when offline kyc file is uploaded always throw the error invalid file\",\n\"process\",\n\"service\"],\n [\"keatspro plat form ha several deficiency when we open report order it doe not show script name no filtering of order no pop up message once order is executed cancelled\",\n\"service\",\n\"application\"],\n [\"have talked to people in a day and had different redressal idea what a joke\",\n\"people\",\n\"service\"],\n [\"so bad or poor experience with kotak security customer service all executive have limited or no knowledge all have just passing the time or say fix line always no knowledge at all one excutive had knowledge who is equity advisor yet not know the difference between equity and derivative it so bad your executive have poor knowledge\",\n\"service\",\n\"people\"],\n [\"when placing multiple option order it is not showing how much margin is required\",\n\"charges\",\n\"application\"],\n [\"there is agreement between big player it is manipulated fraud market not natural market\",\n\"service\",\n\"application\"],\n [\"account statement not properly working and did not clarify the transaction statement after complaint in your office timely\",\n\"service\",\n\"application\"],\n [\"expect someone from k to guide me on the usage of the trading platform and it feature\",\n\"service\",\n\"application\"],\n [\"toll free number are not answering many time or person attending is not having desired knowledge to solve the issue redirecting to other platform for solution whereas they are called only after getting disappointing from other platform like whatsapp and email in the era of fast delivery i am running pillar to post to get the issue settled from without any fault of mine and unable to trade till date\",\n\"people\",\n\"service\"],\n [\"be polite\",\n\"service\",\n\"others\"],\n [\"kotak security people doe not take initiative to resolve the issue\",\n\"people\",\n\"service\"],\n [\"very heavy and unreasonable penalty applied on me for short trade and nobody resolved my grievance\",\n\"application\",\n\"service\"],\n [\"charge are high app is not slick\",\n\"charges\",\n\"application\"],\n [\"hidden chargesxare exorbitantcharges\",\n\"charges\",\n\"others\"],\n [\"pls pls try to give more recomendations in f o segment specially for nifty and nifty bank one of my friend is having account with angel one and last month he earned cool lakh on investment of r lakh it must be known to you that in last few month angel one ha grown mainly because of f o business and you are lacking you have such a good team hat off to mr sahaj aggarwal and mr shrikant chauhan but on ground recos are missing please look in to it and i am confident people will flock k\",\n\"product\",\n\"service\"]],\n        columns: [[\"string\", \"x\"], [\"string\", \"y\"], [\"string\", \"y_pred\"]],\n        columnOptions: [],\n        rowsPerPage: 10,\n        helpUrl: \"https://colab.research.google.com/notebooks/data_table.ipynb\",\n        suppressOutputScrolling: true,\n        minimumWidth: undefined,\n      });\n    ",
            "text/plain": [
              "<google.colab.data_table.DataTable object>"
            ]
          },
          "metadata": {},
          "execution_count": 210
        }
      ]
    },
    {
      "cell_type": "code",
      "source": [],
      "metadata": {
        "id": "AuQ7dHts_d6m"
      },
      "execution_count": null,
      "outputs": []
    }
  ],
  "metadata": {
    "kernelspec": {
      "display_name": "Python 3",
      "language": "python",
      "name": "python3"
    },
    "language_info": {
      "codemirror_mode": {
        "name": "ipython",
        "version": 3
      },
      "file_extension": ".py",
      "mimetype": "text/x-python",
      "name": "python",
      "nbconvert_exporter": "python",
      "pygments_lexer": "ipython3",
      "version": "3.9.11"
    },
    "orig_nbformat": 4,
    "colab": {
      "provenance": [],
      "include_colab_link": true
    },
    "gpuClass": "standard"
  },
  "nbformat": 4,
  "nbformat_minor": 0
}