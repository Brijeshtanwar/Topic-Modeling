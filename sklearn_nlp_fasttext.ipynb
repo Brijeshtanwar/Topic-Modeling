{
  "cells": [
    {
      "cell_type": "markdown",
      "metadata": {
        "id": "view-in-github",
        "colab_type": "text"
      },
      "source": [
        "<a href=\"https://colab.research.google.com/github/Brijeshtanwar/Topic-Modeling/blob/main/sklearn_nlp_fasttext.ipynb\" target=\"_parent\"><img src=\"https://colab.research.google.com/assets/colab-badge.svg\" alt=\"Open In Colab\"/></a>"
      ]
    },
    {
      "cell_type": "code",
      "execution_count": 1,
      "metadata": {
        "id": "Kl5yT1diCpf3"
      },
      "outputs": [],
      "source": [
        "import numpy as np\n",
        "import pandas as pd\n",
        "import matplotlib.pyplot as plt\n",
        "import seaborn as sns\n",
        "pd.set_option('display.max_columns', None)\n",
        "from IPython.core.interactiveshell import InteractiveShell\n",
        "InteractiveShell.ast_node_interactivity = \"all\"\n",
        "\n",
        "# NLP libraries\n",
        "import nltk\n",
        "import re\n",
        "from nltk.stem import WordNetLemmatizer\n",
        "from nltk.corpus import stopwords"
      ]
    },
    {
      "cell_type": "code",
      "source": [
        "nltk.download(\"stopwords\")\n",
        "nltk.download('wordnet')"
      ],
      "metadata": {
        "id": "fb2rPz7BkDXw",
        "outputId": "09b75ad3-d732-45f7-c700-11aeb989d004",
        "colab": {
          "base_uri": "https://localhost:8080/"
        }
      },
      "execution_count": 2,
      "outputs": [
        {
          "output_type": "stream",
          "name": "stderr",
          "text": [
            "[nltk_data] Downloading package stopwords to /root/nltk_data...\n",
            "[nltk_data]   Unzipping corpora/stopwords.zip.\n"
          ]
        },
        {
          "output_type": "execute_result",
          "data": {
            "text/plain": [
              "True"
            ]
          },
          "metadata": {},
          "execution_count": 2
        },
        {
          "output_type": "stream",
          "name": "stderr",
          "text": [
            "[nltk_data] Downloading package wordnet to /root/nltk_data...\n"
          ]
        },
        {
          "output_type": "execute_result",
          "data": {
            "text/plain": [
              "True"
            ]
          },
          "metadata": {},
          "execution_count": 2
        }
      ]
    },
    {
      "cell_type": "code",
      "source": [
        "url = \"\"\"https://raw.githubusercontent.com/Brijeshtanwar/Topic-Modeling/main/voc_data.csv\"\"\"\n",
        "df = pd.read_csv(url,  encoding = 'unicode_escape')"
      ],
      "metadata": {
        "id": "y0eKOcmADPRR"
      },
      "execution_count": 3,
      "outputs": []
    },
    {
      "cell_type": "code",
      "source": [
        "df = df[['CUSTOMER COMMENT', 'Reason']]\n",
        "df.columns = ['comment', 'topic']"
      ],
      "metadata": {
        "id": "CfnLvrmwDTYs"
      },
      "execution_count": 4,
      "outputs": []
    },
    {
      "cell_type": "code",
      "source": [
        "# Drop na\n",
        "df.dropna(axis=0, inplace=True)"
      ],
      "metadata": {
        "id": "mE7XJr2XGNut"
      },
      "execution_count": 6,
      "outputs": []
    },
    {
      "cell_type": "code",
      "source": [
        "#lower case\n",
        "df['topic'] = df['topic'].str.lower()\n",
        "df['topic'] = df['topic'].str.strip()\n",
        "df.loc[df.topic=='not specified', 'topic'] = 'others'"
      ],
      "metadata": {
        "id": "-7oI5-ss3f94"
      },
      "execution_count": 8,
      "outputs": []
    },
    {
      "cell_type": "code",
      "source": [
        "topic_dic = {'application (web/app)': 'application',  'charges(bro./dp/lpc etc.)': 'charges', 'service':'service'\n",
        ", 'others':'others', 'process':'process', 'people':'people', 'product':'product', 'research':'research'}"
      ],
      "metadata": {
        "id": "hsvhUkey0EN3"
      },
      "execution_count": 10,
      "outputs": []
    },
    {
      "cell_type": "code",
      "source": [
        "df['topic'] = df['topic'].apply(lambda x: topic_dic[x] if x in topic_dic else x)"
      ],
      "metadata": {
        "id": "aIG2L6LM0hS9"
      },
      "execution_count": 11,
      "outputs": []
    },
    {
      "cell_type": "code",
      "source": [
        "# Preprocessing"
      ],
      "metadata": {
        "id": "s9NvV_7aGc7j"
      },
      "execution_count": 13,
      "outputs": []
    },
    {
      "cell_type": "code",
      "execution_count": 14,
      "metadata": {
        "id": "MhJ1E9y2Cpf5"
      },
      "outputs": [],
      "source": [
        "# Remove integer comments\n",
        "df = df[df['comment'].apply(lambda x: not isinstance(x, int))]\n",
        "df = df[df['comment'].apply(lambda x: not isinstance(x, float))]\n",
        "\n",
        "df.reset_index(drop=True, inplace=True)\n",
        "\n",
        "#lower case\n",
        "df['comment'] = df['comment'].str.lower()"
      ]
    },
    {
      "cell_type": "code",
      "source": [
        "def preprocess_text(text, flg_stemm=False, flg_lemm=True, lst_stopwords=None):\n",
        "    ## clean (convert to lowercase and remove punctuations and  characters and then strip)\n",
        "    text = re.sub(r\"[^A-Za-z]+\", ' ' , str(text).lower().strip())\n",
        "\n",
        "    ## Tokenize (convert from string to list)\n",
        "    lst_text = text.split()    ## remove Stopwords\n",
        "    # if lst_stopwords is not None:\n",
        "    #     lst_text = [word for word in lst_text if word not in lst_stopwords]\n",
        "\n",
        "    ## Stemming (remove -ing, -ly, ...)\n",
        "    if flg_stemm == True:\n",
        "        ps = nltk.stem.porter.PorterStemmer()\n",
        "        lst_text = [ps.stem(word) for word in lst_text]\n",
        "\n",
        "    ## Lemmatisation (convert the word into root word)\n",
        "    if flg_lemm == True:\n",
        "        lem = nltk.stem.wordnet.WordNetLemmatizer()\n",
        "        lst_text = [lem.lemmatize(word) for word in lst_text]\n",
        "\n",
        "    ## back to string from list\n",
        "    text = \" \".join(lst_text)\n",
        "    return text"
      ],
      "metadata": {
        "id": "uWknRVTUhGzl"
      },
      "execution_count": 15,
      "outputs": []
    },
    {
      "cell_type": "code",
      "source": [
        "lst_stopwords = nltk.corpus.stopwords.words(\"english\")\n",
        "lst_stopwords.remove('no')\n",
        "lst_stopwords.remove('not')"
      ],
      "metadata": {
        "id": "uhqW6SUMiAxl"
      },
      "execution_count": 16,
      "outputs": []
    },
    {
      "cell_type": "code",
      "source": [
        "df[\"x\"] = df[\"comment\"].apply(lambda x: preprocess_text(x, flg_stemm=False, flg_lemm=False, lst_stopwords=lst_stopwords))\n",
        "# df['x'] = df['comment']\n",
        "df['y'] = df['topic']"
      ],
      "metadata": {
        "id": "iUEFP_HchGwG",
        "outputId": "718d1b84-f470-4d36-f214-7e2dc870baa5",
        "colab": {
          "base_uri": "https://localhost:8080/",
          "height": 363
        }
      },
      "execution_count": 17,
      "outputs": [
        {
          "output_type": "execute_result",
          "data": {
            "text/plain": [
              "                                             comment        topic  \\\n",
              "0  querries where kotak is at disadvantageous pos...      service   \n",
              "1  1) same-day money deduction even if we have ma...  application   \n",
              "2                                         ndejjejdjx       others   \n",
              "3                              worst website trading  application   \n",
              "4  no technical support at real time, application...      service   \n",
              "5               need knowledge and experience person      service   \n",
              "6  please revisit my brokerage and deemat charges...      charges   \n",
              "7  iâm waiting for resolution or a meeting with...      service   \n",
              "8  i dint interacted so my rating may be a bias b...      service   \n",
              "9                              no issues with the rm      service   \n",
              "\n",
              "                                                   x            y  \n",
              "0  querries where kotak is at disadvantageous pos...      service  \n",
              "1  same day money deduction even if we have margi...  application  \n",
              "2                                         ndejjejdjx       others  \n",
              "3                              worst website trading  application  \n",
              "4  no technical support at real time application ...      service  \n",
              "5               need knowledge and experience person      service  \n",
              "6  please revisit my brokerage and deemat charges...      charges  \n",
              "7  i m waiting for resolution or a meeting with m...      service  \n",
              "8  i dint interacted so my rating may be a bias b...      service  \n",
              "9                              no issues with the rm      service  "
            ],
            "text/html": [
              "\n",
              "\n",
              "  <div id=\"df-a6035180-3caa-45e8-9b0f-c9dbb495a56a\">\n",
              "    <div class=\"colab-df-container\">\n",
              "      <div>\n",
              "<style scoped>\n",
              "    .dataframe tbody tr th:only-of-type {\n",
              "        vertical-align: middle;\n",
              "    }\n",
              "\n",
              "    .dataframe tbody tr th {\n",
              "        vertical-align: top;\n",
              "    }\n",
              "\n",
              "    .dataframe thead th {\n",
              "        text-align: right;\n",
              "    }\n",
              "</style>\n",
              "<table border=\"1\" class=\"dataframe\">\n",
              "  <thead>\n",
              "    <tr style=\"text-align: right;\">\n",
              "      <th></th>\n",
              "      <th>comment</th>\n",
              "      <th>topic</th>\n",
              "      <th>x</th>\n",
              "      <th>y</th>\n",
              "    </tr>\n",
              "  </thead>\n",
              "  <tbody>\n",
              "    <tr>\n",
              "      <th>0</th>\n",
              "      <td>querries where kotak is at disadvantageous pos...</td>\n",
              "      <td>service</td>\n",
              "      <td>querries where kotak is at disadvantageous pos...</td>\n",
              "      <td>service</td>\n",
              "    </tr>\n",
              "    <tr>\n",
              "      <th>1</th>\n",
              "      <td>1) same-day money deduction even if we have ma...</td>\n",
              "      <td>application</td>\n",
              "      <td>same day money deduction even if we have margi...</td>\n",
              "      <td>application</td>\n",
              "    </tr>\n",
              "    <tr>\n",
              "      <th>2</th>\n",
              "      <td>ndejjejdjx</td>\n",
              "      <td>others</td>\n",
              "      <td>ndejjejdjx</td>\n",
              "      <td>others</td>\n",
              "    </tr>\n",
              "    <tr>\n",
              "      <th>3</th>\n",
              "      <td>worst website trading</td>\n",
              "      <td>application</td>\n",
              "      <td>worst website trading</td>\n",
              "      <td>application</td>\n",
              "    </tr>\n",
              "    <tr>\n",
              "      <th>4</th>\n",
              "      <td>no technical support at real time, application...</td>\n",
              "      <td>service</td>\n",
              "      <td>no technical support at real time application ...</td>\n",
              "      <td>service</td>\n",
              "    </tr>\n",
              "    <tr>\n",
              "      <th>5</th>\n",
              "      <td>need knowledge and experience person</td>\n",
              "      <td>service</td>\n",
              "      <td>need knowledge and experience person</td>\n",
              "      <td>service</td>\n",
              "    </tr>\n",
              "    <tr>\n",
              "      <th>6</th>\n",
              "      <td>please revisit my brokerage and deemat charges...</td>\n",
              "      <td>charges</td>\n",
              "      <td>please revisit my brokerage and deemat charges...</td>\n",
              "      <td>charges</td>\n",
              "    </tr>\n",
              "    <tr>\n",
              "      <th>7</th>\n",
              "      <td>iâm waiting for resolution or a meeting with...</td>\n",
              "      <td>service</td>\n",
              "      <td>i m waiting for resolution or a meeting with m...</td>\n",
              "      <td>service</td>\n",
              "    </tr>\n",
              "    <tr>\n",
              "      <th>8</th>\n",
              "      <td>i dint interacted so my rating may be a bias b...</td>\n",
              "      <td>service</td>\n",
              "      <td>i dint interacted so my rating may be a bias b...</td>\n",
              "      <td>service</td>\n",
              "    </tr>\n",
              "    <tr>\n",
              "      <th>9</th>\n",
              "      <td>no issues with the rm</td>\n",
              "      <td>service</td>\n",
              "      <td>no issues with the rm</td>\n",
              "      <td>service</td>\n",
              "    </tr>\n",
              "  </tbody>\n",
              "</table>\n",
              "</div>\n",
              "      <button class=\"colab-df-convert\" onclick=\"convertToInteractive('df-a6035180-3caa-45e8-9b0f-c9dbb495a56a')\"\n",
              "              title=\"Convert this dataframe to an interactive table.\"\n",
              "              style=\"display:none;\">\n",
              "\n",
              "  <svg xmlns=\"http://www.w3.org/2000/svg\" height=\"24px\"viewBox=\"0 0 24 24\"\n",
              "       width=\"24px\">\n",
              "    <path d=\"M0 0h24v24H0V0z\" fill=\"none\"/>\n",
              "    <path d=\"M18.56 5.44l.94 2.06.94-2.06 2.06-.94-2.06-.94-.94-2.06-.94 2.06-2.06.94zm-11 1L8.5 8.5l.94-2.06 2.06-.94-2.06-.94L8.5 2.5l-.94 2.06-2.06.94zm10 10l.94 2.06.94-2.06 2.06-.94-2.06-.94-.94-2.06-.94 2.06-2.06.94z\"/><path d=\"M17.41 7.96l-1.37-1.37c-.4-.4-.92-.59-1.43-.59-.52 0-1.04.2-1.43.59L10.3 9.45l-7.72 7.72c-.78.78-.78 2.05 0 2.83L4 21.41c.39.39.9.59 1.41.59.51 0 1.02-.2 1.41-.59l7.78-7.78 2.81-2.81c.8-.78.8-2.07 0-2.86zM5.41 20L4 18.59l7.72-7.72 1.47 1.35L5.41 20z\"/>\n",
              "  </svg>\n",
              "      </button>\n",
              "\n",
              "\n",
              "\n",
              "    <div id=\"df-f3c55394-bf0e-4acf-b9d1-da098519b600\">\n",
              "      <button class=\"colab-df-quickchart\" onclick=\"quickchart('df-f3c55394-bf0e-4acf-b9d1-da098519b600')\"\n",
              "              title=\"Suggest charts.\"\n",
              "              style=\"display:none;\">\n",
              "\n",
              "<svg xmlns=\"http://www.w3.org/2000/svg\" height=\"24px\"viewBox=\"0 0 24 24\"\n",
              "     width=\"24px\">\n",
              "    <g>\n",
              "        <path d=\"M19 3H5c-1.1 0-2 .9-2 2v14c0 1.1.9 2 2 2h14c1.1 0 2-.9 2-2V5c0-1.1-.9-2-2-2zM9 17H7v-7h2v7zm4 0h-2V7h2v10zm4 0h-2v-4h2v4z\"/>\n",
              "    </g>\n",
              "</svg>\n",
              "      </button>\n",
              "    </div>\n",
              "\n",
              "<style>\n",
              "  .colab-df-quickchart {\n",
              "    background-color: #E8F0FE;\n",
              "    border: none;\n",
              "    border-radius: 50%;\n",
              "    cursor: pointer;\n",
              "    display: none;\n",
              "    fill: #1967D2;\n",
              "    height: 32px;\n",
              "    padding: 0 0 0 0;\n",
              "    width: 32px;\n",
              "  }\n",
              "\n",
              "  .colab-df-quickchart:hover {\n",
              "    background-color: #E2EBFA;\n",
              "    box-shadow: 0px 1px 2px rgba(60, 64, 67, 0.3), 0px 1px 3px 1px rgba(60, 64, 67, 0.15);\n",
              "    fill: #174EA6;\n",
              "  }\n",
              "\n",
              "  [theme=dark] .colab-df-quickchart {\n",
              "    background-color: #3B4455;\n",
              "    fill: #D2E3FC;\n",
              "  }\n",
              "\n",
              "  [theme=dark] .colab-df-quickchart:hover {\n",
              "    background-color: #434B5C;\n",
              "    box-shadow: 0px 1px 3px 1px rgba(0, 0, 0, 0.15);\n",
              "    filter: drop-shadow(0px 1px 2px rgba(0, 0, 0, 0.3));\n",
              "    fill: #FFFFFF;\n",
              "  }\n",
              "</style>\n",
              "\n",
              "    <script>\n",
              "      async function quickchart(key) {\n",
              "        const containerElement = document.querySelector('#' + key);\n",
              "        const charts = await google.colab.kernel.invokeFunction(\n",
              "            'suggestCharts', [key], {});\n",
              "      }\n",
              "    </script>\n",
              "\n",
              "      <script>\n",
              "\n",
              "function displayQuickchartButton(domScope) {\n",
              "  let quickchartButtonEl =\n",
              "    domScope.querySelector('#df-f3c55394-bf0e-4acf-b9d1-da098519b600 button.colab-df-quickchart');\n",
              "  quickchartButtonEl.style.display =\n",
              "    google.colab.kernel.accessAllowed ? 'block' : 'none';\n",
              "}\n",
              "\n",
              "        displayQuickchartButton(document);\n",
              "      </script>\n",
              "      <style>\n",
              "    .colab-df-container {\n",
              "      display:flex;\n",
              "      flex-wrap:wrap;\n",
              "      gap: 12px;\n",
              "    }\n",
              "\n",
              "    .colab-df-convert {\n",
              "      background-color: #E8F0FE;\n",
              "      border: none;\n",
              "      border-radius: 50%;\n",
              "      cursor: pointer;\n",
              "      display: none;\n",
              "      fill: #1967D2;\n",
              "      height: 32px;\n",
              "      padding: 0 0 0 0;\n",
              "      width: 32px;\n",
              "    }\n",
              "\n",
              "    .colab-df-convert:hover {\n",
              "      background-color: #E2EBFA;\n",
              "      box-shadow: 0px 1px 2px rgba(60, 64, 67, 0.3), 0px 1px 3px 1px rgba(60, 64, 67, 0.15);\n",
              "      fill: #174EA6;\n",
              "    }\n",
              "\n",
              "    [theme=dark] .colab-df-convert {\n",
              "      background-color: #3B4455;\n",
              "      fill: #D2E3FC;\n",
              "    }\n",
              "\n",
              "    [theme=dark] .colab-df-convert:hover {\n",
              "      background-color: #434B5C;\n",
              "      box-shadow: 0px 1px 3px 1px rgba(0, 0, 0, 0.15);\n",
              "      filter: drop-shadow(0px 1px 2px rgba(0, 0, 0, 0.3));\n",
              "      fill: #FFFFFF;\n",
              "    }\n",
              "  </style>\n",
              "\n",
              "      <script>\n",
              "        const buttonEl =\n",
              "          document.querySelector('#df-a6035180-3caa-45e8-9b0f-c9dbb495a56a button.colab-df-convert');\n",
              "        buttonEl.style.display =\n",
              "          google.colab.kernel.accessAllowed ? 'block' : 'none';\n",
              "\n",
              "        async function convertToInteractive(key) {\n",
              "          const element = document.querySelector('#df-a6035180-3caa-45e8-9b0f-c9dbb495a56a');\n",
              "          const dataTable =\n",
              "            await google.colab.kernel.invokeFunction('convertToInteractive',\n",
              "                                                     [key], {});\n",
              "          if (!dataTable) return;\n",
              "\n",
              "          const docLinkHtml = 'Like what you see? Visit the ' +\n",
              "            '<a target=\"_blank\" href=https://colab.research.google.com/notebooks/data_table.ipynb>data table notebook</a>'\n",
              "            + ' to learn more about interactive tables.';\n",
              "          element.innerHTML = '';\n",
              "          dataTable['output_type'] = 'display_data';\n",
              "          await google.colab.output.renderOutput(dataTable, element);\n",
              "          const docLink = document.createElement('div');\n",
              "          docLink.innerHTML = docLinkHtml;\n",
              "          element.appendChild(docLink);\n",
              "        }\n",
              "      </script>\n",
              "    </div>\n",
              "  </div>\n"
            ]
          },
          "metadata": {},
          "execution_count": 17
        }
      ]
    },
    {
      "cell_type": "code",
      "source": [
        "df = df[['x', 'y']]"
      ],
      "metadata": {
        "id": "wpOehiWSN5eu"
      },
      "execution_count": 18,
      "outputs": []
    },
    {
      "cell_type": "code",
      "source": [
        "# Prefixing each row of the category column with '__label__'\n",
        "df.iloc[:, 1] = df.iloc[:, 1].apply(lambda x: '__label__' + x)"
      ],
      "metadata": {
        "id": "4m4Ox5l4Mkd-"
      },
      "execution_count": 20,
      "outputs": []
    },
    {
      "cell_type": "code",
      "source": [
        "from sklearn.model_selection import train_test_split\n",
        "df_train, df_test = train_test_split(df, test_size=0.01, stratify=df['y'], random_state=324)"
      ],
      "metadata": {
        "id": "fd3ctMgVOfwq"
      },
      "execution_count": 31,
      "outputs": []
    },
    {
      "cell_type": "code",
      "source": [
        "import csv"
      ],
      "metadata": {
        "id": "MakDt70ePEbK"
      },
      "execution_count": 32,
      "outputs": []
    },
    {
      "cell_type": "code",
      "source": [
        "pip install fasttext\n"
      ],
      "metadata": {
        "colab": {
          "base_uri": "https://localhost:8080/"
        },
        "id": "uly0-x28PLKF",
        "outputId": "8df76c87-508a-45b5-d8fa-b106b35d87c0"
      },
      "execution_count": 33,
      "outputs": [
        {
          "output_type": "stream",
          "name": "stdout",
          "text": [
            "Requirement already satisfied: fasttext in /usr/local/lib/python3.10/dist-packages (0.9.2)\n",
            "Requirement already satisfied: pybind11>=2.2 in /usr/local/lib/python3.10/dist-packages (from fasttext) (2.11.1)\n",
            "Requirement already satisfied: setuptools>=0.7.0 in /usr/local/lib/python3.10/dist-packages (from fasttext) (67.7.2)\n",
            "Requirement already satisfied: numpy in /usr/local/lib/python3.10/dist-packages (from fasttext) (1.23.5)\n"
          ]
        }
      ]
    },
    {
      "cell_type": "code",
      "source": [
        "import fasttext\n",
        "# Saving the CSV file as a text file to train/test the classifier\n",
        "df_train[['y', 'x']].to_csv('train.txt',\n",
        "                                          index = False,\n",
        "                                          sep = ' ',\n",
        "                                          header = None,\n",
        "                                          quoting = csv.QUOTE_NONE,\n",
        "                                          quotechar = \"\",\n",
        "                                          escapechar = \" \")\n",
        "\n",
        "df_test[['y', 'x']].to_csv('test.txt',\n",
        "                                     index = False,\n",
        "                                     sep = ' ',\n",
        "                                     header = None,\n",
        "                                     quoting = csv.QUOTE_NONE,\n",
        "                                     quotechar = \"\",\n",
        "                                     escapechar = \" \")\n",
        "\n",
        "\n",
        "# Training the fastText classifier\n",
        "model = fasttext.train_supervised('train.txt',lr=0.5, epoch=25, wordNgrams=2, bucket=200000, dim=50)\n",
        "\n",
        "# Evaluating performance on the entire test file\n",
        "model.test('test.txt')\n",
        "\n",
        "# Predicting on a single input\n",
        "# model.predict(ds.iloc[2, 0])\n",
        "\n",
        "# Save the trained model\n",
        "# model.save_model('model.bin')\n",
        "# model = fasttext.load_model(\"model.bin\")"
      ],
      "metadata": {
        "colab": {
          "base_uri": "https://localhost:8080/"
        },
        "id": "-GMxtG2FOSWM",
        "outputId": "c4bb7dcc-f3d2-4745-bc63-459195cbb2c8"
      },
      "execution_count": 34,
      "outputs": [
        {
          "output_type": "execute_result",
          "data": {
            "text/plain": [
              "(1528, 0.8049738219895288, 0.8049738219895288)"
            ]
          },
          "metadata": {},
          "execution_count": 34
        }
      ]
    },
    {
      "cell_type": "code",
      "source": [
        "from google.colab import drive\n",
        "drive.mount('/content/drive')\n",
        "model_path = \"/content/drive/MyDrive/fasttext/fasttext_model_jun.bin\"\n",
        "\n",
        "model = fasttext.load_model(\"fasttext_model_jun.bin\")"
      ],
      "metadata": {
        "colab": {
          "base_uri": "https://localhost:8080/"
        },
        "id": "zYQvQThndgEK",
        "outputId": "685c9a50-796f-4711-97e4-bd7a7ed8bf0d"
      },
      "execution_count": 38,
      "outputs": [
        {
          "output_type": "stream",
          "name": "stdout",
          "text": [
            "Mounted at /content/drive\n"
          ]
        }
      ]
    },
    {
      "cell_type": "code",
      "source": [
        "url = \"\"\"https://raw.githubusercontent.com/Brijeshtanwar/Topic-Modeling/main/DS-July'23%20NPS%20Data.csv\"\"\"\n",
        "df_test = pd.read_csv(url,  encoding = 'unicode_escape')"
      ],
      "metadata": {
        "id": "jkgx0dZvf9kQ"
      },
      "execution_count": 43,
      "outputs": []
    },
    {
      "cell_type": "code",
      "source": [
        "df_test.rename(columns={'Primary Comment: Do you have any other suggestion or feedback for us?':'x'},inplace=True)"
      ],
      "metadata": {
        "id": "hpBnCTm6gODL"
      },
      "execution_count": 47,
      "outputs": []
    },
    {
      "cell_type": "code",
      "source": [
        "df_test[\"x\"] = df_test[\"x\"].apply(lambda x: preprocess_text(x, flg_stemm=False, flg_lemm=False, lst_stopwords=lst_stopwords))"
      ],
      "metadata": {
        "id": "t0BXfPD-jH2N"
      },
      "execution_count": 51,
      "outputs": []
    },
    {
      "cell_type": "code",
      "source": [
        "df_test_pred = df_test\n",
        "df_test_pred['y_pred'] = df_test_pred['x'].apply(model.predict)\n",
        "df_test_pred['y_pred']=df_test_pred['y_pred'].str[0:1]\n",
        "df_test_pred['y_pred'] = df_test_pred['y_pred'].astype(str)\n",
        "df_test_pred['y_pred'] = df_test_pred['y_pred'].str[12:-5]\n",
        "# df_test_pred['y'] = df_test_pred['y'].str[9:]"
      ],
      "metadata": {
        "id": "dB7S0FRaRACL"
      },
      "execution_count": 53,
      "outputs": []
    },
    {
      "cell_type": "code",
      "source": [
        "# Manual keyword mapping\n",
        "word_dict = {\n",
        "    'product': 'product',\n",
        "    'charge': 'charges',\n",
        "    'brokerage': 'charges',\n",
        "    'brokerages': 'charges',\n",
        "    'charges': 'charges',\n",
        "    'staff': 'people',\n",
        "    'employees': 'people',\n",
        "    'employee': 'people',\n",
        "    'dealer': 'people',\n",
        "    'delar': 'people',\n",
        "    ' rm ': 'people',\n",
        "    'relation': 'people',\n",
        "    'manager': 'people',\n",
        "    ' rmo ': 'people',\n",
        "    'managers': 'people'\n",
        "}\n",
        "\n",
        "for i in word_dict:\n",
        "  df_test_pred.loc[(df_test_pred['x'].str.contains(i), 'y_pred')] = word_dict[i]"
      ],
      "metadata": {
        "id": "z0ow7RORH1Zc"
      },
      "execution_count": 55,
      "outputs": []
    },
    {
      "cell_type": "code",
      "source": [
        "# keyword mapping for others:\n",
        "keyword_class_mapping = {\n",
        "    \"SLOW\": \"APPLICATION (WEB/APP)\",\n",
        "    \"GLITCH\": \"APPLICATION (WEB/APP)\",\n",
        "    \"UI\": \"APPLICATION (WEB/APP)\",\n",
        "    \"FEEDS ISSUE\": \"APPLICATION (WEB/APP)\",\n",
        "    \"PORTFOLIO ISSUE\": \"APPLICATION (WEB/APP)\",\n",
        "    \"ORDER EXECUTION\": \"APPLICATION (WEB/APP)\",\n",
        "    \"REPORTS ISSUE\": \"APPLICATION (WEB/APP)\",\n",
        "    \"FEATURES-REALTIME CHART MISSING\": \"APPLICATION (WEB/APP)\",\n",
        "    \"DELAY MARGIN UPDATION\": \"APPLICATION (WEB/APP)\",\n",
        "    \"ROI\": \"CHARGES(BRO./DP/LPC etc.)\",\n",
        "    \"BROK\": \"CHARGES(BRO./DP/LPC etc.)\",\n",
        "    \"DP\": \"CHARGES(BRO./DP/LPC etc.)\",\n",
        "    \"SMALLCASE\": \"CHARGES(BRO./DP/LPC etc.)\",\n",
        "    \"RESEARCH RECOMMENDATION\": \"SERVICE\",\n",
        "    \"DELAY IN CONNECTING CS\": \"SERVICE\",\n",
        "    \"PAYIN/PAYOUT\": \"SERVICE\",\n",
        "    \"ONLINE SERVICES\": \"SERVICE\",\n",
        "    \"DELAY IN CONNECTING DEALER\": \"SERVICE\",\n",
        "    \"SETTLEMENT PROCESS\": \"PROCESS\",\n",
        "    \"SEGMENT ACTIVATION\": \"PROCESS\",\n",
        "    \"PRODUCT ACTIVATION\": \"PROCESS\",\n",
        "    \"ECS MANDATE\": \"PROCESS\",\n",
        "    \"KYC UPDATION\": \"PROCESS\",\n",
        "    \"FINANCIAL UPDATION\": \"PROCESS\",\n",
        "    \"SLBM\": \"PRODUCT\",\n",
        "    \"IPO\": \"PRODUCT\",\n",
        "    \"TSLO\": \"PRODUCT\",\n",
        "    \"GTC\": \"PRODUCT\",\n",
        "    \"BASKET ORDER\": \"PRODUCT\",\n",
        "    \"LACK OF PRODUCT KNOWLEDGE\": \"PEOPLE\",\n",
        "    \"LACK OF PROCESS KNOWLEDGE\": \"PEOPLE\",\n",
        "    \"LACK KNOWLEDGE OF FNO PRODUCTS\": \"PEOPLE\"\n",
        "}\n",
        "\n",
        "\n",
        "for i in word_dict:\n",
        "  df_test_pred.loc[(df_test_pred['x'].str.contains(i), 'y_pred')] = word_dict[i]"
      ],
      "metadata": {
        "id": "homzNVZuKqJD",
        "colab": {
          "base_uri": "https://localhost:8080/",
          "height": 624
        },
        "outputId": "dbb30a83-c503-4240-926e-9213334793e6"
      },
      "execution_count": 57,
      "outputs": [
        {
          "output_type": "execute_result",
          "data": {
            "text/plain": [
              "        Responded on       Flag  \\\n",
              "0      7/1/2023 7:18  Detractor   \n",
              "1     7/1/2023 16:59  Detractor   \n",
              "2     7/1/2023 17:04    Passive   \n",
              "3     7/1/2023 17:07  Detractor   \n",
              "4     7/1/2023 17:08   Promoter   \n",
              "..               ...        ...   \n",
              "103  7/13/2023 19:10  Detractor   \n",
              "104  7/18/2023 16:41    Passive   \n",
              "105  7/18/2023 20:45   Promoter   \n",
              "106  7/27/2023 16:46  Detractor   \n",
              "107   7/1/2023 17:24  Detractor   \n",
              "\n",
              "     Primary Question: Primary Question-Based on your recent interaction  \\\n",
              "0                                                    1                     \n",
              "1                                                    2                     \n",
              "2                                                    7                     \n",
              "3                                                    0                     \n",
              "4                                                   10                     \n",
              "..                                                 ...                     \n",
              "103                                                  0                     \n",
              "104                                                  8                     \n",
              "105                                                  9                     \n",
              "106                                                  5                     \n",
              "107                                                  1                     \n",
              "\n",
              "                                                     x Customer id  \\\n",
              "0                                                  nan       RT9H0   \n",
              "1                                                   ok       7ZT16   \n",
              "2                                                  nan       YGAZ5   \n",
              "3                                 zero client friendly       ZTQR9   \n",
              "4                                                  nan       E3W39   \n",
              "..                                                 ...         ...   \n",
              "103   dont change charges without intimation or reason       M00FA   \n",
              "104                                                nan       Z4LCT   \n",
              "105  other suggestions is below the money after sel...       I029H   \n",
              "106                                                nan       M0P0N   \n",
              "107                                                nan       YNR4K   \n",
              "\n",
              "                   User name        Reporting name   y_pred  \n",
              "0          Manas Kumar Ghosh      Shilpa Bachhawat   others  \n",
              "1                 Sangeeta .   Prashant Maheshwari   others  \n",
              "2                Rahul Singh      Shilpa Bachhawat   others  \n",
              "3       Rahul Sandeep Sawant  Kalpesh Suresh Gawli   others  \n",
              "4              Rakesh Sharma   Prashant Maheshwari   others  \n",
              "..                       ...                   ...      ...  \n",
              "103  Shashikant Avsan Gautam         Prachi Mundra  charges  \n",
              "104            Prachi Mundra     Ved Prakash Singh   others  \n",
              "105            Himani Bhatia   Prashant Maheshwari  charges  \n",
              "106            Prachi Mundra     Ved Prakash Singh   others  \n",
              "107    Freddy Kerman Damania         Aditya Pandey   others  \n",
              "\n",
              "[108 rows x 8 columns]"
            ],
            "text/html": [
              "\n",
              "\n",
              "  <div id=\"df-2bd0333a-23ba-4a64-923e-4eda1b707555\">\n",
              "    <div class=\"colab-df-container\">\n",
              "      <div>\n",
              "<style scoped>\n",
              "    .dataframe tbody tr th:only-of-type {\n",
              "        vertical-align: middle;\n",
              "    }\n",
              "\n",
              "    .dataframe tbody tr th {\n",
              "        vertical-align: top;\n",
              "    }\n",
              "\n",
              "    .dataframe thead th {\n",
              "        text-align: right;\n",
              "    }\n",
              "</style>\n",
              "<table border=\"1\" class=\"dataframe\">\n",
              "  <thead>\n",
              "    <tr style=\"text-align: right;\">\n",
              "      <th></th>\n",
              "      <th>Responded on</th>\n",
              "      <th>Flag</th>\n",
              "      <th>Primary Question: Primary Question-Based on your recent interaction</th>\n",
              "      <th>x</th>\n",
              "      <th>Customer id</th>\n",
              "      <th>User name</th>\n",
              "      <th>Reporting name</th>\n",
              "      <th>y_pred</th>\n",
              "    </tr>\n",
              "  </thead>\n",
              "  <tbody>\n",
              "    <tr>\n",
              "      <th>0</th>\n",
              "      <td>7/1/2023 7:18</td>\n",
              "      <td>Detractor</td>\n",
              "      <td>1</td>\n",
              "      <td>nan</td>\n",
              "      <td>RT9H0</td>\n",
              "      <td>Manas Kumar Ghosh</td>\n",
              "      <td>Shilpa Bachhawat</td>\n",
              "      <td>others</td>\n",
              "    </tr>\n",
              "    <tr>\n",
              "      <th>1</th>\n",
              "      <td>7/1/2023 16:59</td>\n",
              "      <td>Detractor</td>\n",
              "      <td>2</td>\n",
              "      <td>ok</td>\n",
              "      <td>7ZT16</td>\n",
              "      <td>Sangeeta .</td>\n",
              "      <td>Prashant Maheshwari</td>\n",
              "      <td>others</td>\n",
              "    </tr>\n",
              "    <tr>\n",
              "      <th>2</th>\n",
              "      <td>7/1/2023 17:04</td>\n",
              "      <td>Passive</td>\n",
              "      <td>7</td>\n",
              "      <td>nan</td>\n",
              "      <td>YGAZ5</td>\n",
              "      <td>Rahul Singh</td>\n",
              "      <td>Shilpa Bachhawat</td>\n",
              "      <td>others</td>\n",
              "    </tr>\n",
              "    <tr>\n",
              "      <th>3</th>\n",
              "      <td>7/1/2023 17:07</td>\n",
              "      <td>Detractor</td>\n",
              "      <td>0</td>\n",
              "      <td>zero client friendly</td>\n",
              "      <td>ZTQR9</td>\n",
              "      <td>Rahul Sandeep Sawant</td>\n",
              "      <td>Kalpesh Suresh Gawli</td>\n",
              "      <td>others</td>\n",
              "    </tr>\n",
              "    <tr>\n",
              "      <th>4</th>\n",
              "      <td>7/1/2023 17:08</td>\n",
              "      <td>Promoter</td>\n",
              "      <td>10</td>\n",
              "      <td>nan</td>\n",
              "      <td>E3W39</td>\n",
              "      <td>Rakesh Sharma</td>\n",
              "      <td>Prashant Maheshwari</td>\n",
              "      <td>others</td>\n",
              "    </tr>\n",
              "    <tr>\n",
              "      <th>...</th>\n",
              "      <td>...</td>\n",
              "      <td>...</td>\n",
              "      <td>...</td>\n",
              "      <td>...</td>\n",
              "      <td>...</td>\n",
              "      <td>...</td>\n",
              "      <td>...</td>\n",
              "      <td>...</td>\n",
              "    </tr>\n",
              "    <tr>\n",
              "      <th>103</th>\n",
              "      <td>7/13/2023 19:10</td>\n",
              "      <td>Detractor</td>\n",
              "      <td>0</td>\n",
              "      <td>dont change charges without intimation or reason</td>\n",
              "      <td>M00FA</td>\n",
              "      <td>Shashikant Avsan Gautam</td>\n",
              "      <td>Prachi Mundra</td>\n",
              "      <td>charges</td>\n",
              "    </tr>\n",
              "    <tr>\n",
              "      <th>104</th>\n",
              "      <td>7/18/2023 16:41</td>\n",
              "      <td>Passive</td>\n",
              "      <td>8</td>\n",
              "      <td>nan</td>\n",
              "      <td>Z4LCT</td>\n",
              "      <td>Prachi Mundra</td>\n",
              "      <td>Ved Prakash Singh</td>\n",
              "      <td>others</td>\n",
              "    </tr>\n",
              "    <tr>\n",
              "      <th>105</th>\n",
              "      <td>7/18/2023 20:45</td>\n",
              "      <td>Promoter</td>\n",
              "      <td>9</td>\n",
              "      <td>other suggestions is below the money after sel...</td>\n",
              "      <td>I029H</td>\n",
              "      <td>Himani Bhatia</td>\n",
              "      <td>Prashant Maheshwari</td>\n",
              "      <td>charges</td>\n",
              "    </tr>\n",
              "    <tr>\n",
              "      <th>106</th>\n",
              "      <td>7/27/2023 16:46</td>\n",
              "      <td>Detractor</td>\n",
              "      <td>5</td>\n",
              "      <td>nan</td>\n",
              "      <td>M0P0N</td>\n",
              "      <td>Prachi Mundra</td>\n",
              "      <td>Ved Prakash Singh</td>\n",
              "      <td>others</td>\n",
              "    </tr>\n",
              "    <tr>\n",
              "      <th>107</th>\n",
              "      <td>7/1/2023 17:24</td>\n",
              "      <td>Detractor</td>\n",
              "      <td>1</td>\n",
              "      <td>nan</td>\n",
              "      <td>YNR4K</td>\n",
              "      <td>Freddy Kerman Damania</td>\n",
              "      <td>Aditya Pandey</td>\n",
              "      <td>others</td>\n",
              "    </tr>\n",
              "  </tbody>\n",
              "</table>\n",
              "<p>108 rows × 8 columns</p>\n",
              "</div>\n",
              "      <button class=\"colab-df-convert\" onclick=\"convertToInteractive('df-2bd0333a-23ba-4a64-923e-4eda1b707555')\"\n",
              "              title=\"Convert this dataframe to an interactive table.\"\n",
              "              style=\"display:none;\">\n",
              "\n",
              "  <svg xmlns=\"http://www.w3.org/2000/svg\" height=\"24px\"viewBox=\"0 0 24 24\"\n",
              "       width=\"24px\">\n",
              "    <path d=\"M0 0h24v24H0V0z\" fill=\"none\"/>\n",
              "    <path d=\"M18.56 5.44l.94 2.06.94-2.06 2.06-.94-2.06-.94-.94-2.06-.94 2.06-2.06.94zm-11 1L8.5 8.5l.94-2.06 2.06-.94-2.06-.94L8.5 2.5l-.94 2.06-2.06.94zm10 10l.94 2.06.94-2.06 2.06-.94-2.06-.94-.94-2.06-.94 2.06-2.06.94z\"/><path d=\"M17.41 7.96l-1.37-1.37c-.4-.4-.92-.59-1.43-.59-.52 0-1.04.2-1.43.59L10.3 9.45l-7.72 7.72c-.78.78-.78 2.05 0 2.83L4 21.41c.39.39.9.59 1.41.59.51 0 1.02-.2 1.41-.59l7.78-7.78 2.81-2.81c.8-.78.8-2.07 0-2.86zM5.41 20L4 18.59l7.72-7.72 1.47 1.35L5.41 20z\"/>\n",
              "  </svg>\n",
              "      </button>\n",
              "\n",
              "\n",
              "\n",
              "    <div id=\"df-9ec4b1bb-c4fe-47ec-9f1c-20ef7fca5f68\">\n",
              "      <button class=\"colab-df-quickchart\" onclick=\"quickchart('df-9ec4b1bb-c4fe-47ec-9f1c-20ef7fca5f68')\"\n",
              "              title=\"Suggest charts.\"\n",
              "              style=\"display:none;\">\n",
              "\n",
              "<svg xmlns=\"http://www.w3.org/2000/svg\" height=\"24px\"viewBox=\"0 0 24 24\"\n",
              "     width=\"24px\">\n",
              "    <g>\n",
              "        <path d=\"M19 3H5c-1.1 0-2 .9-2 2v14c0 1.1.9 2 2 2h14c1.1 0 2-.9 2-2V5c0-1.1-.9-2-2-2zM9 17H7v-7h2v7zm4 0h-2V7h2v10zm4 0h-2v-4h2v4z\"/>\n",
              "    </g>\n",
              "</svg>\n",
              "      </button>\n",
              "    </div>\n",
              "\n",
              "<style>\n",
              "  .colab-df-quickchart {\n",
              "    background-color: #E8F0FE;\n",
              "    border: none;\n",
              "    border-radius: 50%;\n",
              "    cursor: pointer;\n",
              "    display: none;\n",
              "    fill: #1967D2;\n",
              "    height: 32px;\n",
              "    padding: 0 0 0 0;\n",
              "    width: 32px;\n",
              "  }\n",
              "\n",
              "  .colab-df-quickchart:hover {\n",
              "    background-color: #E2EBFA;\n",
              "    box-shadow: 0px 1px 2px rgba(60, 64, 67, 0.3), 0px 1px 3px 1px rgba(60, 64, 67, 0.15);\n",
              "    fill: #174EA6;\n",
              "  }\n",
              "\n",
              "  [theme=dark] .colab-df-quickchart {\n",
              "    background-color: #3B4455;\n",
              "    fill: #D2E3FC;\n",
              "  }\n",
              "\n",
              "  [theme=dark] .colab-df-quickchart:hover {\n",
              "    background-color: #434B5C;\n",
              "    box-shadow: 0px 1px 3px 1px rgba(0, 0, 0, 0.15);\n",
              "    filter: drop-shadow(0px 1px 2px rgba(0, 0, 0, 0.3));\n",
              "    fill: #FFFFFF;\n",
              "  }\n",
              "</style>\n",
              "\n",
              "    <script>\n",
              "      async function quickchart(key) {\n",
              "        const containerElement = document.querySelector('#' + key);\n",
              "        const charts = await google.colab.kernel.invokeFunction(\n",
              "            'suggestCharts', [key], {});\n",
              "      }\n",
              "    </script>\n",
              "\n",
              "      <script>\n",
              "\n",
              "function displayQuickchartButton(domScope) {\n",
              "  let quickchartButtonEl =\n",
              "    domScope.querySelector('#df-9ec4b1bb-c4fe-47ec-9f1c-20ef7fca5f68 button.colab-df-quickchart');\n",
              "  quickchartButtonEl.style.display =\n",
              "    google.colab.kernel.accessAllowed ? 'block' : 'none';\n",
              "}\n",
              "\n",
              "        displayQuickchartButton(document);\n",
              "      </script>\n",
              "      <style>\n",
              "    .colab-df-container {\n",
              "      display:flex;\n",
              "      flex-wrap:wrap;\n",
              "      gap: 12px;\n",
              "    }\n",
              "\n",
              "    .colab-df-convert {\n",
              "      background-color: #E8F0FE;\n",
              "      border: none;\n",
              "      border-radius: 50%;\n",
              "      cursor: pointer;\n",
              "      display: none;\n",
              "      fill: #1967D2;\n",
              "      height: 32px;\n",
              "      padding: 0 0 0 0;\n",
              "      width: 32px;\n",
              "    }\n",
              "\n",
              "    .colab-df-convert:hover {\n",
              "      background-color: #E2EBFA;\n",
              "      box-shadow: 0px 1px 2px rgba(60, 64, 67, 0.3), 0px 1px 3px 1px rgba(60, 64, 67, 0.15);\n",
              "      fill: #174EA6;\n",
              "    }\n",
              "\n",
              "    [theme=dark] .colab-df-convert {\n",
              "      background-color: #3B4455;\n",
              "      fill: #D2E3FC;\n",
              "    }\n",
              "\n",
              "    [theme=dark] .colab-df-convert:hover {\n",
              "      background-color: #434B5C;\n",
              "      box-shadow: 0px 1px 3px 1px rgba(0, 0, 0, 0.15);\n",
              "      filter: drop-shadow(0px 1px 2px rgba(0, 0, 0, 0.3));\n",
              "      fill: #FFFFFF;\n",
              "    }\n",
              "  </style>\n",
              "\n",
              "      <script>\n",
              "        const buttonEl =\n",
              "          document.querySelector('#df-2bd0333a-23ba-4a64-923e-4eda1b707555 button.colab-df-convert');\n",
              "        buttonEl.style.display =\n",
              "          google.colab.kernel.accessAllowed ? 'block' : 'none';\n",
              "\n",
              "        async function convertToInteractive(key) {\n",
              "          const element = document.querySelector('#df-2bd0333a-23ba-4a64-923e-4eda1b707555');\n",
              "          const dataTable =\n",
              "            await google.colab.kernel.invokeFunction('convertToInteractive',\n",
              "                                                     [key], {});\n",
              "          if (!dataTable) return;\n",
              "\n",
              "          const docLinkHtml = 'Like what you see? Visit the ' +\n",
              "            '<a target=\"_blank\" href=https://colab.research.google.com/notebooks/data_table.ipynb>data table notebook</a>'\n",
              "            + ' to learn more about interactive tables.';\n",
              "          element.innerHTML = '';\n",
              "          dataTable['output_type'] = 'display_data';\n",
              "          await google.colab.output.renderOutput(dataTable, element);\n",
              "          const docLink = document.createElement('div');\n",
              "          docLink.innerHTML = docLinkHtml;\n",
              "          element.appendChild(docLink);\n",
              "        }\n",
              "      </script>\n",
              "    </div>\n",
              "  </div>\n"
            ]
          },
          "metadata": {},
          "execution_count": 57
        }
      ]
    },
    {
      "cell_type": "code",
      "source": [],
      "metadata": {
        "id": "exJ785Frklel"
      },
      "execution_count": null,
      "outputs": []
    }
  ],
  "metadata": {
    "kernelspec": {
      "display_name": "Python 3",
      "language": "python",
      "name": "python3"
    },
    "language_info": {
      "codemirror_mode": {
        "name": "ipython",
        "version": 3
      },
      "file_extension": ".py",
      "mimetype": "text/x-python",
      "name": "python",
      "nbconvert_exporter": "python",
      "pygments_lexer": "ipython3",
      "version": "3.9.11"
    },
    "orig_nbformat": 4,
    "colab": {
      "provenance": [],
      "include_colab_link": true
    },
    "gpuClass": "standard"
  },
  "nbformat": 4,
  "nbformat_minor": 0
}