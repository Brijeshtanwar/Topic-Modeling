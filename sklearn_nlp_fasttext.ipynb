{
  "cells": [
    {
      "cell_type": "markdown",
      "metadata": {
        "id": "view-in-github",
        "colab_type": "text"
      },
      "source": [
        "<a href=\"https://colab.research.google.com/github/Brijeshtanwar/Topic-Modeling/blob/main/sklearn_nlp_fasttext.ipynb\" target=\"_parent\"><img src=\"https://colab.research.google.com/assets/colab-badge.svg\" alt=\"Open In Colab\"/></a>"
      ]
    },
    {
      "cell_type": "code",
      "execution_count": 1,
      "metadata": {
        "id": "Kl5yT1diCpf3"
      },
      "outputs": [],
      "source": [
        "import numpy as np\n",
        "import pandas as pd\n",
        "import matplotlib.pyplot as plt\n",
        "import seaborn as sns\n",
        "pd.set_option('display.max_columns', None)\n",
        "from IPython.core.interactiveshell import InteractiveShell\n",
        "InteractiveShell.ast_node_interactivity = \"all\"\n",
        "\n",
        "# NLP libraries\n",
        "import nltk\n",
        "import re\n",
        "from nltk.stem import WordNetLemmatizer\n",
        "from nltk.corpus import stopwords"
      ]
    },
    {
      "cell_type": "code",
      "source": [
        "nltk.download(\"stopwords\")\n",
        "nltk.download('wordnet')"
      ],
      "metadata": {
        "id": "fb2rPz7BkDXw",
        "outputId": "ff323fa2-4c20-4e7d-fd00-f9f4227616f2",
        "colab": {
          "base_uri": "https://localhost:8080/"
        }
      },
      "execution_count": 2,
      "outputs": [
        {
          "output_type": "stream",
          "name": "stderr",
          "text": [
            "[nltk_data] Downloading package stopwords to /root/nltk_data...\n",
            "[nltk_data]   Unzipping corpora/stopwords.zip.\n"
          ]
        },
        {
          "output_type": "execute_result",
          "data": {
            "text/plain": [
              "True"
            ]
          },
          "metadata": {},
          "execution_count": 2
        },
        {
          "output_type": "stream",
          "name": "stderr",
          "text": [
            "[nltk_data] Downloading package wordnet to /root/nltk_data...\n"
          ]
        },
        {
          "output_type": "execute_result",
          "data": {
            "text/plain": [
              "True"
            ]
          },
          "metadata": {},
          "execution_count": 2
        }
      ]
    },
    {
      "cell_type": "code",
      "source": [
        "url = \"\"\"https://raw.githubusercontent.com/Brijeshtanwar/Topic-Modeling/main/voc_data.csv\"\"\"\n",
        "df = pd.read_csv(url,  encoding = 'unicode_escape')"
      ],
      "metadata": {
        "id": "y0eKOcmADPRR"
      },
      "execution_count": 3,
      "outputs": []
    },
    {
      "cell_type": "code",
      "source": [
        "df = df[['CUSTOMER COMMENT', 'Reason']]\n",
        "df.columns = ['comment', 'topic']"
      ],
      "metadata": {
        "id": "CfnLvrmwDTYs"
      },
      "execution_count": 4,
      "outputs": []
    },
    {
      "cell_type": "code",
      "source": [
        "df.isnull().sum()"
      ],
      "metadata": {
        "colab": {
          "base_uri": "https://localhost:8080/"
        },
        "id": "TAVmaIbaGJ7Q",
        "outputId": "a4bad38b-8b5e-4a1b-be00-a080bc8d5f3f"
      },
      "execution_count": 5,
      "outputs": [
        {
          "output_type": "execute_result",
          "data": {
            "text/plain": [
              "comment    0\n",
              "topic      1\n",
              "dtype: int64"
            ]
          },
          "metadata": {},
          "execution_count": 5
        }
      ]
    },
    {
      "cell_type": "code",
      "source": [
        "# Drop na\n",
        "df.dropna(axis=0, inplace=True)"
      ],
      "metadata": {
        "id": "mE7XJr2XGNut"
      },
      "execution_count": 6,
      "outputs": []
    },
    {
      "cell_type": "code",
      "execution_count": 7,
      "metadata": {
        "colab": {
          "base_uri": "https://localhost:8080/"
        },
        "id": "Y5REI-pmCpf4",
        "outputId": "09b61e66-03e2-4aa0-d7fa-b24af81ba4ed"
      },
      "outputs": [
        {
          "output_type": "execute_result",
          "data": {
            "text/plain": [
              "Service                      1570\n",
              "APPLICATION (WEB/APP)        1074\n",
              "SERVICE                       335\n",
              "CHARGES(BRO./DP/LPC ETC.)     332\n",
              "Others                        321\n",
              "NOT SPECIFIED                 254\n",
              "Not Specified                 216\n",
              "application                   190\n",
              "others                        188\n",
              "People                        113\n",
              "service                       105\n",
              "Process                        69\n",
              "charges                        47\n",
              "people                         37\n",
              "PEOPLE                         32\n",
              "product                        20\n",
              "Product                        13\n",
              "PROCESS                         6\n",
              "process                         4\n",
              "research                        3\n",
              "Name: topic, dtype: int64"
            ]
          },
          "metadata": {},
          "execution_count": 7
        }
      ],
      "source": [
        "df.topic.value_counts()"
      ]
    },
    {
      "cell_type": "code",
      "source": [
        "#lower case\n",
        "df['topic'] = df['topic'].str.lower()\n",
        "df['topic'] = df['topic'].str.strip()\n",
        "df.loc[df.topic=='not specified', 'topic'] = 'others'"
      ],
      "metadata": {
        "id": "-7oI5-ss3f94"
      },
      "execution_count": 8,
      "outputs": []
    },
    {
      "cell_type": "code",
      "source": [
        "df.topic.unique()"
      ],
      "metadata": {
        "colab": {
          "base_uri": "https://localhost:8080/"
        },
        "id": "W_rDJJa_0RyS",
        "outputId": "4bccb582-ef5a-4ba0-8e09-2a07561f6192"
      },
      "execution_count": 9,
      "outputs": [
        {
          "output_type": "execute_result",
          "data": {
            "text/plain": [
              "array(['service', 'application (web/app)', 'others',\n",
              "       'charges(bro./dp/lpc etc.)', 'process', 'people', 'product',\n",
              "       'application', 'charges', 'research'], dtype=object)"
            ]
          },
          "metadata": {},
          "execution_count": 9
        }
      ]
    },
    {
      "cell_type": "code",
      "source": [
        "topic_dic = {'application (web/app)': 'application',  'charges(bro./dp/lpc etc.)': 'charges', 'service':'service'\n",
        ", 'others':'others', 'process':'process', 'people':'people', 'product':'product', 'research':'research'}"
      ],
      "metadata": {
        "id": "hsvhUkey0EN3"
      },
      "execution_count": 10,
      "outputs": []
    },
    {
      "cell_type": "code",
      "source": [
        "df['topic'] = df['topic'].apply(lambda x: topic_dic[x] if x in topic_dic else x)"
      ],
      "metadata": {
        "id": "aIG2L6LM0hS9"
      },
      "execution_count": 11,
      "outputs": []
    },
    {
      "cell_type": "code",
      "source": [
        "plt.figure(figsize=[8,4])\n",
        "sns.countplot(y=df['topic'])"
      ],
      "metadata": {
        "colab": {
          "base_uri": "https://localhost:8080/",
          "height": 406
        },
        "id": "MubvvVlLGUwu",
        "outputId": "3d5c8788-43a4-4fb3-c3c7-7a110e8b943a"
      },
      "execution_count": 12,
      "outputs": [
        {
          "output_type": "execute_result",
          "data": {
            "text/plain": [
              "<Figure size 800x400 with 0 Axes>"
            ]
          },
          "metadata": {},
          "execution_count": 12
        },
        {
          "output_type": "execute_result",
          "data": {
            "text/plain": [
              "<Axes: xlabel='count', ylabel='topic'>"
            ]
          },
          "metadata": {},
          "execution_count": 12
        },
        {
          "output_type": "display_data",
          "data": {
            "text/plain": [
              "<Figure size 800x400 with 1 Axes>"
            ],
            "image/png": "[encoded data removed]"
          },
          "metadata": {}
        }
      ]
    },
    {
      "cell_type": "code",
      "source": [
        "# Preprocessing"
      ],
      "metadata": {
        "id": "s9NvV_7aGc7j"
      },
      "execution_count": 13,
      "outputs": []
    },
    {
      "cell_type": "code",
      "execution_count": 14,
      "metadata": {
        "id": "MhJ1E9y2Cpf5"
      },
      "outputs": [],
      "source": [
        "# Remove integer comments\n",
        "df = df[df['comment'].apply(lambda x: not isinstance(x, int))]\n",
        "df = df[df['comment'].apply(lambda x: not isinstance(x, float))]\n",
        "\n",
        "df.reset_index(drop=True, inplace=True)\n",
        "\n",
        "#lower case\n",
        "df['comment'] = df['comment'].str.lower()"
      ]
    },
    {
      "cell_type": "code",
      "source": [
        "def preprocess_text(text, flg_stemm=False, flg_lemm=True, lst_stopwords=None):\n",
        "    ## clean (convert to lowercase and remove punctuations and  characters and then strip)\n",
        "    text = re.sub(r\"[^A-Za-z]+\", ' ' , str(text).lower().strip())\n",
        "\n",
        "    ## Tokenize (convert from string to list)\n",
        "    lst_text = text.split()    ## remove Stopwords\n",
        "    # if lst_stopwords is not None:\n",
        "    #     lst_text = [word for word in lst_text if word not in lst_stopwords]\n",
        "\n",
        "    ## Stemming (remove -ing, -ly, ...)\n",
        "    if flg_stemm == True:\n",
        "        ps = nltk.stem.porter.PorterStemmer()\n",
        "        lst_text = [ps.stem(word) for word in lst_text]\n",
        "\n",
        "    ## Lemmatisation (convert the word into root word)\n",
        "    if flg_lemm == True:\n",
        "        lem = nltk.stem.wordnet.WordNetLemmatizer()\n",
        "        lst_text = [lem.lemmatize(word) for word in lst_text]\n",
        "\n",
        "    ## back to string from list\n",
        "    text = \" \".join(lst_text)\n",
        "    return text"
      ],
      "metadata": {
        "id": "uWknRVTUhGzl"
      },
      "execution_count": 15,
      "outputs": []
    },
    {
      "cell_type": "code",
      "source": [
        "lst_stopwords = nltk.corpus.stopwords.words(\"english\")\n",
        "lst_stopwords.remove('no')\n",
        "lst_stopwords.remove('not')"
      ],
      "metadata": {
        "id": "uhqW6SUMiAxl"
      },
      "execution_count": 16,
      "outputs": []
    },
    {
      "cell_type": "code",
      "source": [
        "df[\"x\"] = df[\"comment\"].apply(lambda x: preprocess_text(x, flg_stemm=False, flg_lemm=False, lst_stopwords=lst_stopwords))\n",
        "# df['x'] = df['comment']\n",
        "df['y'] = df['topic']\n",
        "df.head(10)"
      ],
      "metadata": {
        "id": "iUEFP_HchGwG",
        "outputId": "582924b8-4f35-4f32-d845-3839b37ec4ac",
        "colab": {
          "base_uri": "https://localhost:8080/",
          "height": 362
        }
      },
      "execution_count": 17,
      "outputs": [
        {
          "output_type": "execute_result",
          "data": {
            "text/plain": [
              "                                             comment        topic  \\\n",
              "0  querries where kotak is at disadvantageous pos...      service   \n",
              "1  1) same-day money deduction even if we have ma...  application   \n",
              "2                                         ndejjejdjx       others   \n",
              "3                              worst website trading  application   \n",
              "4  no technical support at real time, application...      service   \n",
              "5               need knowledge and experience person      service   \n",
              "6  please revisit my brokerage and deemat charges...      charges   \n",
              "7  iâm waiting for resolution or a meeting with...      service   \n",
              "8  i dint interacted so my rating may be a bias b...      service   \n",
              "9                              no issues with the rm      service   \n",
              "\n",
              "                                                   x            y  \n",
              "0  querries where kotak is at disadvantageous pos...      service  \n",
              "1  same day money deduction even if we have margi...  application  \n",
              "2                                         ndejjejdjx       others  \n",
              "3                              worst website trading  application  \n",
              "4  no technical support at real time application ...      service  \n",
              "5               need knowledge and experience person      service  \n",
              "6  please revisit my brokerage and deemat charges...      charges  \n",
              "7  i m waiting for resolution or a meeting with m...      service  \n",
              "8  i dint interacted so my rating may be a bias b...      service  \n",
              "9                              no issues with the rm      service  "
            ],
            "text/html": [
              "\n",
              "  <div id=\"df-73837f12-3d0f-48d8-87ff-a47b301346f1\">\n",
              "    <div class=\"colab-df-container\">\n",
              "      <div>\n",
              "<style scoped>\n",
              "    .dataframe tbody tr th:only-of-type {\n",
              "        vertical-align: middle;\n",
              "    }\n",
              "\n",
              "    .dataframe tbody tr th {\n",
              "        vertical-align: top;\n",
              "    }\n",
              "\n",
              "    .dataframe thead th {\n",
              "        text-align: right;\n",
              "    }\n",
              "</style>\n",
              "<table border=\"1\" class=\"dataframe\">\n",
              "  <thead>\n",
              "    <tr style=\"text-align: right;\">\n",
              "      <th></th>\n",
              "      <th>comment</th>\n",
              "      <th>topic</th>\n",
              "      <th>x</th>\n",
              "      <th>y</th>\n",
              "    </tr>\n",
              "  </thead>\n",
              "  <tbody>\n",
              "    <tr>\n",
              "      <th>0</th>\n",
              "      <td>querries where kotak is at disadvantageous pos...</td>\n",
              "      <td>service</td>\n",
              "      <td>querries where kotak is at disadvantageous pos...</td>\n",
              "      <td>service</td>\n",
              "    </tr>\n",
              "    <tr>\n",
              "      <th>1</th>\n",
              "      <td>1) same-day money deduction even if we have ma...</td>\n",
              "      <td>application</td>\n",
              "      <td>same day money deduction even if we have margi...</td>\n",
              "      <td>application</td>\n",
              "    </tr>\n",
              "    <tr>\n",
              "      <th>2</th>\n",
              "      <td>ndejjejdjx</td>\n",
              "      <td>others</td>\n",
              "      <td>ndejjejdjx</td>\n",
              "      <td>others</td>\n",
              "    </tr>\n",
              "    <tr>\n",
              "      <th>3</th>\n",
              "      <td>worst website trading</td>\n",
              "      <td>application</td>\n",
              "      <td>worst website trading</td>\n",
              "      <td>application</td>\n",
              "    </tr>\n",
              "    <tr>\n",
              "      <th>4</th>\n",
              "      <td>no technical support at real time, application...</td>\n",
              "      <td>service</td>\n",
              "      <td>no technical support at real time application ...</td>\n",
              "      <td>service</td>\n",
              "    </tr>\n",
              "    <tr>\n",
              "      <th>5</th>\n",
              "      <td>need knowledge and experience person</td>\n",
              "      <td>service</td>\n",
              "      <td>need knowledge and experience person</td>\n",
              "      <td>service</td>\n",
              "    </tr>\n",
              "    <tr>\n",
              "      <th>6</th>\n",
              "      <td>please revisit my brokerage and deemat charges...</td>\n",
              "      <td>charges</td>\n",
              "      <td>please revisit my brokerage and deemat charges...</td>\n",
              "      <td>charges</td>\n",
              "    </tr>\n",
              "    <tr>\n",
              "      <th>7</th>\n",
              "      <td>iâm waiting for resolution or a meeting with...</td>\n",
              "      <td>service</td>\n",
              "      <td>i m waiting for resolution or a meeting with m...</td>\n",
              "      <td>service</td>\n",
              "    </tr>\n",
              "    <tr>\n",
              "      <th>8</th>\n",
              "      <td>i dint interacted so my rating may be a bias b...</td>\n",
              "      <td>service</td>\n",
              "      <td>i dint interacted so my rating may be a bias b...</td>\n",
              "      <td>service</td>\n",
              "    </tr>\n",
              "    <tr>\n",
              "      <th>9</th>\n",
              "      <td>no issues with the rm</td>\n",
              "      <td>service</td>\n",
              "      <td>no issues with the rm</td>\n",
              "      <td>service</td>\n",
              "    </tr>\n",
              "  </tbody>\n",
              "</table>\n",
              "</div>\n",
              "      <button class=\"colab-df-convert\" onclick=\"convertToInteractive('df-73837f12-3d0f-48d8-87ff-a47b301346f1')\"\n",
              "              title=\"Convert this dataframe to an interactive table.\"\n",
              "              style=\"display:none;\">\n",
              "        \n",
              "  <svg xmlns=\"http://www.w3.org/2000/svg\" height=\"24px\"viewBox=\"0 0 24 24\"\n",
              "       width=\"24px\">\n",
              "    <path d=\"M0 0h24v24H0V0z\" fill=\"none\"/>\n",
              "    <path d=\"M18.56 5.44l.94 2.06.94-2.06 2.06-.94-2.06-.94-.94-2.06-.94 2.06-2.06.94zm-11 1L8.5 8.5l.94-2.06 2.06-.94-2.06-.94L8.5 2.5l-.94 2.06-2.06.94zm10 10l.94 2.06.94-2.06 2.06-.94-2.06-.94-.94-2.06-.94 2.06-2.06.94z\"/><path d=\"M17.41 7.96l-1.37-1.37c-.4-.4-.92-.59-1.43-.59-.52 0-1.04.2-1.43.59L10.3 9.45l-7.72 7.72c-.78.78-.78 2.05 0 2.83L4 21.41c.39.39.9.59 1.41.59.51 0 1.02-.2 1.41-.59l7.78-7.78 2.81-2.81c.8-.78.8-2.07 0-2.86zM5.41 20L4 18.59l7.72-7.72 1.47 1.35L5.41 20z\"/>\n",
              "  </svg>\n",
              "      </button>\n",
              "      \n",
              "  <style>\n",
              "    .colab-df-container {\n",
              "      display:flex;\n",
              "      flex-wrap:wrap;\n",
              "      gap: 12px;\n",
              "    }\n",
              "\n",
              "    .colab-df-convert {\n",
              "      background-color: #E8F0FE;\n",
              "      border: none;\n",
              "      border-radius: 50%;\n",
              "      cursor: pointer;\n",
              "      display: none;\n",
              "      fill: #1967D2;\n",
              "      height: 32px;\n",
              "      padding: 0 0 0 0;\n",
              "      width: 32px;\n",
              "    }\n",
              "\n",
              "    .colab-df-convert:hover {\n",
              "      background-color: #E2EBFA;\n",
              "      box-shadow: 0px 1px 2px rgba(60, 64, 67, 0.3), 0px 1px 3px 1px rgba(60, 64, 67, 0.15);\n",
              "      fill: #174EA6;\n",
              "    }\n",
              "\n",
              "    [theme=dark] .colab-df-convert {\n",
              "      background-color: #3B4455;\n",
              "      fill: #D2E3FC;\n",
              "    }\n",
              "\n",
              "    [theme=dark] .colab-df-convert:hover {\n",
              "      background-color: #434B5C;\n",
              "      box-shadow: 0px 1px 3px 1px rgba(0, 0, 0, 0.15);\n",
              "      filter: drop-shadow(0px 1px 2px rgba(0, 0, 0, 0.3));\n",
              "      fill: #FFFFFF;\n",
              "    }\n",
              "  </style>\n",
              "\n",
              "      <script>\n",
              "        const buttonEl =\n",
              "          document.querySelector('#df-73837f12-3d0f-48d8-87ff-a47b301346f1 button.colab-df-convert');\n",
              "        buttonEl.style.display =\n",
              "          google.colab.kernel.accessAllowed ? 'block' : 'none';\n",
              "\n",
              "        async function convertToInteractive(key) {\n",
              "          const element = document.querySelector('#df-73837f12-3d0f-48d8-87ff-a47b301346f1');\n",
              "          const dataTable =\n",
              "            await google.colab.kernel.invokeFunction('convertToInteractive',\n",
              "                                                     [key], {});\n",
              "          if (!dataTable) return;\n",
              "\n",
              "          const docLinkHtml = 'Like what you see? Visit the ' +\n",
              "            '<a target=\"_blank\" href=https://colab.research.google.com/notebooks/data_table.ipynb>data table notebook</a>'\n",
              "            + ' to learn more about interactive tables.';\n",
              "          element.innerHTML = '';\n",
              "          dataTable['output_type'] = 'display_data';\n",
              "          await google.colab.output.renderOutput(dataTable, element);\n",
              "          const docLink = document.createElement('div');\n",
              "          docLink.innerHTML = docLinkHtml;\n",
              "          element.appendChild(docLink);\n",
              "        }\n",
              "      </script>\n",
              "    </div>\n",
              "  </div>\n",
              "  "
            ]
          },
          "metadata": {},
          "execution_count": 17
        }
      ]
    },
    {
      "cell_type": "code",
      "source": [
        "df = df[['x', 'y']]"
      ],
      "metadata": {
        "id": "wpOehiWSN5eu"
      },
      "execution_count": 18,
      "outputs": []
    },
    {
      "cell_type": "code",
      "source": [
        "df.isnull().sum()"
      ],
      "metadata": {
        "id": "cNoDeDfrBJ7s",
        "outputId": "f897574e-4e69-4e5d-9233-10b00e352459",
        "colab": {
          "base_uri": "https://localhost:8080/"
        }
      },
      "execution_count": 19,
      "outputs": [
        {
          "output_type": "execute_result",
          "data": {
            "text/plain": [
              "x    0\n",
              "y    0\n",
              "dtype: int64"
            ]
          },
          "metadata": {},
          "execution_count": 19
        }
      ]
    },
    {
      "cell_type": "code",
      "source": [
        "# Prefixing each row of the category column with '__label__'\n",
        "df.iloc[:, 1] = df.iloc[:, 1].apply(lambda x: '__label__' + x)"
      ],
      "metadata": {
        "id": "4m4Ox5l4Mkd-"
      },
      "execution_count": 20,
      "outputs": []
    },
    {
      "cell_type": "code",
      "source": [
        "from sklearn.model_selection import train_test_split\n",
        "df_train, df_test = train_test_split(df, test_size=0.30, stratify=df['y'], random_state=324)"
      ],
      "metadata": {
        "id": "fd3ctMgVOfwq"
      },
      "execution_count": 21,
      "outputs": []
    },
    {
      "cell_type": "code",
      "source": [
        "import csv"
      ],
      "metadata": {
        "id": "MakDt70ePEbK"
      },
      "execution_count": 22,
      "outputs": []
    },
    {
      "cell_type": "code",
      "source": [
        "pip install fasttext\n"
      ],
      "metadata": {
        "colab": {
          "base_uri": "https://localhost:8080/"
        },
        "id": "uly0-x28PLKF",
        "outputId": "f7857bfb-983b-4eed-d65c-f19f58b9b781"
      },
      "execution_count": 23,
      "outputs": [
        {
          "output_type": "stream",
          "name": "stdout",
          "text": [
            "Collecting fasttext\n",
            "  Downloading fasttext-0.9.2.tar.gz (68 kB)\n",
            "\u001b[?25l     \u001b[90m━━━━━━━━━━━━━━━━━━━━━━━━━━━━━━━━━━━━━━━━\u001b[0m \u001b[32m0.0/68.8 kB\u001b[0m \u001b[31m?\u001b[0m eta \u001b[36m-:--:--\u001b[0m\r\u001b[2K     \u001b[90m━━━━━━━━━━━━━━━━━━━━━━━━━━━━━━━━━━━━━━━━\u001b[0m \u001b[32m68.8/68.8 kB\u001b[0m \u001b[31m2.6 MB/s\u001b[0m eta \u001b[36m0:00:00\u001b[0m\n",
            "\u001b[?25h  Preparing metadata (setup.py) ... \u001b[?25l\u001b[?25hdone\n",
            "Collecting pybind11>=2.2 (from fasttext)\n",
            "  Using cached pybind11-2.10.4-py3-none-any.whl (222 kB)\n",
            "Requirement already satisfied: setuptools>=0.7.0 in /usr/local/lib/python3.10/dist-packages (from fasttext) (67.7.2)\n",
            "Requirement already satisfied: numpy in /usr/local/lib/python3.10/dist-packages (from fasttext) (1.22.4)\n",
            "Building wheels for collected packages: fasttext\n",
            "  Building wheel for fasttext (setup.py) ... \u001b[?25l\u001b[?25hdone\n",
            "  Created wheel for fasttext: filename=fasttext-0.9.2-cp310-cp310-linux_x86_64.whl size=4393301 sha256=c86f24b37709f6a333b9b8f40bccd8898281013c7e931eae8ee6c2568c77997c\n",
            "  Stored in directory: /root/.cache/pip/wheels/a5/13/75/f811c84a8ab36eedbaef977a6a58a98990e8e0f1967f98f394\n",
            "Successfully built fasttext\n",
            "Installing collected packages: pybind11, fasttext\n",
            "Successfully installed fasttext-0.9.2 pybind11-2.10.4\n"
          ]
        }
      ]
    },
    {
      "cell_type": "code",
      "source": [
        "import fasttext\n",
        "# Saving the CSV file as a text file to train/test the classifier\n",
        "df_train[['y', 'x']].to_csv('train.txt',\n",
        "                                          index = False,\n",
        "                                          sep = ' ',\n",
        "                                          header = None,\n",
        "                                          quoting = csv.QUOTE_NONE,\n",
        "                                          quotechar = \"\",\n",
        "                                          escapechar = \" \")\n",
        "\n",
        "df_test[['y', 'x']].to_csv('test.txt',\n",
        "                                     index = False,\n",
        "                                     sep = ' ',\n",
        "                                     header = None,\n",
        "                                     quoting = csv.QUOTE_NONE,\n",
        "                                     quotechar = \"\",\n",
        "                                     escapechar = \" \")\n",
        "\n",
        "\n",
        "# Training the fastText classifier\n",
        "model = fasttext.train_supervised('train.txt',lr=0.5, epoch=25, wordNgrams=2, bucket=200000, dim=50)\n",
        "\n",
        "# Evaluating performance on the entire test file\n",
        "model.test('test.txt')\n",
        "\n",
        "# Predicting on a single input\n",
        "# model.predict(ds.iloc[2, 0])\n",
        "\n",
        "# Save the trained model\n",
        "#model.save_model('model.bin')"
      ],
      "metadata": {
        "colab": {
          "base_uri": "https://localhost:8080/"
        },
        "id": "-GMxtG2FOSWM",
        "outputId": "060bb569-52f6-4965-e80c-804d7674caf5"
      },
      "execution_count": 24,
      "outputs": [
        {
          "output_type": "execute_result",
          "data": {
            "text/plain": [
              "(1479, 0.8079783637592968, 0.8079783637592968)"
            ]
          },
          "metadata": {},
          "execution_count": 24
        }
      ]
    },
    {
      "cell_type": "code",
      "source": [
        "model.test('train.txt')\n",
        "model.test('test.txt')"
      ],
      "metadata": {
        "colab": {
          "base_uri": "https://localhost:8080/"
        },
        "id": "3PU_AwfW3YlK",
        "outputId": "1a4d59f4-f3e4-49ae-fda4-b818143f2c96"
      },
      "execution_count": 25,
      "outputs": [
        {
          "output_type": "execute_result",
          "data": {
            "text/plain": [
              "(3450, 0.9924637681159421, 0.9924637681159421)"
            ]
          },
          "metadata": {},
          "execution_count": 25
        },
        {
          "output_type": "execute_result",
          "data": {
            "text/plain": [
              "(1479, 0.8079783637592968, 0.8079783637592968)"
            ]
          },
          "metadata": {},
          "execution_count": 25
        }
      ]
    },
    {
      "cell_type": "code",
      "source": [
        "df_test_pred = df_test\n",
        "df_test_pred['y_pred'] = df_test_pred['x'].apply(model.predict)\n",
        "df_test_pred['y_pred']=df_test_pred['y_pred'].str[0:1]\n",
        "df_test_pred['y_pred'] = df_test_pred['y_pred'].astype(str)\n",
        "df_test_pred['y_pred'] = df_test_pred['y_pred'].str[12:-5]\n",
        "df_test_pred['y'] = df_test_pred['y'].str[9:]"
      ],
      "metadata": {
        "id": "dB7S0FRaRACL"
      },
      "execution_count": 26,
      "outputs": []
    },
    {
      "cell_type": "code",
      "source": [
        "df_pred = df\n",
        "df_pred['y_pred'] = df_pred['x'].apply(model.predict)\n",
        "df_pred['y_pred'] = df_pred['y_pred'].str[0:1]\n",
        "df_pred['y_pred'] = df_pred['y_pred'].astype(str)\n",
        "df_pred['y_pred'] = df_pred['y_pred'].str[12:-5]\n",
        "df_pred['y'] = df_pred['y'].str[9:]"
      ],
      "metadata": {
        "id": "P_cSLCMvXgbM"
      },
      "execution_count": 27,
      "outputs": []
    },
    {
      "cell_type": "code",
      "source": [
        "df"
      ],
      "metadata": {
        "colab": {
          "base_uri": "https://localhost:8080/",
          "height": 423
        },
        "id": "9xlMVKm93exr",
        "outputId": "f3dac9b0-fca1-434d-d94d-d29cd82df1b2"
      },
      "execution_count": 28,
      "outputs": [
        {
          "output_type": "execute_result",
          "data": {
            "text/plain": [
              "                                                      x            y  \\\n",
              "0     querries where kotak is at disadvantageous pos...      service   \n",
              "1     same day money deduction even if we have margi...  application   \n",
              "2                                            ndejjejdjx       others   \n",
              "3                                 worst website trading  application   \n",
              "4     no technical support at real time application ...      service   \n",
              "...                                                 ...          ...   \n",
              "4924  your pr offiecer in not good and my call not a...       people   \n",
              "4925  your services are very good and i am satisfied...      service   \n",
              "4926  your staff does not give service no one is the...      service   \n",
              "4927  your trading platform is excellent you provide...      product   \n",
              "4928  yr charges at sky at the same time others r ch...      charges   \n",
              "\n",
              "           y_pred  \n",
              "0         service  \n",
              "1     application  \n",
              "2          others  \n",
              "3     application  \n",
              "4         service  \n",
              "...           ...  \n",
              "4924       people  \n",
              "4925      service  \n",
              "4926      service  \n",
              "4927      product  \n",
              "4928      charges  \n",
              "\n",
              "[4929 rows x 3 columns]"
            ],
            "text/html": [
              "\n",
              "  <div id=\"df-6092778f-75e6-45bf-ad43-6bb4ed4995dd\">\n",
              "    <div class=\"colab-df-container\">\n",
              "      <div>\n",
              "<style scoped>\n",
              "    .dataframe tbody tr th:only-of-type {\n",
              "        vertical-align: middle;\n",
              "    }\n",
              "\n",
              "    .dataframe tbody tr th {\n",
              "        vertical-align: top;\n",
              "    }\n",
              "\n",
              "    .dataframe thead th {\n",
              "        text-align: right;\n",
              "    }\n",
              "</style>\n",
              "<table border=\"1\" class=\"dataframe\">\n",
              "  <thead>\n",
              "    <tr style=\"text-align: right;\">\n",
              "      <th></th>\n",
              "      <th>x</th>\n",
              "      <th>y</th>\n",
              "      <th>y_pred</th>\n",
              "    </tr>\n",
              "  </thead>\n",
              "  <tbody>\n",
              "    <tr>\n",
              "      <th>0</th>\n",
              "      <td>querries where kotak is at disadvantageous pos...</td>\n",
              "      <td>service</td>\n",
              "      <td>service</td>\n",
              "    </tr>\n",
              "    <tr>\n",
              "      <th>1</th>\n",
              "      <td>same day money deduction even if we have margi...</td>\n",
              "      <td>application</td>\n",
              "      <td>application</td>\n",
              "    </tr>\n",
              "    <tr>\n",
              "      <th>2</th>\n",
              "      <td>ndejjejdjx</td>\n",
              "      <td>others</td>\n",
              "      <td>others</td>\n",
              "    </tr>\n",
              "    <tr>\n",
              "      <th>3</th>\n",
              "      <td>worst website trading</td>\n",
              "      <td>application</td>\n",
              "      <td>application</td>\n",
              "    </tr>\n",
              "    <tr>\n",
              "      <th>4</th>\n",
              "      <td>no technical support at real time application ...</td>\n",
              "      <td>service</td>\n",
              "      <td>service</td>\n",
              "    </tr>\n",
              "    <tr>\n",
              "      <th>...</th>\n",
              "      <td>...</td>\n",
              "      <td>...</td>\n",
              "      <td>...</td>\n",
              "    </tr>\n",
              "    <tr>\n",
              "      <th>4924</th>\n",
              "      <td>your pr offiecer in not good and my call not a...</td>\n",
              "      <td>people</td>\n",
              "      <td>people</td>\n",
              "    </tr>\n",
              "    <tr>\n",
              "      <th>4925</th>\n",
              "      <td>your services are very good and i am satisfied...</td>\n",
              "      <td>service</td>\n",
              "      <td>service</td>\n",
              "    </tr>\n",
              "    <tr>\n",
              "      <th>4926</th>\n",
              "      <td>your staff does not give service no one is the...</td>\n",
              "      <td>service</td>\n",
              "      <td>service</td>\n",
              "    </tr>\n",
              "    <tr>\n",
              "      <th>4927</th>\n",
              "      <td>your trading platform is excellent you provide...</td>\n",
              "      <td>product</td>\n",
              "      <td>product</td>\n",
              "    </tr>\n",
              "    <tr>\n",
              "      <th>4928</th>\n",
              "      <td>yr charges at sky at the same time others r ch...</td>\n",
              "      <td>charges</td>\n",
              "      <td>charges</td>\n",
              "    </tr>\n",
              "  </tbody>\n",
              "</table>\n",
              "<p>4929 rows × 3 columns</p>\n",
              "</div>\n",
              "      <button class=\"colab-df-convert\" onclick=\"convertToInteractive('df-6092778f-75e6-45bf-ad43-6bb4ed4995dd')\"\n",
              "              title=\"Convert this dataframe to an interactive table.\"\n",
              "              style=\"display:none;\">\n",
              "        \n",
              "  <svg xmlns=\"http://www.w3.org/2000/svg\" height=\"24px\"viewBox=\"0 0 24 24\"\n",
              "       width=\"24px\">\n",
              "    <path d=\"M0 0h24v24H0V0z\" fill=\"none\"/>\n",
              "    <path d=\"M18.56 5.44l.94 2.06.94-2.06 2.06-.94-2.06-.94-.94-2.06-.94 2.06-2.06.94zm-11 1L8.5 8.5l.94-2.06 2.06-.94-2.06-.94L8.5 2.5l-.94 2.06-2.06.94zm10 10l.94 2.06.94-2.06 2.06-.94-2.06-.94-.94-2.06-.94 2.06-2.06.94z\"/><path d=\"M17.41 7.96l-1.37-1.37c-.4-.4-.92-.59-1.43-.59-.52 0-1.04.2-1.43.59L10.3 9.45l-7.72 7.72c-.78.78-.78 2.05 0 2.83L4 21.41c.39.39.9.59 1.41.59.51 0 1.02-.2 1.41-.59l7.78-7.78 2.81-2.81c.8-.78.8-2.07 0-2.86zM5.41 20L4 18.59l7.72-7.72 1.47 1.35L5.41 20z\"/>\n",
              "  </svg>\n",
              "      </button>\n",
              "      \n",
              "  <style>\n",
              "    .colab-df-container {\n",
              "      display:flex;\n",
              "      flex-wrap:wrap;\n",
              "      gap: 12px;\n",
              "    }\n",
              "\n",
              "    .colab-df-convert {\n",
              "      background-color: #E8F0FE;\n",
              "      border: none;\n",
              "      border-radius: 50%;\n",
              "      cursor: pointer;\n",
              "      display: none;\n",
              "      fill: #1967D2;\n",
              "      height: 32px;\n",
              "      padding: 0 0 0 0;\n",
              "      width: 32px;\n",
              "    }\n",
              "\n",
              "    .colab-df-convert:hover {\n",
              "      background-color: #E2EBFA;\n",
              "      box-shadow: 0px 1px 2px rgba(60, 64, 67, 0.3), 0px 1px 3px 1px rgba(60, 64, 67, 0.15);\n",
              "      fill: #174EA6;\n",
              "    }\n",
              "\n",
              "    [theme=dark] .colab-df-convert {\n",
              "      background-color: #3B4455;\n",
              "      fill: #D2E3FC;\n",
              "    }\n",
              "\n",
              "    [theme=dark] .colab-df-convert:hover {\n",
              "      background-color: #434B5C;\n",
              "      box-shadow: 0px 1px 3px 1px rgba(0, 0, 0, 0.15);\n",
              "      filter: drop-shadow(0px 1px 2px rgba(0, 0, 0, 0.3));\n",
              "      fill: #FFFFFF;\n",
              "    }\n",
              "  </style>\n",
              "\n",
              "      <script>\n",
              "        const buttonEl =\n",
              "          document.querySelector('#df-6092778f-75e6-45bf-ad43-6bb4ed4995dd button.colab-df-convert');\n",
              "        buttonEl.style.display =\n",
              "          google.colab.kernel.accessAllowed ? 'block' : 'none';\n",
              "\n",
              "        async function convertToInteractive(key) {\n",
              "          const element = document.querySelector('#df-6092778f-75e6-45bf-ad43-6bb4ed4995dd');\n",
              "          const dataTable =\n",
              "            await google.colab.kernel.invokeFunction('convertToInteractive',\n",
              "                                                     [key], {});\n",
              "          if (!dataTable) return;\n",
              "\n",
              "          const docLinkHtml = 'Like what you see? Visit the ' +\n",
              "            '<a target=\"_blank\" href=https://colab.research.google.com/notebooks/data_table.ipynb>data table notebook</a>'\n",
              "            + ' to learn more about interactive tables.';\n",
              "          element.innerHTML = '';\n",
              "          dataTable['output_type'] = 'display_data';\n",
              "          await google.colab.output.renderOutput(dataTable, element);\n",
              "          const docLink = document.createElement('div');\n",
              "          docLink.innerHTML = docLinkHtml;\n",
              "          element.appendChild(docLink);\n",
              "        }\n",
              "      </script>\n",
              "    </div>\n",
              "  </div>\n",
              "  "
            ]
          },
          "metadata": {},
          "execution_count": 28
        }
      ]
    },
    {
      "cell_type": "code",
      "source": [
        "# Dict for classes\n",
        "df_pred['category_id'] = df_pred['y'].factorize()[0]\n",
        "category_id_df = df_pred[['y', 'category_id']].drop_duplicates().sort_values('category_id')\n",
        "category_to_id = dict(category_id_df.values)\n",
        "id_to_category = dict(category_id_df[['category_id', 'y']].values)"
      ],
      "metadata": {
        "id": "79OdM9QeYF5l"
      },
      "execution_count": 29,
      "outputs": []
    },
    {
      "cell_type": "code",
      "source": [
        "df_test_pred['category_id'] = df_test_pred['y'].map(category_to_id)\n",
        "df_test_pred['category_id_pred'] = df_test_pred['y_pred'].map(category_to_id)\n",
        "df_pred['category_id_pred'] = df_pred['y_pred'].map(category_to_id)"
      ],
      "metadata": {
        "id": "Hmwr3ApAYVKr"
      },
      "execution_count": 30,
      "outputs": []
    },
    {
      "cell_type": "code",
      "source": [
        "df_test_pred[df_test_pred['category_id_pred'].isnull()]"
      ],
      "metadata": {
        "colab": {
          "base_uri": "https://localhost:8080/",
          "height": 49
        },
        "id": "DpvOzh01Z5Js",
        "outputId": "d8d6a7dc-e940-442a-dea3-2c817535fc70"
      },
      "execution_count": 31,
      "outputs": [
        {
          "output_type": "execute_result",
          "data": {
            "text/plain": [
              "Empty DataFrame\n",
              "Columns: [x, y, y_pred, category_id, category_id_pred]\n",
              "Index: []"
            ],
            "text/html": [
              "\n",
              "  <div id=\"df-021fe5e6-8ccc-44ef-abbe-de4cd6ad78d4\">\n",
              "    <div class=\"colab-df-container\">\n",
              "      <div>\n",
              "<style scoped>\n",
              "    .dataframe tbody tr th:only-of-type {\n",
              "        vertical-align: middle;\n",
              "    }\n",
              "\n",
              "    .dataframe tbody tr th {\n",
              "        vertical-align: top;\n",
              "    }\n",
              "\n",
              "    .dataframe thead th {\n",
              "        text-align: right;\n",
              "    }\n",
              "</style>\n",
              "<table border=\"1\" class=\"dataframe\">\n",
              "  <thead>\n",
              "    <tr style=\"text-align: right;\">\n",
              "      <th></th>\n",
              "      <th>x</th>\n",
              "      <th>y</th>\n",
              "      <th>y_pred</th>\n",
              "      <th>category_id</th>\n",
              "      <th>category_id_pred</th>\n",
              "    </tr>\n",
              "  </thead>\n",
              "  <tbody>\n",
              "  </tbody>\n",
              "</table>\n",
              "</div>\n",
              "      <button class=\"colab-df-convert\" onclick=\"convertToInteractive('df-021fe5e6-8ccc-44ef-abbe-de4cd6ad78d4')\"\n",
              "              title=\"Convert this dataframe to an interactive table.\"\n",
              "              style=\"display:none;\">\n",
              "        \n",
              "  <svg xmlns=\"http://www.w3.org/2000/svg\" height=\"24px\"viewBox=\"0 0 24 24\"\n",
              "       width=\"24px\">\n",
              "    <path d=\"M0 0h24v24H0V0z\" fill=\"none\"/>\n",
              "    <path d=\"M18.56 5.44l.94 2.06.94-2.06 2.06-.94-2.06-.94-.94-2.06-.94 2.06-2.06.94zm-11 1L8.5 8.5l.94-2.06 2.06-.94-2.06-.94L8.5 2.5l-.94 2.06-2.06.94zm10 10l.94 2.06.94-2.06 2.06-.94-2.06-.94-.94-2.06-.94 2.06-2.06.94z\"/><path d=\"M17.41 7.96l-1.37-1.37c-.4-.4-.92-.59-1.43-.59-.52 0-1.04.2-1.43.59L10.3 9.45l-7.72 7.72c-.78.78-.78 2.05 0 2.83L4 21.41c.39.39.9.59 1.41.59.51 0 1.02-.2 1.41-.59l7.78-7.78 2.81-2.81c.8-.78.8-2.07 0-2.86zM5.41 20L4 18.59l7.72-7.72 1.47 1.35L5.41 20z\"/>\n",
              "  </svg>\n",
              "      </button>\n",
              "      \n",
              "  <style>\n",
              "    .colab-df-container {\n",
              "      display:flex;\n",
              "      flex-wrap:wrap;\n",
              "      gap: 12px;\n",
              "    }\n",
              "\n",
              "    .colab-df-convert {\n",
              "      background-color: #E8F0FE;\n",
              "      border: none;\n",
              "      border-radius: 50%;\n",
              "      cursor: pointer;\n",
              "      display: none;\n",
              "      fill: #1967D2;\n",
              "      height: 32px;\n",
              "      padding: 0 0 0 0;\n",
              "      width: 32px;\n",
              "    }\n",
              "\n",
              "    .colab-df-convert:hover {\n",
              "      background-color: #E2EBFA;\n",
              "      box-shadow: 0px 1px 2px rgba(60, 64, 67, 0.3), 0px 1px 3px 1px rgba(60, 64, 67, 0.15);\n",
              "      fill: #174EA6;\n",
              "    }\n",
              "\n",
              "    [theme=dark] .colab-df-convert {\n",
              "      background-color: #3B4455;\n",
              "      fill: #D2E3FC;\n",
              "    }\n",
              "\n",
              "    [theme=dark] .colab-df-convert:hover {\n",
              "      background-color: #434B5C;\n",
              "      box-shadow: 0px 1px 3px 1px rgba(0, 0, 0, 0.15);\n",
              "      filter: drop-shadow(0px 1px 2px rgba(0, 0, 0, 0.3));\n",
              "      fill: #FFFFFF;\n",
              "    }\n",
              "  </style>\n",
              "\n",
              "      <script>\n",
              "        const buttonEl =\n",
              "          document.querySelector('#df-021fe5e6-8ccc-44ef-abbe-de4cd6ad78d4 button.colab-df-convert');\n",
              "        buttonEl.style.display =\n",
              "          google.colab.kernel.accessAllowed ? 'block' : 'none';\n",
              "\n",
              "        async function convertToInteractive(key) {\n",
              "          const element = document.querySelector('#df-021fe5e6-8ccc-44ef-abbe-de4cd6ad78d4');\n",
              "          const dataTable =\n",
              "            await google.colab.kernel.invokeFunction('convertToInteractive',\n",
              "                                                     [key], {});\n",
              "          if (!dataTable) return;\n",
              "\n",
              "          const docLinkHtml = 'Like what you see? Visit the ' +\n",
              "            '<a target=\"_blank\" href=https://colab.research.google.com/notebooks/data_table.ipynb>data table notebook</a>'\n",
              "            + ' to learn more about interactive tables.';\n",
              "          element.innerHTML = '';\n",
              "          dataTable['output_type'] = 'display_data';\n",
              "          await google.colab.output.renderOutput(dataTable, element);\n",
              "          const docLink = document.createElement('div');\n",
              "          docLink.innerHTML = docLinkHtml;\n",
              "          element.appendChild(docLink);\n",
              "        }\n",
              "      </script>\n",
              "    </div>\n",
              "  </div>\n",
              "  "
            ]
          },
          "metadata": {},
          "execution_count": 31
        }
      ]
    },
    {
      "cell_type": "code",
      "source": [
        "df_test_pred.y_pred.unique()"
      ],
      "metadata": {
        "colab": {
          "base_uri": "https://localhost:8080/"
        },
        "id": "wluGZRiXzR0n",
        "outputId": "837cc641-543b-43ed-e0d8-e7e225c461a1"
      },
      "execution_count": 32,
      "outputs": [
        {
          "output_type": "execute_result",
          "data": {
            "text/plain": [
              "array(['service', 'charges', 'application', 'people', 'others', 'process',\n",
              "       'product'], dtype=object)"
            ]
          },
          "metadata": {},
          "execution_count": 32
        }
      ]
    },
    {
      "cell_type": "code",
      "execution_count": 33,
      "metadata": {
        "colab": {
          "base_uri": "https://localhost:8080/",
          "height": 546
        },
        "id": "voEGDHPkCpf7",
        "outputId": "d7bff41f-5ac8-42b7-9799-96d37be6b73d"
      },
      "outputs": [
        {
          "output_type": "execute_result",
          "data": {
            "text/plain": [
              "<Axes: >"
            ]
          },
          "metadata": {},
          "execution_count": 33
        },
        {
          "output_type": "execute_result",
          "data": {
            "text/plain": [
              "Text(33.222222222222214, 0.5, 'Actual')"
            ]
          },
          "metadata": {},
          "execution_count": 33
        },
        {
          "output_type": "execute_result",
          "data": {
            "text/plain": [
              "Text(0.5, 25.722222222222214, 'Predicted')"
            ]
          },
          "metadata": {},
          "execution_count": 33
        },
        {
          "output_type": "display_data",
          "data": {
            "text/plain": [
              "<Figure size 500x500 with 2 Axes>"
            ],
            "image/png": "[encoded data removed]"
          },
          "metadata": {}
        }
      ],
      "source": [
        "from sklearn.metrics import confusion_matrix\n",
        "conf_mat = confusion_matrix(df_test_pred['category_id'], df_test_pred['category_id_pred'])\n",
        "fig, ax = plt.subplots(figsize=(5,5))\n",
        "sns.heatmap(conf_mat, annot=True, fmt='d',\n",
        "            xticklabels=category_id_df.y.values, yticklabels=category_id_df.y.values)\n",
        "plt.ylabel('Actual')\n",
        "plt.xlabel('Predicted')\n",
        "plt.show()"
      ]
    },
    {
      "cell_type": "code",
      "source": [
        "# Classification report\n",
        "from sklearn import metrics\n",
        "print(metrics.classification_report(df_test_pred['category_id'], df_test_pred['category_id_pred'], target_names=df['y'].unique()))"
      ],
      "metadata": {
        "id": "v9lF3u0R4l1p",
        "outputId": "79aca036-4fb6-45a0-d76f-0b555aae8641",
        "colab": {
          "base_uri": "https://localhost:8080/"
        }
      },
      "execution_count": 34,
      "outputs": [
        {
          "output_type": "stream",
          "name": "stdout",
          "text": [
            "              precision    recall  f1-score   support\n",
            "\n",
            "     service       0.79      0.88      0.83       603\n",
            " application       0.84      0.84      0.84       379\n",
            "      others       0.78      0.81      0.79       294\n",
            "     charges       0.97      0.76      0.85       114\n",
            "     process       0.44      0.17      0.24        24\n",
            "      people       0.64      0.33      0.44        54\n",
            "     product       1.00      0.10      0.18        10\n",
            "    research       0.00      0.00      0.00         1\n",
            "\n",
            "    accuracy                           0.81      1479\n",
            "   macro avg       0.68      0.49      0.52      1479\n",
            "weighted avg       0.81      0.81      0.80      1479\n",
            "\n"
          ]
        },
        {
          "output_type": "stream",
          "name": "stderr",
          "text": [
            "/usr/local/lib/python3.10/dist-packages/sklearn/metrics/_classification.py:1344: UndefinedMetricWarning: Precision and F-score are ill-defined and being set to 0.0 in labels with no predicted samples. Use `zero_division` parameter to control this behavior.\n",
            "  _warn_prf(average, modifier, msg_start, len(result))\n",
            "/usr/local/lib/python3.10/dist-packages/sklearn/metrics/_classification.py:1344: UndefinedMetricWarning: Precision and F-score are ill-defined and being set to 0.0 in labels with no predicted samples. Use `zero_division` parameter to control this behavior.\n",
            "  _warn_prf(average, modifier, msg_start, len(result))\n",
            "/usr/local/lib/python3.10/dist-packages/sklearn/metrics/_classification.py:1344: UndefinedMetricWarning: Precision and F-score are ill-defined and being set to 0.0 in labels with no predicted samples. Use `zero_division` parameter to control this behavior.\n",
            "  _warn_prf(average, modifier, msg_start, len(result))\n"
          ]
        }
      ]
    },
    {
      "cell_type": "code",
      "execution_count": 35,
      "metadata": {
        "id": "9Cu4UifQCpf7",
        "colab": {
          "base_uri": "https://localhost:8080/",
          "height": 546
        },
        "outputId": "564ec4e0-9e04-44d7-bec0-7f233e174c84"
      },
      "outputs": [
        {
          "output_type": "execute_result",
          "data": {
            "text/plain": [
              "<Axes: >"
            ]
          },
          "metadata": {},
          "execution_count": 35
        },
        {
          "output_type": "execute_result",
          "data": {
            "text/plain": [
              "Text(33.222222222222214, 0.5, 'Actual')"
            ]
          },
          "metadata": {},
          "execution_count": 35
        },
        {
          "output_type": "execute_result",
          "data": {
            "text/plain": [
              "Text(0.5, 25.722222222222214, 'Predicted')"
            ]
          },
          "metadata": {},
          "execution_count": 35
        },
        {
          "output_type": "display_data",
          "data": {
            "text/plain": [
              "<Figure size 500x500 with 2 Axes>"
            ],
            "image/png": "[encoded data removed]"
          },
          "metadata": {}
        }
      ],
      "source": [
        "from sklearn.metrics import confusion_matrix\n",
        "conf_mat = confusion_matrix(df_pred['category_id'], df_pred['category_id_pred'])\n",
        "fig, ax = plt.subplots(figsize=(5,5))\n",
        "sns.heatmap(conf_mat, annot=True, fmt='d',\n",
        "            xticklabels=category_id_df.y.values, yticklabels=category_id_df.y.values)\n",
        "plt.ylabel('Actual')\n",
        "plt.xlabel('Predicted')\n",
        "plt.show()"
      ]
    },
    {
      "cell_type": "code",
      "execution_count": 36,
      "metadata": {
        "colab": {
          "base_uri": "https://localhost:8080/"
        },
        "id": "NS-7FGhLCpf7",
        "outputId": "704618e4-a81c-4ce4-e5d5-d0c7e90da0e6"
      },
      "outputs": [
        {
          "output_type": "stream",
          "name": "stdout",
          "text": [
            "              precision    recall  f1-score   support\n",
            "\n",
            "     service       0.93      0.96      0.94      2010\n",
            " application       0.95      0.95      0.95      1264\n",
            "      others       0.93      0.94      0.93       979\n",
            "     charges       0.99      0.93      0.96       379\n",
            "     process       0.91      0.75      0.82        79\n",
            "      people       0.91      0.79      0.84       182\n",
            "     product       1.00      0.70      0.82        33\n",
            "    research       1.00      0.67      0.80         3\n",
            "\n",
            "    accuracy                           0.94      4929\n",
            "   macro avg       0.95      0.83      0.88      4929\n",
            "weighted avg       0.94      0.94      0.94      4929\n",
            "\n"
          ]
        }
      ],
      "source": [
        "# Classification report overall\n",
        "from sklearn import metrics\n",
        "print(metrics.classification_report(df_pred['category_id'], df_pred['category_id_pred'], target_names=df['y'].unique()))"
      ]
    },
    {
      "cell_type": "code",
      "execution_count": 37,
      "metadata": {
        "id": "E2r7i5zgCpf7"
      },
      "outputs": [],
      "source": [
        "res = pd.DataFrame()\n",
        "# To manually verify why some failed\n",
        "from IPython.display import display\n",
        "\n",
        "for predicted in category_id_df.category_id:\n",
        "    for actual in category_id_df.category_id:\n",
        "        if predicted != actual and conf_mat[actual, predicted] >= 10:\n",
        "            # print(\"'{}' predicted as '{}' : {} examples.\".format(id_to_category[actual], id_to_category[predicted], conf_mat[actual, predicted]))\n",
        "            temp = df_pred.query(f' (category_id == {actual}) & (category_id_pred == {predicted})')[['x']]\n",
        "            temp['y'] = id_to_category[actual]\n",
        "            temp['y_pred'] = id_to_category[predicted]\n",
        "            # print('')\n",
        "            res = pd.concat([res,temp])"
      ]
    },
    {
      "cell_type": "code",
      "source": [
        "from google.colab import data_table\n",
        "data_table.DataTable(res, include_index=False, num_rows_per_page=10)"
      ],
      "metadata": {
        "colab": {
          "base_uri": "https://localhost:8080/",
          "height": 377
        },
        "id": "YZFaySnw8Ner",
        "outputId": "6989d6c6-ca25-4e3b-a3c8-8586e71691d3"
      },
      "execution_count": 38,
      "outputs": [
        {
          "output_type": "execute_result",
          "data": {
            "text/html": [
              "<div>\n",
              "<style scoped>\n",
              "    .dataframe tbody tr th:only-of-type {\n",
              "        vertical-align: middle;\n",
              "    }\n",
              "\n",
              "    .dataframe tbody tr th {\n",
              "        vertical-align: top;\n",
              "    }\n",
              "\n",
              "    .dataframe thead th {\n",
              "        text-align: right;\n",
              "    }\n",
              "</style>\n",
              "<table border=\"1\" class=\"dataframe\">\n",
              "  <thead>\n",
              "    <tr style=\"text-align: right;\">\n",
              "      <th></th>\n",
              "      <th>x</th>\n",
              "      <th>y</th>\n",
              "      <th>y_pred</th>\n",
              "    </tr>\n",
              "  </thead>\n",
              "  <tbody>\n",
              "    <tr>\n",
              "      <th>213</th>\n",
              "      <td>i am getting very bad experience with your tra...</td>\n",
              "      <td>application</td>\n",
              "      <td>service</td>\n",
              "    </tr>\n",
              "    <tr>\n",
              "      <th>823</th>\n",
              "      <td>only researched equity stock are correct in re...</td>\n",
              "      <td>application</td>\n",
              "      <td>service</td>\n",
              "    </tr>\n",
              "    <tr>\n",
              "      <th>832</th>\n",
              "      <td>please improve traffic related issue there is ...</td>\n",
              "      <td>application</td>\n",
              "      <td>service</td>\n",
              "    </tr>\n",
              "    <tr>\n",
              "      <th>865</th>\n",
              "      <td>it is suggested that team who files the reply ...</td>\n",
              "      <td>application</td>\n",
              "      <td>service</td>\n",
              "    </tr>\n",
              "    <tr>\n",
              "      <th>1049</th>\n",
              "      <td>try to solve technical issue within hours or b...</td>\n",
              "      <td>application</td>\n",
              "      <td>service</td>\n",
              "    </tr>\n",
              "    <tr>\n",
              "      <th>...</th>\n",
              "      <td>...</td>\n",
              "      <td>...</td>\n",
              "      <td>...</td>\n",
              "    </tr>\n",
              "    <tr>\n",
              "      <th>2303</th>\n",
              "      <td>the dealer did not resolve my queries rather i...</td>\n",
              "      <td>service</td>\n",
              "      <td>people</td>\n",
              "    </tr>\n",
              "    <tr>\n",
              "      <th>2312</th>\n",
              "      <td>not interested customer service sitting at cal...</td>\n",
              "      <td>service</td>\n",
              "      <td>people</td>\n",
              "    </tr>\n",
              "    <tr>\n",
              "      <th>2798</th>\n",
              "      <td>sorry to say they are unable to resolve my pro...</td>\n",
              "      <td>service</td>\n",
              "      <td>people</td>\n",
              "    </tr>\n",
              "    <tr>\n",
              "      <th>3330</th>\n",
              "      <td>please change my relationship manager they are...</td>\n",
              "      <td>service</td>\n",
              "      <td>people</td>\n",
              "    </tr>\n",
              "    <tr>\n",
              "      <th>4049</th>\n",
              "      <td>customer service representative should have pr...</td>\n",
              "      <td>service</td>\n",
              "      <td>people</td>\n",
              "    </tr>\n",
              "  </tbody>\n",
              "</table>\n",
              "<p>264 rows × 3 columns</p>\n",
              "</div>"
            ],
            "application/vnd.google.colaboratory.module+javascript": "\n      import \"https://ssl.gstatic.com/colaboratory/data_table/881c4a0d49046431/data_table.js\";\n\n      const table = window.createDataTable({\n        data: [[\"i am getting very bad experience with your tradeing platform\",\n\"application\",\n\"service\"],\n [\"only researched equity stock are correct in researching list of days if i request for any kotak security related inquiry it s unresolved till now for filling income tax\",\n\"application\",\n\"service\"],\n [\"please improve traffic related issue there is lots of things doesnt running well please all is well\",\n\"application\",\n\"service\"],\n [\"it is suggested that team who files the reply does not have application of mind they filed the reply in mails even after receiving mails required data not receuved very poor servive by kotak\",\n\"application\",\n\"service\"],\n [\"try to solve technical issue within hours or before market close so that client manage their position according mkt condition\",\n\"application\",\n\"service\"],\n [\"technical issue very important problem and call centre not good response\",\n\"application\",\n\"service\"],\n [\"no queries have been addressed appropriately so far since i have opened account with kotak\",\n\"application\",\n\"service\"],\n [\"neo platform is pathetic and manager has no clue how to resolve it who is responsible for the loss i incurred relationship manager never pickup the phone and have no empathy to client issue\",\n\"application\",\n\"service\"],\n [\"it impact me a lot in trading on st dec pls see and resolve this and if possible pls contact me\",\n\"application\",\n\"service\"],\n [\"take responsibility of your system failure due to worst system traders faces losses also mental harassment by kotak security you only send apologize email regarding this close my account as soon as possible\",\n\"application\",\n\"service\"],\n [\"few days back the orders were stuck due to technical glitch so its need improvement and during that time no one gave any information regarding that\",\n\"application\",\n\"service\"],\n [\"your call trade department behave rudely\",\n\"application\",\n\"service\"],\n [\"trading platform hanging up and getting slower during market hours\",\n\"application\",\n\"service\"],\n [\"i am getting very bad experience with your tradeing platform\",\n\"application\",\n\"service\"],\n [\"whatsapp representative not able to right answer\",\n\"application\",\n\"service\"],\n [\"arrange any time to guide in trading regarding\",\n\"application\",\n\"service\"],\n [\"if someone having account in kotak mahindra bank atleast you shoul give them no brokerage services also statement service is very poor it shoul me more user friendly which show something at the movement and something after some days margin shortfall should be displayed on the home page atleast so that invester will get to know about the shortfall\",\n\"application\",\n\"service\"],\n [\"ur new app kotak fast trade is not working approached rm ms sahni response was very poor asked her to take me on remote via teal viewer any desk or taat track she could not make the arrangement rather insisted me to tel her my problem on phone i d the problem were solvable on phone i may not have insisted for remote contact contacted sohil khan who too could not do amything and i am still facing th problem in ur new app pl do the needful\",\n\"application\",\n\"service\"],\n [\"whatsapp chat entirely useless call should be arranged to understand and solve clients query secondly margin amount shows up against fund is misguiding and someone will notify it to sebi as its not clients own fund thus impacts investment decisions investment decisions cant be taken on margin amount\",\n\"application\",\n\"service\"],\n [\"trade was done as per the details why as a customer i need to pay where in i am not at all at fault\",\n\"application\",\n\"service\"],\n [\"your app sucks and you are experimenting with it by making clients suffer by not logging the complaints or providing a seamless redressal on email purposely everything is kept on phone calls so as to shadow the issues of your own pathetic learning curve\",\n\"application\",\n\"service\"],\n [\"i interacted on whatsapp two times two issues my matter was not resolved one relation officer reqd for redresal of issues\",\n\"application\",\n\"service\"],\n [\"when we place market order previous software was showing how much quantity we can purchase but in this we have to calculate which is not at all practically possible during market hours no contact no for kotak neo customers to clarify the issues nobody knows how to open and activate nest software\",\n\"application\",\n\"service\"],\n [\"very poor response of pending enquiries very late disposal\",\n\"application\",\n\"service\"],\n [\"your call is on neo is late due to which any body cannot catch the trend\",\n\"application\",\n\"service\"],\n [\"provide your suggestion in the website dont disturb your customers had asked report to fill itr till now didnt receive it\",\n\"application\",\n\"service\"],\n [\"i am trying to solve a small issue of converting my neo account to kst from last months several times i have been talk to customer care but still not my issue is not solved frustrating experience with kotak securities\",\n\"application\",\n\"service\"],\n [\"i am not happy with kotak sec\",\n\"application\",\n\"service\"],\n [\"there are so many trading platform and tools but they are not having complete solution they are not synchronized with each other please remove outdated trading tools it will be great help to your customers thanks\",\n\"application\",\n\"service\"],\n [\"every year i am paying annual brokerage on fit and the money gets credited back to my account and the proofs were giveninspite of this i get answer its not reversable not refundable alsoanother thing is i had never requested for this plan it just got debited from my account and do not appreciate any debits without customers confirmation\",\n\"application\",\n\"service\"],\n [\"it seems like kotak securities is playing some foul game and trying to loot their customers by charging interest i raised issue of unpledging in nd week of may which is not resolved yet i do have sufficient fund in my trading account still receiving message from customer care that they are not able to unpledge due to insufficient funds none of your agents are able to tell me how much fund is required i am highly disappointed with the pathetic service you are providing i will soon raise alarm with sebi for the malpractices executed by kotak securities\",\n\"application\",\n\"service\"],\n [\"not getting responses from mapped rm\",\n\"application\",\n\"service\"],\n [\"relationship manager should be responsible to coordinate with back end team about pending issues but they are just working like couriers back end team does not appreciate the real issues raised in the queries after passage of time they take it granted that the issues have no longer meaningful offline trade should be confirmed during business hours\",\n\"application\",\n\"service\"],\n [\"rm not providing proper knowledge about app functions\",\n\"application\",\n\"service\"],\n [\"some how i am not happy i lost so much money\",\n\"application\",\n\"service\"],\n [\"the employees are not contacting for any issue raised by me even mails are not answered or not read properly by any executives reading the issue understanding the issue are the main reasons not for you but every on line application\",\n\"application\",\n\"service\"],\n [\"very unhappy with dealer\",\n\"application\",\n\"service\"],\n [\"slowly moving to zerodha\",\n\"others\",\n\"service\"],\n [\"howmany times i need to explain my issue\",\n\"others\",\n\"service\"],\n [\"lot more is expected of them\",\n\"others\",\n\"service\"],\n [\"to help for improvement of limit\",\n\"others\",\n\"service\"],\n [\"please call\",\n\"others\",\n\"service\"],\n [\"make responce on call from our registerd mobile no immediately\",\n\"others\",\n\"service\"],\n [\"long long long waiting not at all satisfied\",\n\"others\",\n\"service\"],\n [\"no everything is alright\",\n\"others\",\n\"service\"],\n [\"please solve my issue frustrated customer\",\n\"others\",\n\"service\"],\n [\"if mistakenly we open our account with you online then we request you to shift our account to local area branch\",\n\"others\",\n\"service\"],\n [\"very bed exprence\",\n\"others\",\n\"service\"],\n [\"slowly moving to zerodha\",\n\"others\",\n\"service\"],\n [\"howmany times i need to explain my issue\",\n\"others\",\n\"service\"],\n [\"value your customer\",\n\"others\",\n\"service\"],\n [\"please resolve the problem before asking for feedback there was no interaction with anyone\",\n\"others\",\n\"service\"],\n [\"not receive\",\n\"others\",\n\"service\"],\n [\"now i am tired of writing suggestions and feedbacks as you nothing get out of it\",\n\"others\",\n\"service\"],\n [\"poor people bounded to yern profit only never considering humanityall the best\",\n\"others\",\n\"service\"],\n [\"very seriously not any person cal me months\",\n\"others\",\n\"service\"],\n [\"make pdf for products with date of update at top nse digital is from i should not say all this\",\n\"others\",\n\"service\"],\n [\"it was my worst ever experience with kotak bank even the branch manager behaved like a dumb which made me move my all funds to other bank\",\n\"others\",\n\"service\"],\n [\"take the feedback in a constructive manner and embrace the change\",\n\"others\",\n\"service\"],\n [\"no no no no no no no no no no no no no n\",\n\"others\",\n\"service\"],\n [\"worst experience i had ever faced in my whole life\",\n\"others\",\n\"service\"],\n [\"third class no one connects\",\n\"others\",\n\"service\"],\n [\"i never spoke to anyone today or recently why did i receive this message\",\n\"others\",\n\"service\"],\n [\"worst case scenario worst experience with you i will shift my investments to some other vendor i file complaint to nse and sebi against you\",\n\"others\",\n\"service\"],\n [\"worst experience\",\n\"others\",\n\"service\"],\n [\"he was hardly interested in knowing my requirement\",\n\"others\",\n\"service\"],\n [\"completely wastage of time with kotak not recommended\",\n\"others\",\n\"service\"],\n [\"hope for the best i love kotak bank\",\n\"others\",\n\"service\"],\n [\"kindly keep the mails specific and point to point\",\n\"others\",\n\"service\"],\n [\"my issues previously and again now is not resolved\",\n\"others\",\n\"service\"],\n [\"my problem is unsolved\",\n\"others\",\n\"service\"],\n [\"my query regarding my subject is not resolved while i call care two time\",\n\"others\",\n\"service\"],\n [\"my query regarding my subject is not resolved while i call care two time\",\n\"others\",\n\"service\"],\n [\"no feedback\",\n\"others\",\n\"service\"],\n [\"no interaction in recent times\",\n\"others\",\n\"service\"],\n [\"no one called me cant give feedback for nothing\",\n\"others\",\n\"service\"],\n [\"no one giving concrete advice\",\n\"others\",\n\"service\"],\n [\"no as it is of no use no action\",\n\"others\",\n\"service\"],\n [\"nobody contacted or reached me not sure how i receiving feedback form the point of contact to my account is not at all responsive with my emails and not able to reach him its just dummy person just for the sake shown in my account\",\n\"others\",\n\"service\"],\n [\"nobody takes care we group of want to leave kotak no one is helpful see zerodha jmf etc please take your team to look after small investors thanks for asking\",\n\"others\",\n\"service\"],\n [\"not much interaction response\",\n\"others\",\n\"service\"],\n [\"not my issue to give suggestions to the company\",\n\"others\",\n\"service\"],\n [\"pl how long customer associate with kotak and understand issue and try to resolvethanks\",\n\"others\",\n\"service\"],\n [\"proper information\",\n\"others\",\n\"service\"],\n [\"repeated calls for credit card is frustrating\",\n\"others\",\n\"service\"],\n [\"the query has not been addressed as yet\",\n\"others\",\n\"service\"],\n [\"tremendous improvement needed kotak is not known for such unsatisfactory treatment\",\n\"others\",\n\"service\"],\n [\"unsatisfactory experience in general\",\n\"others\",\n\"service\"],\n [\"very bed called\",\n\"others\",\n\"service\"],\n [\"worst ever rd class everything\",\n\"others\",\n\"service\"],\n [\"margin giving and selling immediately is not correct\",\n\"charges\",\n\"service\"],\n [\"your interest rates are very high and also varies for same product sometimes\",\n\"charges\",\n\"service\"],\n [\"a long pending issue regarding levying of demat charges by kotak mahindra bank they say that this issue may be referred to kotak securities and kotak securities say that this issue may be resolved by the kotak mahindra bank i remained between the two without resolution and for a very long period say about years i visited the local office of kotak securities ltd and met mr abhishek atleast times with no result and this is highly regrettable for such an organisation i understand kotak bank and kotak securities are the sister concerns but there is no coordination and each one is passing the buck kindly improve your complaint redressal system\",\n\"charges\",\n\"service\"],\n [\"people at kotak do not want business hence i am dealing more with hdfc sec inspite of high cost people at senior level have no time or say egostic to name shilpa bachwat she dont care about service though i have invested in sec more than crore including margin and cash and doing intraday transaction of around lacs with hdfc sec inspite of brokerage at your end but at hdfc sec very bad behavior they are spoiling kotak reputation now i am referring motilal oswal instead i had made earlier to kotak lot to say but useless it was good in beginning with shilpa but when she started growing she started ignoring and i think as i know with my personal contact or they say her behavior is very bad for last months or may be overloaded with work and appreciation so might be she is not wrong\",\n\"charges\",\n\"service\"],\n [\"request to reduce roi only allow margin trading and rate of interestbe conveyed t s begit no tsnegi tn gmail com\",\n\"charges\",\n\"service\"],\n [\"i came here for intraday free brokerage its been a year other than margin shortage communication penalties i felt nice kotak should inform by message mails for exchange shortfall other brokers do at whatsapp as well i am sharing my case penalties are quite high it shouldnt be dependent on dealers dealer have missed a times kotak should not allow margin shortfall in writing spread in may month expiry i erroneously covered options buying first lacs shortage seen other few brokers dont allow this so kotak should consider i may elaborate further if required further training can be given to employees same might be considered for clients on weekends on voluntary basis real time depth at times is delayed for algo logic based trading kotak should think more promote more thats only future for in i asked however no response by kotak bank securities it takes time to send money even from kotak account just saying icici takes seconds in funds transfer for dealer rita behaviour was very good she was approachable in office ours however taken a time in response i guess she have learnt a bit with my case slight more training might be given to her other employees regarding f o margin requirements shortfall\",\n\"charges\",\n\"service\"],\n [\"very bad experience please refund my all extra charges which you guys received and also give me one proper advisor\",\n\"charges\",\n\"service\"],\n [\"no transparency lot of hidden charges nsdl credited sub divided shares in my demat but kotak did not bother to show availability of those shares in my demat inspite of repeated requests and talk with customer relationship manager it is really disgusting\",\n\"charges\",\n\"service\"],\n [\"your fee and charges are not competitive at all make access to human interaction for query resolution possible you have gone way too far on machine interactions to save money\",\n\"charges\",\n\"service\"],\n [\"kindly share dealer contact info so customer can connect immediately with dealer in case of urgent issues knowledge of customer care is worst no fcr first call resolution they have are aware of basic details and everytime has put the customer on hold agents disconnecting calls i had called times for brokerage details on option and futures hope suggestion are worked upon\",\n\"charges\",\n\"service\"],\n [\"i inquired about charges and they said we ll call back later and never called back yet\",\n\"charges\",\n\"service\"],\n [\"i have migrated to neoon yesterday to free trade but brokerages is charges since morning times i called to customer care no all are hepless\",\n\"charges\",\n\"service\"],\n [\"why do you people waste your and my time on this game instead of improving your feedback mechanism i had maintained some balance in my trading account for the monthly charges but your company returns it to me making the balance as i have deposited again and again you return it i spoke to a person who called and said it might be a rule he was from sales i wrote to kotaks as well but they just dont bother and you people ask me for feedback\",\n\"charges\",\n\"service\"],\n [\"i requested a consolidated report on charges and levies for the previous financial year however i was not provided with the same\",\n\"charges\",\n\"service\"],\n [\"provide direct contact information of rm not like press this or that option menu people dont have that much time\",\n\"process\",\n\"service\"],\n [\"the customer should be assisted with bank personnel other than online help which is not solving the matter immediately\",\n\"process\",\n\"service\"],\n [\"speaking is no use for everything go to nearest kotak bank for everything in digital world\",\n\"process\",\n\"service\"],\n [\"employee need to be trained on processes employee need to execute what they commit\",\n\"process\",\n\"service\"],\n [\"your organization wastes time on standard operating procedures and trains only for regular customer service it is unfit for exceptions non standard issues also you seem to be only concerned about your processes and not resolution you have to start listening else i may have to make decisions\",\n\"process\",\n\"service\"],\n [\"we look forward to a solution for the stocks that we hold in dmat account with out any hope for even booking a loss eg lakshmi vilas bank stocks\",\n\"process\",\n\"service\"],\n [\"detail ledger changed titally annoying to check transaction details only bill no cannot see scrip name etc credit us given in minus all confusing\",\n\"process\",\n\"service\"],\n [\"did not get the referral benefits\",\n\"process\",\n\"service\"],\n [\"fit deductions are done every year opted only for year only but from last years rs is deducted times without any acceptance need refund for it\",\n\"process\",\n\"service\"],\n [\"i have referred persons but got benefit of only i have been complaining since months but problem not solved most irritating thing is that same details from fress asked each time and different reasons was given for it\",\n\"process\",\n\"service\"],\n [\"your advisers dedicated managers do not have proper knowledge even though they promise to get back after confirming with their seniors never come back with proper answers\",\n\"people\",\n\"service\"],\n [\"thankscalls made to kotak securities number go unanswered due to busy desks no call back also query resolution not satisfactory due to inadequate knowledge of those who attend\",\n\"people\",\n\"service\"],\n [\"misguided and not properly knowledgeable people\",\n\"people\",\n\"service\"],\n [\"allotted rm wont respond the calls and lack of knowledge\",\n\"people\",\n\"service\"],\n [\"it is very unfortunate that your advisors are really not advisors they are sales people who single mindedly push the products of kotak securities they neither have the patience to understand the query of the customer nor are they trained about the different aspects of trading investing\",\n\"people\",\n\"service\"],\n [\"all you people are smart enough to deal with your side what the client is facing on daily basis yours employee have not proper knowledge and updation that must if any and they all have show in routine work taking it not problem solving it s culture that is also reflection of upper management what all are doing actually management wants or take like a routine\",\n\"people\",\n\"service\"],\n [\"the staff were not knowledgeable nor was there any intention to sort out the query but to pass the buck the position remains the same\",\n\"people\",\n\"service\"],\n [\"one most inefficient customer care system the so called representatives seems to be picked up from the street and put on job without providing any trainingthey lack knowledge and don t have solution for any issuethey call back after many dayssystem does not work in the morning and many times during the day\",\n\"people\",\n\"service\"],\n [\"appoint more knowledgeable people make your system fast rather than putting more and more options\",\n\"people\",\n\"service\"],\n [\"not perfect answer in whatsapp chat and not knowledge for whatsapp chat person\",\n\"people\",\n\"service\"],\n [\"queries are not addressed on time bound for every query time take to read the mail is hours which is too late in trading in trading each and every second is important customer care number is waste no one has the knowledge about our concerns totally i would say kotak trading account should not be used and referred to anybody i am going to close the account soon\",\n\"people\",\n\"service\"],\n [\"people in level are not well knowledge d about the product or the new issue the customer face in addition to this they are providing the wrong information most of the times not at all satisfied with the level customer helpdesk\",\n\"people\",\n\"service\"],\n [\"my more than year of experience with kotak securities is worst so i never suggest anyone to open account with kotak any kind of account i felt this is very easy to open an account with kotak but close or switch the same is not possible by kotak kotak staffs are also not knowledgeable and experience kotak recruited none productive team without regards\",\n\"people\",\n\"service\"],\n [\"trained and knowledgeable personnel are required\",\n\"people\",\n\"service\"],\n [\"the appointment of rm should not be for the sake of appointment i have pointed out earlier also that the rm is rarely of any use to the investor and mostly it is very difficult to contact him her it is also seen that at times they are not very knowledgeable and not able to solve the problems\",\n\"people\",\n\"service\"],\n [\"first of all client will call any time during officer hours in that time also they are unable spare the time difficult for them to solve clients query secondly they are not knowledge of the kotak trading platform then how solve customer regardsramesh\",\n\"people\",\n\"service\"],\n [\"absolutely bad this is big mistake that i have choosen kotak securities the most worth thing is rm behaviour rm has no knowledge about solution of any issues his commitment is very bad i will never request my friend or relative to make the business with kotak\",\n\"people\",\n\"service\"],\n [\"please assign one person who is proficient in share market and technical and who with a mobile number we can talk to him directly instead of waiting for a call back time is the issue\",\n\"people\",\n\"service\"],\n [\"very rude staff no knowledge of subject having no solution only trying to forward the complaint or queries staff picked the call after dialing many times after that hearing your queries forward the call to his senior putting customer on hold surprisingly nobody respond even for hour worst service ever\",\n\"people\",\n\"service\"],\n [\"my account have some debit balance but share was pledged and today without any call dis porportionate shares sold by the the broker wihtout my knowledge did not bothered to give a even call may be think to switch the account from kotak security\",\n\"people\",\n\"service\"],\n [\"not good service advisor no knowledge\",\n\"people\",\n\"service\"],\n [\"is very high it should be negative as ur staff is torture with their lack of knowledge about your own processes and systems\",\n\"people\",\n\"service\"],\n [\"dedicated rm should have more experience for resolving general queries in my case even a senior could not resolve the query in one day even whatever they demanded i provided\",\n\"people\",\n\"service\"],\n [\"i need someone on the higher level with some knowledge to call or would like a meet with if yr relations manager in person thank you\",\n\"people\",\n\"service\"],\n [\"relationship manager not cooperating\",\n\"people\",\n\"service\"],\n [\"rmo have very less knowledge regrading demat account simple query was not solved by him also still waiting for my email query\",\n\"people\",\n\"service\"],\n [\"the client relationship manager needs to be more sensitive to clients requests\",\n\"people\",\n\"service\"],\n [\"the executives does not provide proper response to the customer\",\n\"people\",\n\"service\"],\n [\"your app is not trustworthy customer care number is not responding worst platform\",\n\"service\",\n\"application\"],\n [\"kotak neo app is pathetic it has stopped working it freeze in market out with no response from service become totally dummy such a useless app you guys have developed learn from zerodha iifl paisa apps\",\n\"service\",\n\"application\"],\n [\"last one month there is no solution of my query i have been submitted number of time video recording of my issue but didnt solve it till today\",\n\"service\",\n\"application\"],\n [\"third class service my all over loss for only reason your application glitches\",\n\"service\",\n\"application\"],\n [\"should improve app rm should be provided to each mamber\",\n\"service\",\n\"application\"],\n [\"sms on transaction held on the trading day particularly regarding payment to you or to me not conveyed only details of transaction made conveyed by nse through their sms not convey any thing regarding payment due to me or to you once again my humble request to you to convey regarding the overall dues after every trading day or in the next morning as before sms send by you earlier\",\n\"service\",\n\"application\"],\n [\"the dealers i think do not consider age factor of customers particularly when they are years and above i am not app savvy and therefore face operational failure while using kotak app\",\n\"service\",\n\"application\"],\n [\"your app is not trustworthy customer care number is not responding worst platform\",\n\"service\",\n\"application\"],\n [\"kotak neo app is pathetic it has stopped working it freeze in market out with no response from service become totally dummy such a useless app you guys have developed learn from zerodha iifl paisa apps\",\n\"service\",\n\"application\"],\n [\"last one month there is no solution of my query i have been submitted number of time video recording of my issue but didnt solve it till today\",\n\"service\",\n\"application\"],\n [\"third class service my all over loss for only reason your application glitches\",\n\"service\",\n\"application\"],\n [\"need complete bond both bse and nse with ytm and maturity date and interest frequency and coupon rate etc on screen\",\n\"service\",\n\"application\"],\n [\"service manage kunal kartik both r working like government job one common chane not allow in yr mobile app\",\n\"service\",\n\"application\"],\n [\"i compalnt last time and i give rating in this time give because i compalnt some one call and help to me the brokarge good interday freef margin trading all are good finaly i want happy to trade thank you govind zhwe\",\n\"service\",\n\"application\"],\n [\"delayed or no response is main cause of concern during trading hours or afterwords\",\n\"service\",\n\"application\"],\n [\"remove the dealerthey are culprityour trading app is bad which is calibrated to suit stealerinvester money are robbed by your team by means of links with the dealer\",\n\"service\",\n\"application\"],\n [\"i have lost lakhs indian rs due to wrong trade executed by your kottayam kerala branch executive without confirming the trading scrip with me by margin trading i never ever suggest anybody kotak security\",\n\"service\",\n\"application\"],\n [\"stock recommendations are provided they are sometimes too good and achieve targets but in long tern investment stocks u dont provide stoploss but u provide targets and investment for months sometime instead of achieve target it become loss please consider to provide some stoploss for long term investment also thank you\",\n\"service\",\n\"application\"],\n [\"if debit shortfall amount time is over but still should give one week more time to return the amount before recovery request huge loose hota hai\",\n\"service\",\n\"application\"],\n [\"client should should not be held responsible or penalised for a system technical error regarding margin secondly no trade should be squarred off without taking approval of the buyer further a buyer should be called telephonically to submit the shortfall money before liquidation\",\n\"service\",\n\"application\"],\n [\"educate them better most of them dont know the subject and dont understand the queries\",\n\"service\",\n\"application\"],\n [\"soft were last year se kuchh thik hua hai but aksar position katne me hang kar jata hai softwere site jo bhi plate form hai vah sahi se kam nhi karata hai soft were ya anya koi samsya ane par call nhi uthati hai kafi der bad call aati hai jisme adviser khud ko biji batati hai sabhi customer se ek din dealing nhi hai jyada kam karne vale ko hi proper response milti hai bahut hi bakvas manegement hai\",\n\"service\",\n\"application\"],\n [\"position open position average price information is incorrect\",\n\"service\",\n\"application\"],\n [\"cannot activate option trading on the app as for upload app say upto mb one page is to mb customer service useless even they cannot activate my options i have given a deadline if cannot activate tan i have no choice but to open account with some other broker your whatsapp virtual robot replies instead of solving asking questions which are not even relevant i spoke to santosh and to my designated rm both were useless your senior managers refuse to come and talk to resolve the issue real depressing for a years old senior citizen\",\n\"service\",\n\"application\"],\n [\"improve trade terminal\",\n\"service\",\n\"application\"],\n [\"andrea dzosa was very helpful and eager and tried to help but the system was down when we tried to activate the mutual funds investment on the website and we could not quite r solve it\",\n\"service\",\n\"application\"],\n [\"you are saying in the title of the email that you are listening in reality you dont i wrote two emails about few entries in my ledger but not received any satisfactory reply in the app the candle chart was not working for more than a week i wrote but no use the app says this service is destroyed several times but no one knows what to do telling since you have asked not hoping for any improvement you are hopeless\",\n\"service\",\n\"application\"],\n [\"close kotak security if you cant solve your clients problem there are many platform which are solving problems easily\",\n\"service\",\n\"application\"],\n [\"very very poor customer care and technical team my trading issue not resolved even after days\",\n\"service\",\n\"application\"],\n [\"very slow updation of rates in expiry days i want to quit this platform\",\n\"service\",\n\"application\"],\n [\"you have a pathetic response process with an automated email coming everyday that the query resolution is still pending and you will revet\",\n\"service\",\n\"application\"],\n [\"i hope a day may b run smoothly\",\n\"others\",\n\"application\"],\n [\"i hope a day may b run smoothly\",\n\"others\",\n\"application\"],\n [\"very poor credit time policy\",\n\"others\",\n\"application\"],\n [\"improve or miss out the opportunity\",\n\"others\",\n\"application\"],\n [\"absolutely horrible experience everytime i talk to your organisation it feels like you are there only to sell even if it means misselling\",\n\"others\",\n\"application\"],\n [\"please dont be unethical earn ethically\",\n\"others\",\n\"application\"],\n [\"problem not solve during trading hours\",\n\"others\",\n\"application\"],\n [\"problem not solve during trading hours\",\n\"others\",\n\"application\"],\n [\"proper solution is not provided\",\n\"others\",\n\"application\"],\n [\"teamthis is time pass or you provide better in futurehope you maintain value of brand kotak all the best\",\n\"others\",\n\"application\"],\n [\"i used to be an active customer of yours but i had to switch my account to another brokerage due to the poor performance of your web trading platform\",\n\"charges\",\n\"application\"],\n [\"i used to be an active customer of yours but i had to switch my account to another brokerage due to the poor performance of your web trading platform\",\n\"charges\",\n\"application\"],\n [\"d mat charge is not correct product offers for buying are not satisfied\",\n\"charges\",\n\"application\"],\n [\"paying equity brokerage of percent on sub standard platform outages app hanging happens very often\",\n\"charges\",\n\"application\"],\n [\"fuddu app fuddu customer care asked about brokerage they told me interest rate facing issue in checking funds available in account from last days nobody is here to help me really fed up from kotak securities such a fuddu platform to do trade\",\n\"charges\",\n\"application\"],\n [\"too much charges for stocks to bed application\",\n\"charges\",\n\"application\"],\n [\"trade amount is not showing clearly how much cash available for trade and from what point kotak start charging the interest rates\",\n\"charges\",\n\"application\"],\n [\"there shall be rules for option price movement if a client hedges any trade with option buying then at any point of time clients loss shall be limited to the price difference between future buy sell price and option strike price plus option premium that guarantee shall be given by nse bse sebi otherwise one day you operate can make extreme movement in future and no movement in option price and square off client margin\",\n\"charges\",\n\"application\"],\n [\"charges are high app is not slick\",\n\"charges\",\n\"application\"],\n [\"please state me know the monthlydp charge briefly\",\n\"charges\",\n\"application\"],\n [\"still not solve my problems\",\n\"service\",\n\"others\"],\n [\"they do not reply after hearing me\",\n\"service\",\n\"others\"],\n [\"i do not remember the lady representative name from kotak securities customer but she was very helpful and prompt in taking the action i e putting the dealer calls on do not disturb for me\",\n\"service\",\n\"others\"],\n [\"your are taking feedback as formality only\",\n\"service\",\n\"others\"],\n [\"research team need more work on accurate call\",\n\"service\",\n\"others\"],\n [\"useless and unfriendly\",\n\"service\",\n\"others\"],\n [\"please update kotak team\",\n\"service\",\n\"others\"],\n [\"sahi information nahi dete\",\n\"service\",\n\"others\"],\n [\"not supported for my account related enquiry bad hepl for me\",\n\"service\",\n\"others\"],\n [\"not getting good support on trading account struggling hard\",\n\"service\",\n\"others\"],\n [\"still not solve my problems\",\n\"service\",\n\"others\"],\n [\"they do not reply after hearing me\",\n\"service\",\n\"others\"],\n [\"i do not remember the lady representative name from kotak securities customer but she was very helpful and prompt in taking the action i e putting the dealer calls on do not disturb for me\",\n\"service\",\n\"others\"],\n [\"i would like to talk to my dealer\",\n\"service\",\n\"others\"],\n [\"my complaint was not listened\",\n\"service\",\n\"others\"],\n [\"please solve my quarries without solve my queries mail forwarded me that solved queries\",\n\"service\",\n\"others\"],\n [\"i filled regarding my trading query but after months no proper response by kotak team and still they didnt solved my issue\",\n\"service\",\n\"others\"],\n [\"my queary no resloved\",\n\"service\",\n\"others\"],\n [\"when taking money calling me as much as my holding i will only withdraw it after that not trading with kotak\",\n\"service\",\n\"others\"],\n [\"very bad experience not happy\",\n\"service\",\n\"others\"],\n [\"it new portal may be a good one but it not at all use friendly ur rm is very slow they require training further recheck with me on my mobile\",\n\"service\",\n\"others\"],\n [\"not proper response\",\n\"service\",\n\"others\"],\n [\"pls do more better\",\n\"service\",\n\"others\"],\n [\"no comments\",\n\"service\",\n\"others\"],\n [\"client interest be on priority\",\n\"service\",\n\"others\"],\n [\"no accountability no ownership\",\n\"service\",\n\"others\"],\n [\"worst advisors i have ever come across\",\n\"service\",\n\"others\"],\n [\"provide e mail confirmation on the conclusion of discussion\",\n\"service\",\n\"others\"],\n [\"issue not addressed as promised\",\n\"service\",\n\"others\"],\n [\"dont send unnecessary communication\",\n\"service\",\n\"others\"],\n [\"my reletioanship manager very bad\",\n\"service\",\n\"others\"],\n [\"segeral times suggested from last years but no use\",\n\"service\",\n\"others\"],\n [\"some stock not performed\",\n\"service\",\n\"others\"],\n [\"i am calling regular from may to till date not clarify on my may profit not credit to my trading account\",\n\"service\",\n\"others\"],\n [\"not solve my query\",\n\"service\",\n\"others\"],\n [\"what i questioned you that was was not solved\",\n\"service\",\n\"others\"],\n [\"please stop sending messages for feedback every day\",\n\"service\",\n\"others\"],\n [\"u team not respond any problem\",\n\"service\",\n\"others\"],\n [\"i like to start my trading so please request yourself to discard my wife s revathapar account soon\",\n\"application\",\n\"others\"],\n [\"reatime data delayed to reflect on dashboard\",\n\"application\",\n\"others\"],\n [\"option training program needed\",\n\"application\",\n\"others\"],\n [\"site go stuck and i lost money i need refund\",\n\"application\",\n\"others\"],\n [\"always facing issues after some daysand always facing running issue for appvery bed experience from kotak security no issue\",\n\"application\",\n\"others\"],\n [\"i like to start my trading so please request yourself to discard my wife s revathapar account soon\",\n\"application\",\n\"others\"],\n [\"reatime data delayed to reflect on dashboard\",\n\"application\",\n\"others\"],\n [\"need some smooth flatform and access easyily\",\n\"application\",\n\"others\"],\n [\"my inquiry not sloved\",\n\"application\",\n\"others\"],\n [\"i m not all happy\",\n\"application\",\n\"others\"],\n [\"worst ui its just coz options is free i am using it\",\n\"application\",\n\"others\"],\n [\"this time was quite better as compared to other times\",\n\"application\",\n\"others\"],\n [\"graph not updating\",\n\"application\",\n\"others\"],\n [\"bahot hang hoti he apki aapp\",\n\"application\",\n\"others\"],\n [\"mene apne bank se kotak security me transfar diya tha uska problam solve ho gaya aabhaar\",\n\"application\",\n\"others\"],\n [\"relationship manger required\",\n\"application\",\n\"others\"],\n [\"cash projections should be reflected funds withdrawn from trading account should be immediately credited to bank account at least in the case of linked kotak bank account\",\n\"application\",\n\"others\"],\n [\"i am so happy but i have not money\",\n\"application\",\n\"others\"],\n [\"reatime data delayed to reflect on dashboard\",\n\"application\",\n\"others\"],\n [\"very laid back approach\",\n\"application\",\n\"others\"],\n [\"not have the knowledge on subject matter and not able to understand put on hold for hour\",\n\"service\",\n\"people\"],\n [\"the dealer did not resolve my queries rather insisted on her own arguments\",\n\"service\",\n\"people\"],\n [\"no please ask dealer to give reply within reasonable time\",\n\"service\",\n\"people\"],\n [\"bad behaviour low quality support compared to other no good time support\",\n\"service\",\n\"people\"],\n [\"improve clint support\",\n\"service\",\n\"people\"],\n [\"not have the knowledge on subject matter and not able to understand put on hold for hour\",\n\"service\",\n\"people\"],\n [\"the dealer did not resolve my queries rather insisted on her own arguments\",\n\"service\",\n\"people\"],\n [\"no please ask dealer to give reply within reasonable time\",\n\"service\",\n\"people\"],\n [\"the dealer did not resolve my queries rather insisted on her own arguments\",\n\"service\",\n\"people\"],\n [\"not interested customer service sitting at call center with zero knowledge and mis selling and wrong information to customer\",\n\"service\",\n\"people\"],\n [\"sorry to say they are unable to resolve my problem\",\n\"service\",\n\"people\"],\n [\"please change my relationship manager they are not able to reslove my service issue im getting fincial loses\",\n\"service\",\n\"people\"],\n [\"customer service representative should have proper knowledge of product they did not understand our query\",\n\"service\",\n\"people\"]],\n        columns: [[\"string\", \"x\"], [\"string\", \"y\"], [\"string\", \"y_pred\"]],\n        columnOptions: [],\n        rowsPerPage: 10,\n        helpUrl: \"https://colab.research.google.com/notebooks/data_table.ipynb\",\n        suppressOutputScrolling: true,\n        minimumWidth: undefined,\n      });\n      \n      function appendQuickchartButton(parentElement) {\n        let quickchartButtonContainerElement = document.createElement('div');\n        quickchartButtonContainerElement.innerHTML = `\n    <div id=\"df-479f2dc3-c62e-4167-a3c5-7cc353cdcb87\">\n      <button class=\"colab-df-quickchart\" onclick=\"quickchart('df-479f2dc3-c62e-4167-a3c5-7cc353cdcb87')\"\n              title=\"Suggest charts.\"\n              style=\"display:none;\">\n\n<svg xmlns=\"http://www.w3.org/2000/svg\" height=\"24px\"viewBox=\"0 0 24 24\"\n     width=\"24px\">\n    <g>\n        <path d=\"M19 3H5c-1.1 0-2 .9-2 2v14c0 1.1.9 2 2 2h14c1.1 0 2-.9 2-2V5c0-1.1-.9-2-2-2zM9 17H7v-7h2v7zm4 0h-2V7h2v10zm4 0h-2v-4h2v4z\"/>\n    </g>\n</svg>\n      </button>\n    </div>\n\n<style>\n  .colab-df-quickchart {\n    background-color: #E8F0FE;\n    border: none;\n    border-radius: 50%;\n    cursor: pointer;\n    display: none;\n    fill: #1967D2;\n    height: 32px;\n    padding: 0 0 0 0;\n    width: 32px;\n  }\n\n  .colab-df-quickchart:hover {\n    background-color: #E2EBFA;\n    box-shadow: 0px 1px 2px rgba(60, 64, 67, 0.3), 0px 1px 3px 1px rgba(60, 64, 67, 0.15);\n    fill: #174EA6;\n  }\n\n  [theme=dark] .colab-df-quickchart {\n    background-color: #3B4455;\n    fill: #D2E3FC;\n  }\n\n  [theme=dark] .colab-df-quickchart:hover {\n    background-color: #434B5C;\n    box-shadow: 0px 1px 3px 1px rgba(0, 0, 0, 0.15);\n    filter: drop-shadow(0px 1px 2px rgba(0, 0, 0, 0.3));\n    fill: #FFFFFF;\n  }\n</style>\n\n    <script>\n      async function quickchart(key) {\n        const containerElement = document.querySelector('#' + key);\n        const charts = await google.colab.kernel.invokeFunction(\n            'suggestCharts', [key], {});\n      }\n    </script>\n`;\n        parentElement.appendChild(quickchartButtonContainerElement);\n        \nfunction displayQuickchartButton(domScope) {\n  let quickchartButtonEl =\n    domScope.querySelector('#df-479f2dc3-c62e-4167-a3c5-7cc353cdcb87 button.colab-df-quickchart');\n  quickchartButtonEl.style.display =\n    google.colab.kernel.accessAllowed ? 'block' : 'none';\n}\n\n        displayQuickchartButton(parentElement);\n      }\n    ",
            "text/plain": [
              "<google.colab.data_table.DataTable object>"
            ]
          },
          "metadata": {},
          "execution_count": 38
        }
      ]
    },
    {
      "cell_type": "code",
      "source": [
        "from google.colab import data_table\n",
        "data_table.DataTable(df_pred.query(' y != y_pred')[['x','y', 'y_pred']], include_index=False, num_rows_per_page=10)"
      ],
      "metadata": {
        "colab": {
          "base_uri": "https://localhost:8080/",
          "height": 327
        },
        "id": "D7mx5dZE8FUM",
        "outputId": "2de382ed-a264-4763-c799-0afb8e537076"
      },
      "execution_count": 39,
      "outputs": [
        {
          "output_type": "execute_result",
          "data": {
            "text/html": [
              "<div>\n",
              "<style scoped>\n",
              "    .dataframe tbody tr th:only-of-type {\n",
              "        vertical-align: middle;\n",
              "    }\n",
              "\n",
              "    .dataframe tbody tr th {\n",
              "        vertical-align: top;\n",
              "    }\n",
              "\n",
              "    .dataframe thead th {\n",
              "        text-align: right;\n",
              "    }\n",
              "</style>\n",
              "<table border=\"1\" class=\"dataframe\">\n",
              "  <thead>\n",
              "    <tr style=\"text-align: right;\">\n",
              "      <th></th>\n",
              "      <th>x</th>\n",
              "      <th>y</th>\n",
              "      <th>y_pred</th>\n",
              "    </tr>\n",
              "  </thead>\n",
              "  <tbody>\n",
              "    <tr>\n",
              "      <th>41</th>\n",
              "      <td>still not solve my problems</td>\n",
              "      <td>service</td>\n",
              "      <td>others</td>\n",
              "    </tr>\n",
              "    <tr>\n",
              "      <th>96</th>\n",
              "      <td>slowly moving to zerodha</td>\n",
              "      <td>others</td>\n",
              "      <td>service</td>\n",
              "    </tr>\n",
              "    <tr>\n",
              "      <th>205</th>\n",
              "      <td>i like to start my trading so please request y...</td>\n",
              "      <td>application</td>\n",
              "      <td>others</td>\n",
              "    </tr>\n",
              "    <tr>\n",
              "      <th>213</th>\n",
              "      <td>i am getting very bad experience with your tra...</td>\n",
              "      <td>application</td>\n",
              "      <td>service</td>\n",
              "    </tr>\n",
              "    <tr>\n",
              "      <th>228</th>\n",
              "      <td>your app is not trustworthy customer care numb...</td>\n",
              "      <td>service</td>\n",
              "      <td>application</td>\n",
              "    </tr>\n",
              "    <tr>\n",
              "      <th>...</th>\n",
              "      <td>...</td>\n",
              "      <td>...</td>\n",
              "      <td>...</td>\n",
              "    </tr>\n",
              "    <tr>\n",
              "      <th>4883</th>\n",
              "      <td>very unprofessional behavior</td>\n",
              "      <td>people</td>\n",
              "      <td>others</td>\n",
              "    </tr>\n",
              "    <tr>\n",
              "      <th>4901</th>\n",
              "      <td>worst ever rd class everything</td>\n",
              "      <td>others</td>\n",
              "      <td>service</td>\n",
              "    </tr>\n",
              "    <tr>\n",
              "      <th>4904</th>\n",
              "      <td>worst organisation simply making money and mor...</td>\n",
              "      <td>product</td>\n",
              "      <td>service</td>\n",
              "    </tr>\n",
              "    <tr>\n",
              "      <th>4905</th>\n",
              "      <td>worst recommendation</td>\n",
              "      <td>research</td>\n",
              "      <td>others</td>\n",
              "    </tr>\n",
              "    <tr>\n",
              "      <th>4916</th>\n",
              "      <td>you have a pathetic response process with an a...</td>\n",
              "      <td>service</td>\n",
              "      <td>application</td>\n",
              "    </tr>\n",
              "  </tbody>\n",
              "</table>\n",
              "<p>310 rows × 3 columns</p>\n",
              "</div>"
            ],
            "application/vnd.google.colaboratory.module+javascript": "\n      import \"https://ssl.gstatic.com/colaboratory/data_table/881c4a0d49046431/data_table.js\";\n\n      const table = window.createDataTable({\n        data: [[\"still not solve my problems\",\n\"service\",\n\"others\"],\n [\"slowly moving to zerodha\",\n\"others\",\n\"service\"],\n [\"i like to start my trading so please request yourself to discard my wife s revathapar account soon\",\n\"application\",\n\"others\"],\n [\"i am getting very bad experience with your tradeing platform\",\n\"application\",\n\"service\"],\n [\"your app is not trustworthy customer care number is not responding worst platform\",\n\"service\",\n\"application\"],\n [\"kotak neo app is pathetic it has stopped working it freeze in market out with no response from service become totally dummy such a useless app you guys have developed learn from zerodha iifl paisa apps\",\n\"service\",\n\"application\"],\n [\"not have the knowledge on subject matter and not able to understand put on hold for hour\",\n\"service\",\n\"people\"],\n [\"howmany times i need to explain my issue\",\n\"others\",\n\"service\"],\n [\"they do not reply after hearing me\",\n\"service\",\n\"others\"],\n [\"i hope a day may b run smoothly\",\n\"others\",\n\"application\"],\n [\"i used to be an active customer of yours but i had to switch my account to another brokerage due to the poor performance of your web trading platform\",\n\"charges\",\n\"application\"],\n [\"reatime data delayed to reflect on dashboard\",\n\"application\",\n\"others\"],\n [\"the dealer did not resolve my queries rather insisted on her own arguments\",\n\"service\",\n\"people\"],\n [\"i do not remember the lady representative name from kotak securities customer but she was very helpful and prompt in taking the action i e putting the dealer calls on do not disturb for me\",\n\"service\",\n\"others\"],\n [\"last one month there is no solution of my query i have been submitted number of time video recording of my issue but didnt solve it till today\",\n\"service\",\n\"application\"],\n [\"third class service my all over loss for only reason your application glitches\",\n\"service\",\n\"application\"],\n [\"no please ask dealer to give reply within reasonable time\",\n\"service\",\n\"people\"],\n [\"customer care support is very bad long time calling but no pickup call after mint wating then my loss but application problems till date not my balance profit credit to my account means may rs profit and opening balance debited fraudulent kotak security\",\n\"people\",\n\"application\"],\n [\"only researched equity stock are correct in researching list of days if i request for any kotak security related inquiry it s unresolved till now for filling income tax\",\n\"application\",\n\"service\"],\n [\"please improve traffic related issue there is lots of things doesnt running well please all is well\",\n\"application\",\n\"service\"],\n [\"your advisers dedicated managers do not have proper knowledge even though they promise to get back after confirming with their seniors never come back with proper answers\",\n\"people\",\n\"service\"],\n [\"thankscalls made to kotak securities number go unanswered due to busy desks no call back also query resolution not satisfactory due to inadequate knowledge of those who attend\",\n\"people\",\n\"service\"],\n [\"misguided and not properly knowledgeable people\",\n\"people\",\n\"service\"],\n [\"your are taking feedback as formality only\",\n\"service\",\n\"others\"],\n [\"it is suggested that team who files the reply does not have application of mind they filed the reply in mails even after receiving mails required data not receuved very poor servive by kotak\",\n\"application\",\n\"service\"],\n [\"option training program needed\",\n\"application\",\n\"others\"],\n [\"research team need more work on accurate call\",\n\"service\",\n\"others\"],\n [\"allotted rm wont respond the calls and lack of knowledge\",\n\"people\",\n\"service\"],\n [\"useless and unfriendly\",\n\"service\",\n\"others\"],\n [\"payout was done on th day\",\n\"process\",\n\"others\"],\n [\"it is very unfortunate that your advisors are really not advisors they are sales people who single mindedly push the products of kotak securities they neither have the patience to understand the query of the customer nor are they trained about the different aspects of trading investing\",\n\"people\",\n\"service\"],\n [\"bad behaviour low quality support compared to other no good time support\",\n\"service\",\n\"people\"],\n [\"lot more is expected of them\",\n\"others\",\n\"service\"],\n [\"reduce charge and improve customer support\",\n\"service\",\n\"charges\"],\n [\"to help for improvement of limit\",\n\"others\",\n\"service\"],\n [\"please update kotak team\",\n\"service\",\n\"others\"],\n [\"try to solve technical issue within hours or before market close so that client manage their position according mkt condition\",\n\"application\",\n\"service\"],\n [\"technical issue very important problem and call centre not good response\",\n\"application\",\n\"service\"],\n [\"please call\",\n\"others\",\n\"service\"],\n [\"make responce on call from our registerd mobile no immediately\",\n\"others\",\n\"service\"],\n [\"no queries have been addressed appropriately so far since i have opened account with kotak\",\n\"application\",\n\"service\"],\n [\"neo platform is pathetic and manager has no clue how to resolve it who is responsible for the loss i incurred relationship manager never pickup the phone and have no empathy to client issue\",\n\"application\",\n\"service\"],\n [\"need more recommendations and details about investments opportunities\",\n\"product\",\n\"service\"],\n [\"all you people are smart enough to deal with your side what the client is facing on daily basis yours employee have not proper knowledge and updation that must if any and they all have show in routine work taking it not problem solving it s culture that is also reflection of upper management what all are doing actually management wants or take like a routine\",\n\"people\",\n\"service\"],\n [\"site go stuck and i lost money i need refund\",\n\"application\",\n\"others\"],\n [\"always facing issues after some daysand always facing running issue for appvery bed experience from kotak security no issue\",\n\"application\",\n\"others\"],\n [\"should improve app rm should be provided to each mamber\",\n\"service\",\n\"application\"],\n [\"it impact me a lot in trading on st dec pls see and resolve this and if possible pls contact me\",\n\"application\",\n\"service\"],\n [\"take responsibility of your system failure due to worst system traders faces losses also mental harassment by kotak security you only send apologize email regarding this close my account as soon as possible\",\n\"application\",\n\"service\"],\n [\"few days back the orders were stuck due to technical glitch so its need improvement and during that time no one gave any information regarding that\",\n\"application\",\n\"service\"],\n [\"your call trade department behave rudely\",\n\"application\",\n\"service\"],\n [\"sahi information nahi dete\",\n\"service\",\n\"others\"],\n [\"i made profit in intraday trading but you disappeared my profit worst brokerage even i had bought free trade youth plan\",\n\"application\",\n\"charges\"],\n [\"long long long waiting not at all satisfied\",\n\"others\",\n\"service\"],\n [\"train people on technical solutions\",\n\"people\",\n\"application\"],\n [\"no everything is alright\",\n\"others\",\n\"service\"],\n [\"trading platform hanging up and getting slower during market hours\",\n\"application\",\n\"service\"],\n [\"please solve my issue frustrated customer\",\n\"others\",\n\"service\"],\n [\"improve clint support\",\n\"service\",\n\"people\"],\n [\"not supported for my account related enquiry bad hepl for me\",\n\"service\",\n\"others\"],\n [\"the staff were not knowledgeable nor was there any intention to sort out the query but to pass the buck the position remains the same\",\n\"people\",\n\"service\"],\n [\"sms on transaction held on the trading day particularly regarding payment to you or to me not conveyed only details of transaction made conveyed by nse through their sms not convey any thing regarding payment due to me or to you once again my humble request to you to convey regarding the overall dues after every trading day or in the next morning as before sms send by you earlier\",\n\"service\",\n\"application\"],\n [\"not getting good support on trading account struggling hard\",\n\"service\",\n\"others\"],\n [\"if mistakenly we open our account with you online then we request you to shift our account to local area branch\",\n\"others\",\n\"service\"],\n [\"the dealers i think do not consider age factor of customers particularly when they are years and above i am not app savvy and therefore face operational failure while using kotak app\",\n\"service\",\n\"application\"],\n [\"provide direct contact information of rm not like press this or that option menu people dont have that much time\",\n\"process\",\n\"service\"],\n [\"very bed exprence\",\n\"others\",\n\"service\"],\n [\"still not solve my problems\",\n\"service\",\n\"others\"],\n [\"slowly moving to zerodha\",\n\"others\",\n\"service\"],\n [\"i like to start my trading so please request yourself to discard my wife s revathapar account soon\",\n\"application\",\n\"others\"],\n [\"i am getting very bad experience with your tradeing platform\",\n\"application\",\n\"service\"],\n [\"your app is not trustworthy customer care number is not responding worst platform\",\n\"service\",\n\"application\"],\n [\"kotak neo app is pathetic it has stopped working it freeze in market out with no response from service become totally dummy such a useless app you guys have developed learn from zerodha iifl paisa apps\",\n\"service\",\n\"application\"],\n [\"not have the knowledge on subject matter and not able to understand put on hold for hour\",\n\"service\",\n\"people\"],\n [\"howmany times i need to explain my issue\",\n\"others\",\n\"service\"],\n [\"they do not reply after hearing me\",\n\"service\",\n\"others\"],\n [\"i hope a day may b run smoothly\",\n\"others\",\n\"application\"],\n [\"i used to be an active customer of yours but i had to switch my account to another brokerage due to the poor performance of your web trading platform\",\n\"charges\",\n\"application\"],\n [\"reatime data delayed to reflect on dashboard\",\n\"application\",\n\"others\"],\n [\"the dealer did not resolve my queries rather insisted on her own arguments\",\n\"service\",\n\"people\"],\n [\"i do not remember the lady representative name from kotak securities customer but she was very helpful and prompt in taking the action i e putting the dealer calls on do not disturb for me\",\n\"service\",\n\"others\"],\n [\"last one month there is no solution of my query i have been submitted number of time video recording of my issue but didnt solve it till today\",\n\"service\",\n\"application\"],\n [\"third class service my all over loss for only reason your application glitches\",\n\"service\",\n\"application\"],\n [\"no please ask dealer to give reply within reasonable time\",\n\"service\",\n\"people\"],\n [\"customer care support is very bad long time calling but no pickup call after mint wating then my loss but application problems till date not my balance profit credit to my account means may rs profit and opening balance debited fraudulent kotak security\",\n\"people\",\n\"application\"],\n [\"the dealer did not resolve my queries rather insisted on her own arguments\",\n\"service\",\n\"people\"],\n [\"i would like to talk to my dealer\",\n\"service\",\n\"others\"],\n [\"need complete bond both bse and nse with ytm and maturity date and interest frequency and coupon rate etc on screen\",\n\"service\",\n\"application\"],\n [\"my complaint was not listened\",\n\"service\",\n\"others\"],\n [\"not interested customer service sitting at call center with zero knowledge and mis selling and wrong information to customer\",\n\"service\",\n\"people\"],\n [\"dealer suggested me wrong information about brokerage\",\n\"charges\",\n\"people\"],\n [\"service manage kunal kartik both r working like government job one common chane not allow in yr mobile app\",\n\"service\",\n\"application\"],\n [\"the customer should be assisted with bank personnel other than online help which is not solving the matter immediately\",\n\"process\",\n\"service\"],\n [\"please solve my quarries without solve my queries mail forwarded me that solved queries\",\n\"service\",\n\"others\"],\n [\"payment issue\",\n\"process\",\n\"application\"],\n [\"i compalnt last time and i give rating in this time give because i compalnt some one call and help to me the brokarge good interday freef margin trading all are good finaly i want happy to trade thank you govind zhwe\",\n\"service\",\n\"application\"],\n [\"kotak sold my stocks with out information very bad\",\n\"application\",\n\"process\"],\n [\"i filled regarding my trading query but after months no proper response by kotak team and still they didnt solved my issue\",\n\"service\",\n\"others\"],\n [\"need some smooth flatform and access easyily\",\n\"application\",\n\"others\"],\n [\"your customer support system dont know the all details they must give true knowledge to their customers they do not know the plans and suggest a plan which not beneficial to the client\",\n\"people\",\n\"application\"],\n [\"stop charging interest on margin\",\n\"charges\",\n\"others\"],\n [\"margin giving and selling immediately is not correct\",\n\"charges\",\n\"service\"],\n [\"delayed or no response is main cause of concern during trading hours or afterwords\",\n\"service\",\n\"application\"],\n [\"my inquiry not sloved\",\n\"application\",\n\"others\"],\n [\"whatsapp representative not able to right answer\",\n\"application\",\n\"service\"],\n [\"my queary no resloved\",\n\"service\",\n\"others\"],\n [\"one most inefficient customer care system the so called representatives seems to be picked up from the street and put on job without providing any trainingthey lack knowledge and don t have solution for any issuethey call back after many dayssystem does not work in the morning and many times during the day\",\n\"people\",\n\"service\"],\n [\"your interest rates are very high and also varies for same product sometimes\",\n\"charges\",\n\"service\"],\n [\"i m not all happy\",\n\"application\",\n\"others\"],\n [\"value your customer\",\n\"others\",\n\"service\"],\n [\"please resolve the problem before asking for feedback there was no interaction with anyone\",\n\"others\",\n\"service\"],\n [\"arrange any time to guide in trading regarding\",\n\"application\",\n\"service\"],\n [\"remove the dealerthey are culprityour trading app is bad which is calibrated to suit stealerinvester money are robbed by your team by means of links with the dealer\",\n\"service\",\n\"application\"],\n [\"when taking money calling me as much as my holding i will only withdraw it after that not trading with kotak\",\n\"service\",\n\"others\"],\n [\"appoint more knowledgeable people make your system fast rather than putting more and more options\",\n\"people\",\n\"service\"],\n [\"i have lost lakhs indian rs due to wrong trade executed by your kottayam kerala branch executive without confirming the trading scrip with me by margin trading i never ever suggest anybody kotak security\",\n\"service\",\n\"application\"],\n [\"not perfect answer in whatsapp chat and not knowledge for whatsapp chat person\",\n\"people\",\n\"service\"],\n [\"queries are not addressed on time bound for every query time take to read the mail is hours which is too late in trading in trading each and every second is important customer care number is waste no one has the knowledge about our concerns totally i would say kotak trading account should not be used and referred to anybody i am going to close the account soon\",\n\"people\",\n\"service\"],\n [\"if someone having account in kotak mahindra bank atleast you shoul give them no brokerage services also statement service is very poor it shoul me more user friendly which show something at the movement and something after some days margin shortfall should be displayed on the home page atleast so that invester will get to know about the shortfall\",\n\"application\",\n\"service\"],\n [\"not receive\",\n\"others\",\n\"service\"],\n [\"now i am tired of writing suggestions and feedbacks as you nothing get out of it\",\n\"others\",\n\"service\"],\n [\"a long pending issue regarding levying of demat charges by kotak mahindra bank they say that this issue may be referred to kotak securities and kotak securities say that this issue may be resolved by the kotak mahindra bank i remained between the two without resolution and for a very long period say about years i visited the local office of kotak securities ltd and met mr abhishek atleast times with no result and this is highly regrettable for such an organisation i understand kotak bank and kotak securities are the sister concerns but there is no coordination and each one is passing the buck kindly improve your complaint redressal system\",\n\"charges\",\n\"service\"],\n [\"people at kotak do not want business hence i am dealing more with hdfc sec inspite of high cost people at senior level have no time or say egostic to name shilpa bachwat she dont care about service though i have invested in sec more than crore including margin and cash and doing intraday transaction of around lacs with hdfc sec inspite of brokerage at your end but at hdfc sec very bad behavior they are spoiling kotak reputation now i am referring motilal oswal instead i had made earlier to kotak lot to say but useless it was good in beginning with shilpa but when she started growing she started ignoring and i think as i know with my personal contact or they say her behavior is very bad for last months or may be overloaded with work and appreciation so might be she is not wrong\",\n\"charges\",\n\"service\"],\n [\"sorry to say they are unable to resolve my problem\",\n\"service\",\n\"people\"],\n [\"very poor credit time policy\",\n\"others\",\n\"application\"],\n [\"unable to resolve my issues\",\n\"service\",\n\"process\"],\n [\"very bad experience not happy\",\n\"service\",\n\"others\"],\n [\"request to reduce roi only allow margin trading and rate of interestbe conveyed t s begit no tsnegi tn gmail com\",\n\"charges\",\n\"service\"],\n [\"i cant book intrday shares please help\",\n\"process\",\n\"application\"],\n [\"it new portal may be a good one but it not at all use friendly ur rm is very slow they require training further recheck with me on my mobile\",\n\"service\",\n\"others\"],\n [\"ur new app kotak fast trade is not working approached rm ms sahni response was very poor asked her to take me on remote via teal viewer any desk or taat track she could not make the arrangement rather insisted me to tel her my problem on phone i d the problem were solvable on phone i may not have insisted for remote contact contacted sohil khan who too could not do amything and i am still facing th problem in ur new app pl do the needful\",\n\"application\",\n\"service\"],\n [\"not proper response\",\n\"service\",\n\"others\"],\n [\"pledgestockpy trading give good but workingdays given not happen moremonthsgive good\",\n\"process\",\n\"others\"],\n [\"process should be easy to update bank account number in dp profile my canara bank account number in dp profile needs to be updated as instead of\",\n\"process\",\n\"others\"],\n [\"whatsapp chat entirely useless call should be arranged to understand and solve clients query secondly margin amount shows up against fund is misguiding and someone will notify it to sebi as its not clients own fund thus impacts investment decisions investment decisions cant be taken on margin amount\",\n\"application\",\n\"service\"],\n [\"people in level are not well knowledge d about the product or the new issue the customer face in addition to this they are providing the wrong information most of the times not at all satisfied with the level customer helpdesk\",\n\"people\",\n\"service\"],\n [\"trade was done as per the details why as a customer i need to pay where in i am not at all at fault\",\n\"application\",\n\"service\"],\n [\"if the persons do not know how to solve the problem please do not keep the account in inactive due to in activation of the trading account i lost almost k during these days i couldnt able to sell the stock through online i uploaded salary slop through app on th july and also sent months account statement to the mail as per process but till now it is not solved\",\n\"process\",\n\"application\"],\n [\"the executives had no clue on why my average price was not showing correct this was pathetic experience\",\n\"service\",\n\"process\"],\n [\"poor people bounded to yern profit only never considering humanityall the best\",\n\"others\",\n\"service\"],\n [\"your app sucks and you are experimenting with it by making clients suffer by not logging the complaints or providing a seamless redressal on email purposely everything is kept on phone calls so as to shadow the issues of your own pathetic learning curve\",\n\"application\",\n\"service\"],\n [\"speaking is no use for everything go to nearest kotak bank for everything in digital world\",\n\"process\",\n\"service\"],\n [\"i interacted on whatsapp two times two issues my matter was not resolved one relation officer reqd for redresal of issues\",\n\"application\",\n\"service\"],\n [\"pls do more better\",\n\"service\",\n\"others\"],\n [\"very seriously not any person cal me months\",\n\"others\",\n\"service\"],\n [\"app speed is not good call center connectivity taking too much time call center assistant not having good knowledge\",\n\"people\",\n\"application\"],\n [\"stock recommendations are provided they are sometimes too good and achieve targets but in long tern investment stocks u dont provide stoploss but u provide targets and investment for months sometime instead of achieve target it become loss please consider to provide some stoploss for long term investment also thank you\",\n\"service\",\n\"application\"],\n [\"if debit shortfall amount time is over but still should give one week more time to return the amount before recovery request huge loose hota hai\",\n\"service\",\n\"application\"],\n [\"in your dmat a c ledger no narration is provided for any debits to blind and fool your dmat a c holders debit amounts against buy orders are far higher than trade value in each trade for example rs is over charged in my a c in just days from to during which duration there was only buy and sell order executed e mail of days ago with all trade details are yet to be acknowledged by your cs team making it a very nasty experience\",\n\"people\",\n\"application\"],\n [\"client should should not be held responsible or penalised for a system technical error regarding margin secondly no trade should be squarred off without taking approval of the buyer further a buyer should be called telephonically to submit the shortfall money before liquidation\",\n\"service\",\n\"application\"],\n [\"d mat charge is not correct product offers for buying are not satisfied\",\n\"charges\",\n\"application\"],\n [\"paying equity brokerage of percent on sub standard platform outages app hanging happens very often\",\n\"charges\",\n\"application\"],\n [\"my more than year of experience with kotak securities is worst so i never suggest anyone to open account with kotak any kind of account i felt this is very easy to open an account with kotak but close or switch the same is not possible by kotak kotak staffs are also not knowledgeable and experience kotak recruited none productive team without regards\",\n\"people\",\n\"service\"],\n [\"no comments\",\n\"service\",\n\"others\"],\n [\"worst ui its just coz options is free i am using it\",\n\"application\",\n\"others\"],\n [\"i came here for intraday free brokerage its been a year other than margin shortage communication penalties i felt nice kotak should inform by message mails for exchange shortfall other brokers do at whatsapp as well i am sharing my case penalties are quite high it shouldnt be dependent on dealers dealer have missed a times kotak should not allow margin shortfall in writing spread in may month expiry i erroneously covered options buying first lacs shortage seen other few brokers dont allow this so kotak should consider i may elaborate further if required further training can be given to employees same might be considered for clients on weekends on voluntary basis real time depth at times is delayed for algo logic based trading kotak should think more promote more thats only future for in i asked however no response by kotak bank securities it takes time to send money even from kotak account just saying icici takes seconds in funds transfer for dealer rita behaviour was very good she was approachable in office ours however taken a time in response i guess she have learnt a bit with my case slight more training might be given to her other employees regarding f o margin requirements shortfall\",\n\"charges\",\n\"service\"],\n [\"very bad experience please refund my all extra charges which you guys received and also give me one proper advisor\",\n\"charges\",\n\"service\"],\n [\"make pdf for products with date of update at top nse digital is from i should not say all this\",\n\"others\",\n\"service\"],\n [\"please change my relationship manager they are not able to reslove my service issue im getting fincial loses\",\n\"service\",\n\"people\"],\n [\"no transparency lot of hidden charges nsdl credited sub divided shares in my demat but kotak did not bother to show availability of those shares in my demat inspite of repeated requests and talk with customer relationship manager it is really disgusting\",\n\"charges\",\n\"service\"],\n [\"educate them better most of them dont know the subject and dont understand the queries\",\n\"service\",\n\"application\"],\n [\"soft were last year se kuchh thik hua hai but aksar position katne me hang kar jata hai softwere site jo bhi plate form hai vah sahi se kam nhi karata hai soft were ya anya koi samsya ane par call nhi uthati hai kafi der bad call aati hai jisme adviser khud ko biji batati hai sabhi customer se ek din dealing nhi hai jyada kam karne vale ko hi proper response milti hai bahut hi bakvas manegement hai\",\n\"service\",\n\"application\"],\n [\"employee need to be trained on processes employee need to execute what they commit\",\n\"process\",\n\"service\"],\n [\"client interest be on priority\",\n\"service\",\n\"others\"],\n [\"position open position average price information is incorrect\",\n\"service\",\n\"application\"],\n [\"this time was quite better as compared to other times\",\n\"application\",\n\"others\"],\n [\"no accountability no ownership\",\n\"service\",\n\"others\"],\n [\"graph not updating\",\n\"application\",\n\"others\"],\n [\"it was my worst ever experience with kotak bank even the branch manager behaved like a dumb which made me move my all funds to other bank\",\n\"others\",\n\"service\"],\n [\"take the feedback in a constructive manner and embrace the change\",\n\"others\",\n\"service\"],\n [\"cannot activate option trading on the app as for upload app say upto mb one page is to mb customer service useless even they cannot activate my options i have given a deadline if cannot activate tan i have no choice but to open account with some other broker your whatsapp virtual robot replies instead of solving asking questions which are not even relevant i spoke to santosh and to my designated rm both were useless your senior managers refuse to come and talk to resolve the issue real depressing for a years old senior citizen\",\n\"service\",\n\"application\"],\n [\"worst advisors i have ever come across\",\n\"service\",\n\"others\"],\n [\"when we place market order previous software was showing how much quantity we can purchase but in this we have to calculate which is not at all practically possible during market hours no contact no for kotak neo customers to clarify the issues nobody knows how to open and activate nest software\",\n\"application\",\n\"service\"],\n [\"your organization wastes time on standard operating procedures and trains only for regular customer service it is unfit for exceptions non standard issues also you seem to be only concerned about your processes and not resolution you have to start listening else i may have to make decisions\",\n\"process\",\n\"service\"],\n [\"trained and knowledgeable personnel are required\",\n\"people\",\n\"service\"],\n [\"we look forward to a solution for the stocks that we hold in dmat account with out any hope for even booking a loss eg lakshmi vilas bank stocks\",\n\"process\",\n\"service\"],\n [\"the appointment of rm should not be for the sake of appointment i have pointed out earlier also that the rm is rarely of any use to the investor and mostly it is very difficult to contact him her it is also seen that at times they are not very knowledgeable and not able to solve the problems\",\n\"people\",\n\"service\"],\n [\"your fee and charges are not competitive at all make access to human interaction for query resolution possible you have gone way too far on machine interactions to save money\",\n\"charges\",\n\"service\"],\n [\"poor service every time complaint but no properly supporte delivery charges high rate and dp charges high rate\",\n\"service\",\n\"charges\"],\n [\"improve trade terminal\",\n\"service\",\n\"application\"],\n [\"first of all client will call any time during officer hours in that time also they are unable spare the time difficult for them to solve clients query secondly they are not knowledge of the kotak trading platform then how solve customer regardsramesh\",\n\"people\",\n\"service\"],\n [\"bahot hang hoti he apki aapp\",\n\"application\",\n\"others\"],\n [\"andrea dzosa was very helpful and eager and tried to help but the system was down when we tried to activate the mutual funds investment on the website and we could not quite r solve it\",\n\"service\",\n\"application\"],\n [\"kindly share dealer contact info so customer can connect immediately with dealer in case of urgent issues knowledge of customer care is worst no fcr first call resolution they have are aware of basic details and everytime has put the customer on hold agents disconnecting calls i had called times for brokerage details on option and futures hope suggestion are worked upon\",\n\"charges\",\n\"service\"],\n [\"provide e mail confirmation on the conclusion of discussion\",\n\"service\",\n\"others\"],\n [\"fuddu app fuddu customer care asked about brokerage they told me interest rate facing issue in checking funds available in account from last days nobody is here to help me really fed up from kotak securities such a fuddu platform to do trade\",\n\"charges\",\n\"application\"],\n [\"no no no no no no no no no no no no no n\",\n\"others\",\n\"service\"],\n [\"for negative balance rate of interest to be reduced\",\n\"charges\",\n\"others\"],\n [\"issue not addressed as promised\",\n\"service\",\n\"others\"],\n [\"absolutely bad this is big mistake that i have choosen kotak securities the most worth thing is rm behaviour rm has no knowledge about solution of any issues his commitment is very bad i will never request my friend or relative to make the business with kotak\",\n\"people\",\n\"service\"],\n [\"detail ledger changed titally annoying to check transaction details only bill no cannot see scrip name etc credit us given in minus all confusing\",\n\"process\",\n\"service\"],\n [\"i inquired about charges and they said we ll call back later and never called back yet\",\n\"charges\",\n\"service\"],\n [\"mene apne bank se kotak security me transfar diya tha uska problam solve ho gaya aabhaar\",\n\"application\",\n\"others\"],\n [\"dont send unnecessary communication\",\n\"service\",\n\"others\"],\n [\"i have migrated to neoon yesterday to free trade but brokerages is charges since morning times i called to customer care no all are hepless\",\n\"charges\",\n\"service\"],\n [\"improve or miss out the opportunity\",\n\"others\",\n\"application\"],\n [\"did not get the referral benefits\",\n\"process\",\n\"service\"],\n [\"my reletioanship manager very bad\",\n\"service\",\n\"others\"],\n [\"worst experience i had ever faced in my whole life\",\n\"others\",\n\"service\"],\n [\"segeral times suggested from last years but no use\",\n\"service\",\n\"others\"],\n [\"you are saying in the title of the email that you are listening in reality you dont i wrote two emails about few entries in my ledger but not received any satisfactory reply in the app the candle chart was not working for more than a week i wrote but no use the app says this service is destroyed several times but no one knows what to do telling since you have asked not hoping for any improvement you are hopeless\",\n\"service\",\n\"application\"],\n [\"third class no one connects\",\n\"others\",\n\"service\"],\n [\"close kotak security if you cant solve your clients problem there are many platform which are solving problems easily\",\n\"service\",\n\"application\"],\n [\"your previous app is good and recent app is is not good and handy your advisor have nothing knowledge when i call for something they says sir confirm karta hu\",\n\"people\",\n\"application\"],\n [\"relationship manger required\",\n\"application\",\n\"others\"],\n [\"some stock not performed\",\n\"service\",\n\"others\"],\n [\"fit deductions are done every year opted only for year only but from last years rs is deducted times without any acceptance need refund for it\",\n\"process\",\n\"service\"],\n [\"too much charges for stocks to bed application\",\n\"charges\",\n\"application\"],\n [\"please assign one person who is proficient in share market and technical and who with a mobile number we can talk to him directly instead of waiting for a call back time is the issue\",\n\"people\",\n\"service\"],\n [\"give me intraday recommendations only\",\n\"product\",\n\"others\"],\n [\"i have referred persons but got benefit of only i have been complaining since months but problem not solved most irritating thing is that same details from fress asked each time and different reasons was given for it\",\n\"process\",\n\"service\"],\n [\"fund transfer issu\",\n\"process\",\n\"others\"],\n [\"it could be better if stocks bough are added to already bought holdings immediately to see averaged price\",\n\"process\",\n\"application\"],\n [\"i never spoke to anyone today or recently why did i receive this message\",\n\"others\",\n\"service\"],\n [\"no i think everything is my knowledgeble is ok and today is my first day in kotak security intraday trading ok\",\n\"people\",\n\"application\"],\n [\"worst case scenario worst experience with you i will shift my investments to some other vendor i file complaint to nse and sebi against you\",\n\"others\",\n\"service\"],\n [\"trade amount is not showing clearly how much cash available for trade and from what point kotak start charging the interest rates\",\n\"charges\",\n\"application\"],\n [\"i applied for deactivation of my account but your team did not do this\",\n\"application\",\n\"process\"],\n [\"not good only for profit dnt recommend your loss n guide u properly\",\n\"product\",\n\"service\"],\n [\"very very poor customer care and technical team my trading issue not resolved even after days\",\n\"service\",\n\"application\"],\n [\"very poor response of pending enquiries very late disposal\",\n\"application\",\n\"service\"],\n [\"absolutely horrible experience everytime i talk to your organisation it feels like you are there only to sell even if it means misselling\",\n\"others\",\n\"application\"],\n [\"why do you people waste your and my time on this game instead of improving your feedback mechanism i had maintained some balance in my trading account for the monthly charges but your company returns it to me making the balance as i have deposited again and again you return it i spoke to a person who called and said it might be a rule he was from sales i wrote to kotaks as well but they just dont bother and you people ask me for feedback\",\n\"charges\",\n\"service\"],\n [\"very rude staff no knowledge of subject having no solution only trying to forward the complaint or queries staff picked the call after dialing many times after that hearing your queries forward the call to his senior putting customer on hold surprisingly nobody respond even for hour worst service ever\",\n\"people\",\n\"service\"],\n [\"customer service representative should have proper knowledge of product they did not understand our query\",\n\"service\",\n\"people\"],\n [\"i am calling regular from may to till date not clarify on my may profit not credit to my trading account\",\n\"service\",\n\"others\"],\n [\"not solve my query\",\n\"service\",\n\"others\"],\n [\"my account have some debit balance but share was pledged and today without any call dis porportionate shares sold by the the broker wihtout my knowledge did not bothered to give a even call may be think to switch the account from kotak security\",\n\"people\",\n\"service\"],\n [\"your call is on neo is late due to which any body cannot catch the trend\",\n\"application\",\n\"service\"],\n [\"worst experience\",\n\"others\",\n\"service\"],\n [\"advisory for movment stock\",\n\"people\",\n\"others\"],\n [\"provide your suggestion in the website dont disturb your customers had asked report to fill itr till now didnt receive it\",\n\"application\",\n\"service\"],\n [\"what i questioned you that was was not solved\",\n\"service\",\n\"others\"],\n [\"i am trying to solve a small issue of converting my neo account to kst from last months several times i have been talk to customer care but still not my issue is not solved frustrating experience with kotak securities\",\n\"application\",\n\"service\"],\n [\"can update ledger by evening pm everyday as other brokers are doing\",\n\"process\",\n\"others\"],\n [\"my relationship manager was not at all customer centric process to update the address details are also not clear and it doesn t work when offline kyc file is uploaded always throws the error invalid file\",\n\"process\",\n\"application\"],\n [\"he was hardly interested in knowing my requirement\",\n\"others\",\n\"service\"],\n [\"there shall be rules for option price movement if a client hedges any trade with option buying then at any point of time clients loss shall be limited to the price difference between future buy sell price and option strike price plus option premium that guarantee shall be given by nse bse sebi otherwise one day you operate can make extreme movement in future and no movement in option price and square off client margin\",\n\"charges\",\n\"application\"],\n [\"not good service advisor no knowledge\",\n\"people\",\n\"service\"],\n [\"very slow updation of rates in expiry days i want to quit this platform\",\n\"service\",\n\"application\"],\n [\"charges are high app is not slick\",\n\"charges\",\n\"application\"],\n [\"i am not happy with kotak sec\",\n\"application\",\n\"service\"],\n [\"there are so many trading platform and tools but they are not having complete solution they are not synchronized with each other please remove outdated trading tools it will be great help to your customers thanks\",\n\"application\",\n\"service\"],\n [\"pls pls try to give more recomendations in f o segment specially for nifty and nifty bank one of my friend is having account with angel one and last month he earned cool lakhs on investment of rs lakhs it must be known to you that in last few months angel one has grown mainly because of f o business and you are lacking you have such a good team hats off to mr sahaj aggarwal and mr shrikant chauhan but on ground recos are missing please look in to it and i am confident people will flock ks\",\n\"product\",\n\"service\"],\n [\"is very high it should be negative as ur staff is torture with their lack of knowledge about your own processes and systems\",\n\"people\",\n\"service\"],\n [\"active bse fo\",\n\"product\",\n\"others\"],\n [\"apne employees ko bat karne ka tarika pahle samjhaye ki kaise bat kiya jata hai\",\n\"people\",\n\"others\"],\n [\"cash projections should be reflected funds withdrawn from trading account should be immediately credited to bank account at least in the case of linked kotak bank account\",\n\"application\",\n\"others\"],\n [\"completely wastage of time with kotak not recommended\",\n\"others\",\n\"service\"],\n [\"dedicated rm should have more experience for resolving general queries in my case even a senior could not resolve the query in one day even whatever they demanded i provided\",\n\"people\",\n\"service\"],\n [\"every year i am paying annual brokerage on fit and the money gets credited back to my account and the proofs were giveninspite of this i get answer its not reversable not refundable alsoanother thing is i had never requested for this plan it just got debited from my account and do not appreciate any debits without customers confirmation\",\n\"application\",\n\"service\"],\n [\"first of all whatsapp assistant not support in my case please check it\",\n\"application\",\n\"process\"],\n [\"high brokarge in delivery\",\n\"charges\",\n\"others\"],\n [\"hope for the best i love kotak bank\",\n\"others\",\n\"service\"],\n [\"i am so happy but i have not money\",\n\"application\",\n\"others\"],\n [\"i need someone on the higher level with some knowledge to call or would like a meet with if yr relations manager in person thank you\",\n\"people\",\n\"service\"],\n [\"i requested a consolidated report on charges and levies for the previous financial year however i was not provided with the same\",\n\"charges\",\n\"service\"],\n [\"it seems like kotak securities is playing some foul game and trying to loot their customers by charging interest i raised issue of unpledging in nd week of may which is not resolved yet i do have sufficient fund in my trading account still receiving message from customer care that they are not able to unpledge due to insufficient funds none of your agents are able to tell me how much fund is required i am highly disappointed with the pathetic service you are providing i will soon raise alarm with sebi for the malpractices executed by kotak securities\",\n\"application\",\n\"service\"],\n [\"its very unfair to point out only dealer problem kotak securities is very back dated not client friendly please try to value add in various aspect knowledge technical try to reduce brokerage burden dont change dealer frequently bcoz clint dealer relationship make more confidence must improve technology part of your platform technology glitches make us most irritation\",\n\"application\",\n\"people\"],\n [\"kindly keep the mails specific and point to point\",\n\"others\",\n\"service\"],\n [\"my issues previously and again now is not resolved\",\n\"others\",\n\"service\"],\n [\"my problem is unsolved\",\n\"others\",\n\"service\"],\n [\"my query regarding my subject is not resolved while i call care two time\",\n\"others\",\n\"service\"],\n [\"my query regarding my subject is not resolved while i call care two time\",\n\"others\",\n\"service\"],\n [\"no feedback\",\n\"others\",\n\"service\"],\n [\"no interaction in recent times\",\n\"others\",\n\"service\"],\n [\"no one called me cant give feedback for nothing\",\n\"others\",\n\"service\"],\n [\"no one giving concrete advice\",\n\"others\",\n\"service\"],\n [\"no as it is of no use no action\",\n\"others\",\n\"service\"],\n [\"nobody contacted or reached me not sure how i receiving feedback form the point of contact to my account is not at all responsive with my emails and not able to reach him its just dummy person just for the sake shown in my account\",\n\"others\",\n\"service\"],\n [\"nobody takes care we group of want to leave kotak no one is helpful see zerodha jmf etc please take your team to look after small investors thanks for asking\",\n\"others\",\n\"service\"],\n [\"not getting responses from mapped rm\",\n\"application\",\n\"service\"],\n [\"not much interaction response\",\n\"others\",\n\"service\"],\n [\"not my issue to give suggestions to the company\",\n\"others\",\n\"service\"],\n [\"pl how long customer associate with kotak and understand issue and try to resolvethanks\",\n\"others\",\n\"service\"],\n [\"please dont be unethical earn ethically\",\n\"others\",\n\"application\"],\n [\"please provide commodities option chain\",\n\"product\",\n\"application\"],\n [\"please provide expiry day trade for below pise order placing in am\",\n\"product\",\n\"application\"],\n [\"please state me know the monthlydp charge briefly\",\n\"charges\",\n\"application\"],\n [\"please stop sending messages for feedback every day\",\n\"service\",\n\"others\"],\n [\"problem not solve during trading hours\",\n\"others\",\n\"application\"],\n [\"problem not solve during trading hours\",\n\"others\",\n\"application\"],\n [\"proper information\",\n\"others\",\n\"service\"],\n [\"proper solution is not provided\",\n\"others\",\n\"application\"],\n [\"reatime data delayed to reflect on dashboard\",\n\"application\",\n\"others\"],\n [\"relationship manager not cooperating\",\n\"people\",\n\"service\"],\n [\"relationship manager should be responsible to coordinate with back end team about pending issues but they are just working like couriers back end team does not appreciate the real issues raised in the queries after passage of time they take it granted that the issues have no longer meaningful offline trade should be confirmed during business hours\",\n\"application\",\n\"service\"],\n [\"repeated calls for credit card is frustrating\",\n\"others\",\n\"service\"],\n [\"requesting kill switch button feature in neo since last months as it will help to control overtrading in lots of traders already two broker have implemented that and gained alot of account just with that kill switch traders control feature when you guys do\",\n\"product\",\n\"application\"],\n [\"rm not providing proper knowledge about app functions\",\n\"application\",\n\"service\"],\n [\"rmo have very less knowledge regrading demat account simple query was not solved by him also still waiting for my email query\",\n\"people\",\n\"service\"],\n [\"some how i am not happy i lost so much money\",\n\"application\",\n\"service\"],\n [\"still i cant see ipo and goverment bonds bids anywhere in your platform\",\n\"product\",\n\"application\"],\n [\"teamthis is time pass or you provide better in futurehope you maintain value of brand kotak all the best\",\n\"others\",\n\"application\"],\n [\"the auto speaker told that the call would be connected to a person for further guidance but it was disconnected\",\n\"service\",\n\"process\"],\n [\"the client relationship manager needs to be more sensitive to clients requests\",\n\"people\",\n\"service\"],\n [\"the employees are not contacting for any issue raised by me even mails are not answered or not read properly by any executives reading the issue understanding the issue are the main reasons not for you but every on line application\",\n\"application\",\n\"service\"],\n [\"the executives does not provide proper response to the customer\",\n\"people\",\n\"service\"],\n [\"the query has not been addressed as yet\",\n\"others\",\n\"service\"],\n [\"tremendous improvement needed kotak is not known for such unsatisfactory treatment\",\n\"others\",\n\"service\"],\n [\"u team not respond any problem\",\n\"service\",\n\"others\"],\n [\"unsatisfactory experience in general\",\n\"others\",\n\"service\"],\n [\"very bed called\",\n\"others\",\n\"service\"],\n [\"very laid back approach\",\n\"application\",\n\"others\"],\n [\"very unhappy with dealer\",\n\"application\",\n\"service\"],\n [\"very unprofessional behavior\",\n\"people\",\n\"others\"],\n [\"worst ever rd class everything\",\n\"others\",\n\"service\"],\n [\"worst organisation simply making money and moroever the worst part is there mtf facility\",\n\"product\",\n\"service\"],\n [\"worst recommendation\",\n\"research\",\n\"others\"],\n [\"you have a pathetic response process with an automated email coming everyday that the query resolution is still pending and you will revet\",\n\"service\",\n\"application\"]],\n        columns: [[\"string\", \"x\"], [\"string\", \"y\"], [\"string\", \"y_pred\"]],\n        columnOptions: [],\n        rowsPerPage: 10,\n        helpUrl: \"https://colab.research.google.com/notebooks/data_table.ipynb\",\n        suppressOutputScrolling: true,\n        minimumWidth: undefined,\n      });\n      \n      function appendQuickchartButton(parentElement) {\n        let quickchartButtonContainerElement = document.createElement('div');\n        quickchartButtonContainerElement.innerHTML = `\n    <div id=\"df-9b83e0d6-31bd-4997-bd6e-aa4830fe7b5e\">\n      <button class=\"colab-df-quickchart\" onclick=\"quickchart('df-9b83e0d6-31bd-4997-bd6e-aa4830fe7b5e')\"\n              title=\"Suggest charts.\"\n              style=\"display:none;\">\n\n<svg xmlns=\"http://www.w3.org/2000/svg\" height=\"24px\"viewBox=\"0 0 24 24\"\n     width=\"24px\">\n    <g>\n        <path d=\"M19 3H5c-1.1 0-2 .9-2 2v14c0 1.1.9 2 2 2h14c1.1 0 2-.9 2-2V5c0-1.1-.9-2-2-2zM9 17H7v-7h2v7zm4 0h-2V7h2v10zm4 0h-2v-4h2v4z\"/>\n    </g>\n</svg>\n      </button>\n    </div>\n\n<style>\n  .colab-df-quickchart {\n    background-color: #E8F0FE;\n    border: none;\n    border-radius: 50%;\n    cursor: pointer;\n    display: none;\n    fill: #1967D2;\n    height: 32px;\n    padding: 0 0 0 0;\n    width: 32px;\n  }\n\n  .colab-df-quickchart:hover {\n    background-color: #E2EBFA;\n    box-shadow: 0px 1px 2px rgba(60, 64, 67, 0.3), 0px 1px 3px 1px rgba(60, 64, 67, 0.15);\n    fill: #174EA6;\n  }\n\n  [theme=dark] .colab-df-quickchart {\n    background-color: #3B4455;\n    fill: #D2E3FC;\n  }\n\n  [theme=dark] .colab-df-quickchart:hover {\n    background-color: #434B5C;\n    box-shadow: 0px 1px 3px 1px rgba(0, 0, 0, 0.15);\n    filter: drop-shadow(0px 1px 2px rgba(0, 0, 0, 0.3));\n    fill: #FFFFFF;\n  }\n</style>\n\n    <script>\n      async function quickchart(key) {\n        const containerElement = document.querySelector('#' + key);\n        const charts = await google.colab.kernel.invokeFunction(\n            'suggestCharts', [key], {});\n      }\n    </script>\n`;\n        parentElement.appendChild(quickchartButtonContainerElement);\n        \nfunction displayQuickchartButton(domScope) {\n  let quickchartButtonEl =\n    domScope.querySelector('#df-9b83e0d6-31bd-4997-bd6e-aa4830fe7b5e button.colab-df-quickchart');\n  quickchartButtonEl.style.display =\n    google.colab.kernel.accessAllowed ? 'block' : 'none';\n}\n\n        displayQuickchartButton(parentElement);\n      }\n    ",
            "text/plain": [
              "<google.colab.data_table.DataTable object>"
            ]
          },
          "metadata": {},
          "execution_count": 39
        }
      ]
    },
    {
      "cell_type": "code",
      "source": [
        "# Testing on Apr May data"
      ],
      "metadata": {
        "id": "Z0oRV9tu2zsX"
      },
      "execution_count": 40,
      "outputs": []
    },
    {
      "cell_type": "code",
      "source": [
        "url = \"\"\"https://raw.githubusercontent.com/Brijeshtanwar/Topic-Modeling/main/may_jun_jul_nps.csv\"\"\"\n",
        "test = pd.read_csv(url, on_bad_lines='skip')"
      ],
      "metadata": {
        "id": "AuQ7dHts_d6m"
      },
      "execution_count": 46,
      "outputs": []
    },
    {
      "cell_type": "code",
      "source": [
        "test.head()"
      ],
      "metadata": {
        "id": "FCFPrpXebE0d",
        "outputId": "24a63c34-fedc-4bc1-b4fa-210612cd3f8c",
        "colab": {
          "base_uri": "https://localhost:8080/",
          "height": 206
        }
      },
      "execution_count": 47,
      "outputs": [
        {
          "output_type": "execute_result",
          "data": {
            "text/plain": [
              "        TYPE  MONTH  RATING  \\\n",
              "0  Detractor  APRIL       0   \n",
              "1    Passive    MAY       8   \n",
              "2  Detractor    MAY       4   \n",
              "3  Detractor    MAY       0   \n",
              "4  Detractor    MAY       0   \n",
              "\n",
              "                                    COMMENT-CUSTOMER            VOC  \n",
              "0  0 is very high,  it should be negative as ur s...         People  \n",
              "1  1. Website is quite slow- must be improved.  2...        WEB/APP  \n",
              "2  1.Order execution refresh rate is slow. Improv...        WEB/APP  \n",
              "3                                         3 rd clasd  not specified  \n",
              "4                                         3 rd class  not specified  "
            ],
            "text/html": [
              "\n",
              "  <div id=\"df-2ec53902-4627-4907-81a5-11dfe89b8db9\">\n",
              "    <div class=\"colab-df-container\">\n",
              "      <div>\n",
              "<style scoped>\n",
              "    .dataframe tbody tr th:only-of-type {\n",
              "        vertical-align: middle;\n",
              "    }\n",
              "\n",
              "    .dataframe tbody tr th {\n",
              "        vertical-align: top;\n",
              "    }\n",
              "\n",
              "    .dataframe thead th {\n",
              "        text-align: right;\n",
              "    }\n",
              "</style>\n",
              "<table border=\"1\" class=\"dataframe\">\n",
              "  <thead>\n",
              "    <tr style=\"text-align: right;\">\n",
              "      <th></th>\n",
              "      <th>TYPE</th>\n",
              "      <th>MONTH</th>\n",
              "      <th>RATING</th>\n",
              "      <th>COMMENT-CUSTOMER</th>\n",
              "      <th>VOC</th>\n",
              "    </tr>\n",
              "  </thead>\n",
              "  <tbody>\n",
              "    <tr>\n",
              "      <th>0</th>\n",
              "      <td>Detractor</td>\n",
              "      <td>APRIL</td>\n",
              "      <td>0</td>\n",
              "      <td>0 is very high,  it should be negative as ur s...</td>\n",
              "      <td>People</td>\n",
              "    </tr>\n",
              "    <tr>\n",
              "      <th>1</th>\n",
              "      <td>Passive</td>\n",
              "      <td>MAY</td>\n",
              "      <td>8</td>\n",
              "      <td>1. Website is quite slow- must be improved.  2...</td>\n",
              "      <td>WEB/APP</td>\n",
              "    </tr>\n",
              "    <tr>\n",
              "      <th>2</th>\n",
              "      <td>Detractor</td>\n",
              "      <td>MAY</td>\n",
              "      <td>4</td>\n",
              "      <td>1.Order execution refresh rate is slow. Improv...</td>\n",
              "      <td>WEB/APP</td>\n",
              "    </tr>\n",
              "    <tr>\n",
              "      <th>3</th>\n",
              "      <td>Detractor</td>\n",
              "      <td>MAY</td>\n",
              "      <td>0</td>\n",
              "      <td>3 rd clasd</td>\n",
              "      <td>not specified</td>\n",
              "    </tr>\n",
              "    <tr>\n",
              "      <th>4</th>\n",
              "      <td>Detractor</td>\n",
              "      <td>MAY</td>\n",
              "      <td>0</td>\n",
              "      <td>3 rd class</td>\n",
              "      <td>not specified</td>\n",
              "    </tr>\n",
              "  </tbody>\n",
              "</table>\n",
              "</div>\n",
              "      <button class=\"colab-df-convert\" onclick=\"convertToInteractive('df-2ec53902-4627-4907-81a5-11dfe89b8db9')\"\n",
              "              title=\"Convert this dataframe to an interactive table.\"\n",
              "              style=\"display:none;\">\n",
              "        \n",
              "  <svg xmlns=\"http://www.w3.org/2000/svg\" height=\"24px\"viewBox=\"0 0 24 24\"\n",
              "       width=\"24px\">\n",
              "    <path d=\"M0 0h24v24H0V0z\" fill=\"none\"/>\n",
              "    <path d=\"M18.56 5.44l.94 2.06.94-2.06 2.06-.94-2.06-.94-.94-2.06-.94 2.06-2.06.94zm-11 1L8.5 8.5l.94-2.06 2.06-.94-2.06-.94L8.5 2.5l-.94 2.06-2.06.94zm10 10l.94 2.06.94-2.06 2.06-.94-2.06-.94-.94-2.06-.94 2.06-2.06.94z\"/><path d=\"M17.41 7.96l-1.37-1.37c-.4-.4-.92-.59-1.43-.59-.52 0-1.04.2-1.43.59L10.3 9.45l-7.72 7.72c-.78.78-.78 2.05 0 2.83L4 21.41c.39.39.9.59 1.41.59.51 0 1.02-.2 1.41-.59l7.78-7.78 2.81-2.81c.8-.78.8-2.07 0-2.86zM5.41 20L4 18.59l7.72-7.72 1.47 1.35L5.41 20z\"/>\n",
              "  </svg>\n",
              "      </button>\n",
              "      \n",
              "  <style>\n",
              "    .colab-df-container {\n",
              "      display:flex;\n",
              "      flex-wrap:wrap;\n",
              "      gap: 12px;\n",
              "    }\n",
              "\n",
              "    .colab-df-convert {\n",
              "      background-color: #E8F0FE;\n",
              "      border: none;\n",
              "      border-radius: 50%;\n",
              "      cursor: pointer;\n",
              "      display: none;\n",
              "      fill: #1967D2;\n",
              "      height: 32px;\n",
              "      padding: 0 0 0 0;\n",
              "      width: 32px;\n",
              "    }\n",
              "\n",
              "    .colab-df-convert:hover {\n",
              "      background-color: #E2EBFA;\n",
              "      box-shadow: 0px 1px 2px rgba(60, 64, 67, 0.3), 0px 1px 3px 1px rgba(60, 64, 67, 0.15);\n",
              "      fill: #174EA6;\n",
              "    }\n",
              "\n",
              "    [theme=dark] .colab-df-convert {\n",
              "      background-color: #3B4455;\n",
              "      fill: #D2E3FC;\n",
              "    }\n",
              "\n",
              "    [theme=dark] .colab-df-convert:hover {\n",
              "      background-color: #434B5C;\n",
              "      box-shadow: 0px 1px 3px 1px rgba(0, 0, 0, 0.15);\n",
              "      filter: drop-shadow(0px 1px 2px rgba(0, 0, 0, 0.3));\n",
              "      fill: #FFFFFF;\n",
              "    }\n",
              "  </style>\n",
              "\n",
              "      <script>\n",
              "        const buttonEl =\n",
              "          document.querySelector('#df-2ec53902-4627-4907-81a5-11dfe89b8db9 button.colab-df-convert');\n",
              "        buttonEl.style.display =\n",
              "          google.colab.kernel.accessAllowed ? 'block' : 'none';\n",
              "\n",
              "        async function convertToInteractive(key) {\n",
              "          const element = document.querySelector('#df-2ec53902-4627-4907-81a5-11dfe89b8db9');\n",
              "          const dataTable =\n",
              "            await google.colab.kernel.invokeFunction('convertToInteractive',\n",
              "                                                     [key], {});\n",
              "          if (!dataTable) return;\n",
              "\n",
              "          const docLinkHtml = 'Like what you see? Visit the ' +\n",
              "            '<a target=\"_blank\" href=https://colab.research.google.com/notebooks/data_table.ipynb>data table notebook</a>'\n",
              "            + ' to learn more about interactive tables.';\n",
              "          element.innerHTML = '';\n",
              "          dataTable['output_type'] = 'display_data';\n",
              "          await google.colab.output.renderOutput(dataTable, element);\n",
              "          const docLink = document.createElement('div');\n",
              "          docLink.innerHTML = docLinkHtml;\n",
              "          element.appendChild(docLink);\n",
              "        }\n",
              "      </script>\n",
              "    </div>\n",
              "  </div>\n",
              "  "
            ]
          },
          "metadata": {},
          "execution_count": 47
        }
      ]
    },
    {
      "cell_type": "code",
      "source": [
        "test.rename(columns ={'COMMENT-CUSTOMER':'comment', 'VOC': 'topic'}, inplace=True)"
      ],
      "metadata": {
        "id": "UY8SU0oIgVZs"
      },
      "execution_count": 49,
      "outputs": []
    },
    {
      "cell_type": "code",
      "source": [
        "test.drop_duplicates(inplace=True)"
      ],
      "metadata": {
        "id": "tX5FNpSbblhf"
      },
      "execution_count": 50,
      "outputs": []
    },
    {
      "cell_type": "code",
      "source": [
        "test['topic'].unique()"
      ],
      "metadata": {
        "colab": {
          "base_uri": "https://localhost:8080/"
        },
        "id": "1Lb-Egg9iCui",
        "outputId": "ca763ceb-bad6-4e76-c784-f45c9edde069"
      },
      "execution_count": 51,
      "outputs": [
        {
          "output_type": "execute_result",
          "data": {
            "text/plain": [
              "array(['People', 'WEB/APP', 'not specified', 'Charges', 'product',\n",
              "       'Service', 'process', 'others', 'reasearch', 'OTHERS',\n",
              "       'Not Specified', 'Web/App', 'App/Product/Service', 'Process',\n",
              "       'Product', 'Other', 'Research'], dtype=object)"
            ]
          },
          "metadata": {},
          "execution_count": 51
        }
      ]
    },
    {
      "cell_type": "code",
      "source": [
        "topic_dic = {'WEB/APP': 'application',  'Charges': 'charges', 'Service':'service'\n",
        ", 'OTHERS':'others', 'not specified':'others', 'process':'process', 'People':'people', 'product':'product', 'reasearch':'research'}"
      ],
      "metadata": {
        "id": "gMnK9GKHgWIa"
      },
      "execution_count": null,
      "outputs": []
    },
    {
      "cell_type": "code",
      "source": [
        "test['topic'] = test['topic'].map(topic_dic)"
      ],
      "metadata": {
        "id": "Nbumw6kQieET"
      },
      "execution_count": null,
      "outputs": []
    },
    {
      "cell_type": "code",
      "source": [
        "test.head()"
      ],
      "metadata": {
        "colab": {
          "base_uri": "https://localhost:8080/",
          "height": 206
        },
        "id": "tAxa712pihz9",
        "outputId": "f56e6b4e-bfd5-4ed8-e56a-22efe79cfb37"
      },
      "execution_count": null,
      "outputs": [
        {
          "output_type": "execute_result",
          "data": {
            "text/plain": [
              "                                             comment        topic\n",
              "0  0 is very high,  it should be negative as ur s...       people\n",
              "1  1. Website is quite slow- must be improved.  2...  application\n",
              "2  1.Order execution refresh rate is slow. Improv...  application\n",
              "3                                         3 rd clasd       others\n",
              "4                                         3 rd class       others"
            ],
            "text/html": [
              "\n",
              "  <div id=\"df-3e64ae4b-ec0f-4e7b-bc09-cb9409189bae\">\n",
              "    <div class=\"colab-df-container\">\n",
              "      <div>\n",
              "<style scoped>\n",
              "    .dataframe tbody tr th:only-of-type {\n",
              "        vertical-align: middle;\n",
              "    }\n",
              "\n",
              "    .dataframe tbody tr th {\n",
              "        vertical-align: top;\n",
              "    }\n",
              "\n",
              "    .dataframe thead th {\n",
              "        text-align: right;\n",
              "    }\n",
              "</style>\n",
              "<table border=\"1\" class=\"dataframe\">\n",
              "  <thead>\n",
              "    <tr style=\"text-align: right;\">\n",
              "      <th></th>\n",
              "      <th>comment</th>\n",
              "      <th>topic</th>\n",
              "    </tr>\n",
              "  </thead>\n",
              "  <tbody>\n",
              "    <tr>\n",
              "      <th>0</th>\n",
              "      <td>0 is very high,  it should be negative as ur s...</td>\n",
              "      <td>people</td>\n",
              "    </tr>\n",
              "    <tr>\n",
              "      <th>1</th>\n",
              "      <td>1. Website is quite slow- must be improved.  2...</td>\n",
              "      <td>application</td>\n",
              "    </tr>\n",
              "    <tr>\n",
              "      <th>2</th>\n",
              "      <td>1.Order execution refresh rate is slow. Improv...</td>\n",
              "      <td>application</td>\n",
              "    </tr>\n",
              "    <tr>\n",
              "      <th>3</th>\n",
              "      <td>3 rd clasd</td>\n",
              "      <td>others</td>\n",
              "    </tr>\n",
              "    <tr>\n",
              "      <th>4</th>\n",
              "      <td>3 rd class</td>\n",
              "      <td>others</td>\n",
              "    </tr>\n",
              "  </tbody>\n",
              "</table>\n",
              "</div>\n",
              "      <button class=\"colab-df-convert\" onclick=\"convertToInteractive('df-3e64ae4b-ec0f-4e7b-bc09-cb9409189bae')\"\n",
              "              title=\"Convert this dataframe to an interactive table.\"\n",
              "              style=\"display:none;\">\n",
              "        \n",
              "  <svg xmlns=\"http://www.w3.org/2000/svg\" height=\"24px\"viewBox=\"0 0 24 24\"\n",
              "       width=\"24px\">\n",
              "    <path d=\"M0 0h24v24H0V0z\" fill=\"none\"/>\n",
              "    <path d=\"M18.56 5.44l.94 2.06.94-2.06 2.06-.94-2.06-.94-.94-2.06-.94 2.06-2.06.94zm-11 1L8.5 8.5l.94-2.06 2.06-.94-2.06-.94L8.5 2.5l-.94 2.06-2.06.94zm10 10l.94 2.06.94-2.06 2.06-.94-2.06-.94-.94-2.06-.94 2.06-2.06.94z\"/><path d=\"M17.41 7.96l-1.37-1.37c-.4-.4-.92-.59-1.43-.59-.52 0-1.04.2-1.43.59L10.3 9.45l-7.72 7.72c-.78.78-.78 2.05 0 2.83L4 21.41c.39.39.9.59 1.41.59.51 0 1.02-.2 1.41-.59l7.78-7.78 2.81-2.81c.8-.78.8-2.07 0-2.86zM5.41 20L4 18.59l7.72-7.72 1.47 1.35L5.41 20z\"/>\n",
              "  </svg>\n",
              "      </button>\n",
              "      \n",
              "  <style>\n",
              "    .colab-df-container {\n",
              "      display:flex;\n",
              "      flex-wrap:wrap;\n",
              "      gap: 12px;\n",
              "    }\n",
              "\n",
              "    .colab-df-convert {\n",
              "      background-color: #E8F0FE;\n",
              "      border: none;\n",
              "      border-radius: 50%;\n",
              "      cursor: pointer;\n",
              "      display: none;\n",
              "      fill: #1967D2;\n",
              "      height: 32px;\n",
              "      padding: 0 0 0 0;\n",
              "      width: 32px;\n",
              "    }\n",
              "\n",
              "    .colab-df-convert:hover {\n",
              "      background-color: #E2EBFA;\n",
              "      box-shadow: 0px 1px 2px rgba(60, 64, 67, 0.3), 0px 1px 3px 1px rgba(60, 64, 67, 0.15);\n",
              "      fill: #174EA6;\n",
              "    }\n",
              "\n",
              "    [theme=dark] .colab-df-convert {\n",
              "      background-color: #3B4455;\n",
              "      fill: #D2E3FC;\n",
              "    }\n",
              "\n",
              "    [theme=dark] .colab-df-convert:hover {\n",
              "      background-color: #434B5C;\n",
              "      box-shadow: 0px 1px 3px 1px rgba(0, 0, 0, 0.15);\n",
              "      filter: drop-shadow(0px 1px 2px rgba(0, 0, 0, 0.3));\n",
              "      fill: #FFFFFF;\n",
              "    }\n",
              "  </style>\n",
              "\n",
              "      <script>\n",
              "        const buttonEl =\n",
              "          document.querySelector('#df-3e64ae4b-ec0f-4e7b-bc09-cb9409189bae button.colab-df-convert');\n",
              "        buttonEl.style.display =\n",
              "          google.colab.kernel.accessAllowed ? 'block' : 'none';\n",
              "\n",
              "        async function convertToInteractive(key) {\n",
              "          const element = document.querySelector('#df-3e64ae4b-ec0f-4e7b-bc09-cb9409189bae');\n",
              "          const dataTable =\n",
              "            await google.colab.kernel.invokeFunction('convertToInteractive',\n",
              "                                                     [key], {});\n",
              "          if (!dataTable) return;\n",
              "\n",
              "          const docLinkHtml = 'Like what you see? Visit the ' +\n",
              "            '<a target=\"_blank\" href=https://colab.research.google.com/notebooks/data_table.ipynb>data table notebook</a>'\n",
              "            + ' to learn more about interactive tables.';\n",
              "          element.innerHTML = '';\n",
              "          dataTable['output_type'] = 'display_data';\n",
              "          await google.colab.output.renderOutput(dataTable, element);\n",
              "          const docLink = document.createElement('div');\n",
              "          docLink.innerHTML = docLinkHtml;\n",
              "          element.appendChild(docLink);\n",
              "        }\n",
              "      </script>\n",
              "    </div>\n",
              "  </div>\n",
              "  "
            ]
          },
          "metadata": {},
          "execution_count": 164
        }
      ]
    },
    {
      "cell_type": "code",
      "source": [
        "test[\"x\"] = test[\"comment\"].apply(lambda x: preprocess_text(x, flg_stemm=False, flg_lemm=False, lst_stopwords=lst_stopwords))\n",
        "# df['x'] = df['comment']\n",
        "test['y'] = test['topic']\n",
        "test.head(10)"
      ],
      "metadata": {
        "colab": {
          "base_uri": "https://localhost:8080/",
          "height": 511
        },
        "id": "-yQCCYixijkR",
        "outputId": "7e99aa6e-eab6-46f1-e2c9-b93d3847f55c"
      },
      "execution_count": 52,
      "outputs": [
        {
          "output_type": "execute_result",
          "data": {
            "text/plain": [
              "        TYPE  MONTH  RATING  \\\n",
              "0  Detractor  APRIL       0   \n",
              "1    Passive    MAY       8   \n",
              "2  Detractor    MAY       4   \n",
              "3  Detractor    MAY       0   \n",
              "4  Detractor    MAY       0   \n",
              "5  Detractor    MAY       3   \n",
              "6    Passive   JUNE       8   \n",
              "7  Detractor    MAY       0   \n",
              "8    Passive   JUNE       7   \n",
              "9  Detractor  APRIL       6   \n",
              "\n",
              "                                             comment          topic  \\\n",
              "0  0 is very high,  it should be negative as ur s...         People   \n",
              "1  1. Website is quite slow- must be improved.  2...        WEB/APP   \n",
              "2  1.Order execution refresh rate is slow. Improv...        WEB/APP   \n",
              "3                                         3 rd clasd  not specified   \n",
              "4                                         3 rd class  not specified   \n",
              "5  मेने डीलर से कांटेक्ट करने की कोशिश की पर नहीं...  not specified   \n",
              "6                                    About brokerage        Charges   \n",
              "7                                      Active BSE FO        product   \n",
              "8  Actually aap is not properly work and delar di...        WEB/APP   \n",
              "9             Add order execution notification sound        WEB/APP   \n",
              "\n",
              "                                                   x              y  \n",
              "0  is very high it should be negative as ur staff...         People  \n",
              "1  website is quite slow must be improved a watch...        WEB/APP  \n",
              "2  order execution refresh rate is slow improveme...        WEB/APP  \n",
              "3                                           rd clasd  not specified  \n",
              "4                                           rd class  not specified  \n",
              "5                                                     not specified  \n",
              "6                                    about brokerage        Charges  \n",
              "7                                      active bse fo        product  \n",
              "8  actually aap is not properly work and delar di...        WEB/APP  \n",
              "9             add order execution notification sound        WEB/APP  "
            ],
            "text/html": [
              "\n",
              "  <div id=\"df-db1f7d9a-ec12-459b-be96-cc343f567bed\">\n",
              "    <div class=\"colab-df-container\">\n",
              "      <div>\n",
              "<style scoped>\n",
              "    .dataframe tbody tr th:only-of-type {\n",
              "        vertical-align: middle;\n",
              "    }\n",
              "\n",
              "    .dataframe tbody tr th {\n",
              "        vertical-align: top;\n",
              "    }\n",
              "\n",
              "    .dataframe thead th {\n",
              "        text-align: right;\n",
              "    }\n",
              "</style>\n",
              "<table border=\"1\" class=\"dataframe\">\n",
              "  <thead>\n",
              "    <tr style=\"text-align: right;\">\n",
              "      <th></th>\n",
              "      <th>TYPE</th>\n",
              "      <th>MONTH</th>\n",
              "      <th>RATING</th>\n",
              "      <th>comment</th>\n",
              "      <th>topic</th>\n",
              "      <th>x</th>\n",
              "      <th>y</th>\n",
              "    </tr>\n",
              "  </thead>\n",
              "  <tbody>\n",
              "    <tr>\n",
              "      <th>0</th>\n",
              "      <td>Detractor</td>\n",
              "      <td>APRIL</td>\n",
              "      <td>0</td>\n",
              "      <td>0 is very high,  it should be negative as ur s...</td>\n",
              "      <td>People</td>\n",
              "      <td>is very high it should be negative as ur staff...</td>\n",
              "      <td>People</td>\n",
              "    </tr>\n",
              "    <tr>\n",
              "      <th>1</th>\n",
              "      <td>Passive</td>\n",
              "      <td>MAY</td>\n",
              "      <td>8</td>\n",
              "      <td>1. Website is quite slow- must be improved.  2...</td>\n",
              "      <td>WEB/APP</td>\n",
              "      <td>website is quite slow must be improved a watch...</td>\n",
              "      <td>WEB/APP</td>\n",
              "    </tr>\n",
              "    <tr>\n",
              "      <th>2</th>\n",
              "      <td>Detractor</td>\n",
              "      <td>MAY</td>\n",
              "      <td>4</td>\n",
              "      <td>1.Order execution refresh rate is slow. Improv...</td>\n",
              "      <td>WEB/APP</td>\n",
              "      <td>order execution refresh rate is slow improveme...</td>\n",
              "      <td>WEB/APP</td>\n",
              "    </tr>\n",
              "    <tr>\n",
              "      <th>3</th>\n",
              "      <td>Detractor</td>\n",
              "      <td>MAY</td>\n",
              "      <td>0</td>\n",
              "      <td>3 rd clasd</td>\n",
              "      <td>not specified</td>\n",
              "      <td>rd clasd</td>\n",
              "      <td>not specified</td>\n",
              "    </tr>\n",
              "    <tr>\n",
              "      <th>4</th>\n",
              "      <td>Detractor</td>\n",
              "      <td>MAY</td>\n",
              "      <td>0</td>\n",
              "      <td>3 rd class</td>\n",
              "      <td>not specified</td>\n",
              "      <td>rd class</td>\n",
              "      <td>not specified</td>\n",
              "    </tr>\n",
              "    <tr>\n",
              "      <th>5</th>\n",
              "      <td>Detractor</td>\n",
              "      <td>MAY</td>\n",
              "      <td>3</td>\n",
              "      <td>मेने डीलर से कांटेक्ट करने की कोशिश की पर नहीं...</td>\n",
              "      <td>not specified</td>\n",
              "      <td></td>\n",
              "      <td>not specified</td>\n",
              "    </tr>\n",
              "    <tr>\n",
              "      <th>6</th>\n",
              "      <td>Passive</td>\n",
              "      <td>JUNE</td>\n",
              "      <td>8</td>\n",
              "      <td>About brokerage</td>\n",
              "      <td>Charges</td>\n",
              "      <td>about brokerage</td>\n",
              "      <td>Charges</td>\n",
              "    </tr>\n",
              "    <tr>\n",
              "      <th>7</th>\n",
              "      <td>Detractor</td>\n",
              "      <td>MAY</td>\n",
              "      <td>0</td>\n",
              "      <td>Active BSE FO</td>\n",
              "      <td>product</td>\n",
              "      <td>active bse fo</td>\n",
              "      <td>product</td>\n",
              "    </tr>\n",
              "    <tr>\n",
              "      <th>8</th>\n",
              "      <td>Passive</td>\n",
              "      <td>JUNE</td>\n",
              "      <td>7</td>\n",
              "      <td>Actually aap is not properly work and delar di...</td>\n",
              "      <td>WEB/APP</td>\n",
              "      <td>actually aap is not properly work and delar di...</td>\n",
              "      <td>WEB/APP</td>\n",
              "    </tr>\n",
              "    <tr>\n",
              "      <th>9</th>\n",
              "      <td>Detractor</td>\n",
              "      <td>APRIL</td>\n",
              "      <td>6</td>\n",
              "      <td>Add order execution notification sound</td>\n",
              "      <td>WEB/APP</td>\n",
              "      <td>add order execution notification sound</td>\n",
              "      <td>WEB/APP</td>\n",
              "    </tr>\n",
              "  </tbody>\n",
              "</table>\n",
              "</div>\n",
              "      <button class=\"colab-df-convert\" onclick=\"convertToInteractive('df-db1f7d9a-ec12-459b-be96-cc343f567bed')\"\n",
              "              title=\"Convert this dataframe to an interactive table.\"\n",
              "              style=\"display:none;\">\n",
              "        \n",
              "  <svg xmlns=\"http://www.w3.org/2000/svg\" height=\"24px\"viewBox=\"0 0 24 24\"\n",
              "       width=\"24px\">\n",
              "    <path d=\"M0 0h24v24H0V0z\" fill=\"none\"/>\n",
              "    <path d=\"M18.56 5.44l.94 2.06.94-2.06 2.06-.94-2.06-.94-.94-2.06-.94 2.06-2.06.94zm-11 1L8.5 8.5l.94-2.06 2.06-.94-2.06-.94L8.5 2.5l-.94 2.06-2.06.94zm10 10l.94 2.06.94-2.06 2.06-.94-2.06-.94-.94-2.06-.94 2.06-2.06.94z\"/><path d=\"M17.41 7.96l-1.37-1.37c-.4-.4-.92-.59-1.43-.59-.52 0-1.04.2-1.43.59L10.3 9.45l-7.72 7.72c-.78.78-.78 2.05 0 2.83L4 21.41c.39.39.9.59 1.41.59.51 0 1.02-.2 1.41-.59l7.78-7.78 2.81-2.81c.8-.78.8-2.07 0-2.86zM5.41 20L4 18.59l7.72-7.72 1.47 1.35L5.41 20z\"/>\n",
              "  </svg>\n",
              "      </button>\n",
              "      \n",
              "  <style>\n",
              "    .colab-df-container {\n",
              "      display:flex;\n",
              "      flex-wrap:wrap;\n",
              "      gap: 12px;\n",
              "    }\n",
              "\n",
              "    .colab-df-convert {\n",
              "      background-color: #E8F0FE;\n",
              "      border: none;\n",
              "      border-radius: 50%;\n",
              "      cursor: pointer;\n",
              "      display: none;\n",
              "      fill: #1967D2;\n",
              "      height: 32px;\n",
              "      padding: 0 0 0 0;\n",
              "      width: 32px;\n",
              "    }\n",
              "\n",
              "    .colab-df-convert:hover {\n",
              "      background-color: #E2EBFA;\n",
              "      box-shadow: 0px 1px 2px rgba(60, 64, 67, 0.3), 0px 1px 3px 1px rgba(60, 64, 67, 0.15);\n",
              "      fill: #174EA6;\n",
              "    }\n",
              "\n",
              "    [theme=dark] .colab-df-convert {\n",
              "      background-color: #3B4455;\n",
              "      fill: #D2E3FC;\n",
              "    }\n",
              "\n",
              "    [theme=dark] .colab-df-convert:hover {\n",
              "      background-color: #434B5C;\n",
              "      box-shadow: 0px 1px 3px 1px rgba(0, 0, 0, 0.15);\n",
              "      filter: drop-shadow(0px 1px 2px rgba(0, 0, 0, 0.3));\n",
              "      fill: #FFFFFF;\n",
              "    }\n",
              "  </style>\n",
              "\n",
              "      <script>\n",
              "        const buttonEl =\n",
              "          document.querySelector('#df-db1f7d9a-ec12-459b-be96-cc343f567bed button.colab-df-convert');\n",
              "        buttonEl.style.display =\n",
              "          google.colab.kernel.accessAllowed ? 'block' : 'none';\n",
              "\n",
              "        async function convertToInteractive(key) {\n",
              "          const element = document.querySelector('#df-db1f7d9a-ec12-459b-be96-cc343f567bed');\n",
              "          const dataTable =\n",
              "            await google.colab.kernel.invokeFunction('convertToInteractive',\n",
              "                                                     [key], {});\n",
              "          if (!dataTable) return;\n",
              "\n",
              "          const docLinkHtml = 'Like what you see? Visit the ' +\n",
              "            '<a target=\"_blank\" href=https://colab.research.google.com/notebooks/data_table.ipynb>data table notebook</a>'\n",
              "            + ' to learn more about interactive tables.';\n",
              "          element.innerHTML = '';\n",
              "          dataTable['output_type'] = 'display_data';\n",
              "          await google.colab.output.renderOutput(dataTable, element);\n",
              "          const docLink = document.createElement('div');\n",
              "          docLink.innerHTML = docLinkHtml;\n",
              "          element.appendChild(docLink);\n",
              "        }\n",
              "      </script>\n",
              "    </div>\n",
              "  </div>\n",
              "  "
            ]
          },
          "metadata": {},
          "execution_count": 52
        }
      ]
    },
    {
      "cell_type": "code",
      "source": [
        "# Remove integer comments\n",
        "test = test[test['x'].apply(lambda x: not isinstance(x, int))]\n",
        "test.reset_index(drop=True, inplace=True)\n",
        "\n",
        "#lower case\n",
        "test['x'] = test['x'].str.lower()"
      ],
      "metadata": {
        "id": "Pmg-KZCBjmam"
      },
      "execution_count": 53,
      "outputs": []
    },
    {
      "cell_type": "code",
      "source": [
        "test['y_pred'] = test['x'].apply(model.predict)\n",
        "test['y_pred']=test['y_pred'].str[0:1]\n",
        "test['y_pred'] = test['y_pred'].astype(str)\n",
        "test['y_pred'] = test['y_pred'].str[12:-5]\n",
        "test['y'] = test['y'].str[9:]"
      ],
      "metadata": {
        "id": "W2tPNSa5iuHS"
      },
      "execution_count": 54,
      "outputs": []
    },
    {
      "cell_type": "code",
      "source": [
        "test.dropna(inplace=True)"
      ],
      "metadata": {
        "id": "5lxQgHZslPVN"
      },
      "execution_count": 55,
      "outputs": []
    },
    {
      "cell_type": "code",
      "source": [
        "word_dict = {\n",
        "    'product': 'product',\n",
        "    'charge': 'charges',\n",
        "    'brokerage': 'charges',\n",
        "    'brokerages': 'charges',\n",
        "    'charges': 'charges',\n",
        "    'staff': 'people',\n",
        "    'employees': 'people',\n",
        "    'employee': 'people',\n",
        "    'dealer': 'people',\n",
        "    'delar': 'people',\n",
        "    ' rm ': 'people',\n",
        "    'relation': 'people',\n",
        "    'manager': 'people',\n",
        "    ' rmo ': 'people',\n",
        "    'managers': 'people'\n",
        "}"
      ],
      "metadata": {
        "id": "z0ow7RORH1Zc"
      },
      "execution_count": 56,
      "outputs": []
    },
    {
      "cell_type": "code",
      "source": [
        "test['xx']=\" \""
      ],
      "metadata": {
        "id": "qYVy9h8RK29V"
      },
      "execution_count": null,
      "outputs": []
    },
    {
      "cell_type": "code",
      "source": [
        "for i in word_dict:\n",
        "  test.loc[(test['x'].str.contains(i), 'xx')] = word_dict[i]"
      ],
      "metadata": {
        "id": "D-Y5mzOaLce1"
      },
      "execution_count": null,
      "outputs": []
    },
    {
      "cell_type": "code",
      "source": [
        "for i in word_dict:\n",
        "  test.loc[(test['x'].str.contains(i), 'y_pred')] = word_dict[i]"
      ],
      "metadata": {
        "id": "vaxyjch5JuPs"
      },
      "execution_count": 57,
      "outputs": []
    },
    {
      "cell_type": "code",
      "source": [
        "test.to_excel('apr_may_jun_pred.xlsx', index=False)"
      ],
      "metadata": {
        "id": "npziXzGCLFLr"
      },
      "execution_count": 60,
      "outputs": []
    },
    {
      "cell_type": "code",
      "source": [
        "# Classification report overall\n",
        "from sklearn import metrics\n",
        "print(metrics.classification_report(test['topic'], test['y_pred'], target_names=test['topic'].unique().sort()))"
      ],
      "metadata": {
        "colab": {
          "base_uri": "https://localhost:8080/"
        },
        "id": "2zo2y1wDkOy1",
        "outputId": "3df4b57c-6a0b-4901-c263-f942642cd64a"
      },
      "execution_count": 59,
      "outputs": [
        {
          "output_type": "stream",
          "name": "stdout",
          "text": [
            "                     precision    recall  f1-score   support\n",
            "\n",
            "App/Product/Service       0.00      0.00      0.00         1\n",
            "            Charges       0.00      0.00      0.00        55\n",
            "      Not Specified       0.00      0.00      0.00        22\n",
            "             OTHERS       0.00      0.00      0.00         1\n",
            "              Other       0.00      0.00      0.00         4\n",
            "             People       0.00      0.00      0.00        43\n",
            "            Process       0.00      0.00      0.00         6\n",
            "            Product       0.00      0.00      0.00         3\n",
            "           Research       0.00      0.00      0.00         1\n",
            "            Service       0.00      0.00      0.00       144\n",
            "            WEB/APP       0.00      0.00      0.00       185\n",
            "            Web/App       0.00      0.00      0.00        30\n",
            "        application       0.00      0.00      0.00         0\n",
            "            charges       0.00      0.00      0.00         0\n",
            "      not specified       0.00      0.00      0.00       172\n",
            "             others       0.00      0.00      0.00         1\n",
            "             people       0.00      0.00      0.00         0\n",
            "            process       0.50      0.75      0.60         4\n",
            "            product       0.75      0.63      0.69        19\n",
            "          reasearch       0.00      0.00      0.00         3\n",
            "           research       0.00      0.00      0.00         0\n",
            "            service       0.00      0.00      0.00         0\n",
            "\n",
            "           accuracy                           0.02       694\n",
            "          macro avg       0.06      0.06      0.06       694\n",
            "       weighted avg       0.02      0.02      0.02       694\n",
            "\n"
          ]
        },
        {
          "output_type": "stream",
          "name": "stderr",
          "text": [
            "/usr/local/lib/python3.10/dist-packages/sklearn/metrics/_classification.py:1344: UndefinedMetricWarning: Precision and F-score are ill-defined and being set to 0.0 in labels with no predicted samples. Use `zero_division` parameter to control this behavior.\n",
            "  _warn_prf(average, modifier, msg_start, len(result))\n",
            "/usr/local/lib/python3.10/dist-packages/sklearn/metrics/_classification.py:1344: UndefinedMetricWarning: Recall and F-score are ill-defined and being set to 0.0 in labels with no true samples. Use `zero_division` parameter to control this behavior.\n",
            "  _warn_prf(average, modifier, msg_start, len(result))\n",
            "/usr/local/lib/python3.10/dist-packages/sklearn/metrics/_classification.py:1344: UndefinedMetricWarning: Precision and F-score are ill-defined and being set to 0.0 in labels with no predicted samples. Use `zero_division` parameter to control this behavior.\n",
            "  _warn_prf(average, modifier, msg_start, len(result))\n",
            "/usr/local/lib/python3.10/dist-packages/sklearn/metrics/_classification.py:1344: UndefinedMetricWarning: Recall and F-score are ill-defined and being set to 0.0 in labels with no true samples. Use `zero_division` parameter to control this behavior.\n",
            "  _warn_prf(average, modifier, msg_start, len(result))\n",
            "/usr/local/lib/python3.10/dist-packages/sklearn/metrics/_classification.py:1344: UndefinedMetricWarning: Precision and F-score are ill-defined and being set to 0.0 in labels with no predicted samples. Use `zero_division` parameter to control this behavior.\n",
            "  _warn_prf(average, modifier, msg_start, len(result))\n",
            "/usr/local/lib/python3.10/dist-packages/sklearn/metrics/_classification.py:1344: UndefinedMetricWarning: Recall and F-score are ill-defined and being set to 0.0 in labels with no true samples. Use `zero_division` parameter to control this behavior.\n",
            "  _warn_prf(average, modifier, msg_start, len(result))\n"
          ]
        }
      ]
    },
    {
      "cell_type": "code",
      "source": [
        "test['y_pred'].value_counts()"
      ],
      "metadata": {
        "colab": {
          "base_uri": "https://localhost:8080/"
        },
        "id": "_wmNKn7ik7bW",
        "outputId": "9b39a671-8b61-4835-96cf-789c8f064382"
      },
      "execution_count": null,
      "outputs": [
        {
          "output_type": "execute_result",
          "data": {
            "text/plain": [
              "application    187\n",
              "others         170\n",
              "service        142\n",
              "charges         44\n",
              "people          29\n",
              "product         14\n",
              "process          6\n",
              "research         2\n",
              "Name: y_pred, dtype: int64"
            ]
          },
          "metadata": {},
          "execution_count": 170
        }
      ]
    },
    {
      "cell_type": "code",
      "source": [
        "test['topic'].value_counts()\n"
      ],
      "metadata": {
        "colab": {
          "base_uri": "https://localhost:8080/"
        },
        "id": "Gm0Ux94ZmNjB",
        "outputId": "0e132eea-71ff-44c2-e27f-be206b3ce631"
      },
      "execution_count": null,
      "outputs": [
        {
          "output_type": "execute_result",
          "data": {
            "text/plain": [
              "application    190\n",
              "others         188\n",
              "service        105\n",
              "charges         47\n",
              "people          37\n",
              "product         20\n",
              "process          4\n",
              "research         3\n",
              "Name: topic, dtype: int64"
            ]
          },
          "metadata": {},
          "execution_count": 171
        }
      ]
    },
    {
      "cell_type": "code",
      "source": [
        "test[test['y_pred']!=test['topic']].to_excel('result.xlsx', index=False)"
      ],
      "metadata": {
        "id": "TLTHKSmtljJx"
      },
      "execution_count": null,
      "outputs": []
    },
    {
      "cell_type": "code",
      "source": [
        "from google.colab import data_table\n",
        "data_table.DataTable(test[test['y_pred']!=test['topic']], include_index=False, num_rows_per_page=10)"
      ],
      "metadata": {
        "id": "-zNc1AZ6G86m",
        "outputId": "3bcd2a7b-8fb6-4fe2-a730-062045059265",
        "colab": {
          "base_uri": "https://localhost:8080/",
          "height": 492
        }
      },
      "execution_count": null,
      "outputs": [
        {
          "output_type": "execute_result",
          "data": {
            "text/html": [
              "<div>\n",
              "<style scoped>\n",
              "    .dataframe tbody tr th:only-of-type {\n",
              "        vertical-align: middle;\n",
              "    }\n",
              "\n",
              "    .dataframe tbody tr th {\n",
              "        vertical-align: top;\n",
              "    }\n",
              "\n",
              "    .dataframe thead th {\n",
              "        text-align: right;\n",
              "    }\n",
              "</style>\n",
              "<table border=\"1\" class=\"dataframe\">\n",
              "  <thead>\n",
              "    <tr style=\"text-align: right;\">\n",
              "      <th></th>\n",
              "      <th>comment</th>\n",
              "      <th>topic</th>\n",
              "      <th>x</th>\n",
              "      <th>y</th>\n",
              "      <th>y_pred</th>\n",
              "      <th>xx</th>\n",
              "    </tr>\n",
              "  </thead>\n",
              "  <tbody>\n",
              "    <tr>\n",
              "      <th>7</th>\n",
              "      <td>Active BSE FO</td>\n",
              "      <td>product</td>\n",
              "      <td>active bse fo</td>\n",
              "      <td></td>\n",
              "      <td>others</td>\n",
              "      <td></td>\n",
              "    </tr>\n",
              "    <tr>\n",
              "      <th>8</th>\n",
              "      <td>Actually aap is not properly work and delar di...</td>\n",
              "      <td>application</td>\n",
              "      <td>actually aap is not properly work and delar di...</td>\n",
              "      <td></td>\n",
              "      <td>people</td>\n",
              "      <td>people</td>\n",
              "    </tr>\n",
              "    <tr>\n",
              "      <th>29</th>\n",
              "      <td>App not properly workingAnd order was not comp...</td>\n",
              "      <td>application</td>\n",
              "      <td>app not properly workingand order was not comp...</td>\n",
              "      <td></td>\n",
              "      <td>charges</td>\n",
              "      <td>charges</td>\n",
              "    </tr>\n",
              "    <tr>\n",
              "      <th>64</th>\n",
              "      <td>Cannot reach dealer. Dealer is not taking call...</td>\n",
              "      <td>service</td>\n",
              "      <td>cannot reach dealer dealer is not taking call ...</td>\n",
              "      <td></td>\n",
              "      <td>people</td>\n",
              "      <td>people</td>\n",
              "    </tr>\n",
              "    <tr>\n",
              "      <th>66</th>\n",
              "      <td>Cash projections should be reflected. Funds wi...</td>\n",
              "      <td>application</td>\n",
              "      <td>cash projections should be reflected funds wit...</td>\n",
              "      <td></td>\n",
              "      <td>others</td>\n",
              "      <td></td>\n",
              "    </tr>\n",
              "    <tr>\n",
              "      <th>...</th>\n",
              "      <td>...</td>\n",
              "      <td>...</td>\n",
              "      <td>...</td>\n",
              "      <td>...</td>\n",
              "      <td>...</td>\n",
              "      <td>...</td>\n",
              "    </tr>\n",
              "    <tr>\n",
              "      <th>567</th>\n",
              "      <td>Worst ever3rd class everything</td>\n",
              "      <td>others</td>\n",
              "      <td>worst ever rd class everything</td>\n",
              "      <td></td>\n",
              "      <td>service</td>\n",
              "      <td></td>\n",
              "    </tr>\n",
              "    <tr>\n",
              "      <th>570</th>\n",
              "      <td>Worst organisation simply making money and mor...</td>\n",
              "      <td>product</td>\n",
              "      <td>worst organisation simply making money and mor...</td>\n",
              "      <td></td>\n",
              "      <td>service</td>\n",
              "      <td></td>\n",
              "    </tr>\n",
              "    <tr>\n",
              "      <th>571</th>\n",
              "      <td>Worst recommendation.</td>\n",
              "      <td>research</td>\n",
              "      <td>worst recommendation</td>\n",
              "      <td></td>\n",
              "      <td>others</td>\n",
              "      <td></td>\n",
              "    </tr>\n",
              "    <tr>\n",
              "      <th>582</th>\n",
              "      <td>You have a pathetic response process with an a...</td>\n",
              "      <td>service</td>\n",
              "      <td>you have a pathetic response process with an a...</td>\n",
              "      <td></td>\n",
              "      <td>application</td>\n",
              "      <td></td>\n",
              "    </tr>\n",
              "    <tr>\n",
              "      <th>592</th>\n",
              "      <td>Your staff does not give service, no one is th...</td>\n",
              "      <td>service</td>\n",
              "      <td>your staff does not give service no one is the...</td>\n",
              "      <td></td>\n",
              "      <td>people</td>\n",
              "      <td>people</td>\n",
              "    </tr>\n",
              "  </tbody>\n",
              "</table>\n",
              "<p>114 rows × 6 columns</p>\n",
              "</div>"
            ],
            "application/vnd.google.colaboratory.module+javascript": "\n      import \"https://ssl.gstatic.com/colaboratory/data_table/881c4a0d49046431/data_table.js\";\n\n      const table = window.createDataTable({\n        data: [[\"Active BSE FO\",\n\"product\",\n\"active bse fo\",\n\"\",\n\"others\",\n\" \"],\n [\"Actually aap is not properly work and delar did not support mtf interest charge and broker support.\",\n\"application\",\n\"actually aap is not properly work and delar did not support mtf interest charge and broker support\",\n\"\",\n\"people\",\n\"people\"],\n [\"App not properly workingAnd order was not completed on market price that I wants which was get me loss and over trade and more charges kindly do the needful and waive of my current pending charges after I will continue kotak security\",\n\"application\",\n\"app not properly workingand order was not completed on market price that i wants which was get me loss and over trade and more charges kindly do the needful and waive of my current pending charges after i will continue kotak security\",\n\"\",\n\"charges\",\n\"charges\"],\n [\"Cannot reach dealer. Dealer is not taking call neither contact. Hopeless service.\",\n\"service\",\n\"cannot reach dealer dealer is not taking call neither contact hopeless service\",\n\"\",\n\"people\",\n\"people\"],\n [\"Cash projections should be reflected. Funds withdrawn from trading account should be immediately credited to bank account, at least in the case of linked Kotak bank account\",\n\"application\",\n\"cash projections should be reflected funds withdrawn from trading account should be immediately credited to bank account at least in the case of linked kotak bank account\",\n\"\",\n\"others\",\n\" \"],\n [\"Completely wastage of time with Kotak.. Not recommended\",\n\"others\",\n\"completely wastage of time with kotak not recommended\",\n\"\",\n\"service\",\n\" \"],\n [\"Dealer gives wrong information abouts kotak trading application they are worst and jurk they dont deserve respect the lie about application they said after 299 you will get free study e learning voucher and free Dealer but after paid 299 I got nothing kotak application cheated us false info take a action against dealer.\",\n\"application\",\n\"dealer gives wrong information abouts kotak trading application they are worst and jurk they dont deserve respect the lie about application they said after you will get free study e learning voucher and free dealer but after paid i got nothing kotak application cheated us false info take a action against dealer\",\n\"\",\n\"people\",\n\"people\"],\n [\"DEALER SHOULD CALL AT REGULAR INTERVALS.\",\n\"service\",\n\"dealer should call at regular intervals\",\n\"\",\n\"people\",\n\"people\"],\n [\"Dealer should easily reachable on phone.\",\n\"service\",\n\"dealer should easily reachable on phone\",\n\"\",\n\"people\",\n\"people\"],\n [\"Dealers are useless,good for nothing\",\n\"others\",\n\"dealers are useless good for nothing\",\n\"\",\n\"people\",\n\"people\"],\n [\"Direct communication with the assigned dealer should be facilitated through system improvement. Direct communication access with the assigned dealers shall be of great help.               Present assigned dealer Krishna is quite helpful and should be retained with proper facilitation.\",\n\"others\",\n\"direct communication with the assigned dealer should be facilitated through system improvement direct communication access with the assigned dealers shall be of great help present assigned dealer krishna is quite helpful and should be retained with proper facilitation\",\n\"\",\n\"people\",\n\"people\"],\n [\"EVERY YEAR I AM PAYING ANNUAL BROKERAGE ON FIT AND THE MONEY GETS CREDITED BACK TO MY ACCOUNT AND THE PROOFS WERE GIVENINSPITE OF THIS I GET ANSWER ITS NOT REVERSABLE  / NOT REFUNDABLE ALSOANOTHER THING IS I HAD NEVER REQUESTED FOR THIS PLAN IT JUST GOT DEBITED FROM MY ACCOUNT AND DO NOT APPRECIATE ANY DEBITS WITHOUT CUSTOMERS CONFIRMATION\",\n\"application\",\n\"every year i am paying annual brokerage on fit and the money gets credited back to my account and the proofs were giveninspite of this i get answer its not reversable not refundable alsoanother thing is i had never requested for this plan it just got debited from my account and do not appreciate any debits without customers confirmation\",\n\"\",\n\"charges\",\n\"charges\"],\n [\"finding it difficult to trade with Kotak Securities, issues not getting resolved on time, brokerage on the higher side... shifting my maximum transaction to Zerodha.\",\n\"others\",\n\"finding it difficult to trade with kotak securities issues not getting resolved on time brokerage on the higher side shifting my maximum transaction to zerodha\",\n\"\",\n\"charges\",\n\"charges\"],\n [\"First of all whatsApp assistant not support in my case please check it\",\n\"application\",\n\"first of all whatsapp assistant not support in my case please check it\",\n\"\",\n\"process\",\n\" \"],\n [\"give proper dealer\",\n\"service\",\n\"give proper dealer\",\n\"\",\n\"people\",\n\"people\"],\n [\"Good thing This Is Kotak Neo is Less brokerage app.. Bad Thing is App hang anytime or we facing loss for for this technically glitches .. or no support from customer care for this issue\",\n\"application\",\n\"good thing this is kotak neo is less brokerage app bad thing is app hang anytime or we facing loss for for this technically glitches or no support from customer care for this issue\",\n\"\",\n\"charges\",\n\"charges\"],\n [\"High Brokarge in Delivery\",\n\"charges\",\n\"high brokarge in delivery\",\n\"\",\n\"others\",\n\" \"],\n [\"Hope for the best.I love Kotak Bank\",\n\"others\",\n\"hope for the best i love kotak bank\",\n\"\",\n\"service\",\n\" \"],\n [\"I am so happy but I have not money\",\n\"application\",\n\"i am so happy but i have not money\",\n\"\",\n\"others\",\n\" \"],\n [\"I do not remember the lady representative name from Kotak securities customer but she was very helpful and prompt in taking the action i.e putting the Dealer calls on Do not disturb for me.\",\n\"others\",\n\"i do not remember the lady representative name from kotak securities customer but she was very helpful and prompt in taking the action i e putting the dealer calls on do not disturb for me\",\n\"\",\n\"people\",\n\"people\"],\n [\"I dont want give suggestions for dealer, i want suggestions for unqualified engineers who made useless web or App of kotak securities, without beta or back-end testing they launched.. always glitches o\",\n\"application\",\n\"i dont want give suggestions for dealer i want suggestions for unqualified engineers who made useless web or app of kotak securities without beta or back end testing they launched always glitches o\",\n\"\",\n\"people\",\n\"people\"],\n [\"I have been with you for more thwn a decade. Now I am planning to quit trading. The relationship was generally businesslike with nohuman-warmth in your dealings.\",\n\"service\",\n\"i have been with you for more thwn a decade now i am planning to quit trading the relationship was generally businesslike with nohuman warmth in your dealings\",\n\"\",\n\"people\",\n\"people\"],\n [\"I have not received any call from any employee so in this situation How can I rate ?\",\n\"service\",\n\"i have not received any call from any employee so in this situation how can i rate\",\n\"\",\n\"people\",\n\"people\"],\n [\"I would like to talk to my dealer.7337720101\",\n\"others\",\n\"i would like to talk to my dealer\",\n\"\",\n\"people\",\n\"people\"],\n [\"If above suggestions not workable then close my gold account with you i am happy to trade with other brokerage house.\",\n\"application\",\n\"if above suggestions not workable then close my gold account with you i am happy to trade with other brokerage house\",\n\"\",\n\"charges\",\n\"charges\"],\n [\"Informed frequently by call entilted for free credit card once issued applied charges for card and annual fees\",\n\"application\",\n\"informed frequently by call entilted for free credit card once issued applied charges for card and annual fees\",\n\"\",\n\"charges\",\n\"charges\"],\n [\"Instead of discussing Trading related issues ,Dealers are more interested in selling other products including car insurance and life insurance which is absurd\",\n\"service\",\n\"instead of discussing trading related issues dealers are more interested in selling other products including car insurance and life insurance which is absurd\",\n\"\",\n\"people\",\n\"people\"],\n [\"Intraday zero brokerage plan was changed to 5/lot because of issues related to penalties due to margin shortage issues.\",\n\"process\",\n\"intraday zero brokerage plan was changed to lot because of issues related to penalties due to margin shortage issues\",\n\"\",\n\"charges\",\n\"charges\"],\n [\"It has been more than 3 weeks I hv been trying to get help from my Relationship Mgr.  I hv a trading acct from 2002 but not at all happy with the offline help.\",\n\"application\",\n\"it has been more than weeks i hv been trying to get help from my relationship mgr i hv a trading acct from but not at all happy with the offline help\",\n\"\",\n\"people\",\n\"people\"],\n [\"It seems like Kotak Securities is playing some foul game and trying to loot their customers by charging interest. I raised issue of unpledging in 2nd week of May 2023, which is not resolved yet. I do have sufficient fund in my trading account still receiving message from customer care that they are not able to unpledge due to insufficient funds. None of your agents are able to tell me how much fund is required. I am highly disappointed with the pathetic service you are providing. I will soon raise alarm with SEBI for the malpractices executed by Kotak Securities.\",\n\"application\",\n\"it seems like kotak securities is playing some foul game and trying to loot their customers by charging interest i raised issue of unpledging in nd week of may which is not resolved yet i do have sufficient fund in my trading account still receiving message from customer care that they are not able to unpledge due to insufficient funds none of your agents are able to tell me how much fund is required i am highly disappointed with the pathetic service you are providing i will soon raise alarm with sebi for the malpractices executed by kotak securities\",\n\"\",\n\"service\",\n\" \"],\n [\"Its very unfair to point out only dealer problem. Kotak securities is very back dated,not Client friendly Please try to value add in various aspect ( knowledge, technical), try to reduce brokerage burden, dont change dealer frequently bcoz clint - dealer relationship make more confidence. Must improve technology part of your platform, Technology glitches make us most irritation.\",\n\"application\",\n\"its very unfair to point out only dealer problem kotak securities is very back dated not client friendly please try to value add in various aspect knowledge technical try to reduce brokerage burden dont change dealer frequently bcoz clint dealer relationship make more confidence must improve technology part of your platform technology glitches make us most irritation\",\n\"\",\n\"people\",\n\"people\"],\n [\"kindly improve the interface and customer should be contacted by the Rm. As no one cares who so ever is doing also the customer care is not appropriate to resolve the queries.\",\n\"application\",\n\"kindly improve the interface and customer should be contacted by the rm as no one cares who so ever is doing also the customer care is not appropriate to resolve the queries\",\n\"\",\n\"people\",\n\"people\"],\n [\"kindly keep the mails specific and point to point\",\n\"others\",\n\"kindly keep the mails specific and point to point\",\n\"\",\n\"service\",\n\" \"],\n [\"Kindly reduced my brokerage and please share my dealer no so that I can coordinate I am trying to call but no is not reachable please provide direct no\",\n\"charges\",\n\"kindly reduced my brokerage and please share my dealer no so that i can coordinate i am trying to call but no is not reachable please provide direct no\",\n\"\",\n\"people\",\n\"people\"],\n [\"Kotak Neo App is not made enabled to me.Brokerage reduction is delayed, despite my excellent track/transaction record for years.\",\n\"application\",\n\"kotak neo app is not made enabled to me brokerage reduction is delayed despite my excellent track transaction record for years\",\n\"\",\n\"charges\",\n\"charges\"],\n [\"kotak neo is not good hanging problemthere is no G.T.T oder in derivativeslast week I pay delivery charges due to app problem in currency derivatives at last on 4:45pm app hang and Oder convert into delivery\",\n\"application\",\n\"kotak neo is not good hanging problemthere is no g t t oder in derivativeslast week i pay delivery charges due to app problem in currency derivatives at last on pm app hang and oder convert into delivery\",\n\"\",\n\"charges\",\n\"charges\"],\n [\"Kotak Securities days are numbered, mark my work it wont last for much time.  Sooner or later who fall for zero brokerage would realise what mistake they have done by choosing Kotak Security as their broker. Any way here I am gonna list some issue I have  raised many times to Kotak customer representative, even though I have complete faith nothing gonna happen on these issues.1. Kotak Sec advertise themselves as zero brokerage trading platform, how one can trade if your platform (kotak neo) provide absolutely no intraday leverage or margin in scripts. Kotak neo provides leverage  on less than 100 scripts. So goodbye Intraday trading on Kotak neo.2. I have repeatedly asked a feature on the kotak neo mobile app which will provide an edge to the scalpers community by making lower tab (where HOME, WATCHLIST, ORDERS, PORTFOLIO, INVEST are situated)  static. Though this feature is available on the desktop site where the upper most tab remain static. Presently if anyone go to  execute an order the lower most tab disappear from the page as soon as order window open and after order execution one have to manually press   back button many time to go to home page and then navigate to position page. If the lower most tab became static like the web version it will remain on the window no matter which page is open. You can imagine where every millisecond is important how game changing it could be to the day trader and scalpers community.3. Spent some money on Tradingview   and have some better feature make available like trading directly from  chart, drag and drop execution features.I am again saying that I have complete faith there wont be  any change regarding these issue. And I believe that People specially newcomers will come to Kotak but will leave within no time because nobody wants to use a platform which is decade behind its competitor in terms of technology. Kotak cant survive by forcefully  Selling insurance in the name of recommendation\",\n\"application\",\n\"kotak securities days are numbered mark my work it wont last for much time sooner or later who fall for zero brokerage would realise what mistake they have done by choosing kotak security as their broker any way here i am gonna list some issue i have raised many times to kotak customer representative even though i have complete faith nothing gonna happen on these issues kotak sec advertise themselves as zero brokerage trading platform how one can trade if your platform kotak neo provide absolutely no intraday leverage or margin in scripts kotak neo provides leverage on less than scripts so goodbye intraday trading on kotak neo i have repeatedly asked a feature on the kotak neo mobile app which will provide an edge to the scalpers community by making lower tab where home watchlist orders portfolio invest are situated static though this feature is available on the desktop site where the upper most tab remain static presently if anyone go to execute an order the lower most tab disappear from the page as soon as order window open and after order execution one have to manually press back button many time to go to home page and then navigate to position page if the lower most tab became static like the web version it will remain on the window no matter which page is open you can imagine where every millisecond is important how game changing it could be to the day trader and scalpers community spent some money on tradingview and have some better feature make available like trading directly from chart drag and drop execution features i am again saying that i have complete faith there wont be any change regarding these issue and i believe that people specially newcomers will come to kotak but will leave within no time because nobody wants to use a platform which is decade behind its competitor in terms of technology kotak cant survive by forcefully selling insurance in the name of recommendation\",\n\"\",\n\"charges\",\n\"charges\"],\n [\"My issues-previously and again now is not resolved\",\n\"others\",\n\"my issues previously and again now is not resolved\",\n\"\",\n\"service\",\n\" \"],\n [\"My problem is unsolved\",\n\"others\",\n\"my problem is unsolved\",\n\"\",\n\"service\",\n\" \"],\n [\"My query regarding my subject is not resolved...While I call care two time.\",\n\"others\",\n\"my query regarding my subject is not resolved while i call care two time\",\n\"\",\n\"service\",\n\" \"],\n [\"My query regarding my subject is not resolved...While I call care two time.\",\n\"others\",\n\"my query regarding my subject is not resolved while i call care two time\",\n\"\",\n\"service\",\n\" \"],\n [\"No call from the Dealer inspite of making several calls today.\",\n\"service\",\n\"no call from the dealer inspite of making several calls today\",\n\"\",\n\"people\",\n\"people\"],\n [\"No Calls from any employees nor interacted with.\",\n\"service\",\n\"no calls from any employees nor interacted with\",\n\"\",\n\"people\",\n\"people\"],\n [\"No feedback\",\n\"others\",\n\"no feedback\",\n\"\",\n\"service\",\n\" \"],\n [\"No interaction in recent times\",\n\"others\",\n\"no interaction in recent times\",\n\"\",\n\"service\",\n\" \"],\n [\"No one called me. Cant give feedback for nothing\",\n\"others\",\n\"no one called me cant give feedback for nothing\",\n\"\",\n\"service\",\n\" \"],\n [\"No one giving concrete advice.\",\n\"others\",\n\"no one giving concrete advice\",\n\"\",\n\"service\",\n\" \"],\n [\"No rm were given\",\n\"service\",\n\"no rm were given\",\n\"\",\n\"people\",\n\"people\"],\n [\"No. As it is of no use.no action.\",\n\"others\",\n\"no as it is of no use no action\",\n\"\",\n\"service\",\n\" \"],\n [\"Nobody contacted or reached me.Not sure how I receiving feedback form. The point of contact to my account is not at all responsive with my emails and not able to reach him. Its just dummy person just for the sake shown in my account\",\n\"others\",\n\"nobody contacted or reached me not sure how i receiving feedback form the point of contact to my account is not at all responsive with my emails and not able to reach him its just dummy person just for the sake shown in my account\",\n\"\",\n\"service\",\n\" \"],\n [\"NOBODY TAKES CARE WE GROUP OF 59 WANT TO LEAVE KOTAK  NO ONE IS HELPFUL SEE ZERODHA JMF ETC. PLEASE TAKE YOUR TEAM TO LOOK AFTER SMALL INVESTORS THANKS FOR ASKING\",\n\"others\",\n\"nobody takes care we group of want to leave kotak no one is helpful see zerodha jmf etc please take your team to look after small investors thanks for asking\",\n\"\",\n\"service\",\n\" \"],\n [\"Not a single issue has been resolved in the last 8 monts. Kotak is the worst brokerage. We will soon pull out 3 accounts with Kotak Securities.\",\n\"others\",\n\"not a single issue has been resolved in the last monts kotak is the worst brokerage we will soon pull out accounts with kotak securities\",\n\"\",\n\"charges\",\n\"charges\"],\n [\"Not getting responses from mapped RM\",\n\"application\",\n\"not getting responses from mapped rm\",\n\"\",\n\"service\",\n\" \"],\n [\"Not happy...you charging brokerage too high , dp charges too much.  Interest rate too much..... today your representative visit my office and told me lowest brokerage on new account.   That mean who having old account...which i think not beneficiary for kotak sec.    You giving many benefits on new account that mean old account who giving you good profit not useful for kotak sec...... please reduce brokerage, Dp charges and interest charges. Before i use only 5 days your fund you charges me more than 1200 rs. Interest.....i told many times to before dealar please reverse my dp charges and other charges which charged too much.not yet done.  Not happy at all..now thinking to transfer account in HDFC who giving best\",\n\"application\",\n\"not happy you charging brokerage too high dp charges too much interest rate too much today your representative visit my office and told me lowest brokerage on new account that mean who having old account which i think not beneficiary for kotak sec you giving many benefits on new account that mean old account who giving you good profit not useful for kotak sec please reduce brokerage dp charges and interest charges before i use only days your fund you charges me more than rs interest i told many times to before dealar please reverse my dp charges and other charges which charged too much not yet done not happy at all now thinking to transfer account in hdfc who giving best\",\n\"\",\n\"charges\",\n\"charges\"],\n [\"Not much interaction & response.\",\n\"others\",\n\"not much interaction response\",\n\"\",\n\"service\",\n\" \"],\n [\"Not my issue to give suggestions to the company\",\n\"others\",\n\"not my issue to give suggestions to the company\",\n\"\",\n\"service\",\n\" \"],\n [\"Open offer buy back order category BO how to place order at KST or through dealer?Report issue of non display of bond and realised P&L statement wrongSLB very late responses on order registration and no call for order execution.Need to improve on support as well escalation team responsesSLB to be part of KST\",\n\"application\",\n\"open offer buy back order category bo how to place order at kst or through dealer report issue of non display of bond and realised p l statement wrongslb very late responses on order registration and no call for order execution need to improve on support as well escalation team responsesslb to be part of kst\",\n\"\",\n\"people\",\n\"people\"],\n [\"Pathetic service lost all my money dealer and his managers were all playing with my hard earned money\",\n\"service\",\n\"pathetic service lost all my money dealer and his managers were all playing with my hard earned money\",\n\"\",\n\"people\",\n\"people\"],\n [\"Pl  how long customer associate with kotak and understand issue and try to resolveThanks\",\n\"others\",\n\"pl how long customer associate with kotak and understand issue and try to resolvethanks\",\n\"\",\n\"service\",\n\" \"],\n [\"Please Call dealer to respond on customers request.\",\n\"service\",\n\"please call dealer to respond on customers request\",\n\"\",\n\"people\",\n\"people\"],\n [\"Please dont be unethical. Earn ethically.\",\n\"others\",\n\"please dont be unethical earn ethically\",\n\"\",\n\"application\",\n\" \"],\n [\"Please provide commodities option chain\",\n\"product\",\n\"please provide commodities option chain\",\n\"\",\n\"application\",\n\" \"],\n [\"Please provide expiry day trade for below .50 pise order placing in 9.30 am\",\n\"product\",\n\"please provide expiry day trade for below pise order placing in am\",\n\"\",\n\"application\",\n\" \"],\n [\"Please provide me the personal dealer .very very very poor and slow service provide dealer as soon as possible\",\n\"service\",\n\"please provide me the personal dealer very very very poor and slow service provide dealer as soon as possible\",\n\"\",\n\"people\",\n\"people\"],\n [\"Please stop sending messages for feedback every day.\",\n\"service\",\n\"please stop sending messages for feedback every day\",\n\"\",\n\"others\",\n\" \"],\n [\"Please treat the existing old customers well, as they have been paying brokerage at a very high rate (for me it is 0.6%).My email dated 17-11-2022 for reduction of brokerage charges has not been answered till today.My attempt to activate the Trade Free Plan fails due to Error on the website.Calling the Dealer did not resolve the issue.\",\n\"charges\",\n\"please treat the existing old customers well as they have been paying brokerage at a very high rate for me it is my email dated for reduction of brokerage charges has not been answered till today my attempt to activate the trade free plan fails due to error on the website calling the dealer did not resolve the issue\",\n\"\",\n\"people\",\n\"people\"],\n [\"Please, i have spent atleast 15 lakhs as interest and other expenses for nothing (High Cost, Site & App behave abnormal). Your calculation methods, providing reports and recommendations are reverse. ( All give negative results). Staff dont know what they are talking about (Your MTF methods & lending are useless)\",\n\"application\",\n\"please i have spent atleast lakhs as interest and other expenses for nothing high cost site app behave abnormal your calculation methods providing reports and recommendations are reverse all give negative results staff dont know what they are talking about your mtf methods lending are useless\",\n\"\",\n\"people\",\n\"people\"],\n [\"Poor service from Dealer\",\n\"service\",\n\"poor service from dealer\",\n\"\",\n\"people\",\n\"people\"],\n [\"Poor services in reflecting funds in morning,your team is taking to much time for the same in neo.Secondly brokerage need to reduce or free brokerage as other platforms are recently started the same and if no improvement seen ,i also need to switch on to other.Thirdly during swipe order it provides always at higher side during buying,not at real price and same for vice versa for selling.Hope you consider and try to improve.Regards\",\n\"application\",\n\"poor services in reflecting funds in morning your team is taking to much time for the same in neo secondly brokerage need to reduce or free brokerage as other platforms are recently started the same and if no improvement seen i also need to switch on to other thirdly during swipe order it provides always at higher side during buying not at real price and same for vice versa for selling hope you consider and try to improve regards\",\n\"\",\n\"charges\",\n\"charges\"],\n [\"PROBLEM NOT SOLVE DURING TRADING HOURS\",\n\"others\",\n\"problem not solve during trading hours\",\n\"\",\n\"application\",\n\" \"],\n [\"PROBLEM NOT SOLVE DURING TRADING HOURS\",\n\"others\",\n\"problem not solve during trading hours\",\n\"\",\n\"application\",\n\" \"],\n [\"Proper information\",\n\"others\",\n\"proper information\",\n\"\",\n\"service\",\n\" \"],\n [\"Proper solution is not provided\",\n\"others\",\n\"proper solution is not provided\",\n\"\",\n\"application\",\n\" \"],\n [\"Reatime data delayed to reflect on dashboard\",\n\"application\",\n\"reatime data delayed to reflect on dashboard\",\n\"\",\n\"others\",\n\" \"],\n [\"Relationship Manager should be responsible to coordinate with Back end team about pending issues but they are just working like couriers. Back end team does not appreciate the real issues raised in the Queries & after passage of time they take it granted that the issues have no longer meaningful. Offline trade should be confirmed during business hours.\",\n\"application\",\n\"relationship manager should be responsible to coordinate with back end team about pending issues but they are just working like couriers back end team does not appreciate the real issues raised in the queries after passage of time they take it granted that the issues have no longer meaningful offline trade should be confirmed during business hours\",\n\"\",\n\"people\",\n\"people\"],\n [\"Repeated calls for credit card is frustrating\",\n\"others\",\n\"repeated calls for credit card is frustrating\",\n\"\",\n\"service\",\n\" \"],\n [\"Requesting kill switch button feature in neo since last 6 months as it will help to control overtrading in lots of traders.Already two Broker have implemented that and gained alot of account just with that kill switch traders control feature...When you guys do???\",\n\"product\",\n\"requesting kill switch button feature in neo since last months as it will help to control overtrading in lots of traders already two broker have implemented that and gained alot of account just with that kill switch traders control feature when you guys do\",\n\"\",\n\"application\",\n\" \"],\n [\"RM not providing proper knowledge about app functions.\",\n\"application\",\n\"rm not providing proper knowledge about app functions\",\n\"\",\n\"service\",\n\" \"],\n [\"RMO have very less knowledge regrading Demat account. Simple query was not solved by him. Also, still waiting for my email query.\",\n\"people\",\n\"rmo have very less knowledge regrading demat account simple query was not solved by him also still waiting for my email query\",\n\"\",\n\"service\",\n\" \"],\n [\"Senior citizens be allotted dealers at the local station or be brought under some local broker where personal meeting once in a bloom is possible and face to face resolution of problems is possible. Online dealers are not available when needed. Call back too is not there sometimes. Ostensibly they are overburdened. At least I am thinking to wind up with Kotak. Totally frustrated after more than 8 years.Facing Worst phase now at 71+. Cannot do everything by writing mails. Client code 4CcB2 wifes code HKT00\",\n\"service\",\n\"senior citizens be allotted dealers at the local station or be brought under some local broker where personal meeting once in a bloom is possible and face to face resolution of problems is possible online dealers are not available when needed call back too is not there sometimes ostensibly they are overburdened at least i am thinking to wind up with kotak totally frustrated after more than years facing worst phase now at cannot do everything by writing mails client code ccb wifes code hkt\",\n\"\",\n\"people\",\n\"people\"],\n [\"Senior citizens be allotted dealers at the local station or be brought under some local broker where personal meeting once in a bloom is possible and face to face resolution of problems is possible. Online dealers are not available when needed. Call back too is not there sometimes. Ostensibly they are overburdened. At least I am thinking to wind up with Kotak. Totally frustrated after more than 8 years.Facing Worst phase now at 71+. Cannot do everything by writing mails. Client code 4CcB2 wifes code HKT00\",\n\"service\",\n\"senior citizens be allotted dealers at the local station or be brought under some local broker where personal meeting once in a bloom is possible and face to face resolution of problems is possible online dealers are not available when needed call back too is not there sometimes ostensibly they are overburdened at least i am thinking to wind up with kotak totally frustrated after more than years facing worst phase now at cannot do everything by writing mails client code ccb wifes code hkt\",\n\"\",\n\"people\",\n\"people\"],\n [\"Should have trading RM in nearest Bank. So they can help in teaching trading, software uses. Trading ideas.\",\n\"service\",\n\"should have trading rm in nearest bank so they can help in teaching trading software uses trading ideas\",\n\"\",\n\"people\",\n\"people\"],\n [\"Some how i am not happy ,i lost so much money\",\n\"application\",\n\"some how i am not happy i lost so much money\",\n\"\",\n\"service\",\n\" \"],\n [\"Some software issues in app, No dedicated relationship manager to improve our investment More\",\n\"application\",\n\"some software issues in app no dedicated relationship manager to improve our investment more\",\n\"\",\n\"people\",\n\"people\"],\n [\"still i cant see ipo and goverment bonds bids anywhere in your platform\",\n\"product\",\n\"still i cant see ipo and goverment bonds bids anywhere in your platform\",\n\"\",\n\"application\",\n\" \"],\n [\"TEAMTHIS IS TIME PASS OR YOU PROVIDE BETTER IN FUTUREHOPE YOU MAINTAIN VALUE OF BRAND KOTAK. ALL THE BEST\",\n\"others\",\n\"teamthis is time pass or you provide better in futurehope you maintain value of brand kotak all the best\",\n\"\",\n\"application\",\n\" \"],\n [\"The app shud show actually gain. Not gains including stt that gives completely wrong picture. Customer shud anytime be able too see how much are charges then and there not wait till contract note is received.\",\n\"application\",\n\"the app shud show actually gain not gains including stt that gives completely wrong picture customer shud anytime be able too see how much are charges then and there not wait till contract note is received\",\n\"\",\n\"charges\",\n\"charges\"],\n [\"The auto-speaker told that the call would be connected to a person for further guidance. But, it was disconnected.\",\n\"service\",\n\"the auto speaker told that the call would be connected to a person for further guidance but it was disconnected\",\n\"\",\n\"process\",\n\" \"],\n [\"The employee with whom I spoke for first didnt close or adress the issue and closed the call... the second employee gave information... but in urgency redressal is very slow ... I am dissatisfied with online service and need to be attached with any branch\",\n\"service\",\n\"the employee with whom i spoke for first didnt close or adress the issue and closed the call the second employee gave information but in urgency redressal is very slow i am dissatisfied with online service and need to be attached with any branch\",\n\"\",\n\"people\",\n\"people\"],\n [\"The employees are good\",\n\"others\",\n\"the employees are good\",\n\"\",\n\"people\",\n\"people\"],\n [\"The employees are not contacting for any issue raised by me. Even mails are not answered or not read properly by any executives. Reading the issue, understanding the issue are the main reasons not for you but every on line application.\",\n\"application\",\n\"the employees are not contacting for any issue raised by me even mails are not answered or not read properly by any executives reading the issue understanding the issue are the main reasons not for you but every on line application\",\n\"\",\n\"people\",\n\"people\"],\n [\"The executives does not provide proper response to the customer\",\n\"people\",\n\"the executives does not provide proper response to the customer\",\n\"\",\n\"service\",\n\" \"],\n [\"The mobile app and desktop portal are not user friendly. Even relationship managers dont understand the queries. They promise to mail or call, but dont do it or respond after several days.\",\n\"application\",\n\"the mobile app and desktop portal are not user friendly even relationship managers dont understand the queries they promise to mail or call but dont do it or respond after several days\",\n\"\",\n\"people\",\n\"people\"],\n [\"The query has not been addressed as yet.\",\n\"others\",\n\"the query has not been addressed as yet\",\n\"\",\n\"service\",\n\" \"],\n [\"There is no propper cordination between the dealer and the linked bank account. When ever I raise a quiery regarding excess debit on account of security charges in the linked account the reply is to contact the bank.\",\n\"charges\",\n\"there is no propper cordination between the dealer and the linked bank account when ever i raise a quiery regarding excess debit on account of security charges in the linked account the reply is to contact the bank\",\n\"\",\n\"people\",\n\"people\"],\n [\"Tremendous improvement needed. Kotak is not known for such unsatisfactory treatment\",\n\"others\",\n\"tremendous improvement needed kotak is not known for such unsatisfactory treatment\",\n\"\",\n\"service\",\n\" \"],\n [\"U team not respond any problem\",\n\"service\",\n\"u team not respond any problem\",\n\"\",\n\"others\",\n\" \"],\n [\"unsatisfactory experience in general\",\n\"others\",\n\"unsatisfactory experience in general\",\n\"\",\n\"service\",\n\" \"],\n [\"Ur employee didnt solve any of my query... instead they told me that they are in learning phase.\",\n\"service\",\n\"ur employee didnt solve any of my query instead they told me that they are in learning phase\",\n\"\",\n\"people\",\n\"people\"],\n [\"Very bed called\",\n\"others\",\n\"very bed called\",\n\"\",\n\"service\",\n\" \"],\n [\"Very laid back approach\",\n\"application\",\n\"very laid back approach\",\n\"\",\n\"others\",\n\" \"],\n [\"Very unhappy with dealer.\",\n\"application\",\n\"very unhappy with dealer\",\n\"\",\n\"people\",\n\"people\"],\n [\"Very unprofessional behavior\",\n\"people\",\n\"very unprofessional behavior\",\n\"\",\n\"others\",\n\" \"],\n [\"Very Very Bad experience of most of Traders. Dealers are not accessible or doesnt call back. No knowledge of products or trades for resolution of Queries by Dealers. Very 2 or 3 months dealers are changed, so communication breakdown always happens. And Emails are not replied in full or too much delay.\",\n\"application\",\n\"very very bad experience of most of traders dealers are not accessible or doesnt call back no knowledge of products or trades for resolution of queries by dealers very or months dealers are changed so communication breakdown always happens and emails are not replied in full or too much delay\",\n\"\",\n\"people\",\n\"people\"],\n [\"Very very very slow service please provide best service .all employees has confused me\",\n\"service\",\n\"very very very slow service please provide best service all employees has confused me\",\n\"\",\n\"people\",\n\"people\"],\n [\"Wants to close relationship\",\n\"others\",\n\"wants to close relationship\",\n\"\",\n\"people\",\n\"people\"],\n [\"We have ni problem with liaison officer she is giving prompt reply. The problem is Kotak regarding minimum brokerage charges clause. We are retailer are interested small quantities but due to minimum charges of rs. 15 we are facing problem.  There is no such clause in Zarodha or other reputed brokers. Now I have decided to switch the account due to heavy brokerage charges. Please let me know whether this minimum brokerage charges clause can be deleted. If not please let me know the procedure to shift the account. You will appreciate that you are earning handsome money from my account T01NO.I HOPE U WILL CONSIDER MY REQUEST AND REMOVE MINIMUM BROCHARGES CLAUSE TO ENABLENABLE ME TO TRADE SMOOTHLY.Thanks and regards,THAKUR SINGH NEGITO1NOMob 9653076262\",\n\"application\",\n\"we have ni problem with liaison officer she is giving prompt reply the problem is kotak regarding minimum brokerage charges clause we are retailer are interested small quantities but due to minimum charges of rs we are facing problem there is no such clause in zarodha or other reputed brokers now i have decided to switch the account due to heavy brokerage charges please let me know whether this minimum brokerage charges clause can be deleted if not please let me know the procedure to shift the account you will appreciate that you are earning handsome money from my account t no i hope u will consider my request and remove minimum brocharges clause to enablenable me to trade smoothly thanks and regards thakur singh negito nomob\",\n\"\",\n\"charges\",\n\"charges\"],\n [\"when my company account was opened than dealer offered me trade free plan, now I am unable to opt trade free plan through websiteMisguided me\",\n\"product\",\n\"when my company account was opened than dealer offered me trade free plan now i am unable to opt trade free plan through websitemisguided me\",\n\"\",\n\"people\",\n\"people\"],\n [\"Who is my RM/ dealer?\",\n\"service\",\n\"who is my rm dealer\",\n\"\",\n\"people\",\n\"people\"],\n [\"Worst ever3rd class everything\",\n\"others\",\n\"worst ever rd class everything\",\n\"\",\n\"service\",\n\" \"],\n [\"Worst organisation simply making money and moroever the worst part is there mtf facility\",\n\"product\",\n\"worst organisation simply making money and moroever the worst part is there mtf facility\",\n\"\",\n\"service\",\n\" \"],\n [\"Worst recommendation.\",\n\"research\",\n\"worst recommendation\",\n\"\",\n\"others\",\n\" \"],\n [\"You have a pathetic response process with an automated email coming everyday that the query resolution is still pending and you will revet.\",\n\"service\",\n\"you have a pathetic response process with an automated email coming everyday that the query resolution is still pending and you will revet\",\n\"\",\n\"application\",\n\" \"],\n [\"Your staff does not give service, no one is there to talk.\",\n\"service\",\n\"your staff does not give service no one is there to talk\",\n\"\",\n\"people\",\n\"people\"]],\n        columns: [[\"string\", \"comment\"], [\"string\", \"topic\"], [\"string\", \"x\"], [\"string\", \"y\"], [\"string\", \"y_pred\"], [\"string\", \"xx\"]],\n        columnOptions: [],\n        rowsPerPage: 10,\n        helpUrl: \"https://colab.research.google.com/notebooks/data_table.ipynb\",\n        suppressOutputScrolling: true,\n        minimumWidth: undefined,\n      });\n      \n      function appendQuickchartButton(parentElement) {\n        let quickchartButtonContainerElement = document.createElement('div');\n        quickchartButtonContainerElement.innerHTML = `\n    <div id=\"df-c499ff16-df80-4e25-8523-1dc6b443aac5\">\n      <button class=\"colab-df-quickchart\" onclick=\"quickchart('df-c499ff16-df80-4e25-8523-1dc6b443aac5')\"\n              title=\"Generate charts.\"\n              style=\"display:none;\">\n\n<svg xmlns=\"http://www.w3.org/2000/svg\" height=\"24px\"viewBox=\"0 0 24 24\"\n     width=\"24px\">\n    <g>\n        <path d=\"M19 3H5c-1.1 0-2 .9-2 2v14c0 1.1.9 2 2 2h14c1.1 0 2-.9 2-2V5c0-1.1-.9-2-2-2zM9 17H7v-7h2v7zm4 0h-2V7h2v10zm4 0h-2v-4h2v4z\"/>\n    </g>\n</svg>\n      </button>\n    </div>\n\n<style>\n  .colab-df-quickchart {\n    background-color: #E8F0FE;\n    border: none;\n    border-radius: 50%;\n    cursor: pointer;\n    display: none;\n    fill: #1967D2;\n    height: 32px;\n    padding: 0 0 0 0;\n    width: 32px;\n  }\n\n  .colab-df-quickchart:hover {\n    background-color: #E2EBFA;\n    box-shadow: 0px 1px 2px rgba(60, 64, 67, 0.3), 0px 1px 3px 1px rgba(60, 64, 67, 0.15);\n    fill: #174EA6;\n  }\n\n  [theme=dark] .colab-df-quickchart {\n    background-color: #3B4455;\n    fill: #D2E3FC;\n  }\n\n  [theme=dark] .colab-df-quickchart:hover {\n    background-color: #434B5C;\n    box-shadow: 0px 1px 3px 1px rgba(0, 0, 0, 0.15);\n    filter: drop-shadow(0px 1px 2px rgba(0, 0, 0, 0.3));\n    fill: #FFFFFF;\n  }\n</style>\n\n    <script>\n      async function quickchart(key) {\n        const containerElement = document.querySelector('#' + key);\n        const charts = await google.colab.kernel.invokeFunction(\n            'generateCharts', [key], {});\n      }\n    </script>\n`;\n        parentElement.appendChild(quickchartButtonContainerElement);\n        \nfunction displayQuickchartButton(domScope) {\n  let quickchartButtonEl =\n    domScope.querySelector('#df-c499ff16-df80-4e25-8523-1dc6b443aac5 button.colab-df-quickchart');\n  quickchartButtonEl.style.display =\n    google.colab.kernel.accessAllowed ? 'block' : 'none';\n}\n\n        displayQuickchartButton(parentElement);\n      }\n    ",
            "text/plain": [
              "<google.colab.data_table.DataTable object>"
            ]
          },
          "metadata": {},
          "execution_count": 205
        }
      ]
    },
    {
      "cell_type": "code",
      "source": [],
      "metadata": {
        "id": "homzNVZuKqJD"
      },
      "execution_count": null,
      "outputs": []
    }
  ],
  "metadata": {
    "kernelspec": {
      "display_name": "Python 3",
      "language": "python",
      "name": "python3"
    },
    "language_info": {
      "codemirror_mode": {
        "name": "ipython",
        "version": 3
      },
      "file_extension": ".py",
      "mimetype": "text/x-python",
      "name": "python",
      "nbconvert_exporter": "python",
      "pygments_lexer": "ipython3",
      "version": "3.9.11"
    },
    "orig_nbformat": 4,
    "colab": {
      "provenance": [],
      "include_colab_link": true
    },
    "gpuClass": "standard"
  },
  "nbformat": 4,
  "nbformat_minor": 0
}