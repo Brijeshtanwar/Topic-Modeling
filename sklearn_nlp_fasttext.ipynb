{
  "cells": [
    {
      "cell_type": "markdown",
      "metadata": {
        "id": "view-in-github",
        "colab_type": "text"
      },
      "source": [
        "<a href=\"https://colab.research.google.com/github/Brijeshtanwar/Topic-Modeling/blob/main/sklearn_nlp_fasttext.ipynb\" target=\"_parent\"><img src=\"https://colab.research.google.com/assets/colab-badge.svg\" alt=\"Open In Colab\"/></a>"
      ]
    },
    {
      "cell_type": "code",
      "execution_count": 133,
      "metadata": {
        "id": "Kl5yT1diCpf3"
      },
      "outputs": [],
      "source": [
        "import numpy as np \n",
        "import pandas as pd \n",
        "import matplotlib.pyplot as plt\n",
        "import seaborn as sns\n",
        "pd.set_option('display.max_columns', None)\n",
        "from IPython.core.interactiveshell import InteractiveShell\n",
        "InteractiveShell.ast_node_interactivity = \"all\"\n",
        "\n",
        "# NLP libraries\n",
        "import nltk\n",
        "import re\n",
        "from nltk.stem import WordNetLemmatizer\n",
        "from nltk.corpus import stopwords"
      ]
    },
    {
      "cell_type": "code",
      "source": [
        "nltk.download(\"stopwords\")\n",
        "nltk.download('wordnet')"
      ],
      "metadata": {
        "id": "fb2rPz7BkDXw",
        "outputId": "e9b2d5bf-30dc-4696-b4bb-82fb734cebbe",
        "colab": {
          "base_uri": "https://localhost:8080/"
        }
      },
      "execution_count": 134,
      "outputs": [
        {
          "output_type": "stream",
          "name": "stderr",
          "text": [
            "[nltk_data] Downloading package stopwords to /root/nltk_data...\n",
            "[nltk_data]   Package stopwords is already up-to-date!\n"
          ]
        },
        {
          "output_type": "execute_result",
          "data": {
            "text/plain": [
              "True"
            ]
          },
          "metadata": {},
          "execution_count": 134
        },
        {
          "output_type": "stream",
          "name": "stderr",
          "text": [
            "[nltk_data] Downloading package wordnet to /root/nltk_data...\n",
            "[nltk_data]   Package wordnet is already up-to-date!\n"
          ]
        },
        {
          "output_type": "execute_result",
          "data": {
            "text/plain": [
              "True"
            ]
          },
          "metadata": {},
          "execution_count": 134
        }
      ]
    },
    {
      "cell_type": "code",
      "source": [
        "url = \"\"\"https://raw.githubusercontent.com/Brijeshtanwar/Topic-Modeling/main/voc_data.csv\"\"\"\n",
        "df = pd.read_csv(url,  encoding = 'unicode_escape')"
      ],
      "metadata": {
        "id": "y0eKOcmADPRR"
      },
      "execution_count": 135,
      "outputs": []
    },
    {
      "cell_type": "code",
      "source": [
        "df = df[['CUSTOMER COMMENT', 'Reason']]\n",
        "df.columns = ['comment', 'topic']"
      ],
      "metadata": {
        "id": "CfnLvrmwDTYs"
      },
      "execution_count": 136,
      "outputs": []
    },
    {
      "cell_type": "code",
      "source": [
        "df.isnull().sum()"
      ],
      "metadata": {
        "colab": {
          "base_uri": "https://localhost:8080/"
        },
        "id": "TAVmaIbaGJ7Q",
        "outputId": "3f15f4d4-778b-4801-f32f-11c2a0884c65"
      },
      "execution_count": 137,
      "outputs": [
        {
          "output_type": "execute_result",
          "data": {
            "text/plain": [
              "comment    0\n",
              "topic      0\n",
              "dtype: int64"
            ]
          },
          "metadata": {},
          "execution_count": 137
        }
      ]
    },
    {
      "cell_type": "code",
      "source": [
        "# Drop na \n",
        "df.dropna(axis=0, inplace=True)"
      ],
      "metadata": {
        "id": "mE7XJr2XGNut"
      },
      "execution_count": 138,
      "outputs": []
    },
    {
      "cell_type": "code",
      "execution_count": 139,
      "metadata": {
        "colab": {
          "base_uri": "https://localhost:8080/"
        },
        "id": "Y5REI-pmCpf4",
        "outputId": "dea441f5-7e07-46fb-bbc2-6e7f0674c51b"
      },
      "outputs": [
        {
          "output_type": "execute_result",
          "data": {
            "text/plain": [
              "Service                      1570\n",
              "APPLICATION (WEB/APP)        1074\n",
              "SERVICE                       335\n",
              "CHARGES(BRO./DP/LPC ETC.)     332\n",
              "Others                        321\n",
              "NOT SPECIFIED                 254\n",
              "Not Specified                 216\n",
              "People                        113\n",
              "Process                        69\n",
              "PEOPLE                         32\n",
              "Product                        13\n",
              "PROCESS                         6\n",
              "Name: topic, dtype: int64"
            ]
          },
          "metadata": {},
          "execution_count": 139
        }
      ],
      "source": [
        "df.topic.value_counts()"
      ]
    },
    {
      "cell_type": "code",
      "source": [
        "#lower case\n",
        "df['topic'] = df['topic'].str.lower()\n",
        "df['topic'] = df['topic'].str.strip()\n",
        "df.loc[df.topic=='not specified', 'topic'] = 'others'"
      ],
      "metadata": {
        "id": "-7oI5-ss3f94"
      },
      "execution_count": 140,
      "outputs": []
    },
    {
      "cell_type": "code",
      "source": [
        "df.topic.unique()"
      ],
      "metadata": {
        "colab": {
          "base_uri": "https://localhost:8080/"
        },
        "id": "W_rDJJa_0RyS",
        "outputId": "ad01ca0a-2e2c-4ba3-f69f-af39bd691579"
      },
      "execution_count": 141,
      "outputs": [
        {
          "output_type": "execute_result",
          "data": {
            "text/plain": [
              "array(['service', 'application (web/app)', 'others',\n",
              "       'charges(bro./dp/lpc etc.)', 'process', 'people', 'product'],\n",
              "      dtype=object)"
            ]
          },
          "metadata": {},
          "execution_count": 141
        }
      ]
    },
    {
      "cell_type": "code",
      "source": [
        "topic_dic = {'application (web/app)': 'application',  'charges(bro./dp/lpc etc.)': 'charges', 'service':'service'\n",
        ", 'others':'others', 'process':'process', 'people':'people', 'product':'product'}"
      ],
      "metadata": {
        "id": "hsvhUkey0EN3"
      },
      "execution_count": 142,
      "outputs": []
    },
    {
      "cell_type": "code",
      "source": [
        "df['topic'] = df['topic'].map(topic_dic)"
      ],
      "metadata": {
        "id": "aIG2L6LM0hS9"
      },
      "execution_count": 143,
      "outputs": []
    },
    {
      "cell_type": "code",
      "source": [
        "plt.figure(figsize=[8,4])\n",
        "sns.countplot(y=df['topic'])"
      ],
      "metadata": {
        "colab": {
          "base_uri": "https://localhost:8080/",
          "height": 405
        },
        "id": "MubvvVlLGUwu",
        "outputId": "49783384-9e91-4a29-f639-3f3a6205f1c3"
      },
      "execution_count": 144,
      "outputs": [
        {
          "output_type": "execute_result",
          "data": {
            "text/plain": [
              "<Figure size 800x400 with 0 Axes>"
            ]
          },
          "metadata": {},
          "execution_count": 144
        },
        {
          "output_type": "execute_result",
          "data": {
            "text/plain": [
              "<Axes: xlabel='count', ylabel='topic'>"
            ]
          },
          "metadata": {},
          "execution_count": 144
        },
        {
          "output_type": "display_data",
          "data": {
            "text/plain": [
              "<Figure size 800x400 with 1 Axes>"
            ],
            "image/png": "[encoded data removed]"
          },
          "metadata": {}
        }
      ]
    },
    {
      "cell_type": "code",
      "source": [
        "# Preprocessing"
      ],
      "metadata": {
        "id": "s9NvV_7aGc7j"
      },
      "execution_count": 145,
      "outputs": []
    },
    {
      "cell_type": "code",
      "execution_count": 146,
      "metadata": {
        "id": "MhJ1E9y2Cpf5"
      },
      "outputs": [],
      "source": [
        "# Remove integer comments\n",
        "df = df[df['comment'].apply(lambda x: not isinstance(x, int))]\n",
        "df.reset_index(drop=True, inplace=True)\n",
        "\n",
        "#lower case\n",
        "df['comment'] = df['comment'].str.lower()"
      ]
    },
    {
      "cell_type": "code",
      "source": [
        "def preprocess_text(text, flg_stemm=False, flg_lemm=True, lst_stopwords=None):\n",
        "    ## clean (convert to lowercase and remove punctuations and  characters and then strip)\n",
        "    text = re.sub(r\"[^A-Za-z]+\", ' ' , str(text).lower().strip())\n",
        "            \n",
        "    ## Tokenize (convert from string to list)\n",
        "    lst_text = text.split()    ## remove Stopwords\n",
        "    # if lst_stopwords is not None:\n",
        "    #     lst_text = [word for word in lst_text if word not in lst_stopwords]\n",
        "                \n",
        "    ## Stemming (remove -ing, -ly, ...)\n",
        "    if flg_stemm == True:\n",
        "        ps = nltk.stem.porter.PorterStemmer()\n",
        "        lst_text = [ps.stem(word) for word in lst_text]\n",
        "                \n",
        "    ## Lemmatisation (convert the word into root word)\n",
        "    if flg_lemm == True:\n",
        "        lem = nltk.stem.wordnet.WordNetLemmatizer()\n",
        "        lst_text = [lem.lemmatize(word) for word in lst_text]\n",
        "            \n",
        "    ## back to string from list\n",
        "    text = \" \".join(lst_text)\n",
        "    return text"
      ],
      "metadata": {
        "id": "uWknRVTUhGzl"
      },
      "execution_count": 147,
      "outputs": []
    },
    {
      "cell_type": "code",
      "source": [
        "lst_stopwords = nltk.corpus.stopwords.words(\"english\")\n",
        "lst_stopwords.remove('no')\n",
        "lst_stopwords.remove('not')"
      ],
      "metadata": {
        "id": "uhqW6SUMiAxl"
      },
      "execution_count": 148,
      "outputs": []
    },
    {
      "cell_type": "code",
      "source": [
        "df[\"x\"] = df[\"comment\"].apply(lambda x: preprocess_text(x, flg_stemm=False, flg_lemm=True, lst_stopwords=lst_stopwords))\n",
        "# df['x'] = df['comment']\n",
        "df['y'] = df['topic']\n",
        "df.head(10)"
      ],
      "metadata": {
        "id": "iUEFP_HchGwG",
        "outputId": "5e55d964-7d1d-4f67-9709-0ec7c083f641",
        "colab": {
          "base_uri": "https://localhost:8080/",
          "height": 363
        }
      },
      "execution_count": 149,
      "outputs": [
        {
          "output_type": "execute_result",
          "data": {
            "text/plain": [
              "                                             comment        topic  \\\n",
              "0  querries where kotak is at disadvantageous pos...      service   \n",
              "1  1) same-day money deduction even if we have ma...  application   \n",
              "2                                         ndejjejdjx       others   \n",
              "3                              worst website trading  application   \n",
              "4  no technical support at real time, application...      service   \n",
              "5               need knowledge and experience person      service   \n",
              "6  please revisit my brokerage and deemat charges...      charges   \n",
              "7  iâm waiting for resolution or a meeting with...      service   \n",
              "8  i dint interacted so my rating may be a bias b...      service   \n",
              "9                              no issues with the rm      service   \n",
              "\n",
              "                                                   x            y  \n",
              "0  querries where kotak is at disadvantageous pos...      service  \n",
              "1  same day money deduction even if we have margi...  application  \n",
              "2                                         ndejjejdjx       others  \n",
              "3                              worst website trading  application  \n",
              "4  no technical support at real time application ...      service  \n",
              "5               need knowledge and experience person      service  \n",
              "6  please revisit my brokerage and deemat charge ...      charges  \n",
              "7  i m waiting for resolution or a meeting with m...      service  \n",
              "8  i dint interacted so my rating may be a bias b...      service  \n",
              "9                               no issue with the rm      service  "
            ],
            "text/html": [
              "\n",
              "  <div id=\"df-ebf547ac-fb70-4412-8737-bdf90631cd2a\">\n",
              "    <div class=\"colab-df-container\">\n",
              "      <div>\n",
              "<style scoped>\n",
              "    .dataframe tbody tr th:only-of-type {\n",
              "        vertical-align: middle;\n",
              "    }\n",
              "\n",
              "    .dataframe tbody tr th {\n",
              "        vertical-align: top;\n",
              "    }\n",
              "\n",
              "    .dataframe thead th {\n",
              "        text-align: right;\n",
              "    }\n",
              "</style>\n",
              "<table border=\"1\" class=\"dataframe\">\n",
              "  <thead>\n",
              "    <tr style=\"text-align: right;\">\n",
              "      <th></th>\n",
              "      <th>comment</th>\n",
              "      <th>topic</th>\n",
              "      <th>x</th>\n",
              "      <th>y</th>\n",
              "    </tr>\n",
              "  </thead>\n",
              "  <tbody>\n",
              "    <tr>\n",
              "      <th>0</th>\n",
              "      <td>querries where kotak is at disadvantageous pos...</td>\n",
              "      <td>service</td>\n",
              "      <td>querries where kotak is at disadvantageous pos...</td>\n",
              "      <td>service</td>\n",
              "    </tr>\n",
              "    <tr>\n",
              "      <th>1</th>\n",
              "      <td>1) same-day money deduction even if we have ma...</td>\n",
              "      <td>application</td>\n",
              "      <td>same day money deduction even if we have margi...</td>\n",
              "      <td>application</td>\n",
              "    </tr>\n",
              "    <tr>\n",
              "      <th>2</th>\n",
              "      <td>ndejjejdjx</td>\n",
              "      <td>others</td>\n",
              "      <td>ndejjejdjx</td>\n",
              "      <td>others</td>\n",
              "    </tr>\n",
              "    <tr>\n",
              "      <th>3</th>\n",
              "      <td>worst website trading</td>\n",
              "      <td>application</td>\n",
              "      <td>worst website trading</td>\n",
              "      <td>application</td>\n",
              "    </tr>\n",
              "    <tr>\n",
              "      <th>4</th>\n",
              "      <td>no technical support at real time, application...</td>\n",
              "      <td>service</td>\n",
              "      <td>no technical support at real time application ...</td>\n",
              "      <td>service</td>\n",
              "    </tr>\n",
              "    <tr>\n",
              "      <th>5</th>\n",
              "      <td>need knowledge and experience person</td>\n",
              "      <td>service</td>\n",
              "      <td>need knowledge and experience person</td>\n",
              "      <td>service</td>\n",
              "    </tr>\n",
              "    <tr>\n",
              "      <th>6</th>\n",
              "      <td>please revisit my brokerage and deemat charges...</td>\n",
              "      <td>charges</td>\n",
              "      <td>please revisit my brokerage and deemat charge ...</td>\n",
              "      <td>charges</td>\n",
              "    </tr>\n",
              "    <tr>\n",
              "      <th>7</th>\n",
              "      <td>iâm waiting for resolution or a meeting with...</td>\n",
              "      <td>service</td>\n",
              "      <td>i m waiting for resolution or a meeting with m...</td>\n",
              "      <td>service</td>\n",
              "    </tr>\n",
              "    <tr>\n",
              "      <th>8</th>\n",
              "      <td>i dint interacted so my rating may be a bias b...</td>\n",
              "      <td>service</td>\n",
              "      <td>i dint interacted so my rating may be a bias b...</td>\n",
              "      <td>service</td>\n",
              "    </tr>\n",
              "    <tr>\n",
              "      <th>9</th>\n",
              "      <td>no issues with the rm</td>\n",
              "      <td>service</td>\n",
              "      <td>no issue with the rm</td>\n",
              "      <td>service</td>\n",
              "    </tr>\n",
              "  </tbody>\n",
              "</table>\n",
              "</div>\n",
              "      <button class=\"colab-df-convert\" onclick=\"convertToInteractive('df-ebf547ac-fb70-4412-8737-bdf90631cd2a')\"\n",
              "              title=\"Convert this dataframe to an interactive table.\"\n",
              "              style=\"display:none;\">\n",
              "        \n",
              "  <svg xmlns=\"http://www.w3.org/2000/svg\" height=\"24px\"viewBox=\"0 0 24 24\"\n",
              "       width=\"24px\">\n",
              "    <path d=\"M0 0h24v24H0V0z\" fill=\"none\"/>\n",
              "    <path d=\"M18.56 5.44l.94 2.06.94-2.06 2.06-.94-2.06-.94-.94-2.06-.94 2.06-2.06.94zm-11 1L8.5 8.5l.94-2.06 2.06-.94-2.06-.94L8.5 2.5l-.94 2.06-2.06.94zm10 10l.94 2.06.94-2.06 2.06-.94-2.06-.94-.94-2.06-.94 2.06-2.06.94z\"/><path d=\"M17.41 7.96l-1.37-1.37c-.4-.4-.92-.59-1.43-.59-.52 0-1.04.2-1.43.59L10.3 9.45l-7.72 7.72c-.78.78-.78 2.05 0 2.83L4 21.41c.39.39.9.59 1.41.59.51 0 1.02-.2 1.41-.59l7.78-7.78 2.81-2.81c.8-.78.8-2.07 0-2.86zM5.41 20L4 18.59l7.72-7.72 1.47 1.35L5.41 20z\"/>\n",
              "  </svg>\n",
              "      </button>\n",
              "      \n",
              "  <style>\n",
              "    .colab-df-container {\n",
              "      display:flex;\n",
              "      flex-wrap:wrap;\n",
              "      gap: 12px;\n",
              "    }\n",
              "\n",
              "    .colab-df-convert {\n",
              "      background-color: #E8F0FE;\n",
              "      border: none;\n",
              "      border-radius: 50%;\n",
              "      cursor: pointer;\n",
              "      display: none;\n",
              "      fill: #1967D2;\n",
              "      height: 32px;\n",
              "      padding: 0 0 0 0;\n",
              "      width: 32px;\n",
              "    }\n",
              "\n",
              "    .colab-df-convert:hover {\n",
              "      background-color: #E2EBFA;\n",
              "      box-shadow: 0px 1px 2px rgba(60, 64, 67, 0.3), 0px 1px 3px 1px rgba(60, 64, 67, 0.15);\n",
              "      fill: #174EA6;\n",
              "    }\n",
              "\n",
              "    [theme=dark] .colab-df-convert {\n",
              "      background-color: #3B4455;\n",
              "      fill: #D2E3FC;\n",
              "    }\n",
              "\n",
              "    [theme=dark] .colab-df-convert:hover {\n",
              "      background-color: #434B5C;\n",
              "      box-shadow: 0px 1px 3px 1px rgba(0, 0, 0, 0.15);\n",
              "      filter: drop-shadow(0px 1px 2px rgba(0, 0, 0, 0.3));\n",
              "      fill: #FFFFFF;\n",
              "    }\n",
              "  </style>\n",
              "\n",
              "      <script>\n",
              "        const buttonEl =\n",
              "          document.querySelector('#df-ebf547ac-fb70-4412-8737-bdf90631cd2a button.colab-df-convert');\n",
              "        buttonEl.style.display =\n",
              "          google.colab.kernel.accessAllowed ? 'block' : 'none';\n",
              "\n",
              "        async function convertToInteractive(key) {\n",
              "          const element = document.querySelector('#df-ebf547ac-fb70-4412-8737-bdf90631cd2a');\n",
              "          const dataTable =\n",
              "            await google.colab.kernel.invokeFunction('convertToInteractive',\n",
              "                                                     [key], {});\n",
              "          if (!dataTable) return;\n",
              "\n",
              "          const docLinkHtml = 'Like what you see? Visit the ' +\n",
              "            '<a target=\"_blank\" href=https://colab.research.google.com/notebooks/data_table.ipynb>data table notebook</a>'\n",
              "            + ' to learn more about interactive tables.';\n",
              "          element.innerHTML = '';\n",
              "          dataTable['output_type'] = 'display_data';\n",
              "          await google.colab.output.renderOutput(dataTable, element);\n",
              "          const docLink = document.createElement('div');\n",
              "          docLink.innerHTML = docLinkHtml;\n",
              "          element.appendChild(docLink);\n",
              "        }\n",
              "      </script>\n",
              "    </div>\n",
              "  </div>\n",
              "  "
            ]
          },
          "metadata": {},
          "execution_count": 149
        }
      ]
    },
    {
      "cell_type": "code",
      "source": [
        "df = df[['x', 'y']]"
      ],
      "metadata": {
        "id": "wpOehiWSN5eu"
      },
      "execution_count": 150,
      "outputs": []
    },
    {
      "cell_type": "code",
      "source": [
        "# Prefixing each row of the category column with '__label__'\n",
        "df.iloc[:, 1] = df.iloc[:, 1].apply(lambda x: '__label__' + x)"
      ],
      "metadata": {
        "id": "4m4Ox5l4Mkd-"
      },
      "execution_count": 151,
      "outputs": []
    },
    {
      "cell_type": "code",
      "source": [
        "from sklearn.model_selection import train_test_split\n",
        "df_train, df_test = train_test_split(df, test_size=0.33, stratify=df['y'], random_state=0)"
      ],
      "metadata": {
        "id": "fd3ctMgVOfwq"
      },
      "execution_count": 152,
      "outputs": []
    },
    {
      "cell_type": "code",
      "source": [
        "import csv"
      ],
      "metadata": {
        "id": "MakDt70ePEbK"
      },
      "execution_count": 153,
      "outputs": []
    },
    {
      "cell_type": "code",
      "source": [
        "pip install fasttext\n"
      ],
      "metadata": {
        "colab": {
          "base_uri": "https://localhost:8080/"
        },
        "id": "uly0-x28PLKF",
        "outputId": "ef37e653-177c-48bf-a5f0-62a55a06e154"
      },
      "execution_count": 154,
      "outputs": [
        {
          "output_type": "stream",
          "name": "stdout",
          "text": [
            "Looking in indexes: https://pypi.org/simple, https://us-python.pkg.dev/colab-wheels/public/simple/\n",
            "Requirement already satisfied: fasttext in /usr/local/lib/python3.10/dist-packages (0.9.2)\n",
            "Requirement already satisfied: pybind11>=2.2 in /usr/local/lib/python3.10/dist-packages (from fasttext) (2.10.4)\n",
            "Requirement already satisfied: setuptools>=0.7.0 in /usr/local/lib/python3.10/dist-packages (from fasttext) (67.7.2)\n",
            "Requirement already satisfied: numpy in /usr/local/lib/python3.10/dist-packages (from fasttext) (1.22.4)\n"
          ]
        }
      ]
    },
    {
      "cell_type": "code",
      "source": [
        "import fasttext\n",
        "# Saving the CSV file as a text file to train/test the classifier\n",
        "df_train[['y', 'x']].to_csv('train.txt', \n",
        "                                          index = False, \n",
        "                                          sep = ' ',\n",
        "                                          header = None, \n",
        "                                          quoting = csv.QUOTE_NONE, \n",
        "                                          quotechar = \"\", \n",
        "                                          escapechar = \" \")\n",
        "\n",
        "df_test[['y', 'x']].to_csv('test.txt', \n",
        "                                     index = False, \n",
        "                                     sep = ' ',\n",
        "                                     header = None, \n",
        "                                     quoting = csv.QUOTE_NONE, \n",
        "                                     quotechar = \"\", \n",
        "                                     escapechar = \" \")\n",
        "\n",
        "\n",
        "# Training the fastText classifier\n",
        "model = fasttext.train_supervised('train.txt',lr=0.5, epoch=25, wordNgrams=2, bucket=200000, dim=50)\n",
        "\n",
        "# Evaluating performance on the entire test file\n",
        "model.test('test.txt')                      \n",
        "\n",
        "# Predicting on a single input\n",
        "# model.predict(ds.iloc[2, 0])\n",
        "\n",
        "# Save the trained model\n",
        "#model.save_model('model.bin')"
      ],
      "metadata": {
        "colab": {
          "base_uri": "https://localhost:8080/"
        },
        "id": "-GMxtG2FOSWM",
        "outputId": "cb95a4fa-9aca-43cb-b99b-c392b145273e"
      },
      "execution_count": 155,
      "outputs": [
        {
          "output_type": "execute_result",
          "data": {
            "text/plain": [
              "(1431, 0.822501747030049, 0.822501747030049)"
            ]
          },
          "metadata": {},
          "execution_count": 155
        }
      ]
    },
    {
      "cell_type": "code",
      "source": [
        "model.test('train.txt')"
      ],
      "metadata": {
        "colab": {
          "base_uri": "https://localhost:8080/"
        },
        "id": "3PU_AwfW3YlK",
        "outputId": "aa167c5c-c2fa-48bf-dcd5-5c75b5a5304b"
      },
      "execution_count": 156,
      "outputs": [
        {
          "output_type": "execute_result",
          "data": {
            "text/plain": [
              "(2904, 0.9996556473829201, 0.9996556473829201)"
            ]
          },
          "metadata": {},
          "execution_count": 156
        }
      ]
    },
    {
      "cell_type": "code",
      "source": [
        "df_test_pred = df_test\n",
        "df_test_pred['y_pred'] = df_test_pred['x'].apply(model.predict)\n",
        "df_test_pred['y_pred']=df_test_pred['y_pred'].str[0:1]\n",
        "df_test_pred['y_pred'] = df_test_pred['y_pred'].astype(str)\n",
        "df_test_pred['y_pred'] = df_test_pred['y_pred'].str[12:-5]\n",
        "df_test_pred['y'] = df_test_pred['y'].str[9:]"
      ],
      "metadata": {
        "id": "dB7S0FRaRACL"
      },
      "execution_count": 157,
      "outputs": []
    },
    {
      "cell_type": "code",
      "source": [
        "df_pred = df\n",
        "df_pred['y_pred'] = df_pred['x'].apply(model.predict)\n",
        "df_pred['y_pred'] = df_pred['y_pred'].str[0:1]\n",
        "df_pred['y_pred'] = df_pred['y_pred'].astype(str)\n",
        "df_pred['y_pred'] = df_pred['y_pred'].str[12:-5]\n",
        "df_pred['y'] = df_pred['y'].str[9:]"
      ],
      "metadata": {
        "id": "P_cSLCMvXgbM"
      },
      "execution_count": 158,
      "outputs": []
    },
    {
      "cell_type": "code",
      "source": [
        "df"
      ],
      "metadata": {
        "colab": {
          "base_uri": "https://localhost:8080/",
          "height": 423
        },
        "id": "9xlMVKm93exr",
        "outputId": "dea21d14-47ec-4ce3-f7b3-aef5ce3f5dc3"
      },
      "execution_count": 159,
      "outputs": [
        {
          "output_type": "execute_result",
          "data": {
            "text/plain": [
              "                                                      x            y  \\\n",
              "0     querries where kotak is at disadvantageous pos...      service   \n",
              "1     same day money deduction even if we have margi...  application   \n",
              "2                                            ndejjejdjx       others   \n",
              "3                                 worst website trading  application   \n",
              "4     no technical support at real time application ...      service   \n",
              "...                                                 ...          ...   \n",
              "4330  please reduce my brokerage in my equity accoun...      charges   \n",
              "4331      it waste to call with out resolving the issue      service   \n",
              "4332      use le service nnnnnnnnmf d d d d d d d d d d      service   \n",
              "4333                                              sunil       others   \n",
              "4334  tamil language will be useful to understand ea...      service   \n",
              "\n",
              "           y_pred  \n",
              "0         service  \n",
              "1     application  \n",
              "2          others  \n",
              "3     application  \n",
              "4         service  \n",
              "...           ...  \n",
              "4330      charges  \n",
              "4331      service  \n",
              "4332      service  \n",
              "4333       others  \n",
              "4334      service  \n",
              "\n",
              "[4335 rows x 3 columns]"
            ],
            "text/html": [
              "\n",
              "  <div id=\"df-dcdec0e0-bb25-460b-bda5-a7a9f9ab5733\">\n",
              "    <div class=\"colab-df-container\">\n",
              "      <div>\n",
              "<style scoped>\n",
              "    .dataframe tbody tr th:only-of-type {\n",
              "        vertical-align: middle;\n",
              "    }\n",
              "\n",
              "    .dataframe tbody tr th {\n",
              "        vertical-align: top;\n",
              "    }\n",
              "\n",
              "    .dataframe thead th {\n",
              "        text-align: right;\n",
              "    }\n",
              "</style>\n",
              "<table border=\"1\" class=\"dataframe\">\n",
              "  <thead>\n",
              "    <tr style=\"text-align: right;\">\n",
              "      <th></th>\n",
              "      <th>x</th>\n",
              "      <th>y</th>\n",
              "      <th>y_pred</th>\n",
              "    </tr>\n",
              "  </thead>\n",
              "  <tbody>\n",
              "    <tr>\n",
              "      <th>0</th>\n",
              "      <td>querries where kotak is at disadvantageous pos...</td>\n",
              "      <td>service</td>\n",
              "      <td>service</td>\n",
              "    </tr>\n",
              "    <tr>\n",
              "      <th>1</th>\n",
              "      <td>same day money deduction even if we have margi...</td>\n",
              "      <td>application</td>\n",
              "      <td>application</td>\n",
              "    </tr>\n",
              "    <tr>\n",
              "      <th>2</th>\n",
              "      <td>ndejjejdjx</td>\n",
              "      <td>others</td>\n",
              "      <td>others</td>\n",
              "    </tr>\n",
              "    <tr>\n",
              "      <th>3</th>\n",
              "      <td>worst website trading</td>\n",
              "      <td>application</td>\n",
              "      <td>application</td>\n",
              "    </tr>\n",
              "    <tr>\n",
              "      <th>4</th>\n",
              "      <td>no technical support at real time application ...</td>\n",
              "      <td>service</td>\n",
              "      <td>service</td>\n",
              "    </tr>\n",
              "    <tr>\n",
              "      <th>...</th>\n",
              "      <td>...</td>\n",
              "      <td>...</td>\n",
              "      <td>...</td>\n",
              "    </tr>\n",
              "    <tr>\n",
              "      <th>4330</th>\n",
              "      <td>please reduce my brokerage in my equity accoun...</td>\n",
              "      <td>charges</td>\n",
              "      <td>charges</td>\n",
              "    </tr>\n",
              "    <tr>\n",
              "      <th>4331</th>\n",
              "      <td>it waste to call with out resolving the issue</td>\n",
              "      <td>service</td>\n",
              "      <td>service</td>\n",
              "    </tr>\n",
              "    <tr>\n",
              "      <th>4332</th>\n",
              "      <td>use le service nnnnnnnnmf d d d d d d d d d d</td>\n",
              "      <td>service</td>\n",
              "      <td>service</td>\n",
              "    </tr>\n",
              "    <tr>\n",
              "      <th>4333</th>\n",
              "      <td>sunil</td>\n",
              "      <td>others</td>\n",
              "      <td>others</td>\n",
              "    </tr>\n",
              "    <tr>\n",
              "      <th>4334</th>\n",
              "      <td>tamil language will be useful to understand ea...</td>\n",
              "      <td>service</td>\n",
              "      <td>service</td>\n",
              "    </tr>\n",
              "  </tbody>\n",
              "</table>\n",
              "<p>4335 rows × 3 columns</p>\n",
              "</div>\n",
              "      <button class=\"colab-df-convert\" onclick=\"convertToInteractive('df-dcdec0e0-bb25-460b-bda5-a7a9f9ab5733')\"\n",
              "              title=\"Convert this dataframe to an interactive table.\"\n",
              "              style=\"display:none;\">\n",
              "        \n",
              "  <svg xmlns=\"http://www.w3.org/2000/svg\" height=\"24px\"viewBox=\"0 0 24 24\"\n",
              "       width=\"24px\">\n",
              "    <path d=\"M0 0h24v24H0V0z\" fill=\"none\"/>\n",
              "    <path d=\"M18.56 5.44l.94 2.06.94-2.06 2.06-.94-2.06-.94-.94-2.06-.94 2.06-2.06.94zm-11 1L8.5 8.5l.94-2.06 2.06-.94-2.06-.94L8.5 2.5l-.94 2.06-2.06.94zm10 10l.94 2.06.94-2.06 2.06-.94-2.06-.94-.94-2.06-.94 2.06-2.06.94z\"/><path d=\"M17.41 7.96l-1.37-1.37c-.4-.4-.92-.59-1.43-.59-.52 0-1.04.2-1.43.59L10.3 9.45l-7.72 7.72c-.78.78-.78 2.05 0 2.83L4 21.41c.39.39.9.59 1.41.59.51 0 1.02-.2 1.41-.59l7.78-7.78 2.81-2.81c.8-.78.8-2.07 0-2.86zM5.41 20L4 18.59l7.72-7.72 1.47 1.35L5.41 20z\"/>\n",
              "  </svg>\n",
              "      </button>\n",
              "      \n",
              "  <style>\n",
              "    .colab-df-container {\n",
              "      display:flex;\n",
              "      flex-wrap:wrap;\n",
              "      gap: 12px;\n",
              "    }\n",
              "\n",
              "    .colab-df-convert {\n",
              "      background-color: #E8F0FE;\n",
              "      border: none;\n",
              "      border-radius: 50%;\n",
              "      cursor: pointer;\n",
              "      display: none;\n",
              "      fill: #1967D2;\n",
              "      height: 32px;\n",
              "      padding: 0 0 0 0;\n",
              "      width: 32px;\n",
              "    }\n",
              "\n",
              "    .colab-df-convert:hover {\n",
              "      background-color: #E2EBFA;\n",
              "      box-shadow: 0px 1px 2px rgba(60, 64, 67, 0.3), 0px 1px 3px 1px rgba(60, 64, 67, 0.15);\n",
              "      fill: #174EA6;\n",
              "    }\n",
              "\n",
              "    [theme=dark] .colab-df-convert {\n",
              "      background-color: #3B4455;\n",
              "      fill: #D2E3FC;\n",
              "    }\n",
              "\n",
              "    [theme=dark] .colab-df-convert:hover {\n",
              "      background-color: #434B5C;\n",
              "      box-shadow: 0px 1px 3px 1px rgba(0, 0, 0, 0.15);\n",
              "      filter: drop-shadow(0px 1px 2px rgba(0, 0, 0, 0.3));\n",
              "      fill: #FFFFFF;\n",
              "    }\n",
              "  </style>\n",
              "\n",
              "      <script>\n",
              "        const buttonEl =\n",
              "          document.querySelector('#df-dcdec0e0-bb25-460b-bda5-a7a9f9ab5733 button.colab-df-convert');\n",
              "        buttonEl.style.display =\n",
              "          google.colab.kernel.accessAllowed ? 'block' : 'none';\n",
              "\n",
              "        async function convertToInteractive(key) {\n",
              "          const element = document.querySelector('#df-dcdec0e0-bb25-460b-bda5-a7a9f9ab5733');\n",
              "          const dataTable =\n",
              "            await google.colab.kernel.invokeFunction('convertToInteractive',\n",
              "                                                     [key], {});\n",
              "          if (!dataTable) return;\n",
              "\n",
              "          const docLinkHtml = 'Like what you see? Visit the ' +\n",
              "            '<a target=\"_blank\" href=https://colab.research.google.com/notebooks/data_table.ipynb>data table notebook</a>'\n",
              "            + ' to learn more about interactive tables.';\n",
              "          element.innerHTML = '';\n",
              "          dataTable['output_type'] = 'display_data';\n",
              "          await google.colab.output.renderOutput(dataTable, element);\n",
              "          const docLink = document.createElement('div');\n",
              "          docLink.innerHTML = docLinkHtml;\n",
              "          element.appendChild(docLink);\n",
              "        }\n",
              "      </script>\n",
              "    </div>\n",
              "  </div>\n",
              "  "
            ]
          },
          "metadata": {},
          "execution_count": 159
        }
      ]
    },
    {
      "cell_type": "code",
      "source": [
        "# Dict for classes\n",
        "df_pred['category_id'] = df_pred['y'].factorize()[0]\n",
        "category_id_df = df_pred[['y', 'category_id']].drop_duplicates().sort_values('category_id')\n",
        "category_to_id = dict(category_id_df.values)\n",
        "id_to_category = dict(category_id_df[['category_id', 'y']].values)"
      ],
      "metadata": {
        "id": "79OdM9QeYF5l"
      },
      "execution_count": 160,
      "outputs": []
    },
    {
      "cell_type": "code",
      "source": [
        "df_test_pred['category_id'] = df_test_pred['y'].map(category_to_id) \n",
        "df_test_pred['category_id_pred'] = df_test_pred['y_pred'].map(category_to_id) \n",
        "df_pred['category_id_pred'] = df_pred['y_pred'].map(category_to_id) "
      ],
      "metadata": {
        "id": "Hmwr3ApAYVKr"
      },
      "execution_count": 161,
      "outputs": []
    },
    {
      "cell_type": "code",
      "source": [
        "df_test_pred[df_test_pred['category_id_pred'].isnull()]"
      ],
      "metadata": {
        "colab": {
          "base_uri": "https://localhost:8080/",
          "height": 49
        },
        "id": "DpvOzh01Z5Js",
        "outputId": "d11a6a69-8050-437d-ed9b-38b795430537"
      },
      "execution_count": 162,
      "outputs": [
        {
          "output_type": "execute_result",
          "data": {
            "text/plain": [
              "Empty DataFrame\n",
              "Columns: [x, y, y_pred, category_id, category_id_pred]\n",
              "Index: []"
            ],
            "text/html": [
              "\n",
              "  <div id=\"df-95a2cdea-60ec-4998-9500-3304b1ddbb61\">\n",
              "    <div class=\"colab-df-container\">\n",
              "      <div>\n",
              "<style scoped>\n",
              "    .dataframe tbody tr th:only-of-type {\n",
              "        vertical-align: middle;\n",
              "    }\n",
              "\n",
              "    .dataframe tbody tr th {\n",
              "        vertical-align: top;\n",
              "    }\n",
              "\n",
              "    .dataframe thead th {\n",
              "        text-align: right;\n",
              "    }\n",
              "</style>\n",
              "<table border=\"1\" class=\"dataframe\">\n",
              "  <thead>\n",
              "    <tr style=\"text-align: right;\">\n",
              "      <th></th>\n",
              "      <th>x</th>\n",
              "      <th>y</th>\n",
              "      <th>y_pred</th>\n",
              "      <th>category_id</th>\n",
              "      <th>category_id_pred</th>\n",
              "    </tr>\n",
              "  </thead>\n",
              "  <tbody>\n",
              "  </tbody>\n",
              "</table>\n",
              "</div>\n",
              "      <button class=\"colab-df-convert\" onclick=\"convertToInteractive('df-95a2cdea-60ec-4998-9500-3304b1ddbb61')\"\n",
              "              title=\"Convert this dataframe to an interactive table.\"\n",
              "              style=\"display:none;\">\n",
              "        \n",
              "  <svg xmlns=\"http://www.w3.org/2000/svg\" height=\"24px\"viewBox=\"0 0 24 24\"\n",
              "       width=\"24px\">\n",
              "    <path d=\"M0 0h24v24H0V0z\" fill=\"none\"/>\n",
              "    <path d=\"M18.56 5.44l.94 2.06.94-2.06 2.06-.94-2.06-.94-.94-2.06-.94 2.06-2.06.94zm-11 1L8.5 8.5l.94-2.06 2.06-.94-2.06-.94L8.5 2.5l-.94 2.06-2.06.94zm10 10l.94 2.06.94-2.06 2.06-.94-2.06-.94-.94-2.06-.94 2.06-2.06.94z\"/><path d=\"M17.41 7.96l-1.37-1.37c-.4-.4-.92-.59-1.43-.59-.52 0-1.04.2-1.43.59L10.3 9.45l-7.72 7.72c-.78.78-.78 2.05 0 2.83L4 21.41c.39.39.9.59 1.41.59.51 0 1.02-.2 1.41-.59l7.78-7.78 2.81-2.81c.8-.78.8-2.07 0-2.86zM5.41 20L4 18.59l7.72-7.72 1.47 1.35L5.41 20z\"/>\n",
              "  </svg>\n",
              "      </button>\n",
              "      \n",
              "  <style>\n",
              "    .colab-df-container {\n",
              "      display:flex;\n",
              "      flex-wrap:wrap;\n",
              "      gap: 12px;\n",
              "    }\n",
              "\n",
              "    .colab-df-convert {\n",
              "      background-color: #E8F0FE;\n",
              "      border: none;\n",
              "      border-radius: 50%;\n",
              "      cursor: pointer;\n",
              "      display: none;\n",
              "      fill: #1967D2;\n",
              "      height: 32px;\n",
              "      padding: 0 0 0 0;\n",
              "      width: 32px;\n",
              "    }\n",
              "\n",
              "    .colab-df-convert:hover {\n",
              "      background-color: #E2EBFA;\n",
              "      box-shadow: 0px 1px 2px rgba(60, 64, 67, 0.3), 0px 1px 3px 1px rgba(60, 64, 67, 0.15);\n",
              "      fill: #174EA6;\n",
              "    }\n",
              "\n",
              "    [theme=dark] .colab-df-convert {\n",
              "      background-color: #3B4455;\n",
              "      fill: #D2E3FC;\n",
              "    }\n",
              "\n",
              "    [theme=dark] .colab-df-convert:hover {\n",
              "      background-color: #434B5C;\n",
              "      box-shadow: 0px 1px 3px 1px rgba(0, 0, 0, 0.15);\n",
              "      filter: drop-shadow(0px 1px 2px rgba(0, 0, 0, 0.3));\n",
              "      fill: #FFFFFF;\n",
              "    }\n",
              "  </style>\n",
              "\n",
              "      <script>\n",
              "        const buttonEl =\n",
              "          document.querySelector('#df-95a2cdea-60ec-4998-9500-3304b1ddbb61 button.colab-df-convert');\n",
              "        buttonEl.style.display =\n",
              "          google.colab.kernel.accessAllowed ? 'block' : 'none';\n",
              "\n",
              "        async function convertToInteractive(key) {\n",
              "          const element = document.querySelector('#df-95a2cdea-60ec-4998-9500-3304b1ddbb61');\n",
              "          const dataTable =\n",
              "            await google.colab.kernel.invokeFunction('convertToInteractive',\n",
              "                                                     [key], {});\n",
              "          if (!dataTable) return;\n",
              "\n",
              "          const docLinkHtml = 'Like what you see? Visit the ' +\n",
              "            '<a target=\"_blank\" href=https://colab.research.google.com/notebooks/data_table.ipynb>data table notebook</a>'\n",
              "            + ' to learn more about interactive tables.';\n",
              "          element.innerHTML = '';\n",
              "          dataTable['output_type'] = 'display_data';\n",
              "          await google.colab.output.renderOutput(dataTable, element);\n",
              "          const docLink = document.createElement('div');\n",
              "          docLink.innerHTML = docLinkHtml;\n",
              "          element.appendChild(docLink);\n",
              "        }\n",
              "      </script>\n",
              "    </div>\n",
              "  </div>\n",
              "  "
            ]
          },
          "metadata": {},
          "execution_count": 162
        }
      ]
    },
    {
      "cell_type": "code",
      "source": [
        "df_test_pred.y_pred.unique()"
      ],
      "metadata": {
        "colab": {
          "base_uri": "https://localhost:8080/"
        },
        "id": "wluGZRiXzR0n",
        "outputId": "07f39fac-4a60-497e-fd31-25556df94736"
      },
      "execution_count": 163,
      "outputs": [
        {
          "output_type": "execute_result",
          "data": {
            "text/plain": [
              "array(['service', 'application', 'others', 'people', 'charges', 'process'],\n",
              "      dtype=object)"
            ]
          },
          "metadata": {},
          "execution_count": 163
        }
      ]
    },
    {
      "cell_type": "code",
      "execution_count": 164,
      "metadata": {
        "colab": {
          "base_uri": "https://localhost:8080/",
          "height": 545
        },
        "id": "voEGDHPkCpf7",
        "outputId": "164f1494-8143-4b9a-e318-87877e55bf8b"
      },
      "outputs": [
        {
          "output_type": "execute_result",
          "data": {
            "text/plain": [
              "<Axes: >"
            ]
          },
          "metadata": {},
          "execution_count": 164
        },
        {
          "output_type": "execute_result",
          "data": {
            "text/plain": [
              "Text(33.222222222222214, 0.5, 'Actual')"
            ]
          },
          "metadata": {},
          "execution_count": 164
        },
        {
          "output_type": "execute_result",
          "data": {
            "text/plain": [
              "Text(0.5, 25.722222222222214, 'Predicted')"
            ]
          },
          "metadata": {},
          "execution_count": 164
        },
        {
          "output_type": "display_data",
          "data": {
            "text/plain": [
              "<Figure size 500x500 with 2 Axes>"
            ],
            "image/png": "[encoded data removed]"
          },
          "metadata": {}
        }
      ],
      "source": [
        "from sklearn.metrics import confusion_matrix\n",
        "conf_mat = confusion_matrix(df_test_pred['category_id'], df_test_pred['category_id_pred'])\n",
        "fig, ax = plt.subplots(figsize=(5,5))\n",
        "sns.heatmap(conf_mat, annot=True, fmt='d',\n",
        "            xticklabels=category_id_df.y.values, yticklabels=category_id_df.y.values)\n",
        "plt.ylabel('Actual')\n",
        "plt.xlabel('Predicted')\n",
        "plt.show()"
      ]
    },
    {
      "cell_type": "code",
      "source": [
        "# Classification report\n",
        "from sklearn import metrics\n",
        "print(metrics.classification_report(df_test_pred['category_id'], df_test_pred['category_id_pred'], target_names=df['y'].unique()))"
      ],
      "metadata": {
        "id": "v9lF3u0R4l1p",
        "outputId": "bc71891c-15a4-447d-e259-4b800b7bf95e",
        "colab": {
          "base_uri": "https://localhost:8080/"
        }
      },
      "execution_count": 165,
      "outputs": [
        {
          "output_type": "stream",
          "name": "stdout",
          "text": [
            "              precision    recall  f1-score   support\n",
            "\n",
            "     service       0.81      0.90      0.85       629\n",
            " application       0.82      0.84      0.83       354\n",
            "      others       0.84      0.82      0.83       261\n",
            "     charges       0.96      0.73      0.83       110\n",
            "     process       0.50      0.20      0.29        25\n",
            "      people       0.80      0.33      0.47        48\n",
            "     product       0.00      0.00      0.00         4\n",
            "\n",
            "    accuracy                           0.82      1431\n",
            "   macro avg       0.68      0.55      0.58      1431\n",
            "weighted avg       0.82      0.82      0.81      1431\n",
            "\n"
          ]
        },
        {
          "output_type": "stream",
          "name": "stderr",
          "text": [
            "/usr/local/lib/python3.10/dist-packages/sklearn/metrics/_classification.py:1344: UndefinedMetricWarning: Precision and F-score are ill-defined and being set to 0.0 in labels with no predicted samples. Use `zero_division` parameter to control this behavior.\n",
            "  _warn_prf(average, modifier, msg_start, len(result))\n",
            "/usr/local/lib/python3.10/dist-packages/sklearn/metrics/_classification.py:1344: UndefinedMetricWarning: Precision and F-score are ill-defined and being set to 0.0 in labels with no predicted samples. Use `zero_division` parameter to control this behavior.\n",
            "  _warn_prf(average, modifier, msg_start, len(result))\n",
            "/usr/local/lib/python3.10/dist-packages/sklearn/metrics/_classification.py:1344: UndefinedMetricWarning: Precision and F-score are ill-defined and being set to 0.0 in labels with no predicted samples. Use `zero_division` parameter to control this behavior.\n",
            "  _warn_prf(average, modifier, msg_start, len(result))\n"
          ]
        }
      ]
    },
    {
      "cell_type": "code",
      "execution_count": 166,
      "metadata": {
        "id": "9Cu4UifQCpf7",
        "colab": {
          "base_uri": "https://localhost:8080/",
          "height": 545
        },
        "outputId": "42d9fcad-08bc-4d8b-8bd4-b6a7446681ba"
      },
      "outputs": [
        {
          "output_type": "execute_result",
          "data": {
            "text/plain": [
              "<Axes: >"
            ]
          },
          "metadata": {},
          "execution_count": 166
        },
        {
          "output_type": "execute_result",
          "data": {
            "text/plain": [
              "Text(33.222222222222214, 0.5, 'Actual')"
            ]
          },
          "metadata": {},
          "execution_count": 166
        },
        {
          "output_type": "execute_result",
          "data": {
            "text/plain": [
              "Text(0.5, 25.722222222222214, 'Predicted')"
            ]
          },
          "metadata": {},
          "execution_count": 166
        },
        {
          "output_type": "display_data",
          "data": {
            "text/plain": [
              "<Figure size 500x500 with 2 Axes>"
            ],
            "image/png": "[encoded data removed]"
          },
          "metadata": {}
        }
      ],
      "source": [
        "from sklearn.metrics import confusion_matrix\n",
        "conf_mat = confusion_matrix(df_pred['category_id'], df_pred['category_id_pred'])\n",
        "fig, ax = plt.subplots(figsize=(5,5))\n",
        "sns.heatmap(conf_mat, annot=True, fmt='d',\n",
        "            xticklabels=category_id_df.y.values, yticklabels=category_id_df.y.values)\n",
        "plt.ylabel('Actual')\n",
        "plt.xlabel('Predicted')\n",
        "plt.show()"
      ]
    },
    {
      "cell_type": "code",
      "execution_count": 167,
      "metadata": {
        "colab": {
          "base_uri": "https://localhost:8080/"
        },
        "id": "NS-7FGhLCpf7",
        "outputId": "1f484515-f387-484b-d0cf-572eab37c27e"
      },
      "outputs": [
        {
          "output_type": "stream",
          "name": "stdout",
          "text": [
            "              precision    recall  f1-score   support\n",
            "\n",
            "     service       0.93      0.97      0.95      1905\n",
            " application       0.94      0.95      0.94      1074\n",
            "      others       0.95      0.94      0.94       791\n",
            "     charges       0.99      0.91      0.95       332\n",
            "     process       0.92      0.73      0.81        75\n",
            "      people       0.97      0.78      0.86       145\n",
            "     product       1.00      0.69      0.82        13\n",
            "\n",
            "    accuracy                           0.94      4335\n",
            "   macro avg       0.96      0.85      0.90      4335\n",
            "weighted avg       0.94      0.94      0.94      4335\n",
            "\n"
          ]
        }
      ],
      "source": [
        "# Classification report overall\n",
        "from sklearn import metrics\n",
        "print(metrics.classification_report(df_pred['category_id'], df_pred['category_id_pred'], target_names=df['y'].unique()))"
      ]
    },
    {
      "cell_type": "code",
      "execution_count": 168,
      "metadata": {
        "id": "E2r7i5zgCpf7"
      },
      "outputs": [],
      "source": [
        "res = pd.DataFrame()\n",
        "# To manually verify why some failed\n",
        "from IPython.display import display\n",
        "\n",
        "for predicted in category_id_df.category_id:\n",
        "    for actual in category_id_df.category_id:\n",
        "        if predicted != actual and conf_mat[actual, predicted] >= 10:\n",
        "            # print(\"'{}' predicted as '{}' : {} examples.\".format(id_to_category[actual], id_to_category[predicted], conf_mat[actual, predicted]))\n",
        "            temp = df_pred.query(f' (b == {actual}) & (category_id_pred == {predicted})')[['x']]\n",
        "            temp['y'] = id_to_category[actual]\n",
        "            temp['y_pred'] = id_to_category[predicted]\n",
        "            # print('')\n",
        "            res = pd.concat([res,temp])"
      ]
    },
    {
      "cell_type": "code",
      "source": [
        "from google.colab import data_table\n",
        "data_table.DataTable(res, include_index=False, num_rows_per_page=10)"
      ],
      "metadata": {
        "colab": {
          "base_uri": "https://localhost:8080/",
          "height": 376
        },
        "id": "YZFaySnw8Ner",
        "outputId": "5e282ea8-3d54-4b9a-d1c4-af710e7bf487"
      },
      "execution_count": 169,
      "outputs": [
        {
          "output_type": "execute_result",
          "data": {
            "text/html": [
              "<div>\n",
              "<style scoped>\n",
              "    .dataframe tbody tr th:only-of-type {\n",
              "        vertical-align: middle;\n",
              "    }\n",
              "\n",
              "    .dataframe tbody tr th {\n",
              "        vertical-align: top;\n",
              "    }\n",
              "\n",
              "    .dataframe thead th {\n",
              "        text-align: right;\n",
              "    }\n",
              "</style>\n",
              "<table border=\"1\" class=\"dataframe\">\n",
              "  <thead>\n",
              "    <tr style=\"text-align: right;\">\n",
              "      <th></th>\n",
              "      <th>x</th>\n",
              "      <th>y</th>\n",
              "      <th>y_pred</th>\n",
              "    </tr>\n",
              "  </thead>\n",
              "  <tbody>\n",
              "    <tr>\n",
              "      <th>122</th>\n",
              "      <td>from last week facing problem at morning tradi...</td>\n",
              "      <td>application</td>\n",
              "      <td>service</td>\n",
              "    </tr>\n",
              "    <tr>\n",
              "      <th>324</th>\n",
              "      <td>close the company and take advise from zerodha...</td>\n",
              "      <td>application</td>\n",
              "      <td>service</td>\n",
              "    </tr>\n",
              "    <tr>\n",
              "      <th>555</th>\n",
              "      <td>the call wa in waitlist without any response</td>\n",
              "      <td>application</td>\n",
              "      <td>service</td>\n",
              "    </tr>\n",
              "    <tr>\n",
              "      <th>713</th>\n",
              "      <td>no rm provided highly disappointed with kotak ...</td>\n",
              "      <td>application</td>\n",
              "      <td>service</td>\n",
              "    </tr>\n",
              "    <tr>\n",
              "      <th>826</th>\n",
              "      <td>my account report not good just like profit an...</td>\n",
              "      <td>application</td>\n",
              "      <td>service</td>\n",
              "    </tr>\n",
              "    <tr>\n",
              "      <th>...</th>\n",
              "      <td>...</td>\n",
              "      <td>...</td>\n",
              "      <td>...</td>\n",
              "    </tr>\n",
              "    <tr>\n",
              "      <th>3997</th>\n",
              "      <td>i felt nobody cared</td>\n",
              "      <td>service</td>\n",
              "      <td>others</td>\n",
              "    </tr>\n",
              "    <tr>\n",
              "      <th>3998</th>\n",
              "      <td>delar quary</td>\n",
              "      <td>service</td>\n",
              "      <td>others</td>\n",
              "    </tr>\n",
              "    <tr>\n",
              "      <th>4027</th>\n",
              "      <td>advice not receive and investment nothing</td>\n",
              "      <td>service</td>\n",
              "      <td>others</td>\n",
              "    </tr>\n",
              "    <tr>\n",
              "      <th>4090</th>\n",
              "      <td>rarely respond</td>\n",
              "      <td>service</td>\n",
              "      <td>others</td>\n",
              "    </tr>\n",
              "    <tr>\n",
              "      <th>4118</th>\n",
              "      <td>regular sugestions not given</td>\n",
              "      <td>service</td>\n",
              "      <td>others</td>\n",
              "    </tr>\n",
              "  </tbody>\n",
              "</table>\n",
              "<p>198 rows × 3 columns</p>\n",
              "</div>"
            ],
            "application/vnd.google.colaboratory.module+javascript": "\n      import \"https://ssl.gstatic.com/colaboratory/data_table/99dac6621f6ae8c4/data_table.js\";\n\n      window.createDataTable({\n        data: [[\"from last week facing problem at morning trading session plz resolved\",\n\"application\",\n\"service\"],\n [\"close the company and take advise from zerodha to run the business with customer satisfaction your neo app didnt work then why you force to install your branch is not effective and efficient to solve the problem of client branch manager and staff not giving proper service one very important thing why do you didnt allow to take mobile in the treding room thats why i closed my account there is another problem i cant submit the feedback thats why you closed the comny\",\n\"application\",\n\"service\"],\n [\"the call wa in waitlist without any response\",\n\"application\",\n\"service\"],\n [\"no rm provided highly disappointed with kotak security\",\n\"application\",\n\"service\"],\n [\"my account report not good just like profit and loss and margent intrest sheet\",\n\"application\",\n\"service\"],\n [\"solve app problem also improve customer care support\",\n\"application\",\n\"service\"],\n [\"close uour neo appglitches faced day before yesterday for whole day call for switching to old platformvery difficult to get assistance from kotak when required\",\n\"application\",\n\"service\"],\n [\"please ignore my response to previous question it appears that the relationship manager is not empowered to take a decision for resolution she ha promised to escalate my request to the manager however so far i do not seem to have received a response\",\n\"application\",\n\"service\"],\n [\"i understand that technical glitch may come once in a while but i last week it ha happened time and before that i had the experience but that time wa of few minute bht last week it wa of hour and moreover your customer care not responding you can tell they were busy on other call but in twitter none of the subscriber call ha been responded\",\n\"application\",\n\"service\"],\n [\"your call trade department behave rudely\",\n\"application\",\n\"service\"],\n [\"mera k loss hai nd december ka abhi tak nahi aya bill bhi nahi aya hai\",\n\"application\",\n\"service\"],\n [\"my email dt reg suzlon energy right issue in which i had participated and partly paid for share are yet to be responded by your c team pl advise your c to act on the above matter immediately\",\n\"application\",\n\"service\"],\n [\"poor experience kotak neo customer care i have coll customer care number but no response\",\n\"application\",\n\"service\"],\n [\"jab trading account open kiya tha tab jo charge account open karne wale ne bataye the jo dealer ne charge kiya hai difference hai\",\n\"application\",\n\"service\"],\n [\"no proper trading software no charting tool not improving quality after year request\",\n\"application\",\n\"service\"],\n [\"from last week facing problem at morning trading session plz resolved\",\n\"application\",\n\"service\"],\n [\"close the company and take advise from zerodha to run the business with customer satisfaction your neo app didnt work then why you force to install your branch is not effective and efficient to solve the problem of client branch manager and staff not giving proper service one very important thing why do you didnt allow to take mobile in the treding room thats why i closed my account there is another problem i cant submit the feedback thats why you closed the comny\",\n\"application\",\n\"service\"],\n [\"the call wa in waitlist without any response\",\n\"application\",\n\"service\"],\n [\"no rm provided highly disappointed with kotak security\",\n\"application\",\n\"service\"],\n [\"the mobile app and desktop portal are not user friendly even relationship manager dont understand the query they promise to mail or call but dont do it or respond after several day\",\n\"application\",\n\"service\"],\n [\"intraday tip market sudden downfall should be informed whatsapp should be in active mode big braking deal information shoul be in alert mode\",\n\"application\",\n\"service\"],\n [\"whatsapp representative not able to right answer\",\n\"application\",\n\"service\"],\n [\"u people dont want to improve or please call today again not able to open any app on mobile or laptop not able to trade through call or net\",\n\"application\",\n\"service\"],\n [\"your system is not customer friendly\",\n\"application\",\n\"service\"],\n [\"you are providing whats app chat regarding query most of the time auto reply only coming chose number or but the person wont respond to answer lic ipo first day we cant able to apply in the afternoon i allied but no confirmation received why your person were not informed the actual position m\",\n\"application\",\n\"service\"],\n [\"improve your mobile applicationcharts speed at crucial time become too slow being digital at crucial time line becomes bussy call back after hour is of no use in highly sensitive stock market hence worst\",\n\"application\",\n\"service\"],\n [\"referal bonus of acc opened each credit not given even after mailed to escation team n they admitted but more than month gone credit not given to u ut shake oyr confidence app becoming laggy dyring mkt opening frst hour rm keep changing v fast n do take initiative to solve querry\",\n\"application\",\n\"service\"],\n [\"there is no onewho can guide on my investment amount and no one ha vision by which i can earn in market you guy have complete team and then also customer are not benefited\",\n\"application\",\n\"service\"],\n [\"poorly system manuplatting to the cutomers\",\n\"application\",\n\"service\"],\n [\"i got absolutely false information about capital gain and that too after wasting half an hour your mobile app and portal both are faulty improve capital gain statement to make it convenient to get information required for filling up itr easily\",\n\"application\",\n\"service\"],\n [\"whatsapp can be more effective your staff is used to give stereo reply keep their book clean rather than solving customer problem\",\n\"application\",\n\"service\"],\n [\"your app suck and you are experimenting with it by making client suffer by not logging the complaint or providing a seamless redressal on email purposely everything is kept on phone call so a to shadow the issue of your own pathetic learning curve\",\n\"application\",\n\"service\"],\n [\"costlyopaquedifficult to reach customer care never responds waste tradong view paneltoo many technical glitch\",\n\"application\",\n\"service\"],\n [\"not understand the client issue inappropriate intalking\",\n\"application\",\n\"service\"],\n [\"need to improve the system to work\",\n\"application\",\n\"service\"],\n [\"in indial day representative use to call me about query but in non one wa there to help u when inwas in need even several request made on whatsapp number of kotak security but query r dealts per their convenience and not a customer need\",\n\"application\",\n\"service\"],\n [\"you need a huge improvement in app and people working for you it is not a loan department where a customer can wait you need people who know and can answer instantly about market term and policy profit becomes loss in second over here\",\n\"application\",\n\"service\"],\n [\"mene apne bank se kotak security me transfar diya tha uska problam solve ho gaya aabhaar\",\n\"application\",\n\"service\"],\n [\"user guide to navigate and fully utilize all feature of the tool is required your person is not fully aware of the all feature of the tool\",\n\"application\",\n\"service\"],\n [\"inprove your charting exprience very very poorwhen refresh all the time white screen appear when reinstall same issue continues\",\n\"application\",\n\"service\"],\n [\"applied lic ipo did not get and money not refunded yet complained every one yet not solved\",\n\"application\",\n\"service\"],\n [\"me aapki old customer hu and mere transaction bhi ache hai but aapke side se koi offer and koi emi option nhi aate hai and other new customer ko aap sari suvidha dete hai\",\n\"application\",\n\"service\"],\n [\"not able to locate demat account in the ap\",\n\"application\",\n\"service\"],\n [\"very bad aap i am disappointed to open here my account and charge over if not impure the kotak we are closed and exit kotak demait a c hope to reply thanks\",\n\"application\",\n\"service\"],\n [\"after initial exp i asked to close the ac they have yet not closed the ac\",\n\"others\",\n\"service\"],\n [\"management is aware of issue in the organisation not willing to improve hence giving suggestion is of no use\",\n\"others\",\n\"service\"],\n [\"want to close relationship\",\n\"others\",\n\"service\"],\n [\"properly message\",\n\"others\",\n\"service\"],\n [\"call me sir pls\",\n\"others\",\n\"service\"],\n [\"good working in the kotak security implant and properly guiding in brokering\",\n\"others\",\n\"service\"],\n [\"make responce on call from our registerd mobile no immediately\",\n\"others\",\n\"service\"],\n [\"bad experience for a year old customer\",\n\"others\",\n\"service\"],\n [\"no query\",\n\"others\",\n\"service\"],\n [\"i have sent mail\",\n\"others\",\n\"service\"],\n [\"after initial exp i asked to close the ac they have yet not closed the ac\",\n\"others\",\n\"service\"],\n [\"management is aware of issue in the organisation not willing to improve hence giving suggestion is of no use\",\n\"others\",\n\"service\"],\n [\"want to close relationship\",\n\"others\",\n\"service\"],\n [\"no able to do business\",\n\"others\",\n\"service\"],\n [\"help the customer\",\n\"others\",\n\"service\"],\n [\"stop sending virus in contact note this is crime\",\n\"others\",\n\"service\"],\n [\"looting to customer\",\n\"others\",\n\"service\"],\n [\"just don t ask for feedback work on it a well\",\n\"others\",\n\"service\"],\n [\"now i am tired of writing suggestion and feedback a you nothing get out of it\",\n\"others\",\n\"service\"],\n [\"hopeless broker response not friendly to retailer at all\",\n\"others\",\n\"service\"],\n [\"don t call me on my mobile\",\n\"others\",\n\"service\"],\n [\"deed are not upto the word\",\n\"others\",\n\"service\"],\n [\"they never respond on time at time\",\n\"others\",\n\"service\"],\n [\"worst agency kotak security is just seem to see to their personal interest\",\n\"others\",\n\"service\"],\n [\"make pdf for product with date of update at top nse digital is from i should not say all this\",\n\"others\",\n\"service\"],\n [\"it wa my worst ever experience with kotak bank even the branch manager behaved like a dumb which made me move my all fund to other bank\",\n\"others\",\n\"service\"],\n [\"take the feedback in a constructive manner and embrace the change\",\n\"others\",\n\"service\"],\n [\"i don t like\",\n\"others\",\n\"service\"],\n [\"not resolved\",\n\"others\",\n\"service\"],\n [\"what is the resolution am making loss for the profit making strategy because the average price is changing on daily basis without making any change in the holding position\",\n\"others\",\n\"service\"],\n [\"i had no interaction just a blank call which truecaller identified a kotak securitiesthe previous interaction werent very good either\",\n\"others\",\n\"service\"],\n [\"i wa requesting for last few month to close my trading account and to freeze dp account executive were giving lame excuse etc\",\n\"others\",\n\"service\"],\n [\"worst case scenario worst experience with you i will shift my investment to some other vendor i file complaint to nse and sebi against you\",\n\"others\",\n\"service\"],\n [\"worst experience\",\n\"others\",\n\"service\"],\n [\"he wa hardly interested in knowing my requirement\",\n\"others\",\n\"service\"],\n [\"always try to be better\",\n\"others\",\n\"service\"],\n [\"kotak is charging to much a compared to others i have gone to branch but not friutful\",\n\"charges\",\n\"service\"],\n [\"a and when there are change in interest or any trading related or mft they are never informed to the trader by way of personal calling and bringing to the knowledge of u i feel it is not a transparent and fair practice they need to be corrected\",\n\"charges\",\n\"service\"],\n [\"kotak is charging to much a compared to others i have gone to branch but not friutful\",\n\"charges\",\n\"service\"],\n [\"a and when there are change in interest or any trading related or mft they are never informed to the trader by way of personal calling and bringing to the knowledge of u i feel it is not a transparent and fair practice they need to be corrected\",\n\"charges\",\n\"service\"],\n [\"you should do what you say you will do if you say you will close the account you should close the account and do not keep it alive to get the monthly maintenance charge\",\n\"charges\",\n\"service\"],\n [\"it better not to give margin money facility to any customer and if you are giving them then you should co operate with them when market at down trend with out considering how much loss customer will face when you sold his margin money stock\",\n\"charges\",\n\"service\"],\n [\"nobody else give proper detail a debited charge\",\n\"charges\",\n\"service\"],\n [\"too much charge with zero information\",\n\"charges\",\n\"service\"],\n [\"i have pledged sgb with kotak security rate charged is which is too high my physical sgb conversion into dmat is pending for more than one year with bank no resolution response received\",\n\"charges\",\n\"service\"],\n [\"very bad experience please refund my all extra charge which you guy received and also give me one proper advisor\",\n\"charges\",\n\"service\"],\n [\"your fee and charge are not competitive at all make access to human interaction for query resolution possible you have gone way too far on machine interaction to save money\",\n\"charges\",\n\"service\"],\n [\"kindly share dealer contact info so customer can connect immediately with dealer in case of urgent issue knowledge of customer care is worst no fcr first call resolution they have are aware of basic detail and everytime ha put the customer on hold agent disconnecting call i had called time for brokerage detail on option and future hope suggestion are worked upon\",\n\"charges\",\n\"service\"],\n [\"i inquired about charge and they said we ll call back later and never called back yet\",\n\"charges\",\n\"service\"],\n [\"i asked to call me by my relationship manager and decrease the brokerage promised me to arrange a call but it never happened even after multiple attempt you can call me at a i am staying in singapore now thank you\",\n\"charges\",\n\"service\"],\n [\"first of all charge are high when somebody wa calling me that person should have entire knowhow regarding the topic\",\n\"charges\",\n\"service\"],\n [\"i have been asking for reduction of brokerage which is not getting done by either the bank nor dealer pathetic service\",\n\"charges\",\n\"service\"],\n [\"i have bad expirence with the person who had opend my trinity account here some hiden charge i have to pay to the bank which wasnt discussed with me\",\n\"charges\",\n\"service\"],\n [\"my query is still not solved i am requesting several time do not deduct sm charge r per month i am not interested in sm idea but still it is deducting monthly maintenance r pm is also very high\",\n\"charges\",\n\"service\"],\n [\"your representative informed me that this would be a no amc charge account a it wa linked to my privy saving bank account scheme but now you people are saying that we cannot reverse those charge what about your customer he believed in your representative and opened the account and now you people say you cannot help me worst company ever if i do not get help i am transferring all my holding and please atleast help me closing my account\",\n\"charges\",\n\"service\"],\n [\"no communication from your end reg customer support\",\n\"people\",\n\"service\"],\n [\"thankscalls made to kotak security number go unanswered due to busy desk no call back also query resolution not satisfactory due to inadequate knowledge of those who attend\",\n\"people\",\n\"service\"],\n [\"allotted rm wont respond the call and lack of knowledge\",\n\"people\",\n\"service\"],\n [\"call center bogus no one is responsible people in kotak this division and due to that others wing of kotakco effect in india a per kotak credential this division is so poor i hope you will develop or close the division for others wing safety\",\n\"people\",\n\"service\"],\n [\"the staff were not knowledgeable nor wa there any intention to sort out the query but to pas the buck the position remains the same\",\n\"people\",\n\"service\"],\n [\"no communication from your end reg customer support\",\n\"people\",\n\"service\"],\n [\"no query are answered you cannot get anybody on phone they have absolutely no knowledge of what they are doing they dont attend to our problem at all all these area need your attention\",\n\"people\",\n\"service\"],\n [\"not having sufficient knowledge to solve query\",\n\"people\",\n\"service\"],\n [\"query are not addressed on time bound for every query time take to read the mail is hour which is too late in trading in trading each and every second is important customer care number is waste no one ha the knowledge about our concern totally i would say kotak trading account should not be used and referred to anybody i am going to close the account soon\",\n\"people\",\n\"service\"],\n [\"kindly change my deler himani contact number because her behaviour wa not good on call\",\n\"people\",\n\"service\"],\n [\"i trying since six month about trading terminal knowledge but no any response\",\n\"people\",\n\"service\"],\n [\"people in level are not well knowledge d about the product or the new issue the customer face in addition to this they are providing the wrong information most of the time not at all satisfied with the level customer helpdesk\",\n\"people\",\n\"service\"],\n [\"no one know about sop policy then how they can solve issue un trained people cant trust anymore will close my account\",\n\"people\",\n\"service\"],\n [\"improve in all technical knowledge staff training\",\n\"people\",\n\"service\"],\n [\"no knowledge at all and no concern for the client issue\",\n\"people\",\n\"service\"],\n [\"annoying no provision to talk with client on call knowingly avoiding to talk with client not all query can be solved through whatsapp chat or mail want to talk with someone who have knowledge and patience not arrogance no need to behave like an american this is india arrange a call backkkkkkkkkkkkkkk\",\n\"people\",\n\"service\"],\n [\"i had asked for detail of government charge levied on my account during the month of september i had asked so several time over telephone however specifically three time over e mail regretfully i say that i wa very disappointed with the knowledge your executive have i had conversation with of your executive but none have the answer to my query rather they tried to distract me by saying lie about my account balance\",\n\"people\",\n\"service\"],\n [\"knowledge can be improved\",\n\"people\",\n\"service\"],\n [\"just one thing i want to say that the person who is n the other end in customer care service should have through knowledge of the product they should have the capability to answer each and every query\",\n\"people\",\n\"service\"],\n [\"kotak employee do not have appropriate knowledge on customer basic query they should more train i had simple query that id facing problem while transferring fund into my demat since my demat account did not open with trinity account like kotak saving account with demat so please open the same but no one in kotak resolve this so long now i m going to switch with hdfc security to business smoothly thanks\",\n\"people\",\n\"service\"],\n [\"please assign one person who is proficient in share market and technical and who with a mobile number we can talk to him directly instead of waiting for a call back time is the issue\",\n\"people\",\n\"service\"],\n [\"lack the knowledge to clarify the query\",\n\"people\",\n\"service\"],\n [\"i could not sell my stock whenever i put to sell every time it asks to add fund stating le margin if some portion is sold that amount will not come into my account immediate causing once again it asks to add fund stating le margin resulting in holding of stock when the rate gone to profit range thus i had sustained loss of about r within a week at the commencement i wa confused much on account of this policy your staff here at tumkur a well a mysore were unable to explain me the thing they are much interested only in opening the demat account i could not reach your enquiry counter in spite of my repeated call during emergency moreoever nobody have knowledge to explain the thing in kannada which i can understand well their pronunciation of english is quite different which i cannot understand at all at that hurry point of trading even your enquiry counter could not answer my query in full manner i could not understand why the system allowed me to buy stock over and above my deposit amount the sale proceeds are not credited immediately so that i can buy other stock or to sell the existing stock i am totally unhappy over your policy i want to close the demat account please help me how to close the demat account\",\n\"people\",\n\"service\"],\n [\"all the customer care executive are with insufficient knowledgefirstly train them\",\n\"people\",\n\"service\"],\n [\"knowledge base should be increased morere\",\n\"people\",\n\"service\"],\n [\"my account have some debit balance but share wa pledged and today without any call dis porportionate share sold by the the broker wihtout my knowledge did not bothered to give a even call may be think to switch the account from kotak security\",\n\"people\",\n\"service\"],\n [\"customer care executive will say chat on whatsapp whatsapp chat representative will say call on customer care no person is having the proper knowledge about the query\",\n\"people\",\n\"service\"],\n [\"toll free number are not answering many time or person attending is not having desired knowledge to solve the issue redirecting to other platform for solution whereas they are called only after getting disappointing from other platform like whatsapp and email in the era of fast delivery i am running pillar to post to get the issue settled from without any fault of mine and unable to trade till date\",\n\"people\",\n\"service\"],\n [\"kotak neo is bad application lot of technical issue it working very pover performance customer care number is not workking very bad service\",\n\"service\",\n\"application\"],\n [\"please improve your app and also focus on redressal of issue of the customer\",\n\"service\",\n\"application\"],\n [\"cannot blame an employee for decision taken by management to release an incomplete app\",\n\"service\",\n\"application\"],\n [\"i did not meet anybody from k for a long time why the same rating is being asked many time i feel it is unnecessary\",\n\"service\",\n\"application\"],\n [\"i appreciate your service staff behavior alertness punctuality and your generosity everything is very very good except your app hang some time especially when the market is on peak this is long pending issue please look into the matter it is serious issue and i made loss also instead of book profit\",\n\"service\",\n\"application\"],\n [\"whenever try to contact rm every time her mobile not reachable please please please provide some other number\",\n\"service\",\n\"application\"],\n [\"very soon i will move from kotak security and shift my money to some other broker s the only reason i am here because i do hedge and this platform allow me to buy otm if zerodha all me to buy otm very next day i will move to zerodha\",\n\"service\",\n\"application\"],\n [\"very bad service and app i lost lack\",\n\"service\",\n\"application\"],\n [\"kotak neo is bad application lot of technical issue it working very pover performance customer care number is not workking very bad service\",\n\"service\",\n\"application\"],\n [\"please improve your app and also focus on redressal of issue of the customer\",\n\"service\",\n\"application\"],\n [\"relation advisor not available on critical time requires many time calling margin trading limit problem are not getting resolved\",\n\"service\",\n\"application\"],\n [\"your transaction email attachment doesnt open in gamil a it say that this email attachment could be harmful so kindly improve your email security standard so i can download the transaction attachment\",\n\"service\",\n\"application\"],\n [\"i have lost too much fund due to your server problem even your customer care no is also not working who is responsible for this\",\n\"service\",\n\"application\"],\n [\"suddenly stock become unavailable for trade call n trade option i am not happy with system\",\n\"service\",\n\"application\"],\n [\"when taking money calling me a much a my holding i will only withdraw it after that not trading with kotak\",\n\"service\",\n\"application\"],\n [\"when we go for buy sell mode in keat pro it should so show day high low range like that in shcil trading platform\",\n\"service\",\n\"application\"],\n [\"time should be reduced in resolution\",\n\"service\",\n\"application\"],\n [\"rate not updated perfectly leger statement is worse to understand anda also contact note not matched with letter nsee order in f o unit and in currency lot but u provides both r in lot first u observe other platform also i u r back in d world\",\n\"service\",\n\"application\"],\n [\"i asked hars joshi to give me capital gain account with total turnover and profit but till date i receive only profit statement but not total purchase and sale turnover and total wa not done for purchase and sale\",\n\"service\",\n\"application\"],\n [\"kotak platform is not v helpful if i try to login after a long day at say am n work on my finance then i cant platform not available between am it seems\",\n\"service\",\n\"application\"],\n [\"information need about ipo sme and other product not provide guide to customer whether ipo sme give profit loss\",\n\"service\",\n\"application\"],\n [\"query pending average price calculation after time sale purchase done\",\n\"service\",\n\"application\"],\n [\"i need some data everyday in my phone that is how much i will receive or how much i have to pay that data i need\",\n\"service\",\n\"application\"],\n [\"cannot activate option trading on the app a for upload app say upto mb one page is to mb customer service useless even they cannot activate my option i have given a deadline if cannot activate tan i have no choice but to open account with some other broker your whatsapp virtual robot reply instead of solving asking question which are not even relevant i spoke to santosh and to my designated rm both were useless your senior manager refuse to come and talk to resolve the issue real depressing for a year old senior citizen\",\n\"service\",\n\"application\"],\n [\"terminal should be perfect i lost money a i wa running my software on your api bridge and it started showing error and i lost thousand in just minute and it happened on friday who will take this responsibility of loss\",\n\"service\",\n\"application\"],\n [\"yes the customer care number say it doesnt exsist order on keat pro x are getting executed without being placed at all short selling is happening with me have placed such an order and without margin being available ridiculous causing big loss\",\n\"service\",\n\"application\"],\n [\"very poor service app doesnt work during the busy period\",\n\"service\",\n\"application\"],\n [\"please maintain customer service specialy in account always have problem right now please return my money which is having a trouble on th april i did not trade any option but they cut my money from my demat account please return my r in my account\",\n\"service\",\n\"application\"],\n [\"at some specific point human involvement should not be there in different category of trading plan\",\n\"service\",\n\"application\"],\n [\"my interaction with employee is goodmy main problem is when my stop loss is hited my trade should have to immediately square off but it take to to square off my trade\",\n\"service\",\n\"application\"],\n [\"kotak should come up with stable platform and apis like zerodha and alice blue\",\n\"service\",\n\"application\"],\n [\"worst trading platform\",\n\"service\",\n\"application\"],\n [\"dealer or expert must not only know about trading but also how to execute it on kotak app\",\n\"service\",\n\"application\"],\n [\"there is agreement between big player it is manipulated fraud market not natural market\",\n\"service\",\n\"application\"],\n [\"nothing to write i am sure you know it but refuse to change\",\n\"others\",\n\"application\"],\n [\"i dont about it\",\n\"others\",\n\"application\"],\n [\"not even contacted\",\n\"others\",\n\"application\"],\n [\"many issue related to platform\",\n\"others\",\n\"application\"],\n [\"toll free no is not working always try to improve\",\n\"others\",\n\"application\"],\n [\"nothing to write i am sure you know it but refuse to change\",\n\"others\",\n\"application\"],\n [\"i dont about it\",\n\"others\",\n\"application\"],\n [\"i think kotak is too big for smaller client icici is much better\",\n\"others\",\n\"application\"],\n [\"please make kotak security safe to use please listen to the feedback provided by customer please make sure that internet banking is easy to use\",\n\"others\",\n\"application\"],\n [\"be competitive with other broker in the market in delivery segment\",\n\"others\",\n\"application\"],\n [\"very very poor company kotak\",\n\"others\",\n\"application\"],\n [\"absolutely horrible experience everytime i talk to your organisation it feel like you are there only to sell even if it mean misselling\",\n\"others\",\n\"application\"],\n [\"feedback already provided by way of rating\",\n\"service\",\n\"others\"],\n [\"worst ever rd class everything\",\n\"service\",\n\"others\"],\n [\"feedback should be attended much more swiftly\",\n\"service\",\n\"others\"],\n [\"pls pravide quality cc\",\n\"service\",\n\"others\"],\n [\"nobody called to resolve the problem\",\n\"service\",\n\"others\"],\n [\"not getting good support on trading account struggling hard\",\n\"service\",\n\"others\"],\n [\"worst experience ever faced\",\n\"service\",\n\"others\"],\n [\"feedback already provided by way of rating\",\n\"service\",\n\"others\"],\n [\"worst ever rd class everything\",\n\"service\",\n\"others\"],\n [\"please reply promptly\",\n\"service\",\n\"others\"],\n [\"bad dealar\",\n\"service\",\n\"others\"],\n [\"the present r m m rita is exceptionally good intelegent and supportive\",\n\"service\",\n\"others\"],\n [\"no feedback\",\n\"service\",\n\"others\"],\n [\"pls do more better\",\n\"service\",\n\"others\"],\n [\"no comment\",\n\"service\",\n\"others\"],\n [\"deler communication is very poor pl improve\",\n\"service\",\n\"others\"],\n [\"recommend good and quality productskindly give short term product\",\n\"service\",\n\"others\"],\n [\"nobody called me\",\n\"service\",\n\"others\"],\n [\"pls give good investment idea\",\n\"service\",\n\"others\"],\n [\"very bad exepirance\",\n\"service\",\n\"others\"],\n [\"i felt nobody cared\",\n\"service\",\n\"others\"],\n [\"delar quary\",\n\"service\",\n\"others\"],\n [\"advice not receive and investment nothing\",\n\"service\",\n\"others\"],\n [\"rarely respond\",\n\"service\",\n\"others\"],\n [\"regular sugestions not given\",\n\"service\",\n\"others\"]],\n        columns: [[\"string\", \"x\"], [\"string\", \"y\"], [\"string\", \"y_pred\"]],\n        columnOptions: [],\n        rowsPerPage: 10,\n        helpUrl: \"https://colab.research.google.com/notebooks/data_table.ipynb\",\n        suppressOutputScrolling: true,\n        minimumWidth: undefined,\n      });\n    ",
            "text/plain": [
              "<google.colab.data_table.DataTable object>"
            ]
          },
          "metadata": {},
          "execution_count": 169
        }
      ]
    },
    {
      "cell_type": "code",
      "source": [
        "from google.colab import data_table\n",
        "data_table.DataTable(df_pred.query(' y != y_pred')[['x','y', 'y_pred']], include_index=False, num_rows_per_page=10)"
      ],
      "metadata": {
        "colab": {
          "base_uri": "https://localhost:8080/",
          "height": 343
        },
        "id": "D7mx5dZE8FUM",
        "outputId": "21e4bcd9-74b3-428a-e2e4-823ed2fe9166"
      },
      "execution_count": 171,
      "outputs": [
        {
          "output_type": "execute_result",
          "data": {
            "text/html": [
              "<div>\n",
              "<style scoped>\n",
              "    .dataframe tbody tr th:only-of-type {\n",
              "        vertical-align: middle;\n",
              "    }\n",
              "\n",
              "    .dataframe tbody tr th {\n",
              "        vertical-align: top;\n",
              "    }\n",
              "\n",
              "    .dataframe thead th {\n",
              "        text-align: right;\n",
              "    }\n",
              "</style>\n",
              "<table border=\"1\" class=\"dataframe\">\n",
              "  <thead>\n",
              "    <tr style=\"text-align: right;\">\n",
              "      <th></th>\n",
              "      <th>x</th>\n",
              "      <th>y</th>\n",
              "      <th>y_pred</th>\n",
              "    </tr>\n",
              "  </thead>\n",
              "  <tbody>\n",
              "    <tr>\n",
              "      <th>19</th>\n",
              "      <td>feedback already provided by way of rating</td>\n",
              "      <td>service</td>\n",
              "      <td>others</td>\n",
              "    </tr>\n",
              "    <tr>\n",
              "      <th>83</th>\n",
              "      <td>kotak neo is bad application lot of technical ...</td>\n",
              "      <td>service</td>\n",
              "      <td>application</td>\n",
              "    </tr>\n",
              "    <tr>\n",
              "      <th>122</th>\n",
              "      <td>from last week facing problem at morning tradi...</td>\n",
              "      <td>application</td>\n",
              "      <td>service</td>\n",
              "    </tr>\n",
              "    <tr>\n",
              "      <th>266</th>\n",
              "      <td>please improve your app and also focus on redr...</td>\n",
              "      <td>service</td>\n",
              "      <td>application</td>\n",
              "    </tr>\n",
              "    <tr>\n",
              "      <th>313</th>\n",
              "      <td>kotak is charging to much a compared to others...</td>\n",
              "      <td>charges</td>\n",
              "      <td>service</td>\n",
              "    </tr>\n",
              "    <tr>\n",
              "      <th>...</th>\n",
              "      <td>...</td>\n",
              "      <td>...</td>\n",
              "      <td>...</td>\n",
              "    </tr>\n",
              "    <tr>\n",
              "      <th>4255</th>\n",
              "      <td>i dont need recommendation</td>\n",
              "      <td>product</td>\n",
              "      <td>application</td>\n",
              "    </tr>\n",
              "    <tr>\n",
              "      <th>4269</th>\n",
              "      <td>toll free number are not answering many time o...</td>\n",
              "      <td>people</td>\n",
              "      <td>service</td>\n",
              "    </tr>\n",
              "    <tr>\n",
              "      <th>4275</th>\n",
              "      <td>your representative informed me that this woul...</td>\n",
              "      <td>charges</td>\n",
              "      <td>service</td>\n",
              "    </tr>\n",
              "    <tr>\n",
              "      <th>4307</th>\n",
              "      <td>hidden chargesxare exorbitantcharges</td>\n",
              "      <td>charges</td>\n",
              "      <td>others</td>\n",
              "    </tr>\n",
              "    <tr>\n",
              "      <th>4324</th>\n",
              "      <td>always try to be better</td>\n",
              "      <td>others</td>\n",
              "      <td>service</td>\n",
              "    </tr>\n",
              "  </tbody>\n",
              "</table>\n",
              "<p>255 rows × 3 columns</p>\n",
              "</div>"
            ],
            "application/vnd.google.colaboratory.module+javascript": "\n      import \"https://ssl.gstatic.com/colaboratory/data_table/99dac6621f6ae8c4/data_table.js\";\n\n      window.createDataTable({\n        data: [[\"feedback already provided by way of rating\",\n\"service\",\n\"others\"],\n [\"kotak neo is bad application lot of technical issue it working very pover performance customer care number is not workking very bad service\",\n\"service\",\n\"application\"],\n [\"from last week facing problem at morning trading session plz resolved\",\n\"application\",\n\"service\"],\n [\"please improve your app and also focus on redressal of issue of the customer\",\n\"service\",\n\"application\"],\n [\"kotak is charging to much a compared to others i have gone to branch but not friutful\",\n\"charges\",\n\"service\"],\n [\"close the company and take advise from zerodha to run the business with customer satisfaction your neo app didnt work then why you force to install your branch is not effective and efficient to solve the problem of client branch manager and staff not giving proper service one very important thing why do you didnt allow to take mobile in the treding room thats why i closed my account there is another problem i cant submit the feedback thats why you closed the comny\",\n\"application\",\n\"service\"],\n [\"after initial exp i asked to close the ac they have yet not closed the ac\",\n\"others\",\n\"service\"],\n [\"the call wa in waitlist without any response\",\n\"application\",\n\"service\"],\n [\"improper reason specified while rejecting share transfer also the commitment by the reversal team wa not implemented\",\n\"application\",\n\"process\"],\n [\"nothing to write i am sure you know it but refuse to change\",\n\"others\",\n\"application\"],\n [\"a and when there are change in interest or any trading related or mft they are never informed to the trader by way of personal calling and bringing to the knowledge of u i feel it is not a transparent and fair practice they need to be corrected\",\n\"charges\",\n\"service\"],\n [\"management is aware of issue in the organisation not willing to improve hence giving suggestion is of no use\",\n\"others\",\n\"service\"],\n [\"no rm provided highly disappointed with kotak security\",\n\"application\",\n\"service\"],\n [\"it s a platform where it requires zero downtime even one minute downtime can create huge loss you need to create a platform smooth experience and zero lag eventhough we save in brokerage we will loose all money if we trust kotak security a it platform is down during heavy traffic\",\n\"charges\",\n\"application\"],\n [\"no communication from your end reg customer support\",\n\"people\",\n\"service\"],\n [\"worst ever rd class everything\",\n\"service\",\n\"others\"],\n [\"want to close relationship\",\n\"others\",\n\"service\"],\n [\"i dont about it\",\n\"others\",\n\"application\"],\n [\"feedback should be attended much more swiftly\",\n\"service\",\n\"others\"],\n [\"my account report not good just like profit and loss and margent intrest sheet\",\n\"application\",\n\"service\"],\n [\"thankscalls made to kotak security number go unanswered due to busy desk no call back also query resolution not satisfactory due to inadequate knowledge of those who attend\",\n\"people\",\n\"service\"],\n [\"site must remain open not more than that\",\n\"application\",\n\"others\"],\n [\"cannot blame an employee for decision taken by management to release an incomplete app\",\n\"service\",\n\"application\"],\n [\"option training program needed\",\n\"application\",\n\"others\"],\n [\"allotted rm wont respond the call and lack of knowledge\",\n\"people\",\n\"service\"],\n [\"properly message\",\n\"others\",\n\"service\"],\n [\"i did not meet anybody from k for a long time why the same rating is being asked many time i feel it is unnecessary\",\n\"service\",\n\"application\"],\n [\"call me sir pls\",\n\"others\",\n\"service\"],\n [\"bad behaviour low quality support compared to other no good time support\",\n\"service\",\n\"people\"],\n [\"good working in the kotak security implant and properly guiding in brokering\",\n\"others\",\n\"service\"],\n [\"i appreciate your service staff behavior alertness punctuality and your generosity everything is very very good except your app hang some time especially when the market is on peak this is long pending issue please look into the matter it is serious issue and i made loss also instead of book profit\",\n\"service\",\n\"application\"],\n [\"solve app problem also improve customer care support\",\n\"application\",\n\"service\"],\n [\"close uour neo appglitches faced day before yesterday for whole day call for switching to old platformvery difficult to get assistance from kotak when required\",\n\"application\",\n\"service\"],\n [\"your people not reacting properly when asking for help every time requesting for converting the margine fund but they are not roperly responding not converting money to margine fund for write trading in write time a others why we will ask them to increase my margine it should automatically showen for trading\",\n\"people\",\n\"process\"],\n [\"make responce on call from our registerd mobile no immediately\",\n\"others\",\n\"service\"],\n [\"not even contacted\",\n\"others\",\n\"application\"],\n [\"pls pravide quality cc\",\n\"service\",\n\"others\"],\n [\"please ignore my response to previous question it appears that the relationship manager is not empowered to take a decision for resolution she ha promised to escalate my request to the manager however so far i do not seem to have received a response\",\n\"application\",\n\"service\"],\n [\"call center bogus no one is responsible people in kotak this division and due to that others wing of kotakco effect in india a per kotak credential this division is so poor i hope you will develop or close the division for others wing safety\",\n\"people\",\n\"service\"],\n [\"bad experience for a year old customer\",\n\"others\",\n\"service\"],\n [\"whenever try to contact rm every time her mobile not reachable please please please provide some other number\",\n\"service\",\n\"application\"],\n [\"given an opportunity people will move out of your platform so bad is your people behaviour i will also their interest is only to earn money for them not to customer nc\",\n\"application\",\n\"people\"],\n [\"i understand that technical glitch may come once in a while but i last week it ha happened time and before that i had the experience but that time wa of few minute bht last week it wa of hour and moreover your customer care not responding you can tell they were busy on other call but in twitter none of the subscriber call ha been responded\",\n\"application\",\n\"service\"],\n [\"no query\",\n\"others\",\n\"service\"],\n [\"nobody called to resolve the problem\",\n\"service\",\n\"others\"],\n [\"your call trade department behave rudely\",\n\"application\",\n\"service\"],\n [\"very soon i will move from kotak security and shift my money to some other broker s the only reason i am here because i do hedge and this platform allow me to buy otm if zerodha all me to buy otm very next day i will move to zerodha\",\n\"service\",\n\"application\"],\n [\"very bad service and app i lost lack\",\n\"service\",\n\"application\"],\n [\"expert in chat are really not even aware about basic of corporate action it been really difficult getting query addressed mft charge are way too high\",\n\"application\",\n\"charges\"],\n [\"mera k loss hai nd december ka abhi tak nahi aya bill bhi nahi aya hai\",\n\"application\",\n\"service\"],\n [\"fund withdrawal issue\",\n\"process\",\n\"application\"],\n [\"my email dt reg suzlon energy right issue in which i had participated and partly paid for share are yet to be responded by your c team pl advise your c to act on the above matter immediately\",\n\"application\",\n\"service\"],\n [\"many issue related to platform\",\n\"others\",\n\"application\"],\n [\"you sold my share without my permission i never signed the poa if i owe you money in brokerage charge the you should call me before selling my share i will not be trading on your platform any further i mentioned the same to your employee\",\n\"charges\",\n\"application\"],\n [\"the staff were not knowledgeable nor wa there any intention to sort out the query but to pas the buck the position remains the same\",\n\"people\",\n\"service\"],\n [\"poor experience kotak neo customer care i have coll customer care number but no response\",\n\"application\",\n\"service\"],\n [\"not getting good support on trading account struggling hard\",\n\"service\",\n\"others\"],\n [\"i have sent mail\",\n\"others\",\n\"service\"],\n [\"toll free no is not working always try to improve\",\n\"others\",\n\"application\"],\n [\"jab trading account open kiya tha tab jo charge account open karne wale ne bataye the jo dealer ne charge kiya hai difference hai\",\n\"application\",\n\"service\"],\n [\"worst experience ever faced\",\n\"service\",\n\"others\"],\n [\"no proper trading software no charting tool not improving quality after year request\",\n\"application\",\n\"service\"],\n [\"feedback already provided by way of rating\",\n\"service\",\n\"others\"],\n [\"kotak neo is bad application lot of technical issue it working very pover performance customer care number is not workking very bad service\",\n\"service\",\n\"application\"],\n [\"from last week facing problem at morning trading session plz resolved\",\n\"application\",\n\"service\"],\n [\"please improve your app and also focus on redressal of issue of the customer\",\n\"service\",\n\"application\"],\n [\"kotak is charging to much a compared to others i have gone to branch but not friutful\",\n\"charges\",\n\"service\"],\n [\"close the company and take advise from zerodha to run the business with customer satisfaction your neo app didnt work then why you force to install your branch is not effective and efficient to solve the problem of client branch manager and staff not giving proper service one very important thing why do you didnt allow to take mobile in the treding room thats why i closed my account there is another problem i cant submit the feedback thats why you closed the comny\",\n\"application\",\n\"service\"],\n [\"after initial exp i asked to close the ac they have yet not closed the ac\",\n\"others\",\n\"service\"],\n [\"the call wa in waitlist without any response\",\n\"application\",\n\"service\"],\n [\"improper reason specified while rejecting share transfer also the commitment by the reversal team wa not implemented\",\n\"application\",\n\"process\"],\n [\"nothing to write i am sure you know it but refuse to change\",\n\"others\",\n\"application\"],\n [\"a and when there are change in interest or any trading related or mft they are never informed to the trader by way of personal calling and bringing to the knowledge of u i feel it is not a transparent and fair practice they need to be corrected\",\n\"charges\",\n\"service\"],\n [\"management is aware of issue in the organisation not willing to improve hence giving suggestion is of no use\",\n\"others\",\n\"service\"],\n [\"no rm provided highly disappointed with kotak security\",\n\"application\",\n\"service\"],\n [\"it s a platform where it requires zero downtime even one minute downtime can create huge loss you need to create a platform smooth experience and zero lag eventhough we save in brokerage we will loose all money if we trust kotak security a it platform is down during heavy traffic\",\n\"charges\",\n\"application\"],\n [\"no communication from your end reg customer support\",\n\"people\",\n\"service\"],\n [\"worst ever rd class everything\",\n\"service\",\n\"others\"],\n [\"want to close relationship\",\n\"others\",\n\"service\"],\n [\"i dont about it\",\n\"others\",\n\"application\"],\n [\"no query are answered you cannot get anybody on phone they have absolutely no knowledge of what they are doing they dont attend to our problem at all all these area need your attention\",\n\"people\",\n\"service\"],\n [\"the customer should be assisted with bank personnel other than online help which is not solving the matter immediately\",\n\"process\",\n\"service\"],\n [\"no able to do business\",\n\"others\",\n\"service\"],\n [\"the mobile app and desktop portal are not user friendly even relationship manager dont understand the query they promise to mail or call but dont do it or respond after several day\",\n\"application\",\n\"service\"],\n [\"payment issue\",\n\"process\",\n\"others\"],\n [\"help the customer\",\n\"others\",\n\"service\"],\n [\"you are not paying me refer and earn commission anil kumar jain xrg since january for refree code zxexz shail jain\",\n\"process\",\n\"service\"],\n [\"relation advisor not available on critical time requires many time calling margin trading limit problem are not getting resolved\",\n\"service\",\n\"application\"],\n [\"only ankita wa good and rest others dont know anything\",\n\"people\",\n\"others\"],\n [\"intraday tip market sudden downfall should be informed whatsapp should be in active mode big braking deal information shoul be in alert mode\",\n\"application\",\n\"service\"],\n [\"your transaction email attachment doesnt open in gamil a it say that this email attachment could be harmful so kindly improve your email security standard so i can download the transaction attachment\",\n\"service\",\n\"application\"],\n [\"stop sending virus in contact note this is crime\",\n\"others\",\n\"service\"],\n [\"i think kotak is too big for smaller client icici is much better\",\n\"others\",\n\"application\"],\n [\"you should do what you say you will do if you say you will close the account you should close the account and do not keep it alive to get the monthly maintenance charge\",\n\"charges\",\n\"service\"],\n [\"what statement requirement to be sent a soon a possible\",\n\"application\",\n\"others\"],\n [\"please reply promptly\",\n\"service\",\n\"others\"],\n [\"not having sufficient knowledge to solve query\",\n\"people\",\n\"service\"],\n [\"whatsapp representative not able to right answer\",\n\"application\",\n\"service\"],\n [\"u people dont want to improve or please call today again not able to open any app on mobile or laptop not able to trade through call or net\",\n\"application\",\n\"service\"],\n [\"your system is not customer friendly\",\n\"application\",\n\"service\"],\n [\"you are providing whats app chat regarding query most of the time auto reply only coming chose number or but the person wont respond to answer lic ipo first day we cant able to apply in the afternoon i allied but no confirmation received why your person were not informed the actual position m\",\n\"application\",\n\"service\"],\n [\"i have lost too much fund due to your server problem even your customer care no is also not working who is responsible for this\",\n\"service\",\n\"application\"],\n [\"i m not all happy\",\n\"application\",\n\"others\"],\n [\"it better not to give margin money facility to any customer and if you are giving them then you should co operate with them when market at down trend with out considering how much loss customer will face when you sold his margin money stock\",\n\"charges\",\n\"service\"],\n [\"suddenly stock become unavailable for trade call n trade option i am not happy with system\",\n\"service\",\n\"application\"],\n [\"nobody else give proper detail a debited charge\",\n\"charges\",\n\"service\"],\n [\"improve your mobile applicationcharts speed at crucial time become too slow being digital at crucial time line becomes bussy call back after hour is of no use in highly sensitive stock market hence worst\",\n\"application\",\n\"service\"],\n [\"when taking money calling me a much a my holding i will only withdraw it after that not trading with kotak\",\n\"service\",\n\"application\"],\n [\"please make kotak security safe to use please listen to the feedback provided by customer please make sure that internet banking is easy to use\",\n\"others\",\n\"application\"],\n [\"i have lost lakh indian r due to wrong trade executed by your kottayam kerala branch executive without confirming the trading scrip with me by margin trading i never ever suggest anybody kotak security\",\n\"service\",\n\"charges\"],\n [\"looting to customer\",\n\"others\",\n\"service\"],\n [\"just don t ask for feedback work on it a well\",\n\"others\",\n\"service\"],\n [\"query are not addressed on time bound for every query time take to read the mail is hour which is too late in trading in trading each and every second is important customer care number is waste no one ha the knowledge about our concern totally i would say kotak trading account should not be used and referred to anybody i am going to close the account soon\",\n\"people\",\n\"service\"],\n [\"now i am tired of writing suggestion and feedback a you nothing get out of it\",\n\"others\",\n\"service\"],\n [\"kindly change my deler himani contact number because her behaviour wa not good on call\",\n\"people\",\n\"service\"],\n [\"hopeless broker response not friendly to retailer at all\",\n\"others\",\n\"service\"],\n [\"referal bonus of acc opened each credit not given even after mailed to escation team n they admitted but more than month gone credit not given to u ut shake oyr confidence app becoming laggy dyring mkt opening frst hour rm keep changing v fast n do take initiative to solve querry\",\n\"application\",\n\"service\"],\n [\"too much charge with zero information\",\n\"charges\",\n\"service\"],\n [\"don t call me on my mobile\",\n\"others\",\n\"service\"],\n [\"no concrete update on the request nor any info when it would be resolved and the process to be followed\",\n\"process\",\n\"service\"],\n [\"bad dealar\",\n\"service\",\n\"others\"],\n [\"rectification of erroneous demat account no\",\n\"application\",\n\"others\"],\n [\"deed are not upto the word\",\n\"others\",\n\"service\"],\n [\"be competitive with other broker in the market in delivery segment\",\n\"others\",\n\"application\"],\n [\"when we go for buy sell mode in keat pro it should so show day high low range like that in shcil trading platform\",\n\"service\",\n\"application\"],\n [\"they never respond on time at time\",\n\"others\",\n\"service\"],\n [\"time should be reduced in resolution\",\n\"service\",\n\"application\"],\n [\"rate not updated perfectly leger statement is worse to understand anda also contact note not matched with letter nsee order in f o unit and in currency lot but u provides both r in lot first u observe other platform also i u r back in d world\",\n\"service\",\n\"application\"],\n [\"there is no onewho can guide on my investment amount and no one ha vision by which i can earn in market you guy have complete team and then also customer are not benefited\",\n\"application\",\n\"service\"],\n [\"the present r m m rita is exceptionally good intelegent and supportive\",\n\"service\",\n\"others\"],\n [\"there should be transparency o the charge\",\n\"charges\",\n\"application\"],\n [\"i trying since six month about trading terminal knowledge but no any response\",\n\"people\",\n\"service\"],\n [\"correct margin should be displayed at the time of putting buy sell order wrongly debited penalty amount for margin shortfall not refunded yet in spite of request needful may be done for refund\",\n\"charges\",\n\"application\"],\n [\"process should be easy to update bank account number in dp profile my canara bank account number in dp profile need to be updated a instead of\",\n\"process\",\n\"service\"],\n [\"worst agency kotak security is just seem to see to their personal interest\",\n\"others\",\n\"service\"],\n [\"poorly system manuplatting to the cutomers\",\n\"application\",\n\"service\"],\n [\"people in level are not well knowledge d about the product or the new issue the customer face in addition to this they are providing the wrong information most of the time not at all satisfied with the level customer helpdesk\",\n\"people\",\n\"service\"],\n [\"the security are auctioned without any intimation to investor\",\n\"process\",\n\"service\"],\n [\"i got absolutely false information about capital gain and that too after wasting half an hour your mobile app and portal both are faulty improve capital gain statement to make it convenient to get information required for filling up itr easily\",\n\"application\",\n\"service\"],\n [\"whatsapp can be more effective your staff is used to give stereo reply keep their book clean rather than solving customer problem\",\n\"application\",\n\"service\"],\n [\"i asked hars joshi to give me capital gain account with total turnover and profit but till date i receive only profit statement but not total purchase and sale turnover and total wa not done for purchase and sale\",\n\"service\",\n\"application\"],\n [\"no feedback\",\n\"service\",\n\"others\"],\n [\"your app suck and you are experimenting with it by making client suffer by not logging the complaint or providing a seamless redressal on email purposely everything is kept on phone call so a to shadow the issue of your own pathetic learning curve\",\n\"application\",\n\"service\"],\n [\"speaking is no use for everything go to nearest kotak bank for everything in digital world\",\n\"process\",\n\"service\"],\n [\"pls do more better\",\n\"service\",\n\"others\"],\n [\"not knowledgeable enough\",\n\"people\",\n\"others\"],\n [\"i have pledged sgb with kotak security rate charged is which is too high my physical sgb conversion into dmat is pending for more than one year with bank no resolution response received\",\n\"charges\",\n\"service\"],\n [\"no one know about sop policy then how they can solve issue un trained people cant trust anymore will close my account\",\n\"people\",\n\"service\"],\n [\"costlyopaquedifficult to reach customer care never responds waste tradong view paneltoo many technical glitch\",\n\"application\",\n\"service\"],\n [\"improve in all technical knowledge staff training\",\n\"people\",\n\"service\"],\n [\"please reduced the brokrage charge of lot purchase so i have not trading daily\",\n\"charges\",\n\"application\"],\n [\"i wa shocked to find out that if i pledge sgb bond and take any position on the margin received then i would be charged interest on margin utilised from the bond why should i pay any interest when i am not using any leverage offered by k i am just using my own sgb bond which i have pledged and still i have to pay interest for that i have account with other broker also nobody charge like this it would be better if kotak security followed the normal practise of what all other broker are following in the market otherwise it will continue to lose it market share there are lot of option out there thank you\",\n\"charges\",\n\"application\"],\n [\"no comment\",\n\"service\",\n\"others\"],\n [\"not understand the client issue inappropriate intalking\",\n\"application\",\n\"service\"],\n [\"very bad experience please refund my all extra charge which you guy received and also give me one proper advisor\",\n\"charges\",\n\"service\"],\n [\"whenever call everytime new person he she ha to say old story what we talk earlier with them then everytime u r name bitrhdate etc make le time to know about client\",\n\"service\",\n\"people\"],\n [\"kotak platform is not v helpful if i try to login after a long day at say am n work on my finance then i cant platform not available between am it seems\",\n\"service\",\n\"application\"],\n [\"make pdf for product with date of update at top nse digital is from i should not say all this\",\n\"others\",\n\"service\"],\n [\"not able to redeem mutual fund on time that affected portfolio missed opportunity to take new position\",\n\"process\",\n\"application\"],\n [\"deler communication is very poor pl improve\",\n\"service\",\n\"others\"],\n [\"no knowledge at all and no concern for the client issue\",\n\"people\",\n\"service\"],\n [\"information need about ipo sme and other product not provide guide to customer whether ipo sme give profit loss\",\n\"service\",\n\"application\"],\n [\"very very poor company kotak\",\n\"others\",\n\"application\"],\n [\"recommend good and quality productskindly give short term product\",\n\"service\",\n\"others\"],\n [\"annoying no provision to talk with client on call knowingly avoiding to talk with client not all query can be solved through whatsapp chat or mail want to talk with someone who have knowledge and patience not arrogance no need to behave like an american this is india arrange a call backkkkkkkkkkkkkkk\",\n\"people\",\n\"service\"],\n [\"need to improve the system to work\",\n\"application\",\n\"service\"],\n [\"nobody called me\",\n\"service\",\n\"others\"],\n [\"i had asked for detail of government charge levied on my account during the month of september i had asked so several time over telephone however specifically three time over e mail regretfully i say that i wa very disappointed with the knowledge your executive have i had conversation with of your executive but none have the answer to my query rather they tried to distract me by saying lie about my account balance\",\n\"people\",\n\"service\"],\n [\"query pending average price calculation after time sale purchase done\",\n\"service\",\n\"application\"],\n [\"i need some data everyday in my phone that is how much i will receive or how much i have to pay that data i need\",\n\"service\",\n\"application\"],\n [\"slow process need improvement ufcivoyvoyvoyboh hfh\",\n\"process\",\n\"application\"],\n [\"graph not updating\",\n\"application\",\n\"others\"],\n [\"third class companyi lost my k to k reason being they have not know what is actually charge done in a share\",\n\"charges\",\n\"people\"],\n [\"it wa my worst ever experience with kotak bank even the branch manager behaved like a dumb which made me move my all fund to other bank\",\n\"others\",\n\"service\"],\n [\"take the feedback in a constructive manner and embrace the change\",\n\"others\",\n\"service\"],\n [\"i don t like\",\n\"others\",\n\"service\"],\n [\"in indial day representative use to call me about query but in non one wa there to help u when inwas in need even several request made on whatsapp number of kotak security but query r dealts per their convenience and not a customer need\",\n\"application\",\n\"service\"],\n [\"cannot activate option trading on the app a for upload app say upto mb one page is to mb customer service useless even they cannot activate my option i have given a deadline if cannot activate tan i have no choice but to open account with some other broker your whatsapp virtual robot reply instead of solving asking question which are not even relevant i spoke to santosh and to my designated rm both were useless your senior manager refuse to come and talk to resolve the issue real depressing for a year old senior citizen\",\n\"service\",\n\"application\"],\n [\"kindly look into your mf investment platform it need overhauling thanks\",\n\"product\",\n\"application\"],\n [\"terminal should be perfect i lost money a i wa running my software on your api bridge and it started showing error and i lost thousand in just minute and it happened on friday who will take this responsibility of loss\",\n\"service\",\n\"application\"],\n [\"your organization waste time on standard operating procedure and train only for regular customer service it is unfit for exception non standard issue also you seem to be only concerned about your process and not resolution you have to start listening else i may have to make decision\",\n\"process\",\n\"service\"],\n [\"you need a huge improvement in app and people working for you it is not a loan department where a customer can wait you need people who know and can answer instantly about market term and policy profit becomes loss in second over here\",\n\"application\",\n\"service\"],\n [\"your fee and charge are not competitive at all make access to human interaction for query resolution possible you have gone way too far on machine interaction to save money\",\n\"charges\",\n\"service\"],\n [\"customer need to be aware of actual internal process and if something is going to take time be truthful about it even for loyal customer who been with you for so many year quick response should be provided than treating like new customer kotak team need to respond over email also which i dont see much kotak whatsapp is the worst it neither give correct info and guide in wrong direction it should be clear in the response and if not point to the next level team for response\",\n\"process\",\n\"application\"],\n [\"yes the customer care number say it doesnt exsist order on keat pro x are getting executed without being placed at all short selling is happening with me have placed such an order and without margin being available ridiculous causing big loss\",\n\"service\",\n\"application\"],\n [\"not resolved\",\n\"others\",\n\"service\"],\n [\"kindly share dealer contact info so customer can connect immediately with dealer in case of urgent issue knowledge of customer care is worst no fcr first call resolution they have are aware of basic detail and everytime ha put the customer on hold agent disconnecting call i had called time for brokerage detail on option and future hope suggestion are worked upon\",\n\"charges\",\n\"service\"],\n [\"knowledge can be improved\",\n\"people\",\n\"service\"],\n [\"improvement in portal\",\n\"application\",\n\"others\"],\n [\"their i wa failed to relogin because of forgetting the password what i do to relogin the account\",\n\"process\",\n\"service\"],\n [\"detail ledger changed titally annoying to check transaction detail only bill no cannot see scrip name etc credit u given in minus all confusing\",\n\"process\",\n\"others\"],\n [\"what is the resolution am making loss for the profit making strategy because the average price is changing on daily basis without making any change in the holding position\",\n\"others\",\n\"service\"],\n [\"i inquired about charge and they said we ll call back later and never called back yet\",\n\"charges\",\n\"service\"],\n [\"mene apne bank se kotak security me transfar diya tha uska problam solve ho gaya aabhaar\",\n\"application\",\n\"service\"],\n [\"very poor service app doesnt work during the busy period\",\n\"service\",\n\"application\"],\n [\"did not get the referral benefit\",\n\"process\",\n\"service\"],\n [\"twice i missed my sip despite having amount on mutual fund account later the amount returned back to my bank account who will pay if mf amc applies penalty because of your system my sip ended\",\n\"application\",\n\"process\"],\n [\"please maintain customer service specialy in account always have problem right now please return my money which is having a trouble on th april i did not trade any option but they cut my money from my demat account please return my r in my account\",\n\"service\",\n\"application\"],\n [\"just one thing i want to say that the person who is n the other end in customer care service should have through knowledge of the product they should have the capability to answer each and every query\",\n\"people\",\n\"service\"],\n [\"i had no interaction just a blank call which truecaller identified a kotak securitiesthe previous interaction werent very good either\",\n\"others\",\n\"service\"],\n [\"pls give good investment idea\",\n\"service\",\n\"others\"],\n [\"fund transfer problem and other problem are delay\",\n\"process\",\n\"application\"],\n [\"i asked to call me by my relationship manager and decrease the brokerage promised me to arrange a call but it never happened even after multiple attempt you can call me at a i am staying in singapore now thank you\",\n\"charges\",\n\"service\"],\n [\"please improve your call time\",\n\"service\",\n\"process\"],\n [\"dp charge seem to be collected indiscriminately please check the correctness once before deduction\",\n\"charges\",\n\"application\"],\n [\"user guide to navigate and fully utilize all feature of the tool is required your person is not fully aware of the all feature of the tool\",\n\"application\",\n\"service\"],\n [\"proactiveness will be much appreciated\",\n\"application\",\n\"others\"],\n [\"at some specific point human involvement should not be there in different category of trading plan\",\n\"service\",\n\"application\"],\n [\"relationship manger required\",\n\"application\",\n\"others\"],\n [\"kotak employee do not have appropriate knowledge on customer basic query they should more train i had simple query that id facing problem while transferring fund into my demat since my demat account did not open with trinity account like kotak saving account with demat so please open the same but no one in kotak resolve this so long now i m going to switch with hdfc security to business smoothly thanks\",\n\"people\",\n\"service\"],\n [\"please assign one person who is proficient in share market and technical and who with a mobile number we can talk to him directly instead of waiting for a call back time is the issue\",\n\"people\",\n\"service\"],\n [\"i wa requesting for last few month to close my trading account and to freeze dp account executive were giving lame excuse etc\",\n\"others\",\n\"service\"],\n [\"give me intraday recommendation only\",\n\"product\",\n\"others\"],\n [\"lack the knowledge to clarify the query\",\n\"people\",\n\"service\"],\n [\"fund transfer issu\",\n\"process\",\n\"others\"],\n [\"it could be better if stock bough are added to already bought holding immediately to see averaged price\",\n\"process\",\n\"application\"],\n [\"first of all charge are high when somebody wa calling me that person should have entire knowhow regarding the topic\",\n\"charges\",\n\"service\"],\n [\"inprove your charting exprience very very poorwhen refresh all the time white screen appear when reinstall same issue continues\",\n\"application\",\n\"service\"],\n [\"i could not sell my stock whenever i put to sell every time it asks to add fund stating le margin if some portion is sold that amount will not come into my account immediate causing once again it asks to add fund stating le margin resulting in holding of stock when the rate gone to profit range thus i had sustained loss of about r within a week at the commencement i wa confused much on account of this policy your staff here at tumkur a well a mysore were unable to explain me the thing they are much interested only in opening the demat account i could not reach your enquiry counter in spite of my repeated call during emergency moreoever nobody have knowledge to explain the thing in kannada which i can understand well their pronunciation of english is quite different which i cannot understand at all at that hurry point of trading even your enquiry counter could not answer my query in full manner i could not understand why the system allowed me to buy stock over and above my deposit amount the sale proceeds are not credited immediately so that i can buy other stock or to sell the existing stock i am totally unhappy over your policy i want to close the demat account please help me how to close the demat account\",\n\"people\",\n\"service\"],\n [\"worst case scenario worst experience with you i will shift my investment to some other vendor i file complaint to nse and sebi against you\",\n\"others\",\n\"service\"],\n [\"applied lic ipo did not get and money not refunded yet complained every one yet not solved\",\n\"application\",\n\"service\"],\n [\"good recommendation give more intraday recommendation\",\n\"product\",\n\"others\"],\n [\"my interaction with employee is goodmy main problem is when my stop loss is hited my trade should have to immediately square off but it take to to square off my trade\",\n\"service\",\n\"application\"],\n [\"very bad exepirance\",\n\"service\",\n\"others\"],\n [\"i felt nobody cared\",\n\"service\",\n\"others\"],\n [\"delar quary\",\n\"service\",\n\"others\"],\n [\"absolutely horrible experience everytime i talk to your organisation it feel like you are there only to sell even if it mean misselling\",\n\"others\",\n\"application\"],\n [\"advice not receive and investment nothing\",\n\"service\",\n\"others\"],\n [\"all the customer care executive are with insufficient knowledgefirstly train them\",\n\"people\",\n\"service\"],\n [\"update your customer care executive knowledge they didnt even know basic of trading like difference between margin money and available balancekindly educate them about basic query\",\n\"people\",\n\"charges\"],\n [\"me aapki old customer hu and mere transaction bhi ache hai but aapke side se koi offer and koi emi option nhi aate hai and other new customer ko aap sari suvidha dete hai\",\n\"application\",\n\"service\"],\n [\"knowledge base should be increased morere\",\n\"people\",\n\"service\"],\n [\"rarely respond\",\n\"service\",\n\"others\"],\n [\"kotak should come up with stable platform and apis like zerodha and alice blue\",\n\"service\",\n\"application\"],\n [\"my account have some debit balance but share wa pledged and today without any call dis porportionate share sold by the the broker wihtout my knowledge did not bothered to give a even call may be think to switch the account from kotak security\",\n\"people\",\n\"service\"],\n [\"worst experience\",\n\"others\",\n\"service\"],\n [\"price update didnt sync on time leading to loss information regarding fund are not updated regularly for last to day withdrawal process doesnt complete on time\",\n\"process\",\n\"application\"],\n [\"regular sugestions not given\",\n\"service\",\n\"others\"],\n [\"i have been asking for reduction of brokerage which is not getting done by either the bank nor dealer pathetic service\",\n\"charges\",\n\"service\"],\n [\"i have bad expirence with the person who had opend my trinity account here some hiden charge i have to pay to the bank which wasnt discussed with me\",\n\"charges\",\n\"service\"],\n [\"not able to locate demat account in the ap\",\n\"application\",\n\"service\"],\n [\"worst trading platform\",\n\"service\",\n\"application\"],\n [\"can update ledger by evening pm everyday a other broker are doing\",\n\"process\",\n\"application\"],\n [\"customer care executive will say chat on whatsapp whatsapp chat representative will say call on customer care no person is having the proper knowledge about the query\",\n\"people\",\n\"service\"],\n [\"very bad aap i am disappointed to open here my account and charge over if not impure the kotak we are closed and exit kotak demait a c hope to reply thanks\",\n\"application\",\n\"service\"],\n [\"he wa hardly interested in knowing my requirement\",\n\"others\",\n\"service\"],\n [\"my query is still not solved i am requesting several time do not deduct sm charge r per month i am not interested in sm idea but still it is deducting monthly maintenance r pm is also very high\",\n\"charges\",\n\"service\"],\n [\"dealer or expert must not only know about trading but also how to execute it on kotak app\",\n\"service\",\n\"application\"],\n [\"when placing multiple option order it is not showing how much margin is required\",\n\"charges\",\n\"application\"],\n [\"there is agreement between big player it is manipulated fraud market not natural market\",\n\"service\",\n\"application\"],\n [\"i dont need recommendation\",\n\"product\",\n\"application\"],\n [\"toll free number are not answering many time or person attending is not having desired knowledge to solve the issue redirecting to other platform for solution whereas they are called only after getting disappointing from other platform like whatsapp and email in the era of fast delivery i am running pillar to post to get the issue settled from without any fault of mine and unable to trade till date\",\n\"people\",\n\"service\"],\n [\"your representative informed me that this would be a no amc charge account a it wa linked to my privy saving bank account scheme but now you people are saying that we cannot reverse those charge what about your customer he believed in your representative and opened the account and now you people say you cannot help me worst company ever if i do not get help i am transferring all my holding and please atleast help me closing my account\",\n\"charges\",\n\"service\"],\n [\"hidden chargesxare exorbitantcharges\",\n\"charges\",\n\"others\"],\n [\"always try to be better\",\n\"others\",\n\"service\"]],\n        columns: [[\"string\", \"x\"], [\"string\", \"y\"], [\"string\", \"y_pred\"]],\n        columnOptions: [],\n        rowsPerPage: 10,\n        helpUrl: \"https://colab.research.google.com/notebooks/data_table.ipynb\",\n        suppressOutputScrolling: true,\n        minimumWidth: undefined,\n      });\n    ",
            "text/plain": [
              "<google.colab.data_table.DataTable object>"
            ]
          },
          "metadata": {},
          "execution_count": 171
        }
      ]
    },
    {
      "cell_type": "code",
      "source": [],
      "metadata": {
        "id": "AuQ7dHts_d6m"
      },
      "execution_count": null,
      "outputs": []
    }
  ],
  "metadata": {
    "kernelspec": {
      "display_name": "Python 3",
      "language": "python",
      "name": "python3"
    },
    "language_info": {
      "codemirror_mode": {
        "name": "ipython",
        "version": 3
      },
      "file_extension": ".py",
      "mimetype": "text/x-python",
      "name": "python",
      "nbconvert_exporter": "python",
      "pygments_lexer": "ipython3",
      "version": "3.9.11"
    },
    "orig_nbformat": 4,
    "colab": {
      "provenance": [],
      "include_colab_link": true
    },
    "gpuClass": "standard"
  },
  "nbformat": 4,
  "nbformat_minor": 0
}