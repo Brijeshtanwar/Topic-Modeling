{
  "cells": [
    {
      "cell_type": "markdown",
      "metadata": {
        "id": "view-in-github",
        "colab_type": "text"
      },
      "source": [
        "<a href=\"https://colab.research.google.com/github/Brijeshtanwar/Topic-Modeling/blob/main/sklearn_nlp_fasttext.ipynb\" target=\"_parent\"><img src=\"https://colab.research.google.com/assets/colab-badge.svg\" alt=\"Open In Colab\"/></a>"
      ]
    },
    {
      "cell_type": "code",
      "execution_count": 1,
      "metadata": {
        "id": "Kl5yT1diCpf3"
      },
      "outputs": [],
      "source": [
        "import numpy as np\n",
        "import pandas as pd\n",
        "import matplotlib.pyplot as plt\n",
        "import seaborn as sns\n",
        "pd.set_option('display.max_columns', None)\n",
        "from IPython.core.interactiveshell import InteractiveShell\n",
        "InteractiveShell.ast_node_interactivity = \"all\"\n",
        "\n",
        "# NLP libraries\n",
        "import nltk\n",
        "import re\n",
        "from nltk.stem import WordNetLemmatizer\n",
        "from nltk.corpus import stopwords"
      ]
    },
    {
      "cell_type": "code",
      "source": [
        "nltk.download(\"stopwords\")\n",
        "nltk.download('wordnet')"
      ],
      "metadata": {
        "id": "fb2rPz7BkDXw",
        "outputId": "9248bcdf-d1cc-485f-82e3-7ed32686393c",
        "colab": {
          "base_uri": "https://localhost:8080/"
        }
      },
      "execution_count": 2,
      "outputs": [
        {
          "output_type": "stream",
          "name": "stderr",
          "text": [
            "[nltk_data] Downloading package stopwords to /root/nltk_data...\n",
            "[nltk_data]   Package stopwords is already up-to-date!\n"
          ]
        },
        {
          "output_type": "execute_result",
          "data": {
            "text/plain": [
              "True"
            ]
          },
          "metadata": {},
          "execution_count": 2
        },
        {
          "output_type": "stream",
          "name": "stderr",
          "text": [
            "[nltk_data] Downloading package wordnet to /root/nltk_data...\n",
            "[nltk_data]   Package wordnet is already up-to-date!\n"
          ]
        },
        {
          "output_type": "execute_result",
          "data": {
            "text/plain": [
              "True"
            ]
          },
          "metadata": {},
          "execution_count": 2
        }
      ]
    },
    {
      "cell_type": "code",
      "source": [
        "url = \"\"\"https://raw.githubusercontent.com/Brijeshtanwar/Topic-Modeling/main/voc_data.csv\"\"\"\n",
        "df = pd.read_csv(url,  encoding = 'unicode_escape')"
      ],
      "metadata": {
        "id": "y0eKOcmADPRR"
      },
      "execution_count": 3,
      "outputs": []
    },
    {
      "cell_type": "code",
      "source": [
        "df = df[['CUSTOMER COMMENT', 'Reason']]\n",
        "df.columns = ['comment', 'topic']"
      ],
      "metadata": {
        "id": "CfnLvrmwDTYs"
      },
      "execution_count": 4,
      "outputs": []
    },
    {
      "cell_type": "code",
      "source": [
        "# Drop na\n",
        "df.dropna(axis=0, inplace=True)"
      ],
      "metadata": {
        "id": "mE7XJr2XGNut"
      },
      "execution_count": 5,
      "outputs": []
    },
    {
      "cell_type": "code",
      "source": [
        "#lower case\n",
        "df['topic'] = df['topic'].str.lower()\n",
        "df['topic'] = df['topic'].str.strip()\n",
        "df.loc[df.topic=='not specified', 'topic'] = 'others'"
      ],
      "metadata": {
        "id": "-7oI5-ss3f94"
      },
      "execution_count": 6,
      "outputs": []
    },
    {
      "cell_type": "code",
      "source": [
        "topic_dic = {'application (web/app)': 'application',  'charges(bro./dp/lpc etc.)': 'charges', 'service':'service'\n",
        ", 'others':'others', 'process':'process', 'people':'people', 'product':'product', 'research':'research'}"
      ],
      "metadata": {
        "id": "hsvhUkey0EN3"
      },
      "execution_count": 7,
      "outputs": []
    },
    {
      "cell_type": "code",
      "source": [
        "df['topic'] = df['topic'].apply(lambda x: topic_dic[x] if x in topic_dic else x)"
      ],
      "metadata": {
        "id": "aIG2L6LM0hS9"
      },
      "execution_count": 8,
      "outputs": []
    },
    {
      "cell_type": "code",
      "source": [
        "# Preprocessing"
      ],
      "metadata": {
        "id": "s9NvV_7aGc7j"
      },
      "execution_count": 9,
      "outputs": []
    },
    {
      "cell_type": "code",
      "execution_count": 10,
      "metadata": {
        "id": "MhJ1E9y2Cpf5"
      },
      "outputs": [],
      "source": [
        "# Remove integer comments\n",
        "df = df[df['comment'].apply(lambda x: not isinstance(x, int))]\n",
        "df = df[df['comment'].apply(lambda x: not isinstance(x, float))]\n",
        "\n",
        "df.reset_index(drop=True, inplace=True)\n",
        "\n",
        "#lower case\n",
        "df['comment'] = df['comment'].str.lower()"
      ]
    },
    {
      "cell_type": "code",
      "source": [
        "def preprocess_text(text, flg_stemm=False, flg_lemm=True, lst_stopwords=None):\n",
        "    ## clean (convert to lowercase and remove punctuations and  characters and then strip)\n",
        "    text = re.sub(r\"[^A-Za-z]+\", ' ' , str(text).lower().strip())\n",
        "\n",
        "    ## Tokenize (convert from string to list)\n",
        "    lst_text = text.split()    ## remove Stopwords\n",
        "    # if lst_stopwords is not None:\n",
        "    #     lst_text = [word for word in lst_text if word not in lst_stopwords]\n",
        "\n",
        "    ## Stemming (remove -ing, -ly, ...)\n",
        "    if flg_stemm == True:\n",
        "        ps = nltk.stem.porter.PorterStemmer()\n",
        "        lst_text = [ps.stem(word) for word in lst_text]\n",
        "\n",
        "    ## Lemmatisation (convert the word into root word)\n",
        "    if flg_lemm == True:\n",
        "        lem = nltk.stem.wordnet.WordNetLemmatizer()\n",
        "        lst_text = [lem.lemmatize(word) for word in lst_text]\n",
        "\n",
        "    ## back to string from list\n",
        "    text = \" \".join(lst_text)\n",
        "    return text"
      ],
      "metadata": {
        "id": "uWknRVTUhGzl"
      },
      "execution_count": 11,
      "outputs": []
    },
    {
      "cell_type": "code",
      "source": [
        "lst_stopwords = nltk.corpus.stopwords.words(\"english\")\n",
        "lst_stopwords.remove('no')\n",
        "lst_stopwords.remove('not')"
      ],
      "metadata": {
        "id": "uhqW6SUMiAxl"
      },
      "execution_count": 12,
      "outputs": []
    },
    {
      "cell_type": "code",
      "source": [
        "df[\"x\"] = df[\"comment\"].apply(lambda x: preprocess_text(x, flg_stemm=False, flg_lemm=False, lst_stopwords=lst_stopwords))\n",
        "# df['x'] = df['comment']\n",
        "df['y'] = df['topic']"
      ],
      "metadata": {
        "id": "iUEFP_HchGwG"
      },
      "execution_count": 13,
      "outputs": []
    },
    {
      "cell_type": "code",
      "source": [
        "df = df[['x', 'y']]"
      ],
      "metadata": {
        "id": "wpOehiWSN5eu"
      },
      "execution_count": 14,
      "outputs": []
    },
    {
      "cell_type": "code",
      "source": [
        "# Prefixing each row of the category column with '__label__'\n",
        "df.iloc[:, 1] = df.iloc[:, 1].apply(lambda x: '__label__' + x)"
      ],
      "metadata": {
        "id": "4m4Ox5l4Mkd-"
      },
      "execution_count": 15,
      "outputs": []
    },
    {
      "cell_type": "code",
      "source": [
        "from sklearn.model_selection import train_test_split\n",
        "df_train, df_test = train_test_split(df, test_size=0.01, stratify=df['y'], random_state=324)"
      ],
      "metadata": {
        "id": "fd3ctMgVOfwq"
      },
      "execution_count": 16,
      "outputs": []
    },
    {
      "cell_type": "code",
      "source": [
        "import csv"
      ],
      "metadata": {
        "id": "MakDt70ePEbK"
      },
      "execution_count": 17,
      "outputs": []
    },
    {
      "cell_type": "code",
      "source": [
        "pip install fasttext\n"
      ],
      "metadata": {
        "colab": {
          "base_uri": "https://localhost:8080/"
        },
        "id": "uly0-x28PLKF",
        "outputId": "ef1c2437-c0cb-4095-bae7-c60b92f2b295"
      },
      "execution_count": 18,
      "outputs": [
        {
          "output_type": "stream",
          "name": "stdout",
          "text": [
            "Requirement already satisfied: fasttext in /usr/local/lib/python3.10/dist-packages (0.9.2)\n",
            "Requirement already satisfied: pybind11>=2.2 in /usr/local/lib/python3.10/dist-packages (from fasttext) (2.11.1)\n",
            "Requirement already satisfied: setuptools>=0.7.0 in /usr/local/lib/python3.10/dist-packages (from fasttext) (67.7.2)\n",
            "Requirement already satisfied: numpy in /usr/local/lib/python3.10/dist-packages (from fasttext) (1.23.5)\n"
          ]
        }
      ]
    },
    {
      "cell_type": "code",
      "source": [
        "import fasttext\n",
        "# Saving the CSV file as a text file to train/test the classifier\n",
        "df_train[['y', 'x']].to_csv('train.txt',\n",
        "                                          index = False,\n",
        "                                          sep = ' ',\n",
        "                                          header = None,\n",
        "                                          quoting = csv.QUOTE_NONE,\n",
        "                                          quotechar = \"\",\n",
        "                                          escapechar = \" \")\n",
        "\n",
        "df_test[['y', 'x']].to_csv('test.txt',\n",
        "                                     index = False,\n",
        "                                     sep = ' ',\n",
        "                                     header = None,\n",
        "                                     quoting = csv.QUOTE_NONE,\n",
        "                                     quotechar = \"\",\n",
        "                                     escapechar = \" \")\n",
        "\n",
        "\n",
        "# Training the fastText classifier\n",
        "model = fasttext.train_supervised('train.txt',lr=0.5, epoch=25, wordNgrams=2, bucket=200000, dim=50)\n",
        "\n",
        "# Evaluating performance on the entire test file\n",
        "model.test('test.txt')\n",
        "\n",
        "# Predicting on a single input\n",
        "# model.predict(ds.iloc[2, 0])\n",
        "\n",
        "# Save the trained model\n",
        "# model.save_model('model.bin')\n",
        "# model = fasttext.load_model(\"model.bin\")"
      ],
      "metadata": {
        "colab": {
          "base_uri": "https://localhost:8080/"
        },
        "id": "-GMxtG2FOSWM",
        "outputId": "6788b67f-d717-4e29-a2c2-7dc36b7f4ac3"
      },
      "execution_count": 19,
      "outputs": [
        {
          "output_type": "execute_result",
          "data": {
            "text/plain": [
              "(50, 0.86, 0.86)"
            ]
          },
          "metadata": {},
          "execution_count": 19
        }
      ]
    },
    {
      "cell_type": "code",
      "source": [
        "# from google.colab import drive\n",
        "# drive.mount('/content/drive')\n",
        "# model_path = \"/content/drive/MyDrive/fasttext/fasttext_model_jun.bin\"\n",
        "\n",
        "# model = fasttext.load_model(\"fasttext_model_jun.bin\")"
      ],
      "metadata": {
        "id": "zYQvQThndgEK"
      },
      "execution_count": 20,
      "outputs": []
    },
    {
      "cell_type": "code",
      "source": [
        "url = \"\"\"https://raw.githubusercontent.com/Brijeshtanwar/Topic-Modeling/main/DS-July'23%20NPS%20Data.csv\"\"\"\n",
        "df = pd.read_csv(url,  encoding = 'unicode_escape')"
      ],
      "metadata": {
        "id": "jkgx0dZvf9kQ"
      },
      "execution_count": 21,
      "outputs": []
    },
    {
      "cell_type": "code",
      "source": [
        "df.rename(columns={'Primary Comment: Do you have any other suggestion or feedback for us?':'x'},inplace=True)"
      ],
      "metadata": {
        "id": "hpBnCTm6gODL"
      },
      "execution_count": 22,
      "outputs": []
    },
    {
      "cell_type": "code",
      "source": [
        "df[\"x\"] = df[\"x\"].apply(lambda x: preprocess_text(x, flg_stemm=False, flg_lemm=False, lst_stopwords=lst_stopwords))"
      ],
      "metadata": {
        "id": "t0BXfPD-jH2N"
      },
      "execution_count": 23,
      "outputs": []
    },
    {
      "cell_type": "code",
      "source": [
        "df['y_pred'] = df['x'].apply(model.predict)\n",
        "df['y_pred']=df['y_pred'].str[0:1]\n",
        "df['y_pred'] = df['y_pred'].astype(str)\n",
        "df['y_pred'] = df['y_pred'].str[12:-5]\n",
        "# df_test_pred['y'] = df_test_pred['y'].str[9:]"
      ],
      "metadata": {
        "id": "dB7S0FRaRACL"
      },
      "execution_count": 24,
      "outputs": []
    },
    {
      "cell_type": "code",
      "source": [
        "# Manual keyword mapping\n",
        "word_dict = {\n",
        "    'product': 'product',\n",
        "    'charge': 'charges',\n",
        "    'brokerage': 'charges',\n",
        "    'brokerages': 'charges',\n",
        "    'charges': 'charges',\n",
        "    'staff': 'people',\n",
        "    'employees': 'people',\n",
        "    'employee': 'people',\n",
        "    'dealer': 'people',\n",
        "    'delar': 'people',\n",
        "    ' rm ': 'people',\n",
        "    'relation': 'people',\n",
        "    'manager': 'people',\n",
        "    ' rmo ': 'people',\n",
        "    'managers': 'people'\n",
        "}\n",
        "\n",
        "for i in word_dict:\n",
        "  df.loc[(df['x'].str.contains(i), 'y_pred')] = word_dict[i]"
      ],
      "metadata": {
        "id": "z0ow7RORH1Zc"
      },
      "execution_count": 25,
      "outputs": []
    },
    {
      "cell_type": "code",
      "source": [
        "# keyword mapping for others:\n",
        "keyword_class_mapping = {\n",
        "    \"SLOW\": \"application\",\n",
        "    \"GLITCH\": \"application\",\n",
        "    \"UI\": \"application\",\n",
        "    \"FEEDS ISSUE\": \"application\",\n",
        "    \"PORTFOLIO ISSUE\": \"application\",\n",
        "    \"ORDER EXECUTION\": \"application\",\n",
        "    \"REPORTS ISSUE\": \"application\",\n",
        "    \"FEATURES-REALTIME CHART MISSING\": \"application\",\n",
        "    \"DELAY MARGIN UPDATION\": \"application\",\n",
        "    \"ROI\": \"charges\",\n",
        "    \"BROK\": \"charges\",\n",
        "    \"DP\": \"charges\",\n",
        "    \"SMALLCASE\": \"charges\",\n",
        "    \"RESEARCH RECOMMENDATION\": \"service\",\n",
        "    \"DELAY IN CONNECTING CS\": \"service\",\n",
        "    \"PAYIN/PAYOUT\": \"service\",\n",
        "    \"ONLINE serviceS\": \"service\",\n",
        "    \"DELAY IN CONNECTING DEALER\": \"service\",\n",
        "    \"SETTLEMENT process\": \"process\",\n",
        "    \"SEGMENT ACTIVATION\": \"process\",\n",
        "    \"product ACTIVATION\": \"process\",\n",
        "    \"ECS MANDATE\": \"process\",\n",
        "    \"KYC UPDATION\": \"process\",\n",
        "    \"FINANCIAL UPDATION\": \"process\",\n",
        "    \"SLBM\": \"product\",\n",
        "    \"IPO\": \"product\",\n",
        "    \"TSLO\": \"product\",\n",
        "    \"GTC\": \"product\",\n",
        "    \"BASKET ORDER\": \"product\",\n",
        "    \"LACK OF product KNOWLEDGE\": \"people\",\n",
        "    \"LACK OF process KNOWLEDGE\": \"people\",\n",
        "    \"LACK KNOWLEDGE OF FNO productS\": \"people\"\n",
        "}\n",
        "for i in word_dict:\n",
        "  df.loc[((df['x'].str.contains(i) & df['y_pred']=='others'), 'y_pred')] = word_dict[i]"
      ],
      "metadata": {
        "id": "homzNVZuKqJD"
      },
      "execution_count": 26,
      "outputs": []
    },
    {
      "cell_type": "code",
      "source": [
        "## Sentiment analysis"
      ],
      "metadata": {
        "id": "hew8VUkHn4fx"
      },
      "execution_count": 27,
      "outputs": []
    },
    {
      "cell_type": "code",
      "source": [
        "import torch"
      ],
      "metadata": {
        "id": "_wzaS3MXpLG3"
      },
      "execution_count": 28,
      "outputs": []
    },
    {
      "cell_type": "code",
      "source": [
        "# !pip install transformers\n"
      ],
      "metadata": {
        "id": "7sd0ubVepLv-"
      },
      "execution_count": 29,
      "outputs": []
    },
    {
      "cell_type": "code",
      "source": [
        "from transformers import AutoModelForSequenceClassification\n",
        "from transformers import TFAutoModelForSequenceClassification\n",
        "from transformers import AutoTokenizer, AutoConfig\n",
        "import numpy as np\n",
        "from scipy.special import softmax\n",
        "# Preprocess text (username and link placeholders)\n",
        "\n",
        "MODEL = f\"cardiffnlp/twitter-roberta-base-sentiment-latest\"\n",
        "tokenizer = AutoTokenizer.from_pretrained(MODEL)\n",
        "config = AutoConfig.from_pretrained(MODEL)\n",
        "# PT\n",
        "model = AutoModelForSequenceClassification.from_pretrained(MODEL)\n",
        "#model.save_pretrained(MODEL)"
      ],
      "metadata": {
        "id": "BPWo9jtxpN5z",
        "outputId": "fe621a89-2d2f-4d94-a8fb-0fc0165b8e7f",
        "colab": {
          "base_uri": "https://localhost:8080/"
        }
      },
      "execution_count": 30,
      "outputs": [
        {
          "output_type": "stream",
          "name": "stderr",
          "text": [
            "Some weights of the model checkpoint at cardiffnlp/twitter-roberta-base-sentiment-latest were not used when initializing RobertaForSequenceClassification: ['roberta.pooler.dense.weight', 'roberta.pooler.dense.bias']\n",
            "- This IS expected if you are initializing RobertaForSequenceClassification from the checkpoint of a model trained on another task or with another architecture (e.g. initializing a BertForSequenceClassification model from a BertForPreTraining model).\n",
            "- This IS NOT expected if you are initializing RobertaForSequenceClassification from the checkpoint of a model that you expect to be exactly identical (initializing a BertForSequenceClassification model from a BertForSequenceClassification model).\n"
          ]
        }
      ]
    },
    {
      "cell_type": "code",
      "source": [
        "def sentiment_score(text):\n",
        "  tokens = tokenizer.encode(text, return_tensors='pt')\n",
        "  result = model(tokens)\n",
        "  return int(torch.argmax(result.logits))\n"
      ],
      "metadata": {
        "id": "CHyp_428pSEd"
      },
      "execution_count": 31,
      "outputs": []
    },
    {
      "cell_type": "code",
      "source": [
        "df['sentiment'] = df['x'].apply(lambda x: sentiment_score(x[:512]))\n",
        "mappings = {0:'Negative', 1:'Neutral', 2:'Positive'}\n",
        "df['sentiment'] = df['sentiment'].replace(mappings)"
      ],
      "metadata": {
        "id": "HDSpQ0v6pVMh"
      },
      "execution_count": 32,
      "outputs": []
    },
    {
      "cell_type": "code",
      "source": [
        "from google.colab import data_table\n",
        "data_table.DataTable(df[['x','sentiment']], include_index=False, num_rows_per_page=30)"
      ],
      "metadata": {
        "id": "hp_XGwexpr41",
        "outputId": "b49c7ed0-eea4-48a1-ef14-ee6c65439c88",
        "colab": {
          "base_uri": "https://localhost:8080/",
          "height": 788
        }
      },
      "execution_count": 33,
      "outputs": [
        {
          "output_type": "execute_result",
          "data": {
            "text/html": [
              "<div>\n",
              "<style scoped>\n",
              "    .dataframe tbody tr th:only-of-type {\n",
              "        vertical-align: middle;\n",
              "    }\n",
              "\n",
              "    .dataframe tbody tr th {\n",
              "        vertical-align: top;\n",
              "    }\n",
              "\n",
              "    .dataframe thead th {\n",
              "        text-align: right;\n",
              "    }\n",
              "</style>\n",
              "<table border=\"1\" class=\"dataframe\">\n",
              "  <thead>\n",
              "    <tr style=\"text-align: right;\">\n",
              "      <th></th>\n",
              "      <th>x</th>\n",
              "      <th>sentiment</th>\n",
              "    </tr>\n",
              "  </thead>\n",
              "  <tbody>\n",
              "    <tr>\n",
              "      <th>0</th>\n",
              "      <td>nan</td>\n",
              "      <td>Neutral</td>\n",
              "    </tr>\n",
              "    <tr>\n",
              "      <th>1</th>\n",
              "      <td>ok</td>\n",
              "      <td>Neutral</td>\n",
              "    </tr>\n",
              "    <tr>\n",
              "      <th>2</th>\n",
              "      <td>nan</td>\n",
              "      <td>Neutral</td>\n",
              "    </tr>\n",
              "    <tr>\n",
              "      <th>3</th>\n",
              "      <td>zero client friendly</td>\n",
              "      <td>Negative</td>\n",
              "    </tr>\n",
              "    <tr>\n",
              "      <th>4</th>\n",
              "      <td>nan</td>\n",
              "      <td>Neutral</td>\n",
              "    </tr>\n",
              "    <tr>\n",
              "      <th>...</th>\n",
              "      <td>...</td>\n",
              "      <td>...</td>\n",
              "    </tr>\n",
              "    <tr>\n",
              "      <th>103</th>\n",
              "      <td>dont change charges without intimation or reason</td>\n",
              "      <td>Neutral</td>\n",
              "    </tr>\n",
              "    <tr>\n",
              "      <th>104</th>\n",
              "      <td>nan</td>\n",
              "      <td>Neutral</td>\n",
              "    </tr>\n",
              "    <tr>\n",
              "      <th>105</th>\n",
              "      <td>other suggestions is below the money after sel...</td>\n",
              "      <td>Negative</td>\n",
              "    </tr>\n",
              "    <tr>\n",
              "      <th>106</th>\n",
              "      <td>nan</td>\n",
              "      <td>Neutral</td>\n",
              "    </tr>\n",
              "    <tr>\n",
              "      <th>107</th>\n",
              "      <td>nan</td>\n",
              "      <td>Neutral</td>\n",
              "    </tr>\n",
              "  </tbody>\n",
              "</table>\n",
              "<p>108 rows × 2 columns</p>\n",
              "</div>"
            ],
            "application/vnd.google.colaboratory.module+javascript": "\n      import \"https://ssl.gstatic.com/colaboratory/data_table/881c4a0d49046431/data_table.js\";\n\n      const table = window.createDataTable({\n        data: [[\"nan\",\n\"Neutral\"],\n [\"ok\",\n\"Neutral\"],\n [\"nan\",\n\"Neutral\"],\n [\"zero client friendly\",\n\"Negative\"],\n [\"nan\",\n\"Neutral\"],\n [\"very good knowledgeable person thankyou kotak team for providing good family\",\n\"Positive\"],\n [\"nan\",\n\"Neutral\"],\n [\"nan\",\n\"Neutral\"],\n [\"i liked kotak neo very much\",\n\"Positive\"],\n [\"nan\",\n\"Neutral\"],\n [\"hi its not opening chat in my phone properly\",\n\"Negative\"],\n [\"nan\",\n\"Neutral\"],\n [\"they need lot of knowledge improvement\",\n\"Neutral\"],\n [\"nan\",\n\"Neutral\"],\n [\"please reduce brokerage charges to rs trade in intraday free delivery\",\n\"Neutral\"],\n [\"call response time should be shorter\",\n\"Negative\"],\n [\"nan\",\n\"Neutral\"],\n [\"nan\",\n\"Neutral\"],\n [\"excellent job\",\n\"Positive\"],\n [\"nan\",\n\"Neutral\"],\n [\"nan\",\n\"Neutral\"],\n [\"plz provid smooth and fast platform in aap\",\n\"Neutral\"],\n [\"nan\",\n\"Neutral\"],\n [\"i want some kannada language knowing people to guide me\",\n\"Neutral\"],\n [\"chutiya he customer service dont open account\",\n\"Negative\"],\n [\"there s reluctance in admitting technical glitches by executives it seems i have applied for ceint ipo site still showing under process no communication received from exchanges on status of application\",\n\"Negative\"],\n [\"you have taken almost hours to respond to my query as i was unable to place buy orders in my account i have received response after market hours stating that my account is blocked for buying as my pan and adhar was not linked and hence i can not place buy orders\",\n\"Negative\"],\n [\"nan\",\n\"Neutral\"],\n [\"nan\",\n\"Neutral\"],\n [\"she has no sound knowledge of capital market\",\n\"Negative\"],\n [\"kotak customer care not supportive even client want to trade your support team not help to client\",\n\"Negative\"],\n [\"satisfied\",\n\"Positive\"],\n [\"nan\",\n\"Neutral\"],\n [\"please any work do fast this is a fast platform not slow\",\n\"Positive\"],\n [\"nan\",\n\"Neutral\"],\n [\"team working is worse than any bureaucracy calls get transferred emails getting escalate and no response\",\n\"Negative\"],\n [\"your staff is my call not received any time\",\n\"Negative\"],\n [\"excellent\",\n\"Positive\"],\n [\"nan\",\n\"Neutral\"],\n [\"sir kindly problem resolve karan bhi sikhe\",\n\"Neutral\"],\n [\"nan\",\n\"Neutral\"],\n [\"make the server very fast to browse stocks\",\n\"Neutral\"],\n [\"nan\",\n\"Neutral\"],\n [\"response more quickly for the queries\",\n\"Neutral\"],\n [\"nan\",\n\"Neutral\"],\n [\"my heartiest thanks to my relationship manager krishna kant murari rajak\",\n\"Positive\"],\n [\"nan\",\n\"Neutral\"],\n [\"no words to say\",\n\"Negative\"],\n [\"okk\",\n\"Neutral\"],\n [\"nan\",\n\"Neutral\"],\n [\"nan\",\n\"Neutral\"],\n [\"nan\",\n\"Neutral\"],\n [\"good sarvice\",\n\"Positive\"],\n [\"poor response from rm\",\n\"Negative\"],\n [\"account not mentioned\",\n\"Neutral\"],\n [\"failure to own up deficiency in service and communicate a clear timeline for resolution\",\n\"Negative\"],\n [\"nan\",\n\"Neutral\"],\n [\"interest charges too high at overdue payment comparison to other co\",\n\"Negative\"],\n [\"nan\",\n\"Neutral\"],\n [\"nan\",\n\"Neutral\"],\n [\"nan\",\n\"Neutral\"],\n [\"fine advice\",\n\"Positive\"],\n [\"dear ceo jaideep sir try to resolve issue of kotak securities app usersvery very poor experience\",\n\"Negative\"],\n [\"employees have no training they don t hv basic knowledge lack basic courtesies\",\n\"Negative\"],\n [\"nan\",\n\"Neutral\"],\n [\"nan\",\n\"Neutral\"],\n [\"nan\",\n\"Neutral\"],\n [\"app efficiency has to be improved\",\n\"Neutral\"],\n [\"nan\",\n\"Neutral\"],\n [\"nan\",\n\"Neutral\"],\n [\"nan\",\n\"Neutral\"],\n [\"nan\",\n\"Neutral\"],\n [\"nan\",\n\"Neutral\"],\n [\"in todays time nobody should annoy the customer it is pathetic when money deducted illogically and nobody is there to even listen to\",\n\"Negative\"],\n [\"please update details of dividend details of shares i e record date payout etc\",\n\"Neutral\"],\n [\"good\",\n\"Positive\"],\n [\"customer associates misguided given false information about the interest rate on outstanding debit balance reached out the escalation team which is not helping in resolving the issue kotak securities is not at all recommendable due to these kind of hidden charges\",\n\"Negative\"],\n [\"nan\",\n\"Neutral\"],\n [\"no response so many times call so i want close my account what is the prosijer closing my account please tell\",\n\"Negative\"],\n [\"nan\",\n\"Neutral\"],\n [\"nan\",\n\"Neutral\"],\n [\"our querry still persists need assistance at the earliest thinking of closing the account asap\",\n\"Negative\"],\n [\"bas service\",\n\"Neutral\"],\n [\"no problem\",\n\"Neutral\"],\n [\"nan\",\n\"Neutral\"],\n [\"\",\n\"Positive\"],\n [\"nan\",\n\"Neutral\"],\n [\"transparent interactions\",\n\"Neutral\"],\n [\"nan\",\n\"Neutral\"],\n [\"plz reply mails also written by the client\",\n\"Neutral\"],\n [\"nan\",\n\"Neutral\"],\n [\"you need complete revamp of your system\",\n\"Neutral\"],\n [\"nan\",\n\"Neutral\"],\n [\"nan\",\n\"Neutral\"],\n [\"nan\",\n\"Neutral\"],\n [\"improve improve improve\",\n\"Neutral\"],\n [\"nan\",\n\"Neutral\"],\n [\"nan\",\n\"Neutral\"],\n [\"nan\",\n\"Neutral\"],\n [\"good knowledgeable person\",\n\"Positive\"],\n [\"pls close the brokerage firm\",\n\"Negative\"],\n [\"its okay but dealer never respond\",\n\"Negative\"],\n [\"nan\",\n\"Neutral\"],\n [\"dont change charges without intimation or reason\",\n\"Neutral\"],\n [\"nan\",\n\"Neutral\"],\n [\"other suggestions is below the money after selling any share does not reflect every sell don t allow to share qty not goes to nsdl always happens next morning the brokerage is still high than no nominal market rate when are kotak is considering lower the same hope i shall get reply on above questions\",\n\"Negative\"],\n [\"nan\",\n\"Neutral\"],\n [\"nan\",\n\"Neutral\"]],\n        columns: [[\"string\", \"x\"], [\"string\", \"sentiment\"]],\n        columnOptions: [],\n        rowsPerPage: 30,\n        helpUrl: \"https://colab.research.google.com/notebooks/data_table.ipynb\",\n        suppressOutputScrolling: true,\n        minimumWidth: undefined,\n      });\n      \n      function appendQuickchartButton(parentElement) {\n        let quickchartButtonContainerElement = document.createElement('div');\n        quickchartButtonContainerElement.innerHTML = `\n    <div id=\"df-f814a6c9-613f-4d7e-afac-7622152b8897\">\n      <button class=\"colab-df-quickchart\" onclick=\"quickchart('df-f814a6c9-613f-4d7e-afac-7622152b8897')\"\n              title=\"Suggest charts.\"\n              style=\"display:none;\">\n\n<svg xmlns=\"http://www.w3.org/2000/svg\" height=\"24px\"viewBox=\"0 0 24 24\"\n     width=\"24px\">\n    <g>\n        <path d=\"M19 3H5c-1.1 0-2 .9-2 2v14c0 1.1.9 2 2 2h14c1.1 0 2-.9 2-2V5c0-1.1-.9-2-2-2zM9 17H7v-7h2v7zm4 0h-2V7h2v10zm4 0h-2v-4h2v4z\"/>\n    </g>\n</svg>\n      </button>\n    </div>\n\n<style>\n  .colab-df-quickchart {\n    background-color: #E8F0FE;\n    border: none;\n    border-radius: 50%;\n    cursor: pointer;\n    display: none;\n    fill: #1967D2;\n    height: 32px;\n    padding: 0 0 0 0;\n    width: 32px;\n  }\n\n  .colab-df-quickchart:hover {\n    background-color: #E2EBFA;\n    box-shadow: 0px 1px 2px rgba(60, 64, 67, 0.3), 0px 1px 3px 1px rgba(60, 64, 67, 0.15);\n    fill: #174EA6;\n  }\n\n  [theme=dark] .colab-df-quickchart {\n    background-color: #3B4455;\n    fill: #D2E3FC;\n  }\n\n  [theme=dark] .colab-df-quickchart:hover {\n    background-color: #434B5C;\n    box-shadow: 0px 1px 3px 1px rgba(0, 0, 0, 0.15);\n    filter: drop-shadow(0px 1px 2px rgba(0, 0, 0, 0.3));\n    fill: #FFFFFF;\n  }\n</style>\n\n    <script>\n      async function quickchart(key) {\n        const containerElement = document.querySelector('#' + key);\n        const charts = await google.colab.kernel.invokeFunction(\n            'suggestCharts', [key], {});\n      }\n    </script>\n`;\n        parentElement.appendChild(quickchartButtonContainerElement);\n        \nfunction displayQuickchartButton(domScope) {\n  let quickchartButtonEl =\n    domScope.querySelector('#df-f814a6c9-613f-4d7e-afac-7622152b8897 button.colab-df-quickchart');\n  quickchartButtonEl.style.display =\n    google.colab.kernel.accessAllowed ? 'block' : 'none';\n}\n\n        displayQuickchartButton(parentElement);\n      }\n\n      appendQuickchartButton(table);\n    ",
            "text/plain": [
              "<google.colab.data_table.DataTable object>"
            ]
          },
          "metadata": {},
          "execution_count": 33
        }
      ]
    },
    {
      "cell_type": "code",
      "source": [
        "## Summarization"
      ],
      "metadata": {
        "id": "naIihiwLp6fK"
      },
      "execution_count": 34,
      "outputs": []
    },
    {
      "cell_type": "code",
      "source": [
        "!pip install -q transformers einops accelerate langchain bitsandbytes"
      ],
      "metadata": {
        "id": "G_ZTw3ScsNYI"
      },
      "execution_count": 35,
      "outputs": []
    },
    {
      "cell_type": "code",
      "source": [
        "!huggingface-cli login"
      ],
      "metadata": {
        "id": "Tw67sLS1sYEW",
        "outputId": "d0519d7b-3294-455c-9454-61dbda557f0c",
        "colab": {
          "base_uri": "https://localhost:8080/"
        }
      },
      "execution_count": 36,
      "outputs": [
        {
          "output_type": "stream",
          "name": "stdout",
          "text": [
            "\n",
            "    _|    _|  _|    _|    _|_|_|    _|_|_|  _|_|_|  _|      _|    _|_|_|      _|_|_|_|    _|_|      _|_|_|  _|_|_|_|\n",
            "    _|    _|  _|    _|  _|        _|          _|    _|_|    _|  _|            _|        _|    _|  _|        _|\n",
            "    _|_|_|_|  _|    _|  _|  _|_|  _|  _|_|    _|    _|  _|  _|  _|  _|_|      _|_|_|    _|_|_|_|  _|        _|_|_|\n",
            "    _|    _|  _|    _|  _|    _|  _|    _|    _|    _|    _|_|  _|    _|      _|        _|    _|  _|        _|\n",
            "    _|    _|    _|_|      _|_|_|    _|_|_|  _|_|_|  _|      _|    _|_|_|      _|        _|    _|    _|_|_|  _|_|_|_|\n",
            "    \n",
            "    A token is already saved on your machine. Run `huggingface-cli whoami` to get more information or `huggingface-cli logout` if you want to log out.\n",
            "    Setting a new token will erase the existing one.\n",
            "    To login, `huggingface_hub` requires a token generated from https://huggingface.co/settings/tokens .\n",
            "Token: \n",
            "Add token as git credential? (Y/n) Y\n",
            "Token is valid (permission: read).\n",
            "\u001b[1m\u001b[31mCannot authenticate through git-credential as no helper is defined on your machine.\n",
            "You might have to re-authenticate when pushing to the Hugging Face Hub.\n",
            "Run the following command in your terminal in case you want to set the 'store' credential helper as default.\n",
            "\n",
            "git config --global credential.helper store\n",
            "\n",
            "Read https://git-scm.com/book/en/v2/Git-Tools-Credential-Storage for more details.\u001b[0m\n",
            "Token has not been saved to git credential helper.\n",
            "Your token has been saved to /root/.cache/huggingface/token\n",
            "Login successful\n"
          ]
        }
      ]
    },
    {
      "cell_type": "code",
      "source": [
        "# pip install accelerate"
      ],
      "metadata": {
        "id": "QjzU1bgfs2VT"
      },
      "execution_count": 37,
      "outputs": []
    },
    {
      "cell_type": "code",
      "source": [
        "# ! pip install torch==1.13.1\n"
      ],
      "metadata": {
        "id": "cGJ7v7ijtAQz"
      },
      "execution_count": 38,
      "outputs": []
    },
    {
      "cell_type": "code",
      "source": [
        "from langchain import HuggingFacePipeline\n",
        "from transformers import AutoTokenizer\n",
        "import transformers\n",
        "import torch\n",
        "\n",
        "model = \"meta-llama/Llama-2-7b-chat-hf\"\n",
        "\n",
        "tokenizer = AutoTokenizer.from_pretrained(model)\n",
        "\n",
        "pipeline = transformers.pipeline(\n",
        "    \"text-generation\", #task\n",
        "    model=model,\n",
        "    tokenizer=tokenizer,\n",
        "    torch_dtype=torch.bfloat16,\n",
        "    trust_remote_code=True,\n",
        "    device_map=\"auto\",\n",
        "    max_length=1000,\n",
        "    do_sample=True,\n",
        "    top_k=10,\n",
        "    num_return_sequences=1,\n",
        "    eos_token_id=tokenizer.eos_token_id\n",
        ")"
      ],
      "metadata": {
        "id": "1E2xu8e0saxM",
        "outputId": "f9819c1d-b460-4d70-e012-7c8af4b95bfa",
        "colab": {
          "base_uri": "https://localhost:8080/",
          "height": 84,
          "referenced_widgets": [
            "076603787cc94a5388a4474de1e22dfd",
            "ac86df8532e54f69afa4495e838b2c86",
            "e98dcbaaaa984e94b152a4f348533673",
            "b0ac938f753c47fdb1cf700cafbbf4aa",
            "07724735fbf643bd9367e6423dce15a4",
            "fcdd71160f564ce6b0ad6f301bc601fa",
            "805beebc02934067a1287db686388803",
            "051fd0b2e32d4d5c8620ea108849873b",
            "829e4b4adfa34fcea1d7a2fde531afc1",
            "96d7f2bf68d3417792206a2d9d21a934",
            "f66ae1a370624c28967f87fd4bdcc054"
          ]
        }
      },
      "execution_count": 39,
      "outputs": [
        {
          "output_type": "display_data",
          "data": {
            "text/plain": [
              "Loading checkpoint shards:   0%|          | 0/2 [00:00<?, ?it/s]"
            ],
            "application/vnd.jupyter.widget-view+json": {
              "version_major": 2,
              "version_minor": 0,
              "model_id": "076603787cc94a5388a4474de1e22dfd"
            }
          },
          "metadata": {}
        },
        {
          "output_type": "stream",
          "name": "stderr",
          "text": [
            "Xformers is not installed correctly. If you want to use memory_efficient_attention to accelerate training use the following command to install Xformers\n",
            "pip install xformers.\n"
          ]
        }
      ]
    },
    {
      "cell_type": "code",
      "source": [
        "llm = HuggingFacePipeline(pipeline = pipeline, model_kwargs = {'temperature':0.2})"
      ],
      "metadata": {
        "id": "JB-p9hDDsiVG"
      },
      "execution_count": 40,
      "outputs": []
    },
    {
      "cell_type": "code",
      "source": [
        "from langchain import PromptTemplate,  LLMChain\n",
        "\n",
        "template = \"\"\"\n",
        "              Write a concise summary of the following text delimited by triple backquotes.\n",
        "              Return your response in bullet points which covers the key points of the text.\n",
        "              ```{text}```\n",
        "              BULLET POINT SUMMARY:\n",
        "           \"\"\"\n",
        "\n",
        "prompt = PromptTemplate(template=template, input_variables=[\"text\"])\n",
        "\n",
        "llm_chain = LLMChain(prompt=prompt, llm=llm)"
      ],
      "metadata": {
        "id": "uIx246U5slmO"
      },
      "execution_count": 41,
      "outputs": []
    },
    {
      "cell_type": "code",
      "source": [
        "for idx, data in df.groupby(['y_pred']):\n",
        "  text = \". \".join(df['x'])\n",
        "  text = text[:1000]\n",
        "  print(idx)\n",
        "  print(llm_chain.run(text))\n",
        "\n",
        "\n"
      ],
      "metadata": {
        "id": "LbsXSBaZt7kC",
        "colab": {
          "base_uri": "https://localhost:8080/"
        },
        "outputId": "8f9eee8c-8015-4970-f6c8-ad27576220d1"
      },
      "execution_count": 42,
      "outputs": [
        {
          "output_type": "stream",
          "name": "stderr",
          "text": [
            "<ipython-input-42-89b874496fe2>:1: FutureWarning: In a future version of pandas, a length 1 tuple will be returned when iterating over a groupby with a grouper equal to a list of length 1. Don't supply a list with a single grouper to avoid this warning.\n",
            "  for i, data in df.groupby(['y_pred']):\n"
          ]
        },
        {
          "output_type": "stream",
          "name": "stdout",
          "text": [
            " • \"Ok. Nan. Zero client friendly. Very good knowledgeable person Thankyou Kotak Team for providing good family.\"\n",
            "         • \"I liked Kotak Neo very much.\"\n",
            "         • \"Hi, it's not opening chat in my phone properly.\"\n",
            "         • \"They need lot of knowledge improvement.\"\n",
            "         • \"Please reduce brokerage charges to Rs. 10 for trade in intraday free delivery.\"\n",
            "         • \"Call response time should be shorter.\"\n",
            "         • \"Excellent job.\"\n",
            "         • \"Nan. I want some Kannada language knowing people to guide me.\"\n",
            "         • \"Chutiya, he customer service don't open account.\"\n",
            "         • \"There's reluctance in admitting technical glitches by executives, it seems.\"\n",
            "         • \"I have applied for Cinirt IPO site still showing under process, no communication received from exchanges on status of application.\"\n",
            "         • \"You have taken almost hours to respond to my query as I was unable to place buy orders in my account.\"\n",
            "         • \"I have received response after market hours stating that my account is blocked for buying as my PAN and Aadhar was not linked, and hence I can't.\"\n",
            "\n",
            "\n",
            "\n",
            " •\tThe customer is satisfied with the knowledge and guidance provided by the Kotak team.\n",
            "            •\tThe customer has issues with the opening of the chat in their phone properly.\n",
            "            •\tThe customer feels that there is a need for improvement in the brokerage charges and response time.\n",
            "            •\tThe customer is unhappy with the technical glitches and lack of communication from the executives.\n",
            "            •\tThe customer has applied for an IPO but is still waiting for a response from the exchange.\n",
            "            •\tThe customer experienced long response times to their queries and was unable to place buy orders in their account.\n",
            "            •\tThe customer is looking for people who are knowledgeable in the Kannada language to guide them.\n",
            "\n",
            "\n",
            "\n",
            "\n",
            "\n",
            "\n",
            "\n",
            " * The user is impressed with the Kotak Mahindra Bank Neo platform.\n",
            "            * The user thanks the Kotak team for providing a good family and knowledgeable person.\n",
            "            * The user has issues with the chat not opening properly on their phone.\n",
            "            * The user believes that the brokerage charges should be reduced for trading in the intraday free delivery.\n",
            "            * The user wants a smooth and fast platform in AAP.\n",
            "            * The user wants some Kannada language-knowing people to guide them.\n",
            "            * The user experienced delays in response time from the customer service.\n",
            "            * The user believes that the executives are reluctant to admit technical glitches.\n",
            "            * The user had issues with the IPO application process and did not receive any communication from the exchanges.\n",
            "            * The user experienced delayed responses to their queries.\n",
            "            * The user was unable to place buy orders in their account due to technical issues.\n",
            "            * The user's account was blocked for buying due to not linking their PAN and Aadhaar.\n",
            "            * The user wants improved knowledge and knowledgeable people in the customer service.\n",
            "\n",
            "\n",
            "\n",
            " •\t\"Thankyou\" to the Kotak team for providing good family.\n",
            "            •\t\"I liked Kotak Neo very much.\"\n",
            "            •\tIssues with the chat function in the phone app, need for improvement.\n",
            "            •\tBrokerage charges are too high, request for reduction.\n",
            "            •\tCall response time is too slow, need for improvement.\n",
            "            •\tExcellent job, but need for platform improvement.\n",
            "            •\tRequest for Kannada language speaking people to guide.\n",
            "            •\tDifficulty in opening account due to technical glitches.\n",
            "            •\tNo communication received from the exchange on application status.\n",
            "\n",
            "\n",
            " • The customer found the platform to be \"client friendly\".\n",
            "         • Knowledgeable and helpful executives were appreciated.\n",
            "        • Some improvement in the brokerage charges is desired.\n",
            "         • Response time for customer queries could be shorter.\n",
            "        • The platform should be more accessible and smoother.\n",
            "          • The customer wishes to have guides who are well-versed in Kannada language.\n",
            "         • The customer had issues with the account opening process.\n",
            "          • Technical glitches were not acknowledged promptly by executives.\n",
            "          • The customer was unable to place buy orders in their account and received a response after market hours stating that their account was blocked due to non-linking of Aadhaar and PAN.\n",
            " •\tKotak Neo is a good family investment platform.\n",
            "            •\tThe customer service is knowledgeable but there is a need for improvement in terms of response time and providing updates on application status.\n",
            "            •\tThe platform is not opening properly on some phones.\n",
            "            •\tThe brokerage charges are high and should be reduced.\n",
            "            •\tThere is a lack of communication from the exchange regarding the status of IPO applications.\n",
            "            •\tThe response time for queries is slow.\n",
            "            •\tThe platform should be more user-friendly and smooth.\n",
            "            •\tSome Kannada language-speaking people should be made available for guidance.\n",
            "            •\tThe customer service is unhelpful and reluctant to admit technical glitches.\n",
            "            •\tThere are difficulties in opening a new account.\n",
            "            •\tThe executives are not proactive in addressing technical issues.\n",
            "            •\tThe platform experiences periodic delays in responding to queries.\n",
            "            •\tThe lack of communication and updates regarding IPO applications is a significant concern.\n",
            "            •\tThe brokerage charges are not competitive and should be lowered.\n",
            "            •\tKotak Neo should prioritize providing a seamless and efficient platform for users.\n",
            "            •\tThe platform should be made more accessible and user-friendly, particularly for those who are not tech-savvy.\n",
            "            •\tMore Kannada-speaking staff should be hired to cater to customers who prefer speaking in Kannada.\n",
            "            •\tThe customer service representatives should be better trained to address technical issues and provide faster responses.\n",
            "            •\tThe platform should be improved to ensure faster response times and more accurate information about IPO applications.\n",
            "            •\tKotak Neo should consider offering more competitive brokerage charges to attract more customers.\n",
            "            •\tThe platform should be optimized for all users, including those who are not tech-savvy.\n",
            "\n",
            "\n",
            "\n",
            "\n"
          ]
        }
      ]
    },
    {
      "cell_type": "code",
      "source": [],
      "metadata": {
        "id": "3O_r7SSbufSz"
      },
      "execution_count": 42,
      "outputs": []
    },
    {
      "cell_type": "code",
      "source": [
        "torch.cuda.empty_cache()"
      ],
      "metadata": {
        "id": "LjurvytR5VrM"
      },
      "execution_count": 43,
      "outputs": []
    },
    {
      "cell_type": "code",
      "source": [
        "import gc\n",
        "del variables\n",
        "gc.collect()"
      ],
      "metadata": {
        "colab": {
          "base_uri": "https://localhost:8080/",
          "height": 210
        },
        "id": "cor5j2K65edu",
        "outputId": "0e47507a-7b80-407a-f08c-adf7a625fead"
      },
      "execution_count": 44,
      "outputs": [
        {
          "output_type": "error",
          "ename": "NameError",
          "evalue": "ignored",
          "traceback": [
            "\u001b[0;31m---------------------------------------------------------------------------\u001b[0m",
            "\u001b[0;31mNameError\u001b[0m                                 Traceback (most recent call last)",
            "\u001b[0;32m<ipython-input-44-4bb94bc31a75>\u001b[0m in \u001b[0;36m<cell line: 2>\u001b[0;34m()\u001b[0m\n\u001b[1;32m      1\u001b[0m \u001b[0;32mimport\u001b[0m \u001b[0mgc\u001b[0m\u001b[0;34m\u001b[0m\u001b[0;34m\u001b[0m\u001b[0m\n\u001b[0;32m----> 2\u001b[0;31m \u001b[0;32mdel\u001b[0m \u001b[0mvariables\u001b[0m\u001b[0;34m\u001b[0m\u001b[0;34m\u001b[0m\u001b[0m\n\u001b[0m\u001b[1;32m      3\u001b[0m \u001b[0mgc\u001b[0m\u001b[0;34m.\u001b[0m\u001b[0mcollect\u001b[0m\u001b[0;34m(\u001b[0m\u001b[0;34m)\u001b[0m\u001b[0;34m\u001b[0m\u001b[0;34m\u001b[0m\u001b[0m\n",
            "\u001b[0;31mNameError\u001b[0m: name 'variables' is not defined"
          ]
        }
      ]
    },
    {
      "cell_type": "code",
      "source": [
        "torch.cuda.memory_summary(device=None, abbreviated=False)"
      ],
      "metadata": {
        "id": "hWBuwjag5jqz"
      },
      "execution_count": null,
      "outputs": []
    },
    {
      "cell_type": "code",
      "source": [],
      "metadata": {
        "id": "EGSYfstb5ocX"
      },
      "execution_count": null,
      "outputs": []
    }
  ],
  "metadata": {
    "kernelspec": {
      "display_name": "Python 3",
      "name": "python3"
    },
    "language_info": {
      "codemirror_mode": {
        "name": "ipython",
        "version": 3
      },
      "file_extension": ".py",
      "mimetype": "text/x-python",
      "name": "python",
      "nbconvert_exporter": "python",
      "pygments_lexer": "ipython3",
      "version": "3.9.11"
    },
    "orig_nbformat": 4,
    "colab": {
      "provenance": [],
      "gpuType": "T4",
      "include_colab_link": true
    },
    "accelerator": "GPU",
    "widgets": {
      "application/vnd.jupyter.widget-state+json": {
        "076603787cc94a5388a4474de1e22dfd": {
          "model_module": "@jupyter-widgets/controls",
          "model_name": "HBoxModel",
          "model_module_version": "1.5.0",
          "state": {
            "_dom_classes": [],
            "_model_module": "@jupyter-widgets/controls",
            "_model_module_version": "1.5.0",
            "_model_name": "HBoxModel",
            "_view_count": null,
            "_view_module": "@jupyter-widgets/controls",
            "_view_module_version": "1.5.0",
            "_view_name": "HBoxView",
            "box_style": "",
            "children": [
              "IPY_MODEL_ac86df8532e54f69afa4495e838b2c86",
              "IPY_MODEL_e98dcbaaaa984e94b152a4f348533673",
              "IPY_MODEL_b0ac938f753c47fdb1cf700cafbbf4aa"
            ],
            "layout": "IPY_MODEL_07724735fbf643bd9367e6423dce15a4"
          }
        },
        "ac86df8532e54f69afa4495e838b2c86": {
          "model_module": "@jupyter-widgets/controls",
          "model_name": "HTMLModel",
          "model_module_version": "1.5.0",
          "state": {
            "_dom_classes": [],
            "_model_module": "@jupyter-widgets/controls",
            "_model_module_version": "1.5.0",
            "_model_name": "HTMLModel",
            "_view_count": null,
            "_view_module": "@jupyter-widgets/controls",
            "_view_module_version": "1.5.0",
            "_view_name": "HTMLView",
            "description": "",
            "description_tooltip": null,
            "layout": "IPY_MODEL_fcdd71160f564ce6b0ad6f301bc601fa",
            "placeholder": "​",
            "style": "IPY_MODEL_805beebc02934067a1287db686388803",
            "value": "Loading checkpoint shards: 100%"
          }
        },
        "e98dcbaaaa984e94b152a4f348533673": {
          "model_module": "@jupyter-widgets/controls",
          "model_name": "FloatProgressModel",
          "model_module_version": "1.5.0",
          "state": {
            "_dom_classes": [],
            "_model_module": "@jupyter-widgets/controls",
            "_model_module_version": "1.5.0",
            "_model_name": "FloatProgressModel",
            "_view_count": null,
            "_view_module": "@jupyter-widgets/controls",
            "_view_module_version": "1.5.0",
            "_view_name": "ProgressView",
            "bar_style": "success",
            "description": "",
            "description_tooltip": null,
            "layout": "IPY_MODEL_051fd0b2e32d4d5c8620ea108849873b",
            "max": 2,
            "min": 0,
            "orientation": "horizontal",
            "style": "IPY_MODEL_829e4b4adfa34fcea1d7a2fde531afc1",
            "value": 2
          }
        },
        "b0ac938f753c47fdb1cf700cafbbf4aa": {
          "model_module": "@jupyter-widgets/controls",
          "model_name": "HTMLModel",
          "model_module_version": "1.5.0",
          "state": {
            "_dom_classes": [],
            "_model_module": "@jupyter-widgets/controls",
            "_model_module_version": "1.5.0",
            "_model_name": "HTMLModel",
            "_view_count": null,
            "_view_module": "@jupyter-widgets/controls",
            "_view_module_version": "1.5.0",
            "_view_name": "HTMLView",
            "description": "",
            "description_tooltip": null,
            "layout": "IPY_MODEL_96d7f2bf68d3417792206a2d9d21a934",
            "placeholder": "​",
            "style": "IPY_MODEL_f66ae1a370624c28967f87fd4bdcc054",
            "value": " 2/2 [01:14&lt;00:00, 33.77s/it]"
          }
        },
        "07724735fbf643bd9367e6423dce15a4": {
          "model_module": "@jupyter-widgets/base",
          "model_name": "LayoutModel",
          "model_module_version": "1.2.0",
          "state": {
            "_model_module": "@jupyter-widgets/base",
            "_model_module_version": "1.2.0",
            "_model_name": "LayoutModel",
            "_view_count": null,
            "_view_module": "@jupyter-widgets/base",
            "_view_module_version": "1.2.0",
            "_view_name": "LayoutView",
            "align_content": null,
            "align_items": null,
            "align_self": null,
            "border": null,
            "bottom": null,
            "display": null,
            "flex": null,
            "flex_flow": null,
            "grid_area": null,
            "grid_auto_columns": null,
            "grid_auto_flow": null,
            "grid_auto_rows": null,
            "grid_column": null,
            "grid_gap": null,
            "grid_row": null,
            "grid_template_areas": null,
            "grid_template_columns": null,
            "grid_template_rows": null,
            "height": null,
            "justify_content": null,
            "justify_items": null,
            "left": null,
            "margin": null,
            "max_height": null,
            "max_width": null,
            "min_height": null,
            "min_width": null,
            "object_fit": null,
            "object_position": null,
            "order": null,
            "overflow": null,
            "overflow_x": null,
            "overflow_y": null,
            "padding": null,
            "right": null,
            "top": null,
            "visibility": null,
            "width": null
          }
        },
        "fcdd71160f564ce6b0ad6f301bc601fa": {
          "model_module": "@jupyter-widgets/base",
          "model_name": "LayoutModel",
          "model_module_version": "1.2.0",
          "state": {
            "_model_module": "@jupyter-widgets/base",
            "_model_module_version": "1.2.0",
            "_model_name": "LayoutModel",
            "_view_count": null,
            "_view_module": "@jupyter-widgets/base",
            "_view_module_version": "1.2.0",
            "_view_name": "LayoutView",
            "align_content": null,
            "align_items": null,
            "align_self": null,
            "border": null,
            "bottom": null,
            "display": null,
            "flex": null,
            "flex_flow": null,
            "grid_area": null,
            "grid_auto_columns": null,
            "grid_auto_flow": null,
            "grid_auto_rows": null,
            "grid_column": null,
            "grid_gap": null,
            "grid_row": null,
            "grid_template_areas": null,
            "grid_template_columns": null,
            "grid_template_rows": null,
            "height": null,
            "justify_content": null,
            "justify_items": null,
            "left": null,
            "margin": null,
            "max_height": null,
            "max_width": null,
            "min_height": null,
            "min_width": null,
            "object_fit": null,
            "object_position": null,
            "order": null,
            "overflow": null,
            "overflow_x": null,
            "overflow_y": null,
            "padding": null,
            "right": null,
            "top": null,
            "visibility": null,
            "width": null
          }
        },
        "805beebc02934067a1287db686388803": {
          "model_module": "@jupyter-widgets/controls",
          "model_name": "DescriptionStyleModel",
          "model_module_version": "1.5.0",
          "state": {
            "_model_module": "@jupyter-widgets/controls",
            "_model_module_version": "1.5.0",
            "_model_name": "DescriptionStyleModel",
            "_view_count": null,
            "_view_module": "@jupyter-widgets/base",
            "_view_module_version": "1.2.0",
            "_view_name": "StyleView",
            "description_width": ""
          }
        },
        "051fd0b2e32d4d5c8620ea108849873b": {
          "model_module": "@jupyter-widgets/base",
          "model_name": "LayoutModel",
          "model_module_version": "1.2.0",
          "state": {
            "_model_module": "@jupyter-widgets/base",
            "_model_module_version": "1.2.0",
            "_model_name": "LayoutModel",
            "_view_count": null,
            "_view_module": "@jupyter-widgets/base",
            "_view_module_version": "1.2.0",
            "_view_name": "LayoutView",
            "align_content": null,
            "align_items": null,
            "align_self": null,
            "border": null,
            "bottom": null,
            "display": null,
            "flex": null,
            "flex_flow": null,
            "grid_area": null,
            "grid_auto_columns": null,
            "grid_auto_flow": null,
            "grid_auto_rows": null,
            "grid_column": null,
            "grid_gap": null,
            "grid_row": null,
            "grid_template_areas": null,
            "grid_template_columns": null,
            "grid_template_rows": null,
            "height": null,
            "justify_content": null,
            "justify_items": null,
            "left": null,
            "margin": null,
            "max_height": null,
            "max_width": null,
            "min_height": null,
            "min_width": null,
            "object_fit": null,
            "object_position": null,
            "order": null,
            "overflow": null,
            "overflow_x": null,
            "overflow_y": null,
            "padding": null,
            "right": null,
            "top": null,
            "visibility": null,
            "width": null
          }
        },
        "829e4b4adfa34fcea1d7a2fde531afc1": {
          "model_module": "@jupyter-widgets/controls",
          "model_name": "ProgressStyleModel",
          "model_module_version": "1.5.0",
          "state": {
            "_model_module": "@jupyter-widgets/controls",
            "_model_module_version": "1.5.0",
            "_model_name": "ProgressStyleModel",
            "_view_count": null,
            "_view_module": "@jupyter-widgets/base",
            "_view_module_version": "1.2.0",
            "_view_name": "StyleView",
            "bar_color": null,
            "description_width": ""
          }
        },
        "96d7f2bf68d3417792206a2d9d21a934": {
          "model_module": "@jupyter-widgets/base",
          "model_name": "LayoutModel",
          "model_module_version": "1.2.0",
          "state": {
            "_model_module": "@jupyter-widgets/base",
            "_model_module_version": "1.2.0",
            "_model_name": "LayoutModel",
            "_view_count": null,
            "_view_module": "@jupyter-widgets/base",
            "_view_module_version": "1.2.0",
            "_view_name": "LayoutView",
            "align_content": null,
            "align_items": null,
            "align_self": null,
            "border": null,
            "bottom": null,
            "display": null,
            "flex": null,
            "flex_flow": null,
            "grid_area": null,
            "grid_auto_columns": null,
            "grid_auto_flow": null,
            "grid_auto_rows": null,
            "grid_column": null,
            "grid_gap": null,
            "grid_row": null,
            "grid_template_areas": null,
            "grid_template_columns": null,
            "grid_template_rows": null,
            "height": null,
            "justify_content": null,
            "justify_items": null,
            "left": null,
            "margin": null,
            "max_height": null,
            "max_width": null,
            "min_height": null,
            "min_width": null,
            "object_fit": null,
            "object_position": null,
            "order": null,
            "overflow": null,
            "overflow_x": null,
            "overflow_y": null,
            "padding": null,
            "right": null,
            "top": null,
            "visibility": null,
            "width": null
          }
        },
        "f66ae1a370624c28967f87fd4bdcc054": {
          "model_module": "@jupyter-widgets/controls",
          "model_name": "DescriptionStyleModel",
          "model_module_version": "1.5.0",
          "state": {
            "_model_module": "@jupyter-widgets/controls",
            "_model_module_version": "1.5.0",
            "_model_name": "DescriptionStyleModel",
            "_view_count": null,
            "_view_module": "@jupyter-widgets/base",
            "_view_module_version": "1.2.0",
            "_view_name": "StyleView",
            "description_width": ""
          }
        }
      }
    }
  },
  "nbformat": 4,
  "nbformat_minor": 0
}