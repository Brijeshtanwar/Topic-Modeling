{
  "cells": [
    {
      "cell_type": "markdown",
      "metadata": {
        "id": "view-in-github",
        "colab_type": "text"
      },
      "source": [
        "<a href=\"https://colab.research.google.com/github/Brijeshtanwar/Topic-Modeling/blob/main/sklearn_nlp_fasttext.ipynb\" target=\"_parent\"><img src=\"https://colab.research.google.com/assets/colab-badge.svg\" alt=\"Open In Colab\"/></a>"
      ]
    },
    {
      "cell_type": "code",
      "execution_count": 44,
      "metadata": {
        "id": "Kl5yT1diCpf3"
      },
      "outputs": [],
      "source": [
        "import numpy as np \n",
        "import pandas as pd \n",
        "import matplotlib.pyplot as plt\n",
        "import seaborn as sns\n",
        "pd.set_option('display.max_columns', None)\n",
        "from IPython.core.interactiveshell import InteractiveShell\n",
        "InteractiveShell.ast_node_interactivity = \"all\"\n",
        "\n",
        "# NLP libraries\n",
        "import nltk\n",
        "import re\n",
        "from nltk.stem import WordNetLemmatizer\n",
        "from nltk.corpus import stopwords"
      ]
    },
    {
      "cell_type": "code",
      "source": [
        "nltk.download(\"stopwords\")\n",
        "nltk.download('wordnet')"
      ],
      "metadata": {
        "id": "fb2rPz7BkDXw",
        "outputId": "f8e4f5d2-ee82-4cba-9b5a-ad395e226c19",
        "colab": {
          "base_uri": "https://localhost:8080/"
        }
      },
      "execution_count": 45,
      "outputs": [
        {
          "output_type": "stream",
          "name": "stderr",
          "text": [
            "[nltk_data] Downloading package stopwords to /root/nltk_data...\n",
            "[nltk_data]   Package stopwords is already up-to-date!\n"
          ]
        },
        {
          "output_type": "execute_result",
          "data": {
            "text/plain": [
              "True"
            ]
          },
          "metadata": {},
          "execution_count": 45
        },
        {
          "output_type": "stream",
          "name": "stderr",
          "text": [
            "[nltk_data] Downloading package wordnet to /root/nltk_data...\n",
            "[nltk_data]   Package wordnet is already up-to-date!\n"
          ]
        },
        {
          "output_type": "execute_result",
          "data": {
            "text/plain": [
              "True"
            ]
          },
          "metadata": {},
          "execution_count": 45
        }
      ]
    },
    {
      "cell_type": "code",
      "source": [
        "url = \"\"\"https://raw.githubusercontent.com/Brijeshtanwar/Topic-Modeling/main/voc_data.csv\"\"\"\n",
        "df = pd.read_csv(url,  encoding = 'unicode_escape')"
      ],
      "metadata": {
        "id": "y0eKOcmADPRR"
      },
      "execution_count": 46,
      "outputs": []
    },
    {
      "cell_type": "code",
      "source": [
        "df = df[['CUSTOMER COMMENT', 'Reason']]\n",
        "df.columns = ['comment', 'topic']"
      ],
      "metadata": {
        "id": "CfnLvrmwDTYs"
      },
      "execution_count": 47,
      "outputs": []
    },
    {
      "cell_type": "code",
      "source": [
        "df.isnull().sum()"
      ],
      "metadata": {
        "colab": {
          "base_uri": "https://localhost:8080/"
        },
        "id": "TAVmaIbaGJ7Q",
        "outputId": "790a4ed9-0a12-4d18-d375-d268cd2e5dfa"
      },
      "execution_count": 48,
      "outputs": [
        {
          "output_type": "execute_result",
          "data": {
            "text/plain": [
              "comment    0\n",
              "topic      0\n",
              "dtype: int64"
            ]
          },
          "metadata": {},
          "execution_count": 48
        }
      ]
    },
    {
      "cell_type": "code",
      "source": [
        "# Drop na \n",
        "df.dropna(axis=0, inplace=True)"
      ],
      "metadata": {
        "id": "mE7XJr2XGNut"
      },
      "execution_count": 49,
      "outputs": []
    },
    {
      "cell_type": "code",
      "execution_count": 50,
      "metadata": {
        "colab": {
          "base_uri": "https://localhost:8080/"
        },
        "id": "Y5REI-pmCpf4",
        "outputId": "d0bd1164-477a-45dd-8a4d-5683f323daf8"
      },
      "outputs": [
        {
          "output_type": "execute_result",
          "data": {
            "text/plain": [
              "Service                      1570\n",
              "APPLICATION (WEB/APP)        1074\n",
              "SERVICE                       335\n",
              "CHARGES(BRO./DP/LPC ETC.)     332\n",
              "Others                        321\n",
              "NOT SPECIFIED                 254\n",
              "Not Specified                 216\n",
              "People                        113\n",
              "Process                        69\n",
              "PEOPLE                         32\n",
              "Product                        13\n",
              "PROCESS                         6\n",
              "Name: topic, dtype: int64"
            ]
          },
          "metadata": {},
          "execution_count": 50
        }
      ],
      "source": [
        "df.topic.value_counts()"
      ]
    },
    {
      "cell_type": "code",
      "source": [
        "#lower case\n",
        "df['topic'] = df['topic'].str.lower()\n",
        "df['topic'] = df['topic'].str.strip()\n",
        "df.loc[df.topic=='not specified', 'topic'] = 'others'"
      ],
      "metadata": {
        "id": "-7oI5-ss3f94"
      },
      "execution_count": 51,
      "outputs": []
    },
    {
      "cell_type": "code",
      "source": [
        "df.topic.unique()"
      ],
      "metadata": {
        "id": "W_rDJJa_0RyS",
        "outputId": "bdc309a2-1805-436c-a2a1-4ba403a7c5a4",
        "colab": {
          "base_uri": "https://localhost:8080/"
        }
      },
      "execution_count": 52,
      "outputs": [
        {
          "output_type": "execute_result",
          "data": {
            "text/plain": [
              "array(['service', 'application (web/app)', 'others',\n",
              "       'charges(bro./dp/lpc etc.)', 'process', 'people', 'product'],\n",
              "      dtype=object)"
            ]
          },
          "metadata": {},
          "execution_count": 52
        }
      ]
    },
    {
      "cell_type": "code",
      "source": [
        "topic_dic = {'application (web/app)': 'application',  'charges(bro./dp/lpc etc.)': 'charges', 'service':'service'\n",
        ", 'others':'others', 'process':'process', 'people':'people', 'product':'product'}"
      ],
      "metadata": {
        "id": "hsvhUkey0EN3"
      },
      "execution_count": 53,
      "outputs": []
    },
    {
      "cell_type": "code",
      "source": [
        "df['topic'] = df['topic'].map(topic_dic)"
      ],
      "metadata": {
        "id": "aIG2L6LM0hS9"
      },
      "execution_count": 54,
      "outputs": []
    },
    {
      "cell_type": "code",
      "source": [
        "plt.figure(figsize=[8,4])\n",
        "sns.countplot(y=df['topic'])"
      ],
      "metadata": {
        "colab": {
          "base_uri": "https://localhost:8080/",
          "height": 405
        },
        "id": "MubvvVlLGUwu",
        "outputId": "ddeec7c6-1337-4267-875d-f77c1ee037d8"
      },
      "execution_count": 55,
      "outputs": [
        {
          "output_type": "execute_result",
          "data": {
            "text/plain": [
              "<Figure size 800x400 with 0 Axes>"
            ]
          },
          "metadata": {},
          "execution_count": 55
        },
        {
          "output_type": "execute_result",
          "data": {
            "text/plain": [
              "<Axes: xlabel='count', ylabel='topic'>"
            ]
          },
          "metadata": {},
          "execution_count": 55
        },
        {
          "output_type": "display_data",
          "data": {
            "text/plain": [
              "<Figure size 800x400 with 1 Axes>"
            ],
            "image/png": "[encoded data removed]"
          },
          "metadata": {}
        }
      ]
    },
    {
      "cell_type": "code",
      "source": [
        "# Preprocessing"
      ],
      "metadata": {
        "id": "s9NvV_7aGc7j"
      },
      "execution_count": 56,
      "outputs": []
    },
    {
      "cell_type": "code",
      "execution_count": 57,
      "metadata": {
        "id": "MhJ1E9y2Cpf5"
      },
      "outputs": [],
      "source": [
        "# Remove integer comments\n",
        "df = df[df['comment'].apply(lambda x: not isinstance(x, int))]\n",
        "df.reset_index(drop=True, inplace=True)\n",
        "\n",
        "#lower case\n",
        "df['comment'] = df['comment'].str.lower()"
      ]
    },
    {
      "cell_type": "code",
      "source": [
        "def preprocess_text(text, flg_stemm=False, flg_lemm=True, lst_stopwords=None):\n",
        "    ## clean (convert to lowercase and remove punctuations and  characters and then strip)\n",
        "    text = re.sub(r\"[^A-Za-z]+\", ' ' , str(text).lower().strip())\n",
        "            \n",
        "    ## Tokenize (convert from string to list)\n",
        "    lst_text = text.split()    ## remove Stopwords\n",
        "    if lst_stopwords is not None:\n",
        "        lst_text = [word for word in lst_text if word not in \n",
        "                    lst_stopwords]\n",
        "                \n",
        "    ## Stemming (remove -ing, -ly, ...)\n",
        "    if flg_stemm == True:\n",
        "        ps = nltk.stem.porter.PorterStemmer()\n",
        "        lst_text = [ps.stem(word) for word in lst_text]\n",
        "                \n",
        "    ## Lemmatisation (convert the word into root word)\n",
        "    if flg_lemm == True:\n",
        "        lem = nltk.stem.wordnet.WordNetLemmatizer()\n",
        "        lst_text = [lem.lemmatize(word) for word in lst_text]\n",
        "            \n",
        "    ## back to string from list\n",
        "    text = \" \".join(lst_text)\n",
        "    return text"
      ],
      "metadata": {
        "id": "uWknRVTUhGzl"
      },
      "execution_count": 58,
      "outputs": []
    },
    {
      "cell_type": "code",
      "source": [
        "lst_stopwords = nltk.corpus.stopwords.words(\"english\")\n",
        "lst_stopwords.remove('no')\n",
        "lst_stopwords.remove('not')"
      ],
      "metadata": {
        "id": "uhqW6SUMiAxl"
      },
      "execution_count": 59,
      "outputs": []
    },
    {
      "cell_type": "code",
      "source": [
        "df[\"x\"] = df[\"comment\"].apply(lambda x: preprocess_text(x, flg_stemm=False, flg_lemm=True, lst_stopwords=lst_stopwords))\n",
        "df['y'] = df['topic']\n",
        "df.head(10)"
      ],
      "metadata": {
        "id": "iUEFP_HchGwG",
        "outputId": "e7025f33-8c13-416a-f4ba-b16805c8e845",
        "colab": {
          "base_uri": "https://localhost:8080/",
          "height": 363
        }
      },
      "execution_count": 60,
      "outputs": [
        {
          "output_type": "execute_result",
          "data": {
            "text/plain": [
              "                                             comment        topic  \\\n",
              "0  querries where kotak is at disadvantageous pos...      service   \n",
              "1  1) same-day money deduction even if we have ma...  application   \n",
              "2                                         ndejjejdjx       others   \n",
              "3                              worst website trading  application   \n",
              "4  no technical support at real time, application...      service   \n",
              "5               need knowledge and experience person      service   \n",
              "6  please revisit my brokerage and deemat charges...      charges   \n",
              "7  iâm waiting for resolution or a meeting with...      service   \n",
              "8  i dint interacted so my rating may be a bias b...      service   \n",
              "9                              no issues with the rm      service   \n",
              "\n",
              "                                                   x            y  \n",
              "0  querries kotak disadvantageous position either...      service  \n",
              "1  day money deduction even margin position pleas...  application  \n",
              "2                                         ndejjejdjx       others  \n",
              "3                              worst website trading  application  \n",
              "4  no technical support real time application not...      service  \n",
              "5                   need knowledge experience person      service  \n",
              "6  please revisit brokerage deemat charge many se...      charges  \n",
              "7  waiting resolution meeting mr uday kotak card ...      service  \n",
              "8  dint interacted rating may bias better not con...      service  \n",
              "9                                        no issue rm      service  "
            ],
            "text/html": [
              "\n",
              "  <div id=\"df-9905c1e3-155b-4f9d-b86e-4cae8587bfab\">\n",
              "    <div class=\"colab-df-container\">\n",
              "      <div>\n",
              "<style scoped>\n",
              "    .dataframe tbody tr th:only-of-type {\n",
              "        vertical-align: middle;\n",
              "    }\n",
              "\n",
              "    .dataframe tbody tr th {\n",
              "        vertical-align: top;\n",
              "    }\n",
              "\n",
              "    .dataframe thead th {\n",
              "        text-align: right;\n",
              "    }\n",
              "</style>\n",
              "<table border=\"1\" class=\"dataframe\">\n",
              "  <thead>\n",
              "    <tr style=\"text-align: right;\">\n",
              "      <th></th>\n",
              "      <th>comment</th>\n",
              "      <th>topic</th>\n",
              "      <th>x</th>\n",
              "      <th>y</th>\n",
              "    </tr>\n",
              "  </thead>\n",
              "  <tbody>\n",
              "    <tr>\n",
              "      <th>0</th>\n",
              "      <td>querries where kotak is at disadvantageous pos...</td>\n",
              "      <td>service</td>\n",
              "      <td>querries kotak disadvantageous position either...</td>\n",
              "      <td>service</td>\n",
              "    </tr>\n",
              "    <tr>\n",
              "      <th>1</th>\n",
              "      <td>1) same-day money deduction even if we have ma...</td>\n",
              "      <td>application</td>\n",
              "      <td>day money deduction even margin position pleas...</td>\n",
              "      <td>application</td>\n",
              "    </tr>\n",
              "    <tr>\n",
              "      <th>2</th>\n",
              "      <td>ndejjejdjx</td>\n",
              "      <td>others</td>\n",
              "      <td>ndejjejdjx</td>\n",
              "      <td>others</td>\n",
              "    </tr>\n",
              "    <tr>\n",
              "      <th>3</th>\n",
              "      <td>worst website trading</td>\n",
              "      <td>application</td>\n",
              "      <td>worst website trading</td>\n",
              "      <td>application</td>\n",
              "    </tr>\n",
              "    <tr>\n",
              "      <th>4</th>\n",
              "      <td>no technical support at real time, application...</td>\n",
              "      <td>service</td>\n",
              "      <td>no technical support real time application not...</td>\n",
              "      <td>service</td>\n",
              "    </tr>\n",
              "    <tr>\n",
              "      <th>5</th>\n",
              "      <td>need knowledge and experience person</td>\n",
              "      <td>service</td>\n",
              "      <td>need knowledge experience person</td>\n",
              "      <td>service</td>\n",
              "    </tr>\n",
              "    <tr>\n",
              "      <th>6</th>\n",
              "      <td>please revisit my brokerage and deemat charges...</td>\n",
              "      <td>charges</td>\n",
              "      <td>please revisit brokerage deemat charge many se...</td>\n",
              "      <td>charges</td>\n",
              "    </tr>\n",
              "    <tr>\n",
              "      <th>7</th>\n",
              "      <td>iâm waiting for resolution or a meeting with...</td>\n",
              "      <td>service</td>\n",
              "      <td>waiting resolution meeting mr uday kotak card ...</td>\n",
              "      <td>service</td>\n",
              "    </tr>\n",
              "    <tr>\n",
              "      <th>8</th>\n",
              "      <td>i dint interacted so my rating may be a bias b...</td>\n",
              "      <td>service</td>\n",
              "      <td>dint interacted rating may bias better not con...</td>\n",
              "      <td>service</td>\n",
              "    </tr>\n",
              "    <tr>\n",
              "      <th>9</th>\n",
              "      <td>no issues with the rm</td>\n",
              "      <td>service</td>\n",
              "      <td>no issue rm</td>\n",
              "      <td>service</td>\n",
              "    </tr>\n",
              "  </tbody>\n",
              "</table>\n",
              "</div>\n",
              "      <button class=\"colab-df-convert\" onclick=\"convertToInteractive('df-9905c1e3-155b-4f9d-b86e-4cae8587bfab')\"\n",
              "              title=\"Convert this dataframe to an interactive table.\"\n",
              "              style=\"display:none;\">\n",
              "        \n",
              "  <svg xmlns=\"http://www.w3.org/2000/svg\" height=\"24px\"viewBox=\"0 0 24 24\"\n",
              "       width=\"24px\">\n",
              "    <path d=\"M0 0h24v24H0V0z\" fill=\"none\"/>\n",
              "    <path d=\"M18.56 5.44l.94 2.06.94-2.06 2.06-.94-2.06-.94-.94-2.06-.94 2.06-2.06.94zm-11 1L8.5 8.5l.94-2.06 2.06-.94-2.06-.94L8.5 2.5l-.94 2.06-2.06.94zm10 10l.94 2.06.94-2.06 2.06-.94-2.06-.94-.94-2.06-.94 2.06-2.06.94z\"/><path d=\"M17.41 7.96l-1.37-1.37c-.4-.4-.92-.59-1.43-.59-.52 0-1.04.2-1.43.59L10.3 9.45l-7.72 7.72c-.78.78-.78 2.05 0 2.83L4 21.41c.39.39.9.59 1.41.59.51 0 1.02-.2 1.41-.59l7.78-7.78 2.81-2.81c.8-.78.8-2.07 0-2.86zM5.41 20L4 18.59l7.72-7.72 1.47 1.35L5.41 20z\"/>\n",
              "  </svg>\n",
              "      </button>\n",
              "      \n",
              "  <style>\n",
              "    .colab-df-container {\n",
              "      display:flex;\n",
              "      flex-wrap:wrap;\n",
              "      gap: 12px;\n",
              "    }\n",
              "\n",
              "    .colab-df-convert {\n",
              "      background-color: #E8F0FE;\n",
              "      border: none;\n",
              "      border-radius: 50%;\n",
              "      cursor: pointer;\n",
              "      display: none;\n",
              "      fill: #1967D2;\n",
              "      height: 32px;\n",
              "      padding: 0 0 0 0;\n",
              "      width: 32px;\n",
              "    }\n",
              "\n",
              "    .colab-df-convert:hover {\n",
              "      background-color: #E2EBFA;\n",
              "      box-shadow: 0px 1px 2px rgba(60, 64, 67, 0.3), 0px 1px 3px 1px rgba(60, 64, 67, 0.15);\n",
              "      fill: #174EA6;\n",
              "    }\n",
              "\n",
              "    [theme=dark] .colab-df-convert {\n",
              "      background-color: #3B4455;\n",
              "      fill: #D2E3FC;\n",
              "    }\n",
              "\n",
              "    [theme=dark] .colab-df-convert:hover {\n",
              "      background-color: #434B5C;\n",
              "      box-shadow: 0px 1px 3px 1px rgba(0, 0, 0, 0.15);\n",
              "      filter: drop-shadow(0px 1px 2px rgba(0, 0, 0, 0.3));\n",
              "      fill: #FFFFFF;\n",
              "    }\n",
              "  </style>\n",
              "\n",
              "      <script>\n",
              "        const buttonEl =\n",
              "          document.querySelector('#df-9905c1e3-155b-4f9d-b86e-4cae8587bfab button.colab-df-convert');\n",
              "        buttonEl.style.display =\n",
              "          google.colab.kernel.accessAllowed ? 'block' : 'none';\n",
              "\n",
              "        async function convertToInteractive(key) {\n",
              "          const element = document.querySelector('#df-9905c1e3-155b-4f9d-b86e-4cae8587bfab');\n",
              "          const dataTable =\n",
              "            await google.colab.kernel.invokeFunction('convertToInteractive',\n",
              "                                                     [key], {});\n",
              "          if (!dataTable) return;\n",
              "\n",
              "          const docLinkHtml = 'Like what you see? Visit the ' +\n",
              "            '<a target=\"_blank\" href=https://colab.research.google.com/notebooks/data_table.ipynb>data table notebook</a>'\n",
              "            + ' to learn more about interactive tables.';\n",
              "          element.innerHTML = '';\n",
              "          dataTable['output_type'] = 'display_data';\n",
              "          await google.colab.output.renderOutput(dataTable, element);\n",
              "          const docLink = document.createElement('div');\n",
              "          docLink.innerHTML = docLinkHtml;\n",
              "          element.appendChild(docLink);\n",
              "        }\n",
              "      </script>\n",
              "    </div>\n",
              "  </div>\n",
              "  "
            ]
          },
          "metadata": {},
          "execution_count": 60
        }
      ]
    },
    {
      "cell_type": "code",
      "source": [
        "df = df[['x', 'y']]"
      ],
      "metadata": {
        "id": "wpOehiWSN5eu"
      },
      "execution_count": 61,
      "outputs": []
    },
    {
      "cell_type": "code",
      "source": [
        "# Prefixing each row of the category column with '__label__'\n",
        "df.iloc[:, 1] = df.iloc[:, 1].apply(lambda x: '__label__' + x)"
      ],
      "metadata": {
        "id": "4m4Ox5l4Mkd-",
        "outputId": "17c7e04d-38c4-4418-8c14-1153fa1f641e",
        "colab": {
          "base_uri": "https://localhost:8080/"
        }
      },
      "execution_count": 62,
      "outputs": [
        {
          "output_type": "stream",
          "name": "stderr",
          "text": [
            "<ipython-input-62-53fe272f9a81>:2: SettingWithCopyWarning: \n",
            "A value is trying to be set on a copy of a slice from a DataFrame.\n",
            "Try using .loc[row_indexer,col_indexer] = value instead\n",
            "\n",
            "See the caveats in the documentation: https://pandas.pydata.org/pandas-docs/stable/user_guide/indexing.html#returning-a-view-versus-a-copy\n",
            "  df.iloc[:, 1] = df.iloc[:, 1].apply(lambda x: '__label__' + x)\n"
          ]
        }
      ]
    },
    {
      "cell_type": "code",
      "source": [
        "from sklearn.model_selection import train_test_split\n",
        "df_train, df_test = train_test_split(df, test_size=0.33, stratify=df['y'], random_state=0)"
      ],
      "metadata": {
        "id": "fd3ctMgVOfwq"
      },
      "execution_count": 63,
      "outputs": []
    },
    {
      "cell_type": "code",
      "source": [
        "import csv"
      ],
      "metadata": {
        "id": "MakDt70ePEbK"
      },
      "execution_count": 64,
      "outputs": []
    },
    {
      "cell_type": "code",
      "source": [
        "pip install fasttext\n"
      ],
      "metadata": {
        "id": "uly0-x28PLKF",
        "outputId": "c26e81fe-1b75-4f79-cde8-6e40224b412e",
        "colab": {
          "base_uri": "https://localhost:8080/"
        }
      },
      "execution_count": 65,
      "outputs": [
        {
          "output_type": "stream",
          "name": "stdout",
          "text": [
            "Looking in indexes: https://pypi.org/simple, https://us-python.pkg.dev/colab-wheels/public/simple/\n",
            "Requirement already satisfied: fasttext in /usr/local/lib/python3.10/dist-packages (0.9.2)\n",
            "Requirement already satisfied: pybind11>=2.2 in /usr/local/lib/python3.10/dist-packages (from fasttext) (2.10.4)\n",
            "Requirement already satisfied: setuptools>=0.7.0 in /usr/local/lib/python3.10/dist-packages (from fasttext) (67.7.2)\n",
            "Requirement already satisfied: numpy in /usr/local/lib/python3.10/dist-packages (from fasttext) (1.22.4)\n"
          ]
        }
      ]
    },
    {
      "cell_type": "code",
      "source": [
        "import fasttext\n",
        "# Saving the CSV file as a text file to train/test the classifier\n",
        "df_train[['y', 'x']].to_csv('train.txt', \n",
        "                                          index = False, \n",
        "                                          sep = ' ',\n",
        "                                          header = None, \n",
        "                                          quoting = csv.QUOTE_NONE, \n",
        "                                          quotechar = \"\", \n",
        "                                          escapechar = \" \")\n",
        "\n",
        "df_test[['y', 'x']].to_csv('test.txt', \n",
        "                                     index = False, \n",
        "                                     sep = ' ',\n",
        "                                     header = None, \n",
        "                                     quoting = csv.QUOTE_NONE, \n",
        "                                     quotechar = \"\", \n",
        "                                     escapechar = \" \")\n",
        "\n",
        "\n",
        "# Training the fastText classifier\n",
        "model = fasttext.train_supervised('train.txt',lr=0.5, epoch=25, wordNgrams=2, bucket=200000, dim=50)\n",
        "\n",
        "# Evaluating performance on the entire test file\n",
        "model.test('test.txt')                      \n",
        "\n",
        "# Predicting on a single input\n",
        "# model.predict(ds.iloc[2, 0])\n",
        "\n",
        "# Save the trained model\n",
        "#model.save_model('model.bin')"
      ],
      "metadata": {
        "id": "-GMxtG2FOSWM",
        "outputId": "f60b9e08-bc8f-49f2-c2ad-2cfb08ddd541",
        "colab": {
          "base_uri": "https://localhost:8080/"
        }
      },
      "execution_count": 66,
      "outputs": [
        {
          "output_type": "execute_result",
          "data": {
            "text/plain": [
              "(1431, 0.8399720475192173, 0.8399720475192173)"
            ]
          },
          "metadata": {},
          "execution_count": 66
        }
      ]
    },
    {
      "cell_type": "code",
      "source": [
        "model.test('train.txt')"
      ],
      "metadata": {
        "id": "3PU_AwfW3YlK",
        "outputId": "6d756255-3288-4d82-c7d1-90c8e210fba2",
        "colab": {
          "base_uri": "https://localhost:8080/"
        }
      },
      "execution_count": 67,
      "outputs": [
        {
          "output_type": "execute_result",
          "data": {
            "text/plain": [
              "(2904, 0.9986225895316805, 0.9986225895316805)"
            ]
          },
          "metadata": {},
          "execution_count": 67
        }
      ]
    },
    {
      "cell_type": "code",
      "source": [
        "df_test_pred = df_test\n",
        "df_test_pred['y_pred'] = df_test_pred['x'].apply(model.predict)\n",
        "df_test_pred['y_pred']=df_test_pred['y_pred'].str[0:1]\n",
        "df_test_pred['y_pred'] = df_test_pred['y_pred'].astype(str)\n",
        "df_test_pred['y_pred'] = df_test_pred['y_pred'].str[12:-5]\n",
        "df_test_pred['y'] = df_test_pred['y'].str[9:]"
      ],
      "metadata": {
        "id": "dB7S0FRaRACL"
      },
      "execution_count": 68,
      "outputs": []
    },
    {
      "cell_type": "code",
      "source": [
        "df_pred = df\n",
        "df_pred['y_pred'] = df_pred['x'].apply(model.predict)\n",
        "df_pred['y_pred'] = df_pred['y_pred'].str[0:1]\n",
        "df_pred['y_pred'] = df_pred['y_pred'].astype(str)\n",
        "df_pred['y_pred'] = df_pred['y_pred'].str[12:-5]\n",
        "df_pred['y'] = df_pred['y'].str[9:]"
      ],
      "metadata": {
        "id": "P_cSLCMvXgbM"
      },
      "execution_count": 69,
      "outputs": []
    },
    {
      "cell_type": "code",
      "source": [
        "df"
      ],
      "metadata": {
        "id": "9xlMVKm93exr",
        "outputId": "c32518f4-33ca-4c24-a1a0-ddc71e5640e8",
        "colab": {
          "base_uri": "https://localhost:8080/",
          "height": 423
        }
      },
      "execution_count": 80,
      "outputs": [
        {
          "output_type": "execute_result",
          "data": {
            "text/plain": [
              "                                                      x            y  \\\n",
              "0     querries kotak disadvantageous position either...      service   \n",
              "1     day money deduction even margin position pleas...  application   \n",
              "2                                            ndejjejdjx       others   \n",
              "3                                 worst website trading  application   \n",
              "4     no technical support real time application not...      service   \n",
              "...                                                 ...          ...   \n",
              "4330  please reduce brokerage equity account bangalo...      charges   \n",
              "4331                         waste call resolving issue      service   \n",
              "4332                          use le service nnnnnnnnmf      service   \n",
              "4333                                              sunil       others   \n",
              "4334  tamil language useful understand easily make s...      service   \n",
              "\n",
              "           y_pred  category_id  category_id_pred  \n",
              "0         service            0                 3  \n",
              "1     application            1                 0  \n",
              "2          others            2                 4  \n",
              "3     application            1                 0  \n",
              "4         service            0                 3  \n",
              "...           ...          ...               ...  \n",
              "4330      charges            3                 2  \n",
              "4331      service            0                 3  \n",
              "4332      service            0                 3  \n",
              "4333       others            2                 4  \n",
              "4334      service            0                 3  \n",
              "\n",
              "[4335 rows x 5 columns]"
            ],
            "text/html": [
              "\n",
              "  <div id=\"df-d25b867b-e23d-46a5-b78c-b108b975092a\">\n",
              "    <div class=\"colab-df-container\">\n",
              "      <div>\n",
              "<style scoped>\n",
              "    .dataframe tbody tr th:only-of-type {\n",
              "        vertical-align: middle;\n",
              "    }\n",
              "\n",
              "    .dataframe tbody tr th {\n",
              "        vertical-align: top;\n",
              "    }\n",
              "\n",
              "    .dataframe thead th {\n",
              "        text-align: right;\n",
              "    }\n",
              "</style>\n",
              "<table border=\"1\" class=\"dataframe\">\n",
              "  <thead>\n",
              "    <tr style=\"text-align: right;\">\n",
              "      <th></th>\n",
              "      <th>x</th>\n",
              "      <th>y</th>\n",
              "      <th>y_pred</th>\n",
              "      <th>category_id</th>\n",
              "      <th>category_id_pred</th>\n",
              "    </tr>\n",
              "  </thead>\n",
              "  <tbody>\n",
              "    <tr>\n",
              "      <th>0</th>\n",
              "      <td>querries kotak disadvantageous position either...</td>\n",
              "      <td>service</td>\n",
              "      <td>service</td>\n",
              "      <td>0</td>\n",
              "      <td>3</td>\n",
              "    </tr>\n",
              "    <tr>\n",
              "      <th>1</th>\n",
              "      <td>day money deduction even margin position pleas...</td>\n",
              "      <td>application</td>\n",
              "      <td>application</td>\n",
              "      <td>1</td>\n",
              "      <td>0</td>\n",
              "    </tr>\n",
              "    <tr>\n",
              "      <th>2</th>\n",
              "      <td>ndejjejdjx</td>\n",
              "      <td>others</td>\n",
              "      <td>others</td>\n",
              "      <td>2</td>\n",
              "      <td>4</td>\n",
              "    </tr>\n",
              "    <tr>\n",
              "      <th>3</th>\n",
              "      <td>worst website trading</td>\n",
              "      <td>application</td>\n",
              "      <td>application</td>\n",
              "      <td>1</td>\n",
              "      <td>0</td>\n",
              "    </tr>\n",
              "    <tr>\n",
              "      <th>4</th>\n",
              "      <td>no technical support real time application not...</td>\n",
              "      <td>service</td>\n",
              "      <td>service</td>\n",
              "      <td>0</td>\n",
              "      <td>3</td>\n",
              "    </tr>\n",
              "    <tr>\n",
              "      <th>...</th>\n",
              "      <td>...</td>\n",
              "      <td>...</td>\n",
              "      <td>...</td>\n",
              "      <td>...</td>\n",
              "      <td>...</td>\n",
              "    </tr>\n",
              "    <tr>\n",
              "      <th>4330</th>\n",
              "      <td>please reduce brokerage equity account bangalo...</td>\n",
              "      <td>charges</td>\n",
              "      <td>charges</td>\n",
              "      <td>3</td>\n",
              "      <td>2</td>\n",
              "    </tr>\n",
              "    <tr>\n",
              "      <th>4331</th>\n",
              "      <td>waste call resolving issue</td>\n",
              "      <td>service</td>\n",
              "      <td>service</td>\n",
              "      <td>0</td>\n",
              "      <td>3</td>\n",
              "    </tr>\n",
              "    <tr>\n",
              "      <th>4332</th>\n",
              "      <td>use le service nnnnnnnnmf</td>\n",
              "      <td>service</td>\n",
              "      <td>service</td>\n",
              "      <td>0</td>\n",
              "      <td>3</td>\n",
              "    </tr>\n",
              "    <tr>\n",
              "      <th>4333</th>\n",
              "      <td>sunil</td>\n",
              "      <td>others</td>\n",
              "      <td>others</td>\n",
              "      <td>2</td>\n",
              "      <td>4</td>\n",
              "    </tr>\n",
              "    <tr>\n",
              "      <th>4334</th>\n",
              "      <td>tamil language useful understand easily make s...</td>\n",
              "      <td>service</td>\n",
              "      <td>service</td>\n",
              "      <td>0</td>\n",
              "      <td>3</td>\n",
              "    </tr>\n",
              "  </tbody>\n",
              "</table>\n",
              "<p>4335 rows × 5 columns</p>\n",
              "</div>\n",
              "      <button class=\"colab-df-convert\" onclick=\"convertToInteractive('df-d25b867b-e23d-46a5-b78c-b108b975092a')\"\n",
              "              title=\"Convert this dataframe to an interactive table.\"\n",
              "              style=\"display:none;\">\n",
              "        \n",
              "  <svg xmlns=\"http://www.w3.org/2000/svg\" height=\"24px\"viewBox=\"0 0 24 24\"\n",
              "       width=\"24px\">\n",
              "    <path d=\"M0 0h24v24H0V0z\" fill=\"none\"/>\n",
              "    <path d=\"M18.56 5.44l.94 2.06.94-2.06 2.06-.94-2.06-.94-.94-2.06-.94 2.06-2.06.94zm-11 1L8.5 8.5l.94-2.06 2.06-.94-2.06-.94L8.5 2.5l-.94 2.06-2.06.94zm10 10l.94 2.06.94-2.06 2.06-.94-2.06-.94-.94-2.06-.94 2.06-2.06.94z\"/><path d=\"M17.41 7.96l-1.37-1.37c-.4-.4-.92-.59-1.43-.59-.52 0-1.04.2-1.43.59L10.3 9.45l-7.72 7.72c-.78.78-.78 2.05 0 2.83L4 21.41c.39.39.9.59 1.41.59.51 0 1.02-.2 1.41-.59l7.78-7.78 2.81-2.81c.8-.78.8-2.07 0-2.86zM5.41 20L4 18.59l7.72-7.72 1.47 1.35L5.41 20z\"/>\n",
              "  </svg>\n",
              "      </button>\n",
              "      \n",
              "  <style>\n",
              "    .colab-df-container {\n",
              "      display:flex;\n",
              "      flex-wrap:wrap;\n",
              "      gap: 12px;\n",
              "    }\n",
              "\n",
              "    .colab-df-convert {\n",
              "      background-color: #E8F0FE;\n",
              "      border: none;\n",
              "      border-radius: 50%;\n",
              "      cursor: pointer;\n",
              "      display: none;\n",
              "      fill: #1967D2;\n",
              "      height: 32px;\n",
              "      padding: 0 0 0 0;\n",
              "      width: 32px;\n",
              "    }\n",
              "\n",
              "    .colab-df-convert:hover {\n",
              "      background-color: #E2EBFA;\n",
              "      box-shadow: 0px 1px 2px rgba(60, 64, 67, 0.3), 0px 1px 3px 1px rgba(60, 64, 67, 0.15);\n",
              "      fill: #174EA6;\n",
              "    }\n",
              "\n",
              "    [theme=dark] .colab-df-convert {\n",
              "      background-color: #3B4455;\n",
              "      fill: #D2E3FC;\n",
              "    }\n",
              "\n",
              "    [theme=dark] .colab-df-convert:hover {\n",
              "      background-color: #434B5C;\n",
              "      box-shadow: 0px 1px 3px 1px rgba(0, 0, 0, 0.15);\n",
              "      filter: drop-shadow(0px 1px 2px rgba(0, 0, 0, 0.3));\n",
              "      fill: #FFFFFF;\n",
              "    }\n",
              "  </style>\n",
              "\n",
              "      <script>\n",
              "        const buttonEl =\n",
              "          document.querySelector('#df-d25b867b-e23d-46a5-b78c-b108b975092a button.colab-df-convert');\n",
              "        buttonEl.style.display =\n",
              "          google.colab.kernel.accessAllowed ? 'block' : 'none';\n",
              "\n",
              "        async function convertToInteractive(key) {\n",
              "          const element = document.querySelector('#df-d25b867b-e23d-46a5-b78c-b108b975092a');\n",
              "          const dataTable =\n",
              "            await google.colab.kernel.invokeFunction('convertToInteractive',\n",
              "                                                     [key], {});\n",
              "          if (!dataTable) return;\n",
              "\n",
              "          const docLinkHtml = 'Like what you see? Visit the ' +\n",
              "            '<a target=\"_blank\" href=https://colab.research.google.com/notebooks/data_table.ipynb>data table notebook</a>'\n",
              "            + ' to learn more about interactive tables.';\n",
              "          element.innerHTML = '';\n",
              "          dataTable['output_type'] = 'display_data';\n",
              "          await google.colab.output.renderOutput(dataTable, element);\n",
              "          const docLink = document.createElement('div');\n",
              "          docLink.innerHTML = docLinkHtml;\n",
              "          element.appendChild(docLink);\n",
              "        }\n",
              "      </script>\n",
              "    </div>\n",
              "  </div>\n",
              "  "
            ]
          },
          "metadata": {},
          "execution_count": 80
        }
      ]
    },
    {
      "cell_type": "code",
      "source": [
        "# Dict for classes\n",
        "df_pred['category_id'] = df_pred['y'].factorize()[0]\n",
        "category_id_df = df_pred[['y', 'category_id']].drop_duplicates().sort_values('category_id')\n",
        "category_to_id = dict(category_id_df.values)\n",
        "id_to_category = dict(category_id_df[['category_id', 'y']].values)"
      ],
      "metadata": {
        "id": "79OdM9QeYF5l"
      },
      "execution_count": 81,
      "outputs": []
    },
    {
      "cell_type": "code",
      "source": [
        "df_test_pred['category_id'] = df_test_pred['y'].map(category_to_id) \n",
        "df_test_pred['category_id_pred'] = df_test_pred['y_pred'].map(category_to_id) \n",
        "df_pred['category_id_pred'] = df_pred['y_pred'].map(category_to_id) "
      ],
      "metadata": {
        "id": "Hmwr3ApAYVKr"
      },
      "execution_count": 82,
      "outputs": []
    },
    {
      "cell_type": "code",
      "source": [
        "df_test_pred[df_test_pred['category_id_pred'].isnull()]"
      ],
      "metadata": {
        "id": "DpvOzh01Z5Js",
        "outputId": "3ee1cf40-bce0-4bcb-afe0-8d3de100e683",
        "colab": {
          "base_uri": "https://localhost:8080/",
          "height": 49
        }
      },
      "execution_count": 83,
      "outputs": [
        {
          "output_type": "execute_result",
          "data": {
            "text/plain": [
              "Empty DataFrame\n",
              "Columns: [x, y, y_pred, category_id, category_id_pred]\n",
              "Index: []"
            ],
            "text/html": [
              "\n",
              "  <div id=\"df-0959405b-f715-4856-aadf-61cd4c8d6dfe\">\n",
              "    <div class=\"colab-df-container\">\n",
              "      <div>\n",
              "<style scoped>\n",
              "    .dataframe tbody tr th:only-of-type {\n",
              "        vertical-align: middle;\n",
              "    }\n",
              "\n",
              "    .dataframe tbody tr th {\n",
              "        vertical-align: top;\n",
              "    }\n",
              "\n",
              "    .dataframe thead th {\n",
              "        text-align: right;\n",
              "    }\n",
              "</style>\n",
              "<table border=\"1\" class=\"dataframe\">\n",
              "  <thead>\n",
              "    <tr style=\"text-align: right;\">\n",
              "      <th></th>\n",
              "      <th>x</th>\n",
              "      <th>y</th>\n",
              "      <th>y_pred</th>\n",
              "      <th>category_id</th>\n",
              "      <th>category_id_pred</th>\n",
              "    </tr>\n",
              "  </thead>\n",
              "  <tbody>\n",
              "  </tbody>\n",
              "</table>\n",
              "</div>\n",
              "      <button class=\"colab-df-convert\" onclick=\"convertToInteractive('df-0959405b-f715-4856-aadf-61cd4c8d6dfe')\"\n",
              "              title=\"Convert this dataframe to an interactive table.\"\n",
              "              style=\"display:none;\">\n",
              "        \n",
              "  <svg xmlns=\"http://www.w3.org/2000/svg\" height=\"24px\"viewBox=\"0 0 24 24\"\n",
              "       width=\"24px\">\n",
              "    <path d=\"M0 0h24v24H0V0z\" fill=\"none\"/>\n",
              "    <path d=\"M18.56 5.44l.94 2.06.94-2.06 2.06-.94-2.06-.94-.94-2.06-.94 2.06-2.06.94zm-11 1L8.5 8.5l.94-2.06 2.06-.94-2.06-.94L8.5 2.5l-.94 2.06-2.06.94zm10 10l.94 2.06.94-2.06 2.06-.94-2.06-.94-.94-2.06-.94 2.06-2.06.94z\"/><path d=\"M17.41 7.96l-1.37-1.37c-.4-.4-.92-.59-1.43-.59-.52 0-1.04.2-1.43.59L10.3 9.45l-7.72 7.72c-.78.78-.78 2.05 0 2.83L4 21.41c.39.39.9.59 1.41.59.51 0 1.02-.2 1.41-.59l7.78-7.78 2.81-2.81c.8-.78.8-2.07 0-2.86zM5.41 20L4 18.59l7.72-7.72 1.47 1.35L5.41 20z\"/>\n",
              "  </svg>\n",
              "      </button>\n",
              "      \n",
              "  <style>\n",
              "    .colab-df-container {\n",
              "      display:flex;\n",
              "      flex-wrap:wrap;\n",
              "      gap: 12px;\n",
              "    }\n",
              "\n",
              "    .colab-df-convert {\n",
              "      background-color: #E8F0FE;\n",
              "      border: none;\n",
              "      border-radius: 50%;\n",
              "      cursor: pointer;\n",
              "      display: none;\n",
              "      fill: #1967D2;\n",
              "      height: 32px;\n",
              "      padding: 0 0 0 0;\n",
              "      width: 32px;\n",
              "    }\n",
              "\n",
              "    .colab-df-convert:hover {\n",
              "      background-color: #E2EBFA;\n",
              "      box-shadow: 0px 1px 2px rgba(60, 64, 67, 0.3), 0px 1px 3px 1px rgba(60, 64, 67, 0.15);\n",
              "      fill: #174EA6;\n",
              "    }\n",
              "\n",
              "    [theme=dark] .colab-df-convert {\n",
              "      background-color: #3B4455;\n",
              "      fill: #D2E3FC;\n",
              "    }\n",
              "\n",
              "    [theme=dark] .colab-df-convert:hover {\n",
              "      background-color: #434B5C;\n",
              "      box-shadow: 0px 1px 3px 1px rgba(0, 0, 0, 0.15);\n",
              "      filter: drop-shadow(0px 1px 2px rgba(0, 0, 0, 0.3));\n",
              "      fill: #FFFFFF;\n",
              "    }\n",
              "  </style>\n",
              "\n",
              "      <script>\n",
              "        const buttonEl =\n",
              "          document.querySelector('#df-0959405b-f715-4856-aadf-61cd4c8d6dfe button.colab-df-convert');\n",
              "        buttonEl.style.display =\n",
              "          google.colab.kernel.accessAllowed ? 'block' : 'none';\n",
              "\n",
              "        async function convertToInteractive(key) {\n",
              "          const element = document.querySelector('#df-0959405b-f715-4856-aadf-61cd4c8d6dfe');\n",
              "          const dataTable =\n",
              "            await google.colab.kernel.invokeFunction('convertToInteractive',\n",
              "                                                     [key], {});\n",
              "          if (!dataTable) return;\n",
              "\n",
              "          const docLinkHtml = 'Like what you see? Visit the ' +\n",
              "            '<a target=\"_blank\" href=https://colab.research.google.com/notebooks/data_table.ipynb>data table notebook</a>'\n",
              "            + ' to learn more about interactive tables.';\n",
              "          element.innerHTML = '';\n",
              "          dataTable['output_type'] = 'display_data';\n",
              "          await google.colab.output.renderOutput(dataTable, element);\n",
              "          const docLink = document.createElement('div');\n",
              "          docLink.innerHTML = docLinkHtml;\n",
              "          element.appendChild(docLink);\n",
              "        }\n",
              "      </script>\n",
              "    </div>\n",
              "  </div>\n",
              "  "
            ]
          },
          "metadata": {},
          "execution_count": 83
        }
      ]
    },
    {
      "cell_type": "code",
      "source": [
        "df_test_pred.y_pred.unique()"
      ],
      "metadata": {
        "id": "wluGZRiXzR0n",
        "outputId": "ffd2896b-8bb3-418d-be55-6b9753ed2a35",
        "colab": {
          "base_uri": "https://localhost:8080/"
        }
      },
      "execution_count": 84,
      "outputs": [
        {
          "output_type": "execute_result",
          "data": {
            "text/plain": [
              "array(['service', 'application', 'others', 'process', 'people', 'charges'],\n",
              "      dtype=object)"
            ]
          },
          "metadata": {},
          "execution_count": 84
        }
      ]
    },
    {
      "cell_type": "code",
      "execution_count": 85,
      "metadata": {
        "colab": {
          "base_uri": "https://localhost:8080/",
          "height": 545
        },
        "id": "voEGDHPkCpf7",
        "outputId": "56b8a36c-0f7a-4634-fe18-a764490029c4"
      },
      "outputs": [
        {
          "output_type": "execute_result",
          "data": {
            "text/plain": [
              "<Axes: >"
            ]
          },
          "metadata": {},
          "execution_count": 85
        },
        {
          "output_type": "execute_result",
          "data": {
            "text/plain": [
              "Text(33.222222222222214, 0.5, 'Actual')"
            ]
          },
          "metadata": {},
          "execution_count": 85
        },
        {
          "output_type": "execute_result",
          "data": {
            "text/plain": [
              "Text(0.5, 25.722222222222214, 'Predicted')"
            ]
          },
          "metadata": {},
          "execution_count": 85
        },
        {
          "output_type": "display_data",
          "data": {
            "text/plain": [
              "<Figure size 500x500 with 2 Axes>"
            ],
            "image/png": "[encoded data removed]"
          },
          "metadata": {}
        }
      ],
      "source": [
        "from sklearn.metrics import confusion_matrix\n",
        "conf_mat = confusion_matrix(df_test_pred['category_id'], df_test_pred['category_id_pred'])\n",
        "fig, ax = plt.subplots(figsize=(5,5))\n",
        "sns.heatmap(conf_mat, annot=True, fmt='d',\n",
        "            xticklabels=category_id_df.y.values, yticklabels=category_id_df.y.values)\n",
        "plt.ylabel('Actual')\n",
        "plt.xlabel('Predicted')\n",
        "plt.show()"
      ]
    },
    {
      "cell_type": "code",
      "source": [
        "# Classification report\n",
        "from sklearn import metrics\n",
        "print(metrics.classification_report(df_test_pred['category_id'], df_test_pred['category_id_pred'], target_names=df['y'].unique()))"
      ],
      "metadata": {
        "id": "v9lF3u0R4l1p",
        "outputId": "f6f36f37-b20b-4a2e-f2dd-d9e8906620eb",
        "colab": {
          "base_uri": "https://localhost:8080/"
        }
      },
      "execution_count": 86,
      "outputs": [
        {
          "output_type": "stream",
          "name": "stdout",
          "text": [
            "              precision    recall  f1-score   support\n",
            "\n",
            "     service       0.83      0.91      0.87       629\n",
            " application       0.87      0.84      0.85       354\n",
            "      others       0.81      0.86      0.84       261\n",
            "     charges       0.98      0.74      0.84       110\n",
            "     process       0.56      0.20      0.29        25\n",
            "      people       0.77      0.48      0.59        48\n",
            "     product       0.00      0.00      0.00         4\n",
            "\n",
            "    accuracy                           0.84      1431\n",
            "   macro avg       0.69      0.57      0.61      1431\n",
            "weighted avg       0.84      0.84      0.83      1431\n",
            "\n"
          ]
        },
        {
          "output_type": "stream",
          "name": "stderr",
          "text": [
            "/usr/local/lib/python3.10/dist-packages/sklearn/metrics/_classification.py:1344: UndefinedMetricWarning: Precision and F-score are ill-defined and being set to 0.0 in labels with no predicted samples. Use `zero_division` parameter to control this behavior.\n",
            "  _warn_prf(average, modifier, msg_start, len(result))\n",
            "/usr/local/lib/python3.10/dist-packages/sklearn/metrics/_classification.py:1344: UndefinedMetricWarning: Precision and F-score are ill-defined and being set to 0.0 in labels with no predicted samples. Use `zero_division` parameter to control this behavior.\n",
            "  _warn_prf(average, modifier, msg_start, len(result))\n",
            "/usr/local/lib/python3.10/dist-packages/sklearn/metrics/_classification.py:1344: UndefinedMetricWarning: Precision and F-score are ill-defined and being set to 0.0 in labels with no predicted samples. Use `zero_division` parameter to control this behavior.\n",
            "  _warn_prf(average, modifier, msg_start, len(result))\n"
          ]
        }
      ]
    },
    {
      "cell_type": "code",
      "execution_count": 87,
      "metadata": {
        "id": "9Cu4UifQCpf7",
        "colab": {
          "base_uri": "https://localhost:8080/",
          "height": 545
        },
        "outputId": "3be01f33-4488-4b38-a2e3-bffd2ce54c7c"
      },
      "outputs": [
        {
          "output_type": "execute_result",
          "data": {
            "text/plain": [
              "<Axes: >"
            ]
          },
          "metadata": {},
          "execution_count": 87
        },
        {
          "output_type": "execute_result",
          "data": {
            "text/plain": [
              "Text(33.222222222222214, 0.5, 'Actual')"
            ]
          },
          "metadata": {},
          "execution_count": 87
        },
        {
          "output_type": "execute_result",
          "data": {
            "text/plain": [
              "Text(0.5, 25.722222222222214, 'Predicted')"
            ]
          },
          "metadata": {},
          "execution_count": 87
        },
        {
          "output_type": "display_data",
          "data": {
            "text/plain": [
              "<Figure size 500x500 with 2 Axes>"
            ],
            "image/png": "[encoded data removed]"
          },
          "metadata": {}
        }
      ],
      "source": [
        "from sklearn.metrics import confusion_matrix\n",
        "conf_mat = confusion_matrix(df_pred['category_id'], df_pred['category_id_pred'])\n",
        "fig, ax = plt.subplots(figsize=(5,5))\n",
        "sns.heatmap(conf_mat, annot=True, fmt='d',\n",
        "            xticklabels=category_id_df.y.values, yticklabels=category_id_df.y.values)\n",
        "plt.ylabel('Actual')\n",
        "plt.xlabel('Predicted')\n",
        "plt.show()"
      ]
    },
    {
      "cell_type": "code",
      "execution_count": 88,
      "metadata": {
        "colab": {
          "base_uri": "https://localhost:8080/"
        },
        "id": "NS-7FGhLCpf7",
        "outputId": "087d08bc-10c7-42fe-819f-dffb0d986d8c"
      },
      "outputs": [
        {
          "output_type": "stream",
          "name": "stdout",
          "text": [
            "              precision    recall  f1-score   support\n",
            "\n",
            "     service       0.94      0.97      0.95      1905\n",
            " application       0.96      0.95      0.95      1074\n",
            "      others       0.94      0.95      0.94       791\n",
            "     charges       0.99      0.91      0.95       332\n",
            "     process       0.92      0.73      0.81        75\n",
            "      people       0.94      0.83      0.88       145\n",
            "     product       1.00      0.69      0.82        13\n",
            "\n",
            "    accuracy                           0.95      4335\n",
            "   macro avg       0.96      0.86      0.90      4335\n",
            "weighted avg       0.95      0.95      0.95      4335\n",
            "\n"
          ]
        }
      ],
      "source": [
        "# Classification report overall\n",
        "from sklearn import metrics\n",
        "print(metrics.classification_report(df_pred['category_id'], df_pred['category_id_pred'], target_names=df['y'].unique()))"
      ]
    },
    {
      "cell_type": "code",
      "execution_count": 79,
      "metadata": {
        "id": "E2r7i5zgCpf7",
        "outputId": "84051096-ce18-48e2-fb39-7074d9929bbd",
        "colab": {
          "base_uri": "https://localhost:8080/",
          "height": 253
        }
      },
      "outputs": [
        {
          "output_type": "stream",
          "name": "stdout",
          "text": [
            "'process' predicted as 'application' : 1016 examples.\n"
          ]
        },
        {
          "output_type": "error",
          "ename": "NameError",
          "evalue": "ignored",
          "traceback": [
            "\u001b[0;31m---------------------------------------------------------------------------\u001b[0m",
            "\u001b[0;31mNameError\u001b[0m                                 Traceback (most recent call last)",
            "\u001b[0;32m<ipython-input-79-98749c44bc8e>\u001b[0m in \u001b[0;36m<cell line: 4>\u001b[0;34m()\u001b[0m\n\u001b[1;32m      6\u001b[0m         \u001b[0;32mif\u001b[0m \u001b[0mpredicted\u001b[0m \u001b[0;34m!=\u001b[0m \u001b[0mactual\u001b[0m \u001b[0;32mand\u001b[0m \u001b[0mconf_mat\u001b[0m\u001b[0;34m[\u001b[0m\u001b[0mactual\u001b[0m\u001b[0;34m,\u001b[0m \u001b[0mpredicted\u001b[0m\u001b[0;34m]\u001b[0m \u001b[0;34m>=\u001b[0m \u001b[0;36m30\u001b[0m\u001b[0;34m:\u001b[0m\u001b[0;34m\u001b[0m\u001b[0;34m\u001b[0m\u001b[0m\n\u001b[1;32m      7\u001b[0m             \u001b[0mprint\u001b[0m\u001b[0;34m(\u001b[0m\u001b[0;34m\"'{}' predicted as '{}' : {} examples.\"\u001b[0m\u001b[0;34m.\u001b[0m\u001b[0mformat\u001b[0m\u001b[0;34m(\u001b[0m\u001b[0mid_to_category\u001b[0m\u001b[0;34m[\u001b[0m\u001b[0mactual\u001b[0m\u001b[0;34m]\u001b[0m\u001b[0;34m,\u001b[0m \u001b[0mid_to_category\u001b[0m\u001b[0;34m[\u001b[0m\u001b[0mpredicted\u001b[0m\u001b[0;34m]\u001b[0m\u001b[0;34m,\u001b[0m \u001b[0mconf_mat\u001b[0m\u001b[0;34m[\u001b[0m\u001b[0mactual\u001b[0m\u001b[0;34m,\u001b[0m \u001b[0mpredicted\u001b[0m\u001b[0;34m]\u001b[0m\u001b[0;34m)\u001b[0m\u001b[0;34m)\u001b[0m\u001b[0;34m\u001b[0m\u001b[0;34m\u001b[0m\u001b[0m\n\u001b[0;32m----> 8\u001b[0;31m             \u001b[0mdisplay\u001b[0m\u001b[0;34m(\u001b[0m\u001b[0mdf\u001b[0m\u001b[0;34m.\u001b[0m\u001b[0mloc\u001b[0m\u001b[0;34m[\u001b[0m\u001b[0mindices_test\u001b[0m\u001b[0;34m[\u001b[0m\u001b[0;34m(\u001b[0m\u001b[0my_test\u001b[0m \u001b[0;34m==\u001b[0m \u001b[0mactual\u001b[0m\u001b[0;34m)\u001b[0m \u001b[0;34m&\u001b[0m \u001b[0;34m(\u001b[0m\u001b[0my_pred\u001b[0m \u001b[0;34m==\u001b[0m \u001b[0mpredicted\u001b[0m\u001b[0;34m)\u001b[0m\u001b[0;34m]\u001b[0m\u001b[0;34m]\u001b[0m\u001b[0;34m[\u001b[0m\u001b[0;34m[\u001b[0m\u001b[0;34m'x'\u001b[0m\u001b[0;34m]\u001b[0m\u001b[0;34m]\u001b[0m\u001b[0;34m)\u001b[0m\u001b[0;34m\u001b[0m\u001b[0;34m\u001b[0m\u001b[0m\n\u001b[0m\u001b[1;32m      9\u001b[0m             \u001b[0mprint\u001b[0m\u001b[0;34m(\u001b[0m\u001b[0;34m''\u001b[0m\u001b[0;34m)\u001b[0m\u001b[0;34m\u001b[0m\u001b[0;34m\u001b[0m\u001b[0m\n",
            "\u001b[0;31mNameError\u001b[0m: name 'indices_test' is not defined"
          ]
        }
      ],
      "source": [
        "# To manually verify why some failed\n",
        "from IPython.display import display\n",
        "\n",
        "for predicted in category_id_df.category_id:\n",
        "    for actual in category_id_df.category_id:\n",
        "        if predicted != actual and conf_mat[actual, predicted] >= 30:\n",
        "            print(\"'{}' predicted as '{}' : {} examples.\".format(id_to_category[actual], id_to_category[predicted], conf_mat[actual, predicted]))\n",
        "            display(df.loc[indices_test[(y_test == actual) & (y_pred == predicted)]][['x']])\n",
        "            print('')"
      ]
    },
    {
      "cell_type": "code",
      "source": [],
      "metadata": {
        "id": "1eVHnAJKxABG"
      },
      "execution_count": null,
      "outputs": []
    }
  ],
  "metadata": {
    "kernelspec": {
      "display_name": "Python 3",
      "language": "python",
      "name": "python3"
    },
    "language_info": {
      "codemirror_mode": {
        "name": "ipython",
        "version": 3
      },
      "file_extension": ".py",
      "mimetype": "text/x-python",
      "name": "python",
      "nbconvert_exporter": "python",
      "pygments_lexer": "ipython3",
      "version": "3.9.11"
    },
    "orig_nbformat": 4,
    "colab": {
      "provenance": [],
      "include_colab_link": true
    },
    "gpuClass": "standard"
  },
  "nbformat": 4,
  "nbformat_minor": 0
}