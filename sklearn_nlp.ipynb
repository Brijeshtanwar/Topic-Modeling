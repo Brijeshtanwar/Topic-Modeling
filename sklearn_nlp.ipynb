{
  "cells": [
    {
      "cell_type": "markdown",
      "metadata": {
        "id": "view-in-github",
        "colab_type": "text"
      },
      "source": [
        "<a href=\"https://colab.research.google.com/github/Brijeshtanwar/Topic-Modeling/blob/main/sklearn_nlp.ipynb\" target=\"_parent\"><img src=\"https://colab.research.google.com/assets/colab-badge.svg\" alt=\"Open In Colab\"/></a>"
      ]
    },
    {
      "cell_type": "code",
      "execution_count": 11,
      "metadata": {
        "id": "Kl5yT1diCpf3"
      },
      "outputs": [],
      "source": [
        "import numpy as np \n",
        "import pandas as pd \n",
        "import matplotlib.pyplot as plt\n",
        "import imblearn\n",
        "from imblearn.over_sampling import RandomOverSampler\n",
        "from imblearn.combine import SMOTETomek\n",
        "import seaborn as sns\n",
        "pd.set_option('display.max_columns', None)\n",
        "from IPython.core.interactiveshell import InteractiveShell\n",
        "InteractiveShell.ast_node_interactivity = \"all\"\n",
        "\n",
        "# NLP libraries\n",
        "import nltk\n",
        "import re\n",
        "# nltk.download('stopwords')\n",
        "from nltk.stem import WordNetLemmatizer\n",
        "from nltk.corpus import stopwords\n",
        "oversample = RandomOverSampler(sampling_strategy='minority')"
      ]
    },
    {
      "cell_type": "code",
      "source": [
        "url = \"\"\"https://raw.githubusercontent.com/Brijeshtanwar/Topic-Modeling/main/voc_data.csv\"\"\"\n",
        "df = pd.read_csv(url)"
      ],
      "metadata": {
        "id": "y0eKOcmADPRR"
      },
      "execution_count": 13,
      "outputs": []
    },
    {
      "cell_type": "code",
      "source": [
        "df = df[['CUSTOMER COMMENT', 'Reason']]\n",
        "df.columns = ['x', 'y']"
      ],
      "metadata": {
        "id": "CfnLvrmwDTYs"
      },
      "execution_count": 14,
      "outputs": []
    },
    {
      "cell_type": "code",
      "execution_count": 1,
      "metadata": {
        "id": "T8Cb7RpVCpf4",
        "outputId": "5c44ebde-8d2e-48d1-8464-71a86c0de0e4",
        "colab": {
          "base_uri": "https://localhost:8080/",
          "height": 166
        }
      },
      "outputs": [
        {
          "output_type": "error",
          "ename": "NameError",
          "evalue": "ignored",
          "traceback": [
            "\u001b[0;31m---------------------------------------------------------------------------\u001b[0m",
            "\u001b[0;31mNameError\u001b[0m                                 Traceback (most recent call last)",
            "\u001b[0;32m<ipython-input-1-862aee3f8182>\u001b[0m in \u001b[0;36m<cell line: 1>\u001b[0;34m()\u001b[0m\n\u001b[0;32m----> 1\u001b[0;31m \u001b[0mdf\u001b[0m \u001b[0;34m=\u001b[0m \u001b[0mpd\u001b[0m\u001b[0;34m.\u001b[0m\u001b[0mread_excel\u001b[0m\u001b[0;34m(\u001b[0m\u001b[0;34mr\"C:\\Users\\HP\\Desktop\\vs codes\\NLP\\(sample Data) - Copy.xlsx\"\u001b[0m\u001b[0;34m)\u001b[0m\u001b[0;34m\u001b[0m\u001b[0;34m\u001b[0m\u001b[0m\n\u001b[0m",
            "\u001b[0;31mNameError\u001b[0m: name 'pd' is not defined"
          ]
        }
      ],
      "source": [
        "df = pd.read_excel(r\"C:\\Users\\HP\\Desktop\\vs codes\\NLP\\(sample Data) - Copy.xlsx\")"
      ]
    },
    {
      "cell_type": "code",
      "execution_count": null,
      "metadata": {
        "id": "MXx-dP_5Cpf4"
      },
      "outputs": [],
      "source": [
        "df = df[['CUSTOMER COMMENT', 'Reason']]\n",
        "df.columns = ['x', 'y']"
      ]
    },
    {
      "cell_type": "code",
      "execution_count": null,
      "metadata": {
        "id": "Y5REI-pmCpf4",
        "outputId": "b4d36400-c05c-4d73-cc01-751ef20ef9cc"
      },
      "outputs": [
        {
          "data": {
            "text/plain": [
              "SERVICE                      335\n",
              "APPLICATION (WEB/APP)        262\n",
              "NOT SPECIFIED                126\n",
              "CHARGES(BRO./DP/LPC ETC.)     55\n",
              "PEOPLE                        16\n",
              "PROCESS                        3\n",
              "Name: y, dtype: int64"
            ]
          },
          "execution_count": 29,
          "metadata": {},
          "output_type": "execute_result"
        }
      ],
      "source": [
        "df.y.value_counts()"
      ]
    },
    {
      "cell_type": "code",
      "execution_count": null,
      "metadata": {
        "id": "MhJ1E9y2Cpf5"
      },
      "outputs": [],
      "source": [
        "df = df[df['x'].apply(lambda x: not isinstance(x, int))]"
      ]
    },
    {
      "cell_type": "code",
      "execution_count": null,
      "metadata": {
        "id": "3Iix9ZlOCpf5"
      },
      "outputs": [],
      "source": [
        "df['category_id'] = df['y'].factorize()[0]\n",
        "from io import StringIO\n",
        "category_id_df = df[['y', 'category_id']].drop_duplicates().sort_values('category_id')\n",
        "category_to_id = dict(category_id_df.values)\n",
        "id_to_category = dict(category_id_df[['category_id', 'y']].values)"
      ]
    },
    {
      "cell_type": "code",
      "execution_count": null,
      "metadata": {
        "id": "CctIuLZ2Cpf5",
        "outputId": "f92eaa55-5213-48fd-ef07-9ce54fde2a56"
      },
      "outputs": [
        {
          "data": {
            "text/plain": [
              "(796, 41)"
            ]
          },
          "execution_count": 32,
          "metadata": {},
          "output_type": "execute_result"
        }
      ],
      "source": [
        "from sklearn.feature_extraction.text import TfidfVectorizer\n",
        "\n",
        "tfidfVector = TfidfVectorizer(sublinear_tf=True, min_df=20, norm='l2', encoding='latin-1', ngram_range=(1, 2), stop_words='english')\n",
        "\n",
        "features = tfidfVector.fit_transform(df['x']).toarray()\n",
        "labels = df.category_id\n",
        "features.shape"
      ]
    },
    {
      "cell_type": "code",
      "execution_count": null,
      "metadata": {
        "id": "MPlZWdcJCpf5",
        "outputId": "448f8e9d-84c7-467a-90a2-2caf403b584f"
      },
      "outputs": [
        {
          "name": "stdout",
          "output_type": "stream",
          "text": [
            "# 'APPLICATION (WEB/APP)':\n",
            " Most correlated unigrams:\n",
            ". order\n",
            ". app\n",
            " Most correlated bigrams:\n",
            ". kotak securities\n",
            ". customer service\n",
            "# 'CHARGES(BRO./DP/LPC ETC.)':\n",
            " Most correlated unigrams:\n",
            ". charges\n",
            ". brokerage\n",
            " Most correlated bigrams:\n",
            ". customer service\n",
            ". kotak securities\n",
            "# 'NOT SPECIFIED':\n",
            " Most correlated unigrams:\n",
            ". app\n",
            ". good\n",
            " Most correlated bigrams:\n",
            ". kotak securities\n",
            ". customer service\n",
            "# 'PEOPLE':\n",
            " Most correlated unigrams:\n",
            ". customer\n",
            ". support\n",
            " Most correlated bigrams:\n",
            ". kotak securities\n",
            ". customer service\n",
            "# 'PROCESS':\n",
            " Most correlated unigrams:\n",
            ". account\n",
            ". times\n",
            " Most correlated bigrams:\n",
            ". customer service\n",
            ". kotak securities\n",
            "# 'SERVICE':\n",
            " Most correlated unigrams:\n",
            ". app\n",
            ". service\n",
            " Most correlated bigrams:\n",
            ". kotak securities\n",
            ". customer service\n"
          ]
        }
      ],
      "source": [
        "# We can use sklearn.feature_selection.chi2 to find the terms that are the most correlated with each of the products:\n",
        "from sklearn.feature_selection import chi2\n",
        "import numpy as np\n",
        "N = 2\n",
        "for i, j in sorted(category_to_id.items()):\n",
        "    features_chi2 = chi2(features, labels == j)\n",
        "    indices = np.argsort(features_chi2[0])\n",
        "    feature_names = np.array(tfidfVector.get_feature_names_out())[indices]\n",
        "    unigrams = [v for v in feature_names if len(v.split(' ')) == 1]\n",
        "    bigrams = [v for v in feature_names if len(v.split(' ')) == 2]\n",
        "    print(\"# '{}':\".format(i))\n",
        "    # print(feature_names)\n",
        "    print(\" Most correlated unigrams:\\n. {}\".format('\\n. '.join(unigrams[-N:])))\n",
        "    print(\" Most correlated bigrams:\\n. {}\".format('\\n. '.join(bigrams[-N:])))"
      ]
    },
    {
      "cell_type": "code",
      "execution_count": null,
      "metadata": {
        "id": "ABRR--0ICpf6"
      },
      "outputs": [],
      "source": [
        "X_train = features\n",
        "Y_train = labels"
      ]
    },
    {
      "cell_type": "code",
      "execution_count": null,
      "metadata": {
        "id": "Kn6SOaUoCpf6",
        "outputId": "3c785a61-1497-45bb-be6e-69a4cf4e7dbe"
      },
      "outputs": [
        {
          "name": "stderr",
          "output_type": "stream",
          "text": [
            "c:\\Users\\HP\\AppData\\Local\\Programs\\Python\\Python39\\lib\\site-packages\\sklearn\\model_selection\\_split.py:700: UserWarning: The least populated class in y has only 3 members, which is less than n_splits=5.\n",
            "  warnings.warn(\n",
            "c:\\Users\\HP\\AppData\\Local\\Programs\\Python\\Python39\\lib\\site-packages\\sklearn\\model_selection\\_split.py:700: UserWarning: The least populated class in y has only 3 members, which is less than n_splits=5.\n",
            "  warnings.warn(\n",
            "c:\\Users\\HP\\AppData\\Local\\Programs\\Python\\Python39\\lib\\site-packages\\sklearn\\model_selection\\_split.py:700: UserWarning: The least populated class in y has only 3 members, which is less than n_splits=5.\n",
            "  warnings.warn(\n",
            "c:\\Users\\HP\\AppData\\Local\\Programs\\Python\\Python39\\lib\\site-packages\\sklearn\\model_selection\\_split.py:700: UserWarning: The least populated class in y has only 3 members, which is less than n_splits=5.\n",
            "  warnings.warn(\n"
          ]
        },
        {
          "data": {
            "image/png": "[encoded data removed]",
            "text/plain": [
              "<Figure size 640x480 with 1 Axes>"
            ]
          },
          "metadata": {},
          "output_type": "display_data"
        }
      ],
      "source": [
        "from sklearn.linear_model import LogisticRegression\n",
        "from sklearn.ensemble import RandomForestClassifier\n",
        "from sklearn.svm import LinearSVC\n",
        "from sklearn.naive_bayes import MultinomialNB\n",
        "from sklearn.model_selection import cross_val_score\n",
        "models = [\n",
        "    RandomForestClassifier(n_estimators=200, max_depth=3, random_state=0),\n",
        "    LinearSVC(),\n",
        "    MultinomialNB(),\n",
        "    LogisticRegression(random_state=0),\n",
        "]\n",
        "CV = 5\n",
        "cv_df = pd.DataFrame(index=range(CV * len(models)))\n",
        "entries = []\n",
        "for model in models:\n",
        "    model_name = model.__class__.__name__\n",
        "    accuracies = cross_val_score(model, X_train, Y_train, scoring='accuracy',cv=CV)\n",
        "    for fold_idx, accuracy in enumerate(accuracies):\n",
        "        entries.append((model_name, fold_idx, accuracy))\n",
        "cv_df = pd.DataFrame(entries, columns=['model_name', 'fold_idx', 'accuracy'])\n",
        "import seaborn as sns\n",
        "sns.boxplot(x='model_name', y='accuracy', data=cv_df)\n",
        "sns.stripplot(x='model_name', y='accuracy', data=cv_df, \n",
        "              size=8, jitter=True, edgecolor=\"gray\", linewidth=2)\n",
        "plt.show()"
      ]
    },
    {
      "cell_type": "code",
      "execution_count": null,
      "metadata": {
        "id": "7U1WX9h_Cpf6"
      },
      "outputs": [],
      "source": [
        "from sklearn.model_selection import train_test_split\n",
        "model = LogisticRegression(random_state=0)\n",
        "X_train, X_test, y_train, y_test, indices_train, indices_test = train_test_split(features, labels, df.index, test_size=0.33, stratify=labels, random_state=0)\n",
        "model.fit(X_train, y_train)\n",
        "y_pred = model.predict(X_test)"
      ]
    },
    {
      "cell_type": "code",
      "execution_count": null,
      "metadata": {
        "id": "ixqDu6nHCpf7"
      },
      "outputs": [],
      "source": [
        "y_pred_overall = model.predict(features)"
      ]
    },
    {
      "cell_type": "code",
      "execution_count": null,
      "metadata": {
        "id": "voEGDHPkCpf7",
        "outputId": "7d37694a-35ae-44ac-c321-c6120fd29e3d"
      },
      "outputs": [
        {
          "data": {
            "image/png": "[encoded data removed]",
            "text/plain": [
              "<Figure size 500x500 with 2 Axes>"
            ]
          },
          "metadata": {},
          "output_type": "display_data"
        }
      ],
      "source": [
        "from sklearn.metrics import confusion_matrix\n",
        "conf_mat = confusion_matrix(y_test, y_pred)\n",
        "fig, ax = plt.subplots(figsize=(5,5))\n",
        "sns.heatmap(conf_mat, annot=True, fmt='d',\n",
        "            xticklabels=category_id_df.y.values, yticklabels=category_id_df.y.values)\n",
        "plt.ylabel('Actual')\n",
        "plt.xlabel('Predicted')\n",
        "plt.show()"
      ]
    },
    {
      "cell_type": "code",
      "execution_count": null,
      "metadata": {
        "id": "9Cu4UifQCpf7",
        "outputId": "c2c20877-33de-44e3-87e0-5f1f80d82c49"
      },
      "outputs": [
        {
          "data": {
            "image/png": "[encoded data removed]",
            "text/plain": [
              "<Figure size 500x500 with 2 Axes>"
            ]
          },
          "metadata": {},
          "output_type": "display_data"
        }
      ],
      "source": [
        "from sklearn.metrics import confusion_matrix\n",
        "conf_mat = confusion_matrix(labels, y_pred_overall)\n",
        "fig, ax = plt.subplots(figsize=(5,5))\n",
        "sns.heatmap(conf_mat, annot=True, fmt='d',\n",
        "            xticklabels=category_id_df.y.values, yticklabels=category_id_df.y.values)\n",
        "plt.ylabel('Actual')\n",
        "plt.xlabel('Predicted')\n",
        "plt.show()"
      ]
    },
    {
      "cell_type": "code",
      "execution_count": null,
      "metadata": {
        "id": "E2r7i5zgCpf7",
        "outputId": "4727e586-f258-41af-bacd-116e20233818"
      },
      "outputs": [
        {
          "name": "stdout",
          "output_type": "stream",
          "text": [
            "'APPLICATION (WEB/APP)' predicted as 'SERVICE' : 71 examples.\n"
          ]
        },
        {
          "data": {
            "text/html": [
              "<div>\n",
              "<style scoped>\n",
              "    .dataframe tbody tr th:only-of-type {\n",
              "        vertical-align: middle;\n",
              "    }\n",
              "\n",
              "    .dataframe tbody tr th {\n",
              "        vertical-align: top;\n",
              "    }\n",
              "\n",
              "    .dataframe thead th {\n",
              "        text-align: right;\n",
              "    }\n",
              "</style>\n",
              "<table border=\"1\" class=\"dataframe\">\n",
              "  <thead>\n",
              "    <tr style=\"text-align: right;\">\n",
              "      <th></th>\n",
              "      <th>y</th>\n",
              "      <th>x</th>\n",
              "    </tr>\n",
              "  </thead>\n",
              "  <tbody>\n",
              "    <tr>\n",
              "      <th>482</th>\n",
              "      <td>APPLICATION (WEB/APP)</td>\n",
              "      <td>Suggestions made before, I didnt see improveme...</td>\n",
              "    </tr>\n",
              "    <tr>\n",
              "      <th>773</th>\n",
              "      <td>APPLICATION (WEB/APP)</td>\n",
              "      <td>Reatime data delayed to reflect on dashboard</td>\n",
              "    </tr>\n",
              "    <tr>\n",
              "      <th>172</th>\n",
              "      <td>APPLICATION (WEB/APP)</td>\n",
              "      <td>Improve tecanical chart and easy to use</td>\n",
              "    </tr>\n",
              "    <tr>\n",
              "      <th>415</th>\n",
              "      <td>APPLICATION (WEB/APP)</td>\n",
              "      <td>Kindly improve overall experience</td>\n",
              "    </tr>\n",
              "    <tr>\n",
              "      <th>34</th>\n",
              "      <td>APPLICATION (WEB/APP)</td>\n",
              "      <td>Why my account suspendFive days please solve m...</td>\n",
              "    </tr>\n",
              "    <tr>\n",
              "      <th>28</th>\n",
              "      <td>APPLICATION (WEB/APP)</td>\n",
              "      <td>How to set target price is not given. Executed...</td>\n",
              "    </tr>\n",
              "    <tr>\n",
              "      <th>665</th>\n",
              "      <td>APPLICATION (WEB/APP)</td>\n",
              "      <td>My positions were diluted due to your pathetic...</td>\n",
              "    </tr>\n",
              "    <tr>\n",
              "      <th>774</th>\n",
              "      <td>APPLICATION (WEB/APP)</td>\n",
              "      <td>Improve speed.due to hanging problem we lost m...</td>\n",
              "    </tr>\n",
              "    <tr>\n",
              "      <th>745</th>\n",
              "      <td>APPLICATION (WEB/APP)</td>\n",
              "      <td>For diposit funds take more than 2hrs try many...</td>\n",
              "    </tr>\n",
              "    <tr>\n",
              "      <th>171</th>\n",
              "      <td>APPLICATION (WEB/APP)</td>\n",
              "      <td>Direct Debit from Kotak Savings A/C to Trading...</td>\n",
              "    </tr>\n",
              "    <tr>\n",
              "      <th>56</th>\n",
              "      <td>APPLICATION (WEB/APP)</td>\n",
              "      <td>Transparency or honi chiye or aap technically ...</td>\n",
              "    </tr>\n",
              "    <tr>\n",
              "      <th>143</th>\n",
              "      <td>APPLICATION (WEB/APP)</td>\n",
              "      <td>Had losses bcs of the glitch</td>\n",
              "    </tr>\n",
              "    <tr>\n",
              "      <th>727</th>\n",
              "      <td>APPLICATION (WEB/APP)</td>\n",
              "      <td>Multiple instruments dont adding a a time.</td>\n",
              "    </tr>\n",
              "    <tr>\n",
              "      <th>461</th>\n",
              "      <td>APPLICATION (WEB/APP)</td>\n",
              "      <td>Very poor user interface and the website keeps...</td>\n",
              "    </tr>\n",
              "    <tr>\n",
              "      <th>456</th>\n",
              "      <td>APPLICATION (WEB/APP)</td>\n",
              "      <td>There are several bugs. Kindly fix those. Spec...</td>\n",
              "    </tr>\n",
              "    <tr>\n",
              "      <th>21</th>\n",
              "      <td>APPLICATION (WEB/APP)</td>\n",
              "      <td>Very bad experience. Cannot log into my accoun...</td>\n",
              "    </tr>\n",
              "    <tr>\n",
              "      <th>293</th>\n",
              "      <td>APPLICATION (WEB/APP)</td>\n",
              "      <td>Add Not Running As Per Share Market Going Up a...</td>\n",
              "    </tr>\n",
              "    <tr>\n",
              "      <th>553</th>\n",
              "      <td>APPLICATION (WEB/APP)</td>\n",
              "      <td>Totally unsatisfying results</td>\n",
              "    </tr>\n",
              "    <tr>\n",
              "      <th>210</th>\n",
              "      <td>APPLICATION (WEB/APP)</td>\n",
              "      <td>I am facing technical issue in buying and selling</td>\n",
              "    </tr>\n",
              "    <tr>\n",
              "      <th>100</th>\n",
              "      <td>APPLICATION (WEB/APP)</td>\n",
              "      <td>My Demat Account Relationship manager (Ms ABHA...</td>\n",
              "    </tr>\n",
              "  </tbody>\n",
              "</table>\n",
              "</div>"
            ],
            "text/plain": [
              "                         y                                                  x\n",
              "482  APPLICATION (WEB/APP)  Suggestions made before, I didnt see improveme...\n",
              "773  APPLICATION (WEB/APP)       Reatime data delayed to reflect on dashboard\n",
              "172  APPLICATION (WEB/APP)            Improve tecanical chart and easy to use\n",
              "415  APPLICATION (WEB/APP)                  Kindly improve overall experience\n",
              "34   APPLICATION (WEB/APP)  Why my account suspendFive days please solve m...\n",
              "28   APPLICATION (WEB/APP)  How to set target price is not given. Executed...\n",
              "665  APPLICATION (WEB/APP)  My positions were diluted due to your pathetic...\n",
              "774  APPLICATION (WEB/APP)  Improve speed.due to hanging problem we lost m...\n",
              "745  APPLICATION (WEB/APP)  For diposit funds take more than 2hrs try many...\n",
              "171  APPLICATION (WEB/APP)  Direct Debit from Kotak Savings A/C to Trading...\n",
              "56   APPLICATION (WEB/APP)  Transparency or honi chiye or aap technically ...\n",
              "143  APPLICATION (WEB/APP)                       Had losses bcs of the glitch\n",
              "727  APPLICATION (WEB/APP)         Multiple instruments dont adding a a time.\n",
              "461  APPLICATION (WEB/APP)  Very poor user interface and the website keeps...\n",
              "456  APPLICATION (WEB/APP)  There are several bugs. Kindly fix those. Spec...\n",
              "21   APPLICATION (WEB/APP)  Very bad experience. Cannot log into my accoun...\n",
              "293  APPLICATION (WEB/APP)  Add Not Running As Per Share Market Going Up a...\n",
              "553  APPLICATION (WEB/APP)                       Totally unsatisfying results\n",
              "210  APPLICATION (WEB/APP)  I am facing technical issue in buying and selling\n",
              "100  APPLICATION (WEB/APP)  My Demat Account Relationship manager (Ms ABHA..."
            ]
          },
          "metadata": {},
          "output_type": "display_data"
        },
        {
          "name": "stdout",
          "output_type": "stream",
          "text": [
            "\n",
            "'NOT SPECIFIED' predicted as 'SERVICE' : 107 examples.\n"
          ]
        },
        {
          "data": {
            "text/html": [
              "<div>\n",
              "<style scoped>\n",
              "    .dataframe tbody tr th:only-of-type {\n",
              "        vertical-align: middle;\n",
              "    }\n",
              "\n",
              "    .dataframe tbody tr th {\n",
              "        vertical-align: top;\n",
              "    }\n",
              "\n",
              "    .dataframe thead th {\n",
              "        text-align: right;\n",
              "    }\n",
              "</style>\n",
              "<table border=\"1\" class=\"dataframe\">\n",
              "  <thead>\n",
              "    <tr style=\"text-align: right;\">\n",
              "      <th></th>\n",
              "      <th>y</th>\n",
              "      <th>x</th>\n",
              "    </tr>\n",
              "  </thead>\n",
              "  <tbody>\n",
              "    <tr>\n",
              "      <th>381</th>\n",
              "      <td>NOT SPECIFIED</td>\n",
              "      <td>sorry, you do not have time to attend , subscr...</td>\n",
              "    </tr>\n",
              "    <tr>\n",
              "      <th>325</th>\n",
              "      <td>NOT SPECIFIED</td>\n",
              "      <td>Improvement is must needed</td>\n",
              "    </tr>\n",
              "    <tr>\n",
              "      <th>669</th>\n",
              "      <td>NOT SPECIFIED</td>\n",
              "      <td>Please have a check and balance for review</td>\n",
              "    </tr>\n",
              "    <tr>\n",
              "      <th>562</th>\n",
              "      <td>NOT SPECIFIED</td>\n",
              "      <td>No</td>\n",
              "    </tr>\n",
              "    <tr>\n",
              "      <th>60</th>\n",
              "      <td>NOT SPECIFIED</td>\n",
              "      <td>Not called</td>\n",
              "    </tr>\n",
              "    <tr>\n",
              "      <th>759</th>\n",
              "      <td>NOT SPECIFIED</td>\n",
              "      <td>Wants to close relationship</td>\n",
              "    </tr>\n",
              "    <tr>\n",
              "      <th>522</th>\n",
              "      <td>NOT SPECIFIED</td>\n",
              "      <td>Ok</td>\n",
              "    </tr>\n",
              "    <tr>\n",
              "      <th>584</th>\n",
              "      <td>NOT SPECIFIED</td>\n",
              "      <td>Nothing to write. I am sure you know it but re...</td>\n",
              "    </tr>\n",
              "    <tr>\n",
              "      <th>712</th>\n",
              "      <td>NOT SPECIFIED</td>\n",
              "      <td>Not satisfied</td>\n",
              "    </tr>\n",
              "    <tr>\n",
              "      <th>74</th>\n",
              "      <td>NOT SPECIFIED</td>\n",
              "      <td>Thank You</td>\n",
              "    </tr>\n",
              "    <tr>\n",
              "      <th>783</th>\n",
              "      <td>NOT SPECIFIED</td>\n",
              "      <td>Pls provide</td>\n",
              "    </tr>\n",
              "    <tr>\n",
              "      <th>702</th>\n",
              "      <td>NOT SPECIFIED</td>\n",
              "      <td>Zero</td>\n",
              "    </tr>\n",
              "    <tr>\n",
              "      <th>748</th>\n",
              "      <td>NOT SPECIFIED</td>\n",
              "      <td>Nice query</td>\n",
              "    </tr>\n",
              "    <tr>\n",
              "      <th>67</th>\n",
              "      <td>NOT SPECIFIED</td>\n",
              "      <td>improve yourself</td>\n",
              "    </tr>\n",
              "    <tr>\n",
              "      <th>687</th>\n",
              "      <td>NOT SPECIFIED</td>\n",
              "      <td>Management is aware of issues in the organisat...</td>\n",
              "    </tr>\n",
              "    <tr>\n",
              "      <th>473</th>\n",
              "      <td>NOT SPECIFIED</td>\n",
              "      <td>Nothing nothing and nothing more</td>\n",
              "    </tr>\n",
              "    <tr>\n",
              "      <th>541</th>\n",
              "      <td>NOT SPECIFIED</td>\n",
              "      <td>howmany times I need to explain my issue.</td>\n",
              "    </tr>\n",
              "    <tr>\n",
              "      <th>525</th>\n",
              "      <td>NOT SPECIFIED</td>\n",
              "      <td>Always keep improving.</td>\n",
              "    </tr>\n",
              "    <tr>\n",
              "      <th>515</th>\n",
              "      <td>NOT SPECIFIED</td>\n",
              "      <td>No</td>\n",
              "    </tr>\n",
              "    <tr>\n",
              "      <th>22</th>\n",
              "      <td>NOT SPECIFIED</td>\n",
              "      <td>No</td>\n",
              "    </tr>\n",
              "    <tr>\n",
              "      <th>613</th>\n",
              "      <td>NOT SPECIFIED</td>\n",
              "      <td>Not satisfactory</td>\n",
              "    </tr>\n",
              "    <tr>\n",
              "      <th>666</th>\n",
              "      <td>NOT SPECIFIED</td>\n",
              "      <td>None. Am in the process of shifting my account</td>\n",
              "    </tr>\n",
              "    <tr>\n",
              "      <th>528</th>\n",
              "      <td>NOT SPECIFIED</td>\n",
              "      <td>Poor</td>\n",
              "    </tr>\n",
              "    <tr>\n",
              "      <th>365</th>\n",
              "      <td>NOT SPECIFIED</td>\n",
              "      <td>Worsted experience ðŸ™ðŸ™ðŸ™ðŸ™ðŸ™ðŸ™ðŸ™...</td>\n",
              "    </tr>\n",
              "    <tr>\n",
              "      <th>174</th>\n",
              "      <td>NOT SPECIFIED</td>\n",
              "      <td>Not sure why i am recieving this feedback as I...</td>\n",
              "    </tr>\n",
              "    <tr>\n",
              "      <th>546</th>\n",
              "      <td>NOT SPECIFIED</td>\n",
              "      <td>Hopeless</td>\n",
              "    </tr>\n",
              "    <tr>\n",
              "      <th>105</th>\n",
              "      <td>NOT SPECIFIED</td>\n",
              "      <td>Worst</td>\n",
              "    </tr>\n",
              "    <tr>\n",
              "      <th>261</th>\n",
              "      <td>NOT SPECIFIED</td>\n",
              "      <td>Worst of the worst</td>\n",
              "    </tr>\n",
              "    <tr>\n",
              "      <th>691</th>\n",
              "      <td>NOT SPECIFIED</td>\n",
              "      <td>Just ok</td>\n",
              "    </tr>\n",
              "    <tr>\n",
              "      <th>506</th>\n",
              "      <td>NOT SPECIFIED</td>\n",
              "      <td>Its a long story I cant write here.  My mobile...</td>\n",
              "    </tr>\n",
              "    <tr>\n",
              "      <th>135</th>\n",
              "      <td>NOT SPECIFIED</td>\n",
              "      <td>Kotak have to ban from india</td>\n",
              "    </tr>\n",
              "    <tr>\n",
              "      <th>435</th>\n",
              "      <td>NOT SPECIFIED</td>\n",
              "      <td>Posesr</td>\n",
              "    </tr>\n",
              "    <tr>\n",
              "      <th>341</th>\n",
              "      <td>NOT SPECIFIED</td>\n",
              "      <td>Bakwas he</td>\n",
              "    </tr>\n",
              "  </tbody>\n",
              "</table>\n",
              "</div>"
            ],
            "text/plain": [
              "                 y                                                  x\n",
              "381  NOT SPECIFIED  sorry, you do not have time to attend , subscr...\n",
              "325  NOT SPECIFIED                         Improvement is must needed\n",
              "669  NOT SPECIFIED         Please have a check and balance for review\n",
              "562  NOT SPECIFIED                                                 No\n",
              "60   NOT SPECIFIED                                         Not called\n",
              "759  NOT SPECIFIED                        Wants to close relationship\n",
              "522  NOT SPECIFIED                                                 Ok\n",
              "584  NOT SPECIFIED  Nothing to write. I am sure you know it but re...\n",
              "712  NOT SPECIFIED                                      Not satisfied\n",
              "74   NOT SPECIFIED                                          Thank You\n",
              "783  NOT SPECIFIED                                        Pls provide\n",
              "702  NOT SPECIFIED                                               Zero\n",
              "748  NOT SPECIFIED                                         Nice query\n",
              "67   NOT SPECIFIED                                   improve yourself\n",
              "687  NOT SPECIFIED  Management is aware of issues in the organisat...\n",
              "473  NOT SPECIFIED                   Nothing nothing and nothing more\n",
              "541  NOT SPECIFIED          howmany times I need to explain my issue.\n",
              "525  NOT SPECIFIED                             Always keep improving.\n",
              "515  NOT SPECIFIED                                                 No\n",
              "22   NOT SPECIFIED                                                 No\n",
              "613  NOT SPECIFIED                                   Not satisfactory\n",
              "666  NOT SPECIFIED     None. Am in the process of shifting my account\n",
              "528  NOT SPECIFIED                                               Poor\n",
              "365  NOT SPECIFIED  Worsted experience ðŸ™ðŸ™ðŸ™ðŸ™ðŸ™ðŸ™ðŸ™...\n",
              "174  NOT SPECIFIED  Not sure why i am recieving this feedback as I...\n",
              "546  NOT SPECIFIED                                           Hopeless\n",
              "105  NOT SPECIFIED                                              Worst\n",
              "261  NOT SPECIFIED                                 Worst of the worst\n",
              "691  NOT SPECIFIED                                            Just ok\n",
              "506  NOT SPECIFIED  Its a long story I cant write here.  My mobile...\n",
              "135  NOT SPECIFIED                       Kotak have to ban from india\n",
              "435  NOT SPECIFIED                                             Posesr\n",
              "341  NOT SPECIFIED                                          Bakwas he"
            ]
          },
          "metadata": {},
          "output_type": "display_data"
        },
        {
          "name": "stdout",
          "output_type": "stream",
          "text": [
            "\n",
            "'CHARGES(BRO./DP/LPC ETC.)' predicted as 'SERVICE' : 15 examples.\n"
          ]
        },
        {
          "data": {
            "text/html": [
              "<div>\n",
              "<style scoped>\n",
              "    .dataframe tbody tr th:only-of-type {\n",
              "        vertical-align: middle;\n",
              "    }\n",
              "\n",
              "    .dataframe tbody tr th {\n",
              "        vertical-align: top;\n",
              "    }\n",
              "\n",
              "    .dataframe thead th {\n",
              "        text-align: right;\n",
              "    }\n",
              "</style>\n",
              "<table border=\"1\" class=\"dataframe\">\n",
              "  <thead>\n",
              "    <tr style=\"text-align: right;\">\n",
              "      <th></th>\n",
              "      <th>y</th>\n",
              "      <th>x</th>\n",
              "    </tr>\n",
              "  </thead>\n",
              "  <tbody>\n",
              "    <tr>\n",
              "      <th>692</th>\n",
              "      <td>CHARGES(BRO./DP/LPC ETC.)</td>\n",
              "      <td>Loot by you of account holder. Very high charg...</td>\n",
              "    </tr>\n",
              "    <tr>\n",
              "      <th>728</th>\n",
              "      <td>CHARGES(BRO./DP/LPC ETC.)</td>\n",
              "      <td>Employees are unavailable to contact for quarr...</td>\n",
              "    </tr>\n",
              "  </tbody>\n",
              "</table>\n",
              "</div>"
            ],
            "text/plain": [
              "                             y  \\\n",
              "692  CHARGES(BRO./DP/LPC ETC.)   \n",
              "728  CHARGES(BRO./DP/LPC ETC.)   \n",
              "\n",
              "                                                     x  \n",
              "692  Loot by you of account holder. Very high charg...  \n",
              "728  Employees are unavailable to contact for quarr...  "
            ]
          },
          "metadata": {},
          "output_type": "display_data"
        },
        {
          "name": "stdout",
          "output_type": "stream",
          "text": [
            "\n",
            "'PEOPLE' predicted as 'SERVICE' : 10 examples.\n"
          ]
        },
        {
          "data": {
            "text/html": [
              "<div>\n",
              "<style scoped>\n",
              "    .dataframe tbody tr th:only-of-type {\n",
              "        vertical-align: middle;\n",
              "    }\n",
              "\n",
              "    .dataframe tbody tr th {\n",
              "        vertical-align: top;\n",
              "    }\n",
              "\n",
              "    .dataframe thead th {\n",
              "        text-align: right;\n",
              "    }\n",
              "</style>\n",
              "<table border=\"1\" class=\"dataframe\">\n",
              "  <thead>\n",
              "    <tr style=\"text-align: right;\">\n",
              "      <th></th>\n",
              "      <th>y</th>\n",
              "      <th>x</th>\n",
              "    </tr>\n",
              "  </thead>\n",
              "  <tbody>\n",
              "    <tr>\n",
              "      <th>731</th>\n",
              "      <td>PEOPLE</td>\n",
              "      <td>No communication from your end reg customer su...</td>\n",
              "    </tr>\n",
              "    <tr>\n",
              "      <th>715</th>\n",
              "      <td>PEOPLE</td>\n",
              "      <td>High level of confusion while squatting off po...</td>\n",
              "    </tr>\n",
              "    <tr>\n",
              "      <th>322</th>\n",
              "      <td>PEOPLE</td>\n",
              "      <td>Call not castmecar supportPlese andher call na...</td>\n",
              "    </tr>\n",
              "    <tr>\n",
              "      <th>131</th>\n",
              "      <td>PEOPLE</td>\n",
              "      <td>Please improve your support</td>\n",
              "    </tr>\n",
              "  </tbody>\n",
              "</table>\n",
              "</div>"
            ],
            "text/plain": [
              "          y                                                  x\n",
              "731  PEOPLE  No communication from your end reg customer su...\n",
              "715  PEOPLE  High level of confusion while squatting off po...\n",
              "322  PEOPLE  Call not castmecar supportPlese andher call na...\n",
              "131  PEOPLE                        Please improve your support"
            ]
          },
          "metadata": {},
          "output_type": "display_data"
        },
        {
          "name": "stdout",
          "output_type": "stream",
          "text": [
            "\n",
            "'SERVICE' predicted as 'APPLICATION (WEB/APP)' : 29 examples.\n"
          ]
        },
        {
          "data": {
            "text/html": [
              "<div>\n",
              "<style scoped>\n",
              "    .dataframe tbody tr th:only-of-type {\n",
              "        vertical-align: middle;\n",
              "    }\n",
              "\n",
              "    .dataframe tbody tr th {\n",
              "        vertical-align: top;\n",
              "    }\n",
              "\n",
              "    .dataframe thead th {\n",
              "        text-align: right;\n",
              "    }\n",
              "</style>\n",
              "<table border=\"1\" class=\"dataframe\">\n",
              "  <thead>\n",
              "    <tr style=\"text-align: right;\">\n",
              "      <th></th>\n",
              "      <th>y</th>\n",
              "      <th>x</th>\n",
              "    </tr>\n",
              "  </thead>\n",
              "  <tbody>\n",
              "    <tr>\n",
              "      <th>139</th>\n",
              "      <td>SERVICE</td>\n",
              "      <td>Bad experience in all the interactions â€¦ als...</td>\n",
              "    </tr>\n",
              "    <tr>\n",
              "      <th>17</th>\n",
              "      <td>SERVICE</td>\n",
              "      <td>Pathetic if ur management is listening, follow...</td>\n",
              "    </tr>\n",
              "    <tr>\n",
              "      <th>771</th>\n",
              "      <td>SERVICE</td>\n",
              "      <td>The employees are not contacting for any issue...</td>\n",
              "    </tr>\n",
              "    <tr>\n",
              "      <th>764</th>\n",
              "      <td>SERVICE</td>\n",
              "      <td>Should have trading RM in nearest Bank. So the...</td>\n",
              "    </tr>\n",
              "    <tr>\n",
              "      <th>320</th>\n",
              "      <td>SERVICE</td>\n",
              "      <td>Worst service and I lost 60000 rupees in two d...</td>\n",
              "    </tr>\n",
              "    <tr>\n",
              "      <th>228</th>\n",
              "      <td>SERVICE</td>\n",
              "      <td>Your app is not trustworthy Customer care numb...</td>\n",
              "    </tr>\n",
              "    <tr>\n",
              "      <th>83</th>\n",
              "      <td>SERVICE</td>\n",
              "      <td>kotak neo is bad application ,lot of technical...</td>\n",
              "    </tr>\n",
              "    <tr>\n",
              "      <th>790</th>\n",
              "      <td>SERVICE</td>\n",
              "      <td>Third class service..my all over 50000 loss fo...</td>\n",
              "    </tr>\n",
              "    <tr>\n",
              "      <th>699</th>\n",
              "      <td>SERVICE</td>\n",
              "      <td>No call back reply on trading buying and selli...</td>\n",
              "    </tr>\n",
              "    <tr>\n",
              "      <th>200</th>\n",
              "      <td>SERVICE</td>\n",
              "      <td>I am recommending 0 because advisors are too s...</td>\n",
              "    </tr>\n",
              "    <tr>\n",
              "      <th>72</th>\n",
              "      <td>SERVICE</td>\n",
              "      <td>calls not picked up at all no updates about te...</td>\n",
              "    </tr>\n",
              "    <tr>\n",
              "      <th>455</th>\n",
              "      <td>SERVICE</td>\n",
              "      <td>I am not able to get the interest charges on m...</td>\n",
              "    </tr>\n",
              "  </tbody>\n",
              "</table>\n",
              "</div>"
            ],
            "text/plain": [
              "           y                                                  x\n",
              "139  SERVICE  Bad experience in all the interactions â€¦ als...\n",
              "17   SERVICE  Pathetic if ur management is listening, follow...\n",
              "771  SERVICE  The employees are not contacting for any issue...\n",
              "764  SERVICE  Should have trading RM in nearest Bank. So the...\n",
              "320  SERVICE  Worst service and I lost 60000 rupees in two d...\n",
              "228  SERVICE  Your app is not trustworthy Customer care numb...\n",
              "83   SERVICE  kotak neo is bad application ,lot of technical...\n",
              "790  SERVICE  Third class service..my all over 50000 loss fo...\n",
              "699  SERVICE  No call back reply on trading buying and selli...\n",
              "200  SERVICE  I am recommending 0 because advisors are too s...\n",
              "72   SERVICE  calls not picked up at all no updates about te...\n",
              "455  SERVICE  I am not able to get the interest charges on m..."
            ]
          },
          "metadata": {},
          "output_type": "display_data"
        },
        {
          "name": "stdout",
          "output_type": "stream",
          "text": [
            "\n",
            "'NOT SPECIFIED' predicted as 'APPLICATION (WEB/APP)' : 6 examples.\n"
          ]
        },
        {
          "data": {
            "text/html": [
              "<div>\n",
              "<style scoped>\n",
              "    .dataframe tbody tr th:only-of-type {\n",
              "        vertical-align: middle;\n",
              "    }\n",
              "\n",
              "    .dataframe tbody tr th {\n",
              "        vertical-align: top;\n",
              "    }\n",
              "\n",
              "    .dataframe thead th {\n",
              "        text-align: right;\n",
              "    }\n",
              "</style>\n",
              "<table border=\"1\" class=\"dataframe\">\n",
              "  <thead>\n",
              "    <tr style=\"text-align: right;\">\n",
              "      <th></th>\n",
              "      <th>y</th>\n",
              "      <th>x</th>\n",
              "    </tr>\n",
              "  </thead>\n",
              "  <tbody>\n",
              "    <tr>\n",
              "      <th>527</th>\n",
              "      <td>NOT SPECIFIED</td>\n",
              "      <td>Bad experience</td>\n",
              "    </tr>\n",
              "    <tr>\n",
              "      <th>384</th>\n",
              "      <td>NOT SPECIFIED</td>\n",
              "      <td>I received a info about HDFC life Insurance sh...</td>\n",
              "    </tr>\n",
              "    <tr>\n",
              "      <th>625</th>\n",
              "      <td>NOT SPECIFIED</td>\n",
              "      <td>do not trade with Kotak sec at all</td>\n",
              "    </tr>\n",
              "  </tbody>\n",
              "</table>\n",
              "</div>"
            ],
            "text/plain": [
              "                 y                                                  x\n",
              "527  NOT SPECIFIED                                     Bad experience\n",
              "384  NOT SPECIFIED  I received a info about HDFC life Insurance sh...\n",
              "625  NOT SPECIFIED                 do not trade with Kotak sec at all"
            ]
          },
          "metadata": {},
          "output_type": "display_data"
        },
        {
          "name": "stdout",
          "output_type": "stream",
          "text": [
            "\n",
            "'CHARGES(BRO./DP/LPC ETC.)' predicted as 'APPLICATION (WEB/APP)' : 8 examples.\n"
          ]
        },
        {
          "data": {
            "text/html": [
              "<div>\n",
              "<style scoped>\n",
              "    .dataframe tbody tr th:only-of-type {\n",
              "        vertical-align: middle;\n",
              "    }\n",
              "\n",
              "    .dataframe tbody tr th {\n",
              "        vertical-align: top;\n",
              "    }\n",
              "\n",
              "    .dataframe thead th {\n",
              "        text-align: right;\n",
              "    }\n",
              "</style>\n",
              "<table border=\"1\" class=\"dataframe\">\n",
              "  <thead>\n",
              "    <tr style=\"text-align: right;\">\n",
              "      <th></th>\n",
              "      <th>y</th>\n",
              "      <th>x</th>\n",
              "    </tr>\n",
              "  </thead>\n",
              "  <tbody>\n",
              "    <tr>\n",
              "      <th>705</th>\n",
              "      <td>CHARGES(BRO./DP/LPC ETC.)</td>\n",
              "      <td>I used to be an active customer of yours, but ...</td>\n",
              "    </tr>\n",
              "    <tr>\n",
              "      <th>643</th>\n",
              "      <td>CHARGES(BRO./DP/LPC ETC.)</td>\n",
              "      <td>App experience is very very poor. In web you  ...</td>\n",
              "    </tr>\n",
              "    <tr>\n",
              "      <th>400</th>\n",
              "      <td>CHARGES(BRO./DP/LPC ETC.)</td>\n",
              "      <td>Pl resolve my issue immediately without delay ...</td>\n",
              "    </tr>\n",
              "    <tr>\n",
              "      <th>667</th>\n",
              "      <td>CHARGES(BRO./DP/LPC ETC.)</td>\n",
              "      <td>As and when there are changes in Interest or a...</td>\n",
              "    </tr>\n",
              "    <tr>\n",
              "      <th>600</th>\n",
              "      <td>CHARGES(BRO./DP/LPC ETC.)</td>\n",
              "      <td>1)Kotak online app to mesimplfied.2)I sell sha...</td>\n",
              "    </tr>\n",
              "    <tr>\n",
              "      <th>377</th>\n",
              "      <td>CHARGES(BRO./DP/LPC ETC.)</td>\n",
              "      <td>Brkrage plan is high thats why now  started in...</td>\n",
              "    </tr>\n",
              "  </tbody>\n",
              "</table>\n",
              "</div>"
            ],
            "text/plain": [
              "                             y  \\\n",
              "705  CHARGES(BRO./DP/LPC ETC.)   \n",
              "643  CHARGES(BRO./DP/LPC ETC.)   \n",
              "400  CHARGES(BRO./DP/LPC ETC.)   \n",
              "667  CHARGES(BRO./DP/LPC ETC.)   \n",
              "600  CHARGES(BRO./DP/LPC ETC.)   \n",
              "377  CHARGES(BRO./DP/LPC ETC.)   \n",
              "\n",
              "                                                     x  \n",
              "705  I used to be an active customer of yours, but ...  \n",
              "643  App experience is very very poor. In web you  ...  \n",
              "400  Pl resolve my issue immediately without delay ...  \n",
              "667  As and when there are changes in Interest or a...  \n",
              "600  1)Kotak online app to mesimplfied.2)I sell sha...  \n",
              "377  Brkrage plan is high thats why now  started in...  "
            ]
          },
          "metadata": {},
          "output_type": "display_data"
        },
        {
          "name": "stdout",
          "output_type": "stream",
          "text": [
            "\n",
            "'SERVICE' predicted as 'CHARGES(BRO./DP/LPC ETC.)' : 6 examples.\n"
          ]
        },
        {
          "data": {
            "text/html": [
              "<div>\n",
              "<style scoped>\n",
              "    .dataframe tbody tr th:only-of-type {\n",
              "        vertical-align: middle;\n",
              "    }\n",
              "\n",
              "    .dataframe tbody tr th {\n",
              "        vertical-align: top;\n",
              "    }\n",
              "\n",
              "    .dataframe thead th {\n",
              "        text-align: right;\n",
              "    }\n",
              "</style>\n",
              "<table border=\"1\" class=\"dataframe\">\n",
              "  <thead>\n",
              "    <tr style=\"text-align: right;\">\n",
              "      <th></th>\n",
              "      <th>y</th>\n",
              "      <th>x</th>\n",
              "    </tr>\n",
              "  </thead>\n",
              "  <tbody>\n",
              "    <tr>\n",
              "      <th>0</th>\n",
              "      <td>SERVICE</td>\n",
              "      <td>Querries where Kotak is at disadvantageous pos...</td>\n",
              "    </tr>\n",
              "    <tr>\n",
              "      <th>231</th>\n",
              "      <td>SERVICE</td>\n",
              "      <td>Ask the expert in Chat is seldom helpful.custo...</td>\n",
              "    </tr>\n",
              "  </tbody>\n",
              "</table>\n",
              "</div>"
            ],
            "text/plain": [
              "           y                                                  x\n",
              "0    SERVICE  Querries where Kotak is at disadvantageous pos...\n",
              "231  SERVICE  Ask the expert in Chat is seldom helpful.custo..."
            ]
          },
          "metadata": {},
          "output_type": "display_data"
        },
        {
          "name": "stdout",
          "output_type": "stream",
          "text": [
            "\n"
          ]
        }
      ],
      "source": [
        "# To manually verify why some failed\n",
        "from IPython.display import display\n",
        "\n",
        "for predicted in category_id_df.category_id:\n",
        "    for actual in category_id_df.category_id:\n",
        "        if predicted != actual and conf_mat[actual, predicted] >= 6:\n",
        "            print(\"'{}' predicted as '{}' : {} examples.\".format(id_to_category[actual], id_to_category[predicted], conf_mat[actual, predicted]))\n",
        "            display(df.loc[indices_test[(y_test == actual) & (y_pred == predicted)]][['y', 'x']])\n",
        "            print('')"
      ]
    },
    {
      "cell_type": "code",
      "execution_count": null,
      "metadata": {
        "id": "NS-7FGhLCpf7",
        "outputId": "1f726ab9-0440-40cd-b188-7dfe5918f678"
      },
      "outputs": [
        {
          "name": "stdout",
          "output_type": "stream",
          "text": [
            "                           precision    recall  f1-score   support\n",
            "\n",
            "                  SERVICE       0.59      0.89      0.71       335\n",
            "    APPLICATION (WEB/APP)       0.80      0.71      0.75       262\n",
            "            NOT SPECIFIED       0.71      0.10      0.17       125\n",
            "CHARGES(BRO./DP/LPC ETC.)       0.78      0.58      0.67        55\n",
            "                  PROCESS       0.00      0.00      0.00         3\n",
            "                   PEOPLE       0.75      0.19      0.30        16\n",
            "\n",
            "                 accuracy                           0.66       796\n",
            "                macro avg       0.60      0.41      0.43       796\n",
            "             weighted avg       0.69      0.66      0.62       796\n",
            "\n"
          ]
        },
        {
          "name": "stderr",
          "output_type": "stream",
          "text": [
            "c:\\Users\\HP\\AppData\\Local\\Programs\\Python\\Python39\\lib\\site-packages\\sklearn\\metrics\\_classification.py:1344: UndefinedMetricWarning: Precision and F-score are ill-defined and being set to 0.0 in labels with no predicted samples. Use `zero_division` parameter to control this behavior.\n",
            "  _warn_prf(average, modifier, msg_start, len(result))\n",
            "c:\\Users\\HP\\AppData\\Local\\Programs\\Python\\Python39\\lib\\site-packages\\sklearn\\metrics\\_classification.py:1344: UndefinedMetricWarning: Precision and F-score are ill-defined and being set to 0.0 in labels with no predicted samples. Use `zero_division` parameter to control this behavior.\n",
            "  _warn_prf(average, modifier, msg_start, len(result))\n",
            "c:\\Users\\HP\\AppData\\Local\\Programs\\Python\\Python39\\lib\\site-packages\\sklearn\\metrics\\_classification.py:1344: UndefinedMetricWarning: Precision and F-score are ill-defined and being set to 0.0 in labels with no predicted samples. Use `zero_division` parameter to control this behavior.\n",
            "  _warn_prf(average, modifier, msg_start, len(result))\n"
          ]
        }
      ],
      "source": [
        "# Classification report\n",
        "from sklearn import metrics\n",
        "print(metrics.classification_report(labels, y_pred_overall, target_names=df['y'].unique()))"
      ]
    },
    {
      "cell_type": "code",
      "execution_count": null,
      "metadata": {
        "id": "cPqdVK-4Cpf8"
      },
      "outputs": [],
      "source": []
    }
  ],
  "metadata": {
    "kernelspec": {
      "display_name": "Python 3",
      "language": "python",
      "name": "python3"
    },
    "language_info": {
      "codemirror_mode": {
        "name": "ipython",
        "version": 3
      },
      "file_extension": ".py",
      "mimetype": "text/x-python",
      "name": "python",
      "nbconvert_exporter": "python",
      "pygments_lexer": "ipython3",
      "version": "3.9.11"
    },
    "orig_nbformat": 4,
    "colab": {
      "provenance": [],
      "include_colab_link": true
    }
  },
  "nbformat": 4,
  "nbformat_minor": 0
}